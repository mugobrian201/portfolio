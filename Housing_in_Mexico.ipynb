{
  "nbformat": 4,
  "nbformat_minor": 0,
  "metadata": {
    "colab": {
      "provenance": [],
      "authorship_tag": "ABX9TyNvtIMlfa6fqABUzOWh0t1H",
      "include_colab_link": true
    },
    "kernelspec": {
      "name": "python3",
      "display_name": "Python 3"
    },
    "language_info": {
      "name": "python"
    }
  },
  "cells": [
    {
      "cell_type": "markdown",
      "metadata": {
        "id": "view-in-github",
        "colab_type": "text"
      },
      "source": [
        "<a href=\"https://colab.research.google.com/github/mugobrian201/portfolio/blob/main/Housing_in_Mexico.ipynb\" target=\"_parent\"><img src=\"https://colab.research.google.com/assets/colab-badge.svg\" alt=\"Open In Colab\"/></a>"
      ]
    },
    {
      "cell_type": "markdown",
      "source": [
        "# WHAT DRIVES REAL ESTATE PRICES IN MEXICO? A DATA-DRIVEN ANALYSIS\n"
      ],
      "metadata": {
        "id": "m8hdoEJNmnXc"
      }
    },
    {
      "cell_type": "code",
      "source": [
        "# Install the kagglehub library\n",
        "!pip install kagglehub\n",
        "\n",
        "# Import essential libraries\n",
        "import pandas as pd\n",
        "import numpy as np\n",
        "import matplotlib.pyplot as plt\n",
        "import seaborn as sns\n",
        "import plotly.express as px\n",
        "\n",
        "# This makes your plots show up directly in the notebook\n",
        "%matplotlib inline"
      ],
      "metadata": {
        "colab": {
          "base_uri": "https://localhost:8080/"
        },
        "id": "3t_kI4p6cTh5",
        "outputId": "bc169629-65ab-4cc3-85ea-ab288276849a"
      },
      "execution_count": null,
      "outputs": [
        {
          "output_type": "stream",
          "name": "stdout",
          "text": [
            "Requirement already satisfied: kagglehub in /usr/local/lib/python3.12/dist-packages (0.3.13)\n",
            "Requirement already satisfied: packaging in /usr/local/lib/python3.12/dist-packages (from kagglehub) (25.0)\n",
            "Requirement already satisfied: pyyaml in /usr/local/lib/python3.12/dist-packages (from kagglehub) (6.0.2)\n",
            "Requirement already satisfied: requests in /usr/local/lib/python3.12/dist-packages (from kagglehub) (2.32.4)\n",
            "Requirement already satisfied: tqdm in /usr/local/lib/python3.12/dist-packages (from kagglehub) (4.67.1)\n",
            "Requirement already satisfied: charset_normalizer<4,>=2 in /usr/local/lib/python3.12/dist-packages (from requests->kagglehub) (3.4.3)\n",
            "Requirement already satisfied: idna<4,>=2.5 in /usr/local/lib/python3.12/dist-packages (from requests->kagglehub) (3.10)\n",
            "Requirement already satisfied: urllib3<3,>=1.21.1 in /usr/local/lib/python3.12/dist-packages (from requests->kagglehub) (2.5.0)\n",
            "Requirement already satisfied: certifi>=2017.4.17 in /usr/local/lib/python3.12/dist-packages (from requests->kagglehub) (2025.8.3)\n"
          ]
        }
      ]
    },
    {
      "cell_type": "code",
      "source": [
        "from google.colab import files\n",
        "files.upload()"
      ],
      "metadata": {
        "id": "mDvRgzPFzegb"
      },
      "execution_count": null,
      "outputs": []
    },
    {
      "cell_type": "markdown",
      "source": [
        "IMPORTING THE CSV FILES"
      ],
      "metadata": {
        "id": "rhqhEGzG0hMi"
      }
    },
    {
      "cell_type": "code",
      "source": [
        "df = pd.read_csv(\"mexico-city-real-estate-1.csv\")\n",
        "print(\"Information :\", df.info())"
      ],
      "metadata": {
        "colab": {
          "base_uri": "https://localhost:8080/"
        },
        "id": "151x142whEm5",
        "outputId": "c166e267-d100-4d07-e223-36fbc428f27d"
      },
      "execution_count": null,
      "outputs": [
        {
          "output_type": "stream",
          "name": "stdout",
          "text": [
            "<class 'pandas.core.frame.DataFrame'>\n",
            "RangeIndex: 4628 entries, 0 to 4627\n",
            "Data columns (total 16 columns):\n",
            " #   Column                      Non-Null Count  Dtype  \n",
            "---  ------                      --------------  -----  \n",
            " 0   operation                   4628 non-null   object \n",
            " 1   property_type               4628 non-null   object \n",
            " 2   place_with_parent_names     4628 non-null   object \n",
            " 3   lat-lon                     4144 non-null   object \n",
            " 4   price                       4538 non-null   float64\n",
            " 5   currency                    4538 non-null   object \n",
            " 6   price_aprox_local_currency  4538 non-null   float64\n",
            " 7   price_aprox_usd             4538 non-null   float64\n",
            " 8   surface_total_in_m2         1668 non-null   float64\n",
            " 9   surface_covered_in_m2       4436 non-null   float64\n",
            " 10  price_usd_per_m2            1150 non-null   float64\n",
            " 11  price_per_m2                4249 non-null   float64\n",
            " 12  floor                       291 non-null    float64\n",
            " 13  rooms                       136 non-null    float64\n",
            " 14  expenses                    5 non-null      float64\n",
            " 15  properati_url               4628 non-null   object \n",
            "dtypes: float64(10), object(6)\n",
            "memory usage: 578.6+ KB\n",
            "Information : None\n"
          ]
        }
      ]
    },
    {
      "cell_type": "markdown",
      "source": [
        "DATA INSPECTION\n",
        "Cleaning the DataFrame\n",
        "\n",
        "\n"
      ],
      "metadata": {
        "id": "D1H9OyyL2aIg"
      }
    },
    {
      "cell_type": "code",
      "source": [
        "#df1 inspection\n",
        "print(df.shape)\n",
        "print(df.info())\n",
        "print(df.head())"
      ],
      "metadata": {
        "id": "A1la3ZozjuPX",
        "colab": {
          "base_uri": "https://localhost:8080/"
        },
        "outputId": "e6e05c1d-9cb0-4a6d-9838-5b995d372047"
      },
      "execution_count": null,
      "outputs": [
        {
          "output_type": "stream",
          "name": "stdout",
          "text": [
            "(4628, 16)\n",
            "<class 'pandas.core.frame.DataFrame'>\n",
            "RangeIndex: 4628 entries, 0 to 4627\n",
            "Data columns (total 16 columns):\n",
            " #   Column                      Non-Null Count  Dtype  \n",
            "---  ------                      --------------  -----  \n",
            " 0   operation                   4628 non-null   object \n",
            " 1   property_type               4628 non-null   object \n",
            " 2   place_with_parent_names     4628 non-null   object \n",
            " 3   lat-lon                     4144 non-null   object \n",
            " 4   price                       4538 non-null   float64\n",
            " 5   currency                    4538 non-null   object \n",
            " 6   price_aprox_local_currency  4538 non-null   float64\n",
            " 7   price_aprox_usd             4538 non-null   float64\n",
            " 8   surface_total_in_m2         1668 non-null   float64\n",
            " 9   surface_covered_in_m2       4436 non-null   float64\n",
            " 10  price_usd_per_m2            1150 non-null   float64\n",
            " 11  price_per_m2                4249 non-null   float64\n",
            " 12  floor                       291 non-null    float64\n",
            " 13  rooms                       136 non-null    float64\n",
            " 14  expenses                    5 non-null      float64\n",
            " 15  properati_url               4628 non-null   object \n",
            "dtypes: float64(10), object(6)\n",
            "memory usage: 578.6+ KB\n",
            "None\n",
            "  operation property_type                   place_with_parent_names  \\\n",
            "0      sell     apartment  |Miguel Hidalgo|Distrito Federal|México|   \n",
            "1      sell         house      |Iztapalapa|Distrito Federal|México|   \n",
            "2      sell     apartment         |Tlalpan|Distrito Federal|México|   \n",
            "3      sell     apartment  |Miguel Hidalgo|Distrito Federal|México|   \n",
            "4      sell     apartment       |Benito Juárez|Quintana Roo|México|   \n",
            "\n",
            "                  lat-lon      price currency  price_aprox_local_currency  \\\n",
            "0   23.634501,-102.552788  5500000.0      MXN                  5450245.50   \n",
            "1     19.31033,-99.068557  1512000.0      MXN                  1498321.97   \n",
            "2    19.279771,-99.234597   926667.0      MXN                   918284.00   \n",
            "3   23.634501,-102.552788  6410000.0      MXN                  6352013.39   \n",
            "4  21.1902642,-86.8198375   875000.0      USD                 16457437.50   \n",
            "\n",
            "   price_aprox_usd  surface_total_in_m2  surface_covered_in_m2  \\\n",
            "0        289775.66                  NaN                   54.0   \n",
            "1         79661.96                  NaN                   80.0   \n",
            "2         48822.82                  NaN                  100.0   \n",
            "3        337720.36                  NaN                  135.0   \n",
            "4        875000.00                  0.0                  263.0   \n",
            "\n",
            "   price_usd_per_m2   price_per_m2  floor  rooms  expenses  \\\n",
            "0               NaN  101851.851900    NaN    NaN       NaN   \n",
            "1               NaN   18900.000000    NaN    NaN       NaN   \n",
            "2               NaN    9266.670000    NaN    NaN       NaN   \n",
            "3               NaN   47481.481480    NaN    NaN       NaN   \n",
            "4               NaN    3326.996198    NaN    NaN       NaN   \n",
            "\n",
            "                                       properati_url  \n",
            "0  http://miguel-hidalgo-df.properati.com.mx/o3zb...  \n",
            "1  http://iztapalapa.properati.com.mx/q7t0_venta_...  \n",
            "2  http://tlalpan.properati.com.mx/qbi4_venta_dep...  \n",
            "3  http://miguel-hidalgo-df.properati.com.mx/opeq...  \n",
            "4  http://cancun.properati.com.mx/hg4t_venta_depa...  \n"
          ]
        }
      ]
    },
    {
      "cell_type": "code",
      "source": [
        "#Drop Columns that are irrevelant and have too many missing values, that will not be useful for my goal\n",
        "df.drop(columns=['expenses', 'rooms', 'floor', 'price_usd_per_m2', 'currency'], inplace=True)"
      ],
      "metadata": {
        "id": "9IjOKtbx2xKC"
      },
      "execution_count": null,
      "outputs": []
    },
    {
      "cell_type": "code",
      "source": [
        "#Drop NaN Values\n",
        "df.dropna(inplace=True)"
      ],
      "metadata": {
        "id": "FixqOvk74qXS"
      },
      "execution_count": null,
      "outputs": []
    },
    {
      "cell_type": "code",
      "source": [
        "df.info()"
      ],
      "metadata": {
        "colab": {
          "base_uri": "https://localhost:8080/"
        },
        "id": "YjC9Jp3F_F2H",
        "outputId": "1e6679a5-2d77-4bac-9277-d831a7fa88b6"
      },
      "execution_count": null,
      "outputs": [
        {
          "output_type": "stream",
          "name": "stdout",
          "text": [
            "<class 'pandas.core.frame.DataFrame'>\n",
            "Index: 1103 entries, 4 to 4625\n",
            "Data columns (total 11 columns):\n",
            " #   Column                      Non-Null Count  Dtype  \n",
            "---  ------                      --------------  -----  \n",
            " 0   operation                   1103 non-null   object \n",
            " 1   property_type               1103 non-null   object \n",
            " 2   place_with_parent_names     1103 non-null   object \n",
            " 3   lat-lon                     1103 non-null   object \n",
            " 4   price                       1103 non-null   float64\n",
            " 5   price_aprox_local_currency  1103 non-null   float64\n",
            " 6   price_aprox_usd             1103 non-null   float64\n",
            " 7   surface_total_in_m2         1103 non-null   float64\n",
            " 8   surface_covered_in_m2       1103 non-null   float64\n",
            " 9   price_per_m2                1103 non-null   float64\n",
            " 10  properati_url               1103 non-null   object \n",
            "dtypes: float64(6), object(5)\n",
            "memory usage: 103.4+ KB\n"
          ]
        }
      ]
    },
    {
      "cell_type": "code",
      "source": [
        "df.head()"
      ],
      "metadata": {
        "colab": {
          "base_uri": "https://localhost:8080/",
          "height": 400
        },
        "id": "H9QIQeDn_TUa",
        "outputId": "8cb6785a-5ade-4721-9f84-3c0d5e6ef739"
      },
      "execution_count": null,
      "outputs": [
        {
          "output_type": "execute_result",
          "data": {
            "text/plain": [
              "   operation property_type                  place_with_parent_names  \\\n",
              "4       sell     apartment      |Benito Juárez|Quintana Roo|México|   \n",
              "12      sell     apartment        |Solidaridad|Quintana Roo|México|   \n",
              "13      sell     apartment  |Benito Juárez|Distrito Federal|México|   \n",
              "15      sell     apartment      |Benito Juárez|Quintana Roo|México|   \n",
              "20      sell     apartment      |Iztacalco|Distrito Federal|México|   \n",
              "\n",
              "                         lat-lon      price  price_aprox_local_currency  \\\n",
              "4         21.1902642,-86.8198375   875000.0                 16457437.50   \n",
              "12  20.4987828982,-87.2228193283   300000.0                  5642550.00   \n",
              "13        19.3794059,-99.1591446  3272300.0                  3243466.76   \n",
              "15  21.0511211635,-86.7828512192   115000.0                  2162977.50   \n",
              "20        19.4024128,-99.0953907  1345000.0                  1333148.73   \n",
              "\n",
              "    price_aprox_usd  surface_total_in_m2  surface_covered_in_m2  price_per_m2  \\\n",
              "4         875000.00                  0.0                  263.0   3326.996198   \n",
              "12        300000.00               1500.0                  160.0   1875.000000   \n",
              "13        172446.86                  0.0                   83.0  39425.301200   \n",
              "15        115000.00                 49.0                   49.0   2346.938776   \n",
              "20         70880.12                 56.0                   56.0  24017.857140   \n",
              "\n",
              "                                        properati_url  \n",
              "4   http://cancun.properati.com.mx/hg4t_venta_depa...  \n",
              "12  http://playa-del-carmen.properati.com.mx/esmj_...  \n",
              "13  http://benito-juarez.properati.com.mx/qc0v_ven...  \n",
              "15  http://cancun.properati.com.mx/jh5k_venta_depa...  \n",
              "20  http://iztacalco.properati.com.mx/r6gm_venta_d...  "
            ],
            "text/html": [
              "\n",
              "  <div id=\"df-7f8e1c61-7139-4002-86ce-4430488e4f1a\" class=\"colab-df-container\">\n",
              "    <div>\n",
              "<style scoped>\n",
              "    .dataframe tbody tr th:only-of-type {\n",
              "        vertical-align: middle;\n",
              "    }\n",
              "\n",
              "    .dataframe tbody tr th {\n",
              "        vertical-align: top;\n",
              "    }\n",
              "\n",
              "    .dataframe thead th {\n",
              "        text-align: right;\n",
              "    }\n",
              "</style>\n",
              "<table border=\"1\" class=\"dataframe\">\n",
              "  <thead>\n",
              "    <tr style=\"text-align: right;\">\n",
              "      <th></th>\n",
              "      <th>operation</th>\n",
              "      <th>property_type</th>\n",
              "      <th>place_with_parent_names</th>\n",
              "      <th>lat-lon</th>\n",
              "      <th>price</th>\n",
              "      <th>price_aprox_local_currency</th>\n",
              "      <th>price_aprox_usd</th>\n",
              "      <th>surface_total_in_m2</th>\n",
              "      <th>surface_covered_in_m2</th>\n",
              "      <th>price_per_m2</th>\n",
              "      <th>properati_url</th>\n",
              "    </tr>\n",
              "  </thead>\n",
              "  <tbody>\n",
              "    <tr>\n",
              "      <th>4</th>\n",
              "      <td>sell</td>\n",
              "      <td>apartment</td>\n",
              "      <td>|Benito Juárez|Quintana Roo|México|</td>\n",
              "      <td>21.1902642,-86.8198375</td>\n",
              "      <td>875000.0</td>\n",
              "      <td>16457437.50</td>\n",
              "      <td>875000.00</td>\n",
              "      <td>0.0</td>\n",
              "      <td>263.0</td>\n",
              "      <td>3326.996198</td>\n",
              "      <td>http://cancun.properati.com.mx/hg4t_venta_depa...</td>\n",
              "    </tr>\n",
              "    <tr>\n",
              "      <th>12</th>\n",
              "      <td>sell</td>\n",
              "      <td>apartment</td>\n",
              "      <td>|Solidaridad|Quintana Roo|México|</td>\n",
              "      <td>20.4987828982,-87.2228193283</td>\n",
              "      <td>300000.0</td>\n",
              "      <td>5642550.00</td>\n",
              "      <td>300000.00</td>\n",
              "      <td>1500.0</td>\n",
              "      <td>160.0</td>\n",
              "      <td>1875.000000</td>\n",
              "      <td>http://playa-del-carmen.properati.com.mx/esmj_...</td>\n",
              "    </tr>\n",
              "    <tr>\n",
              "      <th>13</th>\n",
              "      <td>sell</td>\n",
              "      <td>apartment</td>\n",
              "      <td>|Benito Juárez|Distrito Federal|México|</td>\n",
              "      <td>19.3794059,-99.1591446</td>\n",
              "      <td>3272300.0</td>\n",
              "      <td>3243466.76</td>\n",
              "      <td>172446.86</td>\n",
              "      <td>0.0</td>\n",
              "      <td>83.0</td>\n",
              "      <td>39425.301200</td>\n",
              "      <td>http://benito-juarez.properati.com.mx/qc0v_ven...</td>\n",
              "    </tr>\n",
              "    <tr>\n",
              "      <th>15</th>\n",
              "      <td>sell</td>\n",
              "      <td>apartment</td>\n",
              "      <td>|Benito Juárez|Quintana Roo|México|</td>\n",
              "      <td>21.0511211635,-86.7828512192</td>\n",
              "      <td>115000.0</td>\n",
              "      <td>2162977.50</td>\n",
              "      <td>115000.00</td>\n",
              "      <td>49.0</td>\n",
              "      <td>49.0</td>\n",
              "      <td>2346.938776</td>\n",
              "      <td>http://cancun.properati.com.mx/jh5k_venta_depa...</td>\n",
              "    </tr>\n",
              "    <tr>\n",
              "      <th>20</th>\n",
              "      <td>sell</td>\n",
              "      <td>apartment</td>\n",
              "      <td>|Iztacalco|Distrito Federal|México|</td>\n",
              "      <td>19.4024128,-99.0953907</td>\n",
              "      <td>1345000.0</td>\n",
              "      <td>1333148.73</td>\n",
              "      <td>70880.12</td>\n",
              "      <td>56.0</td>\n",
              "      <td>56.0</td>\n",
              "      <td>24017.857140</td>\n",
              "      <td>http://iztacalco.properati.com.mx/r6gm_venta_d...</td>\n",
              "    </tr>\n",
              "  </tbody>\n",
              "</table>\n",
              "</div>\n",
              "    <div class=\"colab-df-buttons\">\n",
              "\n",
              "  <div class=\"colab-df-container\">\n",
              "    <button class=\"colab-df-convert\" onclick=\"convertToInteractive('df-7f8e1c61-7139-4002-86ce-4430488e4f1a')\"\n",
              "            title=\"Convert this dataframe to an interactive table.\"\n",
              "            style=\"display:none;\">\n",
              "\n",
              "  <svg xmlns=\"http://www.w3.org/2000/svg\" height=\"24px\" viewBox=\"0 -960 960 960\">\n",
              "    <path d=\"M120-120v-720h720v720H120Zm60-500h600v-160H180v160Zm220 220h160v-160H400v160Zm0 220h160v-160H400v160ZM180-400h160v-160H180v160Zm440 0h160v-160H620v160ZM180-180h160v-160H180v160Zm440 0h160v-160H620v160Z\"/>\n",
              "  </svg>\n",
              "    </button>\n",
              "\n",
              "  <style>\n",
              "    .colab-df-container {\n",
              "      display:flex;\n",
              "      gap: 12px;\n",
              "    }\n",
              "\n",
              "    .colab-df-convert {\n",
              "      background-color: #E8F0FE;\n",
              "      border: none;\n",
              "      border-radius: 50%;\n",
              "      cursor: pointer;\n",
              "      display: none;\n",
              "      fill: #1967D2;\n",
              "      height: 32px;\n",
              "      padding: 0 0 0 0;\n",
              "      width: 32px;\n",
              "    }\n",
              "\n",
              "    .colab-df-convert:hover {\n",
              "      background-color: #E2EBFA;\n",
              "      box-shadow: 0px 1px 2px rgba(60, 64, 67, 0.3), 0px 1px 3px 1px rgba(60, 64, 67, 0.15);\n",
              "      fill: #174EA6;\n",
              "    }\n",
              "\n",
              "    .colab-df-buttons div {\n",
              "      margin-bottom: 4px;\n",
              "    }\n",
              "\n",
              "    [theme=dark] .colab-df-convert {\n",
              "      background-color: #3B4455;\n",
              "      fill: #D2E3FC;\n",
              "    }\n",
              "\n",
              "    [theme=dark] .colab-df-convert:hover {\n",
              "      background-color: #434B5C;\n",
              "      box-shadow: 0px 1px 3px 1px rgba(0, 0, 0, 0.15);\n",
              "      filter: drop-shadow(0px 1px 2px rgba(0, 0, 0, 0.3));\n",
              "      fill: #FFFFFF;\n",
              "    }\n",
              "  </style>\n",
              "\n",
              "    <script>\n",
              "      const buttonEl =\n",
              "        document.querySelector('#df-7f8e1c61-7139-4002-86ce-4430488e4f1a button.colab-df-convert');\n",
              "      buttonEl.style.display =\n",
              "        google.colab.kernel.accessAllowed ? 'block' : 'none';\n",
              "\n",
              "      async function convertToInteractive(key) {\n",
              "        const element = document.querySelector('#df-7f8e1c61-7139-4002-86ce-4430488e4f1a');\n",
              "        const dataTable =\n",
              "          await google.colab.kernel.invokeFunction('convertToInteractive',\n",
              "                                                    [key], {});\n",
              "        if (!dataTable) return;\n",
              "\n",
              "        const docLinkHtml = 'Like what you see? Visit the ' +\n",
              "          '<a target=\"_blank\" href=https://colab.research.google.com/notebooks/data_table.ipynb>data table notebook</a>'\n",
              "          + ' to learn more about interactive tables.';\n",
              "        element.innerHTML = '';\n",
              "        dataTable['output_type'] = 'display_data';\n",
              "        await google.colab.output.renderOutput(dataTable, element);\n",
              "        const docLink = document.createElement('div');\n",
              "        docLink.innerHTML = docLinkHtml;\n",
              "        element.appendChild(docLink);\n",
              "      }\n",
              "    </script>\n",
              "  </div>\n",
              "\n",
              "\n",
              "    <div id=\"df-b3f1b7d5-96b5-4510-a3a8-3fe552a7416d\">\n",
              "      <button class=\"colab-df-quickchart\" onclick=\"quickchart('df-b3f1b7d5-96b5-4510-a3a8-3fe552a7416d')\"\n",
              "                title=\"Suggest charts\"\n",
              "                style=\"display:none;\">\n",
              "\n",
              "<svg xmlns=\"http://www.w3.org/2000/svg\" height=\"24px\"viewBox=\"0 0 24 24\"\n",
              "     width=\"24px\">\n",
              "    <g>\n",
              "        <path d=\"M19 3H5c-1.1 0-2 .9-2 2v14c0 1.1.9 2 2 2h14c1.1 0 2-.9 2-2V5c0-1.1-.9-2-2-2zM9 17H7v-7h2v7zm4 0h-2V7h2v10zm4 0h-2v-4h2v4z\"/>\n",
              "    </g>\n",
              "</svg>\n",
              "      </button>\n",
              "\n",
              "<style>\n",
              "  .colab-df-quickchart {\n",
              "      --bg-color: #E8F0FE;\n",
              "      --fill-color: #1967D2;\n",
              "      --hover-bg-color: #E2EBFA;\n",
              "      --hover-fill-color: #174EA6;\n",
              "      --disabled-fill-color: #AAA;\n",
              "      --disabled-bg-color: #DDD;\n",
              "  }\n",
              "\n",
              "  [theme=dark] .colab-df-quickchart {\n",
              "      --bg-color: #3B4455;\n",
              "      --fill-color: #D2E3FC;\n",
              "      --hover-bg-color: #434B5C;\n",
              "      --hover-fill-color: #FFFFFF;\n",
              "      --disabled-bg-color: #3B4455;\n",
              "      --disabled-fill-color: #666;\n",
              "  }\n",
              "\n",
              "  .colab-df-quickchart {\n",
              "    background-color: var(--bg-color);\n",
              "    border: none;\n",
              "    border-radius: 50%;\n",
              "    cursor: pointer;\n",
              "    display: none;\n",
              "    fill: var(--fill-color);\n",
              "    height: 32px;\n",
              "    padding: 0;\n",
              "    width: 32px;\n",
              "  }\n",
              "\n",
              "  .colab-df-quickchart:hover {\n",
              "    background-color: var(--hover-bg-color);\n",
              "    box-shadow: 0 1px 2px rgba(60, 64, 67, 0.3), 0 1px 3px 1px rgba(60, 64, 67, 0.15);\n",
              "    fill: var(--button-hover-fill-color);\n",
              "  }\n",
              "\n",
              "  .colab-df-quickchart-complete:disabled,\n",
              "  .colab-df-quickchart-complete:disabled:hover {\n",
              "    background-color: var(--disabled-bg-color);\n",
              "    fill: var(--disabled-fill-color);\n",
              "    box-shadow: none;\n",
              "  }\n",
              "\n",
              "  .colab-df-spinner {\n",
              "    border: 2px solid var(--fill-color);\n",
              "    border-color: transparent;\n",
              "    border-bottom-color: var(--fill-color);\n",
              "    animation:\n",
              "      spin 1s steps(1) infinite;\n",
              "  }\n",
              "\n",
              "  @keyframes spin {\n",
              "    0% {\n",
              "      border-color: transparent;\n",
              "      border-bottom-color: var(--fill-color);\n",
              "      border-left-color: var(--fill-color);\n",
              "    }\n",
              "    20% {\n",
              "      border-color: transparent;\n",
              "      border-left-color: var(--fill-color);\n",
              "      border-top-color: var(--fill-color);\n",
              "    }\n",
              "    30% {\n",
              "      border-color: transparent;\n",
              "      border-left-color: var(--fill-color);\n",
              "      border-top-color: var(--fill-color);\n",
              "      border-right-color: var(--fill-color);\n",
              "    }\n",
              "    40% {\n",
              "      border-color: transparent;\n",
              "      border-right-color: var(--fill-color);\n",
              "      border-top-color: var(--fill-color);\n",
              "    }\n",
              "    60% {\n",
              "      border-color: transparent;\n",
              "      border-right-color: var(--fill-color);\n",
              "    }\n",
              "    80% {\n",
              "      border-color: transparent;\n",
              "      border-right-color: var(--fill-color);\n",
              "      border-bottom-color: var(--fill-color);\n",
              "    }\n",
              "    90% {\n",
              "      border-color: transparent;\n",
              "      border-bottom-color: var(--fill-color);\n",
              "    }\n",
              "  }\n",
              "</style>\n",
              "\n",
              "      <script>\n",
              "        async function quickchart(key) {\n",
              "          const quickchartButtonEl =\n",
              "            document.querySelector('#' + key + ' button');\n",
              "          quickchartButtonEl.disabled = true;  // To prevent multiple clicks.\n",
              "          quickchartButtonEl.classList.add('colab-df-spinner');\n",
              "          try {\n",
              "            const charts = await google.colab.kernel.invokeFunction(\n",
              "                'suggestCharts', [key], {});\n",
              "          } catch (error) {\n",
              "            console.error('Error during call to suggestCharts:', error);\n",
              "          }\n",
              "          quickchartButtonEl.classList.remove('colab-df-spinner');\n",
              "          quickchartButtonEl.classList.add('colab-df-quickchart-complete');\n",
              "        }\n",
              "        (() => {\n",
              "          let quickchartButtonEl =\n",
              "            document.querySelector('#df-b3f1b7d5-96b5-4510-a3a8-3fe552a7416d button');\n",
              "          quickchartButtonEl.style.display =\n",
              "            google.colab.kernel.accessAllowed ? 'block' : 'none';\n",
              "        })();\n",
              "      </script>\n",
              "    </div>\n",
              "\n",
              "    </div>\n",
              "  </div>\n"
            ],
            "application/vnd.google.colaboratory.intrinsic+json": {
              "type": "dataframe",
              "variable_name": "df",
              "summary": "{\n  \"name\": \"df\",\n  \"rows\": 1103,\n  \"fields\": [\n    {\n      \"column\": \"operation\",\n      \"properties\": {\n        \"dtype\": \"category\",\n        \"num_unique_values\": 1,\n        \"samples\": [\n          \"sell\"\n        ],\n        \"semantic_type\": \"\",\n        \"description\": \"\"\n      }\n    },\n    {\n      \"column\": \"property_type\",\n      \"properties\": {\n        \"dtype\": \"category\",\n        \"num_unique_values\": 3,\n        \"samples\": [\n          \"apartment\"\n        ],\n        \"semantic_type\": \"\",\n        \"description\": \"\"\n      }\n    },\n    {\n      \"column\": \"place_with_parent_names\",\n      \"properties\": {\n        \"dtype\": \"category\",\n        \"num_unique_values\": 23,\n        \"samples\": [\n          \"|Playa del Carmen|Solidaridad|Quintana Roo|M\\u00e9xico|\"\n        ],\n        \"semantic_type\": \"\",\n        \"description\": \"\"\n      }\n    },\n    {\n      \"column\": \"lat-lon\",\n      \"properties\": {\n        \"dtype\": \"string\",\n        \"num_unique_values\": 744,\n        \"samples\": [\n          \"21.1637632294,-86.8070280868\"\n        ],\n        \"semantic_type\": \"\",\n        \"description\": \"\"\n      }\n    },\n    {\n      \"column\": \"price\",\n      \"properties\": {\n        \"dtype\": \"number\",\n        \"std\": 6970212.723312969,\n        \"min\": 45000.0,\n        \"max\": 160000000.0,\n        \"num_unique_values\": 597,\n        \"samples\": [\n          4996000.0\n        ],\n        \"semantic_type\": \"\",\n        \"description\": \"\"\n      }\n    },\n    {\n      \"column\": \"price_aprox_local_currency\",\n      \"properties\": {\n        \"dtype\": \"number\",\n        \"std\": 18084563.048087362,\n        \"min\": 147156.57,\n        \"max\": 377686811.5,\n        \"num_unique_values\": 751,\n        \"samples\": [\n          2101320.03\n        ],\n        \"semantic_type\": \"\",\n        \"description\": \"\"\n      }\n    },\n    {\n      \"column\": \"price_aprox_usd\",\n      \"properties\": {\n        \"dtype\": \"number\",\n        \"std\": 961510.117618518,\n        \"min\": 7823.94,\n        \"max\": 20080645.0,\n        \"num_unique_values\": 751,\n        \"samples\": [\n          111721.83\n        ],\n        \"semantic_type\": \"\",\n        \"description\": \"\"\n      }\n    },\n    {\n      \"column\": \"surface_total_in_m2\",\n      \"properties\": {\n        \"dtype\": \"number\",\n        \"std\": 1666.7785212709207,\n        \"min\": 0.0,\n        \"max\": 40000.0,\n        \"num_unique_values\": 351,\n        \"samples\": [\n          44.0\n        ],\n        \"semantic_type\": \"\",\n        \"description\": \"\"\n      }\n    },\n    {\n      \"column\": \"surface_covered_in_m2\",\n      \"properties\": {\n        \"dtype\": \"number\",\n        \"std\": 276.62697158996224,\n        \"min\": 1.0,\n        \"max\": 4500.0,\n        \"num_unique_values\": 371,\n        \"samples\": [\n          645.0\n        ],\n        \"semantic_type\": \"\",\n        \"description\": \"\"\n      }\n    },\n    {\n      \"column\": \"price_per_m2\",\n      \"properties\": {\n        \"dtype\": \"number\",\n        \"std\": 147175.86142638462,\n        \"min\": 131.846049,\n        \"max\": 4750000.0,\n        \"num_unique_values\": 965,\n        \"samples\": [\n          14864.86486\n        ],\n        \"semantic_type\": \"\",\n        \"description\": \"\"\n      }\n    },\n    {\n      \"column\": \"properati_url\",\n      \"properties\": {\n        \"dtype\": \"string\",\n        \"num_unique_values\": 1103,\n        \"samples\": [\n          \"http://cancun.properati.com.mx/pqex_venta_casa_cancun_caribbean-view-realty\"\n        ],\n        \"semantic_type\": \"\",\n        \"description\": \"\"\n      }\n    }\n  ]\n}"
            }
          },
          "metadata": {},
          "execution_count": 8
        }
      ]
    },
    {
      "cell_type": "markdown",
      "source": [
        "\n",
        "\n",
        "1.   There is a single \"lat-lon\" columns, they need to be separate, one for lat, the other for lon\n",
        "2.   Instead of \"state\" column, there is \"place with parent names\" with district,state and country. We need to split and get state column only.\n",
        "\n"
      ],
      "metadata": {
        "id": "56W2GlUHBb9b"
      }
    },
    {
      "cell_type": "code",
      "source": [
        "#Separate 'lat-lon' columns\n",
        "df[[\"lat\", \"lon\"]] = df[\"lat-lon\"].str.split(\",\", expand=True)"
      ],
      "metadata": {
        "id": "9Nb1ttEOBAoL"
      },
      "execution_count": null,
      "outputs": []
    },
    {
      "cell_type": "code",
      "source": [
        "#Separate 'place_with_parent_names' column\n",
        "df[\"State\"] = df[\"place_with_parent_names\"].str.split(\"|\", expand=True)[2]"
      ],
      "metadata": {
        "id": "4_Nl2zJqCx5e"
      },
      "execution_count": null,
      "outputs": []
    },
    {
      "cell_type": "code",
      "source": [
        "#Drop \"place_with_parent_names\" and \"lat-lon\" columns\n",
        "df.drop(columns = [\"place_with_parent_names\", \"lat-lon\"], inplace = True)"
      ],
      "metadata": {
        "id": "AXvXx2eKDgNV"
      },
      "execution_count": null,
      "outputs": []
    },
    {
      "cell_type": "markdown",
      "source": [
        "After Cleaning, time to save the clean CSV File"
      ],
      "metadata": {
        "id": "wxE2ra51Eg35"
      }
    },
    {
      "cell_type": "code",
      "source": [
        "from google.colab import drive\n",
        "drive.mount('/content/drive')"
      ],
      "metadata": {
        "colab": {
          "base_uri": "https://localhost:8080/"
        },
        "id": "I9ShX8e9FL9P",
        "outputId": "ecaebb5d-3ab4-4d3b-85ce-30fe238ed20b"
      },
      "execution_count": null,
      "outputs": [
        {
          "output_type": "stream",
          "name": "stdout",
          "text": [
            "Mounted at /content/drive\n"
          ]
        }
      ]
    },
    {
      "cell_type": "code",
      "source": [
        "# Save your cleaned DataFrame to Google Drive\n",
        "df.to_csv('/content/drive/MyDrive/cleaned_property_data.csv', index=False)\n",
        "print(\"File saved successfully to Google Drive!\")"
      ],
      "metadata": {
        "colab": {
          "base_uri": "https://localhost:8080/"
        },
        "id": "SbNXrsfWF7pL",
        "outputId": "aabaa0fe-f579-4409-ff92-6773cb08b36a"
      },
      "execution_count": null,
      "outputs": [
        {
          "output_type": "stream",
          "name": "stdout",
          "text": [
            "File saved successfully to Google Drive!\n"
          ]
        }
      ]
    },
    {
      "cell_type": "code",
      "source": [
        "df.head()"
      ],
      "metadata": {
        "colab": {
          "base_uri": "https://localhost:8080/",
          "height": 400
        },
        "id": "GJRsNf1IMgUq",
        "outputId": "978c57f6-c0bd-4a40-8d2f-75a6ceb25e90"
      },
      "execution_count": null,
      "outputs": [
        {
          "output_type": "execute_result",
          "data": {
            "text/plain": [
              "   operation property_type      price  price_aprox_local_currency  \\\n",
              "4       sell     apartment   875000.0                 16457437.50   \n",
              "12      sell     apartment   300000.0                  5642550.00   \n",
              "13      sell     apartment  3272300.0                  3243466.76   \n",
              "15      sell     apartment   115000.0                  2162977.50   \n",
              "20      sell     apartment  1345000.0                  1333148.73   \n",
              "\n",
              "    price_aprox_usd  surface_total_in_m2  surface_covered_in_m2  price_per_m2  \\\n",
              "4         875000.00                  0.0                  263.0   3326.996198   \n",
              "12        300000.00               1500.0                  160.0   1875.000000   \n",
              "13        172446.86                  0.0                   83.0  39425.301200   \n",
              "15        115000.00                 49.0                   49.0   2346.938776   \n",
              "20         70880.12                 56.0                   56.0  24017.857140   \n",
              "\n",
              "                                        properati_url            lat  \\\n",
              "4   http://cancun.properati.com.mx/hg4t_venta_depa...     21.1902642   \n",
              "12  http://playa-del-carmen.properati.com.mx/esmj_...  20.4987828982   \n",
              "13  http://benito-juarez.properati.com.mx/qc0v_ven...     19.3794059   \n",
              "15  http://cancun.properati.com.mx/jh5k_venta_depa...  21.0511211635   \n",
              "20  http://iztacalco.properati.com.mx/r6gm_venta_d...     19.4024128   \n",
              "\n",
              "               lon             State  \n",
              "4      -86.8198375      Quintana Roo  \n",
              "12  -87.2228193283      Quintana Roo  \n",
              "13     -99.1591446  Distrito Federal  \n",
              "15  -86.7828512192      Quintana Roo  \n",
              "20     -99.0953907  Distrito Federal  "
            ],
            "text/html": [
              "\n",
              "  <div id=\"df-9d4d263f-3b6f-4209-a8fb-0c52736c109a\" class=\"colab-df-container\">\n",
              "    <div>\n",
              "<style scoped>\n",
              "    .dataframe tbody tr th:only-of-type {\n",
              "        vertical-align: middle;\n",
              "    }\n",
              "\n",
              "    .dataframe tbody tr th {\n",
              "        vertical-align: top;\n",
              "    }\n",
              "\n",
              "    .dataframe thead th {\n",
              "        text-align: right;\n",
              "    }\n",
              "</style>\n",
              "<table border=\"1\" class=\"dataframe\">\n",
              "  <thead>\n",
              "    <tr style=\"text-align: right;\">\n",
              "      <th></th>\n",
              "      <th>operation</th>\n",
              "      <th>property_type</th>\n",
              "      <th>price</th>\n",
              "      <th>price_aprox_local_currency</th>\n",
              "      <th>price_aprox_usd</th>\n",
              "      <th>surface_total_in_m2</th>\n",
              "      <th>surface_covered_in_m2</th>\n",
              "      <th>price_per_m2</th>\n",
              "      <th>properati_url</th>\n",
              "      <th>lat</th>\n",
              "      <th>lon</th>\n",
              "      <th>State</th>\n",
              "    </tr>\n",
              "  </thead>\n",
              "  <tbody>\n",
              "    <tr>\n",
              "      <th>4</th>\n",
              "      <td>sell</td>\n",
              "      <td>apartment</td>\n",
              "      <td>875000.0</td>\n",
              "      <td>16457437.50</td>\n",
              "      <td>875000.00</td>\n",
              "      <td>0.0</td>\n",
              "      <td>263.0</td>\n",
              "      <td>3326.996198</td>\n",
              "      <td>http://cancun.properati.com.mx/hg4t_venta_depa...</td>\n",
              "      <td>21.1902642</td>\n",
              "      <td>-86.8198375</td>\n",
              "      <td>Quintana Roo</td>\n",
              "    </tr>\n",
              "    <tr>\n",
              "      <th>12</th>\n",
              "      <td>sell</td>\n",
              "      <td>apartment</td>\n",
              "      <td>300000.0</td>\n",
              "      <td>5642550.00</td>\n",
              "      <td>300000.00</td>\n",
              "      <td>1500.0</td>\n",
              "      <td>160.0</td>\n",
              "      <td>1875.000000</td>\n",
              "      <td>http://playa-del-carmen.properati.com.mx/esmj_...</td>\n",
              "      <td>20.4987828982</td>\n",
              "      <td>-87.2228193283</td>\n",
              "      <td>Quintana Roo</td>\n",
              "    </tr>\n",
              "    <tr>\n",
              "      <th>13</th>\n",
              "      <td>sell</td>\n",
              "      <td>apartment</td>\n",
              "      <td>3272300.0</td>\n",
              "      <td>3243466.76</td>\n",
              "      <td>172446.86</td>\n",
              "      <td>0.0</td>\n",
              "      <td>83.0</td>\n",
              "      <td>39425.301200</td>\n",
              "      <td>http://benito-juarez.properati.com.mx/qc0v_ven...</td>\n",
              "      <td>19.3794059</td>\n",
              "      <td>-99.1591446</td>\n",
              "      <td>Distrito Federal</td>\n",
              "    </tr>\n",
              "    <tr>\n",
              "      <th>15</th>\n",
              "      <td>sell</td>\n",
              "      <td>apartment</td>\n",
              "      <td>115000.0</td>\n",
              "      <td>2162977.50</td>\n",
              "      <td>115000.00</td>\n",
              "      <td>49.0</td>\n",
              "      <td>49.0</td>\n",
              "      <td>2346.938776</td>\n",
              "      <td>http://cancun.properati.com.mx/jh5k_venta_depa...</td>\n",
              "      <td>21.0511211635</td>\n",
              "      <td>-86.7828512192</td>\n",
              "      <td>Quintana Roo</td>\n",
              "    </tr>\n",
              "    <tr>\n",
              "      <th>20</th>\n",
              "      <td>sell</td>\n",
              "      <td>apartment</td>\n",
              "      <td>1345000.0</td>\n",
              "      <td>1333148.73</td>\n",
              "      <td>70880.12</td>\n",
              "      <td>56.0</td>\n",
              "      <td>56.0</td>\n",
              "      <td>24017.857140</td>\n",
              "      <td>http://iztacalco.properati.com.mx/r6gm_venta_d...</td>\n",
              "      <td>19.4024128</td>\n",
              "      <td>-99.0953907</td>\n",
              "      <td>Distrito Federal</td>\n",
              "    </tr>\n",
              "  </tbody>\n",
              "</table>\n",
              "</div>\n",
              "    <div class=\"colab-df-buttons\">\n",
              "\n",
              "  <div class=\"colab-df-container\">\n",
              "    <button class=\"colab-df-convert\" onclick=\"convertToInteractive('df-9d4d263f-3b6f-4209-a8fb-0c52736c109a')\"\n",
              "            title=\"Convert this dataframe to an interactive table.\"\n",
              "            style=\"display:none;\">\n",
              "\n",
              "  <svg xmlns=\"http://www.w3.org/2000/svg\" height=\"24px\" viewBox=\"0 -960 960 960\">\n",
              "    <path d=\"M120-120v-720h720v720H120Zm60-500h600v-160H180v160Zm220 220h160v-160H400v160Zm0 220h160v-160H400v160ZM180-400h160v-160H180v160Zm440 0h160v-160H620v160ZM180-180h160v-160H180v160Zm440 0h160v-160H620v160Z\"/>\n",
              "  </svg>\n",
              "    </button>\n",
              "\n",
              "  <style>\n",
              "    .colab-df-container {\n",
              "      display:flex;\n",
              "      gap: 12px;\n",
              "    }\n",
              "\n",
              "    .colab-df-convert {\n",
              "      background-color: #E8F0FE;\n",
              "      border: none;\n",
              "      border-radius: 50%;\n",
              "      cursor: pointer;\n",
              "      display: none;\n",
              "      fill: #1967D2;\n",
              "      height: 32px;\n",
              "      padding: 0 0 0 0;\n",
              "      width: 32px;\n",
              "    }\n",
              "\n",
              "    .colab-df-convert:hover {\n",
              "      background-color: #E2EBFA;\n",
              "      box-shadow: 0px 1px 2px rgba(60, 64, 67, 0.3), 0px 1px 3px 1px rgba(60, 64, 67, 0.15);\n",
              "      fill: #174EA6;\n",
              "    }\n",
              "\n",
              "    .colab-df-buttons div {\n",
              "      margin-bottom: 4px;\n",
              "    }\n",
              "\n",
              "    [theme=dark] .colab-df-convert {\n",
              "      background-color: #3B4455;\n",
              "      fill: #D2E3FC;\n",
              "    }\n",
              "\n",
              "    [theme=dark] .colab-df-convert:hover {\n",
              "      background-color: #434B5C;\n",
              "      box-shadow: 0px 1px 3px 1px rgba(0, 0, 0, 0.15);\n",
              "      filter: drop-shadow(0px 1px 2px rgba(0, 0, 0, 0.3));\n",
              "      fill: #FFFFFF;\n",
              "    }\n",
              "  </style>\n",
              "\n",
              "    <script>\n",
              "      const buttonEl =\n",
              "        document.querySelector('#df-9d4d263f-3b6f-4209-a8fb-0c52736c109a button.colab-df-convert');\n",
              "      buttonEl.style.display =\n",
              "        google.colab.kernel.accessAllowed ? 'block' : 'none';\n",
              "\n",
              "      async function convertToInteractive(key) {\n",
              "        const element = document.querySelector('#df-9d4d263f-3b6f-4209-a8fb-0c52736c109a');\n",
              "        const dataTable =\n",
              "          await google.colab.kernel.invokeFunction('convertToInteractive',\n",
              "                                                    [key], {});\n",
              "        if (!dataTable) return;\n",
              "\n",
              "        const docLinkHtml = 'Like what you see? Visit the ' +\n",
              "          '<a target=\"_blank\" href=https://colab.research.google.com/notebooks/data_table.ipynb>data table notebook</a>'\n",
              "          + ' to learn more about interactive tables.';\n",
              "        element.innerHTML = '';\n",
              "        dataTable['output_type'] = 'display_data';\n",
              "        await google.colab.output.renderOutput(dataTable, element);\n",
              "        const docLink = document.createElement('div');\n",
              "        docLink.innerHTML = docLinkHtml;\n",
              "        element.appendChild(docLink);\n",
              "      }\n",
              "    </script>\n",
              "  </div>\n",
              "\n",
              "\n",
              "    <div id=\"df-f4b2b9ee-7ddf-4390-88b2-41c13373d152\">\n",
              "      <button class=\"colab-df-quickchart\" onclick=\"quickchart('df-f4b2b9ee-7ddf-4390-88b2-41c13373d152')\"\n",
              "                title=\"Suggest charts\"\n",
              "                style=\"display:none;\">\n",
              "\n",
              "<svg xmlns=\"http://www.w3.org/2000/svg\" height=\"24px\"viewBox=\"0 0 24 24\"\n",
              "     width=\"24px\">\n",
              "    <g>\n",
              "        <path d=\"M19 3H5c-1.1 0-2 .9-2 2v14c0 1.1.9 2 2 2h14c1.1 0 2-.9 2-2V5c0-1.1-.9-2-2-2zM9 17H7v-7h2v7zm4 0h-2V7h2v10zm4 0h-2v-4h2v4z\"/>\n",
              "    </g>\n",
              "</svg>\n",
              "      </button>\n",
              "\n",
              "<style>\n",
              "  .colab-df-quickchart {\n",
              "      --bg-color: #E8F0FE;\n",
              "      --fill-color: #1967D2;\n",
              "      --hover-bg-color: #E2EBFA;\n",
              "      --hover-fill-color: #174EA6;\n",
              "      --disabled-fill-color: #AAA;\n",
              "      --disabled-bg-color: #DDD;\n",
              "  }\n",
              "\n",
              "  [theme=dark] .colab-df-quickchart {\n",
              "      --bg-color: #3B4455;\n",
              "      --fill-color: #D2E3FC;\n",
              "      --hover-bg-color: #434B5C;\n",
              "      --hover-fill-color: #FFFFFF;\n",
              "      --disabled-bg-color: #3B4455;\n",
              "      --disabled-fill-color: #666;\n",
              "  }\n",
              "\n",
              "  .colab-df-quickchart {\n",
              "    background-color: var(--bg-color);\n",
              "    border: none;\n",
              "    border-radius: 50%;\n",
              "    cursor: pointer;\n",
              "    display: none;\n",
              "    fill: var(--fill-color);\n",
              "    height: 32px;\n",
              "    padding: 0;\n",
              "    width: 32px;\n",
              "  }\n",
              "\n",
              "  .colab-df-quickchart:hover {\n",
              "    background-color: var(--hover-bg-color);\n",
              "    box-shadow: 0 1px 2px rgba(60, 64, 67, 0.3), 0 1px 3px 1px rgba(60, 64, 67, 0.15);\n",
              "    fill: var(--button-hover-fill-color);\n",
              "  }\n",
              "\n",
              "  .colab-df-quickchart-complete:disabled,\n",
              "  .colab-df-quickchart-complete:disabled:hover {\n",
              "    background-color: var(--disabled-bg-color);\n",
              "    fill: var(--disabled-fill-color);\n",
              "    box-shadow: none;\n",
              "  }\n",
              "\n",
              "  .colab-df-spinner {\n",
              "    border: 2px solid var(--fill-color);\n",
              "    border-color: transparent;\n",
              "    border-bottom-color: var(--fill-color);\n",
              "    animation:\n",
              "      spin 1s steps(1) infinite;\n",
              "  }\n",
              "\n",
              "  @keyframes spin {\n",
              "    0% {\n",
              "      border-color: transparent;\n",
              "      border-bottom-color: var(--fill-color);\n",
              "      border-left-color: var(--fill-color);\n",
              "    }\n",
              "    20% {\n",
              "      border-color: transparent;\n",
              "      border-left-color: var(--fill-color);\n",
              "      border-top-color: var(--fill-color);\n",
              "    }\n",
              "    30% {\n",
              "      border-color: transparent;\n",
              "      border-left-color: var(--fill-color);\n",
              "      border-top-color: var(--fill-color);\n",
              "      border-right-color: var(--fill-color);\n",
              "    }\n",
              "    40% {\n",
              "      border-color: transparent;\n",
              "      border-right-color: var(--fill-color);\n",
              "      border-top-color: var(--fill-color);\n",
              "    }\n",
              "    60% {\n",
              "      border-color: transparent;\n",
              "      border-right-color: var(--fill-color);\n",
              "    }\n",
              "    80% {\n",
              "      border-color: transparent;\n",
              "      border-right-color: var(--fill-color);\n",
              "      border-bottom-color: var(--fill-color);\n",
              "    }\n",
              "    90% {\n",
              "      border-color: transparent;\n",
              "      border-bottom-color: var(--fill-color);\n",
              "    }\n",
              "  }\n",
              "</style>\n",
              "\n",
              "      <script>\n",
              "        async function quickchart(key) {\n",
              "          const quickchartButtonEl =\n",
              "            document.querySelector('#' + key + ' button');\n",
              "          quickchartButtonEl.disabled = true;  // To prevent multiple clicks.\n",
              "          quickchartButtonEl.classList.add('colab-df-spinner');\n",
              "          try {\n",
              "            const charts = await google.colab.kernel.invokeFunction(\n",
              "                'suggestCharts', [key], {});\n",
              "          } catch (error) {\n",
              "            console.error('Error during call to suggestCharts:', error);\n",
              "          }\n",
              "          quickchartButtonEl.classList.remove('colab-df-spinner');\n",
              "          quickchartButtonEl.classList.add('colab-df-quickchart-complete');\n",
              "        }\n",
              "        (() => {\n",
              "          let quickchartButtonEl =\n",
              "            document.querySelector('#df-f4b2b9ee-7ddf-4390-88b2-41c13373d152 button');\n",
              "          quickchartButtonEl.style.display =\n",
              "            google.colab.kernel.accessAllowed ? 'block' : 'none';\n",
              "        })();\n",
              "      </script>\n",
              "    </div>\n",
              "\n",
              "    </div>\n",
              "  </div>\n"
            ],
            "application/vnd.google.colaboratory.intrinsic+json": {
              "type": "dataframe",
              "variable_name": "df",
              "summary": "{\n  \"name\": \"df\",\n  \"rows\": 1103,\n  \"fields\": [\n    {\n      \"column\": \"operation\",\n      \"properties\": {\n        \"dtype\": \"category\",\n        \"num_unique_values\": 1,\n        \"samples\": [\n          \"sell\"\n        ],\n        \"semantic_type\": \"\",\n        \"description\": \"\"\n      }\n    },\n    {\n      \"column\": \"property_type\",\n      \"properties\": {\n        \"dtype\": \"category\",\n        \"num_unique_values\": 3,\n        \"samples\": [\n          \"apartment\"\n        ],\n        \"semantic_type\": \"\",\n        \"description\": \"\"\n      }\n    },\n    {\n      \"column\": \"price\",\n      \"properties\": {\n        \"dtype\": \"number\",\n        \"std\": 6970212.723312969,\n        \"min\": 45000.0,\n        \"max\": 160000000.0,\n        \"num_unique_values\": 597,\n        \"samples\": [\n          4996000.0\n        ],\n        \"semantic_type\": \"\",\n        \"description\": \"\"\n      }\n    },\n    {\n      \"column\": \"price_aprox_local_currency\",\n      \"properties\": {\n        \"dtype\": \"number\",\n        \"std\": 18084563.048087362,\n        \"min\": 147156.57,\n        \"max\": 377686811.5,\n        \"num_unique_values\": 751,\n        \"samples\": [\n          2101320.03\n        ],\n        \"semantic_type\": \"\",\n        \"description\": \"\"\n      }\n    },\n    {\n      \"column\": \"price_aprox_usd\",\n      \"properties\": {\n        \"dtype\": \"number\",\n        \"std\": 961510.117618518,\n        \"min\": 7823.94,\n        \"max\": 20080645.0,\n        \"num_unique_values\": 751,\n        \"samples\": [\n          111721.83\n        ],\n        \"semantic_type\": \"\",\n        \"description\": \"\"\n      }\n    },\n    {\n      \"column\": \"surface_total_in_m2\",\n      \"properties\": {\n        \"dtype\": \"number\",\n        \"std\": 1666.7785212709207,\n        \"min\": 0.0,\n        \"max\": 40000.0,\n        \"num_unique_values\": 351,\n        \"samples\": [\n          44.0\n        ],\n        \"semantic_type\": \"\",\n        \"description\": \"\"\n      }\n    },\n    {\n      \"column\": \"surface_covered_in_m2\",\n      \"properties\": {\n        \"dtype\": \"number\",\n        \"std\": 276.62697158996224,\n        \"min\": 1.0,\n        \"max\": 4500.0,\n        \"num_unique_values\": 371,\n        \"samples\": [\n          645.0\n        ],\n        \"semantic_type\": \"\",\n        \"description\": \"\"\n      }\n    },\n    {\n      \"column\": \"price_per_m2\",\n      \"properties\": {\n        \"dtype\": \"number\",\n        \"std\": 147175.86142638462,\n        \"min\": 131.846049,\n        \"max\": 4750000.0,\n        \"num_unique_values\": 965,\n        \"samples\": [\n          14864.86486\n        ],\n        \"semantic_type\": \"\",\n        \"description\": \"\"\n      }\n    },\n    {\n      \"column\": \"properati_url\",\n      \"properties\": {\n        \"dtype\": \"string\",\n        \"num_unique_values\": 1103,\n        \"samples\": [\n          \"http://cancun.properati.com.mx/pqex_venta_casa_cancun_caribbean-view-realty\"\n        ],\n        \"semantic_type\": \"\",\n        \"description\": \"\"\n      }\n    },\n    {\n      \"column\": \"lat\",\n      \"properties\": {\n        \"dtype\": \"string\",\n        \"num_unique_values\": 741,\n        \"samples\": [\n          \"21.1463698\"\n        ],\n        \"semantic_type\": \"\",\n        \"description\": \"\"\n      }\n    },\n    {\n      \"column\": \"lon\",\n      \"properties\": {\n        \"dtype\": \"string\",\n        \"num_unique_values\": 718,\n        \"samples\": [\n          \"-99.155991\"\n        ],\n        \"semantic_type\": \"\",\n        \"description\": \"\"\n      }\n    },\n    {\n      \"column\": \"State\",\n      \"properties\": {\n        \"dtype\": \"category\",\n        \"num_unique_values\": 5,\n        \"samples\": [\n          \"Distrito Federal\"\n        ],\n        \"semantic_type\": \"\",\n        \"description\": \"\"\n      }\n    }\n  ]\n}"
            }
          },
          "metadata": {},
          "execution_count": 25
        }
      ]
    },
    {
      "cell_type": "markdown",
      "source": [
        "EXPLORATORY DATA ANALYSIS"
      ],
      "metadata": {
        "id": "JNF1NmjMI9OB"
      }
    },
    {
      "cell_type": "markdown",
      "source": [
        "Location Data : Using \"lat\" and \"lon\" columns. Visualizations using Scatter Plot, which is useful for representing data between two numerical variables"
      ],
      "metadata": {
        "id": "OsMO2IOCJIxp"
      }
    },
    {
      "cell_type": "code",
      "source": [
        "fig = px.scatter_mapbox(\n",
        "    df,\n",
        "    lat = \"lat\",\n",
        "    lon = \"lon\",\n",
        "    center = {\"lat\": 19.43, \"lon\": -99.13}, #Map will be centered on Mexico City\n",
        "    width = 600,\n",
        "    height = 600,\n",
        "    hover_data=[\"price_aprox_usd\"]\n",
        "    )\n",
        "fig.update_layout(mapbox_style = \"open-street-map\")\n",
        "fig.show()"
      ],
      "metadata": {
        "colab": {
          "base_uri": "https://localhost:8080/",
          "height": 617
        },
        "id": "vDf35nVoIaSD",
        "outputId": "fb3712e9-3d6e-4d9d-c1fe-cef0feb98ade"
      },
      "execution_count": null,
      "outputs": [
        {
          "output_type": "display_data",
          "data": {
            "text/html": [
              "<html>\n",
              "<head><meta charset=\"utf-8\" /></head>\n",
              "<body>\n",
              "    <div>            <script src=\"https://cdnjs.cloudflare.com/ajax/libs/mathjax/2.7.5/MathJax.js?config=TeX-AMS-MML_SVG\"></script><script type=\"text/javascript\">if (window.MathJax && window.MathJax.Hub && window.MathJax.Hub.Config) {window.MathJax.Hub.Config({SVG: {font: \"STIX-Web\"}});}</script>                <script type=\"text/javascript\">window.PlotlyConfig = {MathJaxConfig: 'local'};</script>\n",
              "        <script charset=\"utf-8\" src=\"https://cdn.plot.ly/plotly-2.35.2.min.js\"></script>                <div id=\"a8f88ebc-db3c-4439-9344-e2803c18b336\" class=\"plotly-graph-div\" style=\"height:600px; width:600px;\"></div>            <script type=\"text/javascript\">                                    window.PLOTLYENV=window.PLOTLYENV || {};                                    if (document.getElementById(\"a8f88ebc-db3c-4439-9344-e2803c18b336\")) {                    Plotly.newPlot(                        \"a8f88ebc-db3c-4439-9344-e2803c18b336\",                        [{\"customdata\":[[875000.0],[300000.0],[172446.86],[115000.0],[70880.12],[30558.16],[131747.44],[1125000.0],[305654.07],[65873.72],[553339.27],[1053979.56],[53399.87],[94858.16],[1478500.0],[168636.73],[490100.49],[492618.62],[4000000.0],[204950.0],[84298.37],[822051.36],[71975.74],[711267.53],[468909.7],[147557.13],[89588.26],[155425.12],[342543.35],[208111.61],[2160658.1],[105397.95],[47376.38],[258224.99],[102763.0],[99530.03],[200208.63],[1350000.0],[97996.85],[147557.13],[83211.68],[154724.19],[289844.37],[403854.93],[76131.96],[1895989.0],[800000.0],[407919.0],[297678.63],[262177.41],[325000.0],[213430.86],[131747.44],[421591.82],[223970.65],[113302.8],[420000.0],[173865.39],[334559.17],[156779.46],[3350000.0],[426861.72],[73778.56],[157690.64],[252895.12],[350000.0],[231875.5],[289844.37],[131716.2],[86405.83],[173906.62],[1185727.0],[40683.61],[34246.21],[565500.0],[158059.45],[750000.0],[49055.95],[173906.62],[390000.0],[2000000.0],[210795.91],[139968.48],[184446.42],[625000.0],[158096.93],[385000.0],[310923.97],[1850000.0],[60603.82],[995000.0],[1028494.71],[342462.14],[117735.94],[720000.0],[426861.72],[1500000.0],[194986.21],[473816.51],[39524.23],[233851.71],[167582.75],[776086.39],[145000.0],[368892.84],[1500000.0],[342462.14],[263432.41],[226605.6],[131747.44],[700000.0],[215000.0],[3000000.0],[55333.92],[225504.19],[142287.24],[118572.7],[458372.4],[866400.0],[36889.28],[905000.0],[1215000.0],[9000000.0],[474178.35],[152827.03],[230821.52],[169000.0],[263284.09],[163366.83],[128000.0],[332836.85],[892706.0],[139000.0],[187081.37],[700730.23],[39524.23],[374337.46],[163366.83],[553339.27],[820000.0],[2500000.0],[65873.72],[516449.98],[242415.29],[31619.38],[674386.99],[57968.87],[129000.0],[226605.6],[570000.0],[231875.5],[99074.07],[474178.35],[83264.38],[79048.46],[4500000.0],[71670.61],[126447.56],[331924.84],[189716.32],[115937.75],[287209.43],[33990.84],[263494.89],[1085598.95],[300000.0],[18444.64],[80139.33],[225024.63],[1690000.0],[210795.91],[205477.28],[139619.18],[782579.82],[131418.07],[340345.2],[137017.34],[189716.32],[790484.67],[383294.16],[53399.87],[444726.6],[150830.86],[102957.29],[65873.72],[279304.58],[505910.19],[205526.01],[129112.49],[86953.31],[147522.15],[216803.59],[92023.21],[269180.16],[737785.69],[310729.14],[265000.0],[166528.77],[265234.0],[246104.22],[33200.35],[105397.95],[595000.0],[388688.69],[190122.1],[2000000.0],[737785.69],[135057.59],[97493.1],[890000.0],[26349.48],[545000.0],[50327.52],[94835.67],[105372.96],[1000000.0],[395242.33],[430000.0],[83180.59],[209693.45],[753595.38],[216065.81],[25275.11],[113566.29],[893500.0],[158096.93],[18971.63],[733560.0],[510000.0],[242415.29],[34254.33],[650000.0],[711436.2],[654457.8],[416223.22],[550000.0],[605894.56],[27606.96],[249000.0],[162123.24],[379432.64],[521719.88],[316193.86],[96775.0],[237089.17],[439000.0],[10579.0],[270951.79],[97493.1],[580000.0],[210795.91],[1567500.0],[1212076.49],[131031.28],[1500000.0],[378815.81],[152000.0],[173643.13],[155461.98],[237145.4],[44497.91],[289775.66],[115937.75],[300911.16],[430866.84],[420000.0],[62711.78],[34844.56],[237145.4],[192305.66],[86584.42],[711028.89],[18545.64],[151567.64],[177068.56],[1106416.15],[14606.11],[392514.3],[37934.26],[2700000.0],[177068.56],[574418.86],[685086.71],[652936.65],[237089.17],[737610.77],[38470.25],[81683.41],[309553.79],[420000.0],[197621.16],[65858.1],[184446.42],[1990000.0],[3450000.0],[475000.0],[20080645.0],[139000.0],[79029.72],[990000.0],[205526.01],[736557.04],[389972.43],[330000.0],[816640.49],[41368.69],[843183.65],[250000.0],[260859.94],[100104.31],[28825.02],[205000.0],[285000.0],[26349.48],[416321.92],[146219.53],[189610.92],[216014.58],[233500.0],[166001.78],[574418.86],[36889.28],[79566.6],[194986.21],[342462.14],[270000.0],[152827.03],[492735.44],[678235.84],[1800000.0],[549000.0],[8429837.4],[1500000.0],[247626.47],[163366.83],[50064.02],[252955.09],[182597.74],[475000.0],[124608.8],[171271.67],[83160.87],[579688.75],[2000000.0],[465900.0],[97493.1],[2850000.0],[34254.33],[208160.96],[399000.0],[750000.0],[221208.0],[140000.0],[1150000.0],[65873.72],[223917.55],[187300.44],[20626.75],[950000.0],[292229.0],[110667.85],[437401.51],[1710000.0],[1475571.38],[690000.0],[65873.72],[1800000.0],[295114.27],[202891.06],[1211789.12],[302407.81],[283425.64],[850000.0],[2850000.0],[811800.0],[7823.94],[650000.0],[79029.72],[1300000.0],[1475221.54],[293600.0],[26343.24],[51632.75],[148558.41],[250320.14],[1101408.64],[260798.09],[48829.92],[179176.52],[42159.18],[86689.81],[380000.0],[727073.47],[262440.91],[34831.03],[115937.75],[158059.45],[471655.85],[28984.43],[94858.16],[63238.77],[315000.0],[316193.86],[110825.95],[79029.72],[189382.2],[168636.73],[806294.36],[313558.92],[240250.36],[142287.24],[82138.73],[152827.03],[274034.68],[100075.35],[339908.4],[163366.83],[319830.09],[183919.43],[79029.72],[230000.0],[160000.0],[121207.64],[563879.06],[199154.9],[24768.51],[519594.1],[155288.07],[1800000.0],[463641.05],[281482.76],[277038.52],[94858.16],[326733.66],[26349.48],[121178.91],[420000.0],[1700000.0],[3950000.0],[500000.0],[125843.0],[287209.43],[88534.28],[474178.35],[995000.0],[121178.91],[549000.0],[43202.91],[137017.34],[700000.0],[22912.19],[158096.93],[51381.5],[168596.74],[720000.0],[436000.0],[194000.0],[105397.95],[360000.0],[310923.97],[35185.34],[2600000.0],[530000.0],[46902.09],[47499.69],[150192.08],[156750.0],[202673.0],[420000.0],[337273.46],[289844.37],[65873.72],[135027.0],[215000.0],[3000000.0],[135057.59],[763954.01],[3500000.0],[89482.86],[450000.0],[600000.0],[579688.75],[526812.37],[69562.65],[117735.94],[359000.0],[1500000.0],[420000.0],[432342.41],[152827.03],[563615.57],[450000.0],[295114.27],[150156.47],[19581.61],[21074.59],[131220.45],[2187007.59],[52574.87],[187037.01],[430000.0],[115937.75],[147522.15],[33787.84],[250000.0],[395000.0],[455846.16],[3500000.0],[84318.36],[131189.34],[627117.84],[131716.2],[621788.0],[118572.7],[205526.01],[288526.9],[168596.74],[29212.28],[670000.0],[421591.82],[168636.73],[121207.64],[270000.0],[250320.14],[45584.61],[458481.11],[163366.83],[1190000.0],[204054.75],[345000.0],[89588.26],[36880.53],[131747.44],[51105.88],[198891.47],[360000.0],[54166.48],[195000.0],[801000.0],[252955.09],[999000.0],[549000.0],[326656.19],[711436.2],[790000.0],[447941.31],[102763.0],[750000.0],[17096.76],[147557.13],[160909.37],[386283.5],[117518.72],[220000.0],[289000.0],[68508.67],[450000.0],[163328.09],[109587.88],[158096.93],[200208.63],[1600000.0],[320000.0],[600000.0],[110667.85],[189671.34],[447941.31],[238710.0],[890085.74],[56387.9],[850000.0],[392000.0],[447941.31],[229240.55],[194617.32],[140056.47],[171113.58],[181811.47],[520000.0],[922232.11],[77678.29],[990000.0],[850000.0],[150192.08],[216525.2],[189716.32],[1475571.38],[168636.73],[2250000.0],[1185015.0],[160050.0],[105397.95],[213216.9],[316193.86],[130988.58],[340000.0],[167582.75],[211008.55],[447941.31],[242357.82],[179176.52],[1900000.0],[34246.21],[276000.0],[147557.13],[399133.83],[410954.57],[2500000.0],[1100000.0],[151296.98],[210745.93],[375849.11],[455000.0],[111721.83],[81683.41],[38206.75],[440000.0],[447941.31],[155688.55],[3250000.0],[449000.0],[226551.88],[43176.57],[165435.55],[226551.88],[360000.0],[181811.47],[326733.66],[350000.0],[295000.0],[211059.4],[114818.32],[552812.28],[290000.0],[237145.4],[1150000.0],[520522.86],[100000.0],[18233.84],[29212.28],[272000.0],[185000.0],[2200000.0],[23714.54],[895882.62],[197621.16],[2800000.0],[558609.16],[324098.71],[3800000.0],[657303.92],[460000.0],[54949.68],[43202.91],[680000.0],[108913.49],[3300000.0],[36889.28],[480000.0],[297000.0],[2200000.0],[1500000.0],[900000.0],[507107.4],[442566.46],[589000.0],[46306.15],[374074.03],[418956.87],[115937.75],[20194.72],[1501564.78],[50052.15],[184402.69],[279304.58],[321387.55],[544778.24],[13119.41],[197621.16],[650000.0],[184446.42],[75000.0],[149734.98],[279238.36],[252955.09],[97493.1],[999000.0],[39524.23],[215000.0],[474290.8],[320000.0],[144922.18],[168636.73],[92201.34],[342543.35],[139619.18],[632387.73],[166528.77],[269818.76],[363536.73],[176014.58],[535368.91],[223970.65],[63238.77],[579688.75],[463751.0],[27930.45],[432131.62],[128000.0],[218486.8],[68350.57],[313242.72],[333057.54],[1150000.0],[136564.13],[1500000.0],[284574.48],[41105.2],[194986.21],[354000.0],[850000.0],[134382.39],[226605.6],[44794.13],[1902432.0],[103816.98],[139619.18],[800000.0],[549000.0],[469020.9],[45837.24],[131747.44],[89567.02],[113566.29],[54933.04],[30038.41],[250000.0],[495000.0],[295000.0],[418956.87],[240619.17],[139652.29],[1844026.93],[147557.13],[347813.25],[2150000.0],[700000.0],[316118.9],[1106416.15],[579688.75],[3200000.0],[110641.61],[135035.86],[142253.5],[421491.87],[347813.25],[411052.02],[1000000.0],[1350500.0],[225520.8],[123388.43],[303782.83],[1500000.0],[54949.68],[152099.45],[230000.0],[67191.19],[380000.0],[342543.35],[75783.82],[447941.31],[590000.0],[349000.0],[134840.87],[632387.73],[471655.85],[447941.31],[22396.9],[1200000.0],[1844464.23],[34254.33],[679816.81],[869533.13],[270000.0],[192351.27],[52698.97],[1400000.0],[175972.85],[242415.29],[69878.84],[450000.0],[61657.8],[432131.62],[119229.96],[695626.51],[2500000.0],[916962.22],[329000.0],[2107959.12],[1685967.48],[260000.0],[104238.57],[228450.07],[216856.29],[980000.0],[238000.0],[92223.21],[167582.75],[81683.41],[237089.17],[292229.0],[289844.37],[1686367.3],[424302.13],[136490.35],[420000.0],[142287.24],[201837.08],[53399.87],[42159.18],[298776.85],[255000.0],[181811.47],[475000.0],[259584.62],[76413.51],[99864.56],[295000.0],[117089.64],[421591.82],[450000.0],[1840298.38],[510000.0],[240000.0],[558609.16],[153163.3],[384702.54],[2000000.0],[43213.16],[79566.6],[305654.07],[285000.0],[134382.39],[113275.94],[1106678.54],[92201.34],[376708.35],[197574.31],[147557.13],[453211.21],[13171.62],[310000.0],[760000.0],[92201.34],[450000.0],[245050.24],[350000.0],[1053979.56],[7823.94],[187037.01],[124231.33],[1364000.0],[737785.69],[62290.19],[63238.77],[26343.24],[233950.0],[45000.0],[110000.0],[135430.6],[17917.65],[28984.43],[94858.16],[216065.81],[395242.33],[41105.2],[86953.31],[94858.16],[398000.0],[58093.5],[6500000.0],[152827.03],[592358.0],[254417.11],[447835.11],[67981.68],[461643.04],[118572.7],[435540.0],[287209.43],[658737.22],[31085.02],[35308.31],[119000.0],[26556.62],[28984.43],[114818.32],[316193.86],[21079.59],[94000.0],[215000.0],[439000.0],[250000.0],[106690.12],[39260.73],[362305.47],[1100000.0],[308289.02],[152827.03],[365000.0],[199000.0],[420000.0],[750000.0],[700000.0],[252955.09],[342462.14],[437401.51],[63238.77],[611308.14],[325000.0],[222600.39],[546119.51],[669277.02],[123813.23],[1001280.58],[249000.0],[56914.89],[147522.15],[463156.82],[102763.0],[1000000.0],[168636.73],[1200000.0],[442671.41],[165105.89],[303783.2],[289844.37],[118309.2],[200256.11],[1500000.0],[131716.2],[8693.26],[268701.06],[240092.3],[370000.0],[49638.57],[420000.0],[390000.0],[84318.36],[24132.51],[168636.73],[165962.42],[187000.0],[73761.07],[938041.81],[15148.04],[151073.1],[116728.23],[590228.55],[247158.2],[395242.33],[395000.0],[174291.33],[340000.0],[197621.16],[500000.0],[1400000.0],[280977.01],[855000.0],[94436.56],[579688.75],[150192.08],[29212.28],[86383.21],[199000.0],[303019.12],[221283.23],[71126.75],[53399.87],[950000.0],[258224.99],[210795.91],[398140.78],[112802.58],[379432.64],[632387.73],[507912.75],[121178.91],[390000.0],[319178.93],[368805.38],[590000.0],[451100.0],[360700.0],[115937.75],[658737.22],[57955.13],[1580969.34],[175000.0],[144387.3],[184446.42],[105134.46],[63238.77],[2000000.0],[38370.12],[57955.13],[73778.56],[189663.62],[48483.05],[632387.73],[550000.0],[86932.69],[97493.1],[1850000.0],[267463.12],[10000000.0],[237145.4],[405000.0],[76413.51],[147522.15],[39514.86],[189716.32],[231612.0],[144922.18],[160000.0],[190770.3],[219199.0],[311176.92],[1450000.0],[416321.92],[621847.94],[68492.42],[435000.0],[165000.0],[445200.78],[113624.79],[210795.91],[287736.42],[332003.56],[225000.0],[163328.09],[1500000.0],[252955.09],[2950000.0],[3500000.0],[1500000.0],[384702.54],[204472.03],[595000.0],[169000.0],[263432.41],[221335.7],[180000.0],[284574.48],[416321.92],[50901.94],[100209.69],[140470.72],[205526.01],[225000.0],[150830.86],[226605.6],[310923.97],[179134.04],[1500000.0],[629415.51],[534894.62],[262905.55],[421491.87],[395148.62],[2000000.0],[35835.3],[50579.02],[144887.83],[2475000.0],[147557.13],[1839194.33],[92367.6],[105318.9],[158000.0],[50064.02],[14609.57],[650000.0],[92750.2],[553339.27],[600000.0],[128892.1],[71407.11],[105397.95],[39524.23],[460000.0],[300749.0],[185000.0],[289844.37],[39524.23],[268764.78],[775000.0],[379342.68],[168636.73],[36880.53],[287209.43],[680000.0],[480000.0]],\"hovertemplate\":\"lat=%{lat}\\u003cbr\\u003elon=%{lon}\\u003cbr\\u003eprice_aprox_usd=%{customdata[0]}\\u003cextra\\u003e\\u003c\\u002fextra\\u003e\",\"lat\":[\"21.1902642\",\"20.4987828982\",\"19.3794059\",\"21.0511211635\",\"19.4024128\",\"21.1541659192\",\"19.2690778853\",\"19.430456\",\"19.307427366\",\"21.161908\",\"19.390415\",\"19.430456\",\"19.2990233\",\"19.3383626772\",\"20.6523823712\",\"19.381207\",\"21.1199835722\",\"19.3753948137\",\"19.420166\",\"20.6546691\",\"21.129547\",\"19.3641188\",\"20.6543977622\",\"19.401079\",\"21.1070511\",\"21.149599\",\"21.1902642\",\"19.394073\",\"19.3012112\",\"19.271181\",\"19.390415\",\"21.1545808\",\"19.4045899\",\"19.4169673\",\"21.164824\",\"19.4553585442\",\"19.2801195\",\"19.4011351582\",\"19.4510306354\",\"19.3499358\",\"20.6572413506\",\"19.3807458\",\"21.082655\",\"19.2707122505\",\"19.4548897\",\"21.0906563\",\"19.390415\",\"21.1651106632\",\"21.1095243506\",\"21.1902642\",\"20.2024604644\",\"19.4124708\",\"21.1543341422\",\"19.4114169\",\"19.3853063\",\"20.6384345312\",\"21.1279956\",\"21.129547\",\"19.3609784\",\"19.2865191\",\"19.4122137\",\"20.6764114797\",\"19.354297\",\"19.39365\",\"19.3392293\",\"19.993998\",\"19.3972156\",\"19.41498\",\"21.0958115744\",\"20.6140672951\",\"19.3661948918\",\"19.4010793\",\"21.139086\",\"19.524143\",\"20.6347622491\",\"19.3677299\",\"21.1295101033\",\"20.6542296048\",\"21.100996554\",\"21.1295466\",\"19.3472426513\",\"21.1579193\",\"19.365391\",\"19.3714480121\",\"19.420166\",\"21.161908\",\"20.613448043\",\"19.411472\",\"19.396714267\",\"19.262049\",\"19.413143\",\"19.4326577\",\"19.340202\",\"19.4306069\",\"19.3929373\",\"19.3864346\",\"19.371342\",\"19.4445115\",\"19.394358\",\"21.161908\",\"19.394358\",\"19.2681974\",\"19.357464\",\"20.6167183342\",\"19.4097609\",\"21.1117463016\",\"19.3073525\",\"21.161908\",\"19.394358\",\"19.3898619\",\"19.390415\",\"20.6295586\",\"19.320575\",\"19.3549174\",\"19.358585\",\"19.3703820187\",\"21.1773896\",\"19.3769448\",\"19.432609\",\"19.2818221685\",\"21.161908\",\"19.4368736\",\"19.3818873\",\"19.358585\",\"21.161908\",\"19.3943574\",\"20.6369485603\",\"21.1517157163\",\"19.3499358\",\"20.6148413173\",\"19.371342\",\"19.4330857\",\"20.630723\",\"19.3392293\",\"19.5462484\",\"19.461416\",\"19.3023508\",\"19.3747920646\",\"19.381729\",\"21.1902642\",\"19.420166\",\"21.1463698\",\"19.320576\",\"21.158964\",\"19.505199\",\"19.390415\",\"19.3883217\",\"20.2088602\",\"19.4615578\",\"20.628505\",\"19.462588021\",\"19.3152718515\",\"19.3634214999\",\"21.146414\",\"21.1902642\",\"20.8478084\",\"20.6295586\",\"19.476545\",\"19.4070717\",\"19.3428273\",\"21.129547\",\"19.3049333\",\"19.3916358\",\"19.3024064\",\"19.3228543\",\"20.6295586\",\"19.4873329\",\"19.4555330491\",\"20.65593\",\"21.129547\",\"19.3393661\",\"21.1473004962\",\"20.6148304777\",\"19.38155587\",\"19.3338880248\",\"19.4032833\",\"19.3825040623\",\"21.141269068\",\"19.341894\",\"19.3402891\",\"19.2990233\",\"19.381729\",\"19.3596034\",\"19.3126089706\",\"21.1363144\",\"21.139086\",\"21.129547\",\"21.0717887\",\"20.626583\",\"21.082655\",\"21.139086\",\"21.082655\",\"18.015418\",\"19.3503274\",\"19.355921\",\"19.394358\",\"20.4991035674\",\"21.1551822\",\"20.6157480492\",\"19.3439785\",\"19.4179232\",\"21.161908\",\"20.65593\",\"21.1903799\",\"19.3813197\",\"19.420166\",\"19.4037619\",\"19.3638234\",\"21.117013009\",\"21.1902642\",\"19.444584\",\"20.626583\",\"19.4113101\",\"19.34343\",\"19.3211179\",\"19.404579758\",\"21.0707599686\",\"21.1184519879\",\"19.2990233\",\"21.1492842346\",\"19.390415\",\"21.1217346614\",\"19.4306069\",\"19.3605334\",\"20.658486188\",\"21.1444567\",\"19.301945\",\"20.6314764478\",\"21.1470228208\",\"19.400249\",\"19.524143\",\"21.1347621\",\"19.3559202\",\"19.3577935962\",\"19.353813\",\"20.503029\",\"19.343294\",\"19.393751\",\"20.6950637922\",\"19.3638234\",\"21.1399481749\",\"19.3556628374\",\"19.3857490016\",\"21.161908\",\"19.473486\",\"21.1902642\",\"19.4782031\",\"19.394358\",\"19.4479726\",\"21.1295466\",\"19.3138472\",\"21.1670281292\",\"19.4318149\",\"21.1004863999\",\"19.4032760464\",\"19.382275\",\"20.6157179238\",\"19.2753576\",\"21.161908\",\"21.1486457139\",\"19.3223015\",\"21.139086\",\"19.343979\",\"19.3815906\",\"19.394358\",\"20.6804573963\",\"19.3707369783\",\"19.279188\",\"21.1087511639\",\"19.3755039\",\"19.3865508\",\"19.3576316393\",\"21.161995\",\"19.407682\",\"19.3108788\",\"19.3559202\",\"19.3921653148\",\"19.355751\",\"19.4900536\",\"21.129547\",\"19.39912\",\"19.390415\",\"19.3619852\",\"19.4425711213\",\"19.3668017\",\"19.41498\",\"21.129547\",\"19.3778105\",\"19.394358\",\"21.129547\",\"19.199665\",\"19.3437444\",\"21.136350683\",\"19.401079\",\"21.1717664129\",\"21.129547\",\"21.162939\",\"21.2013833711\",\"21.129547\",\"20.8501512377\",\"19.3756773\",\"19.357464\",\"19.432657\",\"21.1283087\",\"19.3605334\",\"19.3579916\",\"19.401079\",\"20.63719\",\"21.1902642\",\"21.1560588\",\"19.4959960885\",\"20.6180275188\",\"20.6153928204\",\"19.4620417\",\"21.110295031\",\"19.3803931\",\"19.4482164\",\"21.129547\",\"20.626583\",\"19.249130897\",\"19.2995935\",\"19.4306069\",\"19.2990233\",\"19.440935\",\"21.082655\",\"20.6376840173\",\"19.3499358\",\"19.355751\",\"19.3445588\",\"21.1588598388\",\"20.613375\",\"19.3470575\",\"19.401079\",\"20.634902703\",\"19.3499358\",\"20.626583\",\"19.3471142162\",\"19.364967\",\"20.6514788249\",\"21.082655\",\"19.323066\",\"19.2990233\",\"19.3779166\",\"19.420166\",\"21.158964\",\"21.203037\",\"21.129547\",\"19.524143\",\"19.440935\",\"21.1121476062\",\"21.1347621\",\"20.2112148\",\"20.6147810662\",\"19.401079\",\"19.2963742\",\"19.2781744\",\"21.1136543\",\"19.3481352\",\"21.158964\",\"21.1108092328\",\"21.129547\",\"19.278061\",\"21.1347621\",\"19.267261\",\"21.1126908709\",\"21.1758219963\",\"19.4278087\",\"19.41498\",\"19.3628631\",\"19.355921\",\"19.3689778408\",\"19.381729\",\"19.429852\",\"19.420166\",\"21.129547\",\"19.2878066\",\"20.6135651992\",\"21.129547\",\"20.8482492\",\"21.161908\",\"20.6295586\",\"19.2572314\",\"19.3200381\",\"19.3736979\",\"21.149204\",\"19.390415\",\"19.3189618\",\"20.6542296048\",\"21.145283\",\"19.4558491807\",\"19.3865940087\",\"21.0250671811\",\"19.3235137\",\"19.2963762\",\"19.342083\",\"19.4327514\",\"20.6248067308\",\"21.082655\",\"21.158964\",\"21.1340628\",\"19.516777\",\"20.8493562787\",\"19.4195256\",\"19.3794059\",\"19.4503249\",\"21.145283\",\"19.3028822\",\"19.3214747362\",\"19.3302564\",\"19.4024797\",\"21.1773905\",\"19.2990233\",\"19.2992988\",\"21.139086\",\"21.129547\",\"19.3753973563\",\"19.3499358\",\"19.392978\",\"19.3737616972\",\"23.634501\",\"21.1295466\",\"20.626583\",\"21.140728704\",\"19.3928136\",\"20.676314354\",\"19.3703924\",\"19.392937\",\"19.39365\",\"19.3931419\",\"19.390415\",\"21.166525\",\"21.158964\",\"19.3847719\",\"19.3036292\",\"19.4292489747\",\"19.3845952529\",\"20.613375\",\"19.392937\",\"19.402315\",\"21.1652832513\",\"21.129547\",\"19.3434226\",\"21.192402\",\"21.1400687\",\"19.4095028\",\"20.6773181299\",\"20.626583\",\"19.487856\",\"21.1983978\",\"21.0979898233\",\"19.342083\",\"21.1902642\",\"19.4302678\",\"19.3499358\",\"19.2464696\",\"20.6345714787\",\"20.6323624968\",\"19.3776513\",\"21.203037\",\"21.158964\",\"19.442791\",\"19.368239479\",\"21.1321482\",\"21.1358569342\",\"20.6539886626\",\"19.2606652672\",\"20.6238429\",\"20.913662272\",\"19.420166\",\"19.3445052\",\"19.3631419\",\"21.137991\",\"21.129547\",\"21.134224\",\"21.1470186868\",\"21.111965\",\"19.3412635\",\"19.420166\",\"20.6194371076\",\"21.0906563\",\"21.1348471\",\"21.1521359683\",\"19.347138\",\"19.3566903\",\"19.4306069\",\"20.6353700424\",\"19.3843018\",\"20.6312103676\",\"19.3815495\",\"19.2790911\",\"19.3594791\",\"20.6596822\",\"19.4149803\",\"19.2765113\",\"19.301659\",\"19.3245518\",\"21.082655\",\"19.331967025\",\"19.342083\",\"21.129547\",\"20.613375\",\"19.3143023856\",\"19.5290566\",\"19.4594892\",\"20.6288922117\",\"21.1014804825\",\"19.430456\",\"21.161908\",\"21.149204\",\"19.3018442\",\"19.353813\",\"19.496761\",\"20.6362984435\",\"19.4809432\",\"19.3349552\",\"21.129547\",\"21.129547\",\"19.342083\",\"20.6112630681\",\"19.5051701\",\"20.6766006601\",\"19.382059\",\"20.630901\",\"21.1138993\",\"19.4126915168\",\"21.158964\",\"19.3499358\",\"19.4316766\",\"19.3680133\",\"20.6317801803\",\"19.381729\",\"19.4285813\",\"19.5029542\",\"20.6647579056\",\"19.2926091476\",\"20.626583\",\"19.2990233\",\"20.65593\",\"19.4330857\",\"21.1166104566\",\"21.1674843565\",\"21.1120865975\",\"19.3447\",\"19.390415\",\"19.3266422705\",\"19.409369\",\"19.3934821\",\"19.3631419\",\"19.4468231\",\"19.3158372\",\"21.1109415986\",\"19.394073\",\"19.3338384077\",\"21.1935231\",\"20.626583\",\"21.0812325806\",\"20.8988089122\",\"19.3499358\",\"21.0974827988\",\"19.2430738\",\"21.158964\",\"19.346523\",\"20.6313521934\",\"20.503029\",\"21.129547\",\"21.129547\",\"19.4729125\",\"20.3854202485\",\"19.390415\",\"19.3882538227\",\"19.401079\",\"20.664374\",\"19.39365\",\"19.3810000272\",\"19.3794059\",\"19.341894\",\"19.341894\",\"21.139086\",\"19.4340199\",\"19.432566\",\"19.4109376\",\"21.1347621\",\"21.1123668405\",\"21.1457352\",\"21.145512\",\"20.6483582\",\"19.267261\",\"19.3701781\",\"19.401079\",\"19.3655578\",\"20.6238429\",\"19.310879\",\"19.4032833\",\"19.392937\",\"19.2790911\",\"21.129547\",\"21.1722334\",\"21.129547\",\"19.381729\",\"21.129547\",\"19.3320226\",\"19.3631419\",\"19.524143\",\"20.626583\",\"21.1321847\",\"21.1903799\",\"19.4101579796\",\"21.166843\",\"19.4332386\",\"19.3638234\",\"19.318989\",\"19.418058\",\"20.3827686962\",\"19.3453464837\",\"19.365597\",\"19.4306069\",\"20.626583\",\"18.5001889\",\"20.626583\",\"20.8482492\",\"20.613375\",\"21.11104569\",\"19.308076\",\"19.3605334\",\"21.161908\",\"21.1695253521\",\"19.400249\",\"19.3989861655\",\"21.0920919944\",\"20.6229993052\",\"19.3668017\",\"19.4306069\",\"19.3524729736\",\"20.6295586\",\"19.3037355\",\"19.392937\",\"19.4201028\",\"20.6263935658\",\"21.151917\",\"19.3217152\",\"21.129547\",\"20.4996975\",\"19.3960473\",\"19.342083\",\"19.3548816594\",\"21.129547\",\"19.390415\",\"19.3585224004\",\"19.3499706\",\"21.1334516\",\"19.433173\",\"21.158964\",\"19.2990233\",\"19.309208\",\"21.1613612009\",\"19.3679526\",\"19.3770400205\",\"21.1391367113\",\"21.1334564148\",\"20.6348124517\",\"21.0414159439\",\"21.082655\",\"21.1295466\",\"19.4372822\",\"21.1353171\",\"20.613375\",\"19.452751\",\"19.4280794\",\"21.139086\",\"19.3147961\",\"19.342083\",\"19.40403\",\"19.3707909\",\"19.4673105\",\"19.500746256\",\"20.6779215222\",\"19.4347155\",\"20.2114185\",\"21.1481685414\",\"20.8420429\",\"21.1550030554\",\"20.4904215009\",\"19.3670983\",\"19.3341208717\",\"19.4396219801\",\"19.3242755\",\"21.1659502547\",\"19.431252\",\"21.1902642\",\"21.158964\",\"21.1295466\",\"21.139086\",\"20.63163961\",\"21.137991\",\"21.106783\",\"19.3733020916\",\"19.3776045\",\"21.1902642\",\"19.4025564\",\"21.1166104566\",\"21.129547\",\"19.552402\",\"21.0969863\",\"21.161908\",\"19.4259971\",\"19.4301322\",\"21.1368860594\",\"19.3774517\",\"20.6295586\",\"19.4032833\",\"19.4546836\",\"19.3606908\",\"19.3415372\",\"19.390415\",\"19.3598088\",\"19.3451266\",\"19.3609365412\",\"19.4661858\",\"19.3465206\",\"20.626583\",\"21.1295466\",\"20.6786832545\",\"19.4001854\",\"21.129547\",\"19.4338054\",\"21.129547\",\"21.129547\",\"19.393217809\",\"20.613375\",\"21.139086\",\"19.444606\",\"21.129547\",\"21.139086\",\"19.3736979\",\"19.2990233\",\"20.6612167636\",\"20.1997998\",\"21.1295466\",\"20.65593\",\"19.443178\",\"19.3814836\",\"19.3651763\",\"19.4104149313\",\"19.3499358\",\"19.301781\",\"19.3964084\",\"21.129547\",\"19.2908179\",\"19.4167368\",\"19.353813\",\"21.1857344\",\"19.3605334\",\"19.3670983\",\"21.1652032105\",\"20.503029\",\"19.33923\",\"19.4175391\",\"19.390415\",\"20.6549524292\",\"19.375412\",\"19.284672\",\"19.394358\",\"19.4284926629\",\"19.2990233\",\"19.4306069\",\"20.6295586\",\"19.3340701\",\"20.6367803837\",\"19.5037607\",\"19.512787\",\"21.1079429417\",\"21.161908\",\"20.6127599762\",\"21.1091715377\",\"21.0713157\",\"19.2466495\",\"19.2782129052\",\"19.3513303772\",\"19.4344798\",\"19.4107308\",\"19.524143\",\"19.376822\",\"19.382275\",\"20.621372202\",\"20.613375\",\"21.082655\",\"19.4282002\",\"19.367424\",\"19.3872626\",\"19.2790911\",\"21.129547\",\"21.1466325733\",\"21.1221503225\",\"19.4306069\",\"19.401079\",\"20.889977131\",\"19.355921\",\"20.6761035602\",\"19.3605334\",\"19.321035\",\"20.632658742\",\"21.143755\",\"21.129547\",\"21.1114360311\",\"19.401079\",\"20.2035076138\",\"21.129547\",\"19.3404477\",\"21.1536213\",\"19.3437444\",\"21.11058929\",\"19.1999418\",\"19.4010793\",\"19.3627981\",\"21.129547\",\"21.1706119\",\"19.392937\",\"19.367424\",\"19.2990233\",\"19.4301421\",\"19.361269\",\"20.6205688864\",\"21.1027119116\",\"19.392937\",\"19.417364\",\"21.1456272\",\"21.1983978\",\"20.1951503595\",\"19.4306069\",\"19.4158245484\",\"21.139641\",\"19.3782794\",\"21.1295466\",\"20.6369485603\",\"19.390415\",\"19.3736979\",\"21.139086\",\"19.271481\",\"19.381259203\",\"19.2990233\",\"19.3439785\",\"20.6314990395\",\"19.2686525172\",\"21.139641\",\"19.4468279\",\"20.6194263236\",\"19.417364\",\"21.129547\",\"21.082655\",\"19.2976171\",\"21.196655\",\"20.626583\",\"19.4037619\",\"19.4526892\",\"21.129547\",\"19.3633984\",\"21.1219027969\",\"19.3935344356\",\"19.2833321409\",\"19.33923\",\"19.3638234\",\"19.4332386\",\"19.3251419\",\"19.428152\",\"19.378786\",\"19.380644\",\"20.626583\",\"20.5057520556\",\"21.0469806\",\"19.362488\",\"20.5138888\",\"19.399689\",\"21.183158\",\"21.139086\",\"19.2998407\",\"23.634501\",\"19.3116278\",\"19.3246591\",\"21.170027\",\"19.4356397539\",\"19.390415\",\"19.3499358\",\"19.392937\",\"19.4731507\",\"19.396593\",\"19.392349\",\"21.1637632294\",\"19.4392246682\",\"20.209438\",\"19.31782\",\"19.353813\",\"19.3029619922\",\"21.139641\",\"21.1855951\",\"19.369418\",\"19.399689\",\"19.4306069\",\"21.1088087151\",\"19.3948036\",\"20.614861401\",\"20.5138888\",\"20.6485929\",\"21.1295466\",\"19.3451338989\",\"19.4445021981\",\"19.4157341697\",\"19.401079\",\"21.1109255848\",\"19.359984\",\"20.503029\",\"20.6323624968\",\"21.1130054\",\"19.361719\",\"19.3981537\",\"21.1136543\",\"20.6295586\",\"19.381729\",\"19.4731247\",\"19.430456\",\"20.2016654\",\"19.3023717\",\"19.3564335\",\"19.305704\",\"19.3814504\",\"19.4370357\",\"20.1997998\",\"21.1263792\",\"21.1166981\",\"19.3109757\",\"19.3697678418\",\"21.129547\",\"19.3033001\",\"19.390415\",\"19.3538129\",\"19.3807458\",\"19.394358\",\"19.318155\",\"19.3723335\",\"19.394073\",\"20.6138413521\",\"21.149204\",\"19.2833726485\",\"19.365175\",\"21.0505319674\",\"21.1697254482\",\"19.2672863\",\"21.129547\",\"20.6162363305\",\"21.1471041\",\"19.354885\",\"19.3499358\",\"21.129547\",\"20.626583\",\"21.129547\",\"19.3605334\",\"19.304676\",\"19.4306069\",\"19.39365\",\"19.390415\",\"19.331932\",\"19.4348398\",\"21.1665638983\",\"19.3908165\",\"21.1158338041\",\"21.161908\",\"21.129547\",\"19.4318149\",\"19.381729\",\"19.4034814\",\"19.343979\",\"19.4336444\",\"19.47517\",\"19.342083\",\"19.2990233\",\"20.6325179952\",\"19.2536688\",\"19.382727579\",\"19.4752953603\",\"19.2990233\",\"19.430456\",\"19.4195256\",\"19.380747\",\"19.3935143\",\"21.129547\",\"21.161908\",\"19.40403\",\"21.129547\",\"19.358065\",\"20.6303744711\",\"21.1714531417\",\"19.4374999\",\"21.1347621\",\"20.626583\",\"20.626583\",\"21.0939597521\",\"19.3605334\",\"20.4996792265\",\"19.4064039\",\"20.4310062\",\"19.3358468\",\"19.3797151\",\"19.4068945\",\"21.196472\",\"19.400524\",\"19.4597505\",\"20.6534856714\",\"19.4535397\",\"19.430132\",\"19.413992\",\"19.3894263\",\"21.161908\",\"21.129547\",\"19.343191\",\"21.1347621\",\"19.387764\",\"19.395209\",\"21.1902642\",\"20.6322881778\",\"19.3614551\",\"19.4822222\",\"19.4193702\",\"21.139086\",\"19.33923\",\"19.392937\",\"21.1394428301\",\"19.3872626\",\"20.2114185\",\"19.3582744\",\"19.401079\",\"19.364737\",\"19.3631419\",\"21.1773904\",\"20.6171200028\",\"20.633865501\",\"19.3038226746\",\"19.3906898041\",\"19.4612738\",\"19.334220844\",\"21.1703857634\",\"21.1363237\",\"19.4356338\",\"21.082655\",\"21.129547\",\"19.382275\",\"21.129547\",\"19.3942860307\",\"21.161908\",\"19.400249\",\"20.8485049\",\"20.2002453173\",\"19.3627249\",\"19.301271\",\"20.6360193359\",\"19.3605334\",\"19.3648588111\",\"19.335419\",\"19.471135\",\"19.3638234\",\"19.384622452\",\"21.1363237\",\"19.364891\",\"19.3018592404\",\"21.203037\",\"19.3862785\",\"21.158964\",\"19.4080873559\",\"19.401079\",\"19.39365\",\"21.1070511\",\"19.2931366\",\"20.626583\",\"19.4306069\",\"21.1805502434\",\"19.353086\",\"21.129547\",\"19.3499358\",\"19.3172544\",\"19.3905245\",\"19.3704998\",\"20.6152723186\",\"19.3607916\",\"19.342083\",\"21.1067068288\",\"21.1325605\",\"19.2729101995\",\"21.0596353\",\"19.3733676\",\"21.1521234608\",\"19.4512044\",\"21.129547\",\"20.6334382037\",\"20.9134618316\",\"20.635482\",\"19.4380266\",\"19.452503\",\"19.394073\",\"21.129547\",\"19.3066442\",\"19.3539321\",\"21.1349669\",\"19.3178194\",\"19.390415\",\"20.613375\"],\"legendgroup\":\"\",\"lon\":[\"-86.8198375\",\"-87.2228193283\",\"-99.1591446\",\"-86.7828512192\",\"-99.0953907\",\"-86.8471578694\",\"-99.2035388947\",\"-99.1889121\",\"-99.1170322895\",\"-86.8515279\",\"-99.254997\",\"-99.1889121\",\"-99.0436467\",\"-99.0706713125\",\"-87.0461797714\",\"-99.0978814\",\"-86.8363599075\",\"-99.1657587614\",\"-99.220367\",\"-87.0540165\",\"-86.817017\",\"-99.2640457\",\"-87.0861594379\",\"-99.24807\",\"-86.8468159\",\"-86.8317228\",\"-86.8198375\",\"-99.153915\",\"-99.1290556\",\"-99.137314\",\"-99.254997\",\"-86.8523054\",\"-99.0601489\",\"-99.1658498\",\"-86.8327018\",\"-99.1632923484\",\"-99.2137844\",\"-99.2554439631\",\"-99.065538235\",\"-99.2906864\",\"-87.094373703\",\"-99.1553016\",\"-86.857162\",\"-99.1396721452\",\"-99.0538781\",\"-86.7717484\",\"-99.254997\",\"-86.8201701343\",\"-86.8429112434\",\"-86.8198375\",\"-87.4630379677\",\"-99.1717827\",\"-86.8512002751\",\"-99.1739405\",\"-99.1521292\",\"-87.0732097328\",\"-86.7644738\",\"-86.817017\",\"-99.2084005\",\"-99.2283274\",\"-99.2153341\",\"-87.0514203197\",\"-98.9978448\",\"-99.14769\",\"-99.2189838\",\"-87.1875\",\"-99.0648632\",\"-99.177444\",\"-86.8690896034\",\"-87.1172904968\",\"-99.1211414337\",\"-99.2480728\",\"-86.84964\",\"-99.160149\",\"-87.0636034012\",\"-99.1527773\",\"-86.7501325607\",\"-87.087635994\",\"-86.8623733521\",\"-86.8170132\",\"-99.1838417575\",\"-86.8238997\",\"-99.18956\",\"-99.149787426\",\"-99.220367\",\"-86.8515279\",\"-87.0964579575\",\"-99.188522\",\"-99.2374929786\",\"-99.1138\",\"-99.2305521\",\"-99.1774462\",\"-99.257774\",\"-99.0949899\",\"-99.2633141\",\"-99.1594925\",\"-99.253616\",\"-99.1895493\",\"-99.177444\",\"-86.8515279\",\"-99.177444\",\"-99.1307421\",\"-99.207909\",\"-87.0924425125\",\"-99.1686282\",\"-86.7666184902\",\"-99.1061901\",\"-86.8515279\",\"-99.177444\",\"-99.1674138\",\"-99.254997\",\"-87.0738851\",\"-99.20929\",\"-99.0993735\",\"-99.185753\",\"-99.1493282287\",\"-86.8179603\",\"-99.1651109\",\"-99.1941739\",\"-99.1876426712\",\"-86.8515279\",\"-99.1973268\",\"-99.2202827\",\"-99.185753\",\"-86.8515279\",\"-99.1774462\",\"-87.0677702129\",\"-86.8185353279\",\"-99.2906864\",\"-87.0929842048\",\"-99.253616\",\"-99.2005645\",\"-87.073113\",\"-99.2189838\",\"-99.131088\",\"-99.133163\",\"-99.1679459\",\"-99.137270786\",\"-99.164986\",\"-86.8198375\",\"-99.220367\",\"-86.8613971\",\"-99.20929\",\"-86.845937\",\"-99.155991\",\"-99.254997\",\"-99.1862188\",\"-87.4653115\",\"-99.130454\",\"-87.079752\",\"-99.1328519441\",\"-99.1075855494\",\"-99.2763233185\",\"-86.843369\",\"-86.8198375\",\"-86.8755342\",\"-87.0738851\",\"-99.066788\",\"-99.1621603\",\"-99.1522157\",\"-86.817017\",\"-99.1836755\",\"-99.0557268\",\"-99.2018433\",\"-99.2059887\",\"-87.0738851\",\"-99.1236134\",\"-99.1633956134\",\"-87.05368\",\"-86.817017\",\"-99.1455392\",\"-86.830727309\",\"-87.1044373512\",\"-99.1729466245\",\"-99.151327014\",\"-99.1821858\",\"-99.1580399126\",\"-86.8256378174\",\"-99.224525\",\"-99.1989148\",\"-99.0436467\",\"-99.164986\",\"-99.1514055\",\"-99.1228191555\",\"-86.8403365\",\"-86.84964\",\"-86.817017\",\"-86.8881652\",\"-87.078659\",\"-86.857162\",\"-86.84964\",\"-86.857162\",\"-92.953393\",\"-99.2989735\",\"-99.180214\",\"-99.177444\",\"-87.2227642199\",\"-86.8218046\",\"-87.0938821882\",\"-99.1248628\",\"-99.1483827\",\"-86.8515279\",\"-87.05368\",\"-86.8190064\",\"-99.1996895\",\"-99.220367\",\"-99.2513326\",\"-99.1444714\",\"-86.8487233455\",\"-86.8198375\",\"-99.174675\",\"-87.078659\",\"-99.064722\",\"-98.988029\",\"-99.0755302\",\"-99.2446129024\",\"-86.8510852754\",\"-86.7688007344\",\"-99.0436467\",\"-86.8211424351\",\"-99.254997\",\"-86.7687320709\",\"-99.0949899\",\"-99.2267067\",\"-87.0446777344\",\"-86.8493821\",\"-99.0495332\",\"-87.0657934248\",\"-86.7919864655\",\"-99.177444\",\"-99.160149\",\"-86.7461357\",\"-99.1802147\",\"-99.2744779587\",\"-99.163605\",\"-87.222649\",\"-99.240456\",\"-99.049999\",\"-87.060341835\",\"-99.1444714\",\"-86.8291139603\",\"-99.2753872275\",\"-99.1858577728\",\"-86.8515279\",\"-99.185753\",\"-86.8198375\",\"-99.1326443\",\"-99.177444\",\"-99.1105131\",\"-86.8170132\",\"-99.0914512\",\"-86.8127975485\",\"-99.1940586\",\"-86.8671302094\",\"-99.2538713053\",\"-99.270241\",\"-87.0931955427\",\"-99.1675547\",\"-86.8515279\",\"-86.844076328\",\"-99.1035542\",\"-86.84964\",\"-99.124863\",\"-99.1653974\",\"-99.177444\",\"-87.0356051624\",\"-99.294244498\",\"-99.005989\",\"-86.8443314731\",\"-99.1630337\",\"-99.1937082\",\"-99.2747354507\",\"-86.880989\",\"-99.172042\",\"-99.1386972\",\"-99.1802147\",\"-99.0574979782\",\"-99.299347\",\"-99.0935504\",\"-86.817017\",\"-99.141464\",\"-99.254997\",\"-99.2663861\",\"-99.2028173804\",\"-99.1724994\",\"-99.177444\",\"-86.817017\",\"-99.1975082\",\"-99.177444\",\"-86.817017\",\"-99.153915\",\"-99.1561883\",\"-86.8287330866\",\"-99.24807\",\"-86.8078365331\",\"-86.817017\",\"-86.823855\",\"-86.8053060941\",\"-86.817017\",\"-86.8750129268\",\"-99.1546074\",\"-99.207909\",\"-99.177444\",\"-86.7643776\",\"-99.2267067\",\"-99.0648692\",\"-99.24807\",\"-87.089897\",\"-86.8198375\",\"-86.8486808\",\"-99.2017929554\",\"-87.0856317133\",\"-87.0886230469\",\"-99.1321904\",\"-86.8460386992\",\"-99.1476908\",\"-99.1589625\",\"-86.817017\",\"-87.078659\",\"-99.1566525819\",\"-99.2047923\",\"-99.0949899\",\"-99.0436467\",\"-99.188522\",\"-86.857162\",\"-87.0701050758\",\"-99.2906864\",\"-99.299347\",\"-99.1864442\",\"-86.801122427\",\"-87.089897\",\"-99.2965778\",\"-99.24807\",\"-87.093088647\",\"-99.2906864\",\"-87.078659\",\"-99.1543257236\",\"-99.1428406\",\"-87.0468020439\",\"-86.857162\",\"-99.1393153\",\"-99.0436467\",\"-99.1709895\",\"-99.220367\",\"-86.845937\",\"-86.806343\",\"-86.817017\",\"-99.160149\",\"-99.188522\",\"-86.7676243186\",\"-86.7461357\",\"-87.462213\",\"-87.0929412894\",\"-99.24807\",\"-99.1186279\",\"-99.1424947\",\"-86.8414847\",\"-99.0802278\",\"-86.845937\",\"-86.854012236\",\"-86.817017\",\"-99.146996\",\"-86.7461357\",\"-99.146568\",\"-86.7653115839\",\"-86.8605192751\",\"-99.1871851\",\"-99.177444\",\"-99.1739857\",\"-99.180214\",\"-99.1685736179\",\"-99.164986\",\"-99.181946\",\"-99.220367\",\"-86.817017\",\"-99.0522925\",\"-87.0893418789\",\"-86.817017\",\"-86.876106\",\"-86.8515279\",\"-87.0738851\",\"-99.1029664\",\"-99.082512\",\"-99.1933122\",\"-86.833328\",\"-99.254997\",\"-99.2266013\",\"-87.0873355865\",\"-86.822662\",\"-99.2046815157\",\"-99.1936147213\",\"-86.8110895104\",\"-99.2316619\",\"-99.1781383\",\"-99.0532159\",\"-99.1517197\",\"-87.088137567\",\"-86.857162\",\"-86.845937\",\"-86.8526161\",\"-99.160149\",\"-86.8756813999\",\"-99.162549\",\"-99.1591446\",\"-99.1351802\",\"-86.822662\",\"-99.1366219\",\"-99.2309335247\",\"-99.2575527\",\"-99.1565217\",\"-86.8179817\",\"-99.0436467\",\"-99.150598\",\"-86.84964\",\"-86.817017\",\"-99.1734831344\",\"-99.2906864\",\"-99.1760298\",\"-99.1773503087\",\"-102.552788\",\"-86.8170132\",\"-87.078659\",\"-86.8384051323\",\"-99.1738213\",\"-87.0433473587\",\"-99.1249413\",\"-99.263313\",\"-99.14769\",\"-99.2597205\",\"-99.254997\",\"-86.821495\",\"-86.845937\",\"-99.1664667\",\"-99.2239303\",\"-99.0636818111\",\"-99.1984791771\",\"-87.089897\",\"-99.263313\",\"-99.225042\",\"-86.8136816022\",\"-86.817017\",\"-99.1359301\",\"-86.834587\",\"-86.8424262\",\"-99.2272939\",\"-87.0512866974\",\"-87.078659\",\"-99.0909786\",\"-86.826621\",\"-86.7645008595\",\"-99.0532159\",\"-86.8198375\",\"-99.1373136\",\"-99.2906864\",\"-99.1013498\",\"-87.0665431023\",\"-87.0735168534\",\"-99.1284592\",\"-86.806343\",\"-86.845937\",\"-99.124128\",\"-99.2512178421\",\"-86.8601348\",\"-86.8371164917\",\"-87.087635994\",\"-99.0232535452\",\"-87.0846239\",\"-86.8744432926\",\"-99.220367\",\"-99.2738167\",\"-99.2880597\",\"-86.870964\",\"-86.817017\",\"-86.827522\",\"-86.7890967686\",\"-86.852333\",\"-99.2585662\",\"-99.220367\",\"-87.0861808956\",\"-86.7717484\",\"-86.8720579\",\"-86.8196618557\",\"-99.2561697\",\"-99.2304104\",\"-99.0949899\",\"-87.0614790916\",\"-99.2656696\",\"-87.0664519072\",\"-99.1694434\",\"-99.2114234\",\"-99.2707271\",\"-87.0555566\",\"-99.1774462\",\"-99.1900871\",\"-99.041011\",\"-99.0419068\",\"-86.857162\",\"-99.2575089633\",\"-99.0532159\",\"-86.817017\",\"-87.089897\",\"-99.2424845695\",\"-99.1359301\",\"-99.1221422\",\"-87.0702452213\",\"-86.8418882793\",\"-99.1889121\",\"-86.8515279\",\"-86.833328\",\"-99.140989\",\"-99.163605\",\"-99.075081\",\"-87.065320015\",\"-99.1274918\",\"-99.2233579\",\"-86.817017\",\"-86.817017\",\"-99.0532159\",\"-87.0967032015\",\"-99.1260113\",\"-87.0375967009\",\"-99.2156059\",\"-87.069916\",\"-86.8443431\",\"-99.1277845949\",\"-86.845937\",\"-99.2906864\",\"-99.2001362\",\"-99.1621111\",\"-87.0696544647\",\"-99.164986\",\"-99.0609099\",\"-99.122192\",\"-87.0624379814\",\"-99.1084470754\",\"-87.078659\",\"-99.0436467\",\"-87.05368\",\"-99.2005645\",\"-86.8428039551\",\"-86.809829235\",\"-86.7680883408\",\"-99.212753\",\"-99.254997\",\"-99.2443878653\",\"-99.171906\",\"-99.137825\",\"-99.2880597\",\"-99.1303962\",\"-99.2518829\",\"-86.8538246176\",\"-99.153915\",\"-99.0586721712\",\"-86.8063267\",\"-87.078659\",\"-86.8437652336\",\"-86.8531680107\",\"-99.2906864\",\"-86.8694972992\",\"-99.0862727\",\"-86.845937\",\"-99.191292\",\"-87.0688196272\",\"-87.222649\",\"-86.817017\",\"-86.817017\",\"-99.1232228\",\"-87.3351425617\",\"-99.254997\",\"-99.2046627402\",\"-99.24807\",\"-87.0675919\",\"-99.14769\",\"-99.2948520184\",\"-99.1591446\",\"-99.224525\",\"-99.224525\",\"-86.84964\",\"-99.1956012\",\"-99.1926314\",\"-99.0826336\",\"-86.7461357\",\"-86.7631530762\",\"-86.8220527\",\"-86.833321\",\"-87.0588966\",\"-99.146568\",\"-99.1893281\",\"-99.24807\",\"-99.1801033\",\"-87.0846239\",\"-99.138695\",\"-99.1821858\",\"-99.263313\",\"-99.2114234\",\"-86.817017\",\"-86.8256945\",\"-86.817017\",\"-99.164986\",\"-86.817017\",\"-99.2446842\",\"-99.2880597\",\"-99.160149\",\"-87.078659\",\"-86.8630984\",\"-86.8190064\",\"-99.1711270809\",\"-86.812592\",\"-99.1933503\",\"-99.1444714\",\"-99.094437\",\"-99.131088\",\"-87.335145851\",\"-99.276464805\",\"-99.236298\",\"-99.0949899\",\"-87.078659\",\"-88.296146\",\"-87.078659\",\"-86.876106\",\"-87.089897\",\"-86.8431043625\",\"-99.167762\",\"-99.2267067\",\"-86.8515279\",\"-86.8185997009\",\"-99.177444\",\"-99.1061210632\",\"-86.7700412137\",\"-87.09972471\",\"-99.1724994\",\"-99.0949899\",\"-99.1822012514\",\"-87.0738851\",\"-99.1636051\",\"-99.263313\",\"-99.1712969\",\"-87.0932822227\",\"-86.899796\",\"-99.2645126\",\"-86.817017\",\"-87.2298974\",\"-99.2529911\",\"-99.0532159\",\"-99.2691159161\",\"-86.817017\",\"-99.254997\",\"-99.2721176147\",\"-99.3014315\",\"-86.8450424\",\"-99.1863574\",\"-86.845937\",\"-99.0436467\",\"-99.171906\",\"-86.8090295792\",\"-99.2983107\",\"-99.2793354392\",\"-86.8789560296\",\"-86.7593078624\",\"-87.0665216446\",\"-86.7823188007\",\"-86.857162\",\"-86.8170132\",\"-99.2124468\",\"-86.8607521\",\"-87.089897\",\"-99.056419\",\"-99.164609\",\"-86.84964\",\"-99.1193297\",\"-99.0532159\",\"-99.233528\",\"-99.1370465\",\"-99.1331631\",\"-99.1243748367\",\"-87.0495788548\",\"-99.1699933\",\"-87.4653502\",\"-86.8223842978\",\"-86.8815941\",\"-86.8272287212\",\"-86.9665288925\",\"-99.1624422\",\"-99.2402824759\",\"-99.1828966141\",\"-99.1225852\",\"-86.8136043538\",\"-99.146999\",\"-86.8198375\",\"-86.845937\",\"-86.8170132\",\"-86.84964\",\"-87.0712423325\",\"-86.870964\",\"-86.839918\",\"-99.2110426545\",\"-99.2730736\",\"-86.8198375\",\"-99.1461089\",\"-86.8427503109\",\"-86.817017\",\"-99.142799\",\"-86.8519605\",\"-86.8515279\",\"-99.224352\",\"-99.1691413\",\"-86.8843138218\",\"-99.1641013\",\"-87.0738851\",\"-99.1821858\",\"-99.1933664\",\"-99.2023662\",\"-99.1587613\",\"-99.254997\",\"-99.1488603\",\"-99.3092749\",\"-99.1633604933\",\"-99.1545368\",\"-99.2349122\",\"-87.078659\",\"-86.8170132\",\"-87.0390343666\",\"-99.1729456\",\"-86.817017\",\"-99.1922219\",\"-86.817017\",\"-86.817017\",\"-99.2502351478\",\"-87.089897\",\"-86.84964\",\"-99.1740457\",\"-86.817017\",\"-86.84964\",\"-99.1933122\",\"-99.0436467\",\"-87.0956611633\",\"-87.454707\",\"-86.8170132\",\"-87.05368\",\"-99.20237\",\"-99.1654942\",\"-99.2300641\",\"-99.2419586651\",\"-99.2906864\",\"-99.20237\",\"-99.2436829\",\"-86.817017\",\"-99.1348925\",\"-99.2323872\",\"-99.163605\",\"-86.8092875\",\"-99.2267067\",\"-99.1624422\",\"-86.8215742707\",\"-87.222649\",\"-99.218987\",\"-99.1362959\",\"-99.254997\",\"-87.0474243164\",\"-99.144234\",\"-99.220367\",\"-99.177444\",\"-99.1900420189\",\"-99.0436467\",\"-99.0949899\",\"-87.0738851\",\"-99.0712814\",\"-87.0686781406\",\"-99.1326011\",\"-99.141393\",\"-86.8517813087\",\"-86.8515279\",\"-87.0955448467\",\"-86.8412737548\",\"-86.852814\",\"-99.1906668\",\"-99.1407001019\",\"-99.0816683695\",\"-99.1995969\",\"-99.2397431\",\"-99.160149\",\"-99.174675\",\"-99.270241\",\"-87.0838422765\",\"-87.089897\",\"-86.857162\",\"-99.1862648\",\"-99.185753\",\"-99.1754024\",\"-99.2114234\",\"-86.817017\",\"-86.8464303017\",\"-86.8341819538\",\"-99.0949899\",\"-99.24807\",\"-86.8614721298\",\"-99.180214\",\"-87.0422905684\",\"-99.2267067\",\"-99.2047356\",\"-87.0733720064\",\"-86.8612012\",\"-86.817017\",\"-86.8470686674\",\"-99.24807\",\"-87.45647192\",\"-86.817017\",\"-99.1297322\",\"-86.840701\",\"-99.1561883\",\"-86.8537387843\",\"-99.1483827\",\"-99.2480728\",\"-99.2650096\",\"-86.817017\",\"-86.8138431\",\"-99.263313\",\"-99.185753\",\"-99.0436467\",\"-99.109777\",\"-99.1719297\",\"-87.0783920284\",\"-86.8629654497\",\"-99.263313\",\"-99.159454\",\"-86.8466999\",\"-86.826621\",\"-87.4699687958\",\"-99.0949899\",\"-99.1765344143\",\"-86.879738\",\"-99.2768399\",\"-86.8170132\",\"-87.064100951\",\"-99.254997\",\"-99.1933122\",\"-86.84964\",\"-99.175369\",\"-99.1038592905\",\"-99.0436467\",\"-99.1248628\",\"-87.0707702637\",\"-99.1396057606\",\"-86.879738\",\"-99.1594532\",\"-87.1027529253\",\"-99.159454\",\"-86.817017\",\"-86.857162\",\"-99.1575957\",\"-86.823288\",\"-87.078659\",\"-99.2513326\",\"-99.1179867\",\"-86.817017\",\"-99.2178363\",\"-86.7695245746\",\"-99.2650692265\",\"-99.0550169349\",\"-99.218987\",\"-99.1444714\",\"-99.1933503\",\"-99.2229219\",\"-99.106194\",\"-99.208595\",\"-99.179176\",\"-87.078659\",\"-86.9545635581\",\"-86.7826767\",\"-99.108269\",\"-87.2394444\",\"-99.188522\",\"-86.843106\",\"-86.84964\",\"-99.1927294\",\"-102.552788\",\"-99.0477689\",\"-99.140855\",\"-86.819778\",\"-99.1176906602\",\"-99.254997\",\"-99.2906864\",\"-99.263313\",\"-99.1872093\",\"-99.133163\",\"-99.07093\",\"-86.8070280868\",\"-99.1584244743\",\"-87.467918\",\"-99.132469\",\"-99.163605\",\"-99.0406322479\",\"-86.879738\",\"-86.8253327\",\"-99.007392\",\"-99.188522\",\"-99.0949899\",\"-86.8530794978\",\"-99.0976808\",\"-87.0930056625\",\"-87.2394444\",\"-87.0599282\",\"-86.8170132\",\"-99.2793830484\",\"-99.1660007089\",\"-99.155623791\",\"-99.24807\",\"-86.8388557434\",\"-99.1580693\",\"-87.222649\",\"-87.0735168534\",\"-86.767053\",\"-99.283409\",\"-99.2384775\",\"-86.8414847\",\"-87.0738851\",\"-99.164986\",\"-99.0817321\",\"-99.1889121\",\"-87.4605774\",\"-99.167894\",\"-99.1988448\",\"-99.182983\",\"-99.1919122\",\"-99.2117591\",\"-87.454707\",\"-86.8353838\",\"-86.8423014\",\"-99.2426849\",\"-99.1392753126\",\"-86.817017\",\"-99.2310901\",\"-99.254997\",\"-99.1636051\",\"-99.1553016\",\"-99.177444\",\"-99.220718\",\"-99.1905974\",\"-99.153915\",\"-87.0809921622\",\"-86.833328\",\"-99.0550169349\",\"-99.230064\",\"-86.853179874\",\"-86.8195867538\",\"-99.1659764\",\"-86.817017\",\"-87.0870351791\",\"-86.8315128\",\"-99.0994268\",\"-99.2906864\",\"-86.817017\",\"-87.078659\",\"-86.817017\",\"-99.2267067\",\"-99.042382\",\"-99.0949899\",\"-99.14769\",\"-99.254997\",\"-99.246689\",\"-99.1521771\",\"-86.8137559903\",\"-99.1466355\",\"-86.7654833795\",\"-86.8515279\",\"-86.817017\",\"-99.1940586\",\"-99.164986\",\"-99.2456791\",\"-99.124863\",\"-99.1901467\",\"-99.152534\",\"-99.0532159\",\"-99.0436467\",\"-87.0732887503\",\"-99.1726141\",\"-99.1582889556\",\"-99.1893056412\",\"-99.0436467\",\"-99.1889121\",\"-99.162549\",\"-99.155304\",\"-99.1649891\",\"-86.817017\",\"-86.8515279\",\"-99.233528\",\"-86.817017\",\"-99.093647\",\"-87.0694720745\",\"-86.8190298602\",\"-99.1873839\",\"-86.7461357\",\"-87.078659\",\"-87.078659\",\"-86.8690386415\",\"-99.2267067\",\"-86.9429984902\",\"-99.1873154\",\"-86.9080654\",\"-99.1479328\",\"-99.1677132\",\"-99.1237906\",\"-86.820439\",\"-99.230064\",\"-99.2067717\",\"-87.0873141276\",\"-99.1826636\",\"-99.169144\",\"-99.138695\",\"-99.2651278\",\"-86.8515279\",\"-86.817017\",\"-99.02256\",\"-86.7461357\",\"-99.176758\",\"-99.230157\",\"-86.8198375\",\"-87.0662405156\",\"-99.0061546\",\"-99.1125\",\"-99.1119615\",\"-86.84964\",\"-99.218987\",\"-99.263313\",\"-86.8321689963\",\"-99.1754024\",\"-87.4653502\",\"-99.2723517\",\"-99.24807\",\"-99.282021\",\"-99.2880597\",\"-86.81798\",\"-87.0826148987\",\"-87.0771012828\",\"-99.2213702202\",\"-99.1795009375\",\"-99.1214045\",\"-99.2409738153\",\"-86.8150269985\",\"-86.7681794\",\"-99.1495107\",\"-86.857162\",\"-86.817017\",\"-99.270241\",\"-86.817017\",\"-99.264868657\",\"-86.8515279\",\"-99.177444\",\"-86.8767656\",\"-87.4502599239\",\"-99.1755287\",\"-99.139389\",\"-87.0716017485\",\"-99.2267067\",\"-99.1634988785\",\"-99.119331\",\"-99.1595701\",\"-99.1444714\",\"-99.1519181058\",\"-86.7681794\",\"-99.148384\",\"-99.1369248927\",\"-86.806343\",\"-99.24329\",\"-86.845937\",\"-99.1828288883\",\"-99.24807\",\"-99.14769\",\"-86.8468159\",\"-99.1604902\",\"-87.078659\",\"-99.0949899\",\"-86.8347787857\",\"-99.0982879\",\"-86.817017\",\"-99.2906864\",\"-99.2037972\",\"-99.1797506\",\"-99.1393889\",\"-87.0927214622\",\"-99.2366437\",\"-99.0532159\",\"-86.8398427963\",\"-86.8590473\",\"-99.1381273264\",\"-86.8501102\",\"-99.1337252\",\"-86.8521635234\",\"-99.1536306\",\"-86.817017\",\"-87.067412138\",\"-86.8745183945\",\"-87.070345\",\"-99.1885632\",\"-99.120018\",\"-99.153915\",\"-86.817017\",\"-99.210077\",\"-99.291726\",\"-86.8684529\",\"-99.1324714\",\"-99.254997\",\"-87.089897\"],\"marker\":{\"color\":\"#636efa\"},\"mode\":\"markers\",\"name\":\"\",\"showlegend\":false,\"subplot\":\"mapbox\",\"type\":\"scattermapbox\"}],                        {\"template\":{\"data\":{\"histogram2dcontour\":[{\"type\":\"histogram2dcontour\",\"colorbar\":{\"outlinewidth\":0,\"ticks\":\"\"},\"colorscale\":[[0.0,\"#0d0887\"],[0.1111111111111111,\"#46039f\"],[0.2222222222222222,\"#7201a8\"],[0.3333333333333333,\"#9c179e\"],[0.4444444444444444,\"#bd3786\"],[0.5555555555555556,\"#d8576b\"],[0.6666666666666666,\"#ed7953\"],[0.7777777777777778,\"#fb9f3a\"],[0.8888888888888888,\"#fdca26\"],[1.0,\"#f0f921\"]]}],\"choropleth\":[{\"type\":\"choropleth\",\"colorbar\":{\"outlinewidth\":0,\"ticks\":\"\"}}],\"histogram2d\":[{\"type\":\"histogram2d\",\"colorbar\":{\"outlinewidth\":0,\"ticks\":\"\"},\"colorscale\":[[0.0,\"#0d0887\"],[0.1111111111111111,\"#46039f\"],[0.2222222222222222,\"#7201a8\"],[0.3333333333333333,\"#9c179e\"],[0.4444444444444444,\"#bd3786\"],[0.5555555555555556,\"#d8576b\"],[0.6666666666666666,\"#ed7953\"],[0.7777777777777778,\"#fb9f3a\"],[0.8888888888888888,\"#fdca26\"],[1.0,\"#f0f921\"]]}],\"heatmap\":[{\"type\":\"heatmap\",\"colorbar\":{\"outlinewidth\":0,\"ticks\":\"\"},\"colorscale\":[[0.0,\"#0d0887\"],[0.1111111111111111,\"#46039f\"],[0.2222222222222222,\"#7201a8\"],[0.3333333333333333,\"#9c179e\"],[0.4444444444444444,\"#bd3786\"],[0.5555555555555556,\"#d8576b\"],[0.6666666666666666,\"#ed7953\"],[0.7777777777777778,\"#fb9f3a\"],[0.8888888888888888,\"#fdca26\"],[1.0,\"#f0f921\"]]}],\"heatmapgl\":[{\"type\":\"heatmapgl\",\"colorbar\":{\"outlinewidth\":0,\"ticks\":\"\"},\"colorscale\":[[0.0,\"#0d0887\"],[0.1111111111111111,\"#46039f\"],[0.2222222222222222,\"#7201a8\"],[0.3333333333333333,\"#9c179e\"],[0.4444444444444444,\"#bd3786\"],[0.5555555555555556,\"#d8576b\"],[0.6666666666666666,\"#ed7953\"],[0.7777777777777778,\"#fb9f3a\"],[0.8888888888888888,\"#fdca26\"],[1.0,\"#f0f921\"]]}],\"contourcarpet\":[{\"type\":\"contourcarpet\",\"colorbar\":{\"outlinewidth\":0,\"ticks\":\"\"}}],\"contour\":[{\"type\":\"contour\",\"colorbar\":{\"outlinewidth\":0,\"ticks\":\"\"},\"colorscale\":[[0.0,\"#0d0887\"],[0.1111111111111111,\"#46039f\"],[0.2222222222222222,\"#7201a8\"],[0.3333333333333333,\"#9c179e\"],[0.4444444444444444,\"#bd3786\"],[0.5555555555555556,\"#d8576b\"],[0.6666666666666666,\"#ed7953\"],[0.7777777777777778,\"#fb9f3a\"],[0.8888888888888888,\"#fdca26\"],[1.0,\"#f0f921\"]]}],\"surface\":[{\"type\":\"surface\",\"colorbar\":{\"outlinewidth\":0,\"ticks\":\"\"},\"colorscale\":[[0.0,\"#0d0887\"],[0.1111111111111111,\"#46039f\"],[0.2222222222222222,\"#7201a8\"],[0.3333333333333333,\"#9c179e\"],[0.4444444444444444,\"#bd3786\"],[0.5555555555555556,\"#d8576b\"],[0.6666666666666666,\"#ed7953\"],[0.7777777777777778,\"#fb9f3a\"],[0.8888888888888888,\"#fdca26\"],[1.0,\"#f0f921\"]]}],\"mesh3d\":[{\"type\":\"mesh3d\",\"colorbar\":{\"outlinewidth\":0,\"ticks\":\"\"}}],\"scatter\":[{\"fillpattern\":{\"fillmode\":\"overlay\",\"size\":10,\"solidity\":0.2},\"type\":\"scatter\"}],\"parcoords\":[{\"type\":\"parcoords\",\"line\":{\"colorbar\":{\"outlinewidth\":0,\"ticks\":\"\"}}}],\"scatterpolargl\":[{\"type\":\"scatterpolargl\",\"marker\":{\"colorbar\":{\"outlinewidth\":0,\"ticks\":\"\"}}}],\"bar\":[{\"error_x\":{\"color\":\"#2a3f5f\"},\"error_y\":{\"color\":\"#2a3f5f\"},\"marker\":{\"line\":{\"color\":\"#E5ECF6\",\"width\":0.5},\"pattern\":{\"fillmode\":\"overlay\",\"size\":10,\"solidity\":0.2}},\"type\":\"bar\"}],\"scattergeo\":[{\"type\":\"scattergeo\",\"marker\":{\"colorbar\":{\"outlinewidth\":0,\"ticks\":\"\"}}}],\"scatterpolar\":[{\"type\":\"scatterpolar\",\"marker\":{\"colorbar\":{\"outlinewidth\":0,\"ticks\":\"\"}}}],\"histogram\":[{\"marker\":{\"pattern\":{\"fillmode\":\"overlay\",\"size\":10,\"solidity\":0.2}},\"type\":\"histogram\"}],\"scattergl\":[{\"type\":\"scattergl\",\"marker\":{\"colorbar\":{\"outlinewidth\":0,\"ticks\":\"\"}}}],\"scatter3d\":[{\"type\":\"scatter3d\",\"line\":{\"colorbar\":{\"outlinewidth\":0,\"ticks\":\"\"}},\"marker\":{\"colorbar\":{\"outlinewidth\":0,\"ticks\":\"\"}}}],\"scattermapbox\":[{\"type\":\"scattermapbox\",\"marker\":{\"colorbar\":{\"outlinewidth\":0,\"ticks\":\"\"}}}],\"scatterternary\":[{\"type\":\"scatterternary\",\"marker\":{\"colorbar\":{\"outlinewidth\":0,\"ticks\":\"\"}}}],\"scattercarpet\":[{\"type\":\"scattercarpet\",\"marker\":{\"colorbar\":{\"outlinewidth\":0,\"ticks\":\"\"}}}],\"carpet\":[{\"aaxis\":{\"endlinecolor\":\"#2a3f5f\",\"gridcolor\":\"white\",\"linecolor\":\"white\",\"minorgridcolor\":\"white\",\"startlinecolor\":\"#2a3f5f\"},\"baxis\":{\"endlinecolor\":\"#2a3f5f\",\"gridcolor\":\"white\",\"linecolor\":\"white\",\"minorgridcolor\":\"white\",\"startlinecolor\":\"#2a3f5f\"},\"type\":\"carpet\"}],\"table\":[{\"cells\":{\"fill\":{\"color\":\"#EBF0F8\"},\"line\":{\"color\":\"white\"}},\"header\":{\"fill\":{\"color\":\"#C8D4E3\"},\"line\":{\"color\":\"white\"}},\"type\":\"table\"}],\"barpolar\":[{\"marker\":{\"line\":{\"color\":\"#E5ECF6\",\"width\":0.5},\"pattern\":{\"fillmode\":\"overlay\",\"size\":10,\"solidity\":0.2}},\"type\":\"barpolar\"}],\"pie\":[{\"automargin\":true,\"type\":\"pie\"}]},\"layout\":{\"autotypenumbers\":\"strict\",\"colorway\":[\"#636efa\",\"#EF553B\",\"#00cc96\",\"#ab63fa\",\"#FFA15A\",\"#19d3f3\",\"#FF6692\",\"#B6E880\",\"#FF97FF\",\"#FECB52\"],\"font\":{\"color\":\"#2a3f5f\"},\"hovermode\":\"closest\",\"hoverlabel\":{\"align\":\"left\"},\"paper_bgcolor\":\"white\",\"plot_bgcolor\":\"#E5ECF6\",\"polar\":{\"bgcolor\":\"#E5ECF6\",\"angularaxis\":{\"gridcolor\":\"white\",\"linecolor\":\"white\",\"ticks\":\"\"},\"radialaxis\":{\"gridcolor\":\"white\",\"linecolor\":\"white\",\"ticks\":\"\"}},\"ternary\":{\"bgcolor\":\"#E5ECF6\",\"aaxis\":{\"gridcolor\":\"white\",\"linecolor\":\"white\",\"ticks\":\"\"},\"baxis\":{\"gridcolor\":\"white\",\"linecolor\":\"white\",\"ticks\":\"\"},\"caxis\":{\"gridcolor\":\"white\",\"linecolor\":\"white\",\"ticks\":\"\"}},\"coloraxis\":{\"colorbar\":{\"outlinewidth\":0,\"ticks\":\"\"}},\"colorscale\":{\"sequential\":[[0.0,\"#0d0887\"],[0.1111111111111111,\"#46039f\"],[0.2222222222222222,\"#7201a8\"],[0.3333333333333333,\"#9c179e\"],[0.4444444444444444,\"#bd3786\"],[0.5555555555555556,\"#d8576b\"],[0.6666666666666666,\"#ed7953\"],[0.7777777777777778,\"#fb9f3a\"],[0.8888888888888888,\"#fdca26\"],[1.0,\"#f0f921\"]],\"sequentialminus\":[[0.0,\"#0d0887\"],[0.1111111111111111,\"#46039f\"],[0.2222222222222222,\"#7201a8\"],[0.3333333333333333,\"#9c179e\"],[0.4444444444444444,\"#bd3786\"],[0.5555555555555556,\"#d8576b\"],[0.6666666666666666,\"#ed7953\"],[0.7777777777777778,\"#fb9f3a\"],[0.8888888888888888,\"#fdca26\"],[1.0,\"#f0f921\"]],\"diverging\":[[0,\"#8e0152\"],[0.1,\"#c51b7d\"],[0.2,\"#de77ae\"],[0.3,\"#f1b6da\"],[0.4,\"#fde0ef\"],[0.5,\"#f7f7f7\"],[0.6,\"#e6f5d0\"],[0.7,\"#b8e186\"],[0.8,\"#7fbc41\"],[0.9,\"#4d9221\"],[1,\"#276419\"]]},\"xaxis\":{\"gridcolor\":\"white\",\"linecolor\":\"white\",\"ticks\":\"\",\"title\":{\"standoff\":15},\"zerolinecolor\":\"white\",\"automargin\":true,\"zerolinewidth\":2},\"yaxis\":{\"gridcolor\":\"white\",\"linecolor\":\"white\",\"ticks\":\"\",\"title\":{\"standoff\":15},\"zerolinecolor\":\"white\",\"automargin\":true,\"zerolinewidth\":2},\"scene\":{\"xaxis\":{\"backgroundcolor\":\"#E5ECF6\",\"gridcolor\":\"white\",\"linecolor\":\"white\",\"showbackground\":true,\"ticks\":\"\",\"zerolinecolor\":\"white\",\"gridwidth\":2},\"yaxis\":{\"backgroundcolor\":\"#E5ECF6\",\"gridcolor\":\"white\",\"linecolor\":\"white\",\"showbackground\":true,\"ticks\":\"\",\"zerolinecolor\":\"white\",\"gridwidth\":2},\"zaxis\":{\"backgroundcolor\":\"#E5ECF6\",\"gridcolor\":\"white\",\"linecolor\":\"white\",\"showbackground\":true,\"ticks\":\"\",\"zerolinecolor\":\"white\",\"gridwidth\":2}},\"shapedefaults\":{\"line\":{\"color\":\"#2a3f5f\"}},\"annotationdefaults\":{\"arrowcolor\":\"#2a3f5f\",\"arrowhead\":0,\"arrowwidth\":1},\"geo\":{\"bgcolor\":\"white\",\"landcolor\":\"#E5ECF6\",\"subunitcolor\":\"white\",\"showland\":true,\"showlakes\":true,\"lakecolor\":\"white\"},\"title\":{\"x\":0.05},\"mapbox\":{\"style\":\"light\"}}},\"mapbox\":{\"domain\":{\"x\":[0.0,1.0],\"y\":[0.0,1.0]},\"center\":{\"lat\":19.43,\"lon\":-99.13},\"zoom\":8,\"style\":\"open-street-map\"},\"legend\":{\"tracegroupgap\":0},\"margin\":{\"t\":60},\"height\":600,\"width\":600},                        {\"responsive\": true}                    ).then(function(){\n",
              "                            \n",
              "var gd = document.getElementById('a8f88ebc-db3c-4439-9344-e2803c18b336');\n",
              "var x = new MutationObserver(function (mutations, observer) {{\n",
              "        var display = window.getComputedStyle(gd).display;\n",
              "        if (!display || display === 'none') {{\n",
              "            console.log([gd, 'removed!']);\n",
              "            Plotly.purge(gd);\n",
              "            observer.disconnect();\n",
              "        }}\n",
              "}});\n",
              "\n",
              "// Listen for the removal of the full notebook cells\n",
              "var notebookContainer = gd.closest('#notebook-container');\n",
              "if (notebookContainer) {{\n",
              "    x.observe(notebookContainer, {childList: true});\n",
              "}}\n",
              "\n",
              "// Listen for the clearing of the current output cell\n",
              "var outputEl = gd.closest('.output');\n",
              "if (outputEl) {{\n",
              "    x.observe(outputEl, {childList: true});\n",
              "}}\n",
              "\n",
              "                        })                };                            </script>        </div>\n",
              "</body>\n",
              "</html>"
            ]
          },
          "metadata": {}
        }
      ]
    },
    {
      "cell_type": "markdown",
      "source": [
        "Categorical Data : \"State\""
      ],
      "metadata": {
        "id": "HJUFjHNvLkQi"
      }
    },
    {
      "cell_type": "code",
      "source": [
        "print(df[\"State\"].unique())\n",
        "print(df[\"State\"].value_counts())"
      ],
      "metadata": {
        "colab": {
          "base_uri": "https://localhost:8080/"
        },
        "id": "i6SNhxAPKjL_",
        "outputId": "360f2f46-df0b-4a6b-a2cc-a58cdd2e31f2"
      },
      "execution_count": null,
      "outputs": [
        {
          "output_type": "stream",
          "name": "stdout",
          "text": [
            "['Quintana Roo' 'Distrito Federal' 'Solidaridad' 'Benito Juárez'\n",
            " 'Zacatecas']\n",
            "State\n",
            "Distrito Federal    639\n",
            "Quintana Roo        439\n",
            "Solidaridad          19\n",
            "Benito Juárez         3\n",
            "Zacatecas             3\n",
            "Name: count, dtype: int64\n"
          ]
        }
      ]
    },
    {
      "cell_type": "markdown",
      "source": [
        "Numerical Data : \"surface_covered_in_m2\" and \"price_aprox_usd\""
      ],
      "metadata": {
        "id": "S_jVXfJDMK9f"
      }
    },
    {
      "cell_type": "code",
      "source": [
        "df[[\"surface_covered_in_m2\", \"price_aprox_usd\"]].describe()"
      ],
      "metadata": {
        "colab": {
          "base_uri": "https://localhost:8080/",
          "height": 300
        },
        "id": "5jTE6jWALy7t",
        "outputId": "e4f77e09-91a9-4953-ecb1-52a3fc0ac451"
      },
      "execution_count": null,
      "outputs": [
        {
          "output_type": "execute_result",
          "data": {
            "text/plain": [
              "       surface_covered_in_m2  price_aprox_usd\n",
              "count            1103.000000     1.103000e+03\n",
              "mean              246.056210     4.824053e+05\n",
              "std               276.626972     9.615101e+05\n",
              "min                 1.000000     7.823940e+03\n",
              "25%                93.000000     1.240223e+05\n",
              "50%               173.000000     2.400923e+05\n",
              "75%               300.000000     4.727362e+05\n",
              "max              4500.000000     2.008064e+07"
            ],
            "text/html": [
              "\n",
              "  <div id=\"df-458fe798-f27f-4b00-86b3-3a91cd81dbb7\" class=\"colab-df-container\">\n",
              "    <div>\n",
              "<style scoped>\n",
              "    .dataframe tbody tr th:only-of-type {\n",
              "        vertical-align: middle;\n",
              "    }\n",
              "\n",
              "    .dataframe tbody tr th {\n",
              "        vertical-align: top;\n",
              "    }\n",
              "\n",
              "    .dataframe thead th {\n",
              "        text-align: right;\n",
              "    }\n",
              "</style>\n",
              "<table border=\"1\" class=\"dataframe\">\n",
              "  <thead>\n",
              "    <tr style=\"text-align: right;\">\n",
              "      <th></th>\n",
              "      <th>surface_covered_in_m2</th>\n",
              "      <th>price_aprox_usd</th>\n",
              "    </tr>\n",
              "  </thead>\n",
              "  <tbody>\n",
              "    <tr>\n",
              "      <th>count</th>\n",
              "      <td>1103.000000</td>\n",
              "      <td>1.103000e+03</td>\n",
              "    </tr>\n",
              "    <tr>\n",
              "      <th>mean</th>\n",
              "      <td>246.056210</td>\n",
              "      <td>4.824053e+05</td>\n",
              "    </tr>\n",
              "    <tr>\n",
              "      <th>std</th>\n",
              "      <td>276.626972</td>\n",
              "      <td>9.615101e+05</td>\n",
              "    </tr>\n",
              "    <tr>\n",
              "      <th>min</th>\n",
              "      <td>1.000000</td>\n",
              "      <td>7.823940e+03</td>\n",
              "    </tr>\n",
              "    <tr>\n",
              "      <th>25%</th>\n",
              "      <td>93.000000</td>\n",
              "      <td>1.240223e+05</td>\n",
              "    </tr>\n",
              "    <tr>\n",
              "      <th>50%</th>\n",
              "      <td>173.000000</td>\n",
              "      <td>2.400923e+05</td>\n",
              "    </tr>\n",
              "    <tr>\n",
              "      <th>75%</th>\n",
              "      <td>300.000000</td>\n",
              "      <td>4.727362e+05</td>\n",
              "    </tr>\n",
              "    <tr>\n",
              "      <th>max</th>\n",
              "      <td>4500.000000</td>\n",
              "      <td>2.008064e+07</td>\n",
              "    </tr>\n",
              "  </tbody>\n",
              "</table>\n",
              "</div>\n",
              "    <div class=\"colab-df-buttons\">\n",
              "\n",
              "  <div class=\"colab-df-container\">\n",
              "    <button class=\"colab-df-convert\" onclick=\"convertToInteractive('df-458fe798-f27f-4b00-86b3-3a91cd81dbb7')\"\n",
              "            title=\"Convert this dataframe to an interactive table.\"\n",
              "            style=\"display:none;\">\n",
              "\n",
              "  <svg xmlns=\"http://www.w3.org/2000/svg\" height=\"24px\" viewBox=\"0 -960 960 960\">\n",
              "    <path d=\"M120-120v-720h720v720H120Zm60-500h600v-160H180v160Zm220 220h160v-160H400v160Zm0 220h160v-160H400v160ZM180-400h160v-160H180v160Zm440 0h160v-160H620v160ZM180-180h160v-160H180v160Zm440 0h160v-160H620v160Z\"/>\n",
              "  </svg>\n",
              "    </button>\n",
              "\n",
              "  <style>\n",
              "    .colab-df-container {\n",
              "      display:flex;\n",
              "      gap: 12px;\n",
              "    }\n",
              "\n",
              "    .colab-df-convert {\n",
              "      background-color: #E8F0FE;\n",
              "      border: none;\n",
              "      border-radius: 50%;\n",
              "      cursor: pointer;\n",
              "      display: none;\n",
              "      fill: #1967D2;\n",
              "      height: 32px;\n",
              "      padding: 0 0 0 0;\n",
              "      width: 32px;\n",
              "    }\n",
              "\n",
              "    .colab-df-convert:hover {\n",
              "      background-color: #E2EBFA;\n",
              "      box-shadow: 0px 1px 2px rgba(60, 64, 67, 0.3), 0px 1px 3px 1px rgba(60, 64, 67, 0.15);\n",
              "      fill: #174EA6;\n",
              "    }\n",
              "\n",
              "    .colab-df-buttons div {\n",
              "      margin-bottom: 4px;\n",
              "    }\n",
              "\n",
              "    [theme=dark] .colab-df-convert {\n",
              "      background-color: #3B4455;\n",
              "      fill: #D2E3FC;\n",
              "    }\n",
              "\n",
              "    [theme=dark] .colab-df-convert:hover {\n",
              "      background-color: #434B5C;\n",
              "      box-shadow: 0px 1px 3px 1px rgba(0, 0, 0, 0.15);\n",
              "      filter: drop-shadow(0px 1px 2px rgba(0, 0, 0, 0.3));\n",
              "      fill: #FFFFFF;\n",
              "    }\n",
              "  </style>\n",
              "\n",
              "    <script>\n",
              "      const buttonEl =\n",
              "        document.querySelector('#df-458fe798-f27f-4b00-86b3-3a91cd81dbb7 button.colab-df-convert');\n",
              "      buttonEl.style.display =\n",
              "        google.colab.kernel.accessAllowed ? 'block' : 'none';\n",
              "\n",
              "      async function convertToInteractive(key) {\n",
              "        const element = document.querySelector('#df-458fe798-f27f-4b00-86b3-3a91cd81dbb7');\n",
              "        const dataTable =\n",
              "          await google.colab.kernel.invokeFunction('convertToInteractive',\n",
              "                                                    [key], {});\n",
              "        if (!dataTable) return;\n",
              "\n",
              "        const docLinkHtml = 'Like what you see? Visit the ' +\n",
              "          '<a target=\"_blank\" href=https://colab.research.google.com/notebooks/data_table.ipynb>data table notebook</a>'\n",
              "          + ' to learn more about interactive tables.';\n",
              "        element.innerHTML = '';\n",
              "        dataTable['output_type'] = 'display_data';\n",
              "        await google.colab.output.renderOutput(dataTable, element);\n",
              "        const docLink = document.createElement('div');\n",
              "        docLink.innerHTML = docLinkHtml;\n",
              "        element.appendChild(docLink);\n",
              "      }\n",
              "    </script>\n",
              "  </div>\n",
              "\n",
              "\n",
              "    <div id=\"df-0c922d12-59a2-4e36-9d16-ecd66e4a1438\">\n",
              "      <button class=\"colab-df-quickchart\" onclick=\"quickchart('df-0c922d12-59a2-4e36-9d16-ecd66e4a1438')\"\n",
              "                title=\"Suggest charts\"\n",
              "                style=\"display:none;\">\n",
              "\n",
              "<svg xmlns=\"http://www.w3.org/2000/svg\" height=\"24px\"viewBox=\"0 0 24 24\"\n",
              "     width=\"24px\">\n",
              "    <g>\n",
              "        <path d=\"M19 3H5c-1.1 0-2 .9-2 2v14c0 1.1.9 2 2 2h14c1.1 0 2-.9 2-2V5c0-1.1-.9-2-2-2zM9 17H7v-7h2v7zm4 0h-2V7h2v10zm4 0h-2v-4h2v4z\"/>\n",
              "    </g>\n",
              "</svg>\n",
              "      </button>\n",
              "\n",
              "<style>\n",
              "  .colab-df-quickchart {\n",
              "      --bg-color: #E8F0FE;\n",
              "      --fill-color: #1967D2;\n",
              "      --hover-bg-color: #E2EBFA;\n",
              "      --hover-fill-color: #174EA6;\n",
              "      --disabled-fill-color: #AAA;\n",
              "      --disabled-bg-color: #DDD;\n",
              "  }\n",
              "\n",
              "  [theme=dark] .colab-df-quickchart {\n",
              "      --bg-color: #3B4455;\n",
              "      --fill-color: #D2E3FC;\n",
              "      --hover-bg-color: #434B5C;\n",
              "      --hover-fill-color: #FFFFFF;\n",
              "      --disabled-bg-color: #3B4455;\n",
              "      --disabled-fill-color: #666;\n",
              "  }\n",
              "\n",
              "  .colab-df-quickchart {\n",
              "    background-color: var(--bg-color);\n",
              "    border: none;\n",
              "    border-radius: 50%;\n",
              "    cursor: pointer;\n",
              "    display: none;\n",
              "    fill: var(--fill-color);\n",
              "    height: 32px;\n",
              "    padding: 0;\n",
              "    width: 32px;\n",
              "  }\n",
              "\n",
              "  .colab-df-quickchart:hover {\n",
              "    background-color: var(--hover-bg-color);\n",
              "    box-shadow: 0 1px 2px rgba(60, 64, 67, 0.3), 0 1px 3px 1px rgba(60, 64, 67, 0.15);\n",
              "    fill: var(--button-hover-fill-color);\n",
              "  }\n",
              "\n",
              "  .colab-df-quickchart-complete:disabled,\n",
              "  .colab-df-quickchart-complete:disabled:hover {\n",
              "    background-color: var(--disabled-bg-color);\n",
              "    fill: var(--disabled-fill-color);\n",
              "    box-shadow: none;\n",
              "  }\n",
              "\n",
              "  .colab-df-spinner {\n",
              "    border: 2px solid var(--fill-color);\n",
              "    border-color: transparent;\n",
              "    border-bottom-color: var(--fill-color);\n",
              "    animation:\n",
              "      spin 1s steps(1) infinite;\n",
              "  }\n",
              "\n",
              "  @keyframes spin {\n",
              "    0% {\n",
              "      border-color: transparent;\n",
              "      border-bottom-color: var(--fill-color);\n",
              "      border-left-color: var(--fill-color);\n",
              "    }\n",
              "    20% {\n",
              "      border-color: transparent;\n",
              "      border-left-color: var(--fill-color);\n",
              "      border-top-color: var(--fill-color);\n",
              "    }\n",
              "    30% {\n",
              "      border-color: transparent;\n",
              "      border-left-color: var(--fill-color);\n",
              "      border-top-color: var(--fill-color);\n",
              "      border-right-color: var(--fill-color);\n",
              "    }\n",
              "    40% {\n",
              "      border-color: transparent;\n",
              "      border-right-color: var(--fill-color);\n",
              "      border-top-color: var(--fill-color);\n",
              "    }\n",
              "    60% {\n",
              "      border-color: transparent;\n",
              "      border-right-color: var(--fill-color);\n",
              "    }\n",
              "    80% {\n",
              "      border-color: transparent;\n",
              "      border-right-color: var(--fill-color);\n",
              "      border-bottom-color: var(--fill-color);\n",
              "    }\n",
              "    90% {\n",
              "      border-color: transparent;\n",
              "      border-bottom-color: var(--fill-color);\n",
              "    }\n",
              "  }\n",
              "</style>\n",
              "\n",
              "      <script>\n",
              "        async function quickchart(key) {\n",
              "          const quickchartButtonEl =\n",
              "            document.querySelector('#' + key + ' button');\n",
              "          quickchartButtonEl.disabled = true;  // To prevent multiple clicks.\n",
              "          quickchartButtonEl.classList.add('colab-df-spinner');\n",
              "          try {\n",
              "            const charts = await google.colab.kernel.invokeFunction(\n",
              "                'suggestCharts', [key], {});\n",
              "          } catch (error) {\n",
              "            console.error('Error during call to suggestCharts:', error);\n",
              "          }\n",
              "          quickchartButtonEl.classList.remove('colab-df-spinner');\n",
              "          quickchartButtonEl.classList.add('colab-df-quickchart-complete');\n",
              "        }\n",
              "        (() => {\n",
              "          let quickchartButtonEl =\n",
              "            document.querySelector('#df-0c922d12-59a2-4e36-9d16-ecd66e4a1438 button');\n",
              "          quickchartButtonEl.style.display =\n",
              "            google.colab.kernel.accessAllowed ? 'block' : 'none';\n",
              "        })();\n",
              "      </script>\n",
              "    </div>\n",
              "\n",
              "    </div>\n",
              "  </div>\n"
            ],
            "application/vnd.google.colaboratory.intrinsic+json": {
              "type": "dataframe",
              "summary": "{\n  \"name\": \"df[[\\\"surface_covered_in_m2\\\", \\\"price_aprox_usd\\\"]]\",\n  \"rows\": 8,\n  \"fields\": [\n    {\n      \"column\": \"surface_covered_in_m2\",\n      \"properties\": {\n        \"dtype\": \"number\",\n        \"std\": 1518.1404564396853,\n        \"min\": 1.0,\n        \"max\": 4500.0,\n        \"num_unique_values\": 8,\n        \"samples\": [\n          246.05621033544878,\n          173.0,\n          1103.0\n        ],\n        \"semantic_type\": \"\",\n        \"description\": \"\"\n      }\n    },\n    {\n      \"column\": \"price_aprox_usd\",\n      \"properties\": {\n        \"dtype\": \"number\",\n        \"std\": 6991138.109369701,\n        \"min\": 1103.0,\n        \"max\": 20080645.0,\n        \"num_unique_values\": 8,\n        \"samples\": [\n          482405.31592928374,\n          240092.3,\n          1103.0\n        ],\n        \"semantic_type\": \"\",\n        \"description\": \"\"\n      }\n    }\n  ]\n}"
            }
          },
          "metadata": {},
          "execution_count": 26
        }
      ]
    },
    {
      "cell_type": "markdown",
      "source": [
        "Note for \"surface_covered_in_m2\" that Median(172m2) < Mean(246m2)"
      ],
      "metadata": {
        "id": "kIyDTNX8NvPj"
      }
    },
    {
      "cell_type": "markdown",
      "source": [
        "Distribution of House sizes; using a Histogram and Boxplot for a better understanding"
      ],
      "metadata": {
        "id": "AwIKr__SOADu"
      }
    },
    {
      "cell_type": "code",
      "source": [
        "#Histogram for \"surface_covered_in_m2\"\n",
        "plt.hist(df[\"surface_covered_in_m2\"])\n",
        "plt.xlabel(\"Area [sq meters]\")\n",
        "plt.ylabel(\"Frequency\")\n",
        "plt.title(\"Distribution of Home Sizes\");"
      ],
      "metadata": {
        "colab": {
          "base_uri": "https://localhost:8080/",
          "height": 472
        },
        "id": "PN-VSLaJNjpB",
        "outputId": "775d835d-ea73-4fcd-e72b-c4369ff6725a"
      },
      "execution_count": null,
      "outputs": [
        {
          "output_type": "display_data",
          "data": {
            "text/plain": [
              "<Figure size 640x480 with 1 Axes>"
            ],
            "image/png": "[encoded data removed]"
          },
          "metadata": {}
        }
      ]
    },
    {
      "cell_type": "code",
      "source": [
        "#Boxplot of area_m2\n",
        "plt.boxplot(df[\"surface_covered_in_m2\"], vert = False)\n",
        "plt.xlabel(\"Area [sq meters]\")\n",
        "plt.title(\"Distribution of Home Sizes\");"
      ],
      "metadata": {
        "colab": {
          "base_uri": "https://localhost:8080/",
          "height": 472
        },
        "id": "NL6xnY-oOdPq",
        "outputId": "d341943a-eb45-431d-a845-e9a768e3908d"
      },
      "execution_count": null,
      "outputs": [
        {
          "output_type": "display_data",
          "data": {
            "text/plain": [
              "<Figure size 640x480 with 1 Axes>"
            ],
            "image/png": "[encoded data removed]"
          },
          "metadata": {}
        }
      ]
    },
    {
      "cell_type": "code",
      "source": [
        "#Hist for \"price_aprox_usd\"\n",
        "plt.hist(df[\"price_aprox_usd\"])\n",
        "plt.xlabel(\"Price [USD]\")\n",
        "plt.ylabel(\"Frequency\")\n",
        "plt.title(\"House Prices\");\n"
      ],
      "metadata": {
        "colab": {
          "base_uri": "https://localhost:8080/",
          "height": 472
        },
        "id": "BvpKeQRpPw7U",
        "outputId": "2f1c4678-b644-4c1f-d359-506eb23ab11c"
      },
      "execution_count": null,
      "outputs": [
        {
          "output_type": "display_data",
          "data": {
            "text/plain": [
              "<Figure size 640x480 with 1 Axes>"
            ],
            "image/png": "[encoded data removed]"
          },
          "metadata": {}
        }
      ]
    },
    {
      "cell_type": "code",
      "source": [
        "#Boxplot for \"price_aprox_usd\"\n",
        "plt.boxplot(df[\"price_aprox_usd\"], vert=False)\n",
        "plt.xlabel(\"Price [USD]\")\n",
        "plt.ylabel(\"Frequency\")\n",
        "plt.title(\"House Prices\");"
      ],
      "metadata": {
        "colab": {
          "base_uri": "https://localhost:8080/",
          "height": 472
        },
        "id": "m1bIKE3YQjrO",
        "outputId": "61ac9c13-2c8f-4e8f-f39a-08e5945cd8b3"
      },
      "execution_count": null,
      "outputs": [
        {
          "output_type": "display_data",
          "data": {
            "text/plain": [
              "<Figure size 640x480 with 1 Axes>"
            ],
            "image/png": "[encoded data removed]"
          },
          "metadata": {}
        }
      ]
    },
    {
      "cell_type": "markdown",
      "source": [
        "Interpretation of the above Diagrams\n",
        "\n",
        "\n",
        "The Histogram of area_m2 shows a right skewed distribution where many houses are between (93-300)m2 which is quite reasonable for most houses/apartments.\n",
        "mean ($482K) > median ($240K) also shows a right skewed distribution. There are also extremely affordable and ultra-luxury properties in the same dataset, where most of the home owners have 'typical' properties that are actually affordable.\n",
        "The Max Values in the Dataset are extreme outliers hence making the visualizations more rightly skewed, may affect the dataset and will influence correlation and regression results.\n",
        "\n"
      ],
      "metadata": {
        "id": "r0S-CEYyRvVd"
      }
    },
    {
      "cell_type": "markdown",
      "source": [
        "Location or Size : What influence house price in Mexico?\n",
        "1. Which state has the most expensive real estate market?"
      ],
      "metadata": {
        "id": "tyJVkLCoUS9N"
      }
    },
    {
      "cell_type": "code",
      "source": [
        "mean_price_by_state = df.groupby(\"State\")[\"price_aprox_usd\"].mean().sort_values(ascending=False)\n",
        "print(mean_price_by_state)\n",
        "#Plot a bar chart\n",
        "mean_price_by_state.plot(\n",
        "    kind = \"bar\",\n",
        "    xlabel = \"State\",\n",
        "    ylabel=\"Price [USD]\",\n",
        "    title=\"Mean House Price by State\"\n",
        ");"
      ],
      "metadata": {
        "colab": {
          "base_uri": "https://localhost:8080/",
          "height": 688
        },
        "id": "pu3kl0GsQyOF",
        "outputId": "9ca93fc2-8f24-423a-ed40-9d5fb291e2ab"
      },
      "execution_count": null,
      "outputs": [
        {
          "output_type": "stream",
          "name": "stdout",
          "text": [
            "State\n",
            "Distrito Federal    499763.060423\n",
            "Quintana Roo        465188.271777\n",
            "Solidaridad         411840.112632\n",
            "Benito Juárez       163232.093333\n",
            "Zacatecas            70719.376667\n",
            "Name: price_aprox_usd, dtype: float64\n"
          ]
        },
        {
          "output_type": "display_data",
          "data": {
            "text/plain": [
              "<Figure size 640x480 with 1 Axes>"
            ],
            "image/png": "[encoded data removed]"
          },
          "metadata": {}
        }
      ]
    },
    {
      "cell_type": "markdown",
      "source": [
        "create a column of price_aprox_usd / surface_covered_in_m2"
      ],
      "metadata": {
        "id": "k9TT5ya2Weod"
      }
    },
    {
      "cell_type": "code",
      "source": [
        "df[\"price_aprox_per_m2\"] = df[\"price_aprox_usd\"] / df[\"surface_covered_in_m2\"]\n",
        "df.info()"
      ],
      "metadata": {
        "colab": {
          "base_uri": "https://localhost:8080/"
        },
        "id": "rppOUg4rVUtd",
        "outputId": "e9ed76ec-dc25-45e0-ca91-a78ab4aebb2a"
      },
      "execution_count": null,
      "outputs": [
        {
          "output_type": "stream",
          "name": "stdout",
          "text": [
            "<class 'pandas.core.frame.DataFrame'>\n",
            "Index: 1103 entries, 4 to 4625\n",
            "Data columns (total 13 columns):\n",
            " #   Column                      Non-Null Count  Dtype  \n",
            "---  ------                      --------------  -----  \n",
            " 0   operation                   1103 non-null   object \n",
            " 1   property_type               1103 non-null   object \n",
            " 2   price                       1103 non-null   float64\n",
            " 3   price_aprox_local_currency  1103 non-null   float64\n",
            " 4   price_aprox_usd             1103 non-null   float64\n",
            " 5   surface_total_in_m2         1103 non-null   float64\n",
            " 6   surface_covered_in_m2       1103 non-null   float64\n",
            " 7   price_per_m2                1103 non-null   float64\n",
            " 8   properati_url               1103 non-null   object \n",
            " 9   lat                         1103 non-null   object \n",
            " 10  lon                         1103 non-null   object \n",
            " 11  State                       1103 non-null   object \n",
            " 12  price_aprox_per_m2          1103 non-null   float64\n",
            "dtypes: float64(7), object(6)\n",
            "memory usage: 120.6+ KB\n"
          ]
        }
      ]
    },
    {
      "cell_type": "code",
      "source": [
        "mean_aprox_price_per_m2_by_state = df.groupby(\"State\")[\"price_aprox_per_m2\"].mean().sort_values(ascending=False)\n",
        "print(mean_aprox_price_per_m2_by_state)\n",
        "#Plot a bar chart\n",
        "mean_aprox_price_per_m2_by_state.plot(\n",
        "    kind = \"bar\",\n",
        "    xlabel = \"State\",\n",
        "    ylabel=\"Price[USD] per m2\",\n",
        "    title=\"Mean House Price per m2 by State\"\n",
        ");"
      ],
      "metadata": {
        "colab": {
          "base_uri": "https://localhost:8080/",
          "height": 688
        },
        "id": "xcMTfG_KW9SR",
        "outputId": "90efe691-6f24-4217-e056-26cd42ef7c3c"
      },
      "execution_count": null,
      "outputs": [
        {
          "output_type": "stream",
          "name": "stdout",
          "text": [
            "State\n",
            "Quintana Roo        3315.619567\n",
            "Solidaridad         2796.303053\n",
            "Distrito Federal    1920.889497\n",
            "Benito Juárez       1081.221894\n",
            "Zacatecas            686.398393\n",
            "Name: price_aprox_per_m2, dtype: float64\n"
          ]
        },
        {
          "output_type": "display_data",
          "data": {
            "text/plain": [
              "<Figure size 640x480 with 1 Axes>"
            ],
            "image/png": "[encoded data removed]"
          },
          "metadata": {}
        }
      ]
    },
    {
      "cell_type": "markdown",
      "source": [
        "Interpretation:\n",
        "Chart 2 (Price per m²) is MUCH better and more meaningful because     Total Price tells you how much money people are spending overall, while Price per m² tells you how much value the market assigns to each unit of space"
      ],
      "metadata": {
        "id": "oLzXN2afZEOK"
      }
    },
    {
      "cell_type": "markdown",
      "source": [
        "Is there a Realtionship between Home Size and Price? We already know that Location of a home affects its price"
      ],
      "metadata": {
        "id": "KEDFXXW0d3wF"
      }
    },
    {
      "cell_type": "code",
      "source": [
        "#Scatter plot for price vs area\n",
        "plt.scatter(x=df[\"surface_covered_in_m2\"], y=df[\"price_aprox_usd\"])\n",
        "plt.xlabel(\"Area [sq meters]\")\n",
        "plt.ylabel(\"Price [USD]\")\n",
        "plt.title(\"Price vs Area\");"
      ],
      "metadata": {
        "colab": {
          "base_uri": "https://localhost:8080/",
          "height": 472
        },
        "id": "ZGvVRAilYBN4",
        "outputId": "2f7ea524-a98b-4c76-dcbf-d23298e3ea1d"
      },
      "execution_count": null,
      "outputs": [
        {
          "output_type": "display_data",
          "data": {
            "text/plain": [
              "<Figure size 640x480 with 1 Axes>"
            ],
            "image/png": "[encoded data removed]"
          },
          "metadata": {}
        }
      ]
    },
    {
      "cell_type": "markdown",
      "source": [
        "As size increases price goes up(positive correlation) but the relationship is weak."
      ],
      "metadata": {
        "id": "1RSzQOmvfKnI"
      }
    },
    {
      "cell_type": "code",
      "source": [
        "# 1. Log transformations to handle skewness\n",
        "df['log_price'] = np.log(df['price_aprox_usd'])\n",
        "df['log_size'] = np.log(df['surface_covered_in_m2'])\n",
        "\n",
        "# 2. Check for correlation on transformed data\n",
        "correlation = df[['log_price', 'log_size', 'lat', 'lon']].corr()\n",
        "print(correlation)"
      ],
      "metadata": {
        "colab": {
          "base_uri": "https://localhost:8080/"
        },
        "id": "Kor1eFAoeyEJ",
        "outputId": "db932ffc-9ad6-4584-be82-5a85bb83df88"
      },
      "execution_count": null,
      "outputs": [
        {
          "output_type": "stream",
          "name": "stdout",
          "text": [
            "           log_price  log_size       lat       lon\n",
            "log_price   1.000000  0.728495  0.023224  0.030920\n",
            "log_size    0.728495  1.000000  0.118256  0.099281\n",
            "lat         0.023224  0.118256  1.000000  0.939691\n",
            "lon         0.030920  0.099281  0.939691  1.000000\n"
          ]
        }
      ]
    },
    {
      "cell_type": "markdown",
      "source": [
        "log_size vs log_price: 0.728\n",
        "Strong Positive Correlation\n",
        "Interpretation: Property size explains most of the variation in price. As size increases, price increases substantially.\n",
        "This is my most important relationship!\n",
        "\n",
        "lat vs log_price: 0.023\n",
        "lon vs log_price: 0.031\n",
        "These are VERY WEAK correlations (almost zero)\n",
        "Interpretation: Geographic coordinates alone explain almost nothing about price variations\n",
        "This suggests that being at a specific latitude/longitude doesn't directly determine price\n",
        "\n",
        "lat vs log_size: 0.118\n",
        "lon vs log_size: 0.099\n",
        "Weak positive correlations\n",
        "Interpretation: Larger properties tend to be located in slightly specific areas, but the relationship isn't strong"
      ],
      "metadata": {
        "id": "H_2s8xAMg_Wt"
      }
    },
    {
      "cell_type": "markdown",
      "source": [
        "🎯 Final Conclusion\n",
        "\n",
        "Property size is the dominant factor influencing sale prices, explaining significantly more variation than geographic location."
      ],
      "metadata": {
        "id": "uQFkWSikj-fs"
      }
    },
    {
      "cell_type": "code",
      "source": [],
      "metadata": {
        "id": "1XLMM3qCj5EL"
      },
      "execution_count": null,
      "outputs": []
    }
  ]
}