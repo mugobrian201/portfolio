{
  "nbformat": 4,
  "nbformat_minor": 0,
  "metadata": {
    "colab": {
      "provenance": [],
      "authorship_tag": "ABX9TyMzGKdV7ibUaYpGeihqxGPM",
      "include_colab_link": true
    },
    "kernelspec": {
      "name": "python3",
      "display_name": "Python 3"
    },
    "language_info": {
      "name": "python"
    }
  },
  "cells": [
    {
      "cell_type": "markdown",
      "metadata": {
        "id": "view-in-github",
        "colab_type": "text"
      },
      "source": [
        "<a href=\"https://colab.research.google.com/github/mugobrian201/portfolio/blob/main/Apartment_Prices_in_Argentina.ipynb\" target=\"_parent\"><img src=\"https://colab.research.google.com/assets/colab-badge.svg\" alt=\"Open In Colab\"/></a>"
      ]
    },
    {
      "cell_type": "markdown",
      "source": [
        "IMPORTING THE NECESSARY MODELS"
      ],
      "metadata": {
        "id": "hYEM6z-Az5XE"
      }
    },
    {
      "cell_type": "code",
      "source": [
        "# Install the kagglehub library\n",
        "!pip install kagglehub\n",
        "\n",
        "# Import essential libraries\n",
        "import pandas as pd\n",
        "import numpy as np\n",
        "import matplotlib.pyplot as plt\n",
        "import plotly.graph_objects as go\n",
        "import seaborn as sns\n",
        "import plotly.express as px\n",
        "from sklearn.linear_model import LinearRegression\n",
        "from sklearn.metrics import mean_absolute_error\n",
        "from sklearn.utils.validation import check_is_fitted\n",
        "from sklearn.impute import SimpleImputer\n",
        "from sklearn.pipeline import Pipeline, make_pipeline\n",
        "\n",
        "# This makes your plots show up directly in the notebook\n",
        "%matplotlib inline"
      ],
      "metadata": {
        "colab": {
          "base_uri": "https://localhost:8080/"
        },
        "id": "6C0mW-xMiXkn",
        "outputId": "58bdff7d-f639-4204-c3ad-e62191eded76"
      },
      "execution_count": 1,
      "outputs": [
        {
          "output_type": "stream",
          "name": "stdout",
          "text": [
            "Requirement already satisfied: kagglehub in /usr/local/lib/python3.12/dist-packages (0.3.13)\n",
            "Requirement already satisfied: packaging in /usr/local/lib/python3.12/dist-packages (from kagglehub) (25.0)\n",
            "Requirement already satisfied: pyyaml in /usr/local/lib/python3.12/dist-packages (from kagglehub) (6.0.2)\n",
            "Requirement already satisfied: requests in /usr/local/lib/python3.12/dist-packages (from kagglehub) (2.32.4)\n",
            "Requirement already satisfied: tqdm in /usr/local/lib/python3.12/dist-packages (from kagglehub) (4.67.1)\n",
            "Requirement already satisfied: charset_normalizer<4,>=2 in /usr/local/lib/python3.12/dist-packages (from requests->kagglehub) (3.4.3)\n",
            "Requirement already satisfied: idna<4,>=2.5 in /usr/local/lib/python3.12/dist-packages (from requests->kagglehub) (3.10)\n",
            "Requirement already satisfied: urllib3<3,>=1.21.1 in /usr/local/lib/python3.12/dist-packages (from requests->kagglehub) (2.5.0)\n",
            "Requirement already satisfied: certifi>=2017.4.17 in /usr/local/lib/python3.12/dist-packages (from requests->kagglehub) (2025.8.3)\n"
          ]
        }
      ]
    },
    {
      "cell_type": "markdown",
      "source": [
        "UPLOADING MY FILE"
      ],
      "metadata": {
        "id": "P6Bqh90J0FS_"
      }
    },
    {
      "cell_type": "code",
      "execution_count": 2,
      "metadata": {
        "colab": {
          "base_uri": "https://localhost:8080/",
          "height": 1000
        },
        "id": "lK5lQuzliC8u",
        "outputId": "56aef84d-368a-4c9e-b7c7-b1c2d354a9a9"
      },
      "outputs": [
        {
          "output_type": "display_data",
          "data": {
            "text/plain": [
              "<IPython.core.display.HTML object>"
            ],
            "text/html": [
              "\n",
              "     <input type=\"file\" id=\"files-e572f3a8-ee41-4cd3-a814-3d4b1d05cc38\" name=\"files[]\" multiple disabled\n",
              "        style=\"border:none\" />\n",
              "     <output id=\"result-e572f3a8-ee41-4cd3-a814-3d4b1d05cc38\">\n",
              "      Upload widget is only available when the cell has been executed in the\n",
              "      current browser session. Please rerun this cell to enable.\n",
              "      </output>\n",
              "      <script>// Copyright 2017 Google LLC\n",
              "//\n",
              "// Licensed under the Apache License, Version 2.0 (the \"License\");\n",
              "// you may not use this file except in compliance with the License.\n",
              "// You may obtain a copy of the License at\n",
              "//\n",
              "//      http://www.apache.org/licenses/LICENSE-2.0\n",
              "//\n",
              "// Unless required by applicable law or agreed to in writing, software\n",
              "// distributed under the License is distributed on an \"AS IS\" BASIS,\n",
              "// WITHOUT WARRANTIES OR CONDITIONS OF ANY KIND, either express or implied.\n",
              "// See the License for the specific language governing permissions and\n",
              "// limitations under the License.\n",
              "\n",
              "/**\n",
              " * @fileoverview Helpers for google.colab Python module.\n",
              " */\n",
              "(function(scope) {\n",
              "function span(text, styleAttributes = {}) {\n",
              "  const element = document.createElement('span');\n",
              "  element.textContent = text;\n",
              "  for (const key of Object.keys(styleAttributes)) {\n",
              "    element.style[key] = styleAttributes[key];\n",
              "  }\n",
              "  return element;\n",
              "}\n",
              "\n",
              "// Max number of bytes which will be uploaded at a time.\n",
              "const MAX_PAYLOAD_SIZE = 100 * 1024;\n",
              "\n",
              "function _uploadFiles(inputId, outputId) {\n",
              "  const steps = uploadFilesStep(inputId, outputId);\n",
              "  const outputElement = document.getElementById(outputId);\n",
              "  // Cache steps on the outputElement to make it available for the next call\n",
              "  // to uploadFilesContinue from Python.\n",
              "  outputElement.steps = steps;\n",
              "\n",
              "  return _uploadFilesContinue(outputId);\n",
              "}\n",
              "\n",
              "// This is roughly an async generator (not supported in the browser yet),\n",
              "// where there are multiple asynchronous steps and the Python side is going\n",
              "// to poll for completion of each step.\n",
              "// This uses a Promise to block the python side on completion of each step,\n",
              "// then passes the result of the previous step as the input to the next step.\n",
              "function _uploadFilesContinue(outputId) {\n",
              "  const outputElement = document.getElementById(outputId);\n",
              "  const steps = outputElement.steps;\n",
              "\n",
              "  const next = steps.next(outputElement.lastPromiseValue);\n",
              "  return Promise.resolve(next.value.promise).then((value) => {\n",
              "    // Cache the last promise value to make it available to the next\n",
              "    // step of the generator.\n",
              "    outputElement.lastPromiseValue = value;\n",
              "    return next.value.response;\n",
              "  });\n",
              "}\n",
              "\n",
              "/**\n",
              " * Generator function which is called between each async step of the upload\n",
              " * process.\n",
              " * @param {string} inputId Element ID of the input file picker element.\n",
              " * @param {string} outputId Element ID of the output display.\n",
              " * @return {!Iterable<!Object>} Iterable of next steps.\n",
              " */\n",
              "function* uploadFilesStep(inputId, outputId) {\n",
              "  const inputElement = document.getElementById(inputId);\n",
              "  inputElement.disabled = false;\n",
              "\n",
              "  const outputElement = document.getElementById(outputId);\n",
              "  outputElement.innerHTML = '';\n",
              "\n",
              "  const pickedPromise = new Promise((resolve) => {\n",
              "    inputElement.addEventListener('change', (e) => {\n",
              "      resolve(e.target.files);\n",
              "    });\n",
              "  });\n",
              "\n",
              "  const cancel = document.createElement('button');\n",
              "  inputElement.parentElement.appendChild(cancel);\n",
              "  cancel.textContent = 'Cancel upload';\n",
              "  const cancelPromise = new Promise((resolve) => {\n",
              "    cancel.onclick = () => {\n",
              "      resolve(null);\n",
              "    };\n",
              "  });\n",
              "\n",
              "  // Wait for the user to pick the files.\n",
              "  const files = yield {\n",
              "    promise: Promise.race([pickedPromise, cancelPromise]),\n",
              "    response: {\n",
              "      action: 'starting',\n",
              "    }\n",
              "  };\n",
              "\n",
              "  cancel.remove();\n",
              "\n",
              "  // Disable the input element since further picks are not allowed.\n",
              "  inputElement.disabled = true;\n",
              "\n",
              "  if (!files) {\n",
              "    return {\n",
              "      response: {\n",
              "        action: 'complete',\n",
              "      }\n",
              "    };\n",
              "  }\n",
              "\n",
              "  for (const file of files) {\n",
              "    const li = document.createElement('li');\n",
              "    li.append(span(file.name, {fontWeight: 'bold'}));\n",
              "    li.append(span(\n",
              "        `(${file.type || 'n/a'}) - ${file.size} bytes, ` +\n",
              "        `last modified: ${\n",
              "            file.lastModifiedDate ? file.lastModifiedDate.toLocaleDateString() :\n",
              "                                    'n/a'} - `));\n",
              "    const percent = span('0% done');\n",
              "    li.appendChild(percent);\n",
              "\n",
              "    outputElement.appendChild(li);\n",
              "\n",
              "    const fileDataPromise = new Promise((resolve) => {\n",
              "      const reader = new FileReader();\n",
              "      reader.onload = (e) => {\n",
              "        resolve(e.target.result);\n",
              "      };\n",
              "      reader.readAsArrayBuffer(file);\n",
              "    });\n",
              "    // Wait for the data to be ready.\n",
              "    let fileData = yield {\n",
              "      promise: fileDataPromise,\n",
              "      response: {\n",
              "        action: 'continue',\n",
              "      }\n",
              "    };\n",
              "\n",
              "    // Use a chunked sending to avoid message size limits. See b/62115660.\n",
              "    let position = 0;\n",
              "    do {\n",
              "      const length = Math.min(fileData.byteLength - position, MAX_PAYLOAD_SIZE);\n",
              "      const chunk = new Uint8Array(fileData, position, length);\n",
              "      position += length;\n",
              "\n",
              "      const base64 = btoa(String.fromCharCode.apply(null, chunk));\n",
              "      yield {\n",
              "        response: {\n",
              "          action: 'append',\n",
              "          file: file.name,\n",
              "          data: base64,\n",
              "        },\n",
              "      };\n",
              "\n",
              "      let percentDone = fileData.byteLength === 0 ?\n",
              "          100 :\n",
              "          Math.round((position / fileData.byteLength) * 100);\n",
              "      percent.textContent = `${percentDone}% done`;\n",
              "\n",
              "    } while (position < fileData.byteLength);\n",
              "  }\n",
              "\n",
              "  // All done.\n",
              "  yield {\n",
              "    response: {\n",
              "      action: 'complete',\n",
              "    }\n",
              "  };\n",
              "}\n",
              "\n",
              "scope.google = scope.google || {};\n",
              "scope.google.colab = scope.google.colab || {};\n",
              "scope.google.colab._files = {\n",
              "  _uploadFiles,\n",
              "  _uploadFilesContinue,\n",
              "};\n",
              "})(self);\n",
              "</script> "
            ]
          },
          "metadata": {}
        },
        {
          "output_type": "stream",
          "name": "stdout",
          "text": [
            "Saving cleaned_property_data.csv to cleaned_property_data.csv\n"
          ]
        },
        {
          "output_type": "execute_result",
          "data": {
            "text/plain": [
              "{'cleaned_property_data.csv': b'operation,property_type,price,price_aprox_local_currency,price_aprox_usd,surface_total_in_m2,surface_covered_in_m2,price_per_m2,properati_url,lat,lon,State\\nsell,apartment,875000.0,16457437.5,875000.0,0.0,263.0,3326.996198,http://cancun.properati.com.mx/hg4t_venta_departamento_cancun,21.1902642,-86.8198375,Quintana Roo\\nsell,apartment,300000.0,5642550.0,300000.0,1500.0,160.0,1875.0,http://playa-del-carmen.properati.com.mx/esmj_venta_casa_playa-del-carmen,20.4987828982,-87.2228193283,Quintana Roo\\nsell,apartment,3272300.0,3243466.76,172446.86,0.0,83.0,39425.3012,http://benito-juarez.properati.com.mx/qc0v_venta_departamento_benito-juarez_grupo-jacz-s-a-de-c-v,19.3794059,-99.1591446,Distrito Federal\\nsell,apartment,115000.0,2162977.5,115000.0,49.0,49.0,2346.938776,http://cancun.properati.com.mx/jh5k_venta_departamento_cancun,21.0511211635,-86.7828512192,Quintana Roo\\nsell,apartment,1345000.0,1333148.73,70880.12,56.0,56.0,24017.85714,http://iztacalco.properati.com.mx/r6gm_venta_departamento_iztacalco_ith-inmobiliaria,19.4024128,-99.0953907,Distrito Federal\\nsell,apartment,580000.0,574753.15,30558.16,0.0,99.0,5858.585859,http://cancun.properati.com.mx/hzci_venta_departamento_cancun,21.1541659192,-86.8471578694,Quintana Roo\\nsell,house,2500000.0,2477971.72,131747.44,331.0,150.0,16666.66667,http://tlalpan.properati.com.mx/otqg_venta_casa_tlalpan_redhabitat-servicios-inmobiliarios-profesionales-s-a-de-c-v,19.2690778853,-99.2035388947,Distrito Federal\\nsell,apartment,1125000.0,21159562.5,1125000.0,260.0,260.0,4326.923077,http://miguel-hidalgo-df.properati.com.mx/ndu9_venta_departamento_polanco_match-inmobiliario,19.430456,-99.1889121,Distrito Federal\\nsell,house,5800000.0,5748894.57,305654.07,200.0,263.0,22053.23194,http://coyoacan.properati.com.mx/qusf_venta_casa_coyoacan_century-21-felix,19.307427366,-99.1170322895,Distrito Federal\\nsell,house,1250000.0,1238985.86,65873.72,125.0,99.0,12626.26263,http://cancun.properati.com.mx/mvm0_venta_casa_cancun_tucasahoy,21.161908,-86.8515279,Quintana Roo\\nsell,apartment,10500000.0,10407481.65,553339.27,320.0,320.0,32812.5,http://cuajimalpa-de-morelos.properati.com.mx/pho7_venta_departamento_cuajimalpa-de-morelos_quality-360g,19.390415,-99.254997,Distrito Federal\\nsell,apartment,20000000.0,19823774.55,1053979.56,190.0,190.0,105263.1579,http://miguel-hidalgo-df.properati.com.mx/quv4_venta_departamento_polanco_inmobiliaria-magisto-sa-de-cv,19.430456,-99.1889121,Distrito Federal\\nsell,apartment,1013300.0,1004371.45,53399.87,0.0,60.0,16888.33333,http://tlahuac.properati.com.mx/h1c3_venta_departamento_tlahuac,19.2990233,-99.0436467,Distrito Federal\\nsell,house,1800000.0,1784139.7,94858.16,160.0,200.0,9000.0,http://iztapalapa.properati.com.mx/by2k_venta_casa_iztapalapa,19.3383626772,-99.0706713125,Distrito Federal\\nsell,apartment,1478500.0,27808367.25,1478500.0,0.0,300.0,4928.333333,http://playa-del-carmen.properati.com.mx/m6tx_venta_departamento_playa-del-carmen_village-bienes-raices,20.6523823712,-87.0461797714,Quintana Roo\\nsell,house,3200000.0,3171803.93,168636.73,180.0,264.0,12121.21212,http://iztacalco.properati.com.mx/ch41_venta_casa_iztacalco,19.381207,-99.0978814,Distrito Federal\\nsell,house,9300000.0,9218055.06,490100.49,1500.0,900.0,10333.33333,http://cancun.properati.com.mx/qtsg_venta_casa_cancun_trust-realty-mexico,21.1199835722,-86.8363599075,Quintana Roo\\nsell,apartment,9350000.0,9265417.31,492618.62,159.0,159.0,58805.03145,http://benito-juarez.properati.com.mx/duj8_venta_departamento_benito-juarez,19.3753948137,-99.1657587614,Distrito Federal\\nsell,house,4000000.0,75234000.0,4000000.0,713.0,451.0,8869.179601,http://miguel-hidalgo-df.properati.com.mx/pkbu_venta_casa_miguel-hidalgo_jasesoresinmobiliarios,19.420166,-99.220367,Distrito Federal\\nsell,apartment,204950.0,3854802.07,204950.0,91.0,62.0,3305.645161,http://playa-del-carmen.properati.com.mx/llt1_venta_departamento_playa-del-carmen_village-bienes-raices,20.6546691,-87.0540165,Quintana Roo\\nsell,house,1600000.0,1585525.89,84298.37,180.0,180.0,8888.888889,http://cancun.properati.com.mx/b9e3_venta_casa_cancun,21.129547,-86.817017,Quintana Roo\\nsell,house,15599000.0,15461553.0,822051.36,658.0,530.0,29432.07547,http://alvaro-obregon.properati.com.mx/h9eh_venta_casa_alvaro-obregon,19.3641188,-99.2640457,Distrito Federal\\nsell,apartment,1366114.0,1353755.7,71975.74,119.0,119.0,11479.94958,http://playa-del-carmen.properati.com.mx/kpwi_venta_departamento_playa-del-carmen_york-properties_60r,20.6543977622,-87.0861594379,Quintana Roo\\nsell,house,13500000.0,13377875.33,711267.53,591.0,650.0,20769.23077,http://miguel-hidalgo-df.properati.com.mx/g7c7_venta_casa_miguel-hidalgo,19.401079,-99.24807,Distrito Federal\\nsell,house,8900000.0,8819488.09,468909.7,540.0,515.0,17281.5534,http://cancun.properati.com.mx/pjnh_venta_casa_cancun_martell-realty,21.1070511,-86.8468159,Quintana Roo\\nsell,house,2800000.0,2775328.27,147557.13,160.0,180.0,15555.55556,http://cancun.properati.com.mx/byp5_venta_casa_cancun,21.149599,-86.8317228,Quintana Roo\\nsell,apartment,1700000.0,1685020.78,89588.26,80.0,80.0,21250.0,http://cancun.properati.com.mx/q0th_venta_departamento_cancun_tucasahoy,21.1902642,-86.8198375,Quintana Roo\\nsell,apartment,2950000.0,2923313.36,155425.12,73.0,73.0,40410.9589,http://benito-juarez.properati.com.mx/or2f_venta_departamento_benito-juarez_irg-real-estate_6ki,19.394073,-99.153915,Distrito Federal\\nsell,house,6500000.0,6442726.59,342543.35,250.0,387.0,16795.86563,http://tlalpan.properati.com.mx/cfz6_venta_casa_tlalpan,19.3012112,-99.1290556,Distrito Federal\\nsell,house,3950000.0,3914267.21,208111.61,113.0,311.0,12700.96463,http://xochimilco.properati.com.mx/n6rq_venta_casa_xochimilco_quality-metropolis,19.271181,-99.137314,Distrito Federal\\nsell,house,41000000.0,40638737.87,2160658.1,700.0,1050.0,39047.61905,http://cuajimalpa-de-morelos.properati.com.mx/n61t_venta_casa_cuajimalpa-de-morelos_habiterra-grupo-inmobiliario,19.390415,-99.254997,Distrito Federal\\nsell,house,2000000.0,1982377.34,105397.95,110.0,180.0,11111.11111,http://cancun.properati.com.mx/f5mt_venta_casa_cancun,21.1545808,-86.8523054,Quintana Roo\\nsell,apartment,899000.0,891078.64,47376.38,54.0,54.0,16648.14815,http://iztacalco.properati.com.mx/nmuu_venta_departamento_iztacalco_quality-inmobiliaria-viendo-por-ti,19.4045899,-99.0601489,Distrito Federal\\nsell,apartment,4900000.0,4856824.72,258224.99,0.0,84.0,58333.33333,http://cuauhtemoc.properati.com.mx/j9by_venta_departamento_cuauhtemoc,19.4169673,-99.1658498,Distrito Federal\\nsell,house,1950000.0,1932817.88,102763.0,218.0,269.0,7249.070632,http://cancun.properati.com.mx/dm3d_venta_casa_cancun,21.164824,-86.8327018,Quintana Roo\\nsell,apartment,1889100.0,1872010.56,99530.03,0.0,62.0,30469.35484,http://cuauhtemoc.properati.com.mx/b1r2_venta_departamento_cuauhtemoc,19.4553585442,-99.1632923484,Distrito Federal\\nsell,house,3800000.0,3765624.01,200208.63,109.0,184.0,20652.17391,http://tlalpan.properati.com.mx/mrhz_venta_casa_tlalpan_infinity-bienes-raices,19.2801195,-99.2137844,Distrito Federal\\nsell,apartment,1350000.0,25391475.0,1350000.0,350.0,350.0,3857.142857,http://bosque-de-las-lomas.properati.com.mx/ndsf_venta_departamento_bosque-de-las-lomas_match-inmobiliario,19.4011351582,-99.2554439631,Distrito Federal\\nsell,house,1860000.0,1843173.75,97996.85,96.0,2.0,930000.0,http://gustavo-a-madero.properati.com.mx/occy_venta_casa_gustavo-a-madero_portafolios-hipotecarios_7if,19.4510306354,-99.065538235,Distrito Federal\\nsell,apartment,2800000.0,2775328.27,147557.13,0.0,65.0,43076.92308,http://cuajimalpa-de-morelos.properati.com.mx/i1j4_venta_departamento_cuajimalpa-de-morelos,19.3499358,-99.2906864,Distrito Federal\\nsell,house,1579000.0,1565086.88,83211.68,158.0,138.0,11442.02899,http://playa-del-carmen.properati.com.mx/qaoa_venta_casa_playa-del-carmen_playa-realtors-4-u,20.6572413506,-87.094373703,Quintana Roo\\nsell,apartment,2936000.0,2910129.92,154724.19,0.0,74.0,39675.67568,http://benito-juarez.properati.com.mx/r1py_venta_departamento_benito-juarez_grupo-jacz-s-a-de-c-v,19.3807458,-99.1553016,Distrito Federal\\nsell,house,5500000.0,5451537.83,289844.37,300.0,350.0,15714.28571,http://cancun.properati.com.mx/eqrz_venta_casa_cancun,21.082655,-86.857162,Quintana Roo\\nsell,house,7663430.0,7595905.45,403854.93,371.0,368.0,20824.53804,http://xochimilco.properati.com.mx/hbtq_venta_casa_xochimilco,19.2707122505,-99.1396721452,Distrito Federal\\nsell,house,1445000.0,1431927.96,76131.96,90.0,144.0,10034.72222,http://c-t-m-aragon.properati.com.mx/n6rj_venta_casa_c-t-m-aragon_invest-capital,19.4548897,-99.0538781,Distrito Federal\\nsell,apartment,1895989.0,35660709.1,1895989.0,0.0,498.0,3807.206827,http://cancun.properati.com.mx/d6z8_venta_departamento_cancun,21.0906563,-86.7717484,Quintana Roo\\nsell,apartment,800000.0,15046800.0,800000.0,446.0,446.0,1793.721973,http://cuajimalpa-de-morelos.properati.com.mx/qv0m_venta_departamento_bosques-de-las-lomas_inmobiliaria-magisto-sa-de-cv,19.390415,-99.254997,Distrito Federal\\nsell,apartment,407919.0,7672344.51,407919.0,0.0,213.0,1915.112676,http://cancun.properati.com.mx/b30s_venta_departamento_cancun,21.1651106632,-86.8201701343,Quintana Roo\\nsell,house,5650000.0,5598888.51,297678.63,280.0,380.0,14868.42105,http://cancun.properati.com.mx/b5g6_venta_casa_cancun,21.1095243506,-86.8429112434,Quintana Roo\\nsell,apartment,4975000.0,4931163.81,262177.41,0.0,179.0,27793.29609,http://cancun.properati.com.mx/o04u_venta_departamento_cancun_the-top-real-estate,21.1902642,-86.8198375,Quintana Roo\\nsell,apartment,325000.0,6112762.5,325000.0,0.0,130.0,2500.0,http://tulum.properati.com.mx/r88i_venta_departamento_tulum_painalli-inmobiliario-s-c,20.2024604644,-87.4630379677,Quintana Roo\\nsell,apartment,4050000.0,4014314.33,213430.86,110.0,110.0,36818.18182,http://cuauhtemoc.properati.com.mx/qtla_venta_departamento_cuauhtemoc_invest-capital,19.4124708,-99.1717827,Distrito Federal\\nsell,house,2500000.0,2477971.72,131747.44,200.0,210.0,11904.7619,http://cancun.properati.com.mx/qzoa_venta_casa_cancun_cancun-best-properties-real-estate-and-rentals,21.1543341422,-86.8512002751,Quintana Roo\\nsell,apartment,8000000.0,7929509.74,421591.82,0.0,175.0,45714.28571,http://cuauhtemoc.properati.com.mx/ew4q_venta_departamento_cuauhtemoc,19.4114169,-99.1739405,Distrito Federal\\nsell,apartment,4250000.0,4212551.97,223970.65,108.0,108.0,39351.85185,http://benito-juarez.properati.com.mx/nfje_venta_departamento_benito-juarez_quatum-vende,19.3853063,-99.1521292,Distrito Federal\\nsell,house,2150000.0,2131055.71,113302.8,172.0,145.0,14827.58621,http://playa-del-carmen.properati.com.mx/bx21_venta_casa_playa-del-carmen,20.6384345312,-87.0732097328,Quintana Roo\\nsell,apartment,420000.0,7899570.0,420000.0,200.0,200.0,2100.0,http://cancun.properati.com.mx/m47n_venta_departamento_cancun_cancun-top-by-edifikare-realtors,21.1279956,-86.7644738,Quintana Roo\\nsell,house,3300000.0,3270147.18,173865.39,160.0,275.0,12000.0,http://cancun.properati.com.mx/nwt1_venta_casa_cancun_cancun-top-by-edifikare-realtors,21.129547,-86.817017,Quintana Roo\\nsell,apartment,6350000.0,6292556.14,334559.17,0.0,168.0,37797.61905,http://alvaro-obregon.properati.com.mx/nplf_venta_departamento_alvaro-obregon_mega-soluciones,19.3609784,-99.2084005,Distrito Federal\\nsell,house,2975000.0,2948786.47,156779.46,240.0,140.0,21250.0,http://tlalpan.properati.com.mx/r5p9_venta_casa_tlalpan_optima-consultoria-integral-en-bienes-raices,19.2865191,-99.2283274,Distrito Federal\\nsell,house,3350000.0,63008475.0,3350000.0,1100.0,1200.0,2791.666667,http://miguel-hidalgo-df.properati.com.mx/pnum_venta_casa_miguel-hidalgo_lomeli-brokers,19.4122137,-99.2153341,Distrito Federal\\nsell,house,8100000.0,8028628.66,426861.72,600.0,395.0,20506.32911,http://playa-del-carmen.properati.com.mx/brvx_venta_casa_playa-del-carmen,20.6764114797,-87.0514203197,Quintana Roo\\nsell,house,1400000.0,1387664.04,73778.56,252.0,252.0,5555.555556,http://iztapalapa.properati.com.mx/r79l_venta_casa_iztapalapa_bienes-raices-h-a-h-n-y-asociados-s-a-de-c-v,19.354297,-98.9978448,Distrito Federal\\nsell,apartment,2993000.0,2965924.4,157690.64,75.0,75.0,39906.66667,http://benito-juarez.properati.com.mx/pnj7_venta_departamento_benito-juarez_ith-inmobiliaria,19.39365,-99.14769,Distrito Federal\\nsell,apartment,4800000.0,4756577.86,252895.12,150.0,150.0,32000.0,http://alvaro-obregon.properati.com.mx/ipsj_venta_departamento_alvaro-obregon,19.3392293,-99.2189838,Distrito Federal\\nsell,apartment,350000.0,6582975.0,350000.0,221.0,221.0,1583.710407,http://playa-del-carmen-playa-del-carmen.properati.com.mx/fmiw_venta_departamento_playa-del-carmen,19.993998,-87.1875,Solidaridad\\nsell,house,4400000.0,4361230.34,231875.5,200.0,450.0,9777.777778,http://iztacalco.properati.com.mx/hoxz_venta_casa_iztacalco,19.3972156,-99.0648632,Distrito Federal\\nsell,apartment,5500000.0,5451537.83,289844.37,0.0,164.0,33536.58537,http://cuauhtemoc.properati.com.mx/cx1q_venta_departamento_cuauhtemoc,19.41498,-99.177444,Distrito Federal\\nsell,house,2500000.0,2477384.14,131716.2,110.0,200.0,12500.0,http://cancun.properati.com.mx/p4j4_venta_casa_cancun_caribbean-realtors,21.0958115744,-86.8690896034,Quintana Roo\\nsell,house,1640000.0,1625164.05,86405.83,0.0,120.0,13666.66667,http://playa-del-carmen.properati.com.mx/ocl0_venta_casa_playa-del-carmen_village-bienes-raices,20.6140672951,-87.1172904968,Quintana Roo\\nsell,house,3300000.0,3270922.66,173906.62,160.0,198.0,16666.66667,http://iztapalapa.properati.com.mx/r5rt_venta_casa_iztapalapa_quality-inmobiliaria-plus,19.3661948918,-99.1211414337,Distrito Federal\\nsell,house,22500000.0,22301746.27,1185727.0,450.0,600.0,37500.0,http://bosque-de-las-lomas.properati.com.mx/pyzk_venta_casa_bosque-de-las-lomas_inmobiliaria-arsa,19.4010793,-99.2480728,Distrito Federal\\nsell,house,772000.0,765197.67,40683.61,105.0,82.0,9414.634146,http://cancun.properati.com.mx/md9s_venta_casa_cancun_tucasahoy,21.139086,-86.84964,Quintana Roo\\nsell,apartment,650000.0,644119.84,34246.21,59.0,59.0,11016.94915,http://gustavo-a-madero.properati.com.mx/epqq_venta_departamento_gustavo-a-madero,19.524143,-99.160149,Distrito Federal\\nsell,apartment,565500.0,10636206.75,565500.0,166.0,136.0,4158.088235,http://playa-del-carmen.properati.com.mx/o1lo_venta_departamento_playa-del-carmen_playa-realtors-4-u,20.6347622491,-87.0636034012,Quintana Roo\\nsell,apartment,3000000.0,2972861.16,158059.45,100.0,100.0,30000.0,http://benito-juarez.properati.com.mx/qxjh_venta_departamento_benito-juarez_quality-bicofi,19.3677299,-99.1527773,Distrito Federal\\nsell,apartment,750000.0,14106375.0,750000.0,0.0,239.0,3138.075314,http://cancun.properati.com.mx/g0ya_venta_casa_cancun,21.1295101033,-86.7501325607,Quintana Roo\\nsell,apartment,930871.0,922668.83,49055.95,0.0,70.0,13298.15714,http://playa-del-carmen.properati.com.mx/pfg5_venta_departamento_playa-del-carmen_jpm-realestate,20.6542296048,-87.087635994,Quintana Roo\\nsell,house,3300000.0,3270922.66,173906.62,160.0,185.0,17837.83784,http://cancun.properati.com.mx/pl2a_venta_casa_cancun_ventascancun-21,21.100996554,-86.8623733521,Quintana Roo\\nsell,apartment,390000.0,7335315.0,390000.0,0.0,200.0,1950.0,http://cancun.properati.com.mx/gywo_venta_departamento_cancun,21.1295466,-86.8170132,Quintana Roo\\nsell,house,2000000.0,37617000.0,2000000.0,1332.0,619.0,3231.017771,http://alvaro-obregon.properati.com.mx/gipz_venta_casa_alvaro-obregon,19.3472426513,-99.1838417575,Distrito Federal\\nsell,store,4000000.0,3964754.87,210795.91,600.0,280.0,14285.71429,http://cancun.properati.com.mx/c68v_venta_local_cancun,21.1579193,-86.8238997,Quintana Roo\\nsell,apartment,2656000.0,2632597.15,139968.48,0.0,64.0,41500.0,http://benito-juarez.properati.com.mx/r021_venta_departamento_benito-juarez_ventas-inmobiliarias-personalizadas,19.365391,-99.18956,Distrito Federal\\nsell,apartment,3500000.0,3469160.49,184446.42,0.0,106.0,33018.86792,http://benito-juarez.properati.com.mx/o6t0_venta_departamento_benito-juarez_redhabitat-servicios-inmobiliarios-profesionales-s-a-de-c-v,19.3714480121,-99.149787426,Distrito Federal\\nsell,apartment,625000.0,11755312.5,625000.0,0.0,350.0,1785.714286,http://miguel-hidalgo-df.properati.com.mx/osaw_venta_departamento_miguel-hidalgo_bh-bienes-raices,19.420166,-99.220367,Distrito Federal\\nsell,house,3000000.0,2973566.1,158096.93,160.0,200.0,15000.0,http://cancun.properati.com.mx/pz7f_venta_casa_cancun_smart-home-cancun-real-state-company,21.161908,-86.8515279,Quintana Roo\\nsell,house,385000.0,7241272.5,385000.0,360.0,220.0,1750.0,http://playa-del-carmen.properati.com.mx/cgod_venta_casa_playa-del-carmen,20.613448043,-87.0964579575,Quintana Roo\\nsell,apartment,5900000.0,5848013.48,310923.97,0.0,60.0,98333.33333,http://miguel-hidalgo-df.properati.com.mx/qtam_venta_departamento_miguel-hidalgo_guizar-guizar-promotores-inmobiliarios,19.411472,-99.188522,Distrito Federal\\nsell,apartment,1850000.0,34795725.0,1850000.0,400.0,400.0,4625.0,http://miguel-hidalgo-df.properati.com.mx/hut5_venta_departamento_miguel-hidalgo,19.396714267,-99.2374929786,Distrito Federal\\nsell,apartment,1150000.0,1139866.94,60603.82,53.0,53.0,21698.11321,http://xochimilco.properati.com.mx/pk32_venta_departamento_xochimilco_van-dooren-bienes-raices_640,19.262049,-99.1138,Distrito Federal\\nsell,apartment,995000.0,18714457.5,995000.0,0.0,330.0,3015.151515,http://miguel-hidalgo-df.properati.com.mx/nkra_venta_departamento_miguel-hidalgo_diamond-house-bienes-raices-mazal-consultores-sc,19.413143,-99.2305521,Distrito Federal\\nsell,house,19000000.0,19344442.75,1028494.71,232.0,417.0,45563.54916,http://anzures.properati.com.mx/pqko_venta_casa_anzures_dueno-directo_edk,19.4326577,-99.1774462,Distrito Federal\\nsell,house,6500000.0,6441199.16,342462.14,420.0,325.0,20000.0,http://alvaro-obregon.properati.com.mx/p9zd_venta_casa_alvaro-obregon_next-home,19.340202,-99.257774,Distrito Federal\\nsell,apartment,2234122.0,2214436.42,117735.94,0.0,62.0,36034.22581,http://venustiano-carranza.properati.com.mx/h1kv_venta_departamento_venustiano-carranza,19.4306069,-99.0949899,Distrito Federal\\nsell,apartment,720000.0,13542120.0,720000.0,250.0,250.0,2880.0,http://cuajimalpa-de-morelos.properati.com.mx/p51f_venta_departamento_cuajimalpa-de-morelos_house-hunters-asesores,19.3929373,-99.2633141,Distrito Federal\\nsell,apartment,8100000.0,8028628.66,426861.72,163.0,235.0,34468.08511,http://benito-juarez.properati.com.mx/okhz_venta_departamento_benito-juarez_m-m-consultores-inmobiliarios,19.3864346,-99.1594925,Distrito Federal\\nsell,apartment,1500000.0,28212750.0,1500000.0,0.0,350.0,4285.714286,http://alvaro-obregon.properati.com.mx/p3zc_venta_departamento_alvaro-obregon_next-home,19.371342,-99.253616,Distrito Federal\\nsell,apartment,3700000.0,3667398.13,194986.21,60.0,60.0,61666.66667,http://miguel-hidalgo-df.properati.com.mx/oudv_venta_departamento_miguel-hidalgo_tar-internacional,19.4445115,-99.1895493,Distrito Federal\\nsell,apartment,8991000.0,8911777.82,473816.51,157.0,157.0,57267.51592,http://benito-juarez.properati.com.mx/ewlh_venta_departamento_benito-juarez,19.394358,-99.177444,Distrito Federal\\nsell,house,750000.0,743391.47,39524.23,160.0,180.0,4166.666667,http://cancun.properati.com.mx/et8b_venta_casa_cancun,21.161908,-86.8515279,Quintana Roo\\nsell,apartment,4437500.0,4398399.88,233851.71,125.0,125.0,35500.0,http://benito-juarez.properati.com.mx/d492_venta_departamento_benito-juarez,19.394358,-99.177444,Distrito Federal\\nsell,house,3180000.0,3151980.15,167582.75,85.0,142.0,22394.3662,http://xochimilco.properati.com.mx/jh9c_venta_casa_xochimilco,19.2681974,-99.1307421,Distrito Federal\\nsell,house,14730275.0,14597020.86,776086.39,149.0,429.0,34336.30536,http://alvaro-obregon.properati.com.mx/ocnx_venta_casa_alvaro-obregon_cattori-inmobiliaria-s-a-de-c-v,19.357464,-99.207909,Distrito Federal\\nsell,apartment,145000.0,2727232.5,145000.0,88.0,88.0,1647.727273,http://playa-del-carmen.properati.com.mx/b9pk_renta_departamento_playa-del-carmen,20.6167183342,-87.0924425125,Quintana Roo\\nsell,apartment,7000000.0,6938320.98,368892.84,165.0,165.0,42424.24242,http://cuauhtemoc.properati.com.mx/qv01_venta_departamento_cuauhtemoc_quality-bicofi,19.4097609,-99.1686282,Distrito Federal\\nsell,house,1500000.0,28212750.0,1500000.0,468.0,450.0,3333.333333,http://cancun.properati.com.mx/o0jw_venta_casa_cancun_jpm-realestate,21.1117463016,-86.7666184902,Quintana Roo\\nsell,house,6500000.0,6441199.16,342462.14,232.0,431.0,15081.2065,http://coyoacan.properati.com.mx/og7z_venta_casa_coyoacan_century-21-eden_9zn,19.3073525,-99.1061901,Distrito Federal\\nsell,apartment,5000000.0,4954768.48,263432.41,180.0,180.0,27777.77778,http://cancun.properati.com.mx/b4mj_venta_casa_cancun,21.161908,-86.8515279,Quintana Roo\\nsell,apartment,4300000.0,4262111.42,226605.6,0.0,136.0,31617.64706,http://benito-juarez.properati.com.mx/p7b8_venta_departamento_benito-juarez_bienes-raices-h-a-h-n-y-asociados-s-a-de-c-v,19.394358,-99.177444,Distrito Federal\\nsell,apartment,2500000.0,2477971.72,131747.44,0.0,100.0,25000.0,http://benito-juarez.properati.com.mx/mrkj_venta_departamento_benito-juarez_diamond-house-bienes-raices-mazal-consultores-sc,19.3898619,-99.1674138,Distrito Federal\\nsell,apartment,700000.0,13165950.0,700000.0,410.0,410.0,1707.317073,http://cuajimalpa-de-morelos.properati.com.mx/d5zm_venta_departamento_cuajimalpa-de-morelos,19.390415,-99.254997,Distrito Federal\\nsell,apartment,215000.0,4043827.5,215000.0,0.0,51.0,4215.686275,http://playa-del-carmen-centro.properati.com.mx/lk73_venta_departamento_playa-del-carmen-centro_village-bienes-raices,20.6295586,-87.0738851,Solidaridad\\nsell,house,3000000.0,56425500.0,3000000.0,1250.0,1200.0,2500.0,http://alvaro-obregon.properati.com.mx/bg1s_venta_casa_alvaro-obregon,19.320575,-99.20929,Distrito Federal\\nsell,apartment,1050000.0,1040748.03,55333.92,98.0,98.0,10714.28571,http://iztapalapa.properati.com.mx/od0u_venta_departamento_iztapalapa_all-in-1-mexico-real-estate_656,19.3549174,-99.0993735,Distrito Federal\\nsell,apartment,4279100.0,4241395.55,225504.19,0.0,65.0,65832.30769,http://alvaro-obregon.properati.com.mx/oy2q_venta_departamento_alvaro-obregon_capis-real-estate_clg,19.358585,-99.185753,Distrito Federal\\nsell,apartment,2700000.0,2676209.55,142287.24,119.0,119.0,22689.07563,http://benito-juarez.properati.com.mx/d5nj_venta_departamento_benito-juarez,19.3703820187,-99.1493282287,Distrito Federal\\nsell,house,2250000.0,2230174.62,118572.7,160.0,290.0,7758.62069,http://region-503.properati.com.mx/q02l_venta_casa_region-503_inmobiliaria-arsa,21.1773896,-86.8179603,Benito Ju\\xc3\\xa1rez\\nsell,apartment,8700000.0,8621297.28,458372.4,360.0,270.0,32222.22222,http://benito-juarez.properati.com.mx/ofmv_venta_departamento_benito-juarez_habitat-soluciones-inmobiliarias,19.3769448,-99.1651109,Distrito Federal\\nsell,apartment,866400.0,16295684.4,866400.0,152.0,152.0,5700.0,http://miguel-hidalgo-df.properati.com.mx/pang_venta_departamento_miguel-hidalgo_lomeli-brokers,19.432609,-99.1941739,Distrito Federal\\nsell,apartment,700000.0,693832.02,36889.28,71.0,71.0,9859.15493,http://tlalpan.properati.com.mx/ct9b_venta_departamento_tlalpan,19.2818221685,-99.1876426712,Distrito Federal\\nsell,apartment,905000.0,17021692.5,905000.0,550.0,550.0,1645.454545,http://cancun.properati.com.mx/be4w_venta_departamento_cancun,21.161908,-86.8515279,Quintana Roo\\nsell,apartment,1215000.0,22852327.5,1215000.0,256.0,184.0,6603.26087,http://miguel-hidalgo-df.properati.com.mx/r6fm_venta_departamento_miguel-hidalgo_quality-bicofi,19.4368736,-99.1973268,Distrito Federal\\nsell,house,9000000.0,169276500.0,9000000.0,1200.0,1600.0,5625.0,http://miguel-hidalgo-df.properati.com.mx/errb_venta_casa_miguel-hidalgo,19.3818873,-99.2202827,Distrito Federal\\nsell,house,9000000.0,8918583.49,474178.35,187.0,307.0,29315.96091,http://alvaro-obregon.properati.com.mx/mctq_venta_casa_alvaro-obregon_quality-dom,19.358585,-99.185753,Distrito Federal\\nsell,apartment,2900000.0,2874447.19,152827.03,147.0,147.0,19727.89116,http://cancun.properati.com.mx/log5_venta_departamento_cancun_casanova-realty_bvt,21.161908,-86.8515279,Quintana Roo\\nsell,apartment,4380000.0,4341406.55,230821.52,0.0,85.0,51529.41176,http://benito-juarez.properati.com.mx/npvb_venta_departamento_benito-juarez_mega-soluciones,19.3943574,-99.1774462,Distrito Federal\\nsell,apartment,169000.0,3178636.5,169000.0,68.0,68.0,2485.294118,http://playa-del-carmen.properati.com.mx/kqnj_venta_departamento_playa-del-carmen_york-properties_60r,20.6369485603,-87.0677702129,Quintana Roo\\nsell,apartment,4996000.0,4951978.8,263284.09,0.0,220.0,22709.09091,http://cancun.properati.com.mx/n7pw_venta_departamento_cancun_rent-for-vacation-sa-de-cv,21.1517157163,-86.8185353279,Quintana Roo\\nsell,apartment,3100000.0,3072685.02,163366.83,0.0,80.0,38750.0,http://cuajimalpa-de-morelos.properati.com.mx/i0z0_venta_departamento_cuajimalpa-de-morelos,19.3499358,-99.2906864,Distrito Federal\\nsell,store,128000.0,2407488.0,128000.0,0.0,50.0,2560.0,http://playa-del-carmen.properati.com.mx/b6fa_venta_local_playa-del-carmen,20.6148413173,-87.0929842048,Quintana Roo\\nsell,apartment,6317310.0,6260161.89,332836.85,110.0,110.0,57430.09091,http://cuajimalpa-de-morelos.properati.com.mx/qr4z_venta_departamento_cuajimalpa-de-morelos_ingenia-bienes-raices,19.371342,-99.253616,Distrito Federal\\nsell,apartment,892706.0,16790460.8,892706.0,168.0,168.0,5313.72619,http://miguel-hidalgo-df.properati.com.mx/k9l2_venta_departamento_miguel-hidalgo_tar-internacional,19.4330857,-99.2005645,Distrito Federal\\nsell,apartment,139000.0,2614381.5,139000.0,125.0,125.0,1112.0,http://nuevo-centro-urbano.properati.com.mx/om_venta_apartamento_nuevo-centro-urbano,20.630723,-87.073113,Solidaridad\\nsell,apartment,3550000.0,3518719.94,187081.37,100.0,100.0,35500.0,http://alvaro-obregon.properati.com.mx/m7lb_venta_departamento_alvaro-obregon_quality-metropolis,19.3392293,-99.2189838,Distrito Federal\\nsell,house,13300000.0,13179684.53,700730.23,490.0,725.0,18344.82759,http://miguel-hidalgo-df.properati.com.mx/b8qu_venta_casa_miguel-hidalgo,19.5462484,-99.131088,Distrito Federal\\nsell,apartment,750000.0,743391.47,39524.23,15.0,66.0,11363.63636,http://cuauhtemoc.properati.com.mx/p0qg_venta_departamento_cuauhtemoc_bienes-raices-h-a-h-n-y-asociados-s-a-de-c-v,19.461416,-99.133163,Distrito Federal\\nsell,apartment,7105000.0,7040726.11,374337.46,184.0,184.0,38614.13043,http://la-magdalena-contreras.properati.com.mx/b1t0_venta_departamento_alvaro-obregon,19.3023508,-99.1679459,Distrito Federal\\nsell,apartment,3100000.0,3072685.02,163366.83,0.0,99.0,31313.13131,http://benito-juarez.properati.com.mx/nriw_venta_departamento_benito-juarez_mega-soluciones,19.3747920646,-99.137270786,Distrito Federal\\nsell,house,10500000.0,10407481.65,553339.27,0.0,250.0,42000.0,http://benito-juarez.properati.com.mx/pul0_venta_casa_benito-juarez_impulsora-de-negocios-y-promociones-s-a-de-c-v,19.381729,-99.164986,Distrito Federal\\nsell,apartment,820000.0,15422970.0,820000.0,30000.0,283.0,2897.526502,http://cancun.properati.com.mx/cw1u_venta_departamento_cancun,21.1902642,-86.8198375,Quintana Roo\\nsell,house,2500000.0,47021250.0,2500000.0,1100.0,800.0,3125.0,http://miguel-hidalgo-df.properati.com.mx/huul_venta_casa_miguel-hidalgo,19.420166,-99.220367,Distrito Federal\\nsell,store,1250000.0,1238985.86,65873.72,303.0,303.0,4125.412541,http://cancun.properati.com.mx/dpy7_venta_local_cancun,21.1463698,-86.8613971,Quintana Roo\\nsell,apartment,9800000.0,9713649.44,516449.98,240.0,120.0,81666.66667,http://alvaro-obregon.properati.com.mx/kr18_venta_departamento_alvaro-obregon_infinity-bienes-raices,19.320576,-99.20929,Distrito Federal\\nsell,house,4600000.0,4559467.98,242415.29,800.0,450.0,10222.22222,http://cancun.properati.com.mx/bxbo_venta_casa_cancun,21.158964,-86.845937,Quintana Roo\\nsell,apartment,600000.0,594713.1,31619.38,69.0,69.0,8695.652174,http://gustavo-a-madero.properati.com.mx/fapn_venta_departamento_gustavo-a-madero,19.505199,-99.155991,Distrito Federal\\nsell,house,12800000.0,12684207.7,674386.99,0.0,265.0,48301.88679,http://cuajimalpa-de-morelos.properati.com.mx/p7l8_venta_casa_cuajimalpa-de-morelos_brabasa-inmobiliaria,19.390415,-99.254997,Distrito Federal\\nsell,apartment,1100000.0,1090307.49,57968.87,24.0,73.0,15068.49315,http://miguel-hidalgo-df.properati.com.mx/blte_venta_departamento_miguel-hidalgo,19.3883217,-99.1862188,Distrito Federal\\nsell,house,129000.0,2426296.5,129000.0,207.0,157.0,821.656051,http://tulum.properati.com.mx/kqy0_venta_casa_tulum_york-properties_60r,20.2088602,-87.4653115,Quintana Roo\\nsell,house,4300000.0,4262111.42,226605.6,300.0,308.0,13961.03896,http://cuauhtemoc.properati.com.mx/oobl_venta_casa_cuauhtemoc_ortiz-silva-asociados,19.4615578,-99.130454,Distrito Federal\\nsell,house,570000.0,10720845.0,570000.0,0.0,450.0,1266.666667,http://playa-del-carmen.properati.com.mx/b0zm_venta_casa_playa-del-carmen,20.628505,-87.079752,Quintana Roo\\nsell,house,4400000.0,4361230.34,231875.5,240.0,388.0,11340.20619,http://cuauhtemoc.properati.com.mx/qakl_venta_casa_cuauhtemoc_df-bienes-raices,19.462588021,-99.1328519441,Distrito Federal\\nsell,apartment,1880000.0,1863434.64,99074.07,0.0,133.0,14135.33835,http://coyoacan.properati.com.mx/n57m_venta_departamento_coyoacan_century-21-felix,19.3152718515,-99.1075855494,Distrito Federal\\nsell,apartment,9000000.0,8918583.49,474178.35,188.0,188.0,47872.34043,http://alvaro-obregon.properati.com.mx/oxoz_venta_departamento_cuajimalpa-de-morelos_quality-uribe,19.3634214999,-99.2763233185,Distrito Federal\\nsell,house,1580000.0,1566078.09,83264.38,160.0,210.0,7523.809524,http://cancun.properati.com.mx/cvkg_venta_casa_cancun,21.146414,-86.843369,Quintana Roo\\nsell,apartment,1500000.0,1486782.95,79048.46,82.0,82.0,18292.68293,http://cancun.properati.com.mx/olz6_venta_departamento_cancun_all-in-1-mexico-real-estate_656,21.1902642,-86.8198375,Quintana Roo\\nsell,house,4500000.0,84638250.0,4500000.0,4000.0,2000.0,2250.0,http://puerto-morelos.properati.com.mx/qc6l_venta_casa_puerto-morelos_inter-brokers-business-realty,20.8478084,-86.8755342,Quintana Roo\\nsell,house,1360000.0,1348016.66,71670.61,117.0,117.0,11623.93162,http://playa-del-carmen.properati.com.mx/gqic_venta_casa_playa-del-carmen,20.6295586,-87.0738851,Quintana Roo\\nsell,house,2400000.0,2378288.93,126447.56,190.0,280.0,8571.428571,http://gustavo-a-madero.properati.com.mx/mg07_venta_casa_gustavo-a-madero_inmobiliaria-mercatecnia,19.476545,-99.066788,Distrito Federal\\nsell,apartment,6300000.0,6243008.35,331924.84,128.0,128.0,49218.75,http://cuauhtemoc.properati.com.mx/n51w_venta_departamento_cuauhtemoc_viva-houses-bienes-raices-sa-de-cv,19.4070717,-99.1621603,Distrito Federal\\nsell,apartment,3600000.0,3568279.4,189716.32,180.0,180.0,20000.0,http://coyoacan.properati.com.mx/l9d5_venta_departamento_coyoacan_angulo-barron-asoc-b-r,19.3428273,-99.1522157,Distrito Federal\\nsell,house,2200000.0,2180615.17,115937.75,112.0,180.0,12222.22222,http://cancun.properati.com.mx/bwpl_venta_casa_cancun,21.129547,-86.817017,Quintana Roo\\nsell,apartment,5450000.0,5401978.56,287209.43,180.0,180.0,30277.77778,http://coyoacan.properati.com.mx/jh83_venta_departamento_coyoacan,19.3049333,-99.1836755,Distrito Federal\\nsell,apartment,645000.0,639316.71,33990.84,0.0,47.0,13723.40426,http://iztapalapa.properati.com.mx/ce40_venta_departamento_iztapalapa,19.3916358,-99.0557268,Distrito Federal\\nsell,apartment,5000000.0,4955943.63,263494.89,120.0,120.0,41666.66667,http://tlalpan.properati.com.mx/pqwj_venta_departamento_tlalpan_gentry-bienes-raices_7bj,19.3024064,-99.2018433,Distrito Federal\\nsell,house,20600000.0,20418487.85,1085598.95,800.0,660.0,31212.12121,http://alvaro-obregon.properati.com.mx/pkfn_venta_casa_alvaro-obregon_espacio-33-grupo-inmobiliario,19.3228543,-99.2059887,Distrito Federal\\nsell,apartment,300000.0,5642550.0,300000.0,122.0,122.0,2459.016393,http://playa-del-carmen.properati.com.mx/jgko_venta_departamento_playa-del-carmen,20.6295586,-87.0738851,Quintana Roo\\nsell,apartment,350000.0,346916.01,18444.64,45.0,45.0,7777.777778,http://gustavo-a-madero.properati.com.mx/bl7b_venta_departamento_gustavo-a-madero,19.4873329,-99.1236134,Distrito Federal\\nsell,apartment,1520700.0,1507300.58,80139.33,0.0,50.0,30414.0,http://cuauhtemoc.properati.com.mx/cuvm_venta_departamento_cuauhtemoc,19.4555330491,-99.1633956134,Distrito Federal\\nsell,house,4270000.0,4232375.75,225024.63,437.0,210.0,20333.33333,http://playa-del-carmen.properati.com.mx/l5xr_venta_casa_playa-del-carmen_realty-riviera-mexico,20.65593,-87.05368,Quintana Roo\\nsell,house,1690000.0,31786365.0,1690000.0,535.0,50.0,33800.0,http://cancun.properati.com.mx/f568_venta_casa_cancun,21.129547,-86.817017,Quintana Roo\\nsell,house,4000000.0,3964754.87,210795.91,94.0,232.0,17241.37931,http://coyoacan.properati.com.mx/oisl_venta_casa_coyoacan_enlace-grupo-inmobiliario,19.3393661,-99.1455392,Distrito Federal\\nsell,house,3900000.0,3864719.42,205477.28,300.0,222.0,17567.56757,http://cancun.properati.com.mx/b3ry_venta_casa_cancun,21.1473004962,-86.830727309,Quintana Roo\\nsell,house,2650000.0,2626027.34,139619.18,205.0,144.0,18402.77778,http://playa-del-carmen.properati.com.mx/klco_venta_casa_playa-del-carmen_real-estate-riviera-maya,20.6148304777,-87.1044373512,Quintana Roo\\nsell,house,14850000.0,14719152.54,782579.82,384.0,629.0,23608.90302,http://benito-juarez.properati.com.mx/m37c_venta_casa_benito-juarez_mas-patrimonio,19.38155587,-99.1729466245,Distrito Federal\\nsell,apartment,2493750.0,2471776.76,131418.07,94.0,94.0,26529.25532,http://coyoacan.properati.com.mx/bxa0_venta_departamento_coyoacan,19.3338880248,-99.151327014,Distrito Federal\\nsell,apartment,6459820.0,6401382.69,340345.2,108.0,108.0,59813.14815,http://miguel-hidalgo-df.properati.com.mx/nfek_venta_departamento_miguel-hidalgo_quality-bicofi,19.4032833,-99.1821858,Distrito Federal\\nsell,apartment,2600000.0,2577090.63,137017.34,78.0,78.0,33333.33333,http://benito-juarez.properati.com.mx/n5mc_venta_departamento_benito-juarez_quality-inmobiliaria-plus,19.3825040623,-99.1580399126,Distrito Federal\\nsell,apartment,3600000.0,3568279.4,189716.32,0.0,300.0,12000.0,http://cancun.properati.com.mx/c3vb_venta_departamento_cancun,21.141269068,-86.8256378174,Quintana Roo\\nsell,house,15000000.0,14867830.91,790484.67,500.0,500.0,30000.0,http://alvaro-obregon.properati.com.mx/qxz1_venta_casa_alvaro-obregon_irg-real-estate_6ki,19.341894,-99.224525,Distrito Federal\\nsell,house,7275000.0,7209188.2,383294.16,0.0,237.0,30696.20253,http://tlalpan.properati.com.mx/ohoo_venta_casa_tlalpan_circulo-bienes-raices,19.3402891,-99.1989148,Distrito Federal\\nsell,apartment,1013300.0,1004371.45,53399.87,0.0,60.0,16888.33333,http://tlahuac.properati.com.mx/h1bx_venta_departamento_tlahuac,19.2990233,-99.0436467,Distrito Federal\\nsell,apartment,8441000.0,8364640.25,444726.6,220.0,314.0,26882.16561,http://benito-juarez.properati.com.mx/qr3w_venta_departamento_benito-juarez_viva-houses-bienes-raices-sa-de-cv,19.381729,-99.164986,Distrito Federal\\nsell,apartment,2862800.0,2836902.23,150830.86,0.0,73.0,39216.43836,http://benito-juarez.properati.com.mx/g5he_venta_departamento_benito-juarez,19.3596034,-99.1514055,Distrito Federal\\nsell,house,1954150.0,1936472.18,102957.29,120.0,141.0,13859.21986,http://coyoacan.properati.com.mx/h28v_venta_casa_coyoacan,19.3126089706,-99.1228191555,Distrito Federal\\nsell,house,1250000.0,1238985.86,65873.72,150.0,150.0,8333.333333,http://cancun.properati.com.mx/c08c_venta_casa_cancun,21.1363144,-86.8403365,Quintana Roo\\nsell,house,5300000.0,5253300.19,279304.58,371.0,330.0,16060.60606,http://cancun.properati.com.mx/p2cg_venta_casa_cancun_century-21-caribbean-paradise,21.139086,-86.84964,Quintana Roo\\nsell,apartment,9600000.0,9515411.8,505910.19,0.0,253.0,37944.66403,http://cancun.properati.com.mx/n7dz_venta_departamento_cancun_rent-for-vacation-sa-de-cv,21.129547,-86.817017,Quintana Roo\\nsell,house,3900000.0,3865635.95,205526.01,378.0,179.0,21787.7095,http://cancun.properati.com.mx/lsik_venta_casa_cancun_imc-inmobiliaria-cancun,21.0717887,-86.8881652,Quintana Roo\\nsell,house,2450000.0,2428412.26,129112.49,156.0,140.0,17500.0,http://playa-del-carmen.properati.com.mx/bq3j_venta_casa_playa-del-carmen,20.626583,-87.078659,Quintana Roo\\nsell,house,1650000.0,1635461.33,86953.31,110.0,150.0,11000.0,http://cancun.properati.com.mx/duow_venta_casa_cancun,21.082655,-86.857162,Quintana Roo\\nsell,house,2800000.0,2774670.35,147522.15,200.0,300.0,9333.333333,http://cancun.properati.com.mx/b8v6_venta_casa_cancun,21.139086,-86.84964,Quintana Roo\\nsell,house,4114000.0,4077750.32,216803.59,270.0,236.0,17432.20339,http://cancun.properati.com.mx/cpy6_venta_casa_cancun,21.082655,-86.857162,Quintana Roo\\nsell,house,1700000.0,1730818.54,92023.21,161.0,133.0,12781.95489,http://tabasco-zacatecas.properati.com.mx/4il_venta_casa_tabasco,18.015418,-92.953393,Zacatecas\\nsell,apartment,5107882.0,5062875.03,269180.16,117.0,117.0,43657.11111,http://cuajimalpa-de-morelos.properati.com.mx/qaok_venta_departamento_cuajimalpa-de-morelos_quality-unique,19.3503274,-99.2989735,Distrito Federal\\nsell,house,14000000.0,13876642.15,737785.69,177.0,400.0,35000.0,http://alvaro-obregon.properati.com.mx/pule_venta_casa_alvaro-obregon_grupo-coyoacan,19.355921,-99.180214,Distrito Federal\\nsell,apartment,5896303.0,5844349.02,310729.14,121.0,121.0,48729.77686,http://benito-juarez.properati.com.mx/qtdm_venta_departamento_benito-juarez_cattori-inmobiliaria-s-a-de-c-v,19.394358,-99.177444,Distrito Federal\\nsell,apartment,265000.0,4984252.5,265000.0,1500.0,233.0,1137.339056,http://playa-del-carmen.properati.com.mx/f611_venta_departamento_playa-del-carmen,20.4991035674,-87.2227642199,Quintana Roo\\nsell,apartment,3160000.0,3132156.37,166528.77,0.0,144.0,21944.44444,http://cancun.properati.com.mx/lreo_venta_departamento_cancun_cogam-bienes-raices,21.1551822,-86.8218046,Quintana Roo\\nsell,apartment,265234.0,4988653.68,265234.0,3000.0,156.0,1700.217949,http://playa-del-carmen.properati.com.mx/eyeu_venta_departamento_playa-del-carmen,20.6157480492,-87.0938821882,Quintana Roo\\nsell,house,4670000.0,4628851.22,246104.22,275.0,327.0,14281.34557,http://coyoacan.properati.com.mx/okd4_venta_casa_coyoacan_all-in-1-mexico-real-estate_656,19.3439785,-99.1248628,Distrito Federal\\nsell,apartment,630000.0,624448.78,33200.35,50.0,50.0,12600.0,http://cuauhtemoc.properati.com.mx/olyd_venta_departamento_cuauhtemoc_all-in-1-mexico-real-estate_656,19.4179232,-99.1483827,Distrito Federal\\nsell,house,2000000.0,1982377.34,105397.95,190.0,230.0,8695.652174,http://cancun.properati.com.mx/md89_renta_casa_cancun_actual-real-estate,21.161908,-86.8515279,Quintana Roo\\nsell,house,595000.0,11191057.5,595000.0,748.0,491.0,1211.812627,http://playa-del-carmen.properati.com.mx/cvmy_venta_casa_playa-del-carmen,20.65593,-87.05368,Quintana Roo\\nsell,apartment,7375640.0,7310651.22,388688.69,0.0,203.0,36333.20197,http://cancun.properati.com.mx/p0l8_venta_departamento_cancun_inter-brokers-business-realty,21.1903799,-86.8190064,Quintana Roo\\nsell,apartment,3607700.0,3575911.51,190122.1,97.0,97.0,37192.78351,http://miguel-hidalgo-df.properati.com.mx/quos_venta_departamento_escandon_inmobiliaria-magisto-sa-de-cv,19.3813197,-99.1996895,Distrito Federal\\nsell,house,2000000.0,37617000.0,2000000.0,413.0,550.0,3636.363636,http://miguel-hidalgo-df.properati.com.mx/lfl1_venta_casa_miguel-hidalgo_masportucasa-mx,19.420166,-99.220367,Distrito Federal\\nsell,house,14000000.0,13876642.15,737785.69,500.0,420.0,33333.33333,http://cuajimalpa-de-morelos.properati.com.mx/o7nz_venta_casa_cuajimalpa-de-morelos_abc-realtors-inmobiliaria,19.4037619,-99.2513326,Distrito Federal\\nsell,apartment,2495000.0,2540230.68,135057.59,93.0,79.0,31582.27848,http://benito-juarez.properati.com.mx/mwol_venta_departamento_benito-juarez_ac-bienes-raices,19.3638234,-99.1444714,Distrito Federal\\nsell,house,1850000.0,1833698.97,97493.1,985.0,230.0,8043.478261,http://cancun.properati.com.mx/l426_venta_casa_cancun_baez-bienes-raices_6q9,21.117013009,-86.8487233455,Quintana Roo\\nsell,apartment,890000.0,16739565.0,890000.0,0.0,284.0,3133.802817,http://cancun.properati.com.mx/o0oz_venta_departamento_cancun_the-top-real-estate,21.1902642,-86.8198375,Quintana Roo\\nsell,apartment,500000.0,495594.19,26349.48,0.0,42.0,11904.7619,http://miguel-hidalgo-df.properati.com.mx/pr07_venta_departamento_miguel-hidalgo_bienes-raices-h-a-h-n-y-asociados-s-a-de-c-v,19.444584,-99.174675,Distrito Federal\\nsell,apartment,545000.0,10250632.5,545000.0,2000.0,254.0,2145.669291,http://playa-del-carmen-centro.properati.com.mx/d8jw_venta_departamento_playa-del-carmen-centro,20.626583,-87.078659,Solidaridad\\nsell,apartment,955000.0,946585.15,50327.52,76.0,76.0,12565.78947,http://iztacalco.properati.com.mx/d47p_venta_departamento_iztacalco,19.4113101,-99.064722,Distrito Federal\\nsell,house,1800000.0,1783716.69,94835.67,150.0,280.0,6428.571429,http://iztapalapa.properati.com.mx/no3d_venta_casa_iztapalapa_bienes-raices-h-a-h-n-y-asociados-s-a-de-c-v,19.34343,-98.988029,Distrito Federal\\nsell,house,2000000.0,1981907.31,105372.96,484.0,253.0,7905.13834,http://iztapalapa.properati.com.mx/b5qq_venta_casa_iztapalapa,19.3211179,-99.0755302,Distrito Federal\\nsell,house,1000000.0,18808500.0,1000000.0,470.0,550.0,1818.181818,http://miguel-hidalgo-df.properati.com.mx/b1xg_venta_casa_miguel-hidalgo,19.404579758,-99.2446129024,Distrito Federal\\nsell,house,7500000.0,7433915.36,395242.33,1000.0,700.0,10714.28571,http://cancun.properati.com.mx/d1dy_venta_casa_cancun,21.0707599686,-86.8510852754,Quintana Roo\\nsell,apartment,430000.0,8087655.0,430000.0,0.0,220.0,1954.545455,http://cancun.properati.com.mx/b3a6_venta_departamento_cancun,21.1184519879,-86.7688007344,Quintana Roo\\nsell,apartment,1578410.0,1564502.12,83180.59,0.0,127.0,12428.4252,http://tlahuac.properati.com.mx/gz2h_venta_departamento_tlahuac,19.2990233,-99.0436467,Distrito Federal\\nsell,apartment,3979080.0,3944019.25,209693.45,0.0,146.0,27253.9726,http://cancun.properati.com.mx/ofu4_venta_departamento_cancun_ventascancun-21,21.1492842346,-86.8211424351,Quintana Roo\\nsell,apartment,14300000.0,14173998.7,753595.38,0.0,226.0,63274.33628,http://cuajimalpa-de-morelos.properati.com.mx/q16f_venta_casa_cuajimalpa-de-morelos_spazio-20,19.390415,-99.254997,Distrito Federal\\nsell,apartment,4100000.0,4063873.78,216065.81,0.0,147.0,27891.15646,http://cancun.properati.com.mx/npwb_venta_departamento_cancun_baez-bienes-raices_6q9,21.1217346614,-86.7687320709,Quintana Roo\\nsell,apartment,479613.0,475386.9,25275.11,62.0,42.0,11419.35714,http://venustiano-carranza.properati.com.mx/ewat_venta_departamento_venustiano-carranza,19.4306069,-99.0949899,Distrito Federal\\nsell,apartment,2155000.0,2136011.56,113566.29,0.0,60.0,35916.66667,http://alvaro-obregon.properati.com.mx/gno8_venta_departamento_alvaro-obregon,19.3605334,-99.2267067,Distrito Federal\\nsell,apartment,893500.0,16805394.75,893500.0,0.0,215.0,4155.813953,http://playa-del-carmen-centro.properati.com.mx/m6wu_venta_departamento_playa-del-carmen-centro_village-bienes-raices,20.658486188,-87.0446777344,Solidaridad\\nsell,house,3000000.0,2973566.1,158096.93,130.0,360.0,8333.333333,http://cancun.properati.com.mx/qc91_venta_casa_cancun_riviera-realty,21.1444567,-86.8493821,Quintana Roo\\nsell,apartment,360000.0,356827.9,18971.63,0.0,56.0,6428.571429,http://tlahuac.properati.com.mx/r785_venta_departamento_tlahuac_numecsa-sa-de-cv,19.301945,-99.0495332,Distrito Federal\\nsell,apartment,733560.0,13797163.26,733560.0,165.0,165.0,4445.818182,http://playa-del-carmen.properati.com.mx/nmn7_venta_departamento_playa-del-carmen_playa-realtors-4-u,20.6314764478,-87.0657934248,Quintana Roo\\nsell,apartment,510000.0,9592335.0,510000.0,209.0,209.0,2440.191388,http://cancun.properati.com.mx/eplw_venta_departamento_cancun,21.1470228208,-86.7919864655,Quintana Roo\\nsell,apartment,4600000.0,4559467.98,242415.29,0.0,170.0,27058.82353,http://miguel-hidalgo-df.properati.com.mx/pwdg_venta_departamento_miguel-hidalgo_vanguardia-inmobiliaria_688,19.400249,-99.177444,Distrito Federal\\nsell,apartment,650000.0,644272.56,34254.33,60.0,60.0,10833.33333,http://gustavo-a-madero.properati.com.mx/etdj_venta_departamento_gustavo-a-madero,19.524143,-99.160149,Distrito Federal\\nsell,apartment,650000.0,12225525.0,650000.0,0.0,273.0,2380.952381,http://cancun.properati.com.mx/ksl7_venta_departamento_cancun_inter-brokers-business-realty,21.1347621,-86.7461357,Quintana Roo\\nsell,house,13500000.0,13381047.76,711436.2,177.0,400.0,33750.0,http://alvaro-obregon.properati.com.mx/ca23_venta_casa_alvaro-obregon,19.3559202,-99.1802147,Distrito Federal\\nsell,apartment,12418795.0,12309369.53,654457.8,205.0,205.0,60579.4878,http://cuajimalpa-de-morelos.properati.com.mx/d7q5_venta_departamento_cuajimalpa-de-morelos,19.3577935962,-99.2744779587,Distrito Federal\\nsell,house,7900000.0,7828534.43,416223.22,177.0,340.0,23235.29412,http://coyoacan.properati.com.mx/o2bb_venta_casa_coyoacan_grupo-coyoacan,19.353813,-99.163605,Distrito Federal\\nsell,house,550000.0,10344675.0,550000.0,247.0,247.0,2226.720648,http://puerto-aventuras.properati.com.mx/bkt5_venta_casa_puerto-aventuras,20.503029,-87.222649,Quintana Roo\\nsell,house,11500000.0,11395967.83,605894.56,400.0,400.0,28750.0,http://alvaro-obregon.properati.com.mx/qabn_venta_casa_alvaro-obregon_immoble-bienes-raices,19.343294,-99.240456,Distrito Federal\\nsell,apartment,510000.0,519245.5,27606.96,48.0,48.0,10625.0,http://iztapalapa.properati.com.mx/4ft_venta_apartamento_iztapalapa,19.393751,-99.049999,Distrito Federal\\nsell,house,249000.0,4683316.5,249000.0,1360.0,100.0,2490.0,http://playa-del-carmen.properati.com.mx/p9y6_venta_casa_playa-del-carmen_century-21-caribbean-paradise,20.6950637922,-87.060341835,Quintana Roo\\nsell,apartment,2995000.0,3049294.95,162123.24,145.0,64.0,46796.875,http://benito-juarez.properati.com.mx/myxj_venta_departamento_benito-juarez_ac-bienes-raices,19.3638234,-99.1444714,Distrito Federal\\nsell,house,7200000.0,7136558.8,379432.64,375.0,560.0,12857.14286,http://cancun.properati.com.mx/qusk_venta_casa_cancun_century-21-caribbean-paradise,21.1399481749,-86.8291139603,Quintana Roo\\nsell,apartment,9900000.0,9812768.36,521719.88,184.0,184.0,53804.34783,http://alvaro-obregon.properati.com.mx/n7zt_renta_departamento_alvaro-obregon_kapital-soluciones-inmobiliarias-s-a-de-c-v,19.3556628374,-99.2753872275,Distrito Federal\\nsell,house,6000000.0,5947132.21,316193.86,60.0,185.0,32432.43243,http://benito-juarez.properati.com.mx/rdcv_venta_casa_benito-juarez_quality-uribe,19.3857490016,-99.1858577728,Distrito Federal\\nsell,store,96775.0,1820192.58,96775.0,0.0,734.0,131.846049,http://cancun.properati.com.mx/bp3k_venta_local_cancun,21.161908,-86.8515279,Quintana Roo\\nsell,house,4500000.0,4459291.65,237089.17,276.0,144.0,31250.0,http://azcapotzalco.properati.com.mx/o1ii_venta_casa_azcapotzalco_mas-patrimonio,19.473486,-99.185753,Distrito Federal\\nsell,apartment,439000.0,8256931.5,439000.0,265.0,225.0,1951.111111,http://cancun.properati.com.mx/h00c_venta_departamento_cancun,21.1902642,-86.8198375,Quintana Roo\\nsell,apartment,200744.0,198975.12,10579.0,43.0,43.0,4668.465116,http://gustavo-a-madero.properati.com.mx/bl8z_venta_departamento_gustavo-a-madero,19.4782031,-99.1326443,Distrito Federal\\nsell,apartment,5141500.0,5096196.74,270951.79,103.0,103.0,49917.47573,http://benito-juarez.properati.com.mx/ngqj_venta_departamento_benito-juarez_imprendere-bienes-raices_7je,19.394358,-99.177444,Distrito Federal\\nsell,house,1850000.0,1833698.97,97493.1,170.0,400.0,4625.0,http://venustiano-carranza.properati.com.mx/gt11_venta_casa_venustiano-carranza,19.4479726,-99.1105131,Distrito Federal\\nsell,house,580000.0,10908930.0,580000.0,380.0,405.0,1432.098765,http://cancun.properati.com.mx/b3qo_venta_casa_cancun,21.1295466,-86.8170132,Quintana Roo\\nsell,house,4000000.0,3964754.87,210795.91,140.0,190.0,21052.63158,http://iztapalapa.properati.com.mx/miix_venta_casa_iztapalapa_quality-bicofi,19.3138472,-99.0914512,Distrito Federal\\nsell,house,1567500.0,29482323.75,1567500.0,469.0,522.0,3002.873563,http://cancun.properati.com.mx/l5pm_venta_casa_cancun_imc-inmobiliaria-cancun,21.1670281292,-86.8127975485,Quintana Roo\\nsell,apartment,23000000.0,22797340.66,1212076.49,420.0,800.0,28750.0,http://miguel-hidalgo-df.properati.com.mx/kxkn_venta_departamento_miguel-hidalgo_emet-servicios-inmobiliarios,19.4318149,-99.1940586,Distrito Federal\\nsell,apartment,2487000.0,2464501.82,131031.28,167.0,141.0,17638.29787,http://cancun-centro.properati.com.mx/qri7_venta_departamento_cancun-centro_trust-realty-mexico,21.1004863999,-86.8671302094,Benito Ju\\xc3\\xa1rez\\nsell,house,1500000.0,28212750.0,1500000.0,1100.0,1000.0,1500.0,http://bosque-de-las-lomas.properati.com.mx/ne8u_venta_casa_bosque-de-las-lomas_match-inmobiliario,19.4032760464,-99.2538713053,Distrito Federal\\nsell,house,7190000.0,7124957.16,378815.81,165.0,230.0,31260.86957,http://cuajimalpa-de-morelos.properati.com.mx/fa2s_venta_casa_cuajimalpa-de-morelos,19.382275,-99.270241,Distrito Federal\\nsell,apartment,152000.0,2858892.0,152000.0,75.0,75.0,2026.666667,http://playa-del-carmen.properati.com.mx/kq6n_venta_departamento_playa-del-carmen_york-properties_60r,20.6157179238,-87.0931955427,Quintana Roo\\nsell,apartment,3295000.0,3265966.81,173643.13,0.0,101.0,32623.76238,http://tlalpan.properati.com.mx/qy4u_venta_departamento_tlalpan_nave-inmobiliaria,19.2753576,-99.1675547,Distrito Federal\\nsell,house,2950000.0,2924006.65,155461.98,160.0,220.0,13409.09091,http://cancun.properati.com.mx/ifl6_venta_casa_cancun,21.161908,-86.8515279,Quintana Roo\\nsell,house,4500000.0,4460349.25,237145.4,400.0,350.0,12857.14286,http://cancun.properati.com.mx/d1tn_venta_casa_cancun,21.1486457139,-86.844076328,Quintana Roo\\nsell,apartment,844379.0,836938.94,44497.91,74.0,74.0,11410.52703,http://coyoacan.properati.com.mx/ch79_venta_departamento_coyoacan,19.3223015,-99.1035542,Distrito Federal\\nsell,house,5500000.0,5450245.5,289775.66,371.0,340.0,16176.47059,http://cancun.properati.com.mx/pu4k_venta_casa_cancun_cancun-real-state,21.139086,-86.84964,Quintana Roo\\nsell,apartment,2200000.0,2180615.17,115937.75,110.0,110.0,20000.0,http://coyoacan.properati.com.mx/oo9v_venta_departamento_coyoacan_sebra-bienes-raices-s-a-de-c-v,19.343979,-99.124863,Distrito Federal\\nsell,apartment,5710000.0,5659687.55,300911.16,124.0,124.0,46048.3871,http://benito-juarez.properati.com.mx/qzug_venta_departamento_benito-juarez_quality-bicofi,19.3815906,-99.1653974,Distrito Federal\\nsell,apartment,8176000.0,8103958.96,430866.84,157.0,157.0,52076.43312,http://benito-juarez.properati.com.mx/ey7k_venta_departamento_benito-juarez,19.394358,-99.177444,Distrito Federal\\nsell,house,420000.0,7899570.0,420000.0,341.0,260.0,1615.384615,http://playa-del-carmen.properati.com.mx/c4j5_venta_casa_playa-del-carmen,20.6804573963,-87.0356051624,Quintana Roo\\nsell,house,1190000.0,1179514.51,62711.78,132.0,193.0,6165.803109,http://cuajimalpa-de-morelos.properati.com.mx/c8j5_venta_casa_cuajimalpa-de-morelos,19.3707369783,-99.294244498,Distrito Federal\\nsell,house,661200.0,655373.9,34844.56,109.0,174.0,3800.0,http://tlahuac.properati.com.mx/oub0_venta_casa_tlahuac_bienes-raices-h-a-h-n-y-asociados-s-a-de-c-v,19.279188,-99.005989,Distrito Federal\\nsell,house,4500000.0,4460349.25,237145.4,300.0,327.0,13761.46789,http://cancun.properati.com.mx/hy3g_venta_casa_cancun,21.1087511639,-86.8443314731,Quintana Roo\\nsell,apartment,3650000.0,3616981.0,192305.66,70.0,70.0,52142.85714,http://benito-juarez.properati.com.mx/mo4j_venta_departamento_benito-juarez_quality-bicofi,19.3755039,-99.1630337,Distrito Federal\\nsell,apartment,1643000.0,1628523.06,86584.42,70.0,70.0,23471.42857,http://carola.properati.com.mx/n7jp_venta_departamento_carola_invest-capital,19.3865508,-99.1937082,Distrito Federal\\nsell,apartment,13492271.0,13373386.87,711028.89,221.0,221.0,61051.0,http://cuajimalpa-de-morelos.properati.com.mx/cpay_venta_departamento_cuajimalpa-de-morelos,19.3576316393,-99.2747354507,Distrito Federal\\nsell,house,352000.0,348815.66,18545.64,52.0,52.0,6769.230769,http://cancun.properati.com.mx/iayk_venta_casa_cancun,21.161995,-86.880989,Quintana Roo\\nsell,apartment,2800000.0,2850759.95,151567.64,180.0,180.0,15555.55556,http://cuauhtemoc.properati.com.mx/4am_venta_apartamento_cuauhtemoc,19.407682,-99.172042,Distrito Federal\\nsell,apartment,3360000.0,3330394.01,177068.56,152.0,152.0,22105.26316,http://coyoacan.properati.com.mx/olw9_venta_departamento_coyoacan_all-in-1-mexico-real-estate_656,19.3108788,-99.1386972,Distrito Federal\\nsell,house,21000000.0,20810028.15,1106416.15,750.0,900.0,23333.33333,http://alvaro-obregon.properati.com.mx/ok6l_venta_casa_alvaro-obregon_pichardo-y-asociados-inmobiliaria,19.3559202,-99.1802147,Distrito Federal\\nsell,apartment,277227.0,274719.01,14606.11,13.0,44.0,6300.613636,http://iztapalapa.properati.com.mx/b1b2_venta_departamento_iztapalapa,19.3921653148,-99.0574979782,Distrito Federal\\nsell,house,7450000.0,7382605.21,392514.3,200.0,285.0,26140.35088,http://cuajimalpa-de-morelos.properati.com.mx/r651_venta_casa_cuajimalpa-de-morelos_habiterra-grupo-inmobiliario,19.355751,-99.299347,Distrito Federal\\nsell,apartment,720000.0,713486.52,37934.26,60.0,60.0,12000.0,http://gustavo-a-madero.properati.com.mx/km4z_venta_departamento_gustavo-a-madero_firma-san-rafael-sa-de-cv_bav,19.4900536,-99.0935504,Distrito Federal\\nsell,house,2700000.0,50782950.0,2700000.0,897.0,598.0,4515.050167,http://cancun.properati.com.mx/n79k_venta_casa_cancun_j-inmobiliaria,21.129547,-86.817017,Quintana Roo\\nsell,apartment,3360000.0,3330394.01,177068.56,0.0,102.0,32941.17647,http://benito-juarez.properati.com.mx/ofo2_venta_departamento_benito-juarez_suaznavar-bienes-raices,19.39912,-99.141464,Distrito Federal\\nsell,apartment,10900000.0,10803957.12,574418.86,0.0,240.0,45416.66667,http://cuajimalpa-de-morelos.properati.com.mx/k564_venta_departamento_cuajimalpa-de-morelos,19.390415,-99.254997,Distrito Federal\\nsell,apartment,13000000.0,12885453.38,685086.71,255.0,255.0,50980.39216,http://alvaro-obregon.properati.com.mx/m46f_venta_departamento_alvaro-obregon_diamond-house-bienes-raices-mazal-consultores-sc,19.3619852,-99.2663861,Distrito Federal\\nsell,apartment,12389930.0,12280758.98,652936.65,393.0,357.0,34705.68627,http://miguel-hidalgo-df.properati.com.mx/d229_venta_departamento_miguel-hidalgo,19.4425711213,-99.2028173804,Distrito Federal\\nsell,apartment,4500000.0,4459291.65,237089.17,109.0,109.0,41284.40367,http://benito-juarez.properati.com.mx/p486_venta_departamento_benito-juarez_moran-mexico-property,19.3668017,-99.1724994,Distrito Federal\\nsell,house,14000000.0,13873352.16,737610.77,152.0,360.0,38888.88889,http://cuauhtemoc.properati.com.mx/r5ko_venta_casa_cuauhtemoc_capis-real-estate_clg,19.41498,-99.177444,Distrito Federal\\nsell,house,730000.0,723567.69,38470.25,100.0,90.0,8111.111111,http://cancun.properati.com.mx/lo81_venta_casa_cancun_bienestar-cancun,21.129547,-86.817017,Quintana Roo\\nsell,apartment,1550000.0,1536342.41,81683.41,0.0,60.0,25833.33333,http://alvaro-obregon.properati.com.mx/r8rk_venta_departamento_alvaro-obregon_quality-inmobiliaria-viendo-por-ti,19.3778105,-99.1975082,Distrito Federal\\nsell,apartment,5874000.0,5822242.45,309553.79,117.0,117.0,50205.12821,http://benito-juarez.properati.com.mx/pay4_venta_departamento_benito-juarez_ith-inmobiliaria,19.394358,-99.177444,Distrito Federal\\nsell,apartment,420000.0,7899570.0,420000.0,0.0,180.0,2333.333333,http://cancun.properati.com.mx/culw_venta_departamento_cancun,21.129547,-86.817017,Quintana Roo\\nsell,house,3750000.0,3716957.58,197621.16,1850.0,300.0,12500.0,http://tlalpan.properati.com.mx/d401_venta_casa_tlalpan,19.199665,-99.153915,Distrito Federal\\nsell,apartment,1250000.0,1238692.07,65858.1,70.0,70.0,17857.14286,http://coyoacan.properati.com.mx/plp4_venta_departamento_coyoacan_moran-mexico-property,19.3437444,-99.1561883,Distrito Federal\\nsell,apartment,3500000.0,3469160.49,184446.42,0.0,250.0,14000.0,http://cancun.properati.com.mx/ozcn_venta_departamento_cancun_jpm-realestate,21.136350683,-86.8287330866,Quintana Roo\\nsell,house,1990000.0,37428915.0,1990000.0,580.0,600.0,3316.666667,http://miguel-hidalgo-df.properati.com.mx/h2a1_venta_casa_miguel-hidalgo,19.401079,-99.24807,Distrito Federal\\nsell,house,3450000.0,64889325.0,3450000.0,1000.0,1400.0,2464.285714,http://cancun.properati.com.mx/d2ux_venta_casa_cancun,21.1717664129,-86.8078365331,Quintana Roo\\nsell,apartment,475000.0,8934037.5,475000.0,259.0,259.0,1833.976834,http://cancun.properati.com.mx/kr9k_venta_departamento_cancun_york-properties_60r,21.129547,-86.817017,Quintana Roo\\nsell,store,20080645.0,377686811.5,20080645.0,0.0,3150.0,6374.807937,http://cancun.properati.com.mx/codt_venta_local_cancun,21.162939,-86.823855,Quintana Roo\\nsell,apartment,139000.0,2614381.5,139000.0,52.0,52.0,2673.076923,http://cancun.properati.com.mx/bhxy_venta_departamento_cancun,21.2013833711,-86.8053060941,Quintana Roo\\nsell,house,1500000.0,1486430.48,79029.72,4900.0,180.0,8333.333333,http://cancun.properati.com.mx/b79n_venta_casa_cancun,21.129547,-86.817017,Quintana Roo\\nsell,house,990000.0,18620415.0,990000.0,495.0,157.0,6305.732484,http://puerto-morelos.properati.com.mx/mi7m_venta_casa_puerto-morelos_cancunyou-real-estate,20.8501512377,-86.8750129268,Quintana Roo\\nsell,apartment,3900000.0,3865635.95,205526.01,0.0,98.0,39795.91837,http://benito-juarez.properati.com.mx/q0rz_venta_departamento_benito-juarez_trueba-de-torres-y-asociados-s-a-de-cv,19.3756773,-99.1546074,Distrito Federal\\nsell,house,13980000.0,13853533.08,736557.04,115.0,393.0,35572.51908,http://alvaro-obregon.properati.com.mx/ocn5_venta_casa_alvaro-obregon_cattori-inmobiliaria-s-a-de-c-v,19.357464,-99.207909,Distrito Federal\\nsell,apartment,7400000.0,7334796.44,389972.43,228.0,228.0,32456.14035,http://miguel-hidalgo-df.properati.com.mx/c4o6_venta_departamento_miguel-hidalgo,19.432657,-99.177444,Distrito Federal\\nsell,apartment,330000.0,6206805.0,330000.0,0.0,147.0,2244.897959,http://cancun.properati.com.mx/bvgt_venta_departamento_cancun,21.1283087,-86.7643776,Quintana Roo\\nsell,apartment,15500000.0,15359782.65,816640.49,0.0,270.0,57407.40741,http://alvaro-obregon.properati.com.mx/g5ot_venta_departamento_alvaro-obregon,19.3605334,-99.2267067,Distrito Federal\\nsell,apartment,785000.0,778083.0,41368.69,50.0,50.0,15700.0,http://iztapalapa.properati.com.mx/nvdn_venta_departamento_iztapalapa_quality-bicofi,19.3579916,-99.0648692,Distrito Federal\\nsell,house,16000000.0,15859019.68,843183.65,800.0,800.0,20000.0,http://miguel-hidalgo-df.properati.com.mx/hxta_venta_casa_miguel-hidalgo,19.401079,-99.24807,Distrito Federal\\nsell,house,250000.0,4702125.0,250000.0,350.0,207.0,1207.729469,http://playa-del-carmen.properati.com.mx/b671_venta_casa_playa-del-carmen,20.63719,-87.089897,Quintana Roo\\nsell,apartment,4950000.0,4906384.18,260859.94,0.0,160.0,30937.5,http://cancun.properati.com.mx/qai4_venta_departamento_cancun_inter-brokers-business-realty,21.1902642,-86.8198375,Quintana Roo\\nsell,house,1900000.0,1882811.91,100104.31,159.0,160.0,11875.0,http://cancun.properati.com.mx/pqex_venta_casa_cancun_caribbean-view-realty,21.1560588,-86.8486808,Quintana Roo\\nsell,apartment,546975.0,542155.38,28825.02,32.0,77.0,7103.571429,http://azcapotzalco.properati.com.mx/bxdx_venta_departamento_azcapotzalco,19.4959960885,-99.2017929554,Distrito Federal\\nsell,house,205000.0,3855742.5,205000.0,180.0,160.0,1281.25,http://playa-del-carmen.properati.com.mx/kqzx_venta_casa_playa-del-carmen_york-properties_60r,20.6180275188,-87.0856317133,Quintana Roo\\nsell,apartment,285000.0,5360422.5,285000.0,0.0,242.0,1177.68595,http://playa-del-carmen.properati.com.mx/b51e_venta_departamento_playa-del-carmen,20.6153928204,-87.0886230469,Quintana Roo\\nsell,apartment,500000.0,495594.19,26349.48,44.0,44.0,11363.63636,http://cuauhtemoc.properati.com.mx/mkl1_venta_departamento_cuauhtemoc_bienes-raices-h-a-h-n-y-asociados-s-a-de-c-v,19.4620417,-99.1321904,Distrito Federal\\nsell,house,7900000.0,7830390.83,416321.92,289.0,450.0,17555.55556,http://cancun.properati.com.mx/fl3f_venta_casa_cancun,21.110295031,-86.8460386992,Quintana Roo\\nsell,apartment,2774618.0,2750170.03,146219.53,0.0,86.0,32263.0,http://benito-juarez.properati.com.mx/g0r0_venta_departamento_benito-juarez,19.3803931,-99.1476908,Distrito Federal\\nsell,apartment,3598000.0,3566296.98,189610.92,0.0,108.0,33314.81481,http://cuauhtemoc.properati.com.mx/li7w_venta_departamento_cuauhtemoc_modus-vivendi,19.4482164,-99.1589625,Distrito Federal\\nsell,house,4100000.0,4062910.22,216014.58,300.0,310.0,13225.80645,http://cancun.properati.com.mx/b9gs_venta_casa_cancun,21.129547,-86.817017,Quintana Roo\\nsell,apartment,233500.0,4391784.75,233500.0,80.0,80.0,2918.75,http://playa-del-carmen.properati.com.mx/d5ri_venta_departamento_playa-del-carmen,20.626583,-87.078659,Quintana Roo\\nsell,house,3150000.0,3122244.47,166001.78,206.0,170.0,18529.41176,http://tlalpan.properati.com.mx/lrcu_renta_casa_tlalpan_trueba-de-torres-y-asociados-s-a-de-cv,19.249130897,-99.1566525819,Distrito Federal\\nsell,house,10900000.0,10803957.12,574418.86,237.0,350.0,31142.85714,http://tlalpan.properati.com.mx/cpbw_venta_casa_tlalpan,19.2995935,-99.2047923,Distrito Federal\\nsell,apartment,700000.0,693832.02,36889.28,62.0,62.0,11290.32258,http://venustiano-carranza.properati.com.mx/dn99_venta_departamento_venustiano-carranza,19.4306069,-99.0949899,Distrito Federal\\nsell,apartment,1509832.0,1496528.39,79566.6,0.0,121.0,12477.95041,http://tlahuac.properati.com.mx/gyb4_venta_departamento_tlahuac,19.2990233,-99.0436467,Distrito Federal\\nsell,apartment,3700000.0,3667398.13,194986.21,60.0,60.0,61666.66667,http://miguel-hidalgo-df.properati.com.mx/p0hi_venta_departamento_miguel-hidalgo_casabonita-inmobiliaria,19.440935,-99.188522,Distrito Federal\\nsell,house,6500000.0,6441199.16,342462.14,900.0,400.0,16250.0,http://cancun.properati.com.mx/r7bc_venta_casa_cancun_rivero-y-asociados,21.082655,-86.857162,Quintana Roo\\nsell,house,270000.0,5078295.0,270000.0,0.0,284.0,950.7042254,http://playa-del-carmen.properati.com.mx/mbpb_venta_casa_playa-del-carmen_gekco-caribbean-sa-de-cv,20.6376840173,-87.0701050758,Quintana Roo\\nsell,apartment,2900000.0,2874447.19,152827.03,0.0,78.0,37179.48718,http://cuajimalpa-de-morelos.properati.com.mx/i0tt_venta_departamento_cuajimalpa-de-morelos,19.3499358,-99.2906864,Distrito Federal\\nsell,house,9350000.0,9267614.52,492735.44,332.0,442.0,21153.84615,http://cuajimalpa-de-morelos.properati.com.mx/qc6d_venta_casa_cuajimalpa-de-morelos_next-home,19.355751,-99.299347,Distrito Federal\\nsell,house,12870000.0,12756598.79,678235.84,121.0,281.0,45800.71174,http://alvaro-obregon.properati.com.mx/p7sz_venta_casa_alvaro-obregon_villela-y-asociados,19.3445588,-99.1864442,Distrito Federal\\nsell,house,1800000.0,33855300.0,1800000.0,460.0,556.0,3237.410072,http://cancun.properati.com.mx/coxh_venta_casa_cancun,21.1588598388,-86.801122427,Quintana Roo\\nsell,house,549000.0,10325866.5,549000.0,397.0,320.0,1715.625,http://playa-del-carmen.properati.com.mx/ol0h_venta_casa_playa-del-carmen_loretto-bienes-raices,20.613375,-87.089897,Quintana Roo\\nsell,apartment,160000000.0,158552596.7,8429837.4,350.0,350.0,457142.8571,http://contadero.properati.com.mx/ozfp_renta_departamento_contadero_livemexico,19.3470575,-99.2965778,Distrito Federal\\nsell,apartment,1500000.0,28212750.0,1500000.0,0.0,410.0,3658.536585,http://miguel-hidalgo-df.properati.com.mx/njbb_venta_departamento_miguel-hidalgo_bh-bienes-raices,19.401079,-99.24807,Distrito Federal\\nsell,house,4700000.0,4657482.46,247626.47,312.0,526.0,8935.361217,http://playa-del-carmen.properati.com.mx/b64a_venta_casa_playa-del-carmen,20.634902703,-87.093088647,Quintana Roo\\nsell,apartment,3100000.0,3072685.02,163366.83,0.0,78.0,39743.58974,http://cuajimalpa-de-morelos.properati.com.mx/hxti_venta_departamento_cuajimalpa-de-morelos,19.3499358,-99.2906864,Distrito Federal\\nsell,apartment,950000.0,941629.12,50064.02,0.0,86.0,11046.51163,http://playa-del-carmen.properati.com.mx/brk1_venta_departamento_playa-del-carmen,20.626583,-87.078659,Quintana Roo\\nsell,house,4800000.0,4757705.81,252955.09,153.0,255.0,18823.52941,http://barrio-san-lucas.properati.com.mx/nr0m_venta_casa_barrio-san-lucas_redhabitat-servicios-inmobiliarios-profesionales-s-a-de-c-v,19.3471142162,-99.1543257236,Distrito Federal\\nsell,apartment,3464920.0,3434389.59,182597.74,100.0,100.0,34649.2,http://benito-juarez.properati.com.mx/cpc3_venta_departamento_benito-juarez,19.364967,-99.1428406,Distrito Federal\\nsell,apartment,475000.0,8934037.5,475000.0,171.0,171.0,2777.777778,http://playa-del-carmen.properati.com.mx/coo1_venta_departamento_playa-del-carmen,20.6514788249,-87.0468020439,Quintana Roo\\nsell,apartment,2365100.0,2343704.61,124608.8,300.0,120.0,19709.16667,http://cancun.properati.com.mx/ddt2_venta_departamento_cancun,21.082655,-86.857162,Quintana Roo\\nsell,apartment,3250000.0,3221363.2,171271.67,74.0,74.0,43918.91892,http://pueblo-de-san-pablo-tepetlapa.properati.com.mx/ctkb_venta_departamento_pueblo-de-san-pablo-tepetlapa,19.323066,-99.1393153,Distrito Federal\\nsell,apartment,1578410.0,1564131.22,83160.87,0.0,126.0,12527.06349,http://tlahuac.properati.com.mx/gxcm_venta_departamento_tlahuac,19.2990233,-99.0436467,Distrito Federal\\nsell,house,11000000.0,10903075.85,579688.75,200.0,325.0,33846.15385,http://benito-juarez.properati.com.mx/lqyz_venta_casa_benito-juarez_quality-bicofi,19.3779166,-99.1709895,Distrito Federal\\nsell,house,2000000.0,37617000.0,2000000.0,750.0,800.0,2500.0,http://miguel-hidalgo-df.properati.com.mx/b2dl_venta_casa_miguel-hidalgo,19.420166,-99.220367,Distrito Federal\\nsell,apartment,465900.0,8762880.15,465900.0,0.0,185.0,2518.378378,http://cancun.properati.com.mx/br4t_venta_departamento_cancun,21.158964,-86.845937,Quintana Roo\\nsell,house,1850000.0,1833698.97,97493.1,168.0,168.0,11011.90476,http://cancun.properati.com.mx/puee_venta_casa_cancun_butchart-bienes-raices,21.203037,-86.806343,Quintana Roo\\nsell,house,2850000.0,53604225.0,2850000.0,550.0,650.0,4384.615385,http://cancun.properati.com.mx/cfpp_venta_casa_cancun,21.129547,-86.817017,Quintana Roo\\nsell,apartment,650000.0,644272.56,34254.33,60.0,60.0,10833.33333,http://gustavo-a-madero.properati.com.mx/etdm_venta_departamento_gustavo-a-madero,19.524143,-99.160149,Distrito Federal\\nsell,apartment,3950000.0,3915195.41,208160.96,0.0,60.0,65833.33333,http://miguel-hidalgo-df.properati.com.mx/p43q_venta_departamento_miguel-hidalgo_bh-bienes-raices,19.440935,-99.188522,Distrito Federal\\nsell,apartment,399000.0,7504591.5,399000.0,154.0,154.0,2590.909091,http://cancun.properati.com.mx/kw11_venta_departamento_cancun_century-21-caribbean-paradise,21.1121476062,-86.7676243186,Quintana Roo\\nsell,house,750000.0,14106375.0,750000.0,800.0,300.0,2500.0,http://cancun.properati.com.mx/mbum_venta_casa_cancun_bienestar-cancun,21.1347621,-86.7461357,Quintana Roo\\nsell,apartment,221208.0,4160590.66,221208.0,1000.0,100.0,2212.08,http://tulum.properati.com.mx/n81e_venta_departamento_tulum_cogam-bienes-raices,20.2112148,-87.462213,Quintana Roo\\nsell,store,140000.0,2633190.0,140000.0,0.0,36.0,3888.888889,http://playa-del-carmen.properati.com.mx/b6f4_venta_local_playa-del-carmen,20.6147810662,-87.0929412894,Quintana Roo\\nsell,house,1150000.0,21629775.0,1150000.0,523.0,450.0,2555.555556,http://miguel-hidalgo-df.properati.com.mx/ibwe_venta_casa_miguel-hidalgo,19.401079,-99.24807,Distrito Federal\\nsell,apartment,1250000.0,1238985.86,65873.72,25.0,85.0,14705.88235,http://tlalpan.properati.com.mx/p9wu_venta_departamento_tlalpan_mas-patrimonio,19.2963742,-99.1186279,Distrito Federal\\nsell,house,4250000.0,4211553.23,223917.55,142.0,206.0,20631.06796,http://tlalpan.properati.com.mx/mcvp_venta_casa_tlalpan_redhabitat-servicios-inmobiliarios-profesionales-s-a-de-c-v,19.2781744,-99.1424947,Distrito Federal\\nsell,house,3555000.0,3522840.32,187300.44,270.0,236.0,15063.55932,http://cancun.properati.com.mx/nzxm_venta_casa_cancun_the-top-real-estate,21.1136543,-86.8414847,Quintana Roo\\nsell,apartment,391500.0,387958.22,20626.75,47.0,47.0,8329.787234,http://iztapalapa.properati.com.mx/bgw9_venta_departamento_iztapalapa,19.3481352,-99.0802278,Distrito Federal\\nsell,house,950000.0,17868075.0,950000.0,500.0,220.0,4318.181818,http://cancun.properati.com.mx/b3no_venta_casa_cancun,21.158964,-86.845937,Quintana Roo\\nsell,apartment,5545250.0,5496389.14,292229.0,2397.0,331.0,16753.02115,http://cancun.properati.com.mx/pg6n_venta_departamento_cancun_m-l-cancun-real-estate,21.1108092328,-86.854012236,Quintana Roo\\nsell,apartment,2100000.0,2081496.25,110667.85,0.0,170.0,12352.94118,http://cancun.properati.com.mx/bpe7_venta_departamento_cancun,21.129547,-86.817017,Quintana Roo\\nsell,house,8300000.0,8226866.3,437401.51,325.0,350.0,23714.28571,http://tlalpan.properati.com.mx/li6k_venta_casa_tlalpan_quality-noriega,19.278061,-99.146996,Distrito Federal\\nsell,house,1710000.0,32162535.0,1710000.0,465.0,394.0,4340.101523,http://cancun.properati.com.mx/bsze_venta_casa_cancun,21.1347621,-86.7461357,Quintana Roo\\nsell,house,28000000.0,27753284.3,1475571.38,40000.0,660.0,42424.24242,http://tlalpan.properati.com.mx/mhpn_venta_casa_tlalpan_enlace-grupo-inmobiliario,19.267261,-99.146568,Distrito Federal\\nsell,house,690000.0,12977865.0,690000.0,382.0,350.0,1971.428571,http://cancun.properati.com.mx/d0ut_venta_casa_cancun,21.1126908709,-86.7653115839,Quintana Roo\\nsell,house,1250000.0,1238985.86,65873.72,170.0,221.0,5656.108597,http://cancun.properati.com.mx/ct4w_venta_casa_cancun,21.1758219963,-86.8605192751,Quintana Roo\\nsell,apartment,1800000.0,33855300.0,1800000.0,0.0,363.0,4958.677686,http://miguel-hidalgo-df.properati.com.mx/bxqk_venta_departamento_miguel-hidalgo,19.4278087,-99.1871851,Distrito Federal\\nsell,apartment,5600000.0,5550656.74,295114.27,0.0,109.0,51376.14679,http://cuauhtemoc.properati.com.mx/hsc7_venta_departamento_cuauhtemoc,19.41498,-99.177444,Distrito Federal\\nsell,apartment,3850000.0,3816076.5,202891.06,0.0,95.0,40526.31579,http://benito-juarez.properati.com.mx/r8g4_venta_departamento_benito-juarez_optima-consultoria-integral-en-bienes-raices,19.3628631,-99.1739857,Distrito Federal\\nsell,house,23000000.0,22791935.66,1211789.12,1080.0,1060.0,21698.11321,http://alvaro-obregon.properati.com.mx/b6th_venta_casa_alvaro-obregon,19.355921,-99.180214,Distrito Federal\\nsell,apartment,5738400.0,5687837.29,302407.81,1118.0,1118.0,5132.73703,http://benito-juarez.properati.com.mx/bxgt_venta_departamento_benito-juarez,19.3689778408,-99.1685736179,Distrito Federal\\nsell,apartment,5378200.0,5330811.14,283425.64,114.0,114.0,47177.19298,http://benito-juarez.properati.com.mx/p7z6_venta_departamento_benito-juarez_ingenia-bienes-raices,19.381729,-99.164986,Distrito Federal\\nsell,apartment,850000.0,15987225.0,850000.0,0.0,250.0,3400.0,http://miguel-hidalgo-df.properati.com.mx/qz0t_venta_departamento_miguel-hidalgo_quality-castell,19.429852,-99.181946,Distrito Federal\\nsell,apartment,2850000.0,53604225.0,2850000.0,0.0,816.0,3492.647059,http://miguel-hidalgo-df.properati.com.mx/p692_venta_departamento_miguel-hidalgo_brabasa-inmobiliaria,19.420166,-99.220367,Distrito Federal\\nsell,apartment,811800.0,15268740.3,811800.0,0.0,283.0,2868.551237,http://cancun.properati.com.mx/puhm_venta_departamento_cancun_imc-inmobiliaria-cancun,21.129547,-86.817017,Quintana Roo\\nsell,apartment,148500.0,147156.57,7823.94,49.0,49.0,3030.612245,http://tlahuac.properati.com.mx/bf9b_venta_departamento_tlahuac,19.2878066,-99.0522925,Distrito Federal\\nsell,house,650000.0,12225525.0,650000.0,400.0,383.0,1697.127937,http://playa-del-carmen.properati.com.mx/giqq_venta_casa_playa-del-carmen,20.6135651992,-87.0893418789,Quintana Roo\\nsell,house,1500000.0,1486430.48,79029.72,250.0,250.0,6000.0,http://cancun.properati.com.mx/ep8i_venta_casa_cancun,21.129547,-86.817017,Quintana Roo\\nsell,house,1300000.0,24451050.0,1300000.0,2400.0,300.0,4333.333333,http://puerto-morelos.properati.com.mx/gas9_venta_casa_puerto-morelos,20.8482492,-86.876106,Quintana Roo\\nsell,house,28000000.0,27746704.33,1475221.54,1496.0,800.0,35000.0,http://cancun.properati.com.mx/m7d4_venta_casa_cancun_inter-brokers-business-realty,21.161908,-86.8515279,Quintana Roo\\nsell,apartment,293600.0,5522175.6,293600.0,99.0,99.0,2965.656566,http://playa-del-carmen.properati.com.mx/lo0l_venta_departamento_playa-del-carmen_village-bienes-raices,20.6295586,-87.0738851,Quintana Roo\\nsell,house,500000.0,495476.82,26343.24,193.0,116.0,4310.344828,http://xochimilco.properati.com.mx/b0at_venta_casa_xochimilco,19.2572314,-99.1029664,Distrito Federal\\nsell,apartment,980000.0,971134.57,51632.75,0.0,61.0,16065.57377,http://iztapalapa.properati.com.mx/f9xj_venta_departamento_iztapalapa,19.3200381,-99.082512,Distrito Federal\\nsell,apartment,2819000.0,2794160.85,148558.41,0.0,60.0,46983.33333,http://alvaro-obregon.properati.com.mx/hbx9_venta_departamento_alvaro-obregon,19.3736979,-99.1933122,Distrito Federal\\nsell,apartment,4750000.0,4708146.35,250320.14,180.0,1.0,4750000.0,http://cancun.properati.com.mx/ngm2_venta_departamento_cancun_opoi-de-sapi-de-c-v,21.149204,-86.833328,Quintana Roo\\nsell,house,20900000.0,20715844.4,1101408.64,760.0,682.0,30645.16129,http://cuajimalpa-de-morelos.properati.com.mx/mh1a_venta_casa_cuajimalpa-de-morelos_mint-inmobiliaria-marca-registrada-propiedad-de-julio-cesar-gallardo-garcia,19.390415,-99.254997,Distrito Federal\\nsell,house,4950000.0,4905220.87,260798.09,332.0,280.0,17678.57143,http://la-magdalena-contreras.properati.com.mx/ok6h_venta_casa_la-magdalena-contreras_all-in-1-mexico-real-estate_656,19.3189618,-99.2266013,Distrito Federal\\nsell,apartment,926582.0,918417.55,48829.92,0.0,70.0,13236.88571,http://playa-del-carmen.properati.com.mx/pfhc_venta_departamento_playa-del-carmen_jpm-realestate,20.6542296048,-87.0873355865,Quintana Roo\\nsell,house,3400000.0,3370041.57,179176.52,4200.0,200.0,17000.0,http://cancun.properati.com.mx/kegt_venta_casa_cancun_smart-choice-real-estate,21.145283,-86.822662,Quintana Roo\\nsell,apartment,800000.0,792950.93,42159.18,59.0,59.0,13559.32203,http://miguel-hidalgo-df.properati.com.mx/d7wo_venta_departamento_miguel-hidalgo,19.4558491807,-99.2046815157,Distrito Federal\\nsell,apartment,1645000.0,1630505.29,86689.81,65.0,65.0,25307.69231,http://alvaro-obregon.properati.com.mx/fye0_venta_departamento_alvaro-obregon,19.3865940087,-99.1936147213,Distrito Federal\\nsell,apartment,380000.0,7147230.0,380000.0,166.0,166.0,2289.156627,http://cancun.properati.com.mx/ipdv_venta_departamento_cancun,21.0250671811,-86.8110895104,Quintana Roo\\nsell,house,13800000.0,13675161.36,727073.47,252.0,445.0,31011.23596,http://la-magdalena-contreras.properati.com.mx/p7l9_venta_casa_la-magdalena-contreras_villela-y-asociados,19.3235137,-99.2316619,Distrito Federal\\nsell,apartment,4980000.0,4936119.85,262440.91,0.0,100.0,49800.0,http://tlalpan.properati.com.mx/ipxt_venta_departamento_tlalpan,19.2963762,-99.1781383,Distrito Federal\\nsell,apartment,661100.0,655119.42,34831.03,0.0,54.0,12242.59259,http://iztapalapa.properati.com.mx/azml_venta_departamento_iztapalapa,19.342083,-99.0532159,Distrito Federal\\nsell,apartment,2200000.0,2180615.17,115937.75,0.0,60.0,36666.66667,http://cuauhtemoc.properati.com.mx/pcjw_venta_departamento_cuauhtemoc_quality-inmobiliaria-viendo-por-ti,19.4327514,-99.1517197,Distrito Federal\\nsell,house,3000000.0,2972861.16,158059.45,328.0,207.0,14492.75362,http://playa-del-carmen.properati.com.mx/kpwy_venta_casa_playa-del-carmen_york-properties_60r,20.6248067308,-87.088137567,Quintana Roo\\nsell,house,8950000.0,8871139.05,471655.85,988.0,621.0,14412.23833,http://cancun.properati.com.mx/btlq_venta_casa_cancun,21.082655,-86.857162,Quintana Roo\\nsell,apartment,550000.0,545153.65,28984.43,64.0,64.0,8593.75,http://cancun.properati.com.mx/bxl6_venta_departamento_cancun,21.158964,-86.845937,Quintana Roo\\nsell,house,1800000.0,1784139.7,94858.16,136.0,200.0,9000.0,http://cancun.properati.com.mx/q3w2_venta_casa_cancun_caribbean-view-realty,21.1340628,-86.8526161,Quintana Roo\\nsell,apartment,1200000.0,1189426.4,63238.77,88.0,88.0,13636.36364,http://gustavo-a-madero.properati.com.mx/r6ag_venta_departamento_gustavo-a-madero_arsa-esmeralda,19.516777,-99.160149,Distrito Federal\\nsell,store,315000.0,5924677.5,315000.0,300.0,136.0,2316.176471,http://puerto-morelos.properati.com.mx/cqa1_venta_local_puerto-morelos,20.8493562787,-86.8756813999,Quintana Roo\\nsell,apartment,6000000.0,5947132.21,316193.86,0.0,120.0,50000.0,http://cuauhtemoc.properati.com.mx/qua1_venta_departamento_cuauhtemoc_infinity-bienes-raices,19.4195256,-99.162549,Distrito Federal\\nsell,apartment,2103000.0,2084469.88,110825.95,0.0,65.0,32353.84615,http://benito-juarez.properati.com.mx/di55_venta_departamento_benito-juarez,19.3794059,-99.1591446,Distrito Federal\\nsell,apartment,1500000.0,1486430.48,79029.72,91.0,91.0,16483.51648,http://cuauhtemoc.properati.com.mx/nwrx_venta_departamento_cuauhtemoc_inmobiliaria-mercatecnia,19.4503249,-99.1351802,Distrito Federal\\nsell,apartment,3593660.0,3561995.1,189382.2,0.0,146.0,24614.10959,http://cancun.properati.com.mx/ofuw_venta_departamento_cancun_imc-inmobiliaria-cancun,21.145283,-86.822662,Quintana Roo\\nsell,house,3200000.0,3171803.93,168636.73,182.0,261.0,12260.5364,http://tlalpan.properati.com.mx/n5dm_venta_casa_tlalpan_vanber-consorcio-inmobiliario-s-a-de-c-v,19.3028822,-99.1366219,Distrito Federal\\nsell,house,15300000.0,15165187.47,806294.36,355.0,348.0,43965.51724,http://la-magdalena-contreras.properati.com.mx/kdpv_venta_casa_la-magdalena-contreras_mega-soluciones,19.3214747362,-99.2309335247,Distrito Federal\\nsell,apartment,5950000.0,5897572.94,313558.92,0.0,137.0,43430.65693,http://alvaro-obregon.properati.com.mx/jmpp_venta_departamento_alvaro-obregon,19.3302564,-99.2575527,Distrito Federal\\nsell,apartment,4560000.0,4518748.89,240250.36,115.0,115.0,39652.17391,http://benito-juarez.properati.com.mx/r1wh_venta_departamento_benito-juarez_ortiz-silva-asociados,19.4024797,-99.1565217,Distrito Federal\\nsell,house,2700000.0,2676209.55,142287.24,160.0,178.0,15168.53933,http://cancun.properati.com.mx/phe0_venta_casa_cancun_smart-home-cancun-real-state-company,21.1773905,-86.8179817,Quintana Roo\\nsell,apartment,1558640.0,1544906.3,82138.73,0.0,63.0,24740.31746,http://tlahuac.properati.com.mx/guf0_venta_departamento_tlahuac,19.2990233,-99.0436467,Distrito Federal\\nsell,house,2900000.0,2874447.19,152827.03,406.0,461.0,6290.672451,http://tlalpan.properati.com.mx/olyr_venta_casa_tlalpan_all-in-1-mexico-real-estate_656,19.2992988,-99.150598,Distrito Federal\\nsell,house,5200000.0,5154181.27,274034.68,420.0,301.0,17275.74751,http://cancun.properati.com.mx/n7g3_venta_casa_cancun_j-inmobiliaria,21.139086,-86.84964,Quintana Roo\\nsell,house,1899000.0,1882267.22,100075.35,110.0,155.0,12251.6129,http://cancun.properati.com.mx/kkgv_venta_casa_cancun_brokers-cancun,21.129547,-86.817017,Quintana Roo\\nsell,apartment,6450000.0,6393167.14,339908.4,0.0,111.0,58108.10811,http://benito-juarez.properati.com.mx/p7rc_venta_departamento_benito-juarez_mega-soluciones,19.3753973563,-99.1734831344,Distrito Federal\\nsell,apartment,3100000.0,3072685.02,163366.83,0.0,80.0,38750.0,http://cuajimalpa-de-morelos.properati.com.mx/hzlp_venta_departamento_cuajimalpa-de-morelos,19.3499358,-99.2906864,Distrito Federal\\nsell,apartment,6069000.0,6015524.24,319830.09,0.0,125.0,48552.0,http://benito-juarez.properati.com.mx/ifj0_venta_departamento_benito-juarez,19.392978,-99.1760298,Distrito Federal\\nsell,apartment,3490000.0,3459248.59,183919.43,132.0,125.0,27920.0,http://benito-juarez.properati.com.mx/hg7l_venta_departamento_benito-juarez,19.3737616972,-99.1773503087,Distrito Federal\\nsell,house,1500000.0,1486430.48,79029.72,98.0,120.0,12500.0,http://tabasco-zacatecas.properati.com.mx/ok2s_venta_casa_tabasco_work-home-real-estate-and-integral-solutions,23.634501,-102.552788,Zacatecas\\nsell,apartment,230000.0,4325955.0,230000.0,0.0,75.0,3066.666667,http://cancun.properati.com.mx/bgla_venta_departamento_cancun,21.1295466,-86.8170132,Quintana Roo\\nsell,apartment,160000.0,3009360.0,160000.0,88.0,88.0,1818.181818,http://playa-del-carmen.properati.com.mx/glh2_venta_departamento_playa-del-carmen,20.626583,-87.078659,Quintana Roo\\nsell,house,2300000.0,2279733.89,121207.64,160.0,170.0,13529.41176,http://cancun.properati.com.mx/o7kx_venta_casa_cancun_caribbean-view-realty,21.140728704,-86.8384051323,Quintana Roo\\nsell,apartment,10700000.0,10605719.3,563879.06,221.0,221.0,48416.28959,http://benito-juarez.properati.com.mx/qxz0_venta_departamento_benito-juarez_quality-inmobiliaria-viendo-por-ti,19.3928136,-99.1738213,Distrito Federal\\nsell,house,3780000.0,3745804.93,199154.9,437.0,181.0,20883.9779,http://playa-del-carmen.properati.com.mx/l5sq_venta_casa_playa-del-carmen_realty-riviera-mexico,20.676314354,-87.0433473587,Quintana Roo\\nsell,apartment,470000.0,465858.52,24768.51,60.0,60.0,7833.333333,http://iztapalapa.properati.com.mx/c0fm_venta_departamento_iztapalapa,19.3703924,-99.1249413,Distrito Federal\\nsell,apartment,9862000.0,9772785.62,519594.1,285.0,285.0,34603.50877,http://cuajimalpa-de-morelos.properati.com.mx/qabp_venta_departamento_cuajimalpa-de-morelos_quality-360g,19.392937,-99.263313,Distrito Federal\\nsell,apartment,2946700.0,2920735.66,155288.07,0.0,74.0,39820.27027,http://benito-juarez.properati.com.mx/kj4t_venta_departamento_benito-juarez_next-home,19.39365,-99.14769,Distrito Federal\\nsell,house,1800000.0,33855300.0,1800000.0,820.0,1360.0,1323.529412,http://cuajimalpa-de-morelos.properati.com.mx/cq1f_venta_casa_cuajimalpa-de-morelos,19.3931419,-99.2597205,Distrito Federal\\nsell,apartment,8800000.0,8720392.68,463641.05,0.0,220.0,40000.0,http://cuajimalpa-de-morelos.properati.com.mx/ok8v_venta_departamento_cuajimalpa-de-morelos_next-home,19.390415,-99.254997,Distrito Federal\\nsell,house,5200000.0,5294268.49,281482.76,450.0,565.0,9203.539823,http://cancun.properati.com.mx/fmhu_venta_casa_cancun,21.166525,-86.821495,Quintana Roo\\nsell,apartment,5257000.0,5210679.0,277038.52,0.0,203.0,25896.55172,http://cancun.properati.com.mx/bje4_venta_departamento_cancun,21.158964,-86.845937,Quintana Roo\\nsell,apartment,1800000.0,1784139.7,94858.16,62.0,62.0,29032.25806,http://benito-juarez.properati.com.mx/r5id_venta_departamento_benito-juarez_novello-luxury-real-estate,19.3847719,-99.1664667,Distrito Federal\\nsell,apartment,6200000.0,6145370.04,326733.66,133.0,133.0,46616.54135,http://tlalpan.properati.com.mx/maq4_venta_departamento_tlalpan_infinity-bienes-raices,19.3036292,-99.2239303,Distrito Federal\\nsell,apartment,500000.0,495594.19,26349.48,43.0,43.0,11627.90698,http://venustiano-carranza.properati.com.mx/i0w2_venta_departamento_venustiano-carranza,19.4292489747,-99.0636818111,Distrito Federal\\nsell,apartment,2300000.0,2279193.52,121178.91,70.0,70.0,32857.14286,http://alvaro-obregon.properati.com.mx/m8yv_venta_departamento_alvaro-obregon_vanber-consorcio-inmobiliario-s-a-de-c-v,19.3845952529,-99.1984791771,Distrito Federal\\nsell,house,420000.0,7899570.0,420000.0,263.0,268.0,1567.164179,http://playa-del-carmen.properati.com.mx/o1pm_venta_casa_playa-del-carmen_loretto-bienes-raices,20.613375,-87.089897,Quintana Roo\\nsell,apartment,1700000.0,31974450.0,1700000.0,424.0,414.0,4106.280193,http://cuajimalpa-de-morelos.properati.com.mx/lb9e_venta_departamento_cuajimalpa-de-morelos_house-hunters-asesores,19.392937,-99.263313,Distrito Federal\\nsell,apartment,3950000.0,74293575.0,3950000.0,0.0,1300.0,3038.461538,http://miguel-hidalgo-df.properati.com.mx/g5pe_venta_departamento_miguel-hidalgo,19.402315,-99.225042,Distrito Federal\\nsell,apartment,500000.0,9404250.0,500000.0,0.0,340.0,1470.588235,http://cancun.properati.com.mx/i6hc_venta_departamento_cancun,21.1652832513,-86.8136816022,Quintana Roo\\nsell,apartment,125843.0,2366918.06,125843.0,0.0,68.0,1850.632353,http://cancun.properati.com.mx/odvy_venta_departamento_cancun_jpm-realestate,21.129547,-86.817017,Quintana Roo\\nsell,house,5450000.0,5401978.56,287209.43,280.0,290.0,18793.10345,http://coyoacan.properati.com.mx/c21q_venta_casa_coyoacan,19.3434226,-99.1359301,Distrito Federal\\nsell,store,1680000.0,1665197.0,88534.28,294.0,160.0,10500.0,http://cancun.properati.com.mx/cp4o_venta_local_cancun,21.192402,-86.834587,Quintana Roo\\nsell,apartment,9000000.0,8918583.49,474178.35,2000.0,260.0,34615.38462,http://cancun.properati.com.mx/l4ze_venta_departamento_cancun_cogam-bienes-raices,21.1400687,-86.8424262,Quintana Roo\\nsell,apartment,995000.0,18714457.5,995000.0,0.0,331.0,3006.042296,http://miguel-hidalgo-df.properati.com.mx/n4xv_venta_departamento_miguel-hidalgo_jasesoresinmobiliarios,19.4095028,-99.2272939,Distrito Federal\\nsell,house,2300000.0,2279193.52,121178.91,214.0,160.0,14375.0,http://playa-del-carmen.properati.com.mx/kiuu_venta_casa_playa-del-carmen_realty-riviera-mexico,20.6773181299,-87.0512866974,Quintana Roo\\nsell,house,549000.0,10325866.5,549000.0,415.0,320.0,1715.625,http://playa-del-carmen-centro.properati.com.mx/l9dh_venta_casa_playa-del-carmen-centro_vivan-las-casas,20.626583,-87.078659,Solidaridad\\nsell,apartment,820000.0,812581.93,43202.91,80.0,80.0,10250.0,http://gustavo-a-madero.properati.com.mx/ok6t_venta_departamento_gustavo-a-madero_all-in-1-mexico-real-estate_656,19.487856,-99.0909786,Distrito Federal\\nsell,apartment,2600000.0,2577090.63,137017.34,0.0,154.0,16883.11688,http://cancun.properati.com.mx/nxep_venta_departamento_cancun_the-top-real-estate,21.1983978,-86.826621,Quintana Roo\\nsell,apartment,700000.0,13165950.0,700000.0,0.0,236.0,2966.101695,http://cancun.properati.com.mx/bglk_venta_departamento_cancun,21.0979898233,-86.7645008595,Quintana Roo\\nsell,apartment,434775.0,430943.92,22912.19,13.0,51.0,8525.0,http://iztapalapa.properati.com.mx/byfp_venta_departamento_iztapalapa,19.342083,-99.0532159,Distrito Federal\\nsell,apartment,3000000.0,2973566.1,158096.93,230.0,230.0,13043.47826,http://cancun.properati.com.mx/leaf_venta_departamento_cancun_riviera-realty,21.1902642,-86.8198375,Quintana Roo\\nsell,apartment,975000.0,966408.94,51381.5,0.0,75.0,13000.0,http://cuauhtemoc.properati.com.mx/nmuh_venta_departamento_cuauhtemoc_century-21-felix,19.4302678,-99.1373136,Distrito Federal\\nsell,apartment,3200000.0,3171051.78,168596.74,0.0,78.0,41025.64103,http://cuajimalpa-de-morelos.properati.com.mx/hzao_venta_departamento_cuajimalpa-de-morelos,19.3499358,-99.2906864,Distrito Federal\\nsell,apartment,720000.0,13542120.0,720000.0,160.0,160.0,4500.0,http://miguel-hidalgo-df.properati.com.mx/hj49_venta_departamento_miguel-hidalgo,19.2464696,-99.1013498,Distrito Federal\\nsell,apartment,436000.0,8200506.0,436000.0,120.0,83.0,5253.012048,http://playa-del-carmen.properati.com.mx/nfk0_venta_departamento_playa-del-carmen_playa-realtors-4-u,20.6345714787,-87.0665431023,Quintana Roo\\nsell,apartment,194000.0,3648849.0,194000.0,62.0,59.0,3288.135593,http://playa-del-carmen.properati.com.mx/ln28_venta_departamento_playa-del-carmen_jpm-realestate,20.6323624968,-87.0735168534,Quintana Roo\\nsell,apartment,2000000.0,1982377.34,105397.95,72.0,72.0,27777.77778,http://iztacalco.properati.com.mx/mvt4_venta_departamento_iztacalco_quality-unique,19.3776513,-99.1284592,Distrito Federal\\nsell,apartment,360000.0,6771060.0,360000.0,250.0,250.0,1440.0,http://cancun.properati.com.mx/m71c_venta_departamento_cancun_village-bienes-raices,21.203037,-86.806343,Quintana Roo\\nsell,apartment,5900000.0,5848013.48,310923.97,0.0,309.0,19093.85113,http://cancun.properati.com.mx/bli1_venta_departamento_cancun,21.158964,-86.845937,Quintana Roo\\nsell,apartment,650000.0,661783.46,35185.34,72.0,72.0,9027.777778,http://cuauhtemoc.properati.com.mx/4an_venta_apartamento_cuauhtemoc,19.442791,-99.124128,Distrito Federal\\nsell,house,2600000.0,48902100.0,2600000.0,738.0,800.0,3250.0,http://alvaro-obregon.properati.com.mx/bwtf_venta_casa_alvaro-obregon,19.368239479,-99.2512178421,Distrito Federal\\nsell,apartment,530000.0,9968505.0,530000.0,0.0,250.0,2120.0,http://cancun.properati.com.mx/bxn9_venta_departamento_cancun,21.1321482,-86.8601348,Quintana Roo\\nsell,house,890000.0,882157.95,46902.09,110.0,135.0,6592.592593,http://cancun.properati.com.mx/qzwf_venta_casa_cancun_century-21-caribbean-paradise,21.1358569342,-86.8371164917,Quintana Roo\\nsell,apartment,901340.0,893397.91,47499.69,0.0,69.0,13062.89855,http://playa-del-carmen.properati.com.mx/pg8j_venta_departamento_playa-del-carmen_jpm-realestate,20.6539886626,-87.087635994,Quintana Roo\\nsell,house,2850000.0,2824887.73,150192.08,330.0,190.0,15000.0,http://xochimilco.properati.com.mx/nfo2_venta_casa_xochimilco_quality-isla,19.2606652672,-99.0232535452,Distrito Federal\\nsell,apartment,156750.0,2948232.37,156750.0,80.0,77.0,2035.714286,http://playa-del-carmen.properati.com.mx/lmxw_venta_departamento_playa-del-carmen_jpm-realestate,20.6238429,-87.0846239,Quintana Roo\\nsell,house,202673.0,3811975.12,202673.0,200.0,153.0,1324.660131,http://puerto-morelos.properati.com.mx/p4u7_venta_casa_puerto-morelos_jpm-realestate,20.913662272,-86.8744432926,Quintana Roo\\nsell,apartment,420000.0,7899570.0,420000.0,145.0,145.0,2896.551724,http://miguel-hidalgo-df.properati.com.mx/px9e_venta_departamento_miguel-hidalgo_mx-bienes-raices,19.420166,-99.220367,Distrito Federal\\nsell,apartment,6400000.0,6343607.87,337273.46,110.0,110.0,58181.81818,http://alvaro-obregon.properati.com.mx/gz2f_venta_departamento_alvaro-obregon,19.3445052,-99.2738167,Distrito Federal\\nsell,apartment,5500000.0,5451537.83,289844.37,156.0,156.0,35256.41026,http://cuajimalpa-de-morelos.properati.com.mx/fa9c_venta_departamento_cuajimalpa-de-morelos,19.3631419,-99.2880597,Distrito Federal\\nsell,house,1250000.0,1238985.86,65873.72,159.0,187.0,6684.491979,http://cancun.properati.com.mx/d2tq_venta_casa_cancun,21.137991,-86.870964,Quintana Roo\\nsell,apartment,135027.0,2539655.32,135027.0,0.0,75.0,1800.36,http://cancun.properati.com.mx/o8ar_venta_departamento_cancun_jpm-realestate,21.129547,-86.817017,Quintana Roo\\nsell,apartment,215000.0,4043827.5,215000.0,65.0,65.0,3307.692308,http://playa-del-carmen-playa-del-carmen.properati.com.mx/fmj5_venta_departamento_playa-del-carmen,21.134224,-86.827522,Solidaridad\\nsell,apartment,3000000.0,56425500.0,3000000.0,749.0,482.0,6224.06639,http://cancun.properati.com.mx/lmrc_venta_departamento_cancun_jpm-realestate,21.1470186868,-86.7890967686,Quintana Roo\\nsell,house,2495000.0,2540230.68,135057.59,160.0,180.0,13861.11111,http://cancun.properati.com.mx/fmjg_venta_casa_cancun,21.111965,-86.852333,Quintana Roo\\nsell,house,14500000.0,14368828.99,763954.01,360.0,380.0,38157.89474,http://alvaro-obregon.properati.com.mx/phj2_venta_casa_alvaro-obregon_inmuebles-proyecta,19.3412635,-99.2585662,Distrito Federal\\nsell,house,3500000.0,65829750.0,3500000.0,1265.0,1500.0,2333.333333,http://miguel-hidalgo-df.properati.com.mx/hkra_venta_casa_miguel-hidalgo,19.420166,-99.220367,Distrito Federal\\nsell,apartment,1698000.0,1683038.37,89482.86,65.0,65.0,26123.07692,http://playa-del-carmen.properati.com.mx/kqan_venta_departamento_playa-del-carmen_york-properties_60r,20.6194371076,-87.0861808956,Quintana Roo\\nsell,apartment,450000.0,8463825.0,450000.0,0.0,223.0,2017.93722,http://cancun.properati.com.mx/bxve_venta_departamento_cancun,21.0906563,-86.7717484,Quintana Roo\\nsell,apartment,600000.0,11285100.0,600000.0,0.0,215.0,2790.697674,http://cancun.properati.com.mx/bxgy_venta_departamento_cancun,21.1348471,-86.8720579,Quintana Roo\\nsell,house,11000000.0,10903075.85,579688.75,750.0,690.0,15942.02899,http://cancun.properati.com.mx/j4yn_venta_casa_cancun,21.1521359683,-86.8196618557,Quintana Roo\\nsell,apartment,9732121.0,9908550.46,526812.37,190.0,178.0,54674.83708,http://santa-fe.properati.com.mx/gjd8_venta_departamento_santa-fe,19.347138,-99.2561697,Distrito Federal\\nsell,house,1320000.0,1308369.1,69562.65,91.0,89.0,14831.46067,http://alvaro-obregon.properati.com.mx/oggg_venta_casa_alvaro-obregon_all-in-1-mexico-real-estate_656,19.3566903,-99.2304104,Distrito Federal\\nsell,apartment,2234122.0,2214436.42,117735.94,0.0,62.0,36034.22581,http://venustiano-carranza.properati.com.mx/hfks_venta_departamento_venustiano-carranza,19.4306069,-99.0949899,Distrito Federal\\nsell,apartment,359000.0,6752251.5,359000.0,145.0,115.0,3121.73913,http://playa-del-carmen.properati.com.mx/cyf8_venta_departamento_playa-del-carmen,20.6353700424,-87.0614790916,Quintana Roo\\nsell,apartment,1500000.0,28212750.0,1500000.0,0.0,450.0,3333.333333,http://cuajimalpa-de-morelos.properati.com.mx/i47y_venta_departamento_cuajimalpa-de-morelos,19.3843018,-99.2656696,Distrito Federal\\nsell,apartment,420000.0,7899570.0,420000.0,115.0,115.0,3652.173913,http://playa-del-carmen.properati.com.mx/lr6i_venta_casa_playa-del-carmen_playa-realtors-4-u,20.6312103676,-87.0664519072,Quintana Roo\\nsell,apartment,8204000.0,8131712.21,432342.41,0.0,198.0,41434.34343,http://benito-juarez.properati.com.mx/mgyz_venta_departamento_benito-juarez_suaznavar-bienes-raices,19.3815495,-99.1694434,Distrito Federal\\nsell,apartment,2900000.0,2874447.19,152827.03,0.0,170.0,17058.82353,http://tlalpan.properati.com.mx/ew45_venta_departamento_tlalpan,19.2790911,-99.2114234,Distrito Federal\\nsell,apartment,10695000.0,10600763.44,563615.57,300.0,220.0,48613.63636,http://alvaro-obregon.properati.com.mx/c4kz_venta_departamento_alvaro-obregon,19.3594791,-99.2707271,Distrito Federal\\nsell,apartment,450000.0,8463825.0,450000.0,177.0,177.0,2542.372881,http://playa-del-carmen.properati.com.mx/g6gg_venta_departamento_playa-del-carmen,20.6596822,-87.0555566,Quintana Roo\\nsell,apartment,5600000.0,5550656.74,295114.27,0.0,220.0,25454.54545,http://cuauhtemoc.properati.com.mx/ij1n_venta_departamento_cuauhtemoc,19.4149803,-99.1774462,Distrito Federal\\nsell,house,2850000.0,2824217.96,150156.47,206.0,240.0,11875.0,http://tlalpan.properati.com.mx/nwse_venta_casa_tlalpan_luha-bienes-raices,19.2765113,-99.1900871,Distrito Federal\\nsell,apartment,371663.0,368300.71,19581.61,44.0,44.0,8446.886364,http://tlahuac.properati.com.mx/bg5o_venta_departamento_tlahuac,19.301659,-99.041011,Distrito Federal\\nsell,apartment,400000.0,396381.42,21074.59,43.0,43.0,9302.325581,http://iztapalapa.properati.com.mx/bhtn_venta_departamento_iztapalapa,19.3245518,-99.0419068,Distrito Federal\\nsell,house,2490000.0,2468059.83,131220.45,122.0,196.0,12704.08163,http://cancun.properati.com.mx/mxrr_venta_casa_cancun_propiedades-cancun,21.082655,-86.857162,Quintana Roo\\nsell,house,41500000.0,41134332.25,2187007.59,1508.0,1106.0,37522.60398,http://alvaro-obregon.properati.com.mx/houg_venta_casa_alvaro-obregon,19.331967025,-99.2575089633,Distrito Federal\\nsell,apartment,997645.0,988854.44,52574.87,83.0,83.0,12019.81928,http://iztapalapa.properati.com.mx/cbuv_venta_departamento_iztapalapa,19.342083,-99.0532159,Distrito Federal\\nsell,house,3550000.0,3517885.6,187037.01,270.0,270.0,13148.14815,http://cancun.properati.com.mx/b7bc_venta_casa_cancun,21.129547,-86.817017,Quintana Roo\\nsell,house,430000.0,8087655.0,430000.0,488.0,245.0,1755.102041,http://playa-del-carmen.properati.com.mx/bwk0_venta_casa_playa-del-carmen,20.613375,-87.089897,Quintana Roo\\nsell,store,2200000.0,2180615.17,115937.75,67.0,67.0,32835.8209,http://la-magdalena-contreras.properati.com.mx/r2bc_venta_local_la-magdalena-contreras_quality-uribe,19.3143023856,-99.2424845695,Distrito Federal\\nsell,apartment,2800000.0,2774670.35,147522.15,217.0,217.0,12903.22581,http://la-pastora.properati.com.mx/pu1s_venta_departamento_la-pastora_moran-mexico-property,19.5290566,-99.1359301,Distrito Federal\\nsell,apartment,641300.0,635498.58,33787.84,0.0,79.0,8117.721519,http://cuauhtemoc.properati.com.mx/bi33_venta_departamento_cuauhtemoc,19.4594892,-99.1221422,Distrito Federal\\nsell,store,250000.0,4702125.0,250000.0,0.0,66.0,3787.878788,http://playa-del-carmen.properati.com.mx/cdr5_venta_local_playa-del-carmen,20.6288922117,-87.0702452213,Quintana Roo\\nsell,house,395000.0,7429357.5,395000.0,980.0,340.0,1161.764706,http://cancun.properati.com.mx/cm2i_venta_casa_cancun,21.1014804825,-86.8418882793,Quintana Roo\\nsell,apartment,8650000.0,8573782.5,455846.16,190.0,190.0,45526.31579,http://polanco-miguel-hidalgo.properati.com.mx/q06g_venta_departamento_polanco_inmobiliaria-arsa,19.430456,-99.1889121,Distrito Federal\\nsell,apartment,3500000.0,65829750.0,3500000.0,4000.0,1300.0,2692.307692,http://cancun.properati.com.mx/b4or_venta_departamento_cancun,21.161908,-86.8515279,Quintana Roo\\nsell,apartment,1600000.0,1585901.87,84318.36,155.0,124.0,12903.22581,http://cancun.properati.com.mx/q9dg_venta_departamento_cancun_tipi-bienes-raices,21.149204,-86.833328,Quintana Roo\\nsell,apartment,2490000.0,2467474.7,131189.34,103.0,82.0,30365.85366,http://coyoacan.properati.com.mx/m6og_venta_departamento_coyoacan_enlace-grupo-inmobiliario,19.3018442,-99.140989,Distrito Federal\\nsell,house,11900000.0,11795145.89,627117.84,330.0,360.0,33055.55556,http://coyoacan.properati.com.mx/fo3g_venta_casa_coyoacan,19.353813,-99.163605,Distrito Federal\\nsell,house,2500000.0,2477384.14,131716.2,200.0,360.0,6944.444444,http://gustavo-a-madero.properati.com.mx/f48n_venta_casa_gustavo-a-madero,19.496761,-99.075081,Distrito Federal\\nsell,apartment,621788.0,11694899.59,621788.0,180.0,125.0,4974.304,http://playa-del-carmen.properati.com.mx/qbri_venta_departamento_playa-del-carmen_playa-realtors-4-u,20.6362984435,-87.065320015,Quintana Roo\\nsell,apartment,2250000.0,2230174.62,118572.7,80.0,80.0,28125.0,http://gustavo-a-madero.properati.com.mx/gdij_venta_departamento_industrial,19.4809432,-99.1274918,Distrito Federal\\nsell,apartment,3900000.0,3865635.95,205526.01,125.0,125.0,31200.0,http://alvaro-obregon.properati.com.mx/mvpd_venta_departamento_alvaro-obregon_inmuebles-proyecta,19.3349552,-99.2233579,Distrito Federal\\nsell,apartment,5475000.0,5426758.19,288526.9,0.0,190.0,28815.78947,http://cancun.properati.com.mx/rdzt_venta_departamento_cancun_brokers-cancun,21.129547,-86.817017,Quintana Roo\\nsell,apartment,3200000.0,3171051.78,168596.74,91.0,91.0,35164.83516,http://cancun.properati.com.mx/b9v1_venta_departamento_cancun,21.129547,-86.817017,Quintana Roo\\nsell,apartment,554455.0,549439.16,29212.28,57.0,57.0,9727.280702,http://iztapalapa.properati.com.mx/b248_venta_departamento_iztapalapa,19.342083,-99.0532159,Distrito Federal\\nsell,house,670000.0,12601695.0,670000.0,400.0,415.0,1614.457831,http://playa-del-carmen.properati.com.mx/kmkl_venta_casa_playa-del-carmen_real-estate-riviera-maya,20.6112630681,-87.0967032015,Quintana Roo\\nsell,house,8000000.0,7929509.74,421591.82,573.0,512.0,15625.0,http://gustavo-a-madero.properati.com.mx/cr9m_venta_casa_gustavo-a-madero,19.5051701,-99.1260113,Distrito Federal\\nsell,apartment,3200000.0,3171803.93,168636.73,100.0,100.0,32000.0,http://playa-del-carmen.properati.com.mx/kmlx_venta_departamento_playa-del-carmen_century-21-caribbean-paradise,20.6766006601,-87.0375967009,Quintana Roo\\nsell,apartment,2300000.0,2279733.89,121207.64,0.0,53.0,43396.22642,http://alvaro-obregon.properati.com.mx/kjgt_venta_departamento_alvaro-obregon_circulo-bienes-raices,19.382059,-99.2156059,Distrito Federal\\nsell,apartment,270000.0,5078295.0,270000.0,52.0,52.0,5192.307692,http://playa-del-carmen.properati.com.mx/oghg_venta_departamento_playa-del-carmen_playa-realtors-4-u,20.630901,-87.069916,Quintana Roo\\nsell,house,4750000.0,4708146.35,250320.14,280.0,270.0,17592.59259,http://cancun.properati.com.mx/cng1_venta_casa_cancun,21.1138993,-86.8443431,Quintana Roo\\nsell,apartment,865000.0,857378.13,45584.61,55.0,62.0,13951.6129,http://venustiano-carranza.properati.com.mx/dn95_venta_departamento_venustiano-carranza,19.4126915168,-99.1277845949,Distrito Federal\\nsell,house,8700000.0,8623341.95,458481.11,478.0,502.0,17330.67729,http://cancun.properati.com.mx/p777_venta_casa_cancun_luxury-cancun-and-riviera-m-p-sa-de-cv,21.158964,-86.845937,Quintana Roo\\nsell,apartment,3100000.0,3072685.02,163366.83,0.0,80.0,38750.0,http://cuajimalpa-de-morelos.properati.com.mx/i0yd_venta_departamento_cuajimalpa-de-morelos,19.3499358,-99.2906864,Distrito Federal\\nsell,apartment,1190000.0,22382115.0,1190000.0,0.0,162.0,7345.679012,http://miguel-hidalgo-df.properati.com.mx/q9dt_venta_departamento_miguel-hidalgo_promotores-inmobiliarios_eh4,19.4316766,-99.2001362,Distrito Federal\\nsell,apartment,3873000.0,3837963.76,204054.75,98.0,98.0,39520.40816,http://benito-juarez.properati.com.mx/orwm_venta_departamento_benito-juarez_quatum-vende,19.3680133,-99.1621111,Distrito Federal\\nsell,apartment,345000.0,6488932.5,345000.0,90.0,79.0,4367.088608,http://playa-del-carmen.properati.com.mx/ogc1_venta_departamento_playa-del-carmen_playa-realtors-4-u,20.6317801803,-87.0696544647,Quintana Roo\\nsell,apartment,1700000.0,1685020.78,89588.26,86.0,86.0,19767.44186,http://benito-juarez.properati.com.mx/p52n_venta_departamento_benito-juarez_ibracapital-s-a-p-i-de-c-v,19.381729,-99.164986,Distrito Federal\\nsell,apartment,700000.0,693667.44,36880.53,90.0,54.0,12962.96296,http://venustiano-carranza.properati.com.mx/p4qk_venta_departamento_venustiano-carranza_moran-mexico-property,19.4285813,-99.0609099,Distrito Federal\\nsell,apartment,2500000.0,2477971.72,131747.44,100.0,120.0,20833.33333,http://gustavo-a-madero.properati.com.mx/nx1f_venta_departamento_gustavo-a-madero_grupo-inmuebla-s-a-de-c-v,19.5029542,-99.122192,Distrito Federal\\nsell,house,970000.0,961224.94,51105.88,92.0,90.0,10777.77778,http://playa-del-carmen.properati.com.mx/kq05_venta_casa_playa-del-carmen_york-properties_60r,20.6647579056,-87.0624379814,Quintana Roo\\nsell,house,3775000.0,3740850.21,198891.47,200.0,224.0,16852.67857,http://tlalpan.properati.com.mx/bh28_venta_casa_tlalpan,19.2926091476,-99.1084470754,Distrito Federal\\nsell,apartment,360000.0,6771060.0,360000.0,0.0,125.0,2880.0,http://playa-del-carmen-centro.properati.com.mx/l5od_venta_departamento_playa-del-carmen-centro_century-21-caribbean-paradise,20.626583,-87.078659,Solidaridad\\nsell,apartment,1027847.0,1018790.23,54166.48,0.0,61.0,16849.95082,http://tlahuac.properati.com.mx/gz28_venta_departamento_tlahuac,19.2990233,-99.0436467,Distrito Federal\\nsell,apartment,195000.0,3667657.5,195000.0,0.0,134.0,1455.223881,http://playa-del-carmen.properati.com.mx/m3d5_venta_departamento_playa-del-carmen_realty-riviera-mexico,20.65593,-87.05368,Quintana Roo\\nsell,apartment,801000.0,15065608.5,801000.0,178.0,178.0,4500.0,http://miguel-hidalgo-df.properati.com.mx/iq9s_venta_departamento_miguel-hidalgo,19.4330857,-99.2005645,Distrito Federal\\nsell,house,4800000.0,4757705.81,252955.09,391.0,600.0,8000.0,http://cancun.properati.com.mx/m3hs_venta_casa_cancun_bienestar-cancun,21.1166104566,-86.8428039551,Quintana Roo\\nsell,apartment,999000.0,18789691.5,999000.0,0.0,282.0,3542.553191,http://cancun.properati.com.mx/oq8v_venta_departamento_cancun_imc-inmobiliaria-cancun,21.1674843565,-86.809829235,Quintana Roo\\nsell,apartment,549000.0,10325866.5,549000.0,183.0,183.0,3000.0,http://cancun.properati.com.mx/lmxl_venta_departamento_cancun_jpm-realestate,21.1120865975,-86.7680883408,Quintana Roo\\nsell,apartment,6200000.0,6143912.94,326656.19,144.0,144.0,43055.55556,http://alvaro-obregon.properati.com.mx/ozfa_venta_casa_alvaro-obregon_cattori-inmobiliaria-s-a-de-c-v,19.3447,-99.212753,Distrito Federal\\nsell,apartment,13500000.0,13381047.76,711436.2,0.0,265.0,50943.39623,http://cuajimalpa-de-morelos.properati.com.mx/p7xj_venta_departamento_cuajimalpa-de-morelos_brabasa-inmobiliaria,19.390415,-99.254997,Distrito Federal\\nsell,house,790000.0,14858715.0,790000.0,400.0,300.0,2633.333333,http://alvaro-obregon.properati.com.mx/d40f_venta_casa_alvaro-obregon,19.3266422705,-99.2443878653,Distrito Federal\\nsell,apartment,8500000.0,8425104.12,447941.31,0.0,140.0,60714.28571,http://cuauhtemoc.properati.com.mx/pvz5_venta_departamento_cuauhtemoc_bienes-raices-h-a-h-n-y-asociados-s-a-de-c-v,19.409369,-99.171906,Distrito Federal\\nsell,apartment,1950000.0,1932817.88,102763.0,70.0,70.0,27857.14286,http://benito-juarez.properati.com.mx/ngny_venta_departamento_benito-juarez_quality-bicofi,19.3934821,-99.137825,Distrito Federal\\nsell,apartment,750000.0,14106375.0,750000.0,360.0,360.0,2083.333333,http://cuajimalpa-de-morelos.properati.com.mx/ific_venta_departamento_cuajimalpa-de-morelos,19.3631419,-99.2880597,Distrito Federal\\nsell,apartment,324500.0,321564.41,17096.76,42.0,42.0,7726.190476,http://cuauhtemoc.properati.com.mx/bi36_venta_departamento_cuauhtemoc,19.4468231,-99.1303962,Distrito Federal\\nsell,house,2800000.0,2775328.27,147557.13,140.0,300.0,9333.333333,http://la-magdalena-contreras.properati.com.mx/pui3_venta_casa_la-magdalena-contreras_helena-bienes-raices,19.3158372,-99.2518829,Distrito Federal\\nsell,apartment,3053368.0,3026463.88,160909.37,0.0,137.0,22287.35766,http://cancun.properati.com.mx/qv2g_venta_departamento_cancun_jpm-realestate,21.1109415986,-86.8538246176,Quintana Roo\\nsell,apartment,7330000.0,7265413.2,386283.5,256.0,234.0,31324.78632,http://benito-juarez.properati.com.mx/r29k_venta_departamento_benito-juarez_micasapropia-inmobiliaria,19.394073,-99.153915,Distrito Federal\\nsell,house,2230000.0,2210350.84,117518.72,170.0,200.0,11150.0,http://iztapalapa.properati.com.mx/qtd1_venta_casa_iztapalapa_trueba-de-torres-y-asociados-s-a-de-cv,19.3338384077,-99.0586721712,Distrito Federal\\nsell,house,220000.0,4137870.0,220000.0,336.0,157.0,1401.273885,http://cancun.properati.com.mx/pkl6_venta_casa_cancun_caribbean-realtors,21.1935231,-86.8063267,Quintana Roo\\nsell,apartment,289000.0,5435656.5,289000.0,134.0,66.0,4378.787879,http://playa-del-carmen-centro.properati.com.mx/cay6_venta_departamento_playa-del-carmen-centro,20.626583,-87.078659,Solidaridad\\nsell,house,1300000.0,1288545.31,68508.67,315.0,135.0,9629.62963,http://cancun.properati.com.mx/mrj5_venta_casa_cancun_century-21-caribbean-paradise,21.0812325806,-86.8437652336,Quintana Roo\\nsell,apartment,450000.0,8463825.0,450000.0,12000.0,170.0,2647.058824,http://puerto-morelos.properati.com.mx/m2vf_venta_departamento_puerto-morelos_salespuertomorelos,20.8988089122,-86.8531680107,Quintana Roo\\nsell,apartment,3100000.0,3071956.38,163328.09,0.0,80.0,38750.0,http://cuajimalpa-de-morelos.properati.com.mx/hzck_venta_departamento_cuajimalpa-de-morelos,19.3499358,-99.2906864,Distrito Federal\\nsell,house,2080000.0,2061183.64,109587.88,110.0,170.0,12235.29412,http://cancun.properati.com.mx/p7np_venta_casa_cancun_mundo-raiz,21.0974827988,-86.8694972992,Quintana Roo\\nsell,house,3000000.0,2973566.1,158096.93,217.0,200.0,15000.0,http://xochimilco.properati.com.mx/r6h3_venta_casa_xochimilco_century-21-felix,19.2430738,-99.0862727,Distrito Federal\\nsell,house,3800000.0,3765624.01,200208.63,140.0,200.0,19000.0,http://cancun.properati.com.mx/b79v_venta_casa_cancun,21.158964,-86.845937,Quintana Roo\\nsell,house,1600000.0,30093600.0,1600000.0,525.0,450.0,3555.555556,http://alvaro-obregon.properati.com.mx/bt35_venta_casa_alvaro-obregon,19.346523,-99.191292,Distrito Federal\\nsell,house,320000.0,6018720.0,320000.0,0.0,99.0,3232.323232,http://playa-del-carmen-centro.properati.com.mx/g7dj_venta_casa_playa-del-carmen-centro,20.6313521934,-87.0688196272,Solidaridad\\nsell,house,600000.0,11285100.0,600000.0,600.0,300.0,2000.0,http://playa-del-carmen.properati.com.mx/donp_venta_casa_playa-del-carmen,20.503029,-87.222649,Quintana Roo\\nsell,house,2100000.0,2081496.25,110667.85,166.0,219.0,9589.041096,http://cancun.properati.com.mx/gnh4_venta_casa_cancun,21.129547,-86.817017,Quintana Roo\\nsell,apartment,3600000.0,3567433.39,189671.34,0.0,110.0,32727.27273,http://cancun.properati.com.mx/rdvz_venta_departamento_cancun_brokers-cancun,21.129547,-86.817017,Quintana Roo\\nsell,house,8500000.0,8425104.12,447941.31,323.0,574.0,14808.36237,http://gustavo-a-madero.properati.com.mx/md4g_venta_casa_gustavo-a-madero_quality-uribe,19.4729125,-99.1232228,Distrito Federal\\nsell,apartment,238710.0,4489777.03,238710.0,104.0,104.0,2295.288462,http://tulum.properati.com.mx/kvz1_venta_departamento_tulum_century-21-caribbean-paradise,20.3854202485,-87.3351425617,Quintana Roo\\nsell,house,16890000.0,16741177.64,890085.74,600.0,700.0,24128.57143,http://cuajimalpa-de-morelos.properati.com.mx/l41e_venta_casa_cuajimalpa-de-morelos_j-a-bienes-raices,19.390415,-99.254997,Distrito Federal\\nsell,house,1070000.0,1060571.81,56387.9,40.0,78.0,13717.94872,http://alvaro-obregon.properati.com.mx/bzfq_venta_casa_alvaro-obregon,19.3882538227,-99.2046627402,Distrito Federal\\nsell,house,850000.0,15987225.0,850000.0,1890.0,875.0,971.4285714,http://miguel-hidalgo-df.properati.com.mx/hnel_venta_casa_miguel-hidalgo,19.401079,-99.24807,Distrito Federal\\nsell,house,392000.0,7372932.0,392000.0,500.0,327.0,1198.776758,http://playa-del-carmen.properati.com.mx/ge99_venta_casa_playa-del-carmen,20.664374,-87.0675919,Quintana Roo\\nsell,house,8500000.0,8425104.12,447941.31,208.0,334.0,25449.1018,http://benito-juarez.properati.com.mx/kom1_venta_casa_benito-juarez_micasapropia-inmobiliaria,19.39365,-99.14769,Distrito Federal\\nsell,apartment,4350000.0,4311670.88,229240.55,166.0,166.0,26204.81928,http://cuajimalpa-de-morelos.properati.com.mx/mvrd_venta_casa_cuajimalpa-de-morelos_casa-real-servicios-inmobiliarios,19.3810000272,-99.2948520184,Distrito Federal\\nsell,house,3693000.0,3660459.86,194617.32,124.0,175.0,21102.85714,http://benito-juarez.properati.com.mx/cgsx_venta_casa_benito-juarez,19.3794059,-99.1591446,Distrito Federal\\nsell,apartment,2658300.0,2634252.11,140056.47,0.0,83.0,32027.71084,http://alvaro-obregon.properati.com.mx/ksa3_venta_departamento_alvaro-obregon_next-home,19.341894,-99.224525,Distrito Federal\\nsell,apartment,3247000.0,3218389.76,171113.58,0.0,96.0,33822.91667,http://alvaro-obregon.properati.com.mx/ev5d_venta_departamento_alvaro-obregon,19.341894,-99.224525,Distrito Federal\\nsell,house,3450000.0,3419601.03,181811.47,180.0,217.0,15898.61751,http://cancun.properati.com.mx/kx6e_venta_casa_cancun_brokers-cancun,21.139086,-86.84964,Quintana Roo\\nsell,apartment,520000.0,9780420.0,520000.0,209.0,209.0,2488.038278,http://miguel-hidalgo-df.properati.com.mx/btxr_venta_departamento_miguel-hidalgo,19.4340199,-99.1956012,Distrito Federal\\nsell,apartment,17500000.0,17345802.64,922232.11,189.0,189.0,92592.59259,http://miguel-hidalgo-df.properati.com.mx/oogm_venta_departamento_miguel-hidalgo_lomeli-brokers,19.432566,-99.1926314,Distrito Federal\\nsell,house,1474000.0,1461012.11,77678.29,540.0,350.0,4211.428571,http://venustiano-carranza.properati.com.mx/cbpa_venta_casa_venustiano-carranza,19.4109376,-99.0826336,Distrito Federal\\nsell,house,990000.0,18620415.0,990000.0,0.0,700.0,1414.285714,http://cancun.properati.com.mx/p4k7_venta_casa_cancun_bienestar-cancun,21.1347621,-86.7461357,Quintana Roo\\nsell,house,850000.0,15987225.0,850000.0,470.0,450.0,1888.888889,http://cancun.properati.com.mx/pqq3_venta_casa_cancun_century-21-caribbean-paradise,21.1123668405,-86.7631530762,Quintana Roo\\nsell,apartment,2850000.0,2824887.73,150192.08,107.0,107.0,26635.51402,http://cancun.properati.com.mx/jhgc_venta_departamento_cancun,21.1457352,-86.8220527,Quintana Roo\\nsell,house,4000000.0,4072514.22,216525.2,300.0,340.0,11764.70588,http://cancun.properati.com.mx/fmip_venta_casa_cancun,21.145512,-86.833321,Quintana Roo\\nsell,house,3600000.0,3568279.4,189716.32,312.0,300.0,12000.0,http://playa-del-carmen.properati.com.mx/quzu_venta_casa_playa-del-carmen_tulum-realtors-sa-de-cv,20.6483582,-87.0588966,Quintana Roo\\nsell,house,28000000.0,27753284.3,1475571.38,4000.0,552.0,50724.63768,http://tlalpan.properati.com.mx/mdcg_venta_casa_tlalpan_enlace-grupo-inmobiliario,19.267261,-99.146568,Distrito Federal\\nsell,apartment,3200000.0,3171803.93,168636.73,90.0,90.0,35555.55556,http://benito-juarez.properati.com.mx/n69i_venta_departamento_benito-juarez_enlace-grupo-inmobiliario,19.3701781,-99.1893281,Distrito Federal\\nsell,house,2250000.0,42319125.0,2250000.0,755.0,1400.0,1607.142857,http://miguel-hidalgo-df.properati.com.mx/h841_venta_casa_miguel-hidalgo,19.401079,-99.24807,Distrito Federal\\nsell,apartment,1185015.0,22288354.62,1185015.0,0.0,252.0,4702.440476,http://benito-juarez.properati.com.mx/r4u5_venta_departamento_benito-juarez_mega-soluciones,19.3655578,-99.1801033,Distrito Federal\\nsell,apartment,160050.0,3010300.42,160050.0,80.0,77.0,2078.571429,http://playa-del-carmen.properati.com.mx/ln89_venta_departamento_playa-del-carmen_jpm-realestate,20.6238429,-87.0846239,Quintana Roo\\nsell,house,2000000.0,1982377.34,105397.95,122.0,165.0,12121.21212,http://coyoacan.properati.com.mx/eq3j_venta_casa_coyoacan,19.310879,-99.138695,Distrito Federal\\nsell,apartment,4045940.0,4010290.06,213216.9,100.0,100.0,40459.4,http://miguel-hidalgo-df.properati.com.mx/nfhb_venta_departamento_miguel-hidalgo_quality-bicofi,19.4032833,-99.1821858,Distrito Federal\\nsell,apartment,6000000.0,5947132.21,316193.86,0.0,144.0,41666.66667,http://cuajimalpa-de-morelos.properati.com.mx/oksi_venta_departamento_cuajimalpa-de-morelos_next-home,19.392937,-99.263313,Distrito Federal\\nsell,apartment,2485600.0,2463698.7,130988.58,98.0,98.0,25363.26531,http://tlalpan.properati.com.mx/exbp_venta_departamento_tlalpan,19.2790911,-99.2114234,Distrito Federal\\nsell,apartment,340000.0,6394890.0,340000.0,0.0,173.0,1965.317919,http://cancun.properati.com.mx/cerj_venta_departamento_cancun,21.129547,-86.817017,Quintana Roo\\nsell,house,3180000.0,3151980.15,167582.75,300.0,280.0,11357.14286,http://cancun.properati.com.mx/g5xo_venta_casa_cancun,21.1722334,-86.8256945,Quintana Roo\\nsell,apartment,4004035.0,3968754.31,211008.55,134.0,134.0,29880.85821,http://cancun.properati.com.mx/obgv_venta_departamento_cancun_playa-realtors-4-u,21.129547,-86.817017,Quintana Roo\\nsell,apartment,8500000.0,8425104.12,447941.31,242.0,220.0,38636.36364,http://benito-juarez.properati.com.mx/l9rz_venta_departamento_benito-juarez_micasapropia-inmobiliaria,19.381729,-99.164986,Distrito Federal\\nsell,house,4600000.0,4558387.05,242357.82,282.0,297.0,15488.21549,http://cancun.properati.com.mx/epvv_venta_casa_cancun,21.129547,-86.817017,Quintana Roo\\nsell,apartment,3400000.0,3370041.57,179176.52,85.0,85.0,40000.0,http://alvaro-obregon.properati.com.mx/n7xa_venta_departamento_alvaro-obregon_quality-inmobiliaria-viendo-por-ti,19.3320226,-99.2446842,Distrito Federal\\nsell,apartment,1900000.0,35736150.0,1900000.0,0.0,740.0,2567.567568,http://cuajimalpa-de-morelos.properati.com.mx/c1ne_venta_departamento_cuajimalpa-de-morelos,19.3631419,-99.2880597,Distrito Federal\\nsell,apartment,650000.0,644119.84,34246.21,39.0,59.0,11016.94915,http://gustavo-a-madero.properati.com.mx/oxo3_venta_departamento_gustavo-a-madero_bienes-raices-h-a-h-n-y-asociados-s-a-de-c-v,19.524143,-99.160149,Distrito Federal\\nsell,apartment,276000.0,5191146.0,276000.0,0.0,90.0,3066.666667,http://playa-del-carmen.properati.com.mx/crpf_venta_departamento_playa-del-carmen,20.626583,-87.078659,Quintana Roo\\nsell,house,2800000.0,2775328.27,147557.13,360.0,360.0,7777.777778,http://cancun.properati.com.mx/j2si_venta_casa_cancun,21.1321847,-86.8630984,Quintana Roo\\nsell,apartment,7575640.0,7507108.64,399133.83,0.0,203.0,37318.42365,http://cancun.properati.com.mx/p01b_venta_departamento_cancun_inter-brokers-business-realty,21.1903799,-86.8190064,Quintana Roo\\nsell,apartment,7800000.0,7729439.02,410954.57,0.0,225.0,34666.66667,http://cuauhtemoc.properati.com.mx/oze4_venta_departamento_cuauhtemoc_diamond-house-bienes-raices-mazal-consultores-sc,19.4101579796,-99.1711270809,Distrito Federal\\nsell,house,2500000.0,47021250.0,2500000.0,650.0,750.0,3333.333333,http://cancun.properati.com.mx/fmhv_venta_casa_cancun,21.166843,-86.812592,Quintana Roo\\nsell,apartment,1100000.0,20689350.0,1100000.0,176.0,176.0,6250.0,http://miguel-hidalgo-df.properati.com.mx/pzlg_venta_departamento_miguel-hidalgo_lomeli-brokers,19.4332386,-99.1933503,Distrito Federal\\nsell,apartment,2795000.0,2845669.24,151296.98,135.0,54.0,51759.25926,http://benito-juarez.properati.com.mx/mwon_venta_departamento_benito-juarez_ac-bienes-raices,19.3638234,-99.1444714,Distrito Federal\\nsell,house,4000000.0,3963814.82,210745.93,68.0,200.0,20000.0,http://iztapalapa.properati.com.mx/r4gg_venta_casa_iztapalapa_quality-paraiso,19.318989,-99.094437,Distrito Federal\\nsell,store,7132000.0,7069157.98,375849.11,42.0,710.0,10045.07042,http://cuauhtemoc.properati.com.mx/cino_venta_local_cuauhtemoc,19.418058,-99.131088,Distrito Federal\\nsell,apartment,455000.0,8557867.5,455000.0,245.0,245.0,1857.142857,http://tulum.properati.com.mx/ndr7_venta_departamento_tulum_century-21-caribbean-paradise,20.3827686962,-87.335145851,Quintana Roo\\nsell,house,2120000.0,2101320.03,111721.83,162.0,130.0,16307.69231,http://cuajimalpa-de-morelos.properati.com.mx/i8uk_venta_casa_cuajimalpa-de-morelos,19.3453464837,-99.276464805,Distrito Federal\\nsell,apartment,1550000.0,1536342.41,81683.41,40.0,40.0,38750.0,http://alvaro-obregon.properati.com.mx/qzkf_venta_departamento_alvaro-obregon_quarzum-bienes-raices,19.365597,-99.236298,Distrito Federal\\nsell,apartment,725000.0,718611.65,38206.75,68.0,68.0,10661.76471,http://venustiano-carranza.properati.com.mx/d2cd_venta_departamento_venustiano-carranza,19.4306069,-99.0949899,Distrito Federal\\nsell,apartment,440000.0,8275740.0,440000.0,0.0,124.0,3548.387097,http://playa-del-carmen.properati.com.mx/c793_venta_departamento_playa-del-carmen,20.626583,-87.078659,Quintana Roo\\nsell,apartment,8500000.0,8425104.12,447941.31,140.0,140.0,60714.28571,http://chetumal.properati.com.mx/chkv_venta_departamento_chetumal,18.5001889,-88.296146,Quintana Roo\\nsell,house,2955000.0,2928268.09,155688.55,180.0,182.0,16236.26374,http://playa-del-carmen.properati.com.mx/eo74_venta_casa_playa-del-carmen,20.626583,-87.078659,Quintana Roo\\nsell,house,3250000.0,61127625.0,3250000.0,1250.0,477.0,6813.417191,http://puerto-morelos.properati.com.mx/cyp3_venta_casa_puerto-morelos,20.8482492,-86.876106,Quintana Roo\\nsell,house,449000.0,8445016.5,449000.0,283.0,282.0,1592.198582,http://playa-del-carmen.properati.com.mx/o1il_venta_casa_playa-del-carmen_loretto-bienes-raices,20.613375,-87.089897,Quintana Roo\\nsell,house,4300000.0,4261101.03,226551.88,293.0,340.0,12647.05882,http://cancun.properati.com.mx/p9kq_venta_casa_cancun_caribbean-realtors,21.11104569,-86.8431043625,Quintana Roo\\nsell,apartment,819500.0,812086.51,43176.57,92.0,63.0,13007.93651,http://coyoacan.properati.com.mx/b0x1_venta_departamento_coyoacan,19.308076,-99.167762,Distrito Federal\\nsell,apartment,3140000.0,3111594.54,165435.55,100.0,100.0,31400.0,http://alvaro-obregon.properati.com.mx/rd5h_venta_departamento_alvaro-obregon_quality-bicofi,19.3605334,-99.2267067,Distrito Federal\\nsell,house,4300000.0,4261101.03,226551.88,164.0,283.0,15194.34629,http://cancun.properati.com.mx/mvif_venta_casa_cancun_ventascancun-21,21.161908,-86.8515279,Quintana Roo\\nsell,apartment,360000.0,6771060.0,360000.0,216.0,216.0,1666.666667,http://cancun.properati.com.mx/q0ab_venta_departamento_cancun_century-21-caribbean-paradise,21.1695253521,-86.8185997009,Quintana Roo\\nsell,apartment,3450000.0,3419601.03,181811.47,0.0,87.0,39655.17241,http://miguel-hidalgo-df.properati.com.mx/qc7a_venta_departamento_miguel-hidalgo_circulo-bienes-raices,19.400249,-99.177444,Distrito Federal\\nsell,house,6200000.0,6145370.04,326733.66,450.0,200.0,31000.0,http://iztacalco.properati.com.mx/p68f_venta_casa_iztacalco_quality-uribe,19.3989861655,-99.1061210632,Distrito Federal\\nsell,apartment,350000.0,6582975.0,350000.0,200.0,1802.0,194.2286349,http://cancun.properati.com.mx/b5o5_venta_departamento_cancun,21.0920919944,-86.7700412137,Quintana Roo\\nsell,house,295000.0,5548507.5,295000.0,322.0,270.0,1092.592593,http://playa-del-carmen.properati.com.mx/c4l8_venta_casa_playa-del-carmen,20.6229993052,-87.09972471,Quintana Roo\\nsell,apartment,4005000.0,3969710.72,211059.4,0.0,101.0,39653.46535,http://benito-juarez.properati.com.mx/mvsu_venta_departamento_benito-juarez_suaznavar-bienes-raices,19.3668017,-99.1724994,Distrito Federal\\nsell,apartment,2178758.0,2159560.37,114818.32,0.0,60.0,36312.63333,http://venustiano-carranza.properati.com.mx/h1bc_venta_departamento_venustiano-carranza,19.4306069,-99.0949899,Distrito Federal\\nsell,house,10490000.0,10397569.76,552812.28,140.0,280.0,37464.28571,http://alvaro-obregon.properati.com.mx/log6_venta_casa_alvaro-obregon_quality-berit,19.3524729736,-99.1822012514,Distrito Federal\\nsell,apartment,290000.0,5454465.0,290000.0,153.0,75.0,3866.666667,http://playa-del-carmen.properati.com.mx/l473_venta_departamento_quintana-roo_village-bienes-raices,20.6295586,-87.0738851,Quintana Roo\\nsell,house,4500000.0,4460349.25,237145.4,200.0,250.0,18000.0,http://coyoacan.properati.com.mx/pwai_venta_casa_coyoacan_quality-bicofi,19.3037355,-99.1636051,Distrito Federal\\nsell,apartment,1150000.0,21629775.0,1150000.0,0.0,257.0,4474.708171,http://cuajimalpa-de-morelos.properati.com.mx/owkv_venta_departamento_cuajimalpa-de-morelos_house-hunters-asesores,19.392937,-99.263313,Distrito Federal\\nsell,apartment,9879628.0,9790254.21,520522.86,243.0,144.0,68608.52778,http://cuauhtemoc.properati.com.mx/or6c_venta_departamento_cuauhtemoc_quality-bicofi,19.4201028,-99.1712969,Distrito Federal\\nsell,apartment,100000.0,1880850.0,100000.0,96.0,96.0,1041.666667,http://playa-del-carmen-centro.properati.com.mx/b32o_venta_departamento_playa-del-carmen-centro,20.6263935658,-87.0932822227,Solidaridad\\nsell,apartment,346000.0,342951.17,18233.84,55.0,55.0,6290.909091,http://cancun.properati.com.mx/quqy_venta_departamento_cancun_caribbean-view-realty,21.151917,-86.899796,Quintana Roo\\nsell,apartment,554455.0,549439.16,29212.28,57.0,57.0,9727.280702,http://iztapalapa.properati.com.mx/b20c_venta_departamento_iztapalapa,19.3217152,-99.2645126,Distrito Federal\\nsell,apartment,272000.0,5115912.0,272000.0,0.0,175.0,1554.285714,http://cancun.properati.com.mx/b9dx_venta_departamento_cancun,21.129547,-86.817017,Quintana Roo\\nsell,apartment,185000.0,3479572.5,185000.0,120.0,120.0,1541.666667,http://puerto-aventuras.properati.com.mx/bkt4_venta_departamento_puerto-aventuras,20.4996975,-87.2298974,Quintana Roo\\nsell,house,2200000.0,41378700.0,2200000.0,998.0,750.0,2933.333333,http://bosque-de-las-lomas.properati.com.mx/ndq2_venta_casa_bosque-de-las-lomas_match-inmobiliario,19.3960473,-99.2529911,Distrito Federal\\nsell,house,450000.0,446034.92,23714.54,56.0,56.0,8035.714286,http://iztapalapa.properati.com.mx/cpdz_venta_casa_iztapalapa,19.342083,-99.0532159,Distrito Federal\\nsell,apartment,17000000.0,16850208.25,895882.62,0.0,387.0,43927.64858,http://cuajimalpa-de-morelos.properati.com.mx/qtoo_venta_departamento_cuajimalpa-de-morelos_trueba-de-torres-y-asociados-s-a-de-cv,19.3548816594,-99.2691159161,Distrito Federal\\nsell,house,3750000.0,3716957.58,197621.16,200.0,300.0,12500.0,http://cancun.properati.com.mx/pr60_venta_casa_cancun_luxury-cancun-and-riviera-m-p-sa-de-cv,21.129547,-86.817017,Quintana Roo\\nsell,apartment,2800000.0,52663800.0,2800000.0,0.0,450.0,6222.222222,http://cuajimalpa-de-morelos.properati.com.mx/pcjb_venta_departamento_cuajimalpa-de-morelos_circulo-bienes-raices,19.390415,-99.254997,Distrito Federal\\nsell,apartment,10600000.0,10506600.38,558609.16,0.0,241.0,43983.40249,http://cuajimalpa-de-morelos.properati.com.mx/qzx2_venta_departamento_cuajimalpa-de-morelos_jasesoresinmobiliarios,19.3585224004,-99.2721176147,Distrito Federal\\nsell,apartment,6150000.0,6095810.58,324098.71,172.0,172.0,35755.81395,http://cuajimalpa-de-morelos.properati.com.mx/nrh7_venta_casa_cuajimalpa-de-morelos_quality-unique,19.3499706,-99.3014315,Distrito Federal\\nsell,house,3800000.0,71472300.0,3800000.0,1650.0,1112.0,3417.266187,http://cancun.properati.com.mx/pbxg_venta_casa_cancun_raices-real-estate,21.1334516,-86.8450424,Quintana Roo\\nsell,apartment,12475760.0,12362900.77,657303.92,185.0,185.0,67436.54054,http://miguel-hidalgo-df.properati.com.mx/lse0_venta_departamento_miguel-hidalgo_tar-internacional,19.433173,-99.1863574,Distrito Federal\\nsell,house,460000.0,8651910.0,460000.0,1000.0,550.0,836.3636364,http://cancun.properati.com.mx/b94v_venta_casa_cancun,21.158964,-86.845937,Quintana Roo\\nsell,apartment,1042956.0,1033521.05,54949.68,0.0,69.0,15115.30435,http://tlahuac.properati.com.mx/gxzi_venta_departamento_tlahuac,19.2990233,-99.0436467,Distrito Federal\\nsell,apartment,820000.0,812581.93,43202.91,91.0,91.0,9010.989011,http://coyoacan.properati.com.mx/ok9w_venta_departamento_coyoacan_all-in-1-mexico-real-estate_656,19.309208,-99.171906,Distrito Federal\\nsell,apartment,680000.0,12789780.0,680000.0,0.0,235.0,2893.617021,http://cancun.properati.com.mx/cro2_venta_departamento_cancun,21.1613612009,-86.8090295792,Quintana Roo\\nsell,apartment,2067200.0,2048499.37,108913.49,81.0,65.0,31803.07692,http://cuajimalpa-de-morelos.properati.com.mx/kdcc_venta_departamento_cuajimalpa-de-morelos_soc-rc-asesores-s-de-r-l-de-c-v,19.3679526,-99.2983107,Distrito Federal\\nsell,apartment,3300000.0,62068050.0,3300000.0,700.0,740.0,4459.459459,http://cuajimalpa-de-morelos.properati.com.mx/ihdh_venta_departamento_cuajimalpa-de-morelos,19.3770400205,-99.2793354392,Distrito Federal\\nsell,house,700000.0,693832.02,36889.28,90.0,86.0,8139.534884,http://cancun.properati.com.mx/nryt_venta_casa_cancun_propiedades-nove2as-s-de-r-l-de-c-v,21.1391367113,-86.8789560296,Quintana Roo\\nsell,house,480000.0,9028080.0,480000.0,300.0,398.0,1206.030151,http://cancun.properati.com.mx/cazy_venta_casa_cancun,21.1334564148,-86.7593078624,Quintana Roo\\nsell,apartment,297000.0,5586124.5,297000.0,99.0,74.0,4013.513514,http://playa-del-carmen.properati.com.mx/pofu_venta_departamento_playa-del-carmen_playa-realtors-4-u,20.6348124517,-87.0665216446,Quintana Roo\\nsell,apartment,2200000.0,41378700.0,2200000.0,431.0,431.0,5104.408353,http://cancun.properati.com.mx/cpxc_venta_departamento_cancun,21.0414159439,-86.7823188007,Quintana Roo\\nsell,house,1500000.0,28212750.0,1500000.0,7500.0,500.0,3000.0,http://cancun.properati.com.mx/b3gm_venta_casa_cancun,21.082655,-86.857162,Quintana Roo\\nsell,house,900000.0,16927650.0,900000.0,0.0,450.0,2000.0,http://cancun.properati.com.mx/b955_venta_casa_cancun,21.1295466,-86.8170132,Quintana Roo\\nsell,apartment,9625000.0,9537929.53,507107.4,237.0,237.0,40611.81435,http://miguel-hidalgo-df.properati.com.mx/lbvx_venta_departamento_miguel-hidalgo_diamond-house-bienes-raices-mazal-consultores-sc,19.4372822,-99.2124468,Distrito Federal\\nsell,house,8400000.0,8324011.26,442566.46,400.0,280.0,30000.0,http://cancun.properati.com.mx/npmd_venta_casa_cancun_inter-brokers-business-realty,21.1353171,-86.8607521,Quintana Roo\\nsell,house,589000.0,11078206.5,589000.0,480.0,320.0,1840.625,http://playa-del-carmen.properati.com.mx/ol4b_venta_casa_playa-del-carmen_loretto-bienes-raices,20.613375,-87.089897,Quintana Roo\\nsell,house,878900.0,870949.22,46306.15,81.0,137.0,6415.328467,http://gustavo-a-madero.properati.com.mx/fa0h_venta_casa_gustavo-a-madero,19.452751,-99.056419,Distrito Federal\\nsell,apartment,7100000.0,7035771.39,374074.03,118.0,118.0,60169.49153,http://cuauhtemoc.properati.com.mx/kdps_venta_departamento_cuauhtemoc_inmuebles-proyecta,19.4280794,-99.164609,Distrito Federal\\nsell,house,7950000.0,7879950.28,418956.87,564.0,432.0,18402.77778,http://cancun.properati.com.mx/r4rk_venta_casa_cancun_caribbean-realtors,21.139086,-86.84964,Quintana Roo\\nsell,house,2200000.0,2180615.17,115937.75,120.0,141.0,15602.83688,http://coyoacan.properati.com.mx/fhxg_venta_casa_coyoacan,19.3147961,-99.1193297,Distrito Federal\\nsell,apartment,383300.0,379832.39,20194.72,25.0,47.0,8155.319149,http://iztapalapa.properati.com.mx/b0b2_venta_departamento_iztapalapa,19.342083,-99.0532159,Distrito Federal\\nsell,house,28500000.0,28242181.16,1501564.78,582.0,532.0,53571.42857,http://miguel-hidalgo-df.properati.com.mx/rd6o_venta_casa_miguel-hidalgo_duarte-y-asesores-s-c,19.40403,-99.233528,Distrito Federal\\nsell,apartment,950000.0,941405.86,50052.15,56.0,56.0,16964.28571,http://benito-juarez.properati.com.mx/fhlm_venta_departamento_benito-juarez,19.3707909,-99.1370465,Distrito Federal\\nsell,apartment,3500000.0,3468337.99,184402.69,208.0,208.0,16826.92308,http://vallejo.properati.com.mx/pu1r_venta_departamento_vallejo_moran-mexico-property,19.4673105,-99.1331631,Distrito Federal\\nsell,house,5300000.0,5253300.19,279304.58,206.0,250.0,21200.0,http://gustavo-a-madero.properati.com.mx/pr8r_venta_casa_gustavo-a-madero_abra-asesores-en-bienes-raices,19.500746256,-99.1243748367,Distrito Federal\\nsell,house,6100000.0,6044817.73,321387.55,554.0,344.0,17732.55814,http://playa-del-carmen.properati.com.mx/b9x0_venta_casa_playa-del-carmen,20.6779215222,-87.0495788548,Quintana Roo\\nsell,apartment,10340000.0,10246461.52,544778.24,188.0,188.0,55000.0,http://cuauhtemoc.properati.com.mx/qr5g_venta_departamento_cuauhtemoc_firma-san-rafael-sa-de-cv_bav,19.4347155,-99.1699933,Distrito Federal\\nsell,apartment,248950.0,246756.42,13119.41,143.0,109.0,2283.944954,http://tulum.properati.com.mx/mttu_venta_departamento_tulum_playa-realtors-4-u,20.2114185,-87.4653502,Quintana Roo\\nsell,apartment,3750000.0,3716957.58,197621.16,0.0,135.0,27777.77778,http://cancun.properati.com.mx/jh2x_venta_departamento_cancun,21.1481685414,-86.8223842978,Quintana Roo\\nsell,apartment,650000.0,12225525.0,650000.0,225.0,225.0,2888.888889,http://puerto-morelos.properati.com.mx/cw0o_venta_departamento_puerto-morelos,20.8420429,-86.8815941,Quintana Roo\\nsell,house,3500000.0,3469160.49,184446.42,250.0,285.0,12280.70175,http://cancun.properati.com.mx/c1iq_venta_casa_cancun,21.1550030554,-86.8272287212,Quintana Roo\\nsell,store,75000.0,1410637.5,75000.0,45.0,45.0,1666.666667,http://cozumel.properati.com.mx/b61x_venta_local_cozumel,20.4904215009,-86.9665288925,Quintana Roo\\nsell,apartment,2842000.0,2816290.37,149734.98,0.0,79.0,35974.68354,http://benito-juarez.properati.com.mx/mg2y_venta_departamento_benito-juarez_village-bienes-raices,19.3670983,-99.1624422,Distrito Federal\\nsell,apartment,5300000.0,5252054.69,279238.36,168.0,168.0,31547.61905,http://alvaro-obregon.properati.com.mx/b19u_venta_departamento_alvaro-obregon,19.3341208717,-99.2402824759,Distrito Federal\\nsell,apartment,4800000.0,4757705.81,252955.09,0.0,87.0,55172.41379,http://miguel-hidalgo-df.properati.com.mx/r4sa_venta_departamento_miguel-hidalgo_optima-consultoria-integral-en-bienes-raices,19.4396219801,-99.1828966141,Distrito Federal\\nsell,house,1850000.0,1833698.97,97493.1,108.0,150.0,12333.33333,http://coyoacan.properati.com.mx/k3yo_venta_casa_coyoacan,19.3242755,-99.1225852,Distrito Federal\\nsell,apartment,999000.0,18789691.5,999000.0,246.0,246.0,4060.97561,http://cancun.properati.com.mx/dps2_venta_departamento_cancun,21.1659502547,-86.8136043538,Quintana Roo\\nsell,apartment,750000.0,743391.47,39524.23,62.0,62.0,12096.77419,http://cuauhtemoc.properati.com.mx/d5lv_venta_departamento_cuauhtemoc,19.431252,-99.146999,Distrito Federal\\nsell,apartment,215000.0,4043827.5,215000.0,0.0,158.0,1360.759494,http://cancun.properati.com.mx/gxj7_venta_departamento_cancun,21.1902642,-86.8198375,Quintana Roo\\nsell,house,9000000.0,8920698.51,474290.8,800.0,470.0,19148.93617,http://cancun.properati.com.mx/bnlt_venta_casa_cancun,21.158964,-86.845937,Quintana Roo\\nsell,house,320000.0,6018720.0,320000.0,0.0,197.0,1624.365482,http://cancun.properati.com.mx/b3r3_venta_casa_cancun,21.1295466,-86.8170132,Quintana Roo\\nsell,house,2750000.0,2725768.82,144922.18,160.0,187.0,14705.88235,http://cancun.properati.com.mx/pccr_venta_casa_cancun_cogam-bienes-raices,21.139086,-86.84964,Quintana Roo\\nsell,house,3200000.0,3171803.93,168636.73,90.0,130.0,24615.38462,http://playa-del-carmen.properati.com.mx/ngo9_venta_casa_playa-del-carmen_century-21-caribbean-paradise,20.63163961,-87.0712423325,Quintana Roo\\nsell,house,1750000.0,1734168.9,92201.34,380.0,280.0,6250.0,http://cancun.properati.com.mx/o7ch_venta_casa_cancun_century-21-caribbean-paradise,21.137991,-86.870964,Quintana Roo\\nsell,house,6500000.0,6442726.59,342543.35,497.0,250.0,26000.0,http://cancun.properati.com.mx/bvfa_venta_casa_cancun,21.106783,-86.839918,Quintana Roo\\nsell,house,2650000.0,2626027.34,139619.18,300.0,200.0,13250.0,http://alvaro-obregon.properati.com.mx/bh4l_venta_casa_alvaro-obregon,19.3733020916,-99.2110426545,Distrito Federal\\nsell,house,12000000.0,11894264.61,632387.73,500.0,499.0,24048.09619,http://cuajimalpa-de-morelos.properati.com.mx/d6n8_venta_casa_cuajimalpa-de-morelos,19.3776045,-99.2730736,Distrito Federal\\nsell,apartment,3160000.0,3132156.37,166528.77,0.0,144.0,21944.44444,http://cancun.properati.com.mx/l5as_venta_departamento_cancun_inter-brokers-business-realty,21.1902642,-86.8198375,Quintana Roo\\nsell,apartment,5120000.0,5074886.14,269818.76,143.0,139.0,36834.53237,http://benito-juarez.properati.com.mx/qc6h_venta_departamento_benito-juarez_viva-houses-bienes-raices-sa-de-cv,19.4025564,-99.1461089,Distrito Federal\\nsell,house,6900000.0,6837580.58,363536.73,1000.0,450.0,15333.33333,http://cancun.properati.com.mx/olt9_venta_casa_cancun_caribbean-view-realty,21.1166104566,-86.8427503109,Quintana Roo\\nsell,apartment,3340000.0,3310570.22,176014.58,227.0,227.0,14713.65639,http://cancun.properati.com.mx/o8ht_venta_departamento_cancun_century-21-caribbean-paradise,21.129547,-86.817017,Quintana Roo\\nsell,apartment,10159000.0,10069486.14,535368.91,0.0,220.0,46177.27273,http://cuajimalpa-de-morelos.properati.com.mx/d6l3_venta_departamento_cuajimalpa-de-morelos,19.552402,-99.142799,Distrito Federal\\nsell,house,4250000.0,4212551.97,223970.65,480.0,330.0,12878.78788,http://cancun.properati.com.mx/kx65_venta_casa_cancun_casanova-realty_bvt,21.0969863,-86.8519605,Quintana Roo\\nsell,apartment,1200000.0,1189426.4,63238.77,80.0,80.0,15000.0,http://cancun.properati.com.mx/dp0z_renta_departamento_cancun,21.161908,-86.8515279,Quintana Roo\\nsell,apartment,11000000.0,10903075.85,579688.75,0.0,315.0,34920.63492,http://miguel-hidalgo-df.properati.com.mx/pazc_venta_departamento_miguel-hidalgo_diamond-house-bienes-raices-mazal-consultores-sc,19.4259971,-99.224352,Distrito Federal\\nsell,apartment,8800000.0,8722460.68,463751.0,235.0,235.0,37446.80851,http://cuauhtemoc.properati.com.mx/pzbm_venta_departamento_cuauhtemoc_inmobiliaria-arsa,19.4301322,-99.1691413,Distrito Federal\\nsell,house,530000.0,525329.86,27930.45,76.0,75.0,7066.666667,http://cancun.properati.com.mx/nx33_venta_casa_cancun_baez-bienes-raices_6q9,21.1368860594,-86.8843138218,Quintana Roo\\nsell,apartment,8200000.0,8127747.57,432131.62,0.0,261.0,31417.62452,http://benito-juarez.properati.com.mx/oxy8_venta_departamento_benito-juarez_inmuebsanchez,19.3774517,-99.1641013,Distrito Federal\\nsell,apartment,128000.0,2407488.0,128000.0,1000.0,100.0,1280.0,http://playa-del-carmen-centro.properati.com.mx/n6y2_venta_departamento_playa-del-carmen-centro_cogam-bienes-raices,20.6295586,-87.0738851,Solidaridad\\nsell,apartment,4145940.0,4109408.97,218486.8,100.0,100.0,41459.4,http://miguel-hidalgo-df.properati.com.mx/nfq9_venta_departamento_miguel-hidalgo_quality-bicofi,19.4032833,-99.1821858,Distrito Federal\\nsell,apartment,1297000.0,1285571.69,68350.57,55.0,55.0,23581.81818,http://miguel-hidalgo-df.properati.com.mx/hq9s_venta_departamento_miguel-hidalgo,19.4546836,-99.1933664,Distrito Federal\\nsell,apartment,5944000.0,5891625.69,313242.72,215.0,215.0,27646.51163,http://alvaro-obregon.properati.com.mx/blpw_venta_departamento_alvaro-obregon,19.3606908,-99.2023662,Distrito Federal\\nsell,house,6320000.0,6264312.74,333057.54,526.0,306.0,20653.59477,http://coyoacan.properati.com.mx/okjd_venta_casa_coyoacan_all-in-1-mexico-real-estate_656,19.3415372,-99.1587613,Distrito Federal\\nsell,house,1150000.0,21629775.0,1150000.0,0.0,600.0,1916.666667,http://cuajimalpa-de-morelos.properati.com.mx/cwvl_venta_casa_cuajimalpa-de-morelos,19.390415,-99.254997,Distrito Federal\\nsell,apartment,2591400.0,2568566.43,136564.13,0.0,60.0,43190.0,http://benito-juarez.properati.com.mx/no6t_venta_departamento_benito-juarez_redhabitat-servicios-inmobiliarios-profesionales-s-a-de-c-v,19.3598088,-99.1488603,Distrito Federal\\nsell,house,1500000.0,28212750.0,1500000.0,0.0,915.0,1639.344262,http://cuajimalpa-de-morelos.properati.com.mx/b9uu_venta_casa_cuajimalpa-de-morelos,19.3451266,-99.3092749,Distrito Federal\\nsell,apartment,5400000.0,5352419.1,284574.48,0.0,133.0,40601.50376,http://benito-juarez.properati.com.mx/pr4j_venta_departamento_benito-juarez_villela-y-asociados,19.3609365412,-99.1633604933,Distrito Federal\\nsell,apartment,780000.0,773127.15,41105.2,59.0,59.0,13220.33898,http://azcapotzalco.properati.com.mx/mify_venta_departamento_azcapotzalco_bliss-bienes-raices,19.4661858,-99.1545368,Distrito Federal\\nsell,house,3700000.0,3667398.13,194986.21,160.0,180.0,20555.55556,http://alvaro-obregon.properati.com.mx/euz2_venta_casa_alvaro-obregon,19.3465206,-99.2349122,Distrito Federal\\nsell,apartment,354000.0,6658209.0,354000.0,0.0,90.0,3933.333333,http://playa-del-carmen-centro.properati.com.mx/d50r_venta_departamento_playa-del-carmen-centro,20.626583,-87.078659,Solidaridad\\nsell,house,850000.0,15987225.0,850000.0,0.0,500.0,1700.0,http://cancun.properati.com.mx/dgmm_venta_casa_cancun,21.1295466,-86.8170132,Quintana Roo\\nsell,house,2550000.0,2527531.18,134382.39,118.0,118.0,21610.16949,http://playa-del-carmen.properati.com.mx/qv2q_venta_casa_playa-del-carmen_playa-realtors-4-u,20.6786832545,-87.0390343666,Quintana Roo\\nsell,apartment,4300000.0,4262111.42,226605.6,0.0,123.0,34959.34959,http://miguel-hidalgo-df.properati.com.mx/pnpc_venta_departamento_miguel-hidalgo_trueba-de-torres-y-asociados-s-a-de-cv,19.4001854,-99.1729456,Distrito Federal\\nsell,house,850000.0,842510.39,44794.13,0.0,120.0,7083.333333,http://cancun.properati.com.mx/crwt_venta_casa_cancun,21.129547,-86.817017,Quintana Roo\\nsell,apartment,1902432.0,35781892.27,1902432.0,346.0,346.0,5498.358382,http://miguel-hidalgo-df.properati.com.mx/ceg2_venta_departamento_miguel-hidalgo,19.4338054,-99.1922219,Distrito Federal\\nsell,house,1970000.0,1952641.66,103816.98,120.0,168.0,11726.19048,http://cancun.properati.com.mx/gqgv_venta_casa_cancun,21.129547,-86.817017,Quintana Roo\\nsell,house,2650000.0,2626027.34,139619.18,160.0,180.0,14722.22222,http://cancun.properati.com.mx/b9fg_venta_casa_cancun,21.129547,-86.817017,Quintana Roo\\nsell,apartment,800000.0,15046800.0,800000.0,0.0,525.0,1523.809524,http://miguel-hidalgo-df.properati.com.mx/pno4_venta_departamento_miguel-hidalgo_villela-y-asociados,19.393217809,-99.2502351478,Distrito Federal\\nsell,house,549000.0,10325866.5,549000.0,415.0,320.0,1715.625,http://playa-del-carmen.properati.com.mx/jahd_venta_casa_playa-del-carmen,20.613375,-87.089897,Quintana Roo\\nsell,house,8900000.0,8821579.59,469020.9,540.0,545.0,16330.27523,http://cancun.properati.com.mx/pnmt_venta_casa_cancun_sofia-mar-bienes-raices,21.139086,-86.84964,Quintana Roo\\nsell,apartment,870000.0,862129.72,45837.24,70.0,70.0,12428.57143,http://miguel-hidalgo-df.properati.com.mx/b5hx_venta_departamento_miguel-hidalgo,19.444606,-99.1740457,Distrito Federal\\nsell,house,2500000.0,2477971.72,131747.44,120.0,205.0,12195.12195,http://cancun.properati.com.mx/qao2_venta_casa_cancun_raices-real-estate,21.129547,-86.817017,Quintana Roo\\nsell,house,1700000.0,1684621.29,89567.02,73.0,127.0,13385.82677,http://cancun.properati.com.mx/lu1v_venta_casa_cancun_mundo-raiz,21.139086,-86.84964,Quintana Roo\\nsell,apartment,2155000.0,2136011.56,113566.29,0.0,60.0,35916.66667,http://alvaro-obregon.properati.com.mx/hbtu_venta_departamento_alvaro-obregon,19.3736979,-99.1933122,Distrito Federal\\nsell,apartment,1042393.0,1033208.08,54933.04,0.0,69.0,15107.14493,http://tlahuac.properati.com.mx/gy8e_venta_departamento_tlahuac,19.2990233,-99.0436467,Distrito Federal\\nsell,apartment,570000.0,564977.43,30038.41,52.0,52.0,10961.53846,http://playa-del-carmen.properati.com.mx/q8ux_venta_departamento_playa-del-carmen_century-21-caribbean-paradise,20.6612167636,-87.0956611633,Quintana Roo\\nsell,apartment,250000.0,4702125.0,250000.0,131.0,113.0,2212.389381,http://tulum.properati.com.mx/evca_venta_departamento_tulum,20.1997998,-87.454707,Quintana Roo\\nsell,house,495000.0,9310207.5,495000.0,342.0,315.0,1571.428571,http://cancun.properati.com.mx/eoor_venta_casa_cancun,21.1295466,-86.8170132,Quintana Roo\\nsell,apartment,295000.0,5548507.5,295000.0,124.0,124.0,2379.032258,http://playa-del-carmen.properati.com.mx/exyj_venta_casa_playa-del-carmen,20.65593,-87.05368,Quintana Roo\\nsell,apartment,7950000.0,7879950.28,418956.87,1000.0,120.0,66250.0,http://miguel-hidalgo-df.properati.com.mx/c86p_venta_departamento_miguel-hidalgo,19.443178,-99.20237,Distrito Federal\\nsell,apartment,4567000.0,4525685.65,240619.17,107.0,107.0,42682.24299,http://benito-juarez.properati.com.mx/p9m4_venta_departamento_benito-juarez_ith-inmobiliaria,19.3814836,-99.1654942,Distrito Federal\\nsell,house,2650000.0,2626650.09,139652.29,180.0,278.0,9532.374101,http://alvaro-obregon.properati.com.mx/ob0r_venta_casa_alvaro-obregon_all-in-1-mexico-real-estate_656,19.3651763,-99.2300641,Distrito Federal\\nsell,house,35000000.0,34683380.51,1844026.93,1300.0,820.0,42682.92683,http://miguel-hidalgo-df.properati.com.mx/n6sm_venta_casa_miguel-hidalgo_mega-soluciones,19.4104149313,-99.2419586651,Distrito Federal\\nsell,apartment,2800000.0,2775328.27,147557.13,0.0,80.0,35000.0,http://cuajimalpa-de-morelos.properati.com.mx/i0u3_venta_departamento_cuajimalpa-de-morelos,19.3499358,-99.2906864,Distrito Federal\\nsell,house,6600000.0,6541845.51,347813.25,209.0,200.0,33000.0,http://tlalpan.properati.com.mx/okt6_venta_casa_tlalpan_micasapropia-inmobiliaria,19.301781,-99.20237,Distrito Federal\\nsell,house,2150000.0,40438275.0,2150000.0,747.0,880.0,2443.181818,http://miguel-hidalgo-df.properati.com.mx/cas6_venta_casa_miguel-hidalgo,19.3964084,-99.2436829,Distrito Federal\\nsell,house,700000.0,13165950.0,700000.0,352.0,352.0,1988.636364,http://cancun.properati.com.mx/erk3_venta_casa_cancun,21.129547,-86.817017,Quintana Roo\\nsell,house,6000000.0,5945722.33,316118.9,263.0,276.0,21739.13043,http://tlalpan.properati.com.mx/oxnp_venta_casa_tlalpan_inmuebsanchez,19.2908179,-99.1348925,Distrito Federal\\nsell,house,21000000.0,20810028.15,1106416.15,430.0,400.0,52500.0,http://miguel-hidalgo-df.properati.com.mx/n4vo_venta_casa_miguel-hidalgo_fernandez-castello-bienes-raices,19.4167368,-99.2323872,Distrito Federal\\nsell,house,11000000.0,10903075.85,579688.75,170.0,257.0,42801.55642,http://coyoacan.properati.com.mx/o2eg_venta_casa_coyoacan_grupo-coyoacan,19.353813,-99.163605,Distrito Federal\\nsell,house,3200000.0,60187200.0,3200000.0,1138.0,848.0,3773.584906,http://cancun.properati.com.mx/d52m_venta_casa_cancun,21.1857344,-86.8092875,Quintana Roo\\nsell,house,2100000.0,2081002.72,110641.61,75.0,75.0,28000.0,http://alvaro-obregon.properati.com.mx/hzbv_venta_departamento_alvaro-obregon,19.3605334,-99.2267067,Distrito Federal\\nsell,apartment,2562400.0,2539821.97,135035.86,0.0,70.0,36605.71429,http://benito-juarez.properati.com.mx/qtpi_venta_departamento_benito-juarez_grupo-jacz-s-a-de-c-v,19.3670983,-99.1624422,Distrito Federal\\nsell,house,2700000.0,2675574.95,142253.5,300.0,250.0,10800.0,http://cancun.properati.com.mx/mg2a_venta_casa_cancun_caribbean-realtors,21.1652032105,-86.8215742707,Quintana Roo\\nsell,house,8000000.0,7927629.83,421491.87,1200.0,380.0,21052.63158,http://puerto-aventuras.properati.com.mx/hbpg_venta_casa_puerto-aventuras,20.503029,-87.222649,Quintana Roo\\nsell,house,6600000.0,6541845.51,347813.25,0.0,250.0,26400.0,http://alvaro-obregon.properati.com.mx/qzyf_venta_casa_alvaro-obregon_circulo-bienes-raices,19.33923,-99.218987,Distrito Federal\\nsell,house,7800000.0,7731271.91,411052.02,299.0,557.0,14003.59066,http://cuauhtemoc.properati.com.mx/kx2u_venta_casa_cuauhtemoc_quality-inmobiliaria-viendo-por-ti,19.4175391,-99.1362959,Distrito Federal\\nsell,house,1000000.0,18808500.0,1000000.0,315.0,460.0,2173.913043,http://cuajimalpa-de-morelos.properati.com.mx/ms0l_venta_casa_cuajimalpa-de-morelos_next-home,19.390415,-99.254997,Distrito Federal\\nsell,apartment,1350500.0,25400879.25,1350500.0,0.0,189.0,7145.502646,http://playa-del-carmen.properati.com.mx/m908_venta_departamento_playa-del-carmen_village-bienes-raices,20.6549524292,-87.0474243164,Quintana Roo\\nsell,apartment,4280430.0,4241707.96,225520.8,163.0,163.0,26260.30675,http://benito-juarez.properati.com.mx/q828_venta_departamento_benito-juarez_ortiz-silva-asociados,19.375412,-99.144234,Distrito Federal\\nsell,house,2341382.0,2320751.28,123388.43,148.0,198.0,11825.16162,http://coyoacan.properati.com.mx/n7ah_venta_casa_coyoacan_casabonita-inmobiliaria,19.284672,-99.220367,Distrito Federal\\nsell,apartment,5764492.0,5713699.35,303782.83,130.0,121.0,47640.42975,http://benito-juarez.properati.com.mx/qtyo_venta_departamento_benito-juarez_cattori-inmobiliaria-s-a-de-c-v,19.394358,-99.177444,Distrito Federal\\nsell,apartment,1500000.0,28212750.0,1500000.0,215.0,215.0,6976.744186,http://miguel-hidalgo-df.properati.com.mx/n7h3_venta_departamento_miguel-hidalgo_blue-real-estate,19.4284926629,-99.1900420189,Distrito Federal\\nsell,apartment,1042956.0,1033521.05,54949.68,0.0,69.0,15115.30435,http://tlahuac.properati.com.mx/gy05_venta_departamento_tlahuac,19.2990233,-99.0436467,Distrito Federal\\nsell,apartment,2886878.0,2860762.5,152099.45,0.0,61.0,47325.86885,http://venustiano-carranza.properati.com.mx/hfbb_venta_departamento_venustiano-carranza,19.4306069,-99.0949899,Distrito Federal\\nsell,house,230000.0,4325955.0,230000.0,250.0,229.0,1004.366812,http://playa-del-carmen.properati.com.mx/jhe9_venta_casa_playa-del-carmen,20.6295586,-87.0738851,Quintana Roo\\nsell,apartment,1275000.0,1263765.49,67191.19,0.0,100.0,12750.0,http://iztapalapa.properati.com.mx/p9qp_venta_departamento_iztapalapa_century-21-felix,19.3340701,-99.0712814,Distrito Federal\\nsell,apartment,380000.0,7147230.0,380000.0,194.0,194.0,1958.762887,http://playa-del-carmen.properati.com.mx/bisn_renta_departamento_playa-del-carmen,20.6367803837,-87.0686781406,Quintana Roo\\nsell,house,6500000.0,6442726.59,342543.35,500.0,320.0,20312.5,http://lindavista-norte.properati.com.mx/pzs3_venta_casa_lindavista-norte_inmobiliaria-arsa,19.5037607,-99.1326011,Distrito Federal\\nsell,apartment,1400000.0,1425379.97,75783.82,82.0,70.0,20000.0,http://gustavo-a-madero.properati.com.mx/46p_venta_apartamento_gustavo-a-madero,19.512787,-99.141393,Distrito Federal\\nsell,house,8500000.0,8425104.12,447941.31,620.0,450.0,18888.88889,http://cancun.properati.com.mx/czfj_venta_casa_cancun,21.1079429417,-86.8517813087,Quintana Roo\\nsell,apartment,590000.0,11097015.0,590000.0,6090.0,330.0,1787.878788,http://cancun.properati.com.mx/d5q3_venta_departamento_cancun,21.161908,-86.8515279,Quintana Roo\\nsell,house,349000.0,6564166.5,349000.0,336.0,211.0,1654.028436,http://playa-del-carmen.properati.com.mx/b9wj_venta_casa_playa-del-carmen,20.6127599762,-87.0955448467,Quintana Roo\\nsell,apartment,2558700.0,2536154.5,134840.87,97.0,97.0,26378.35052,http://cancun.properati.com.mx/cua9_venta_departamento_cancun,21.1091715377,-86.8412737548,Quintana Roo\\nsell,house,12000000.0,11894264.61,632387.73,800.0,680.0,17647.05882,http://cancun.properati.com.mx/ims5_venta_casa_cancun,21.0713157,-86.852814,Quintana Roo\\nsell,house,8950000.0,8871139.05,471655.85,3150.0,540.0,16574.07407,http://tlalpan.properati.com.mx/cit2_venta_casa_tlalpan,19.2466495,-99.1906668,Distrito Federal\\nsell,house,8500000.0,8425104.12,447941.31,371.0,373.0,22788.20375,http://xochimilco.properati.com.mx/mrj4_venta_casa_xochimilco_enlace-grupo-inmobiliario,19.2782129052,-99.1407001019,Distrito Federal\\nsell,apartment,424997.0,421252.09,22396.9,0.0,51.0,8333.27451,http://iztapalapa.properati.com.mx/by3e_venta_departamento_iztapalapa,19.3513303772,-99.0816683695,Distrito Federal\\nsell,apartment,1200000.0,22570200.0,1200000.0,450.0,400.0,3000.0,http://miguel-hidalgo-df.properati.com.mx/cirw_venta_departamento_miguel-hidalgo,19.4344798,-99.1995969,Distrito Federal\\nsell,house,35000000.0,34691605.46,1844464.23,1287.0,800.0,43750.0,http://miguel-hidalgo-df.properati.com.mx/gy79_venta_casa_miguel-hidalgo,19.4107308,-99.2397431,Distrito Federal\\nsell,apartment,650000.0,644272.56,34254.33,60.0,60.0,10833.33333,http://gustavo-a-madero.properati.com.mx/eum2_venta_departamento_gustavo-a-madero,19.524143,-99.160149,Distrito Federal\\nsell,apartment,12900000.0,12786334.47,679816.81,0.0,223.0,57847.53363,http://benito-juarez.properati.com.mx/p7q9_venta_departamento_benito-juarez_mega-soluciones,19.376822,-99.174675,Distrito Federal\\nsell,house,16500000.0,16354613.87,869533.13,927.0,491.0,33604.88798,http://cuajimalpa-de-morelos.properati.com.mx/ckks_venta_casa_cuajimalpa-de-morelos,19.382275,-99.270241,Distrito Federal\\nsell,house,270000.0,5078295.0,270000.0,0.0,160.0,1687.5,http://playa-del-carmen.properati.com.mx/bs4l_venta_casa_playa-del-carmen,20.621372202,-87.0838422765,Quintana Roo\\nsell,house,3650000.0,3617838.86,192351.27,250.0,248.0,14717.74194,http://playa-del-carmen.properati.com.mx/pz1t_venta_casa_playa-del-carmen_century-21-caribbean-paradise,20.613375,-87.089897,Quintana Roo\\nsell,apartment,1000000.0,991188.57,52698.97,98.0,98.0,10204.08163,http://cancun.properati.com.mx/dkv5_venta_departamento_cancun,21.082655,-86.857162,Quintana Roo\\nsell,apartment,1400000.0,26331900.0,1400000.0,280.0,280.0,5000.0,http://miguel-hidalgo-df.properati.com.mx/jor7_venta_departamento_miguel-hidalgo,19.4282002,-99.1862648,Distrito Federal\\nsell,apartment,3340000.0,3309785.34,175972.85,0.0,86.0,38837.2093,http://benito-juarez.properati.com.mx/fp1x_venta_departamento_benito-juarez,19.367424,-99.185753,Distrito Federal\\nsell,apartment,4600000.0,4559467.98,242415.29,88.0,88.0,52272.72727,http://benito-juarez.properati.com.mx/le44_venta_departamento_benito-juarez_ideas-inmobiliarias,19.3872626,-99.1754024,Distrito Federal\\nsell,house,1326000.0,1314316.16,69878.84,168.0,130.0,10200.0,http://tlalpan.properati.com.mx/brw7_venta_casa_tlalpan,19.2790911,-99.2114234,Distrito Federal\\nsell,house,450000.0,8463825.0,450000.0,178.0,178.0,2528.089888,http://cancun.properati.com.mx/kjk4_venta_casa_cancun_alvarado-asociados-bienes-raices,21.129547,-86.817017,Quintana Roo\\nsell,house,1170000.0,1159690.73,61657.8,180.0,160.0,7312.5,http://cancun.properati.com.mx/osby_venta_casa_cancun_caribbean-view-realty,21.1466325733,-86.8464303017,Quintana Roo\\nsell,house,8200000.0,8127747.57,432131.62,632.0,420.0,19523.80952,http://cancun.properati.com.mx/qudc_venta_casa_cancun_trust-realty-mexico,21.1221503225,-86.8341819538,Quintana Roo\\nsell,apartment,2262472.0,2242536.7,119229.96,0.0,62.0,36491.48387,http://venustiano-carranza.properati.com.mx/h1rd_venta_departamento_venustiano-carranza,19.4306069,-99.0949899,Distrito Federal\\nsell,house,13200000.0,13083691.21,695626.51,395.0,764.0,17277.48691,http://miguel-hidalgo-df.properati.com.mx/hi90_venta_casa_miguel-hidalgo,19.401079,-99.24807,Distrito Federal\\nsell,house,2500000.0,47021250.0,2500000.0,3000.0,800.0,3125.0,http://cancun.properati.com.mx/b4m6_venta_casa_cancun,20.889977131,-86.8614721298,Quintana Roo\\nsell,house,17400000.0,17246683.91,916962.22,304.0,678.0,25663.71681,http://alvaro-obregon.properati.com.mx/nx4g_venta_casa_alvaro-obregon_infinity-bienes-raices,19.355921,-99.180214,Distrito Federal\\nsell,house,329000.0,6187996.5,329000.0,290.0,213.0,1544.600939,http://playa-del-carmen.properati.com.mx/h2uk_venta_casa_playa-del-carmen,20.6761035602,-87.0422905684,Quintana Roo\\nsell,house,40000000.0,39647549.1,2107959.12,1000.0,1500.0,26666.66667,http://alvaro-obregon.properati.com.mx/g6cm_venta_casa_alvaro-obregon,19.3605334,-99.2267067,Distrito Federal\\nsell,house,32000000.0,31710519.34,1685967.48,647.0,557.0,57450.62837,http://alvaro-obregon.properati.com.mx/n6pg_venta_casa_alvaro-obregon_marca-inmobiliaria,19.321035,-99.2047356,Distrito Federal\\nsell,apartment,260000.0,4890210.0,260000.0,250.0,110.0,2363.636364,http://playa-del-carmen.properati.com.mx/mnp1_venta_departamento_playa-del-carmen_rent-for-vacation-sa-de-cv,20.632658742,-87.0733720064,Quintana Roo\\nsell,apartment,1978000.0,1960571.14,104238.57,0.0,105.0,18838.09524,http://cancun.properati.com.mx/olve_venta_departamento_cancun_amigo-paco-bienes-raices-s-a-de-c-v,21.143755,-86.8612012,Quintana Roo\\nsell,apartment,4335000.0,4296803.14,228450.07,179.0,179.0,24217.87709,http://cancun.properati.com.mx/g6ix_venta_departamento_cancun,21.129547,-86.817017,Quintana Roo\\nsell,house,4115000.0,4078741.53,216856.29,260.0,236.0,17436.44068,http://cancun.properati.com.mx/i68y_venta_casa_cancun,21.1114360311,-86.8470686674,Quintana Roo\\nsell,house,980000.0,18432330.0,980000.0,741.0,698.0,1404.011461,http://miguel-hidalgo-df.properati.com.mx/gb13_venta_casa_miguel-hidalgo,19.401079,-99.24807,Distrito Federal\\nsell,apartment,238000.0,4476423.0,238000.0,0.0,115.0,2069.565217,http://tulum.properati.com.mx/r855_venta_departamento_tulum_painalli-inmobiliario-s-c,20.2035076138,-87.45647192,Quintana Roo\\nsell,house,1750000.0,1734580.24,92223.21,110.0,161.0,10869.56522,http://cancun.properati.com.mx/htq9_venta_casa_cancun,21.129547,-86.817017,Quintana Roo\\nsell,apartment,3180000.0,3151980.15,167582.75,100.0,100.0,31800.0,http://alvaro-obregon.properati.com.mx/rdhg_venta_departamento_alvaro-obregon_quality-bicofi,19.3404477,-99.1297322,Distrito Federal\\nsell,house,1550000.0,1536342.41,81683.41,200.0,170.0,9117.647059,http://cancun.properati.com.mx/hxxp_venta_casa_cancun,21.1536213,-86.840701,Quintana Roo\\nsell,store,4500000.0,4459291.65,237089.17,467.0,645.0,6976.744186,http://coyoacan.properati.com.mx/enx3_venta_local_coyoacan,19.3437444,-99.1561883,Distrito Federal\\nsell,apartment,5545250.0,5496389.14,292229.0,0.0,331.0,16753.02115,http://cancun.properati.com.mx/qukn_venta_departamento_cancun_jpm-realestate,21.11058929,-86.8537387843,Quintana Roo\\nsell,house,5500000.0,5451537.83,289844.37,932.0,280.0,19642.85714,http://tlalpan.properati.com.mx/p4td_venta_casa_tlalpan_villela-y-asociados,19.1999418,-99.1483827,Distrito Federal\\nsell,house,32000000.0,31718039.36,1686367.3,1000.0,1110.0,28828.82883,http://miguel-hidalgo-df.properati.com.mx/erd8_venta_casa_miguel-hidalgo,19.4010793,-99.2480728,Distrito Federal\\nsell,apartment,8051430.0,7980486.61,424302.13,0.0,180.0,44730.16667,http://cuajimalpa-de-morelos.properati.com.mx/dqll_venta_departamento_cuajimalpa-de-morelos,19.3627981,-99.2650096,Distrito Federal\\nsell,house,2590000.0,2567178.74,136490.35,120.0,207.0,12512.07729,http://cancun.properati.com.mx/r249_venta_casa_cancun_propiedades-cancun,21.129547,-86.817017,Quintana Roo\\nsell,apartment,420000.0,7899570.0,420000.0,6090.0,224.0,1875.0,http://cancun.properati.com.mx/pa8i_venta_departamento_cancun_5-realty,21.1706119,-86.8138431,Quintana Roo\\nsell,apartment,2700000.0,2676209.55,142287.24,0.0,64.0,42187.5,http://cuajimalpa-de-morelos.properati.com.mx/hxvd_venta_departamento_cuajimalpa-de-morelos,19.392937,-99.263313,Distrito Federal\\nsell,apartment,3830000.0,3796252.71,201837.08,0.0,84.0,45595.2381,http://benito-juarez.properati.com.mx/fyt3_venta_departamento_benito-juarez,19.367424,-99.185753,Distrito Federal\\nsell,apartment,1013300.0,1004371.45,53399.87,0.0,60.0,16888.33333,http://tlahuac.properati.com.mx/h1e6_venta_departamento_tlahuac,19.2990233,-99.0436467,Distrito Federal\\nsell,apartment,800000.0,792950.93,42159.18,61.0,61.0,13114.7541,http://venustiano-carranza.properati.com.mx/c7l1_venta_departamento_venustiano-carranza,19.4301421,-99.109777,Distrito Federal\\nsell,apartment,5669500.0,5619544.38,298776.85,0.0,94.0,60313.82979,http://benito-juarez.properati.com.mx/ncgu_venta_departamento_benito-juarez_quatum-vende,19.361269,-99.1719297,Distrito Federal\\nsell,apartment,255000.0,4796167.5,255000.0,160.0,60.0,4250.0,http://playa-del-carmen-centro.properati.com.mx/c8r3_renta_departamento_playa-del-carmen-centro,20.6205688864,-87.0783920284,Solidaridad\\nsell,house,3450000.0,3419601.03,181811.47,189.0,250.0,13800.0,http://cancun.properati.com.mx/q9e2_venta_casa_cancun_cancun-best-properties-real-estate-and-rentals,21.1027119116,-86.8629654497,Quintana Roo\\nsell,apartment,475000.0,8934037.5,475000.0,275.0,275.0,1727.272727,http://cuajimalpa-de-morelos.properati.com.mx/oxsl_venta_departamento_cuajimalpa-de-morelos_arkidinamica,19.392937,-99.263313,Distrito Federal\\nsell,apartment,4925800.0,4882397.32,259584.62,78.0,78.0,63151.28205,http://cuauhtemoc.properati.com.mx/prhn_venta_departamento_cuauhtemoc_quality-dom,19.417364,-99.159454,Distrito Federal\\nsell,house,1450000.0,1437223.5,76413.51,121.0,168.0,8630.952381,http://cancun.properati.com.mx/f4f4_venta_casa_cancun,21.1456272,-86.8466999,Quintana Roo\\nsell,house,1895000.0,1878302.57,99864.56,117.0,144.0,13159.72222,http://cancun.properati.com.mx/o0ih_venta_casa_cancun_the-top-real-estate,21.1983978,-86.826621,Quintana Roo\\nsell,house,295000.0,5548507.5,295000.0,0.0,130.0,2269.230769,http://tulum.properati.com.mx/r4qo_venta_casa_tulum_village-bienes-raices,20.1951503595,-87.4699687958,Quintana Roo\\nsell,apartment,2221858.0,2202280.49,117089.64,0.0,61.0,36423.90164,http://venustiano-carranza.properati.com.mx/h1oy_venta_departamento_venustiano-carranza,19.4306069,-99.0949899,Distrito Federal\\nsell,apartment,8000000.0,7929509.74,421591.82,140.0,140.0,57142.85714,http://cuauhtemoc.properati.com.mx/c7uu_venta_departamento_cuauhtemoc,19.4158245484,-99.1765344143,Distrito Federal\\nsell,house,450000.0,8463825.0,450000.0,2800.0,520.0,865.3846154,http://cancun.properati.com.mx/b5nq_venta_casa_cancun,21.139641,-86.879738,Quintana Roo\\nsell,apartment,34920950.0,34613252.08,1840298.38,0.0,426.0,81974.06103,http://cuajimalpa-de-morelos.properati.com.mx/pjxm_venta_departamento_cuajimalpa-de-morelos_commerce-land,19.3782794,-99.2768399,Distrito Federal\\nsell,house,510000.0,9592335.0,510000.0,300.0,540.0,944.4444444,http://cancun.properati.com.mx/pgkb_venta_casa_cancun_century-21-caribbean-paradise,21.1295466,-86.8170132,Quintana Roo\\nsell,apartment,240000.0,4514040.0,240000.0,91.0,91.0,2637.362637,http://playa-del-carmen.properati.com.mx/kqrr_venta_departamento_playa-del-carmen_york-properties_60r,20.6369485603,-87.064100951,Quintana Roo\\nsell,apartment,10600000.0,10506600.38,558609.16,0.0,236.0,44915.25424,http://cuajimalpa-de-morelos.properati.com.mx/r4iy_venta_departamento_cuajimalpa-de-morelos_next-home,19.390415,-99.254997,Distrito Federal\\nsell,apartment,2906381.0,2880771.92,153163.3,0.0,60.0,48439.68333,http://alvaro-obregon.properati.com.mx/hbxs_venta_departamento_alvaro-obregon,19.3736979,-99.1933122,Distrito Federal\\nsell,house,7300000.0,7235677.72,384702.54,630.0,420.0,17380.95238,http://cancun.properati.com.mx/blrk_venta_casa_cancun,21.139086,-86.84964,Quintana Roo\\nsell,house,2000000.0,37617000.0,2000000.0,640.0,630.0,3174.603175,http://tlalpan.properati.com.mx/c7oa_venta_casa_tlalpan,19.271481,-99.175369,Distrito Federal\\nsell,apartment,820000.0,812774.71,43213.16,80.0,80.0,10250.0,http://iztacalco.properati.com.mx/d020_venta_departamento_iztacalco,19.381259203,-99.1038592905,Distrito Federal\\nsell,apartment,1509832.0,1496528.39,79566.6,0.0,117.0,12904.54701,http://tlahuac.properati.com.mx/h1tv_venta_departamento_tlahuac,19.2990233,-99.0436467,Distrito Federal\\nsell,house,5800000.0,5748894.57,305654.07,285.0,512.0,11328.125,http://coyoacan.properati.com.mx/okqd_venta_casa_coyoacan_all-in-1-mexico-real-estate_656,19.3439785,-99.1248628,Distrito Federal\\nsell,apartment,285000.0,5360422.5,285000.0,0.0,180.0,1583.333333,http://playa-del-carmen.properati.com.mx/b5ii_venta_departamento_playa-del-carmen,20.6314990395,-87.0707702637,Quintana Roo\\nsell,house,2550000.0,2527531.18,134382.39,279.0,160.0,15937.5,http://xochimilco.properati.com.mx/r6yr_venta_casa_xochimilco_numecsa-sa-de-cv,19.2686525172,-99.1396057606,Distrito Federal\\nsell,house,2150000.0,2130550.51,113275.94,110.0,150.0,14333.33333,http://cancun.properati.com.mx/ofk5_venta_casa_cancun_propiedades-cancun,21.139641,-86.879738,Quintana Roo\\nsell,house,21000000.0,20814963.31,1106678.54,870.0,800.0,26250.0,http://cuauhtemoc.properati.com.mx/pzym_venta_casa_cuauhtemoc_inmobiliaria-arsa,19.4468279,-99.1594532,Distrito Federal\\nsell,house,1750000.0,1734168.9,92201.34,150.0,120.0,14583.33333,http://playa-del-carmen.properati.com.mx/kpx4_venta_casa_playa-del-carmen_york-properties_60r,20.6194263236,-87.1027529253,Quintana Roo\\nsell,apartment,7150000.0,7085319.0,376708.35,117.0,117.0,61111.11111,http://cuauhtemoc.properati.com.mx/qr1b_venta_departamento_cuauhtemoc_inmobiliaria-magisto-sa-de-cv,19.417364,-99.159454,Distrito Federal\\nsell,apartment,3750000.0,3716076.4,197574.31,0.0,147.0,25510.20408,http://cancun.properati.com.mx/b9ie_venta_departamento_cancun,21.129547,-86.817017,Quintana Roo\\nsell,house,2800000.0,2775328.27,147557.13,160.0,220.0,12727.27273,http://cancun.properati.com.mx/d0u4_venta_casa_cancun,21.082655,-86.857162,Quintana Roo\\nsell,house,8600000.0,8524223.04,453211.21,211.0,300.0,28666.66667,http://coyoacan.properati.com.mx/d3ld_venta_casa_coyoacan,19.2976171,-99.1575957,Distrito Federal\\nsell,apartment,250000.0,247738.41,13171.62,70.0,70.0,3571.428571,http://cancun.properati.com.mx/k5hz_renta_departamento_cancun,21.196655,-86.823288,Quintana Roo\\nsell,apartment,310000.0,5830635.0,310000.0,156.0,52.0,5961.538462,http://playa-del-carmen.properati.com.mx/btmz_venta_departamento_playa-del-carmen,20.626583,-87.078659,Quintana Roo\\nsell,house,760000.0,14294460.0,760000.0,500.0,480.0,1583.333333,http://miguel-hidalgo-df.properati.com.mx/b5qd_venta_casa_miguel-hidalgo,19.4037619,-99.2513326,Distrito Federal\\nsell,apartment,1750000.0,1734168.9,92201.34,77.0,77.0,22727.27273,http://venustiano-carranza.properati.com.mx/joj9_venta_departamento_venustiano-carranza,19.4526892,-99.1179867,Distrito Federal\\nsell,house,450000.0,8463825.0,450000.0,11.0,1.0,450000.0,http://cancun.properati.com.mx/bvvy_venta_casa_cancun,21.129547,-86.817017,Quintana Roo\\nsell,house,4650000.0,4609027.43,245050.24,200.0,238.0,19537.81513,http://alvaro-obregon.properati.com.mx/l9gg_venta_casa_alvaro-obregon_century-21-movisa,19.3633984,-99.2178363,Distrito Federal\\nsell,apartment,350000.0,6582975.0,350000.0,140.0,140.0,2500.0,http://cancun.properati.com.mx/evn8_venta_departamento_cancun,21.1219027969,-86.7695245746,Quintana Roo\\nsell,apartment,20000000.0,19823774.55,1053979.56,390.0,271.0,73800.73801,http://cuajimalpa-de-morelos.properati.com.mx/bpdi_venta_departamento_cuajimalpa-de-morelos,19.3935344356,-99.2650692265,Distrito Federal\\nsell,apartment,148500.0,147156.57,7823.94,49.0,49.0,3030.612245,http://tlahuac.properati.com.mx/az3k_venta_departamento_tlahuac,19.2833321409,-99.0550169349,Distrito Federal\\nsell,apartment,3550000.0,3517885.6,187037.01,0.0,100.0,35500.0,http://alvaro-obregon.properati.com.mx/o4k8_venta_departamento_alvaro-obregon_guizar-guizar-promotores-inmobiliarios,19.33923,-99.218987,Distrito Federal\\nsell,apartment,2295000.0,2336604.97,124231.33,83.0,79.0,29050.63291,http://benito-juarez.properati.com.mx/mwog_venta_departamento_benito-juarez_ac-bienes-raices,19.3638234,-99.1444714,Distrito Federal\\nsell,apartment,1364000.0,25654794.0,1364000.0,200.0,200.0,6820.0,http://miguel-hidalgo-df.properati.com.mx/pyk4_venta_departamento_miguel-hidalgo_lomeli-brokers,19.4332386,-99.1933503,Distrito Federal\\nsell,house,14000000.0,13876642.15,737785.69,302.0,484.0,28925.61983,http://la-magdalena-contreras.properati.com.mx/quqb_venta_casa_la-magdalena-contreras_el-bosque-grupo-inmobiliario_b6g,19.3251419,-99.2229219,Distrito Federal\\nsell,house,1182000.0,1171585.03,62290.19,121.0,187.0,6320.855615,http://venustiano-carranza.properati.com.mx/chcg_venta_casa_venustiano-carranza,19.428152,-99.106194,Distrito Federal\\nsell,apartment,1200000.0,1189426.4,63238.77,82.0,82.0,14634.14634,http://alvaro-obregon.properati.com.mx/cfrv_venta_departamento_alvaro-obregon,19.378786,-99.208595,Distrito Federal\\nsell,apartment,500000.0,495476.82,26343.24,41.0,41.0,12195.12195,http://benito-juarez.properati.com.mx/b02l_venta_departamento_benito-juarez,19.380644,-99.179176,Distrito Federal\\nsell,apartment,233950.0,4400248.57,233950.0,59.0,59.0,3965.254237,http://playa-del-carmen.properati.com.mx/d3ui_venta_departamento_playa-del-carmen,20.626583,-87.078659,Quintana Roo\\nsell,apartment,45000.0,846382.5,45000.0,72.0,72.0,625.0,http://cozumel.properati.com.mx/cyuh_venta_departamento_cozumel,20.5057520556,-86.9545635581,Quintana Roo\\nsell,apartment,110000.0,2068935.0,110000.0,46.0,46.0,2391.304348,http://cancun.properati.com.mx/qu8t_venta_departamento_cancun_caribbean-realtors,21.0469806,-86.7826767,Quintana Roo\\nsell,house,2570500.0,2547246.44,135430.6,265.0,250.0,10282.0,http://iztapalapa.properati.com.mx/n6mj_venta_casa_iztapalapa_casabonita-inmobiliaria,19.362488,-99.108269,Distrito Federal\\nsell,apartment,340000.0,337004.12,17917.65,0.0,180.0,1888.888889,http://puerto-aventuras.properati.com.mx/hi7p_venta_departamento_puerto-aventuras,20.5138888,-87.2394444,Quintana Roo\\nsell,house,550000.0,545153.65,28984.43,0.0,40.0,13750.0,http://miguel-hidalgo-df.properati.com.mx/q0lb_venta_casa_miguel-hidalgo_bienes-raices-h-a-h-n-y-asociados-s-a-de-c-v,19.399689,-99.188522,Distrito Federal\\nsell,store,1800000.0,1784139.7,94858.16,307.0,155.0,11612.90323,http://cancun.properati.com.mx/bkju_venta_local_cancun,21.183158,-86.843106,Quintana Roo\\nsell,house,4100000.0,4063873.78,216065.81,0.0,350.0,11714.28571,http://cancun.properati.com.mx/bvw3_venta_casa_cancun,21.139086,-86.84964,Quintana Roo\\nsell,house,7500000.0,7433915.36,395242.33,422.0,191.0,39267.01571,http://tlalpan.properati.com.mx/ofyu_venta_casa_tlalpan_grupo-karmon,19.2998407,-99.1927294,Distrito Federal\\nsell,house,780000.0,773127.15,41105.2,160.0,58.0,13448.27586,http://tabasco-zacatecas.properati.com.mx/ffet_venta_casa_nacajuca,23.634501,-102.552788,Zacatecas\\nsell,house,1650000.0,1635461.33,86953.31,202.0,170.0,9705.882353,http://tlahuac.properati.com.mx/is2l_venta_casa_tlahuac,19.3116278,-99.0477689,Distrito Federal\\nsell,apartment,1800000.0,1784139.7,94858.16,0.0,71.0,25352.11268,http://pueblo-de-san-pablo-tepetlapa.properati.com.mx/r4p2_venta_departamento_pueblo-de-san-pablo-tepetlapa_quality-paraiso,19.3246591,-99.140855,Distrito Federal\\nsell,apartment,398000.0,7485783.0,398000.0,310.0,310.0,1283.870968,http://cancun.properati.com.mx/fmhp_venta_departamento_cancun,21.170027,-86.819778,Quintana Roo\\nsell,house,1102365.0,1092651.59,58093.5,3300.0,98.0,11248.62245,http://venustiano-carranza.properati.com.mx/cjo1_venta_casa_venustiano-carranza,19.4356397539,-99.1176906602,Distrito Federal\\nsell,house,6500000.0,122255250.0,6500000.0,1153.0,1293.0,5027.068832,http://cuajimalpa-de-morelos.properati.com.mx/olvo_venta_casa_cuajimalpa-de-morelos_grupo-bosques-bienes-raices,19.390415,-99.254997,Distrito Federal\\nsell,apartment,2900000.0,2874447.19,152827.03,0.0,78.0,37179.48718,http://cuajimalpa-de-morelos.properati.com.mx/i1np_venta_departamento_cuajimalpa-de-morelos,19.3499358,-99.2906864,Distrito Federal\\nsell,apartment,592358.0,11141365.44,592358.0,165.0,165.0,3590.048485,http://cuajimalpa-de-morelos.properati.com.mx/j9d2_venta_departamento_cuajimalpa-de-morelos,19.392937,-99.263313,Distrito Federal\\nsell,house,4700000.0,4785204.21,254417.11,180.0,230.0,20434.78261,http://azcapotzalco-azcapotzalco.properati.com.mx/i42e_venta_casa_azcapotzalco,19.4731507,-99.1872093,Distrito Federal\\nsell,apartment,8500000.0,8423106.66,447835.11,200.0,200.0,42500.0,http://benito-juarez.properati.com.mx/ozdk_venta_departamento_benito-juarez_sergio-barragan-rico,19.396593,-99.133163,Distrito Federal\\nsell,apartment,1290000.0,1278633.42,67981.68,63.0,63.0,20476.19048,http://iztacalco.properati.com.mx/pazx_venta_departamento_iztacalco_alfa-inmobiliaria_ah1,19.392349,-99.07093,Distrito Federal\\nsell,apartment,8760000.0,8682813.11,461643.04,0.0,192.0,45625.0,http://cancun.properati.com.mx/o0gh_venta_departamento_cancun_m-l-cancun-real-estate,21.1637632294,-86.8070280868,Quintana Roo\\nsell,house,2250000.0,2230174.62,118572.7,229.0,300.0,7500.0,http://cuauhtemoc.properati.com.mx/cy3w_venta_casa_cuauhtemoc,19.4392246682,-99.1584244743,Distrito Federal\\nsell,apartment,435540.0,8191854.09,435540.0,240.0,240.0,1814.75,http://tulum.properati.com.mx/qrgq_venta_departamento_tulum_realty-world-oliva-asesores,20.209438,-87.467918,Quintana Roo\\nsell,house,5450000.0,5401978.56,287209.43,177.0,391.0,13938.61893,http://coyoacan.properati.com.mx/k45i_venta_casa_coyoacan,19.31782,-99.132469,Distrito Federal\\nsell,house,12500000.0,12389859.0,658737.22,300.0,356.0,35112.35955,http://coyoacan.properati.com.mx/maib_venta_casa_coyoacan_habitat-soluciones-inmobiliarias,19.353813,-99.163605,Distrito Federal\\nsell,apartment,590000.0,584662.59,31085.02,0.0,50.0,11800.0,http://tlahuac.properati.com.mx/j3xh_venta_departamento_tlahuac,19.3029619922,-99.0406322479,Distrito Federal\\nsell,house,670000.0,664096.34,35308.31,148.0,100.0,6700.0,http://cancun.properati.com.mx/mc89_venta_casa_cancun_tucasahoy,21.139641,-86.879738,Quintana Roo\\nsell,house,119000.0,2238211.5,119000.0,0.0,120.0,991.6666667,http://cancun.properati.com.mx/ouac_venta_casa_cancun_bienestar-cancun,21.1855951,-86.8253327,Quintana Roo\\nsell,apartment,504050.0,499490.18,26556.62,57.0,57.0,8842.982456,http://iztapalapa.properati.com.mx/bh5n_venta_departamento_iztapalapa,19.369418,-99.007392,Distrito Federal\\nsell,apartment,550000.0,545153.65,28984.43,0.0,92.0,5978.26087,http://miguel-hidalgo-df.properati.com.mx/q0na_venta_departamento_miguel-hidalgo_bienes-raices-h-a-h-n-y-asociados-s-a-de-c-v,19.399689,-99.188522,Distrito Federal\\nsell,apartment,2178758.0,2159560.37,114818.32,0.0,60.0,36312.63333,http://venustiano-carranza.properati.com.mx/gzyx_venta_departamento_venustiano-carranza,19.4306069,-99.0949899,Distrito Federal\\nsell,house,6000000.0,5947132.21,316193.86,511.0,450.0,13333.33333,http://cancun.properati.com.mx/h1pg_venta_casa_cancun,21.1088087151,-86.8530794978,Quintana Roo\\nsell,apartment,400000.0,396475.46,21079.59,40.0,40.0,10000.0,http://iztacalco.properati.com.mx/d7h0_venta_departamento_iztacalco,19.3948036,-99.0976808,Distrito Federal\\nsell,store,94000.0,1767999.0,94000.0,0.0,38.0,2473.684211,http://playa-del-carmen.properati.com.mx/b6f7_venta_local_playa-del-carmen,20.614861401,-87.0930056625,Quintana Roo\\nsell,apartment,215000.0,4043827.5,215000.0,119.0,119.0,1806.722689,http://puerto-aventuras.properati.com.mx/l21z_venta_departamento_puerto-aventuras_village-bienes-raices,20.5138888,-87.2394444,Quintana Roo\\nsell,house,439000.0,8256931.5,439000.0,0.0,220.0,1995.454545,http://playa-del-carmen.properati.com.mx/l0yy_venta_casa_playa-del-carmen_gekco-caribbean-sa-de-cv,20.6485929,-87.0599282,Quintana Roo\\nsell,apartment,250000.0,4702125.0,250000.0,0.0,124.0,2016.129032,http://cancun.properati.com.mx/bgks_venta_departamento_cancun,21.1295466,-86.8170132,Quintana Roo\\nsell,house,2025000.0,2006681.12,106690.12,155.0,120.0,16875.0,http://cuajimalpa-de-morelos.properati.com.mx/i897_venta_casa_cuajimalpa-de-morelos,19.3451338989,-99.2793830484,Distrito Federal\\nsell,apartment,745000.0,738435.44,39260.73,21.0,52.0,14326.92308,http://miguel-hidalgo-df.properati.com.mx/eryh_venta_departamento_miguel-hidalgo,19.4445021981,-99.1660007089,Distrito Federal\\nsell,apartment,6875000.0,6814422.43,362305.47,0.0,116.0,59267.24138,http://cuauhtemoc.properati.com.mx/pzvi_venta_departamento_cuauhtemoc_mega-soluciones,19.4157341697,-99.155623791,Distrito Federal\\nsell,apartment,1100000.0,20689350.0,1100000.0,420.0,420.0,2619.047619,http://miguel-hidalgo-df.properati.com.mx/cze3_venta_departamento_miguel-hidalgo,19.401079,-99.24807,Distrito Federal\\nsell,house,5850000.0,5798454.03,308289.02,300.0,302.0,19370.86093,http://cancun.properati.com.mx/lq21_venta_casa_cancun_ventascancun-21,21.1109255848,-86.8388557434,Quintana Roo\\nsell,apartment,2900000.0,2874447.19,152827.03,0.0,120.0,24166.66667,http://benito-juarez.properati.com.mx/q889_venta_departamento_benito-juarez_century-21-movisa,19.359984,-99.1580693,Distrito Federal\\nsell,apartment,365000.0,6865102.5,365000.0,175.0,175.0,2085.714286,http://playa-del-carmen.properati.com.mx/ckw8_venta_departamento_playa-del-carmen,20.503029,-87.222649,Quintana Roo\\nsell,apartment,199000.0,3742891.5,199000.0,62.0,52.0,3826.923077,http://playa-del-carmen.properati.com.mx/lmxb_venta_departamento_playa-del-carmen_jpm-realestate,20.6323624968,-87.0735168534,Quintana Roo\\nsell,apartment,420000.0,7899570.0,420000.0,0.0,239.0,1757.322176,http://cancun.properati.com.mx/cky9_venta_departamento_cancun,21.1130054,-86.767053,Quintana Roo\\nsell,apartment,750000.0,14106375.0,750000.0,280.0,280.0,2678.571429,http://cuajimalpa-de-morelos.properati.com.mx/fluw_venta_departamento_cuajimalpa-de-morelos,19.361719,-99.283409,Distrito Federal\\nsell,house,700000.0,13165950.0,700000.0,240.0,400.0,1750.0,http://miguel-hidalgo-df.properati.com.mx/jgyb_venta_casa_miguel-hidalgo,19.3981537,-99.2384775,Distrito Federal\\nsell,house,4800000.0,4757705.81,252955.09,283.0,289.0,16608.99654,http://cancun.properati.com.mx/o0nc_venta_casa_cancun_the-top-real-estate,21.1136543,-86.8414847,Quintana Roo\\nsell,apartment,6500000.0,6441199.16,342462.14,0.0,230.0,28260.86957,http://playa-del-carmen-centro.properati.com.mx/lstw_venta_departamento_playa-del-carmen-centro_cogam-bienes-raices,20.6295586,-87.0738851,Solidaridad\\nsell,apartment,8300000.0,8226866.3,437401.51,230.0,230.0,36086.95652,http://benito-juarez.properati.com.mx/ln9u_venta_departamento_benito-juarez_larson-bienes-raices,19.381729,-99.164986,Distrito Federal\\nsell,house,1200000.0,1189426.4,63238.77,104.0,75.0,16000.0,http://gustavo-a-madero.properati.com.mx/ob2f_venta_casa_gustavo-a-madero_all-in-1-mexico-real-estate_656,19.4731247,-99.0817321,Distrito Federal\\nsell,apartment,11600000.0,11497789.15,611308.14,247.0,247.0,46963.56275,http://polanco-miguel-hidalgo.properati.com.mx/q08m_venta_departamento_polanco_inmobiliaria-arsa,19.430456,-99.1889121,Distrito Federal\\nsell,apartment,325000.0,6112762.5,325000.0,220.0,181.0,1795.58011,http://tulum.properati.com.mx/ewrv_venta_departamento_tulum,20.2016654,-87.4605774,Quintana Roo\\nsell,apartment,4225000.0,4186779.43,222600.39,115.0,115.0,36739.13043,http://coyoacan.properati.com.mx/ogcm_venta_departamento_coyoacan_quality-bicofi,19.3023717,-99.167894,Distrito Federal\\nsell,apartment,10363000.0,10271688.8,546119.51,241.0,241.0,43000.0,http://alvaro-obregon.properati.com.mx/iq0i_venta_departamento_alvaro-obregon,19.3564335,-99.1988448,Distrito Federal\\nsell,house,12700000.0,12588096.83,669277.02,400.0,430.0,29534.88372,http://coyoacan.properati.com.mx/bk0l_venta_casa_coyoacan,19.305704,-99.182983,Distrito Federal\\nsell,apartment,2350000.0,2328741.13,123813.23,0.0,69.0,34057.97101,http://benito-juarez.properati.com.mx/homv_venta_departamento_benito-juarez,19.3814504,-99.1919122,Distrito Federal\\nsell,apartment,19000000.0,18832585.78,1001280.58,0.0,300.0,63333.33333,http://miguel-hidalgo-df.properati.com.mx/o8hd_venta_departamento_miguel-hidalgo_match-inmobiliario,19.4370357,-99.2117591,Distrito Federal\\nsell,apartment,249000.0,4683316.5,249000.0,0.0,178.0,1398.876404,http://tulum.properati.com.mx/mhp6_venta_departamento_tulum_painalli-inmobiliario-s-c,20.1997998,-87.454707,Quintana Roo\\nsell,house,1080000.0,1070483.7,56914.89,80.0,90.0,12000.0,http://cancun.properati.com.mx/pjv2_venta_casa_cancun_caribbean-view-realty,21.1263792,-86.8353838,Quintana Roo\\nsell,house,2800000.0,2774670.35,147522.15,200.0,160.0,17500.0,http://cancun.properati.com.mx/or15_venta_casa_cancun_rivero-y-asociados,21.1166981,-86.8423014,Quintana Roo\\nsell,house,8788725.0,8711285.04,463156.82,133.0,319.0,27550.86207,http://la-magdalena-contreras.properati.com.mx/cmk8_venta_casa_la-magdalena-contreras,19.3109757,-99.2426849,Distrito Federal\\nsell,apartment,1950000.0,1932817.88,102763.0,0.0,65.0,30000.0,http://benito-juarez.properati.com.mx/rdae_venta_departamento_benito-juarez_altimax-inmobiliaria,19.3697678418,-99.1392753126,Distrito Federal\\nsell,apartment,1000000.0,18808500.0,1000000.0,0.0,256.0,3906.25,http://cancun.properati.com.mx/bkot_venta_departamento_cancun,21.129547,-86.817017,Quintana Roo\\nsell,apartment,3200000.0,3171803.93,168636.73,0.0,80.0,40000.0,http://tlalpan.properati.com.mx/m3si_venta_departamento_tlalpan_century-21-batiz,19.3033001,-99.2310901,Distrito Federal\\nsell,apartment,1200000.0,22570200.0,1200000.0,553.0,553.0,2169.981917,http://cuajimalpa-de-morelos.properati.com.mx/cruh_venta_departamento_cuajimalpa-de-morelos,19.390415,-99.254997,Distrito Federal\\nsell,house,8400000.0,8325985.21,442671.41,147.0,270.0,31111.11111,http://coyoacan.properati.com.mx/kkhc_venta_casa_coyoacan_casabonita-inmobiliaria,19.3538129,-99.1636051,Distrito Federal\\nsell,apartment,3133000.0,3105394.13,165105.89,0.0,74.0,42337.83784,http://benito-juarez.properati.com.mx/r03d_venta_departamento_benito-juarez_grupo-jacz-s-a-de-c-v,19.3807458,-99.1553016,Distrito Federal\\nsell,apartment,5764499.0,5713706.31,303783.2,0.0,122.0,47249.9918,http://benito-juarez.properati.com.mx/r52y_venta_departamento_benito-juarez_bienes-raices-h-a-h-n-y-asociados-s-a-de-c-v,19.394358,-99.177444,Distrito Federal\\nsell,house,5500000.0,5451537.83,289844.37,406.0,326.0,16871.16564,http://la-magdalena-contreras.properati.com.mx/m43p_venta_casa_la-magdalena-contreras_modus-vivendi,19.318155,-99.220718,Distrito Federal\\nsell,apartment,2245000.0,2225218.58,118309.2,77.0,77.0,29155.84416,http://benito-juarez.properati.com.mx/lhr2_venta_departamento_benito-juarez_luha-bienes-raices,19.3723335,-99.1905974,Distrito Federal\\nsell,apartment,3800000.0,3766517.04,200256.11,0.0,108.0,35185.18519,http://benito-juarez.properati.com.mx/pb8l_venta_departamento_benito-juarez_viva-houses-bienes-raices-sa-de-cv,19.394073,-99.153915,Distrito Federal\\nsell,house,1500000.0,28212750.0,1500000.0,500.0,500.0,3000.0,http://playa-del-carmen.properati.com.mx/kpwk_venta_casa_playa-del-carmen_york-properties_60r,20.6138413521,-87.0809921622,Quintana Roo\\nsell,apartment,2500000.0,2477384.14,131716.2,0.0,180.0,13888.88889,http://cancun.properati.com.mx/b9fq_venta_departamento_cancun,21.149204,-86.833328,Quintana Roo\\nsell,apartment,165000.0,163507.18,8693.26,49.0,49.0,3367.346939,http://tlahuac.properati.com.mx/bhtb_venta_departamento_tlahuac,19.2833726485,-99.0550169349,Distrito Federal\\nsell,house,5100000.0,5053863.88,268701.06,252.0,300.0,17000.0,http://alvaro-obregon.properati.com.mx/mrey_venta_casa_alvaro-obregon_quality-alzati,19.365175,-99.230064,Distrito Federal\\nsell,apartment,4557000.0,4515776.02,240092.3,221.0,126.0,36166.66667,http://lagos-del-sol.properati.com.mx/lmqt_venta_departamento_lagos-del-sol_jpm-realestate,21.0505319674,-86.853179874,Benito Ju\\xc3\\xa1rez\\nsell,apartment,370000.0,6959145.0,370000.0,216.0,216.0,1712.962963,http://cancun.properati.com.mx/pqhw_venta_departamento_cancun_century-21-caribbean-paradise,21.1697254482,-86.8195867538,Quintana Roo\\nsell,apartment,942150.0,933627.04,49638.57,0.0,84.0,11216.07143,http://tlalpan.properati.com.mx/bi3o_venta_departamento_tlalpan,19.2672863,-99.1659764,Distrito Federal\\nsell,apartment,420000.0,7899570.0,420000.0,200.0,200.0,2100.0,http://cancun.properati.com.mx/k9r0_venta_departamento_cancun_imc-inmobiliaria-cancun,21.129547,-86.817017,Quintana Roo\\nsell,house,390000.0,7335315.0,390000.0,410.0,268.0,1455.223881,http://playa-del-carmen.properati.com.mx/azv0_venta_casa_playa-del-carmen,20.6162363305,-87.0870351791,Quintana Roo\\nsell,house,1600000.0,1585901.87,84318.36,108.0,120.0,13333.33333,http://cancun.properati.com.mx/fi67_venta_casa_cancun,21.1471041,-86.8315128,Quintana Roo\\nsell,house,458040.0,453896.31,24132.51,37.0,57.0,8035.789474,http://iztapalapa.properati.com.mx/b3d2_venta_casa_iztapalapa,19.354885,-99.0994268,Distrito Federal\\nsell,apartment,3200000.0,3171803.93,168636.73,0.0,78.0,41025.64103,http://cuajimalpa-de-morelos.properati.com.mx/i12h_venta_departamento_cuajimalpa-de-morelos,19.3499358,-99.2906864,Distrito Federal\\nsell,apartment,3150000.0,3121504.17,165962.42,3142.0,170.0,18529.41176,http://cancun.properati.com.mx/b9h6_venta_departamento_cancun,21.129547,-86.817017,Quintana Roo\\nsell,apartment,187000.0,3517189.5,187000.0,0.0,66.0,2833.333333,http://playa-del-carmen.properati.com.mx/cr2m_venta_departamento_playa-del-carmen,20.626583,-87.078659,Quintana Roo\\nsell,house,1400000.0,1387335.08,73761.07,122.0,150.0,9333.333333,http://cancun.properati.com.mx/b9fv_venta_casa_cancun,21.129547,-86.817017,Quintana Roo\\nsell,house,17800000.0,17643159.38,938041.81,684.0,1028.0,17315.1751,http://alvaro-obregon.properati.com.mx/gufl_venta_casa_alvaro-obregon,19.3605334,-99.2267067,Distrito Federal\\nsell,apartment,287513.0,284911.91,15148.04,43.0,43.0,6686.348837,http://tlahuac.properati.com.mx/b00r_venta_departamento_tlahuac,19.304676,-99.042382,Distrito Federal\\nsell,apartment,2866718.0,2841458.4,151073.1,0.0,63.0,45503.46032,http://venustiano-carranza.properati.com.mx/hfhs_venta_departamento_venustiano-carranza,19.4306069,-99.0949899,Distrito Federal\\nsell,apartment,2215000.0,2195482.91,116728.23,0.0,65.0,34076.92308,http://benito-juarez.properati.com.mx/ngnh_venta_departamento_benito-juarez_decision-inmobiliaria,19.39365,-99.14769,Distrito Federal\\nsell,apartment,11200000.0,11101313.68,590228.55,0.0,240.0,46666.66667,http://cuajimalpa-de-morelos.properati.com.mx/p6yk_venta_departamento_cuajimalpa-de-morelos_brabasa-inmobiliaria,19.390415,-99.254997,Distrito Federal\\nsell,apartment,4690000.0,4648675.0,247158.2,126.0,126.0,37222.22222,http://alvaro-obregon.properati.com.mx/p7om_venta_departamento_alvaro-obregon_quality-inmobiliaria-viendo-por-ti,19.331932,-99.246689,Distrito Federal\\nsell,apartment,7500000.0,7433915.36,395242.33,162.0,162.0,46296.2963,http://cuauhtemoc.properati.com.mx/hpvh_venta_departamento_cuauhtemoc,19.4348398,-99.1521771,Distrito Federal\\nsell,apartment,395000.0,7429357.5,395000.0,252.0,252.0,1567.460317,http://cancun.properati.com.mx/ep9f_venta_departamento_cancun,21.1665638983,-86.8137559903,Quintana Roo\\nsell,apartment,3307300.0,3278158.48,174291.33,0.0,83.0,39846.98795,http://benito-juarez.properati.com.mx/qbyp_venta_departamento_benito-juarez_grupo-jacz-s-a-de-c-v,19.3908165,-99.1466355,Distrito Federal\\nsell,apartment,340000.0,6394890.0,340000.0,0.0,140.0,2428.571429,http://cancun.properati.com.mx/dmzs_venta_departamento_cancun,21.1158338041,-86.7654833795,Quintana Roo\\nsell,house,3750000.0,3716957.58,197621.16,160.0,243.0,15432.09877,http://cancun.properati.com.mx/lsjl_venta_casa_cancun_ventascancun-21,21.161908,-86.8515279,Quintana Roo\\nsell,apartment,500000.0,9404250.0,500000.0,0.0,230.0,2173.913043,http://cancun.properati.com.mx/ngkd_venta_departamento_cancun_rent-for-vacation-sa-de-cv,21.129547,-86.817017,Quintana Roo\\nsell,apartment,1400000.0,26331900.0,1400000.0,280.0,280.0,5000.0,http://miguel-hidalgo-df.properati.com.mx/jos3_venta_departamento_miguel-hidalgo,19.4318149,-99.1940586,Distrito Federal\\nsell,apartment,5333000.0,5284756.09,280977.01,230.0,115.0,46373.91304,http://benito-juarez.properati.com.mx/n6zj_venta_departamento_benito-juarez_viva-houses-bienes-raices-sa-de-cv,19.381729,-99.164986,Distrito Federal\\nsell,house,855000.0,16081267.5,855000.0,505.0,550.0,1554.545455,http://miguel-hidalgo-df.properati.com.mx/fl49_venta_casa_miguel-hidalgo,19.4034814,-99.2456791,Distrito Federal\\nsell,apartment,1792000.0,1776210.03,94436.56,0.0,58.0,30896.55172,http://coyoacan.properati.com.mx/pvts_venta_departamento_coyoacan_vanguardia-inmobiliaria_688,19.343979,-99.124863,Distrito Federal\\nsell,apartment,11000000.0,10903075.85,579688.75,0.0,180.0,61111.11111,http://miguel-hidalgo-df.properati.com.mx/f5di_venta_departamento_miguel-hidalgo,19.4336444,-99.1901467,Distrito Federal\\nsell,house,2850000.0,2824887.73,150192.08,189.0,105.0,27142.85714,http://azcapotzalco.properati.com.mx/ned1_venta_casa_azcapotzalco_invest-capital,19.47517,-99.152534,Distrito Federal\\nsell,apartment,554455.0,549439.16,29212.28,56.0,56.0,9900.982143,http://iztapalapa.properati.com.mx/b358_venta_departamento_iztapalapa,19.342083,-99.0532159,Distrito Federal\\nsell,apartment,1639182.0,1624738.6,86383.21,0.0,126.0,13009.38095,http://tlahuac.properati.com.mx/h1tb_venta_departamento_tlahuac,19.2990233,-99.0436467,Distrito Federal\\nsell,apartment,199000.0,3742891.5,199000.0,64.0,54.0,3685.185185,http://playa-del-carmen.properati.com.mx/ln55_venta_departamento_playa-del-carmen_jpm-realestate,20.6325179952,-87.0732887503,Quintana Roo\\nsell,house,5750000.0,5699335.11,303019.12,527.0,474.0,12130.80169,http://tlalpan.properati.com.mx/hy55_venta_casa_tlalpan,19.2536688,-99.1726141,Distrito Federal\\nsell,apartment,4200000.0,4162005.63,221283.23,0.0,138.0,30434.78261,http://benito-juarez.properati.com.mx/bc49_venta_departamento_benito-juarez,19.382727579,-99.1582889556,Distrito Federal\\nsell,apartment,1350000.0,1337787.47,71126.75,0.0,69.0,19565.21739,http://azcapotzalco.properati.com.mx/b40t_venta_departamento_azcapotzalco,19.4752953603,-99.1893056412,Distrito Federal\\nsell,apartment,1013300.0,1004371.45,53399.87,0.0,60.0,16888.33333,http://tlahuac.properati.com.mx/h1cz_venta_departamento_tlahuac,19.2990233,-99.0436467,Distrito Federal\\nsell,apartment,950000.0,17868075.0,950000.0,240.0,240.0,3958.333333,http://miguel-hidalgo-df.properati.com.mx/pqf9_venta_departamento_miguel-hidalgo_m-m-consultores-inmobiliarios,19.430456,-99.1889121,Distrito Federal\\nsell,apartment,4900000.0,4856824.72,258224.99,97.0,97.0,50515.46392,http://cuauhtemoc.properati.com.mx/n576_venta_departamento_cuauhtemoc_el-bosque-grupo-inmobiliario_b6g,19.4195256,-99.162549,Distrito Federal\\nsell,apartment,4000000.0,3964754.87,210795.91,135.0,120.0,33333.33333,http://benito-juarez.properati.com.mx/odtn_venta_departamento_benito-juarez_bienes-raices-h-a-h-n-y-asociados-s-a-de-c-v,19.380747,-99.155304,Distrito Federal\\nsell,house,7555000.0,7488430.86,398140.78,0.0,180.0,41972.22222,http://benito-juarez.properati.com.mx/eyhk_venta_casa_benito-juarez,19.3935143,-99.1649891,Distrito Federal\\nsell,store,2140508.0,2121647.32,112802.58,139.0,139.0,15399.33813,http://cancun.properati.com.mx/d1s5_venta_local_cancun,21.129547,-86.817017,Quintana Roo\\nsell,house,7200000.0,7136558.8,379432.64,460.0,600.0,12000.0,http://cancun.properati.com.mx/d2pa_venta_casa_cancun,21.161908,-86.8515279,Quintana Roo\\nsell,house,12000000.0,11894264.61,632387.73,297.0,340.0,35294.11765,http://miguel-hidalgo-df.properati.com.mx/hi8p_venta_casa_miguel-hidalgo,19.40403,-99.233528,Distrito Federal\\nsell,house,9638000.0,9553076.95,507912.75,226.0,226.0,42646.0177,http://cancun.properati.com.mx/p6wz_venta_casa_cancun_luxury-cancun-and-riviera-m-p-sa-de-cv,21.129547,-86.817017,Quintana Roo\\nsell,house,2300000.0,2279193.52,121178.91,121.0,300.0,7666.666667,http://iztapalapa.properati.com.mx/bi45_venta_casa_iztapalapa,19.358065,-99.093647,Distrito Federal\\nsell,house,390000.0,7335315.0,390000.0,80.0,80.0,4875.0,http://playa-del-carmen.properati.com.mx/ngyn_venta_casa_playa-del-carmen_playa-realtors-4-u,20.6303744711,-87.0694720745,Quintana Roo\\nsell,apartment,6058080.0,6003276.9,319178.93,168.0,168.0,36060.0,http://cancun.properati.com.mx/lqh9_venta_departamento_cancun_cancun-best-properties-real-estate-and-rentals,21.1714531417,-86.8190298602,Quintana Roo\\nsell,apartment,7000000.0,6936675.98,368805.38,106.0,106.0,66037.73585,http://miguel-hidalgo-df.properati.com.mx/rd6j_venta_departamento_miguel-hidalgo_lomeli-brokers,19.4374999,-99.1873839,Distrito Federal\\nsell,apartment,590000.0,11097015.0,590000.0,0.0,185.0,3189.189189,http://cancun.properati.com.mx/o2cq_venta_departamento_cancun_imc-inmobiliaria-cancun,21.1347621,-86.7461357,Quintana Roo\\nsell,apartment,451100.0,8484514.35,451100.0,208.0,113.0,3992.035398,http://playa-del-carmen.properati.com.mx/cdqf_venta_departamento_playa-del-carmen,20.626583,-87.078659,Quintana Roo\\nsell,apartment,360700.0,6784225.95,360700.0,105.0,69.0,5227.536232,http://playa-del-carmen.properati.com.mx/bw7k_venta_departamento_playa-del-carmen,20.626583,-87.078659,Quintana Roo\\nsell,house,2200000.0,2180615.17,115937.75,110.0,182.0,12087.91209,http://cancun.properati.com.mx/oofy_venta_casa_cancun_century-21-caribbean-paradise,21.0939597521,-86.8690386415,Quintana Roo\\nsell,apartment,12500000.0,12389859.0,658737.22,0.0,258.0,48449.6124,http://alvaro-obregon.properati.com.mx/g658_venta_departamento_alvaro-obregon,19.3605334,-99.2267067,Distrito Federal\\nsell,house,1100000.0,1090049.06,57955.13,360.0,150.0,7333.333333,http://cozumel.properati.com.mx/b60v_venta_casa_cozumel,20.4996792265,-86.9429984902,Quintana Roo\\nsell,house,30000000.0,29735661.83,1580969.34,773.0,515.0,58252.42718,http://miguel-hidalgo-df.properati.com.mx/o1ub_venta_casa_miguel-hidalgo_circulo-bienes-raices,19.4064039,-99.1873154,Distrito Federal\\nsell,house,175000.0,3291487.5,175000.0,300.0,173.0,1011.560694,http://cozumel.properati.com.mx/cq4z_venta_casa_cozumel,20.4310062,-86.9080654,Quintana Roo\\nsell,apartment,2740500.0,2715708.53,144387.3,87.0,87.0,31500.0,http://coyoacan.properati.com.mx/bibc_venta_departamento_coyoacan,19.3358468,-99.1479328,Distrito Federal\\nsell,apartment,3500000.0,3469160.49,184446.42,115.0,115.0,30434.78261,http://benito-juarez.properati.com.mx/pazz_venta_departamento_benito-juarez_versa-inmobiliaria,19.3797151,-99.1677132,Distrito Federal\\nsell,apartment,1995000.0,1977421.49,105134.46,80.0,80.0,24937.5,http://venustiano-carranza.properati.com.mx/bwks_venta_departamento_venustiano-carranza,19.4068945,-99.1237906,Distrito Federal\\nsell,house,1200000.0,1189426.4,63238.77,140.0,100.0,12000.0,http://cancun.properati.com.mx/bp6d_venta_casa_cancun,21.196472,-86.820439,Quintana Roo\\nsell,apartment,2000000.0,37617000.0,2000000.0,0.0,450.0,4444.444444,http://miguel-hidalgo-df.properati.com.mx/h6li_venta_departamento_miguel-hidalgo,19.400524,-99.230064,Distrito Federal\\nsell,apartment,728100.0,721684.4,38370.12,61.0,61.0,11936.06557,http://miguel-hidalgo-df.properati.com.mx/d4uh_venta_departamento_miguel-hidalgo,19.4597505,-99.2067717,Distrito Federal\\nsell,apartment,1100000.0,1090049.06,57955.13,74.0,74.0,14864.86486,http://playa-del-carmen.properati.com.mx/kq00_venta_departamento_playa-del-carmen_york-properties_60r,20.6534856714,-87.0873141276,Quintana Roo\\nsell,apartment,1400000.0,1387664.04,73778.56,35.0,35.0,40000.0,http://miguel-hidalgo-df.properati.com.mx/gdig_venta_departamento_popotla,19.4535397,-99.1826636,Distrito Federal\\nsell,apartment,3599000.0,3567288.19,189663.62,156.0,156.0,23070.51282,http://cuauhtemoc.properati.com.mx/d61k_venta_departamento_cuauhtemoc,19.430132,-99.169144,Distrito Federal\\nsell,apartment,920000.0,911893.44,48483.05,0.0,49.0,18775.5102,http://cuauhtemoc.properati.com.mx/qy1i_venta_departamento_cuauhtemoc_rodolfo-menocal-tobias,19.413992,-99.138695,Distrito Federal\\nsell,apartment,12000000.0,11894264.61,632387.73,0.0,260.0,46153.84615,http://cuajimalpa-de-morelos.properati.com.mx/pgjo_venta_departamento_cuajimalpa-de-morelos_diamond-house-bienes-raices-mazal-consultores-sc,19.3894263,-99.2651278,Distrito Federal\\nsell,apartment,550000.0,10344675.0,550000.0,350.0,350.0,1571.428571,http://cancun.properati.com.mx/brz9_venta_departamento_cancun,21.161908,-86.8515279,Quintana Roo\\nsell,house,1650000.0,1635073.49,86932.69,180.0,147.0,11224.4898,http://cancun.properati.com.mx/b9em_venta_casa_cancun,21.129547,-86.817017,Quintana Roo\\nsell,house,1850000.0,1833698.97,97493.1,155.0,170.0,10882.35294,http://iztapalapa.properati.com.mx/ngm8_venta_casa_iztapalapa_century-21-eden_9zn,19.343191,-99.02256,Distrito Federal\\nsell,apartment,1850000.0,34795725.0,1850000.0,0.0,372.0,4973.11828,http://cancun.properati.com.mx/o0mh_venta_departamento_cancun_the-top-real-estate,21.1347621,-86.7461357,Quintana Roo\\nsell,apartment,5075300.0,5030580.09,267463.12,0.0,98.0,51788.77551,http://benito-juarez.properati.com.mx/krjd_venta_departamento_benito-juarez_next-home,19.387764,-99.176758,Distrito Federal\\nsell,house,10000000.0,188085000.0,10000000.0,4500.0,4500.0,2222.222222,http://miguel-hidalgo-df.properati.com.mx/49z_venta_casa_miguel-hidalgo,19.395209,-99.230157,Distrito Federal\\nsell,apartment,4500000.0,4460349.25,237145.4,0.0,150.0,30000.0,http://cancun.properati.com.mx/floc_venta_departamento_cancun,21.1902642,-86.8198375,Quintana Roo\\nsell,house,405000.0,7617442.5,405000.0,150.0,150.0,2700.0,http://playa-del-carmen-centro.properati.com.mx/g7fa_venta_casa_playa-del-carmen-centro,20.6322881778,-87.0662405156,Solidaridad\\nsell,house,1450000.0,1437223.5,76413.51,1088.0,59.0,24576.27119,http://iztapalapa.properati.com.mx/cd7k_venta_casa_iztapalapa,19.3614551,-99.0061546,Distrito Federal\\nsell,house,2800000.0,2774670.35,147522.15,150.0,350.0,8000.0,http://gustavo-a-madero.properati.com.mx/bh2i_venta_casa_gustavo-a-madero,19.4822222,-99.1125,Distrito Federal\\nsell,apartment,750000.0,743215.24,39514.86,0.0,42.0,17857.14286,http://venustiano-carranza.properati.com.mx/bi1h_venta_departamento_venustiano-carranza,19.4193702,-99.1119615,Distrito Federal\\nsell,house,3600000.0,3568279.4,189716.32,219.0,235.0,15319.14894,http://cancun.properati.com.mx/hnpj_venta_casa_cancun,21.139086,-86.84964,Quintana Roo\\nsell,apartment,4395000.0,4356274.3,231612.0,0.0,100.0,43950.0,http://alvaro-obregon.properati.com.mx/o6qc_venta_departamento_alvaro-obregon_guizar-guizar-promotores-inmobiliarios,19.33923,-99.218987,Distrito Federal\\nsell,apartment,2750000.0,2725768.82,144922.18,0.0,64.0,42968.75,http://cuajimalpa-de-morelos.properati.com.mx/hxyy_venta_departamento_cuajimalpa-de-morelos,19.392937,-99.263313,Distrito Federal\\nsell,apartment,160000.0,3009360.0,160000.0,0.0,125.0,1280.0,http://cancun.properati.com.mx/bqyw_venta_departamento_cancun,21.1394428301,-86.8321689963,Quintana Roo\\nsell,apartment,3620000.0,3588103.18,190770.3,68.0,68.0,53235.29412,http://benito-juarez.properati.com.mx/h07l_venta_departamento_benito-juarez,19.3872626,-99.1754024,Distrito Federal\\nsell,apartment,219199.0,4122804.39,219199.0,143.0,143.0,1532.86014,http://tulum.properati.com.mx/j4oy_venta_departamento_tulum,20.2114185,-87.4653502,Quintana Roo\\nsell,apartment,5904800.0,5852771.09,311176.92,88.0,88.0,67100.0,http://cuajimalpa-de-morelos.properati.com.mx/bwqr_venta_departamento_cuajimalpa-de-morelos,19.3582744,-99.2723517,Distrito Federal\\nsell,apartment,1450000.0,27272325.0,1450000.0,0.0,447.0,3243.847875,http://miguel-hidalgo-df.properati.com.mx/p01r_venta_departamento_miguel-hidalgo_viva-houses-bienes-raices-sa-de-cv,19.401079,-99.24807,Distrito Federal\\nsell,house,7900000.0,7830390.83,416321.92,0.0,260.0,30384.61538,http://cuajimalpa-de-morelos.properati.com.mx/pzvw_venta_casa_cuajimalpa-de-morelos_fernandez-castello-bienes-raices,19.364737,-99.282021,Distrito Federal\\nsell,apartment,11800000.0,11696026.97,621847.94,0.0,241.0,48962.6556,http://cuajimalpa-de-morelos.properati.com.mx/nyob_venta_departamento_cuajimalpa-de-morelos_diamond-house-bienes-raices-mazal-consultores-sc,19.3631419,-99.2880597,Distrito Federal\\nsell,house,1300000.0,1288239.68,68492.42,126.0,100.0,13000.0,http://cancun.properati.com.mx/j50j_venta_casa_cancun,21.1773904,-86.81798,Quintana Roo\\nsell,house,435000.0,8181697.5,435000.0,312.0,110.0,3954.545455,http://playa-del-carmen.properati.com.mx/c22b_venta_casa_playa-del-carmen,20.6171200028,-87.0826148987,Quintana Roo\\nsell,apartment,165000.0,3103402.5,165000.0,220.0,220.0,750.0,http://playa-del-carmen.properati.com.mx/byro_venta_departamento_playa-del-carmen,20.633865501,-87.0771012828,Quintana Roo\\nsell,apartment,8450000.0,8373558.87,445200.78,0.0,159.0,53144.65409,http://tlalpan.properati.com.mx/l1y5_venta_departamento_tlalpan_redhabitat-servicios-inmobiliarios-profesionales-s-a-de-c-v,19.3038226746,-99.2213702202,Distrito Federal\\nsell,apartment,2156110.0,2137111.86,113624.79,100.0,100.0,21561.1,http://benito-juarez.properati.com.mx/ijss_venta_departamento_benito-juarez,19.3906898041,-99.1795009375,Distrito Federal\\nsell,house,4000000.0,3964754.87,210795.91,200.0,280.0,14285.71429,http://gustavo-a-madero.properati.com.mx/o1ng_venta_casa_gustavo-a-madero_century-21-movisa,19.4612738,-99.1214045,Distrito Federal\\nsell,apartment,5460000.0,5411890.45,287736.42,165.0,165.0,33090.90909,http://alvaro-obregon.properati.com.mx/ga2z_venta_departamento_alvaro-obregon,19.334220844,-99.2409738153,Distrito Federal\\nsell,apartment,6300000.0,6244488.95,332003.56,300.0,300.0,21000.0,http://cancun.properati.com.mx/ctwa_venta_departamento_cancun,21.1703857634,-86.8150269985,Quintana Roo\\nsell,house,225000.0,4231912.5,225000.0,100.0,100.0,2250.0,http://cancun.properati.com.mx/n67f_venta_casa_cancun_5-realty,21.1363237,-86.7681794,Quintana Roo\\nsell,store,3100000.0,3071956.38,163328.09,135.0,469.0,6609.808102,http://cuauhtemoc.properati.com.mx/azts_venta_local_cuauhtemoc,19.4356338,-99.1495107,Distrito Federal\\nsell,house,1500000.0,28212750.0,1500000.0,7500.0,600.0,2500.0,http://cancun.properati.com.mx/d621_venta_casa_cancun,21.082655,-86.857162,Quintana Roo\\nsell,apartment,4800000.0,4757705.81,252955.09,0.0,118.0,40677.9661,http://cancun.properati.com.mx/ob6e_venta_departamento_cancun_inter-brokers-business-realty,21.129547,-86.817017,Quintana Roo\\nsell,apartment,2950000.0,55485075.0,2950000.0,0.0,795.0,3710.691824,http://cuajimalpa-de-morelos.properati.com.mx/d5mf_venta_departamento_cuajimalpa-de-morelos,19.382275,-99.270241,Distrito Federal\\nsell,house,3500000.0,65829750.0,3500000.0,900.0,1000.0,3500.0,http://cancun.properati.com.mx/l9p0_venta_casa_cancun_imc-inmobiliaria-cancun,21.129547,-86.817017,Quintana Roo\\nsell,apartment,1500000.0,28212750.0,1500000.0,316.0,316.0,4746.835443,http://bosque-de-las-lomas.properati.com.mx/ndzb_venta_departamento_bosque-de-las-lomas_match-inmobiliario,19.3942860307,-99.264868657,Distrito Federal\\nsell,house,7300000.0,7235677.72,384702.54,670.0,480.0,15208.33333,http://cancun.properati.com.mx/eomd_venta_casa_cancun,21.161908,-86.8515279,Quintana Roo\\nsell,apartment,3880000.0,3845812.17,204472.03,100.0,100.0,38800.0,http://miguel-hidalgo-df.properati.com.mx/r8c2_venta_departamento_miguel-hidalgo_sebra-bienes-raices-s-a-de-c-v,19.400249,-99.177444,Distrito Federal\\nsell,house,595000.0,11191057.5,595000.0,324.0,341.0,1744.868035,http://puerto-morelos.properati.com.mx/epxu_venta_casa_puerto-morelos,20.8485049,-86.8767656,Quintana Roo\\nsell,apartment,169000.0,3178636.5,169000.0,100.0,109.0,1550.458716,http://tulum.properati.com.mx/dfr5_venta_departamento_tulum,20.2002453173,-87.4502599239,Quintana Roo\\nsell,apartment,5000000.0,4954768.48,263432.41,110.0,110.0,45454.54545,http://alvaro-obregon.properati.com.mx/honh_venta_departamento_alvaro-obregon,19.3627249,-99.1755287,Distrito Federal\\nsell,house,4200000.0,4162992.51,221335.7,235.0,200.0,21000.0,http://tlalpan.properati.com.mx/cvu6_venta_casa_tlalpan,19.301271,-99.139389,Distrito Federal\\nsell,apartment,180000.0,3385530.0,180000.0,118.0,118.0,1525.423729,http://playa-del-carmen-centro.properati.com.mx/c89q_venta_departamento_playa-del-carmen-centro,20.6360193359,-87.0716017485,Solidaridad\\nsell,house,5400000.0,5352419.1,284574.48,900.0,300.0,18000.0,http://alvaro-obregon.properati.com.mx/cu3q_venta_casa_alvaro-obregon,19.3605334,-99.2267067,Distrito Federal\\nsell,apartment,7900000.0,7830390.83,416321.92,134.0,134.0,58955.22388,http://benito-juarez.properati.com.mx/pxlq_venta_departamento_benito-juarez_quality-uribe,19.3648588111,-99.1634988785,Distrito Federal\\nsell,apartment,965900.0,957389.13,50901.94,0.0,71.0,13604.22535,http://coyoacan.properati.com.mx/r79k_venta_departamento_coyoacan_bienes-raices-h-a-h-n-y-asociados-s-a-de-c-v,19.335419,-99.119331,Distrito Federal\\nsell,apartment,1902000.0,1884793.95,100209.69,0.0,67.0,28388.0597,http://azcapotzalco.properati.com.mx/iatf_venta_departamento_azcapotzalco,19.471135,-99.1595701,Distrito Federal\\nsell,apartment,2595000.0,2642043.53,140470.72,82.0,79.0,32848.10127,http://benito-juarez.properati.com.mx/mwou_venta_departamento_benito-juarez_ac-bienes-raices,19.3638234,-99.1444714,Distrito Federal\\nsell,apartment,3900000.0,3865635.95,205526.01,0.0,88.0,44318.18182,http://benito-juarez.properati.com.mx/eyhd_venta_departamento_benito-juarez,19.384622452,-99.1519181058,Distrito Federal\\nsell,house,225000.0,4231912.5,225000.0,100.0,80.0,2812.5,http://cancun.properati.com.mx/n5rx_venta_casa_cancun_cogam-bienes-raices,21.1363237,-86.7681794,Quintana Roo\\nsell,apartment,2862800.0,2836902.23,150830.86,0.0,78.0,36702.5641,http://benito-juarez.properati.com.mx/oxo1_venta_departamento_benito-juarez_capis-real-estate_clg,19.364891,-99.148384,Distrito Federal\\nsell,house,4300000.0,4262111.42,226605.6,167.0,191.0,22513.08901,http://tlalpan.properati.com.mx/oz3k_venta_casa_tlalpan_inmobiliaria-eti,19.3018592404,-99.1369248927,Distrito Federal\\nsell,apartment,5900000.0,5848013.48,310923.97,210.0,210.0,28095.2381,http://cancun.properati.com.mx/kqo8_venta_departamento_cancun_smart-choice-real-estate,21.203037,-86.806343,Quintana Roo\\nsell,apartment,3400000.0,3369242.59,179134.04,0.0,64.0,53125.0,http://alvaro-obregon.properati.com.mx/optb_venta_departamento_alvaro-obregon_diamond-house-bienes-raices-mazal-consultores-sc,19.3862785,-99.24329,Distrito Federal\\nsell,house,1500000.0,28212750.0,1500000.0,7500.0,675.0,2222.222222,http://cancun.properati.com.mx/bxq2_venta_casa_cancun,21.158964,-86.845937,Quintana Roo\\nsell,apartment,11943600.0,11838361.61,629415.51,148.0,148.0,80700.0,http://cuauhtemoc.properati.com.mx/l9gs_venta_departamento_cuauhtemoc_bina,19.4080873559,-99.1828288883,Distrito Federal\\nsell,apartment,10150000.0,10060565.46,534894.62,438.0,438.0,23173.51598,http://miguel-hidalgo-df.properati.com.mx/gy9b_venta_departamento_miguel-hidalgo,19.401079,-99.24807,Distrito Federal\\nsell,apartment,4990000.0,4944859.03,262905.55,109.0,109.0,45779.81651,http://benito-juarez.properati.com.mx/nyhm_venta_departamento_benito-juarez_quality-uribe,19.39365,-99.14769,Distrito Federal\\nsell,house,8000000.0,7927629.83,421491.87,536.0,450.0,17777.77778,http://cancun.properati.com.mx/qbu6_venta_casa_cancun_century-21-caribbean-paradise,21.1070511,-86.8468159,Quintana Roo\\nsell,house,7500000.0,7432152.81,395148.62,500.0,400.0,18750.0,http://tlalpan.properati.com.mx/ip24_venta_casa_tlalpan,19.2931366,-99.1604902,Distrito Federal\\nsell,house,2000000.0,37617000.0,2000000.0,0.0,300.0,6666.666667,http://playa-del-carmen-centro.properati.com.mx/d4p2_venta_casa_playa-del-carmen-centro,20.626583,-87.078659,Solidaridad\\nsell,apartment,680000.0,674008.24,35835.3,47.0,47.0,14468.08511,http://venustiano-carranza.properati.com.mx/mae1_venta_departamento_venustiano-carranza_alfa-inmobiliaria_ah1,19.4306069,-99.0949899,Distrito Federal\\nsell,store,960000.0,951315.49,50579.02,160.0,160.0,6000.0,http://cancun.properati.com.mx/b9j4_venta_local_cancun,21.1805502434,-86.8347787857,Quintana Roo\\nsell,house,2750000.0,2725122.75,144887.83,153.0,150.0,18333.33333,http://iztapalapa.properati.com.mx/n4v8_venta_casa_iztapalapa_quality-hernandez,19.353086,-99.0982879,Distrito Federal\\nsell,apartment,2475000.0,46551037.5,2475000.0,0.0,545.0,4541.284404,http://cancun.properati.com.mx/paw1_venta_departamento_cancun_imc-inmobiliaria-cancun,21.129547,-86.817017,Quintana Roo\\nsell,apartment,2800000.0,2775328.27,147557.13,0.0,80.0,35000.0,http://cuajimalpa-de-morelos.properati.com.mx/hy1q_venta_departamento_cuajimalpa-de-morelos,19.3499358,-99.2906864,Distrito Federal\\nsell,house,34900000.0,34592486.55,1839194.33,1000.0,1000.0,34900.0,http://alvaro-obregon.properati.com.mx/kqag_venta_casa_alvaro-obregon_infinity-bienes-raices,19.3172544,-99.2037972,Distrito Federal\\nsell,apartment,1752740.0,1737296.0,92367.6,64.0,64.0,27386.5625,http://benito-juarez.properati.com.mx/ik1v_venta_departamento_benito-juarez,19.3905245,-99.1797506,Distrito Federal\\nsell,apartment,1998500.0,1980890.53,105318.9,0.0,64.0,31226.5625,http://benito-juarez.properati.com.mx/icy1_venta_departamento_benito-juarez,19.3704998,-99.1393889,Distrito Federal\\nsell,apartment,158000.0,2971743.0,158000.0,0.0,75.0,2106.666667,http://playa-del-carmen.properati.com.mx/b5i3_venta_departamento_playa-del-carmen,20.6152723186,-87.0927214622,Quintana Roo\\nsell,house,950000.0,941629.12,50064.02,160.0,156.0,6089.74359,http://alvaro-obregon.properati.com.mx/dn4z_venta_casa_alvaro-obregon,19.3607916,-99.2366437,Distrito Federal\\nsell,apartment,277227.0,274784.09,14609.57,15.0,44.0,6300.613636,http://iztapalapa.properati.com.mx/cd5k_venta_departamento_iztapalapa,19.342083,-99.0532159,Distrito Federal\\nsell,house,650000.0,12225525.0,650000.0,620.0,450.0,1444.444444,http://cancun.properati.com.mx/b5oa_venta_casa_cancun,21.1067068288,-86.8398427963,Quintana Roo\\nsell,house,1760000.0,1744492.13,92750.2,184.0,160.0,11000.0,http://cancun.properati.com.mx/pjzc_venta_casa_cancun_smart-home-cancun-real-state-company,21.1325605,-86.8590473,Quintana Roo\\nsell,house,10500000.0,10407481.65,553339.27,1700.0,479.0,21920.66806,http://xochimilco.properati.com.mx/c1rz_venta_casa_xochimilco,19.2729101995,-99.1381273264,Distrito Federal\\nsell,house,600000.0,11285100.0,600000.0,867.0,580.0,1034.482759,http://cancun.properati.com.mx/lmp2_venta_casa_cancun_imc-inmobiliaria-cancun,21.0596353,-86.8501102,Quintana Roo\\nsell,apartment,2445818.0,2424267.06,128892.1,0.0,64.0,38215.90625,http://benito-juarez.properati.com.mx/pxq3_venta_departamento_benito-juarez_localty-s-a-de-c-v,19.3733676,-99.1337252,Distrito Federal\\nsell,apartment,1355000.0,1343060.62,71407.11,0.0,79.0,17151.89873,http://cancun.properati.com.mx/cne9_venta_departamento_cancun,21.1521234608,-86.8521635234,Quintana Roo\\nsell,apartment,2000000.0,1982377.34,105397.95,67.0,63.0,31746.03175,http://cuauhtemoc.properati.com.mx/kydz_venta_departamento_cuauhtemoc_inmobi-soluciones-inmobiliarias,19.4512044,-99.1536306,Distrito Federal\\nsell,apartment,750000.0,743391.47,39524.23,60.0,60.0,12500.0,http://cancun.properati.com.mx/kzc5_venta_departamento_cancun_inmuebles-cancun,21.129547,-86.817017,Quintana Roo\\nsell,apartment,460000.0,8651910.0,460000.0,139.0,105.0,4380.952381,http://playa-del-carmen.properati.com.mx/jh4l_venta_departamento_playa-del-carmen,20.6334382037,-87.067412138,Quintana Roo\\nsell,house,300749.0,5656637.56,300749.0,903.0,154.0,1952.915584,http://puerto-morelos.properati.com.mx/p4ka_venta_casa_puerto-morelos_jpm-realestate,20.9134618316,-86.8745183945,Quintana Roo\\nsell,apartment,185000.0,3479572.5,185000.0,122.0,122.0,1516.393443,http://playa-del-carmen-playa-del-carmen.properati.com.mx/oa_venta_apartamento_playa-del-carmen,20.635482,-87.070345,Solidaridad\\nsell,apartment,5500000.0,5451537.83,289844.37,94.0,94.0,58510.6383,http://miguel-hidalgo-df.properati.com.mx/c3ce_venta_departamento_miguel-hidalgo,19.4380266,-99.1885632,Distrito Federal\\nsell,apartment,750000.0,743391.47,39524.23,50.0,50.0,15000.0,http://venustiano-carranza.properati.com.mx/r5yw_venta_departamento_venustiano-carranza_jj-arquitectura-especial-sa-de-cv,19.452503,-99.120018,Distrito Federal\\nsell,apartment,5100000.0,5055062.36,268764.78,135.0,135.0,37777.77778,http://benito-juarez.properati.com.mx/oxyp_venta_departamento_benito-juarez_micasapropia-inmobiliaria,19.394073,-99.153915,Distrito Federal\\nsell,apartment,775000.0,14576587.5,775000.0,0.0,275.0,2818.181818,http://cancun.properati.com.mx/b5zk_venta_departamento_cancun,21.129547,-86.817017,Quintana Roo\\nsell,apartment,7200000.0,7134866.79,379342.68,273.0,273.0,26373.62637,http://la-magdalena-contreras.properati.com.mx/mmoj_venta_departamento_la-magdalena-contreras_quality-360g,19.3066442,-99.210077,Distrito Federal\\nsell,apartment,3200000.0,3171803.93,168636.73,0.0,78.0,41025.64103,http://cuajimalpa-de-morelos.properati.com.mx/hi3t_venta_departamento_cuajimalpa-de-morelos,19.3539321,-99.291726,Distrito Federal\\nsell,house,700000.0,693667.44,36880.53,140.0,140.0,5000.0,http://cancun.properati.com.mx/ms9r_venta_casa_cancun_smart-home-cancun-real-state-company,21.1349669,-86.8684529,Quintana Roo\\nsell,house,5450000.0,5401978.56,287209.43,177.0,391.0,13938.61893,http://prados-de-coyoacan.properati.com.mx/pzew_venta_casa_prados-de-coyoacan_inmobiliaria-arsa,19.3178194,-99.1324714,Distrito Federal\\nsell,apartment,680000.0,12789780.0,680000.0,0.0,410.0,1658.536585,http://cuajimalpa-de-morelos.properati.com.mx/bd9p_venta_departamento_cuajimalpa-de-morelos,19.390415,-99.254997,Distrito Federal\\nsell,house,480000.0,9028080.0,480000.0,451.0,245.0,1959.183673,http://playa-del-carmen.properati.com.mx/bvwt_venta_casa_playa-del-carmen,20.613375,-87.089897,Quintana Roo\\n'}"
            ]
          },
          "metadata": {},
          "execution_count": 2
        }
      ],
      "source": [
        "from google.colab import files\n",
        "files.upload()"
      ]
    },
    {
      "cell_type": "markdown",
      "source": [
        "CREATING A WRANGLE FUNCTION"
      ],
      "metadata": {
        "id": "lGYqKbLA0g_n"
      }
    },
    {
      "cell_type": "code",
      "source": [
        "def wrangle(filepath):\n",
        "  df = pd.read_csv(filepath)\n",
        "  #Drop irrelevant columns\n",
        "  df.drop(columns=[\"price\", \"price_aprox_local_currency\", \"surface_total_in_m2\", \"price_per_m2\"], inplace=True)\n",
        "  #Create a new column \"price_per_m2\"\n",
        "  df[\"price_per_m2\"] = df[\"price_aprox_usd\"] / df[\"surface_covered_in_m2\"]\n",
        "  #Creating a Mask that shows states only in 'Distrito Federal'\n",
        "  mask_state = df[\"State\"].str.contains(\"Distrito Federal\")\n",
        "  #Creating a mask where the property type is apartments only\n",
        "  mask_apt = df[\"property_type\"] == \"apartment\"\n",
        "  #Create a mask where 'price_aprox_usd' < 400_000\n",
        "  mask_price = df[\"price_aprox_usd\"] < 700_000\n",
        "  #Removing Outliers from \"surface_covered_in_m2\" column\n",
        "  low, high = df[\"surface_covered_in_m2\"].quantile([0.1, 0.9])\n",
        "  mask_area = df[\"surface_covered_in_m2\"].between(low, high)\n",
        "\n",
        "\n",
        "  df = df[mask_state & mask_apt & mask_price & mask_area]\n",
        "\n",
        "  #Reset the index after filtering (cleaner indexing)\n",
        "  df.reset_index(drop=True, inplace=True)\n",
        "\n",
        "  return df"
      ],
      "metadata": {
        "id": "rupnxNQnnhre"
      },
      "execution_count": 3,
      "outputs": []
    },
    {
      "cell_type": "markdown",
      "source": [
        "PREPARE DATA"
      ],
      "metadata": {
        "id": "Ovp-qUbO0rg3"
      }
    },
    {
      "cell_type": "markdown",
      "source": [
        "IMPORT"
      ],
      "metadata": {
        "id": "Bd4Njz5q00hz"
      }
    },
    {
      "cell_type": "code",
      "source": [
        "df = wrangle(\"cleaned_property_data.csv\")\n",
        "print(df.shape)\n",
        "df.head()"
      ],
      "metadata": {
        "colab": {
          "base_uri": "https://localhost:8080/",
          "height": 380
        },
        "id": "4U9OVZXdn0Um",
        "outputId": "a0e67ccf-8555-42cb-9c34-196108fc4264"
      },
      "execution_count": 4,
      "outputs": [
        {
          "output_type": "stream",
          "name": "stdout",
          "text": [
            "(289, 9)\n"
          ]
        },
        {
          "output_type": "execute_result",
          "data": {
            "text/plain": [
              "  operation property_type  price_aprox_usd  surface_covered_in_m2  \\\n",
              "0      sell     apartment        172446.86                   83.0   \n",
              "1      sell     apartment        553339.27                  320.0   \n",
              "2      sell     apartment        492618.62                  159.0   \n",
              "3      sell     apartment        155425.12                   73.0   \n",
              "4      sell     apartment        258224.99                   84.0   \n",
              "\n",
              "                                       properati_url        lat        lon  \\\n",
              "0  http://benito-juarez.properati.com.mx/qc0v_ven...  19.379406 -99.159145   \n",
              "1  http://cuajimalpa-de-morelos.properati.com.mx/...  19.390415 -99.254997   \n",
              "2  http://benito-juarez.properati.com.mx/duj8_ven...  19.375395 -99.165759   \n",
              "3  http://benito-juarez.properati.com.mx/or2f_ven...  19.394073 -99.153915   \n",
              "4  http://cuauhtemoc.properati.com.mx/j9by_venta_...  19.416967 -99.165850   \n",
              "\n",
              "              State  price_per_m2  \n",
              "0  Distrito Federal   2077.673012  \n",
              "1  Distrito Federal   1729.185219  \n",
              "2  Distrito Federal   3098.230314  \n",
              "3  Distrito Federal   2129.111233  \n",
              "4  Distrito Federal   3074.107024  "
            ],
            "text/html": [
              "\n",
              "  <div id=\"df-14654b27-5a95-4eb0-a29e-bbc59420195d\" class=\"colab-df-container\">\n",
              "    <div>\n",
              "<style scoped>\n",
              "    .dataframe tbody tr th:only-of-type {\n",
              "        vertical-align: middle;\n",
              "    }\n",
              "\n",
              "    .dataframe tbody tr th {\n",
              "        vertical-align: top;\n",
              "    }\n",
              "\n",
              "    .dataframe thead th {\n",
              "        text-align: right;\n",
              "    }\n",
              "</style>\n",
              "<table border=\"1\" class=\"dataframe\">\n",
              "  <thead>\n",
              "    <tr style=\"text-align: right;\">\n",
              "      <th></th>\n",
              "      <th>operation</th>\n",
              "      <th>property_type</th>\n",
              "      <th>price_aprox_usd</th>\n",
              "      <th>surface_covered_in_m2</th>\n",
              "      <th>properati_url</th>\n",
              "      <th>lat</th>\n",
              "      <th>lon</th>\n",
              "      <th>State</th>\n",
              "      <th>price_per_m2</th>\n",
              "    </tr>\n",
              "  </thead>\n",
              "  <tbody>\n",
              "    <tr>\n",
              "      <th>0</th>\n",
              "      <td>sell</td>\n",
              "      <td>apartment</td>\n",
              "      <td>172446.86</td>\n",
              "      <td>83.0</td>\n",
              "      <td>http://benito-juarez.properati.com.mx/qc0v_ven...</td>\n",
              "      <td>19.379406</td>\n",
              "      <td>-99.159145</td>\n",
              "      <td>Distrito Federal</td>\n",
              "      <td>2077.673012</td>\n",
              "    </tr>\n",
              "    <tr>\n",
              "      <th>1</th>\n",
              "      <td>sell</td>\n",
              "      <td>apartment</td>\n",
              "      <td>553339.27</td>\n",
              "      <td>320.0</td>\n",
              "      <td>http://cuajimalpa-de-morelos.properati.com.mx/...</td>\n",
              "      <td>19.390415</td>\n",
              "      <td>-99.254997</td>\n",
              "      <td>Distrito Federal</td>\n",
              "      <td>1729.185219</td>\n",
              "    </tr>\n",
              "    <tr>\n",
              "      <th>2</th>\n",
              "      <td>sell</td>\n",
              "      <td>apartment</td>\n",
              "      <td>492618.62</td>\n",
              "      <td>159.0</td>\n",
              "      <td>http://benito-juarez.properati.com.mx/duj8_ven...</td>\n",
              "      <td>19.375395</td>\n",
              "      <td>-99.165759</td>\n",
              "      <td>Distrito Federal</td>\n",
              "      <td>3098.230314</td>\n",
              "    </tr>\n",
              "    <tr>\n",
              "      <th>3</th>\n",
              "      <td>sell</td>\n",
              "      <td>apartment</td>\n",
              "      <td>155425.12</td>\n",
              "      <td>73.0</td>\n",
              "      <td>http://benito-juarez.properati.com.mx/or2f_ven...</td>\n",
              "      <td>19.394073</td>\n",
              "      <td>-99.153915</td>\n",
              "      <td>Distrito Federal</td>\n",
              "      <td>2129.111233</td>\n",
              "    </tr>\n",
              "    <tr>\n",
              "      <th>4</th>\n",
              "      <td>sell</td>\n",
              "      <td>apartment</td>\n",
              "      <td>258224.99</td>\n",
              "      <td>84.0</td>\n",
              "      <td>http://cuauhtemoc.properati.com.mx/j9by_venta_...</td>\n",
              "      <td>19.416967</td>\n",
              "      <td>-99.165850</td>\n",
              "      <td>Distrito Federal</td>\n",
              "      <td>3074.107024</td>\n",
              "    </tr>\n",
              "  </tbody>\n",
              "</table>\n",
              "</div>\n",
              "    <div class=\"colab-df-buttons\">\n",
              "\n",
              "  <div class=\"colab-df-container\">\n",
              "    <button class=\"colab-df-convert\" onclick=\"convertToInteractive('df-14654b27-5a95-4eb0-a29e-bbc59420195d')\"\n",
              "            title=\"Convert this dataframe to an interactive table.\"\n",
              "            style=\"display:none;\">\n",
              "\n",
              "  <svg xmlns=\"http://www.w3.org/2000/svg\" height=\"24px\" viewBox=\"0 -960 960 960\">\n",
              "    <path d=\"M120-120v-720h720v720H120Zm60-500h600v-160H180v160Zm220 220h160v-160H400v160Zm0 220h160v-160H400v160ZM180-400h160v-160H180v160Zm440 0h160v-160H620v160ZM180-180h160v-160H180v160Zm440 0h160v-160H620v160Z\"/>\n",
              "  </svg>\n",
              "    </button>\n",
              "\n",
              "  <style>\n",
              "    .colab-df-container {\n",
              "      display:flex;\n",
              "      gap: 12px;\n",
              "    }\n",
              "\n",
              "    .colab-df-convert {\n",
              "      background-color: #E8F0FE;\n",
              "      border: none;\n",
              "      border-radius: 50%;\n",
              "      cursor: pointer;\n",
              "      display: none;\n",
              "      fill: #1967D2;\n",
              "      height: 32px;\n",
              "      padding: 0 0 0 0;\n",
              "      width: 32px;\n",
              "    }\n",
              "\n",
              "    .colab-df-convert:hover {\n",
              "      background-color: #E2EBFA;\n",
              "      box-shadow: 0px 1px 2px rgba(60, 64, 67, 0.3), 0px 1px 3px 1px rgba(60, 64, 67, 0.15);\n",
              "      fill: #174EA6;\n",
              "    }\n",
              "\n",
              "    .colab-df-buttons div {\n",
              "      margin-bottom: 4px;\n",
              "    }\n",
              "\n",
              "    [theme=dark] .colab-df-convert {\n",
              "      background-color: #3B4455;\n",
              "      fill: #D2E3FC;\n",
              "    }\n",
              "\n",
              "    [theme=dark] .colab-df-convert:hover {\n",
              "      background-color: #434B5C;\n",
              "      box-shadow: 0px 1px 3px 1px rgba(0, 0, 0, 0.15);\n",
              "      filter: drop-shadow(0px 1px 2px rgba(0, 0, 0, 0.3));\n",
              "      fill: #FFFFFF;\n",
              "    }\n",
              "  </style>\n",
              "\n",
              "    <script>\n",
              "      const buttonEl =\n",
              "        document.querySelector('#df-14654b27-5a95-4eb0-a29e-bbc59420195d button.colab-df-convert');\n",
              "      buttonEl.style.display =\n",
              "        google.colab.kernel.accessAllowed ? 'block' : 'none';\n",
              "\n",
              "      async function convertToInteractive(key) {\n",
              "        const element = document.querySelector('#df-14654b27-5a95-4eb0-a29e-bbc59420195d');\n",
              "        const dataTable =\n",
              "          await google.colab.kernel.invokeFunction('convertToInteractive',\n",
              "                                                    [key], {});\n",
              "        if (!dataTable) return;\n",
              "\n",
              "        const docLinkHtml = 'Like what you see? Visit the ' +\n",
              "          '<a target=\"_blank\" href=https://colab.research.google.com/notebooks/data_table.ipynb>data table notebook</a>'\n",
              "          + ' to learn more about interactive tables.';\n",
              "        element.innerHTML = '';\n",
              "        dataTable['output_type'] = 'display_data';\n",
              "        await google.colab.output.renderOutput(dataTable, element);\n",
              "        const docLink = document.createElement('div');\n",
              "        docLink.innerHTML = docLinkHtml;\n",
              "        element.appendChild(docLink);\n",
              "      }\n",
              "    </script>\n",
              "  </div>\n",
              "\n",
              "\n",
              "    <div id=\"df-8967acb8-fbc7-444c-86a8-025d01a90021\">\n",
              "      <button class=\"colab-df-quickchart\" onclick=\"quickchart('df-8967acb8-fbc7-444c-86a8-025d01a90021')\"\n",
              "                title=\"Suggest charts\"\n",
              "                style=\"display:none;\">\n",
              "\n",
              "<svg xmlns=\"http://www.w3.org/2000/svg\" height=\"24px\"viewBox=\"0 0 24 24\"\n",
              "     width=\"24px\">\n",
              "    <g>\n",
              "        <path d=\"M19 3H5c-1.1 0-2 .9-2 2v14c0 1.1.9 2 2 2h14c1.1 0 2-.9 2-2V5c0-1.1-.9-2-2-2zM9 17H7v-7h2v7zm4 0h-2V7h2v10zm4 0h-2v-4h2v4z\"/>\n",
              "    </g>\n",
              "</svg>\n",
              "      </button>\n",
              "\n",
              "<style>\n",
              "  .colab-df-quickchart {\n",
              "      --bg-color: #E8F0FE;\n",
              "      --fill-color: #1967D2;\n",
              "      --hover-bg-color: #E2EBFA;\n",
              "      --hover-fill-color: #174EA6;\n",
              "      --disabled-fill-color: #AAA;\n",
              "      --disabled-bg-color: #DDD;\n",
              "  }\n",
              "\n",
              "  [theme=dark] .colab-df-quickchart {\n",
              "      --bg-color: #3B4455;\n",
              "      --fill-color: #D2E3FC;\n",
              "      --hover-bg-color: #434B5C;\n",
              "      --hover-fill-color: #FFFFFF;\n",
              "      --disabled-bg-color: #3B4455;\n",
              "      --disabled-fill-color: #666;\n",
              "  }\n",
              "\n",
              "  .colab-df-quickchart {\n",
              "    background-color: var(--bg-color);\n",
              "    border: none;\n",
              "    border-radius: 50%;\n",
              "    cursor: pointer;\n",
              "    display: none;\n",
              "    fill: var(--fill-color);\n",
              "    height: 32px;\n",
              "    padding: 0;\n",
              "    width: 32px;\n",
              "  }\n",
              "\n",
              "  .colab-df-quickchart:hover {\n",
              "    background-color: var(--hover-bg-color);\n",
              "    box-shadow: 0 1px 2px rgba(60, 64, 67, 0.3), 0 1px 3px 1px rgba(60, 64, 67, 0.15);\n",
              "    fill: var(--button-hover-fill-color);\n",
              "  }\n",
              "\n",
              "  .colab-df-quickchart-complete:disabled,\n",
              "  .colab-df-quickchart-complete:disabled:hover {\n",
              "    background-color: var(--disabled-bg-color);\n",
              "    fill: var(--disabled-fill-color);\n",
              "    box-shadow: none;\n",
              "  }\n",
              "\n",
              "  .colab-df-spinner {\n",
              "    border: 2px solid var(--fill-color);\n",
              "    border-color: transparent;\n",
              "    border-bottom-color: var(--fill-color);\n",
              "    animation:\n",
              "      spin 1s steps(1) infinite;\n",
              "  }\n",
              "\n",
              "  @keyframes spin {\n",
              "    0% {\n",
              "      border-color: transparent;\n",
              "      border-bottom-color: var(--fill-color);\n",
              "      border-left-color: var(--fill-color);\n",
              "    }\n",
              "    20% {\n",
              "      border-color: transparent;\n",
              "      border-left-color: var(--fill-color);\n",
              "      border-top-color: var(--fill-color);\n",
              "    }\n",
              "    30% {\n",
              "      border-color: transparent;\n",
              "      border-left-color: var(--fill-color);\n",
              "      border-top-color: var(--fill-color);\n",
              "      border-right-color: var(--fill-color);\n",
              "    }\n",
              "    40% {\n",
              "      border-color: transparent;\n",
              "      border-right-color: var(--fill-color);\n",
              "      border-top-color: var(--fill-color);\n",
              "    }\n",
              "    60% {\n",
              "      border-color: transparent;\n",
              "      border-right-color: var(--fill-color);\n",
              "    }\n",
              "    80% {\n",
              "      border-color: transparent;\n",
              "      border-right-color: var(--fill-color);\n",
              "      border-bottom-color: var(--fill-color);\n",
              "    }\n",
              "    90% {\n",
              "      border-color: transparent;\n",
              "      border-bottom-color: var(--fill-color);\n",
              "    }\n",
              "  }\n",
              "</style>\n",
              "\n",
              "      <script>\n",
              "        async function quickchart(key) {\n",
              "          const quickchartButtonEl =\n",
              "            document.querySelector('#' + key + ' button');\n",
              "          quickchartButtonEl.disabled = true;  // To prevent multiple clicks.\n",
              "          quickchartButtonEl.classList.add('colab-df-spinner');\n",
              "          try {\n",
              "            const charts = await google.colab.kernel.invokeFunction(\n",
              "                'suggestCharts', [key], {});\n",
              "          } catch (error) {\n",
              "            console.error('Error during call to suggestCharts:', error);\n",
              "          }\n",
              "          quickchartButtonEl.classList.remove('colab-df-spinner');\n",
              "          quickchartButtonEl.classList.add('colab-df-quickchart-complete');\n",
              "        }\n",
              "        (() => {\n",
              "          let quickchartButtonEl =\n",
              "            document.querySelector('#df-8967acb8-fbc7-444c-86a8-025d01a90021 button');\n",
              "          quickchartButtonEl.style.display =\n",
              "            google.colab.kernel.accessAllowed ? 'block' : 'none';\n",
              "        })();\n",
              "      </script>\n",
              "    </div>\n",
              "\n",
              "    </div>\n",
              "  </div>\n"
            ],
            "application/vnd.google.colaboratory.intrinsic+json": {
              "type": "dataframe",
              "variable_name": "df",
              "summary": "{\n  \"name\": \"df\",\n  \"rows\": 289,\n  \"fields\": [\n    {\n      \"column\": \"operation\",\n      \"properties\": {\n        \"dtype\": \"category\",\n        \"num_unique_values\": 1,\n        \"samples\": [\n          \"sell\"\n        ],\n        \"semantic_type\": \"\",\n        \"description\": \"\"\n      }\n    },\n    {\n      \"column\": \"property_type\",\n      \"properties\": {\n        \"dtype\": \"category\",\n        \"num_unique_values\": 1,\n        \"samples\": [\n          \"apartment\"\n        ],\n        \"semantic_type\": \"\",\n        \"description\": \"\"\n      }\n    },\n    {\n      \"column\": \"price_aprox_usd\",\n      \"properties\": {\n        \"dtype\": \"number\",\n        \"std\": 165398.099604567,\n        \"min\": 28825.02,\n        \"max\": 685086.71,\n        \"num_unique_values\": 249,\n        \"samples\": [\n          520000.0\n        ],\n        \"semantic_type\": \"\",\n        \"description\": \"\"\n      }\n    },\n    {\n      \"column\": \"surface_covered_in_m2\",\n      \"properties\": {\n        \"dtype\": \"number\",\n        \"std\": 65.83198336402228,\n        \"min\": 62.0,\n        \"max\": 438.0,\n        \"num_unique_values\": 126,\n        \"samples\": [\n          285.0\n        ],\n        \"semantic_type\": \"\",\n        \"description\": \"\"\n      }\n    },\n    {\n      \"column\": \"properati_url\",\n      \"properties\": {\n        \"dtype\": \"string\",\n        \"num_unique_values\": 289,\n        \"samples\": [\n          \"http://coyoacan.properati.com.mx/jh83_venta_departamento_coyoacan\"\n        ],\n        \"semantic_type\": \"\",\n        \"description\": \"\"\n      }\n    },\n    {\n      \"column\": \"lat\",\n      \"properties\": {\n        \"dtype\": \"number\",\n        \"std\": 0.04641658126394525,\n        \"min\": 19.2672863,\n        \"max\": 19.552402,\n        \"num_unique_values\": 212,\n        \"samples\": [\n          19.371342\n        ],\n        \"semantic_type\": \"\",\n        \"description\": \"\"\n      }\n    },\n    {\n      \"column\": \"lon\",\n      \"properties\": {\n        \"dtype\": \"number\",\n        \"std\": 0.055674316753024006,\n        \"min\": -99.3014315,\n        \"max\": -99.0436467,\n        \"num_unique_values\": 205,\n        \"samples\": [\n          -99.1527773\n        ],\n        \"semantic_type\": \"\",\n        \"description\": \"\"\n      }\n    },\n    {\n      \"column\": \"State\",\n      \"properties\": {\n        \"dtype\": \"category\",\n        \"num_unique_values\": 1,\n        \"samples\": [\n          \"Distrito Federal\"\n        ],\n        \"semantic_type\": \"\",\n        \"description\": \"\"\n      }\n    },\n    {\n      \"column\": \"price_per_m2\",\n      \"properties\": {\n        \"dtype\": \"number\",\n        \"std\": 769.838283524121,\n        \"min\": 315.048152173913,\n        \"max\": 4303.749833333333,\n        \"num_unique_values\": 282,\n        \"samples\": [\n          2707.470366972477\n        ],\n        \"semantic_type\": \"\",\n        \"description\": \"\"\n      }\n    }\n  ]\n}"
            }
          },
          "metadata": {},
          "execution_count": 4
        }
      ]
    },
    {
      "cell_type": "markdown",
      "source": [
        "EXPLORE"
      ],
      "metadata": {
        "id": "_kEHtcLA1An4"
      }
    },
    {
      "cell_type": "markdown",
      "source": [
        "VISUALIZATION OF \"SURFACE_COVERED_IN_M2 COLUMN\""
      ],
      "metadata": {
        "id": "8FBmEGX8wi-_"
      }
    },
    {
      "cell_type": "code",
      "source": [
        "#Area Histogram\n",
        "df[\"surface_covered_in_m2\"].hist()\n",
        "plt.xlabel(\"Area M2\")\n",
        "plt.ylabel(\"Frequency\")\n",
        "plt.title(\"Area Histogram\");"
      ],
      "metadata": {
        "colab": {
          "base_uri": "https://localhost:8080/",
          "height": 472
        },
        "id": "eBgvzSxurpxl",
        "outputId": "8ce1ec0b-0024-40a5-c335-0c3309bcdf2b"
      },
      "execution_count": 5,
      "outputs": [
        {
          "output_type": "display_data",
          "data": {
            "text/plain": [
              "<Figure size 640x480 with 1 Axes>"
            ],
            "image/png": "[encoded data removed]"
          },
          "metadata": {}
        }
      ]
    },
    {
      "cell_type": "code",
      "source": [
        "df[\"surface_covered_in_m2\"].describe()"
      ],
      "metadata": {
        "colab": {
          "base_uri": "https://localhost:8080/",
          "height": 335
        },
        "id": "Ips1FVX9vWCM",
        "outputId": "0d65c9ca-3060-4f0a-bdd8-4982cfa208d5"
      },
      "execution_count": 6,
      "outputs": [
        {
          "output_type": "execute_result",
          "data": {
            "text/plain": [
              "count    289.000000\n",
              "mean     125.698962\n",
              "std       65.831983\n",
              "min       62.000000\n",
              "25%       78.000000\n",
              "50%      101.000000\n",
              "75%      156.000000\n",
              "max      438.000000\n",
              "Name: surface_covered_in_m2, dtype: float64"
            ],
            "text/html": [
              "<div>\n",
              "<style scoped>\n",
              "    .dataframe tbody tr th:only-of-type {\n",
              "        vertical-align: middle;\n",
              "    }\n",
              "\n",
              "    .dataframe tbody tr th {\n",
              "        vertical-align: top;\n",
              "    }\n",
              "\n",
              "    .dataframe thead th {\n",
              "        text-align: right;\n",
              "    }\n",
              "</style>\n",
              "<table border=\"1\" class=\"dataframe\">\n",
              "  <thead>\n",
              "    <tr style=\"text-align: right;\">\n",
              "      <th></th>\n",
              "      <th>surface_covered_in_m2</th>\n",
              "    </tr>\n",
              "  </thead>\n",
              "  <tbody>\n",
              "    <tr>\n",
              "      <th>count</th>\n",
              "      <td>289.000000</td>\n",
              "    </tr>\n",
              "    <tr>\n",
              "      <th>mean</th>\n",
              "      <td>125.698962</td>\n",
              "    </tr>\n",
              "    <tr>\n",
              "      <th>std</th>\n",
              "      <td>65.831983</td>\n",
              "    </tr>\n",
              "    <tr>\n",
              "      <th>min</th>\n",
              "      <td>62.000000</td>\n",
              "    </tr>\n",
              "    <tr>\n",
              "      <th>25%</th>\n",
              "      <td>78.000000</td>\n",
              "    </tr>\n",
              "    <tr>\n",
              "      <th>50%</th>\n",
              "      <td>101.000000</td>\n",
              "    </tr>\n",
              "    <tr>\n",
              "      <th>75%</th>\n",
              "      <td>156.000000</td>\n",
              "    </tr>\n",
              "    <tr>\n",
              "      <th>max</th>\n",
              "      <td>438.000000</td>\n",
              "    </tr>\n",
              "  </tbody>\n",
              "</table>\n",
              "</div><br><label><b>dtype:</b> float64</label>"
            ]
          },
          "metadata": {},
          "execution_count": 6
        }
      ]
    },
    {
      "cell_type": "markdown",
      "source": [
        "The Histogram is highly skewed to the right, thus suggesting there are outliers in the dataset which might affect model perfomance. Also with the area statistics where the mean(112.5333), and the max being 1118 proves there are outliers. I will remove those outliers making sure all observations fall between 0.1 and 0.9 Quantiles"
      ],
      "metadata": {
        "id": "COZO5Lv_wyQR"
      }
    },
    {
      "cell_type": "markdown",
      "source": [
        " VISUALIZATION TO CHECK THE RELATIONSHIP BETWEEN APARTMENT PRICE AND SIZE"
      ],
      "metadata": {
        "id": "48_qSh7Y2DUo"
      }
    },
    {
      "cell_type": "code",
      "source": [
        "#Plot a Scatter Plot\n",
        "plt.scatter(x=df['surface_covered_in_m2'], y=df['price_aprox_usd'])\n",
        "plt.xlabel(\"Apartment Size\")\n",
        "plt.ylabel(\"Apartment Price\")\n",
        "plt.title(\"Apartment Price vs Apartment Shape\");"
      ],
      "metadata": {
        "colab": {
          "base_uri": "https://localhost:8080/",
          "height": 472
        },
        "id": "4wVv6WEjyDzq",
        "outputId": "013c73e0-3de0-4b2c-8d6f-13884ac71bde"
      },
      "execution_count": 7,
      "outputs": [
        {
          "output_type": "display_data",
          "data": {
            "text/plain": [
              "<Figure size 640x480 with 1 Axes>"
            ],
            "image/png": "[encoded data removed]"
          },
          "metadata": {}
        }
      ]
    },
    {
      "cell_type": "markdown",
      "source": [
        "From the above visualization, we can see that there is a positive correlation between apartment price and size, meaning that if we want to price an apartment, it would be good to include its size\n",
        "\n",
        "It shows that area does determine the price of an apartment."
      ],
      "metadata": {
        "id": "fvxnSUfV27F6"
      }
    },
    {
      "cell_type": "markdown",
      "source": [
        "Split Data : Feature Matrix"
      ],
      "metadata": {
        "id": "vVcgYtiA4BQI"
      }
    },
    {
      "cell_type": "markdown",
      "source": [
        "Training my model with only one feature, \"surface_covered_in_m2\""
      ],
      "metadata": {
        "id": "H_E5XfLf4g5l"
      }
    },
    {
      "cell_type": "code",
      "source": [
        "features = [\"surface_covered_in_m2\"]\n",
        "X_train = df[features]\n",
        "X_train.shape"
      ],
      "metadata": {
        "colab": {
          "base_uri": "https://localhost:8080/"
        },
        "id": "grSo0vmr2kdI",
        "outputId": "0964426e-1766-4fdc-d745-341f4fa7693c"
      },
      "execution_count": 8,
      "outputs": [
        {
          "output_type": "execute_result",
          "data": {
            "text/plain": [
              "(289, 1)"
            ]
          },
          "metadata": {},
          "execution_count": 8
        }
      ]
    },
    {
      "cell_type": "markdown",
      "source": [
        "Split Data: Target Vector"
      ],
      "metadata": {
        "id": "PQGkr4AB40dK"
      }
    },
    {
      "cell_type": "markdown",
      "source": [
        "Creating a Target Vector to train my model"
      ],
      "metadata": {
        "id": "9VkqIEpG45iO"
      }
    },
    {
      "cell_type": "code",
      "source": [
        "target = \"price_aprox_usd\"               #no listing it since it is a vector\n",
        "y_train = df[target]\n",
        "y_train.shape"
      ],
      "metadata": {
        "colab": {
          "base_uri": "https://localhost:8080/"
        },
        "id": "wgxA6K9t4eLi",
        "outputId": "554c10d4-fa84-4752-f76b-2aef22cfd6b5"
      },
      "execution_count": 9,
      "outputs": [
        {
          "output_type": "execute_result",
          "data": {
            "text/plain": [
              "(289,)"
            ]
          },
          "metadata": {},
          "execution_count": 9
        }
      ]
    },
    {
      "cell_type": "markdown",
      "source": [
        "I want to build a Model that will predict a continuous numerical value, that is, the price of an apartment.\n",
        "I want to fit a model that will predict a single output variable(y) as a linear function of a single input variable(X).\n",
        "This is a regression problem, a LinearRegression model will be the best.\n"
      ],
      "metadata": {
        "id": "HCJ19Mdj5gji"
      }
    },
    {
      "cell_type": "markdown",
      "source": [
        "BUILD MODEL"
      ],
      "metadata": {
        "id": "KZDriGMY6VUG"
      }
    },
    {
      "cell_type": "markdown",
      "source": [
        "Baseline"
      ],
      "metadata": {
        "id": "LMunnQuM6VQr"
      }
    },
    {
      "cell_type": "code",
      "source": [
        "y_mean = y_train.mean()\n",
        "y_mean"
      ],
      "metadata": {
        "colab": {
          "base_uri": "https://localhost:8080/"
        },
        "id": "FAcSLAeE4VC8",
        "outputId": "47fe909a-5d45-419c-9ab6-136c8e48d3b2"
      },
      "execution_count": 10,
      "outputs": [
        {
          "output_type": "execute_result",
          "data": {
            "text/plain": [
              "np.float64(248004.589550173)"
            ]
          },
          "metadata": {},
          "execution_count": 10
        }
      ]
    },
    {
      "cell_type": "markdown",
      "source": [
        "The above output shows the prediction that our dumb/naive model will make"
      ],
      "metadata": {
        "id": "_FIzgJg-6q8O"
      }
    },
    {
      "cell_type": "markdown",
      "source": [
        "Prediction List\n",
        "Generating a list that repeats the prediction for every observation in my dataset.\n",
        "It will contain the value of y_mean repeated so that it is the same length at y_train"
      ],
      "metadata": {
        "id": "QuRdKWO97bzd"
      }
    },
    {
      "cell_type": "code",
      "source": [
        "y_pred_baseline = [y_mean] * len(y_train)\n",
        "y_pred_baseline"
      ],
      "metadata": {
        "id": "Irh-lscK6pig"
      },
      "execution_count": null,
      "outputs": []
    },
    {
      "cell_type": "markdown",
      "source": [
        "Baseline : Scatter Plot & Line Plot"
      ],
      "metadata": {
        "id": "qI6_BHyH8KQf"
      }
    },
    {
      "cell_type": "code",
      "source": [
        "plt.plot (X_train[\"surface_covered_in_m2\"], y_pred_baseline, color=\"orange\", label = \"Baseline Model\")\n",
        "plt.scatter(X_train, y_train)\n",
        "plt.xlabel(\"Apartment Size [sq meters]\")\n",
        "plt.ylabel(\"Apartment Price\")\n",
        "plt.title(\"Price vs Area\")\n",
        "plt.legend();"
      ],
      "metadata": {
        "colab": {
          "base_uri": "https://localhost:8080/",
          "height": 472
        },
        "id": "xlXD4a8q8EBw",
        "outputId": "26f412c3-1963-45b5-875e-f29467aef9d2"
      },
      "execution_count": 12,
      "outputs": [
        {
          "output_type": "display_data",
          "data": {
            "text/plain": [
              "<Figure size 640x480 with 1 Axes>"
            ],
            "image/png": "[encoded data removed]"
          },
          "metadata": {}
        }
      ]
    },
    {
      "cell_type": "markdown",
      "source": [
        "This visualization shows the preciction of Apartment Prices our dumb/naive model will always make"
      ],
      "metadata": {
        "id": "PkbP_DSa9EPQ"
      }
    },
    {
      "cell_type": "markdown",
      "source": [
        "Baseline : Mean Absolute Error (MAE)\n",
        "\n",
        "Calculating y_pred_baseline mae to understand it better"
      ],
      "metadata": {
        "id": "XTAwyl6T9UG2"
      }
    },
    {
      "cell_type": "code",
      "source": [
        "mae_baseline = mean_absolute_error(y_train, y_pred_baseline)\n",
        "print(\"Mean apt prices:\", round(y_mean,2))\n",
        "print(\"Baseline mae:\", round(mae_baseline, 2))"
      ],
      "metadata": {
        "colab": {
          "base_uri": "https://localhost:8080/"
        },
        "id": "23h8OXah88_d",
        "outputId": "5226a7e1-0a00-4dd3-dabb-ad9ba1510d8e"
      },
      "execution_count": 13,
      "outputs": [
        {
          "output_type": "stream",
          "name": "stdout",
          "text": [
            "Mean apt prices: 248004.59\n",
            "Baseline mae: 134526.4\n"
          ]
        }
      ]
    },
    {
      "cell_type": "markdown",
      "source": [
        "The Output means that if we always predict that an apartment price is 248004.19 USD, our predictions would be off by an average of 113478.59 USD\n",
        "\n",
        "For my model to work, then the difference needs to be below 113478.59 USD for it to be useful"
      ],
      "metadata": {
        "id": "wqBjH5Vj-WUf"
      }
    },
    {
      "cell_type": "markdown",
      "source": [
        "ITERATE"
      ],
      "metadata": {
        "id": "HPwzkTw2_w4O"
      }
    },
    {
      "cell_type": "markdown",
      "source": [
        "Instantiate Model"
      ],
      "metadata": {
        "id": "HFi8AzBw_1Xg"
      }
    },
    {
      "cell_type": "code",
      "source": [
        "model = LinearRegression()\n",
        "model.fit(X_train, y_train)"
      ],
      "metadata": {
        "colab": {
          "base_uri": "https://localhost:8080/",
          "height": 80
        },
        "id": "BVDyjM2S-OY8",
        "outputId": "337bfe62-db79-4764-f28d-afd1a4e5707d"
      },
      "execution_count": 14,
      "outputs": [
        {
          "output_type": "execute_result",
          "data": {
            "text/plain": [
              "LinearRegression()"
            ],
            "text/html": [
              "<style>#sk-container-id-1 {\n",
              "  /* Definition of color scheme common for light and dark mode */\n",
              "  --sklearn-color-text: #000;\n",
              "  --sklearn-color-text-muted: #666;\n",
              "  --sklearn-color-line: gray;\n",
              "  /* Definition of color scheme for unfitted estimators */\n",
              "  --sklearn-color-unfitted-level-0: #fff5e6;\n",
              "  --sklearn-color-unfitted-level-1: #f6e4d2;\n",
              "  --sklearn-color-unfitted-level-2: #ffe0b3;\n",
              "  --sklearn-color-unfitted-level-3: chocolate;\n",
              "  /* Definition of color scheme for fitted estimators */\n",
              "  --sklearn-color-fitted-level-0: #f0f8ff;\n",
              "  --sklearn-color-fitted-level-1: #d4ebff;\n",
              "  --sklearn-color-fitted-level-2: #b3dbfd;\n",
              "  --sklearn-color-fitted-level-3: cornflowerblue;\n",
              "\n",
              "  /* Specific color for light theme */\n",
              "  --sklearn-color-text-on-default-background: var(--sg-text-color, var(--theme-code-foreground, var(--jp-content-font-color1, black)));\n",
              "  --sklearn-color-background: var(--sg-background-color, var(--theme-background, var(--jp-layout-color0, white)));\n",
              "  --sklearn-color-border-box: var(--sg-text-color, var(--theme-code-foreground, var(--jp-content-font-color1, black)));\n",
              "  --sklearn-color-icon: #696969;\n",
              "\n",
              "  @media (prefers-color-scheme: dark) {\n",
              "    /* Redefinition of color scheme for dark theme */\n",
              "    --sklearn-color-text-on-default-background: var(--sg-text-color, var(--theme-code-foreground, var(--jp-content-font-color1, white)));\n",
              "    --sklearn-color-background: var(--sg-background-color, var(--theme-background, var(--jp-layout-color0, #111)));\n",
              "    --sklearn-color-border-box: var(--sg-text-color, var(--theme-code-foreground, var(--jp-content-font-color1, white)));\n",
              "    --sklearn-color-icon: #878787;\n",
              "  }\n",
              "}\n",
              "\n",
              "#sk-container-id-1 {\n",
              "  color: var(--sklearn-color-text);\n",
              "}\n",
              "\n",
              "#sk-container-id-1 pre {\n",
              "  padding: 0;\n",
              "}\n",
              "\n",
              "#sk-container-id-1 input.sk-hidden--visually {\n",
              "  border: 0;\n",
              "  clip: rect(1px 1px 1px 1px);\n",
              "  clip: rect(1px, 1px, 1px, 1px);\n",
              "  height: 1px;\n",
              "  margin: -1px;\n",
              "  overflow: hidden;\n",
              "  padding: 0;\n",
              "  position: absolute;\n",
              "  width: 1px;\n",
              "}\n",
              "\n",
              "#sk-container-id-1 div.sk-dashed-wrapped {\n",
              "  border: 1px dashed var(--sklearn-color-line);\n",
              "  margin: 0 0.4em 0.5em 0.4em;\n",
              "  box-sizing: border-box;\n",
              "  padding-bottom: 0.4em;\n",
              "  background-color: var(--sklearn-color-background);\n",
              "}\n",
              "\n",
              "#sk-container-id-1 div.sk-container {\n",
              "  /* jupyter's `normalize.less` sets `[hidden] { display: none; }`\n",
              "     but bootstrap.min.css set `[hidden] { display: none !important; }`\n",
              "     so we also need the `!important` here to be able to override the\n",
              "     default hidden behavior on the sphinx rendered scikit-learn.org.\n",
              "     See: https://github.com/scikit-learn/scikit-learn/issues/21755 */\n",
              "  display: inline-block !important;\n",
              "  position: relative;\n",
              "}\n",
              "\n",
              "#sk-container-id-1 div.sk-text-repr-fallback {\n",
              "  display: none;\n",
              "}\n",
              "\n",
              "div.sk-parallel-item,\n",
              "div.sk-serial,\n",
              "div.sk-item {\n",
              "  /* draw centered vertical line to link estimators */\n",
              "  background-image: linear-gradient(var(--sklearn-color-text-on-default-background), var(--sklearn-color-text-on-default-background));\n",
              "  background-size: 2px 100%;\n",
              "  background-repeat: no-repeat;\n",
              "  background-position: center center;\n",
              "}\n",
              "\n",
              "/* Parallel-specific style estimator block */\n",
              "\n",
              "#sk-container-id-1 div.sk-parallel-item::after {\n",
              "  content: \"\";\n",
              "  width: 100%;\n",
              "  border-bottom: 2px solid var(--sklearn-color-text-on-default-background);\n",
              "  flex-grow: 1;\n",
              "}\n",
              "\n",
              "#sk-container-id-1 div.sk-parallel {\n",
              "  display: flex;\n",
              "  align-items: stretch;\n",
              "  justify-content: center;\n",
              "  background-color: var(--sklearn-color-background);\n",
              "  position: relative;\n",
              "}\n",
              "\n",
              "#sk-container-id-1 div.sk-parallel-item {\n",
              "  display: flex;\n",
              "  flex-direction: column;\n",
              "}\n",
              "\n",
              "#sk-container-id-1 div.sk-parallel-item:first-child::after {\n",
              "  align-self: flex-end;\n",
              "  width: 50%;\n",
              "}\n",
              "\n",
              "#sk-container-id-1 div.sk-parallel-item:last-child::after {\n",
              "  align-self: flex-start;\n",
              "  width: 50%;\n",
              "}\n",
              "\n",
              "#sk-container-id-1 div.sk-parallel-item:only-child::after {\n",
              "  width: 0;\n",
              "}\n",
              "\n",
              "/* Serial-specific style estimator block */\n",
              "\n",
              "#sk-container-id-1 div.sk-serial {\n",
              "  display: flex;\n",
              "  flex-direction: column;\n",
              "  align-items: center;\n",
              "  background-color: var(--sklearn-color-background);\n",
              "  padding-right: 1em;\n",
              "  padding-left: 1em;\n",
              "}\n",
              "\n",
              "\n",
              "/* Toggleable style: style used for estimator/Pipeline/ColumnTransformer box that is\n",
              "clickable and can be expanded/collapsed.\n",
              "- Pipeline and ColumnTransformer use this feature and define the default style\n",
              "- Estimators will overwrite some part of the style using the `sk-estimator` class\n",
              "*/\n",
              "\n",
              "/* Pipeline and ColumnTransformer style (default) */\n",
              "\n",
              "#sk-container-id-1 div.sk-toggleable {\n",
              "  /* Default theme specific background. It is overwritten whether we have a\n",
              "  specific estimator or a Pipeline/ColumnTransformer */\n",
              "  background-color: var(--sklearn-color-background);\n",
              "}\n",
              "\n",
              "/* Toggleable label */\n",
              "#sk-container-id-1 label.sk-toggleable__label {\n",
              "  cursor: pointer;\n",
              "  display: flex;\n",
              "  width: 100%;\n",
              "  margin-bottom: 0;\n",
              "  padding: 0.5em;\n",
              "  box-sizing: border-box;\n",
              "  text-align: center;\n",
              "  align-items: start;\n",
              "  justify-content: space-between;\n",
              "  gap: 0.5em;\n",
              "}\n",
              "\n",
              "#sk-container-id-1 label.sk-toggleable__label .caption {\n",
              "  font-size: 0.6rem;\n",
              "  font-weight: lighter;\n",
              "  color: var(--sklearn-color-text-muted);\n",
              "}\n",
              "\n",
              "#sk-container-id-1 label.sk-toggleable__label-arrow:before {\n",
              "  /* Arrow on the left of the label */\n",
              "  content: \"▸\";\n",
              "  float: left;\n",
              "  margin-right: 0.25em;\n",
              "  color: var(--sklearn-color-icon);\n",
              "}\n",
              "\n",
              "#sk-container-id-1 label.sk-toggleable__label-arrow:hover:before {\n",
              "  color: var(--sklearn-color-text);\n",
              "}\n",
              "\n",
              "/* Toggleable content - dropdown */\n",
              "\n",
              "#sk-container-id-1 div.sk-toggleable__content {\n",
              "  max-height: 0;\n",
              "  max-width: 0;\n",
              "  overflow: hidden;\n",
              "  text-align: left;\n",
              "  /* unfitted */\n",
              "  background-color: var(--sklearn-color-unfitted-level-0);\n",
              "}\n",
              "\n",
              "#sk-container-id-1 div.sk-toggleable__content.fitted {\n",
              "  /* fitted */\n",
              "  background-color: var(--sklearn-color-fitted-level-0);\n",
              "}\n",
              "\n",
              "#sk-container-id-1 div.sk-toggleable__content pre {\n",
              "  margin: 0.2em;\n",
              "  border-radius: 0.25em;\n",
              "  color: var(--sklearn-color-text);\n",
              "  /* unfitted */\n",
              "  background-color: var(--sklearn-color-unfitted-level-0);\n",
              "}\n",
              "\n",
              "#sk-container-id-1 div.sk-toggleable__content.fitted pre {\n",
              "  /* unfitted */\n",
              "  background-color: var(--sklearn-color-fitted-level-0);\n",
              "}\n",
              "\n",
              "#sk-container-id-1 input.sk-toggleable__control:checked~div.sk-toggleable__content {\n",
              "  /* Expand drop-down */\n",
              "  max-height: 200px;\n",
              "  max-width: 100%;\n",
              "  overflow: auto;\n",
              "}\n",
              "\n",
              "#sk-container-id-1 input.sk-toggleable__control:checked~label.sk-toggleable__label-arrow:before {\n",
              "  content: \"▾\";\n",
              "}\n",
              "\n",
              "/* Pipeline/ColumnTransformer-specific style */\n",
              "\n",
              "#sk-container-id-1 div.sk-label input.sk-toggleable__control:checked~label.sk-toggleable__label {\n",
              "  color: var(--sklearn-color-text);\n",
              "  background-color: var(--sklearn-color-unfitted-level-2);\n",
              "}\n",
              "\n",
              "#sk-container-id-1 div.sk-label.fitted input.sk-toggleable__control:checked~label.sk-toggleable__label {\n",
              "  background-color: var(--sklearn-color-fitted-level-2);\n",
              "}\n",
              "\n",
              "/* Estimator-specific style */\n",
              "\n",
              "/* Colorize estimator box */\n",
              "#sk-container-id-1 div.sk-estimator input.sk-toggleable__control:checked~label.sk-toggleable__label {\n",
              "  /* unfitted */\n",
              "  background-color: var(--sklearn-color-unfitted-level-2);\n",
              "}\n",
              "\n",
              "#sk-container-id-1 div.sk-estimator.fitted input.sk-toggleable__control:checked~label.sk-toggleable__label {\n",
              "  /* fitted */\n",
              "  background-color: var(--sklearn-color-fitted-level-2);\n",
              "}\n",
              "\n",
              "#sk-container-id-1 div.sk-label label.sk-toggleable__label,\n",
              "#sk-container-id-1 div.sk-label label {\n",
              "  /* The background is the default theme color */\n",
              "  color: var(--sklearn-color-text-on-default-background);\n",
              "}\n",
              "\n",
              "/* On hover, darken the color of the background */\n",
              "#sk-container-id-1 div.sk-label:hover label.sk-toggleable__label {\n",
              "  color: var(--sklearn-color-text);\n",
              "  background-color: var(--sklearn-color-unfitted-level-2);\n",
              "}\n",
              "\n",
              "/* Label box, darken color on hover, fitted */\n",
              "#sk-container-id-1 div.sk-label.fitted:hover label.sk-toggleable__label.fitted {\n",
              "  color: var(--sklearn-color-text);\n",
              "  background-color: var(--sklearn-color-fitted-level-2);\n",
              "}\n",
              "\n",
              "/* Estimator label */\n",
              "\n",
              "#sk-container-id-1 div.sk-label label {\n",
              "  font-family: monospace;\n",
              "  font-weight: bold;\n",
              "  display: inline-block;\n",
              "  line-height: 1.2em;\n",
              "}\n",
              "\n",
              "#sk-container-id-1 div.sk-label-container {\n",
              "  text-align: center;\n",
              "}\n",
              "\n",
              "/* Estimator-specific */\n",
              "#sk-container-id-1 div.sk-estimator {\n",
              "  font-family: monospace;\n",
              "  border: 1px dotted var(--sklearn-color-border-box);\n",
              "  border-radius: 0.25em;\n",
              "  box-sizing: border-box;\n",
              "  margin-bottom: 0.5em;\n",
              "  /* unfitted */\n",
              "  background-color: var(--sklearn-color-unfitted-level-0);\n",
              "}\n",
              "\n",
              "#sk-container-id-1 div.sk-estimator.fitted {\n",
              "  /* fitted */\n",
              "  background-color: var(--sklearn-color-fitted-level-0);\n",
              "}\n",
              "\n",
              "/* on hover */\n",
              "#sk-container-id-1 div.sk-estimator:hover {\n",
              "  /* unfitted */\n",
              "  background-color: var(--sklearn-color-unfitted-level-2);\n",
              "}\n",
              "\n",
              "#sk-container-id-1 div.sk-estimator.fitted:hover {\n",
              "  /* fitted */\n",
              "  background-color: var(--sklearn-color-fitted-level-2);\n",
              "}\n",
              "\n",
              "/* Specification for estimator info (e.g. \"i\" and \"?\") */\n",
              "\n",
              "/* Common style for \"i\" and \"?\" */\n",
              "\n",
              ".sk-estimator-doc-link,\n",
              "a:link.sk-estimator-doc-link,\n",
              "a:visited.sk-estimator-doc-link {\n",
              "  float: right;\n",
              "  font-size: smaller;\n",
              "  line-height: 1em;\n",
              "  font-family: monospace;\n",
              "  background-color: var(--sklearn-color-background);\n",
              "  border-radius: 1em;\n",
              "  height: 1em;\n",
              "  width: 1em;\n",
              "  text-decoration: none !important;\n",
              "  margin-left: 0.5em;\n",
              "  text-align: center;\n",
              "  /* unfitted */\n",
              "  border: var(--sklearn-color-unfitted-level-1) 1pt solid;\n",
              "  color: var(--sklearn-color-unfitted-level-1);\n",
              "}\n",
              "\n",
              ".sk-estimator-doc-link.fitted,\n",
              "a:link.sk-estimator-doc-link.fitted,\n",
              "a:visited.sk-estimator-doc-link.fitted {\n",
              "  /* fitted */\n",
              "  border: var(--sklearn-color-fitted-level-1) 1pt solid;\n",
              "  color: var(--sklearn-color-fitted-level-1);\n",
              "}\n",
              "\n",
              "/* On hover */\n",
              "div.sk-estimator:hover .sk-estimator-doc-link:hover,\n",
              ".sk-estimator-doc-link:hover,\n",
              "div.sk-label-container:hover .sk-estimator-doc-link:hover,\n",
              ".sk-estimator-doc-link:hover {\n",
              "  /* unfitted */\n",
              "  background-color: var(--sklearn-color-unfitted-level-3);\n",
              "  color: var(--sklearn-color-background);\n",
              "  text-decoration: none;\n",
              "}\n",
              "\n",
              "div.sk-estimator.fitted:hover .sk-estimator-doc-link.fitted:hover,\n",
              ".sk-estimator-doc-link.fitted:hover,\n",
              "div.sk-label-container:hover .sk-estimator-doc-link.fitted:hover,\n",
              ".sk-estimator-doc-link.fitted:hover {\n",
              "  /* fitted */\n",
              "  background-color: var(--sklearn-color-fitted-level-3);\n",
              "  color: var(--sklearn-color-background);\n",
              "  text-decoration: none;\n",
              "}\n",
              "\n",
              "/* Span, style for the box shown on hovering the info icon */\n",
              ".sk-estimator-doc-link span {\n",
              "  display: none;\n",
              "  z-index: 9999;\n",
              "  position: relative;\n",
              "  font-weight: normal;\n",
              "  right: .2ex;\n",
              "  padding: .5ex;\n",
              "  margin: .5ex;\n",
              "  width: min-content;\n",
              "  min-width: 20ex;\n",
              "  max-width: 50ex;\n",
              "  color: var(--sklearn-color-text);\n",
              "  box-shadow: 2pt 2pt 4pt #999;\n",
              "  /* unfitted */\n",
              "  background: var(--sklearn-color-unfitted-level-0);\n",
              "  border: .5pt solid var(--sklearn-color-unfitted-level-3);\n",
              "}\n",
              "\n",
              ".sk-estimator-doc-link.fitted span {\n",
              "  /* fitted */\n",
              "  background: var(--sklearn-color-fitted-level-0);\n",
              "  border: var(--sklearn-color-fitted-level-3);\n",
              "}\n",
              "\n",
              ".sk-estimator-doc-link:hover span {\n",
              "  display: block;\n",
              "}\n",
              "\n",
              "/* \"?\"-specific style due to the `<a>` HTML tag */\n",
              "\n",
              "#sk-container-id-1 a.estimator_doc_link {\n",
              "  float: right;\n",
              "  font-size: 1rem;\n",
              "  line-height: 1em;\n",
              "  font-family: monospace;\n",
              "  background-color: var(--sklearn-color-background);\n",
              "  border-radius: 1rem;\n",
              "  height: 1rem;\n",
              "  width: 1rem;\n",
              "  text-decoration: none;\n",
              "  /* unfitted */\n",
              "  color: var(--sklearn-color-unfitted-level-1);\n",
              "  border: var(--sklearn-color-unfitted-level-1) 1pt solid;\n",
              "}\n",
              "\n",
              "#sk-container-id-1 a.estimator_doc_link.fitted {\n",
              "  /* fitted */\n",
              "  border: var(--sklearn-color-fitted-level-1) 1pt solid;\n",
              "  color: var(--sklearn-color-fitted-level-1);\n",
              "}\n",
              "\n",
              "/* On hover */\n",
              "#sk-container-id-1 a.estimator_doc_link:hover {\n",
              "  /* unfitted */\n",
              "  background-color: var(--sklearn-color-unfitted-level-3);\n",
              "  color: var(--sklearn-color-background);\n",
              "  text-decoration: none;\n",
              "}\n",
              "\n",
              "#sk-container-id-1 a.estimator_doc_link.fitted:hover {\n",
              "  /* fitted */\n",
              "  background-color: var(--sklearn-color-fitted-level-3);\n",
              "}\n",
              "</style><div id=\"sk-container-id-1\" class=\"sk-top-container\"><div class=\"sk-text-repr-fallback\"><pre>LinearRegression()</pre><b>In a Jupyter environment, please rerun this cell to show the HTML representation or trust the notebook. <br />On GitHub, the HTML representation is unable to render, please try loading this page with nbviewer.org.</b></div><div class=\"sk-container\" hidden><div class=\"sk-item\"><div class=\"sk-estimator fitted sk-toggleable\"><input class=\"sk-toggleable__control sk-hidden--visually\" id=\"sk-estimator-id-1\" type=\"checkbox\" checked><label for=\"sk-estimator-id-1\" class=\"sk-toggleable__label fitted sk-toggleable__label-arrow\"><div><div>LinearRegression</div></div><div><a class=\"sk-estimator-doc-link fitted\" rel=\"noreferrer\" target=\"_blank\" href=\"https://scikit-learn.org/1.6/modules/generated/sklearn.linear_model.LinearRegression.html\">?<span>Documentation for LinearRegression</span></a><span class=\"sk-estimator-doc-link fitted\">i<span>Fitted</span></span></div></label><div class=\"sk-toggleable__content fitted\"><pre>LinearRegression()</pre></div> </div></div></div></div>"
            ]
          },
          "metadata": {},
          "execution_count": 14
        }
      ]
    },
    {
      "cell_type": "markdown",
      "source": [
        "EVALUATE"
      ],
      "metadata": {
        "id": "KewpOY1M__s4"
      }
    },
    {
      "cell_type": "markdown",
      "source": [
        "I am trying to see how well my model performs when making predictions for the data it saw during training\n",
        "\n",
        "That is, generating predictions using a trained model"
      ],
      "metadata": {
        "id": "SubvgA-5AKOW"
      }
    },
    {
      "cell_type": "code",
      "source": [
        "y_pred_training = model.predict(X_train)\n",
        "y_pred_training[:5]"
      ],
      "metadata": {
        "colab": {
          "base_uri": "https://localhost:8080/"
        },
        "id": "09hMtHEJ_9pU",
        "outputId": "3f3a6851-d556-47e5-e52b-076591b1ffdb"
      },
      "execution_count": 15,
      "outputs": [
        {
          "output_type": "execute_result",
          "data": {
            "text/plain": [
              "array([160670.83468735, 645415.63791418, 316116.42559554, 140217.46746259,\n",
              "       162716.17140983])"
            ]
          },
          "metadata": {},
          "execution_count": 15
        }
      ]
    },
    {
      "cell_type": "markdown",
      "source": [
        "Training MAE"
      ],
      "metadata": {
        "id": "0HbePZw_AzOd"
      }
    },
    {
      "cell_type": "code",
      "source": [
        "mae_training = mean_absolute_error(y_train, y_pred_training)\n",
        "print(\"Training MAE:\", round(mae_training, 2))"
      ],
      "metadata": {
        "colab": {
          "base_uri": "https://localhost:8080/"
        },
        "id": "7k0K-H1fApPc",
        "outputId": "30dcb4f9-55d8-4555-f612-4e42ab0e2d03"
      },
      "execution_count": 16,
      "outputs": [
        {
          "output_type": "stream",
          "name": "stdout",
          "text": [
            "Training MAE: 71955.77\n"
          ]
        }
      ]
    },
    {
      "cell_type": "markdown",
      "source": [
        "My model has beat the Baseline by 41522.82 USD. This is a good indicator that the model will be helfpul in predicting Apartment Prices."
      ],
      "metadata": {
        "id": "mivsDlWdBGiQ"
      }
    },
    {
      "cell_type": "markdown",
      "source": [
        "Communicating Results"
      ],
      "metadata": {
        "id": "-b1b72fUCoaH"
      }
    },
    {
      "cell_type": "markdown",
      "source": [
        "Extracting the Model Intercept and Coefficient and generating an equation\n",
        "\n",
        "\n",
        "\n",
        "y = β₀ + β₁x     \n",
        "\n",
        "where y = apartment_price, β₀ = intercept(where the line crosses the y_intercept), β₁ = coefficient, x = surface_covered_in_m2"
      ],
      "metadata": {
        "id": "R7N27un9Cs_6"
      }
    },
    {
      "cell_type": "code",
      "source": [
        "#Extract Model Intercept\n",
        "intercept = (model.intercept_).round(2)\n",
        "print(\"Model Intercept:\", intercept)\n",
        "#Extract Coefficient\n",
        "coefficient = (model.coef_[0]).round(2)\n",
        "print(\"Model for 'surface_covered_in_m2':\", coefficient)\n",
        "#Generating an equation\n",
        "print(f\"apt_price = {intercept} + {coefficient} * surface_covered_in_m2\")"
      ],
      "metadata": {
        "colab": {
          "base_uri": "https://localhost:8080/"
        },
        "id": "AFpthUwXBFL1",
        "outputId": "0fd6f5db-df6c-40d1-830e-a51b8d523455"
      },
      "execution_count": 17,
      "outputs": [
        {
          "output_type": "stream",
          "name": "stdout",
          "text": [
            "Model Intercept: -9092.11\n",
            "Model for 'surface_covered_in_m2': 2045.34\n",
            "apt_price = -9092.11 + 2045.34 * surface_covered_in_m2\n"
          ]
        }
      ]
    },
    {
      "cell_type": "markdown",
      "source": [
        "Intercept (β₀ = -9092.11)\n",
        "\n",
        "Means the predicted price when surface_covered_in_m2 = 0\n",
        "\n",
        "Coefficient (β₁ = 2045.34)\n",
        "\n",
        "Means for every 1 square meter increase in size, the apartment price increases by 2045.34 USD\n",
        "\n",
        "\n",
        "Example Prediction: 150 m² Apartment\n",
        "\n",
        "\n",
        "apt_price = -9092.11 + 2045.34 * 150\n",
        "\n",
        "apt_price = -9092.11 + 306801\n",
        "\n",
        "apt_price = 297,708.89 USD\n",
        "\n",
        "The linear regression model estimates that apartment prices in Distrito Federal increase by approximately 2045 USD for each additional square meter of space. For a typical 150 m² apartment, the model predicts a price of around 298000 USD."
      ],
      "metadata": {
        "id": "zIguBbwfJ33C"
      }
    },
    {
      "cell_type": "markdown",
      "source": [
        "VISUALIZATION : LINE AND SCATTER PLOT"
      ],
      "metadata": {
        "id": "oChUt7zIF062"
      }
    },
    {
      "cell_type": "code",
      "source": [
        "plt.plot(X_train, y_pred_training, color = \"Orange\", label = \"Linear Model\")\n",
        "plt.scatter(X_train, y_train)\n",
        "plt.xlabel(\"Apartment Size [sq meters]\")\n",
        "plt.ylabel(\"Apartment Price\")\n",
        "plt.title(\"Price vs Area\")\n",
        "plt.legend();"
      ],
      "metadata": {
        "colab": {
          "base_uri": "https://localhost:8080/",
          "height": 472
        },
        "id": "n0P0-u9yE6pC",
        "outputId": "c649cd88-abeb-42b9-c867-450d59c052ae"
      },
      "execution_count": 18,
      "outputs": [
        {
          "output_type": "display_data",
          "data": {
            "text/plain": [
              "<Figure size 640x480 with 1 Axes>"
            ],
            "image/png": "[encoded data removed]"
          },
          "metadata": {}
        }
      ]
    },
    {
      "cell_type": "markdown",
      "source": [
        "The linear regression model reveals a clear positive relationship between apartment size and price in Buenos Aires in the state 'Distrito Federal'. As expected, larger apartments command higher prices with the model estimating a price increase of approximately 2045.34 USD for each additional square meter.\n",
        "\n",
        "\n",
        "Visually, we can observe that most data points cluster in the 50-150 m² range, with prices typically between $100,000-$300,000. The linear trend line fits this central cloud of points reasonably well, suggesting that size alone explains a significant portion of price variation for typical apartments\n",
        "\n",
        "Model Limitations;\n",
        "There's considerable vertical spread around the trend line, indicating that factors beyond just size.\n",
        "\n",
        "The model appears less reliable for very large apartments (>200 m²), where price variability increases significantly.\n",
        "This confirms that while apartment size is a fundamental pricing factor, it alone is insufficient for accurate price prediction across all market segments"
      ],
      "metadata": {
        "id": "Flf3pDodHMtk"
      }
    },
    {
      "cell_type": "markdown",
      "source": [
        "PREDICTING PRICE WITH LOCATION"
      ],
      "metadata": {
        "id": "sAcJKV1vLmP3"
      }
    },
    {
      "cell_type": "code",
      "source": [
        "#Scatter Plot of \"lat\" and \"lon\" columns\n",
        "fig = px.scatter_mapbox(\n",
        "    df,\n",
        "    lat = \"lat\",\n",
        "    lon = \"lon\",\n",
        "    width = 600,\n",
        "    height = 600,\n",
        "    color = \"price_aprox_usd\",\n",
        "    hover_data = [\"price_aprox_usd\"]\n",
        ")\n",
        "fig.update_layout(mapbox_style = \"open-street-map\")\n",
        "fig.show()"
      ],
      "metadata": {
        "colab": {
          "base_uri": "https://localhost:8080/",
          "height": 617
        },
        "id": "wRpDjFkwGO3X",
        "outputId": "f2c540a6-4bf2-4a53-9b06-e3388db596c2"
      },
      "execution_count": 19,
      "outputs": [
        {
          "output_type": "display_data",
          "data": {
            "text/html": [
              "<html>\n",
              "<head><meta charset=\"utf-8\" /></head>\n",
              "<body>\n",
              "    <div>            <script src=\"https://cdnjs.cloudflare.com/ajax/libs/mathjax/2.7.5/MathJax.js?config=TeX-AMS-MML_SVG\"></script><script type=\"text/javascript\">if (window.MathJax && window.MathJax.Hub && window.MathJax.Hub.Config) {window.MathJax.Hub.Config({SVG: {font: \"STIX-Web\"}});}</script>                <script type=\"text/javascript\">window.PlotlyConfig = {MathJaxConfig: 'local'};</script>\n",
              "        <script charset=\"utf-8\" src=\"https://cdn.plot.ly/plotly-2.35.2.min.js\"></script>                <div id=\"d16032b8-c58c-42f3-8605-d5f99af1d04b\" class=\"plotly-graph-div\" style=\"height:600px; width:600px;\"></div>            <script type=\"text/javascript\">                                    window.PLOTLYENV=window.PLOTLYENV || {};                                    if (document.getElementById(\"d16032b8-c58c-42f3-8605-d5f99af1d04b\")) {                    Plotly.newPlot(                        \"d16032b8-c58c-42f3-8605-d5f99af1d04b\",                        [{\"customdata\":[[172446.86],[553339.27],[492618.62],[155425.12],[258224.99],[99530.03],[147557.13],[154724.19],[213430.86],[421591.82],[223970.65],[334559.17],[157690.64],[252895.12],[289844.37],[158059.45],[139968.48],[184446.42],[625000.0],[117735.94],[426861.72],[473816.51],[233851.71],[368892.84],[226605.6],[131747.44],[55333.92],[225504.19],[142287.24],[458372.4],[36889.28],[230821.52],[163366.83],[332836.85],[187081.37],[39524.23],[374337.46],[163366.83],[516449.98],[31619.38],[57968.87],[99074.07],[474178.35],[331924.84],[189716.32],[287209.43],[263494.89],[131418.07],[340345.2],[137017.34],[444726.6],[150830.86],[269180.16],[310729.14],[190122.1],[135057.59],[50327.52],[83180.59],[242415.29],[654457.8],[162123.24],[521719.88],[270951.79],[173643.13],[44497.91],[115937.75],[300911.16],[430866.84],[192305.66],[86584.42],[151567.64],[177068.56],[177068.56],[574418.86],[685086.71],[652936.65],[237089.17],[309553.79],[65858.1],[205526.01],[389972.43],[28825.02],[146219.53],[189610.92],[36889.28],[79566.6],[152827.03],[163366.83],[182597.74],[171271.67],[83160.87],[65873.72],[295114.27],[202891.06],[283425.64],[86689.81],[262440.91],[63238.77],[316193.86],[110825.95],[79029.72],[313558.92],[240250.36],[82138.73],[339908.4],[163366.83],[319830.09],[183919.43],[563879.06],[519594.1],[155288.07],[463641.05],[94858.16],[326733.66],[121178.91],[43202.91],[51381.5],[168596.74],[105397.95],[35185.34],[420000.0],[337273.46],[289844.37],[526812.37],[117735.94],[432342.41],[152827.03],[563615.57],[295114.27],[52574.87],[147522.15],[33787.84],[455846.16],[131189.34],[118572.7],[205526.01],[45584.61],[163366.83],[204054.75],[89588.26],[131747.44],[326656.19],[447941.31],[102763.0],[386283.5],[163328.09],[229240.55],[140056.47],[171113.58],[520000.0],[168636.73],[213216.9],[316193.86],[130988.58],[447941.31],[179176.52],[410954.57],[38206.75],[43176.57],[165435.55],[181811.47],[211059.4],[520522.86],[558609.16],[324098.71],[657303.92],[54949.68],[43202.91],[108913.49],[507107.4],[374074.03],[184402.69],[544778.24],[149734.98],[279238.36],[252955.09],[39524.23],[269818.76],[535368.91],[579688.75],[463751.0],[432131.62],[218486.8],[313242.72],[284574.48],[226605.6],[45837.24],[54933.04],[418956.87],[240619.17],[147557.13],[135035.86],[225520.8],[303782.83],[54949.68],[67191.19],[75783.82],[679816.81],[175972.85],[242415.29],[119229.96],[167582.75],[424302.13],[142287.24],[201837.08],[298776.85],[475000.0],[259584.62],[421591.82],[558609.16],[43213.16],[79566.6],[376708.35],[92201.34],[187037.01],[124231.33],[63238.77],[94858.16],[152827.03],[592358.0],[447835.11],[67981.68],[28984.43],[362305.47],[152827.03],[437401.51],[611308.14],[222600.39],[546119.51],[123813.23],[102763.0],[168636.73],[165105.89],[303783.2],[118309.2],[200256.11],[49638.57],[168636.73],[151073.1],[116728.23],[590228.55],[247158.2],[395242.33],[174291.33],[280977.01],[579688.75],[86383.21],[221283.23],[71126.75],[258224.99],[210795.91],[368805.38],[658737.22],[144387.3],[184446.42],[105134.46],[189663.62],[632387.73],[267463.12],[231612.0],[144922.18],[190770.3],[311176.92],[621847.94],[445200.78],[113624.79],[287736.42],[204472.03],[263432.41],[416321.92],[50901.94],[100209.69],[140470.72],[205526.01],[150830.86],[179134.04],[629415.51],[534894.62],[262905.55],[147557.13],[92367.6],[105318.9],[128892.1],[105397.95],[289844.37],[268764.78],[379342.68],[168636.73],[680000.0]],\"hovertemplate\":\"lat=%{lat}\\u003cbr\\u003elon=%{lon}\\u003cbr\\u003eprice_aprox_usd=%{marker.color}\\u003cextra\\u003e\\u003c\\u002fextra\\u003e\",\"lat\":[19.3794059,19.390415,19.3753948137,19.394073,19.4169673,19.4553585442,19.3499358,19.3807458,19.4124708,19.4114169,19.3853063,19.3609784,19.39365,19.3392293,19.41498,19.3677299,19.365391,19.3714480121,19.420166,19.4306069,19.3864346,19.394358,19.394358,19.4097609,19.394358,19.3898619,19.3549174,19.358585,19.3703820187,19.3769448,19.2818221685,19.3943574,19.3499358,19.371342,19.3392293,19.461416,19.3023508,19.3747920646,19.320576,19.505199,19.3883217,19.3152718515,19.3634214999,19.4070717,19.3428273,19.3049333,19.3024064,19.3338880248,19.4032833,19.3825040623,19.381729,19.3596034,19.3503274,19.394358,19.3813197,19.3638234,19.4113101,19.2990233,19.400249,19.3577935962,19.3638234,19.3556628374,19.394358,19.2753576,19.3223015,19.343979,19.3815906,19.394358,19.3755039,19.3865508,19.407682,19.3108788,19.39912,19.390415,19.3619852,19.4425711213,19.3668017,19.394358,19.3437444,19.3756773,19.432657,19.4959960885,19.3803931,19.4482164,19.4306069,19.2990233,19.3499358,19.3499358,19.364967,19.323066,19.2990233,19.2963742,19.41498,19.3628631,19.381729,19.3865940087,19.2963762,19.516777,19.4195256,19.3794059,19.4503249,19.3302564,19.4024797,19.2990233,19.3753973563,19.3499358,19.392978,19.3737616972,19.3928136,19.392937,19.39365,19.390415,19.3847719,19.3036292,19.3845952529,19.487856,19.4302678,19.3499358,19.3776513,19.442791,19.420166,19.3445052,19.3631419,19.347138,19.4306069,19.3815495,19.2790911,19.3594791,19.4149803,19.342083,19.5290566,19.4594892,19.430456,19.3018442,19.4809432,19.3349552,19.4126915168,19.3499358,19.3680133,19.381729,19.5029542,19.3447,19.409369,19.3934821,19.394073,19.3499358,19.3810000272,19.341894,19.341894,19.4340199,19.3701781,19.4032833,19.392937,19.2790911,19.381729,19.3320226,19.4101579796,19.4306069,19.308076,19.3605334,19.400249,19.3668017,19.4201028,19.3585224004,19.3499706,19.433173,19.2990233,19.309208,19.3679526,19.4372822,19.4280794,19.4673105,19.4347155,19.3670983,19.3341208717,19.4396219801,19.431252,19.4025564,19.552402,19.4259971,19.4301322,19.3774517,19.4032833,19.3606908,19.3609365412,19.4001854,19.444606,19.2990233,19.443178,19.3814836,19.3499358,19.3670983,19.375412,19.394358,19.2990233,19.3340701,19.512787,19.376822,19.367424,19.3872626,19.4306069,19.3404477,19.3627981,19.392937,19.367424,19.361269,19.392937,19.417364,19.4158245484,19.390415,19.381259203,19.2990233,19.417364,19.4526892,19.33923,19.3638234,19.378786,19.3246591,19.3499358,19.392937,19.396593,19.392349,19.399689,19.4157341697,19.359984,19.381729,19.430456,19.3023717,19.3564335,19.3814504,19.3697678418,19.3033001,19.3807458,19.394358,19.3723335,19.394073,19.2672863,19.3499358,19.4306069,19.39365,19.390415,19.331932,19.4348398,19.3908165,19.381729,19.4336444,19.2990233,19.382727579,19.4752953603,19.4195256,19.380747,19.4374999,19.3605334,19.3358468,19.3797151,19.4068945,19.430132,19.3894263,19.387764,19.33923,19.392937,19.3872626,19.3582744,19.3631419,19.3038226746,19.3906898041,19.334220844,19.400249,19.3627249,19.3648588111,19.335419,19.471135,19.3638234,19.384622452,19.364891,19.3862785,19.4080873559,19.401079,19.39365,19.3499358,19.3905245,19.3704998,19.3733676,19.4512044,19.4380266,19.394073,19.3066442,19.3539321,19.390415],\"legendgroup\":\"\",\"lon\":[-99.1591446,-99.254997,-99.1657587614,-99.153915,-99.1658498,-99.1632923484,-99.2906864,-99.1553016,-99.1717827,-99.1739405,-99.1521292,-99.2084005,-99.14769,-99.2189838,-99.177444,-99.1527773,-99.18956,-99.149787426,-99.220367,-99.0949899,-99.1594925,-99.177444,-99.177444,-99.1686282,-99.177444,-99.1674138,-99.0993735,-99.185753,-99.1493282287,-99.1651109,-99.1876426712,-99.1774462,-99.2906864,-99.253616,-99.2189838,-99.133163,-99.1679459,-99.137270786,-99.20929,-99.155991,-99.1862188,-99.1075855494,-99.2763233185,-99.1621603,-99.1522157,-99.1836755,-99.2018433,-99.151327014,-99.1821858,-99.1580399126,-99.164986,-99.1514055,-99.2989735,-99.177444,-99.1996895,-99.1444714,-99.064722,-99.0436467,-99.177444,-99.2744779587,-99.1444714,-99.2753872275,-99.177444,-99.1675547,-99.1035542,-99.124863,-99.1653974,-99.177444,-99.1630337,-99.1937082,-99.172042,-99.1386972,-99.141464,-99.254997,-99.2663861,-99.2028173804,-99.1724994,-99.177444,-99.1561883,-99.1546074,-99.177444,-99.2017929554,-99.1476908,-99.1589625,-99.0949899,-99.0436467,-99.2906864,-99.2906864,-99.1428406,-99.1393153,-99.0436467,-99.1186279,-99.177444,-99.1739857,-99.164986,-99.1936147213,-99.1781383,-99.160149,-99.162549,-99.1591446,-99.1351802,-99.2575527,-99.1565217,-99.0436467,-99.1734831344,-99.2906864,-99.1760298,-99.1773503087,-99.1738213,-99.263313,-99.14769,-99.254997,-99.1664667,-99.2239303,-99.1984791771,-99.0909786,-99.1373136,-99.2906864,-99.1284592,-99.124128,-99.220367,-99.2738167,-99.2880597,-99.2561697,-99.0949899,-99.1694434,-99.2114234,-99.2707271,-99.1774462,-99.0532159,-99.1359301,-99.1221422,-99.1889121,-99.140989,-99.1274918,-99.2233579,-99.1277845949,-99.2906864,-99.1621111,-99.164986,-99.122192,-99.212753,-99.171906,-99.137825,-99.153915,-99.2906864,-99.2948520184,-99.224525,-99.224525,-99.1956012,-99.1893281,-99.1821858,-99.263313,-99.2114234,-99.164986,-99.2446842,-99.1711270809,-99.0949899,-99.167762,-99.2267067,-99.177444,-99.1724994,-99.1712969,-99.2721176147,-99.3014315,-99.1863574,-99.0436467,-99.171906,-99.2983107,-99.2124468,-99.164609,-99.1331631,-99.1699933,-99.1624422,-99.2402824759,-99.1828966141,-99.146999,-99.1461089,-99.142799,-99.224352,-99.1691413,-99.1641013,-99.1821858,-99.2023662,-99.1633604933,-99.1729456,-99.1740457,-99.0436467,-99.20237,-99.1654942,-99.2906864,-99.1624422,-99.144234,-99.177444,-99.0436467,-99.0712814,-99.141393,-99.174675,-99.185753,-99.1754024,-99.0949899,-99.1297322,-99.2650096,-99.263313,-99.185753,-99.1719297,-99.263313,-99.159454,-99.1765344143,-99.254997,-99.1038592905,-99.0436467,-99.159454,-99.1179867,-99.218987,-99.1444714,-99.208595,-99.140855,-99.2906864,-99.263313,-99.133163,-99.07093,-99.188522,-99.155623791,-99.1580693,-99.164986,-99.1889121,-99.167894,-99.1988448,-99.1919122,-99.1392753126,-99.2310901,-99.1553016,-99.177444,-99.1905974,-99.153915,-99.1659764,-99.2906864,-99.0949899,-99.14769,-99.254997,-99.246689,-99.1521771,-99.1466355,-99.164986,-99.1901467,-99.0436467,-99.1582889556,-99.1893056412,-99.162549,-99.155304,-99.1873839,-99.2267067,-99.1479328,-99.1677132,-99.1237906,-99.169144,-99.2651278,-99.176758,-99.218987,-99.263313,-99.1754024,-99.2723517,-99.2880597,-99.2213702202,-99.1795009375,-99.2409738153,-99.177444,-99.1755287,-99.1634988785,-99.119331,-99.1595701,-99.1444714,-99.1519181058,-99.148384,-99.24329,-99.1828288883,-99.24807,-99.14769,-99.2906864,-99.1797506,-99.1393889,-99.1337252,-99.1536306,-99.1885632,-99.153915,-99.210077,-99.291726,-99.254997],\"marker\":{\"color\":[172446.86,553339.27,492618.62,155425.12,258224.99,99530.03,147557.13,154724.19,213430.86,421591.82,223970.65,334559.17,157690.64,252895.12,289844.37,158059.45,139968.48,184446.42,625000.0,117735.94,426861.72,473816.51,233851.71,368892.84,226605.6,131747.44,55333.92,225504.19,142287.24,458372.4,36889.28,230821.52,163366.83,332836.85,187081.37,39524.23,374337.46,163366.83,516449.98,31619.38,57968.87,99074.07,474178.35,331924.84,189716.32,287209.43,263494.89,131418.07,340345.2,137017.34,444726.6,150830.86,269180.16,310729.14,190122.1,135057.59,50327.52,83180.59,242415.29,654457.8,162123.24,521719.88,270951.79,173643.13,44497.91,115937.75,300911.16,430866.84,192305.66,86584.42,151567.64,177068.56,177068.56,574418.86,685086.71,652936.65,237089.17,309553.79,65858.1,205526.01,389972.43,28825.02,146219.53,189610.92,36889.28,79566.6,152827.03,163366.83,182597.74,171271.67,83160.87,65873.72,295114.27,202891.06,283425.64,86689.81,262440.91,63238.77,316193.86,110825.95,79029.72,313558.92,240250.36,82138.73,339908.4,163366.83,319830.09,183919.43,563879.06,519594.1,155288.07,463641.05,94858.16,326733.66,121178.91,43202.91,51381.5,168596.74,105397.95,35185.34,420000.0,337273.46,289844.37,526812.37,117735.94,432342.41,152827.03,563615.57,295114.27,52574.87,147522.15,33787.84,455846.16,131189.34,118572.7,205526.01,45584.61,163366.83,204054.75,89588.26,131747.44,326656.19,447941.31,102763.0,386283.5,163328.09,229240.55,140056.47,171113.58,520000.0,168636.73,213216.9,316193.86,130988.58,447941.31,179176.52,410954.57,38206.75,43176.57,165435.55,181811.47,211059.4,520522.86,558609.16,324098.71,657303.92,54949.68,43202.91,108913.49,507107.4,374074.03,184402.69,544778.24,149734.98,279238.36,252955.09,39524.23,269818.76,535368.91,579688.75,463751.0,432131.62,218486.8,313242.72,284574.48,226605.6,45837.24,54933.04,418956.87,240619.17,147557.13,135035.86,225520.8,303782.83,54949.68,67191.19,75783.82,679816.81,175972.85,242415.29,119229.96,167582.75,424302.13,142287.24,201837.08,298776.85,475000.0,259584.62,421591.82,558609.16,43213.16,79566.6,376708.35,92201.34,187037.01,124231.33,63238.77,94858.16,152827.03,592358.0,447835.11,67981.68,28984.43,362305.47,152827.03,437401.51,611308.14,222600.39,546119.51,123813.23,102763.0,168636.73,165105.89,303783.2,118309.2,200256.11,49638.57,168636.73,151073.1,116728.23,590228.55,247158.2,395242.33,174291.33,280977.01,579688.75,86383.21,221283.23,71126.75,258224.99,210795.91,368805.38,658737.22,144387.3,184446.42,105134.46,189663.62,632387.73,267463.12,231612.0,144922.18,190770.3,311176.92,621847.94,445200.78,113624.79,287736.42,204472.03,263432.41,416321.92,50901.94,100209.69,140470.72,205526.01,150830.86,179134.04,629415.51,534894.62,262905.55,147557.13,92367.6,105318.9,128892.1,105397.95,289844.37,268764.78,379342.68,168636.73,680000.0],\"coloraxis\":\"coloraxis\"},\"mode\":\"markers\",\"name\":\"\",\"showlegend\":false,\"subplot\":\"mapbox\",\"type\":\"scattermapbox\"}],                        {\"template\":{\"data\":{\"histogram2dcontour\":[{\"type\":\"histogram2dcontour\",\"colorbar\":{\"outlinewidth\":0,\"ticks\":\"\"},\"colorscale\":[[0.0,\"#0d0887\"],[0.1111111111111111,\"#46039f\"],[0.2222222222222222,\"#7201a8\"],[0.3333333333333333,\"#9c179e\"],[0.4444444444444444,\"#bd3786\"],[0.5555555555555556,\"#d8576b\"],[0.6666666666666666,\"#ed7953\"],[0.7777777777777778,\"#fb9f3a\"],[0.8888888888888888,\"#fdca26\"],[1.0,\"#f0f921\"]]}],\"choropleth\":[{\"type\":\"choropleth\",\"colorbar\":{\"outlinewidth\":0,\"ticks\":\"\"}}],\"histogram2d\":[{\"type\":\"histogram2d\",\"colorbar\":{\"outlinewidth\":0,\"ticks\":\"\"},\"colorscale\":[[0.0,\"#0d0887\"],[0.1111111111111111,\"#46039f\"],[0.2222222222222222,\"#7201a8\"],[0.3333333333333333,\"#9c179e\"],[0.4444444444444444,\"#bd3786\"],[0.5555555555555556,\"#d8576b\"],[0.6666666666666666,\"#ed7953\"],[0.7777777777777778,\"#fb9f3a\"],[0.8888888888888888,\"#fdca26\"],[1.0,\"#f0f921\"]]}],\"heatmap\":[{\"type\":\"heatmap\",\"colorbar\":{\"outlinewidth\":0,\"ticks\":\"\"},\"colorscale\":[[0.0,\"#0d0887\"],[0.1111111111111111,\"#46039f\"],[0.2222222222222222,\"#7201a8\"],[0.3333333333333333,\"#9c179e\"],[0.4444444444444444,\"#bd3786\"],[0.5555555555555556,\"#d8576b\"],[0.6666666666666666,\"#ed7953\"],[0.7777777777777778,\"#fb9f3a\"],[0.8888888888888888,\"#fdca26\"],[1.0,\"#f0f921\"]]}],\"heatmapgl\":[{\"type\":\"heatmapgl\",\"colorbar\":{\"outlinewidth\":0,\"ticks\":\"\"},\"colorscale\":[[0.0,\"#0d0887\"],[0.1111111111111111,\"#46039f\"],[0.2222222222222222,\"#7201a8\"],[0.3333333333333333,\"#9c179e\"],[0.4444444444444444,\"#bd3786\"],[0.5555555555555556,\"#d8576b\"],[0.6666666666666666,\"#ed7953\"],[0.7777777777777778,\"#fb9f3a\"],[0.8888888888888888,\"#fdca26\"],[1.0,\"#f0f921\"]]}],\"contourcarpet\":[{\"type\":\"contourcarpet\",\"colorbar\":{\"outlinewidth\":0,\"ticks\":\"\"}}],\"contour\":[{\"type\":\"contour\",\"colorbar\":{\"outlinewidth\":0,\"ticks\":\"\"},\"colorscale\":[[0.0,\"#0d0887\"],[0.1111111111111111,\"#46039f\"],[0.2222222222222222,\"#7201a8\"],[0.3333333333333333,\"#9c179e\"],[0.4444444444444444,\"#bd3786\"],[0.5555555555555556,\"#d8576b\"],[0.6666666666666666,\"#ed7953\"],[0.7777777777777778,\"#fb9f3a\"],[0.8888888888888888,\"#fdca26\"],[1.0,\"#f0f921\"]]}],\"surface\":[{\"type\":\"surface\",\"colorbar\":{\"outlinewidth\":0,\"ticks\":\"\"},\"colorscale\":[[0.0,\"#0d0887\"],[0.1111111111111111,\"#46039f\"],[0.2222222222222222,\"#7201a8\"],[0.3333333333333333,\"#9c179e\"],[0.4444444444444444,\"#bd3786\"],[0.5555555555555556,\"#d8576b\"],[0.6666666666666666,\"#ed7953\"],[0.7777777777777778,\"#fb9f3a\"],[0.8888888888888888,\"#fdca26\"],[1.0,\"#f0f921\"]]}],\"mesh3d\":[{\"type\":\"mesh3d\",\"colorbar\":{\"outlinewidth\":0,\"ticks\":\"\"}}],\"scatter\":[{\"fillpattern\":{\"fillmode\":\"overlay\",\"size\":10,\"solidity\":0.2},\"type\":\"scatter\"}],\"parcoords\":[{\"type\":\"parcoords\",\"line\":{\"colorbar\":{\"outlinewidth\":0,\"ticks\":\"\"}}}],\"scatterpolargl\":[{\"type\":\"scatterpolargl\",\"marker\":{\"colorbar\":{\"outlinewidth\":0,\"ticks\":\"\"}}}],\"bar\":[{\"error_x\":{\"color\":\"#2a3f5f\"},\"error_y\":{\"color\":\"#2a3f5f\"},\"marker\":{\"line\":{\"color\":\"#E5ECF6\",\"width\":0.5},\"pattern\":{\"fillmode\":\"overlay\",\"size\":10,\"solidity\":0.2}},\"type\":\"bar\"}],\"scattergeo\":[{\"type\":\"scattergeo\",\"marker\":{\"colorbar\":{\"outlinewidth\":0,\"ticks\":\"\"}}}],\"scatterpolar\":[{\"type\":\"scatterpolar\",\"marker\":{\"colorbar\":{\"outlinewidth\":0,\"ticks\":\"\"}}}],\"histogram\":[{\"marker\":{\"pattern\":{\"fillmode\":\"overlay\",\"size\":10,\"solidity\":0.2}},\"type\":\"histogram\"}],\"scattergl\":[{\"type\":\"scattergl\",\"marker\":{\"colorbar\":{\"outlinewidth\":0,\"ticks\":\"\"}}}],\"scatter3d\":[{\"type\":\"scatter3d\",\"line\":{\"colorbar\":{\"outlinewidth\":0,\"ticks\":\"\"}},\"marker\":{\"colorbar\":{\"outlinewidth\":0,\"ticks\":\"\"}}}],\"scattermapbox\":[{\"type\":\"scattermapbox\",\"marker\":{\"colorbar\":{\"outlinewidth\":0,\"ticks\":\"\"}}}],\"scatterternary\":[{\"type\":\"scatterternary\",\"marker\":{\"colorbar\":{\"outlinewidth\":0,\"ticks\":\"\"}}}],\"scattercarpet\":[{\"type\":\"scattercarpet\",\"marker\":{\"colorbar\":{\"outlinewidth\":0,\"ticks\":\"\"}}}],\"carpet\":[{\"aaxis\":{\"endlinecolor\":\"#2a3f5f\",\"gridcolor\":\"white\",\"linecolor\":\"white\",\"minorgridcolor\":\"white\",\"startlinecolor\":\"#2a3f5f\"},\"baxis\":{\"endlinecolor\":\"#2a3f5f\",\"gridcolor\":\"white\",\"linecolor\":\"white\",\"minorgridcolor\":\"white\",\"startlinecolor\":\"#2a3f5f\"},\"type\":\"carpet\"}],\"table\":[{\"cells\":{\"fill\":{\"color\":\"#EBF0F8\"},\"line\":{\"color\":\"white\"}},\"header\":{\"fill\":{\"color\":\"#C8D4E3\"},\"line\":{\"color\":\"white\"}},\"type\":\"table\"}],\"barpolar\":[{\"marker\":{\"line\":{\"color\":\"#E5ECF6\",\"width\":0.5},\"pattern\":{\"fillmode\":\"overlay\",\"size\":10,\"solidity\":0.2}},\"type\":\"barpolar\"}],\"pie\":[{\"automargin\":true,\"type\":\"pie\"}]},\"layout\":{\"autotypenumbers\":\"strict\",\"colorway\":[\"#636efa\",\"#EF553B\",\"#00cc96\",\"#ab63fa\",\"#FFA15A\",\"#19d3f3\",\"#FF6692\",\"#B6E880\",\"#FF97FF\",\"#FECB52\"],\"font\":{\"color\":\"#2a3f5f\"},\"hovermode\":\"closest\",\"hoverlabel\":{\"align\":\"left\"},\"paper_bgcolor\":\"white\",\"plot_bgcolor\":\"#E5ECF6\",\"polar\":{\"bgcolor\":\"#E5ECF6\",\"angularaxis\":{\"gridcolor\":\"white\",\"linecolor\":\"white\",\"ticks\":\"\"},\"radialaxis\":{\"gridcolor\":\"white\",\"linecolor\":\"white\",\"ticks\":\"\"}},\"ternary\":{\"bgcolor\":\"#E5ECF6\",\"aaxis\":{\"gridcolor\":\"white\",\"linecolor\":\"white\",\"ticks\":\"\"},\"baxis\":{\"gridcolor\":\"white\",\"linecolor\":\"white\",\"ticks\":\"\"},\"caxis\":{\"gridcolor\":\"white\",\"linecolor\":\"white\",\"ticks\":\"\"}},\"coloraxis\":{\"colorbar\":{\"outlinewidth\":0,\"ticks\":\"\"}},\"colorscale\":{\"sequential\":[[0.0,\"#0d0887\"],[0.1111111111111111,\"#46039f\"],[0.2222222222222222,\"#7201a8\"],[0.3333333333333333,\"#9c179e\"],[0.4444444444444444,\"#bd3786\"],[0.5555555555555556,\"#d8576b\"],[0.6666666666666666,\"#ed7953\"],[0.7777777777777778,\"#fb9f3a\"],[0.8888888888888888,\"#fdca26\"],[1.0,\"#f0f921\"]],\"sequentialminus\":[[0.0,\"#0d0887\"],[0.1111111111111111,\"#46039f\"],[0.2222222222222222,\"#7201a8\"],[0.3333333333333333,\"#9c179e\"],[0.4444444444444444,\"#bd3786\"],[0.5555555555555556,\"#d8576b\"],[0.6666666666666666,\"#ed7953\"],[0.7777777777777778,\"#fb9f3a\"],[0.8888888888888888,\"#fdca26\"],[1.0,\"#f0f921\"]],\"diverging\":[[0,\"#8e0152\"],[0.1,\"#c51b7d\"],[0.2,\"#de77ae\"],[0.3,\"#f1b6da\"],[0.4,\"#fde0ef\"],[0.5,\"#f7f7f7\"],[0.6,\"#e6f5d0\"],[0.7,\"#b8e186\"],[0.8,\"#7fbc41\"],[0.9,\"#4d9221\"],[1,\"#276419\"]]},\"xaxis\":{\"gridcolor\":\"white\",\"linecolor\":\"white\",\"ticks\":\"\",\"title\":{\"standoff\":15},\"zerolinecolor\":\"white\",\"automargin\":true,\"zerolinewidth\":2},\"yaxis\":{\"gridcolor\":\"white\",\"linecolor\":\"white\",\"ticks\":\"\",\"title\":{\"standoff\":15},\"zerolinecolor\":\"white\",\"automargin\":true,\"zerolinewidth\":2},\"scene\":{\"xaxis\":{\"backgroundcolor\":\"#E5ECF6\",\"gridcolor\":\"white\",\"linecolor\":\"white\",\"showbackground\":true,\"ticks\":\"\",\"zerolinecolor\":\"white\",\"gridwidth\":2},\"yaxis\":{\"backgroundcolor\":\"#E5ECF6\",\"gridcolor\":\"white\",\"linecolor\":\"white\",\"showbackground\":true,\"ticks\":\"\",\"zerolinecolor\":\"white\",\"gridwidth\":2},\"zaxis\":{\"backgroundcolor\":\"#E5ECF6\",\"gridcolor\":\"white\",\"linecolor\":\"white\",\"showbackground\":true,\"ticks\":\"\",\"zerolinecolor\":\"white\",\"gridwidth\":2}},\"shapedefaults\":{\"line\":{\"color\":\"#2a3f5f\"}},\"annotationdefaults\":{\"arrowcolor\":\"#2a3f5f\",\"arrowhead\":0,\"arrowwidth\":1},\"geo\":{\"bgcolor\":\"white\",\"landcolor\":\"#E5ECF6\",\"subunitcolor\":\"white\",\"showland\":true,\"showlakes\":true,\"lakecolor\":\"white\"},\"title\":{\"x\":0.05},\"mapbox\":{\"style\":\"light\"}}},\"mapbox\":{\"domain\":{\"x\":[0.0,1.0],\"y\":[0.0,1.0]},\"center\":{\"lat\":19.381014720344982,\"lon\":-99.1792029159955},\"zoom\":8,\"style\":\"open-street-map\"},\"coloraxis\":{\"colorbar\":{\"title\":{\"text\":\"price_aprox_usd\"}},\"colorscale\":[[0.0,\"#0d0887\"],[0.1111111111111111,\"#46039f\"],[0.2222222222222222,\"#7201a8\"],[0.3333333333333333,\"#9c179e\"],[0.4444444444444444,\"#bd3786\"],[0.5555555555555556,\"#d8576b\"],[0.6666666666666666,\"#ed7953\"],[0.7777777777777778,\"#fb9f3a\"],[0.8888888888888888,\"#fdca26\"],[1.0,\"#f0f921\"]]},\"legend\":{\"tracegroupgap\":0},\"margin\":{\"t\":60},\"height\":600,\"width\":600},                        {\"responsive\": true}                    ).then(function(){\n",
              "                            \n",
              "var gd = document.getElementById('d16032b8-c58c-42f3-8605-d5f99af1d04b');\n",
              "var x = new MutationObserver(function (mutations, observer) {{\n",
              "        var display = window.getComputedStyle(gd).display;\n",
              "        if (!display || display === 'none') {{\n",
              "            console.log([gd, 'removed!']);\n",
              "            Plotly.purge(gd);\n",
              "            observer.disconnect();\n",
              "        }}\n",
              "}});\n",
              "\n",
              "// Listen for the removal of the full notebook cells\n",
              "var notebookContainer = gd.closest('#notebook-container');\n",
              "if (notebookContainer) {{\n",
              "    x.observe(notebookContainer, {childList: true});\n",
              "}}\n",
              "\n",
              "// Listen for the clearing of the current output cell\n",
              "var outputEl = gd.closest('.output');\n",
              "if (outputEl) {{\n",
              "    x.observe(outputEl, {childList: true});\n",
              "}}\n",
              "\n",
              "                        })                };                            </script>        </div>\n",
              "</body>\n",
              "</html>"
            ]
          },
          "metadata": {}
        }
      ]
    },
    {
      "cell_type": "code",
      "source": [
        "#3D Scatter plot\n",
        "fig = px.scatter_3d(\n",
        "    df,\n",
        "    x = \"lon\",\n",
        "    y = \"lat\",\n",
        "    z = \"price_aprox_usd\",\n",
        "    labels = {\"lon\": \"longitude\", \"lat\":\"latitude\", \"price_aprox_usd\":\"price\"},\n",
        "    width = 600,\n",
        "    height = 600\n",
        ")\n",
        "#Refine Formatting\n",
        "fig.update_traces(\n",
        "    marker = {\"size\":4, \"line\":{\"width\":2, \"color\":\"DarkSlateGrey\"}},\n",
        "    selector = {\"mode\":\"markers\"}\n",
        ")\n",
        "fig.show()"
      ],
      "metadata": {
        "colab": {
          "base_uri": "https://localhost:8080/",
          "height": 617
        },
        "id": "1Yqx4HWeQSdm",
        "outputId": "151e0d22-6ce0-4d17-e7dc-b4b752be64e4"
      },
      "execution_count": 20,
      "outputs": [
        {
          "output_type": "display_data",
          "data": {
            "text/html": [
              "<html>\n",
              "<head><meta charset=\"utf-8\" /></head>\n",
              "<body>\n",
              "    <div>            <script src=\"https://cdnjs.cloudflare.com/ajax/libs/mathjax/2.7.5/MathJax.js?config=TeX-AMS-MML_SVG\"></script><script type=\"text/javascript\">if (window.MathJax && window.MathJax.Hub && window.MathJax.Hub.Config) {window.MathJax.Hub.Config({SVG: {font: \"STIX-Web\"}});}</script>                <script type=\"text/javascript\">window.PlotlyConfig = {MathJaxConfig: 'local'};</script>\n",
              "        <script charset=\"utf-8\" src=\"https://cdn.plot.ly/plotly-2.35.2.min.js\"></script>                <div id=\"fdd3c1d0-979b-4cd6-a1be-f47968fd42e2\" class=\"plotly-graph-div\" style=\"height:600px; width:600px;\"></div>            <script type=\"text/javascript\">                                    window.PLOTLYENV=window.PLOTLYENV || {};                                    if (document.getElementById(\"fdd3c1d0-979b-4cd6-a1be-f47968fd42e2\")) {                    Plotly.newPlot(                        \"fdd3c1d0-979b-4cd6-a1be-f47968fd42e2\",                        [{\"hovertemplate\":\"longitude=%{x}\\u003cbr\\u003elatitude=%{y}\\u003cbr\\u003eprice=%{z}\\u003cextra\\u003e\\u003c\\u002fextra\\u003e\",\"legendgroup\":\"\",\"marker\":{\"color\":\"#636efa\",\"symbol\":\"circle\",\"line\":{\"color\":\"DarkSlateGrey\",\"width\":2},\"size\":4},\"mode\":\"markers\",\"name\":\"\",\"scene\":\"scene\",\"showlegend\":false,\"x\":[-99.1591446,-99.254997,-99.1657587614,-99.153915,-99.1658498,-99.1632923484,-99.2906864,-99.1553016,-99.1717827,-99.1739405,-99.1521292,-99.2084005,-99.14769,-99.2189838,-99.177444,-99.1527773,-99.18956,-99.149787426,-99.220367,-99.0949899,-99.1594925,-99.177444,-99.177444,-99.1686282,-99.177444,-99.1674138,-99.0993735,-99.185753,-99.1493282287,-99.1651109,-99.1876426712,-99.1774462,-99.2906864,-99.253616,-99.2189838,-99.133163,-99.1679459,-99.137270786,-99.20929,-99.155991,-99.1862188,-99.1075855494,-99.2763233185,-99.1621603,-99.1522157,-99.1836755,-99.2018433,-99.151327014,-99.1821858,-99.1580399126,-99.164986,-99.1514055,-99.2989735,-99.177444,-99.1996895,-99.1444714,-99.064722,-99.0436467,-99.177444,-99.2744779587,-99.1444714,-99.2753872275,-99.177444,-99.1675547,-99.1035542,-99.124863,-99.1653974,-99.177444,-99.1630337,-99.1937082,-99.172042,-99.1386972,-99.141464,-99.254997,-99.2663861,-99.2028173804,-99.1724994,-99.177444,-99.1561883,-99.1546074,-99.177444,-99.2017929554,-99.1476908,-99.1589625,-99.0949899,-99.0436467,-99.2906864,-99.2906864,-99.1428406,-99.1393153,-99.0436467,-99.1186279,-99.177444,-99.1739857,-99.164986,-99.1936147213,-99.1781383,-99.160149,-99.162549,-99.1591446,-99.1351802,-99.2575527,-99.1565217,-99.0436467,-99.1734831344,-99.2906864,-99.1760298,-99.1773503087,-99.1738213,-99.263313,-99.14769,-99.254997,-99.1664667,-99.2239303,-99.1984791771,-99.0909786,-99.1373136,-99.2906864,-99.1284592,-99.124128,-99.220367,-99.2738167,-99.2880597,-99.2561697,-99.0949899,-99.1694434,-99.2114234,-99.2707271,-99.1774462,-99.0532159,-99.1359301,-99.1221422,-99.1889121,-99.140989,-99.1274918,-99.2233579,-99.1277845949,-99.2906864,-99.1621111,-99.164986,-99.122192,-99.212753,-99.171906,-99.137825,-99.153915,-99.2906864,-99.2948520184,-99.224525,-99.224525,-99.1956012,-99.1893281,-99.1821858,-99.263313,-99.2114234,-99.164986,-99.2446842,-99.1711270809,-99.0949899,-99.167762,-99.2267067,-99.177444,-99.1724994,-99.1712969,-99.2721176147,-99.3014315,-99.1863574,-99.0436467,-99.171906,-99.2983107,-99.2124468,-99.164609,-99.1331631,-99.1699933,-99.1624422,-99.2402824759,-99.1828966141,-99.146999,-99.1461089,-99.142799,-99.224352,-99.1691413,-99.1641013,-99.1821858,-99.2023662,-99.1633604933,-99.1729456,-99.1740457,-99.0436467,-99.20237,-99.1654942,-99.2906864,-99.1624422,-99.144234,-99.177444,-99.0436467,-99.0712814,-99.141393,-99.174675,-99.185753,-99.1754024,-99.0949899,-99.1297322,-99.2650096,-99.263313,-99.185753,-99.1719297,-99.263313,-99.159454,-99.1765344143,-99.254997,-99.1038592905,-99.0436467,-99.159454,-99.1179867,-99.218987,-99.1444714,-99.208595,-99.140855,-99.2906864,-99.263313,-99.133163,-99.07093,-99.188522,-99.155623791,-99.1580693,-99.164986,-99.1889121,-99.167894,-99.1988448,-99.1919122,-99.1392753126,-99.2310901,-99.1553016,-99.177444,-99.1905974,-99.153915,-99.1659764,-99.2906864,-99.0949899,-99.14769,-99.254997,-99.246689,-99.1521771,-99.1466355,-99.164986,-99.1901467,-99.0436467,-99.1582889556,-99.1893056412,-99.162549,-99.155304,-99.1873839,-99.2267067,-99.1479328,-99.1677132,-99.1237906,-99.169144,-99.2651278,-99.176758,-99.218987,-99.263313,-99.1754024,-99.2723517,-99.2880597,-99.2213702202,-99.1795009375,-99.2409738153,-99.177444,-99.1755287,-99.1634988785,-99.119331,-99.1595701,-99.1444714,-99.1519181058,-99.148384,-99.24329,-99.1828288883,-99.24807,-99.14769,-99.2906864,-99.1797506,-99.1393889,-99.1337252,-99.1536306,-99.1885632,-99.153915,-99.210077,-99.291726,-99.254997],\"y\":[19.3794059,19.390415,19.3753948137,19.394073,19.4169673,19.4553585442,19.3499358,19.3807458,19.4124708,19.4114169,19.3853063,19.3609784,19.39365,19.3392293,19.41498,19.3677299,19.365391,19.3714480121,19.420166,19.4306069,19.3864346,19.394358,19.394358,19.4097609,19.394358,19.3898619,19.3549174,19.358585,19.3703820187,19.3769448,19.2818221685,19.3943574,19.3499358,19.371342,19.3392293,19.461416,19.3023508,19.3747920646,19.320576,19.505199,19.3883217,19.3152718515,19.3634214999,19.4070717,19.3428273,19.3049333,19.3024064,19.3338880248,19.4032833,19.3825040623,19.381729,19.3596034,19.3503274,19.394358,19.3813197,19.3638234,19.4113101,19.2990233,19.400249,19.3577935962,19.3638234,19.3556628374,19.394358,19.2753576,19.3223015,19.343979,19.3815906,19.394358,19.3755039,19.3865508,19.407682,19.3108788,19.39912,19.390415,19.3619852,19.4425711213,19.3668017,19.394358,19.3437444,19.3756773,19.432657,19.4959960885,19.3803931,19.4482164,19.4306069,19.2990233,19.3499358,19.3499358,19.364967,19.323066,19.2990233,19.2963742,19.41498,19.3628631,19.381729,19.3865940087,19.2963762,19.516777,19.4195256,19.3794059,19.4503249,19.3302564,19.4024797,19.2990233,19.3753973563,19.3499358,19.392978,19.3737616972,19.3928136,19.392937,19.39365,19.390415,19.3847719,19.3036292,19.3845952529,19.487856,19.4302678,19.3499358,19.3776513,19.442791,19.420166,19.3445052,19.3631419,19.347138,19.4306069,19.3815495,19.2790911,19.3594791,19.4149803,19.342083,19.5290566,19.4594892,19.430456,19.3018442,19.4809432,19.3349552,19.4126915168,19.3499358,19.3680133,19.381729,19.5029542,19.3447,19.409369,19.3934821,19.394073,19.3499358,19.3810000272,19.341894,19.341894,19.4340199,19.3701781,19.4032833,19.392937,19.2790911,19.381729,19.3320226,19.4101579796,19.4306069,19.308076,19.3605334,19.400249,19.3668017,19.4201028,19.3585224004,19.3499706,19.433173,19.2990233,19.309208,19.3679526,19.4372822,19.4280794,19.4673105,19.4347155,19.3670983,19.3341208717,19.4396219801,19.431252,19.4025564,19.552402,19.4259971,19.4301322,19.3774517,19.4032833,19.3606908,19.3609365412,19.4001854,19.444606,19.2990233,19.443178,19.3814836,19.3499358,19.3670983,19.375412,19.394358,19.2990233,19.3340701,19.512787,19.376822,19.367424,19.3872626,19.4306069,19.3404477,19.3627981,19.392937,19.367424,19.361269,19.392937,19.417364,19.4158245484,19.390415,19.381259203,19.2990233,19.417364,19.4526892,19.33923,19.3638234,19.378786,19.3246591,19.3499358,19.392937,19.396593,19.392349,19.399689,19.4157341697,19.359984,19.381729,19.430456,19.3023717,19.3564335,19.3814504,19.3697678418,19.3033001,19.3807458,19.394358,19.3723335,19.394073,19.2672863,19.3499358,19.4306069,19.39365,19.390415,19.331932,19.4348398,19.3908165,19.381729,19.4336444,19.2990233,19.382727579,19.4752953603,19.4195256,19.380747,19.4374999,19.3605334,19.3358468,19.3797151,19.4068945,19.430132,19.3894263,19.387764,19.33923,19.392937,19.3872626,19.3582744,19.3631419,19.3038226746,19.3906898041,19.334220844,19.400249,19.3627249,19.3648588111,19.335419,19.471135,19.3638234,19.384622452,19.364891,19.3862785,19.4080873559,19.401079,19.39365,19.3499358,19.3905245,19.3704998,19.3733676,19.4512044,19.4380266,19.394073,19.3066442,19.3539321,19.390415],\"z\":[172446.86,553339.27,492618.62,155425.12,258224.99,99530.03,147557.13,154724.19,213430.86,421591.82,223970.65,334559.17,157690.64,252895.12,289844.37,158059.45,139968.48,184446.42,625000.0,117735.94,426861.72,473816.51,233851.71,368892.84,226605.6,131747.44,55333.92,225504.19,142287.24,458372.4,36889.28,230821.52,163366.83,332836.85,187081.37,39524.23,374337.46,163366.83,516449.98,31619.38,57968.87,99074.07,474178.35,331924.84,189716.32,287209.43,263494.89,131418.07,340345.2,137017.34,444726.6,150830.86,269180.16,310729.14,190122.1,135057.59,50327.52,83180.59,242415.29,654457.8,162123.24,521719.88,270951.79,173643.13,44497.91,115937.75,300911.16,430866.84,192305.66,86584.42,151567.64,177068.56,177068.56,574418.86,685086.71,652936.65,237089.17,309553.79,65858.1,205526.01,389972.43,28825.02,146219.53,189610.92,36889.28,79566.6,152827.03,163366.83,182597.74,171271.67,83160.87,65873.72,295114.27,202891.06,283425.64,86689.81,262440.91,63238.77,316193.86,110825.95,79029.72,313558.92,240250.36,82138.73,339908.4,163366.83,319830.09,183919.43,563879.06,519594.1,155288.07,463641.05,94858.16,326733.66,121178.91,43202.91,51381.5,168596.74,105397.95,35185.34,420000.0,337273.46,289844.37,526812.37,117735.94,432342.41,152827.03,563615.57,295114.27,52574.87,147522.15,33787.84,455846.16,131189.34,118572.7,205526.01,45584.61,163366.83,204054.75,89588.26,131747.44,326656.19,447941.31,102763.0,386283.5,163328.09,229240.55,140056.47,171113.58,520000.0,168636.73,213216.9,316193.86,130988.58,447941.31,179176.52,410954.57,38206.75,43176.57,165435.55,181811.47,211059.4,520522.86,558609.16,324098.71,657303.92,54949.68,43202.91,108913.49,507107.4,374074.03,184402.69,544778.24,149734.98,279238.36,252955.09,39524.23,269818.76,535368.91,579688.75,463751.0,432131.62,218486.8,313242.72,284574.48,226605.6,45837.24,54933.04,418956.87,240619.17,147557.13,135035.86,225520.8,303782.83,54949.68,67191.19,75783.82,679816.81,175972.85,242415.29,119229.96,167582.75,424302.13,142287.24,201837.08,298776.85,475000.0,259584.62,421591.82,558609.16,43213.16,79566.6,376708.35,92201.34,187037.01,124231.33,63238.77,94858.16,152827.03,592358.0,447835.11,67981.68,28984.43,362305.47,152827.03,437401.51,611308.14,222600.39,546119.51,123813.23,102763.0,168636.73,165105.89,303783.2,118309.2,200256.11,49638.57,168636.73,151073.1,116728.23,590228.55,247158.2,395242.33,174291.33,280977.01,579688.75,86383.21,221283.23,71126.75,258224.99,210795.91,368805.38,658737.22,144387.3,184446.42,105134.46,189663.62,632387.73,267463.12,231612.0,144922.18,190770.3,311176.92,621847.94,445200.78,113624.79,287736.42,204472.03,263432.41,416321.92,50901.94,100209.69,140470.72,205526.01,150830.86,179134.04,629415.51,534894.62,262905.55,147557.13,92367.6,105318.9,128892.1,105397.95,289844.37,268764.78,379342.68,168636.73,680000.0],\"type\":\"scatter3d\"}],                        {\"template\":{\"data\":{\"histogram2dcontour\":[{\"type\":\"histogram2dcontour\",\"colorbar\":{\"outlinewidth\":0,\"ticks\":\"\"},\"colorscale\":[[0.0,\"#0d0887\"],[0.1111111111111111,\"#46039f\"],[0.2222222222222222,\"#7201a8\"],[0.3333333333333333,\"#9c179e\"],[0.4444444444444444,\"#bd3786\"],[0.5555555555555556,\"#d8576b\"],[0.6666666666666666,\"#ed7953\"],[0.7777777777777778,\"#fb9f3a\"],[0.8888888888888888,\"#fdca26\"],[1.0,\"#f0f921\"]]}],\"choropleth\":[{\"type\":\"choropleth\",\"colorbar\":{\"outlinewidth\":0,\"ticks\":\"\"}}],\"histogram2d\":[{\"type\":\"histogram2d\",\"colorbar\":{\"outlinewidth\":0,\"ticks\":\"\"},\"colorscale\":[[0.0,\"#0d0887\"],[0.1111111111111111,\"#46039f\"],[0.2222222222222222,\"#7201a8\"],[0.3333333333333333,\"#9c179e\"],[0.4444444444444444,\"#bd3786\"],[0.5555555555555556,\"#d8576b\"],[0.6666666666666666,\"#ed7953\"],[0.7777777777777778,\"#fb9f3a\"],[0.8888888888888888,\"#fdca26\"],[1.0,\"#f0f921\"]]}],\"heatmap\":[{\"type\":\"heatmap\",\"colorbar\":{\"outlinewidth\":0,\"ticks\":\"\"},\"colorscale\":[[0.0,\"#0d0887\"],[0.1111111111111111,\"#46039f\"],[0.2222222222222222,\"#7201a8\"],[0.3333333333333333,\"#9c179e\"],[0.4444444444444444,\"#bd3786\"],[0.5555555555555556,\"#d8576b\"],[0.6666666666666666,\"#ed7953\"],[0.7777777777777778,\"#fb9f3a\"],[0.8888888888888888,\"#fdca26\"],[1.0,\"#f0f921\"]]}],\"heatmapgl\":[{\"type\":\"heatmapgl\",\"colorbar\":{\"outlinewidth\":0,\"ticks\":\"\"},\"colorscale\":[[0.0,\"#0d0887\"],[0.1111111111111111,\"#46039f\"],[0.2222222222222222,\"#7201a8\"],[0.3333333333333333,\"#9c179e\"],[0.4444444444444444,\"#bd3786\"],[0.5555555555555556,\"#d8576b\"],[0.6666666666666666,\"#ed7953\"],[0.7777777777777778,\"#fb9f3a\"],[0.8888888888888888,\"#fdca26\"],[1.0,\"#f0f921\"]]}],\"contourcarpet\":[{\"type\":\"contourcarpet\",\"colorbar\":{\"outlinewidth\":0,\"ticks\":\"\"}}],\"contour\":[{\"type\":\"contour\",\"colorbar\":{\"outlinewidth\":0,\"ticks\":\"\"},\"colorscale\":[[0.0,\"#0d0887\"],[0.1111111111111111,\"#46039f\"],[0.2222222222222222,\"#7201a8\"],[0.3333333333333333,\"#9c179e\"],[0.4444444444444444,\"#bd3786\"],[0.5555555555555556,\"#d8576b\"],[0.6666666666666666,\"#ed7953\"],[0.7777777777777778,\"#fb9f3a\"],[0.8888888888888888,\"#fdca26\"],[1.0,\"#f0f921\"]]}],\"surface\":[{\"type\":\"surface\",\"colorbar\":{\"outlinewidth\":0,\"ticks\":\"\"},\"colorscale\":[[0.0,\"#0d0887\"],[0.1111111111111111,\"#46039f\"],[0.2222222222222222,\"#7201a8\"],[0.3333333333333333,\"#9c179e\"],[0.4444444444444444,\"#bd3786\"],[0.5555555555555556,\"#d8576b\"],[0.6666666666666666,\"#ed7953\"],[0.7777777777777778,\"#fb9f3a\"],[0.8888888888888888,\"#fdca26\"],[1.0,\"#f0f921\"]]}],\"mesh3d\":[{\"type\":\"mesh3d\",\"colorbar\":{\"outlinewidth\":0,\"ticks\":\"\"}}],\"scatter\":[{\"fillpattern\":{\"fillmode\":\"overlay\",\"size\":10,\"solidity\":0.2},\"type\":\"scatter\"}],\"parcoords\":[{\"type\":\"parcoords\",\"line\":{\"colorbar\":{\"outlinewidth\":0,\"ticks\":\"\"}}}],\"scatterpolargl\":[{\"type\":\"scatterpolargl\",\"marker\":{\"colorbar\":{\"outlinewidth\":0,\"ticks\":\"\"}}}],\"bar\":[{\"error_x\":{\"color\":\"#2a3f5f\"},\"error_y\":{\"color\":\"#2a3f5f\"},\"marker\":{\"line\":{\"color\":\"#E5ECF6\",\"width\":0.5},\"pattern\":{\"fillmode\":\"overlay\",\"size\":10,\"solidity\":0.2}},\"type\":\"bar\"}],\"scattergeo\":[{\"type\":\"scattergeo\",\"marker\":{\"colorbar\":{\"outlinewidth\":0,\"ticks\":\"\"}}}],\"scatterpolar\":[{\"type\":\"scatterpolar\",\"marker\":{\"colorbar\":{\"outlinewidth\":0,\"ticks\":\"\"}}}],\"histogram\":[{\"marker\":{\"pattern\":{\"fillmode\":\"overlay\",\"size\":10,\"solidity\":0.2}},\"type\":\"histogram\"}],\"scattergl\":[{\"type\":\"scattergl\",\"marker\":{\"colorbar\":{\"outlinewidth\":0,\"ticks\":\"\"}}}],\"scatter3d\":[{\"type\":\"scatter3d\",\"line\":{\"colorbar\":{\"outlinewidth\":0,\"ticks\":\"\"}},\"marker\":{\"colorbar\":{\"outlinewidth\":0,\"ticks\":\"\"}}}],\"scattermapbox\":[{\"type\":\"scattermapbox\",\"marker\":{\"colorbar\":{\"outlinewidth\":0,\"ticks\":\"\"}}}],\"scatterternary\":[{\"type\":\"scatterternary\",\"marker\":{\"colorbar\":{\"outlinewidth\":0,\"ticks\":\"\"}}}],\"scattercarpet\":[{\"type\":\"scattercarpet\",\"marker\":{\"colorbar\":{\"outlinewidth\":0,\"ticks\":\"\"}}}],\"carpet\":[{\"aaxis\":{\"endlinecolor\":\"#2a3f5f\",\"gridcolor\":\"white\",\"linecolor\":\"white\",\"minorgridcolor\":\"white\",\"startlinecolor\":\"#2a3f5f\"},\"baxis\":{\"endlinecolor\":\"#2a3f5f\",\"gridcolor\":\"white\",\"linecolor\":\"white\",\"minorgridcolor\":\"white\",\"startlinecolor\":\"#2a3f5f\"},\"type\":\"carpet\"}],\"table\":[{\"cells\":{\"fill\":{\"color\":\"#EBF0F8\"},\"line\":{\"color\":\"white\"}},\"header\":{\"fill\":{\"color\":\"#C8D4E3\"},\"line\":{\"color\":\"white\"}},\"type\":\"table\"}],\"barpolar\":[{\"marker\":{\"line\":{\"color\":\"#E5ECF6\",\"width\":0.5},\"pattern\":{\"fillmode\":\"overlay\",\"size\":10,\"solidity\":0.2}},\"type\":\"barpolar\"}],\"pie\":[{\"automargin\":true,\"type\":\"pie\"}]},\"layout\":{\"autotypenumbers\":\"strict\",\"colorway\":[\"#636efa\",\"#EF553B\",\"#00cc96\",\"#ab63fa\",\"#FFA15A\",\"#19d3f3\",\"#FF6692\",\"#B6E880\",\"#FF97FF\",\"#FECB52\"],\"font\":{\"color\":\"#2a3f5f\"},\"hovermode\":\"closest\",\"hoverlabel\":{\"align\":\"left\"},\"paper_bgcolor\":\"white\",\"plot_bgcolor\":\"#E5ECF6\",\"polar\":{\"bgcolor\":\"#E5ECF6\",\"angularaxis\":{\"gridcolor\":\"white\",\"linecolor\":\"white\",\"ticks\":\"\"},\"radialaxis\":{\"gridcolor\":\"white\",\"linecolor\":\"white\",\"ticks\":\"\"}},\"ternary\":{\"bgcolor\":\"#E5ECF6\",\"aaxis\":{\"gridcolor\":\"white\",\"linecolor\":\"white\",\"ticks\":\"\"},\"baxis\":{\"gridcolor\":\"white\",\"linecolor\":\"white\",\"ticks\":\"\"},\"caxis\":{\"gridcolor\":\"white\",\"linecolor\":\"white\",\"ticks\":\"\"}},\"coloraxis\":{\"colorbar\":{\"outlinewidth\":0,\"ticks\":\"\"}},\"colorscale\":{\"sequential\":[[0.0,\"#0d0887\"],[0.1111111111111111,\"#46039f\"],[0.2222222222222222,\"#7201a8\"],[0.3333333333333333,\"#9c179e\"],[0.4444444444444444,\"#bd3786\"],[0.5555555555555556,\"#d8576b\"],[0.6666666666666666,\"#ed7953\"],[0.7777777777777778,\"#fb9f3a\"],[0.8888888888888888,\"#fdca26\"],[1.0,\"#f0f921\"]],\"sequentialminus\":[[0.0,\"#0d0887\"],[0.1111111111111111,\"#46039f\"],[0.2222222222222222,\"#7201a8\"],[0.3333333333333333,\"#9c179e\"],[0.4444444444444444,\"#bd3786\"],[0.5555555555555556,\"#d8576b\"],[0.6666666666666666,\"#ed7953\"],[0.7777777777777778,\"#fb9f3a\"],[0.8888888888888888,\"#fdca26\"],[1.0,\"#f0f921\"]],\"diverging\":[[0,\"#8e0152\"],[0.1,\"#c51b7d\"],[0.2,\"#de77ae\"],[0.3,\"#f1b6da\"],[0.4,\"#fde0ef\"],[0.5,\"#f7f7f7\"],[0.6,\"#e6f5d0\"],[0.7,\"#b8e186\"],[0.8,\"#7fbc41\"],[0.9,\"#4d9221\"],[1,\"#276419\"]]},\"xaxis\":{\"gridcolor\":\"white\",\"linecolor\":\"white\",\"ticks\":\"\",\"title\":{\"standoff\":15},\"zerolinecolor\":\"white\",\"automargin\":true,\"zerolinewidth\":2},\"yaxis\":{\"gridcolor\":\"white\",\"linecolor\":\"white\",\"ticks\":\"\",\"title\":{\"standoff\":15},\"zerolinecolor\":\"white\",\"automargin\":true,\"zerolinewidth\":2},\"scene\":{\"xaxis\":{\"backgroundcolor\":\"#E5ECF6\",\"gridcolor\":\"white\",\"linecolor\":\"white\",\"showbackground\":true,\"ticks\":\"\",\"zerolinecolor\":\"white\",\"gridwidth\":2},\"yaxis\":{\"backgroundcolor\":\"#E5ECF6\",\"gridcolor\":\"white\",\"linecolor\":\"white\",\"showbackground\":true,\"ticks\":\"\",\"zerolinecolor\":\"white\",\"gridwidth\":2},\"zaxis\":{\"backgroundcolor\":\"#E5ECF6\",\"gridcolor\":\"white\",\"linecolor\":\"white\",\"showbackground\":true,\"ticks\":\"\",\"zerolinecolor\":\"white\",\"gridwidth\":2}},\"shapedefaults\":{\"line\":{\"color\":\"#2a3f5f\"}},\"annotationdefaults\":{\"arrowcolor\":\"#2a3f5f\",\"arrowhead\":0,\"arrowwidth\":1},\"geo\":{\"bgcolor\":\"white\",\"landcolor\":\"#E5ECF6\",\"subunitcolor\":\"white\",\"showland\":true,\"showlakes\":true,\"lakecolor\":\"white\"},\"title\":{\"x\":0.05},\"mapbox\":{\"style\":\"light\"}}},\"scene\":{\"domain\":{\"x\":[0.0,1.0],\"y\":[0.0,1.0]},\"xaxis\":{\"title\":{\"text\":\"longitude\"}},\"yaxis\":{\"title\":{\"text\":\"latitude\"}},\"zaxis\":{\"title\":{\"text\":\"price\"}}},\"legend\":{\"tracegroupgap\":0},\"margin\":{\"t\":60},\"height\":600,\"width\":600},                        {\"responsive\": true}                    ).then(function(){\n",
              "                            \n",
              "var gd = document.getElementById('fdd3c1d0-979b-4cd6-a1be-f47968fd42e2');\n",
              "var x = new MutationObserver(function (mutations, observer) {{\n",
              "        var display = window.getComputedStyle(gd).display;\n",
              "        if (!display || display === 'none') {{\n",
              "            console.log([gd, 'removed!']);\n",
              "            Plotly.purge(gd);\n",
              "            observer.disconnect();\n",
              "        }}\n",
              "}});\n",
              "\n",
              "// Listen for the removal of the full notebook cells\n",
              "var notebookContainer = gd.closest('#notebook-container');\n",
              "if (notebookContainer) {{\n",
              "    x.observe(notebookContainer, {childList: true});\n",
              "}}\n",
              "\n",
              "// Listen for the clearing of the current output cell\n",
              "var outputEl = gd.closest('.output');\n",
              "if (outputEl) {{\n",
              "    x.observe(outputEl, {childList: true});\n",
              "}}\n",
              "\n",
              "                        })                };                            </script>        </div>\n",
              "</body>\n",
              "</html>"
            ]
          },
          "metadata": {}
        }
      ]
    },
    {
      "cell_type": "markdown",
      "source": [
        "Split : Feature Matrices & Target Vector"
      ],
      "metadata": {
        "id": "oPZZFkggVFLY"
      }
    },
    {
      "cell_type": "code",
      "source": [
        "features_location = [\"lat\", \"lon\"]\n",
        "X_train_location = df[features_location]\n",
        "print(\"X_train_location:\", X_train_location.shape)\n",
        "target_location = \"price_aprox_usd\"\n",
        "y_train_location = df[target_location]\n",
        "print(\"X_train_location:\", y_train_location.shape)"
      ],
      "metadata": {
        "colab": {
          "base_uri": "https://localhost:8080/"
        },
        "id": "9ssfsST8Ro7j",
        "outputId": "ed23bb76-ce5b-4d13-fd19-5e6060b20dd3"
      },
      "execution_count": 21,
      "outputs": [
        {
          "output_type": "stream",
          "name": "stdout",
          "text": [
            "X_train_location: (289, 2)\n",
            "X_train_location: (289,)\n"
          ]
        }
      ]
    },
    {
      "cell_type": "markdown",
      "source": [
        "BUILD MODEL"
      ],
      "metadata": {
        "id": "zCbtp31AWgdt"
      }
    },
    {
      "cell_type": "markdown",
      "source": [
        "Baseline"
      ],
      "metadata": {
        "id": "edzShlmEWics"
      }
    },
    {
      "cell_type": "code",
      "source": [
        "y_mean_location = y_train_location.mean()\n",
        "print(round(y_mean_location,2))"
      ],
      "metadata": {
        "colab": {
          "base_uri": "https://localhost:8080/"
        },
        "id": "4LpjNAMhWDGC",
        "outputId": "b7d966ac-8d9e-42b1-9783-1287dc25c82a"
      },
      "execution_count": 22,
      "outputs": [
        {
          "output_type": "stream",
          "name": "stdout",
          "text": [
            "248004.59\n"
          ]
        }
      ]
    },
    {
      "cell_type": "code",
      "source": [
        "y_pred_baseline_location = [y_mean_location] * len(y_train_location)\n",
        "print(y_pred_baseline_location[:5])"
      ],
      "metadata": {
        "colab": {
          "base_uri": "https://localhost:8080/"
        },
        "id": "WBzIA797WpGQ",
        "outputId": "a2358b4f-88ff-4910-823c-39b3d34abe7b"
      },
      "execution_count": 23,
      "outputs": [
        {
          "output_type": "stream",
          "name": "stdout",
          "text": [
            "[np.float64(248004.589550173), np.float64(248004.589550173), np.float64(248004.589550173), np.float64(248004.589550173), np.float64(248004.589550173)]\n"
          ]
        }
      ]
    },
    {
      "cell_type": "code",
      "source": [
        "mae_baseline_location = mean_absolute_error(y_train_location, y_pred_baseline_location)\n",
        "print(\"Mean apt price:\",round(y_mean_location, 2))\n",
        "print(\"MAE Baseline:\", round(mae_baseline_location, 2))"
      ],
      "metadata": {
        "colab": {
          "base_uri": "https://localhost:8080/"
        },
        "id": "IAipv4GSXHqi",
        "outputId": "d8b8038e-349f-42b3-8e02-0a695ebf1ab3"
      },
      "execution_count": 24,
      "outputs": [
        {
          "output_type": "stream",
          "name": "stdout",
          "text": [
            "Mean apt price: 248004.59\n",
            "MAE Baseline: 134526.4\n"
          ]
        }
      ]
    },
    {
      "cell_type": "markdown",
      "source": [
        "ITERATE"
      ],
      "metadata": {
        "id": "A9GGwnChi_vb"
      }
    },
    {
      "cell_type": "markdown",
      "source": [
        "Instantiating and Transforming my Model"
      ],
      "metadata": {
        "id": "ewJJx4HejCFI"
      }
    },
    {
      "cell_type": "code",
      "source": [
        "model_location = make_pipeline(\n",
        "    SimpleImputer(),\n",
        "    LinearRegression()\n",
        ")\n",
        "model_location.fit(X_train_location, y_train_location)"
      ],
      "metadata": {
        "colab": {
          "base_uri": "https://localhost:8080/",
          "height": 155
        },
        "id": "MyXtfjYSZ5Yh",
        "outputId": "3b0dc1f9-be1e-40b1-f3d7-44b548db9711"
      },
      "execution_count": 25,
      "outputs": [
        {
          "output_type": "execute_result",
          "data": {
            "text/plain": [
              "Pipeline(steps=[('simpleimputer', SimpleImputer()),\n",
              "                ('linearregression', LinearRegression())])"
            ],
            "text/html": [
              "<style>#sk-container-id-2 {\n",
              "  /* Definition of color scheme common for light and dark mode */\n",
              "  --sklearn-color-text: #000;\n",
              "  --sklearn-color-text-muted: #666;\n",
              "  --sklearn-color-line: gray;\n",
              "  /* Definition of color scheme for unfitted estimators */\n",
              "  --sklearn-color-unfitted-level-0: #fff5e6;\n",
              "  --sklearn-color-unfitted-level-1: #f6e4d2;\n",
              "  --sklearn-color-unfitted-level-2: #ffe0b3;\n",
              "  --sklearn-color-unfitted-level-3: chocolate;\n",
              "  /* Definition of color scheme for fitted estimators */\n",
              "  --sklearn-color-fitted-level-0: #f0f8ff;\n",
              "  --sklearn-color-fitted-level-1: #d4ebff;\n",
              "  --sklearn-color-fitted-level-2: #b3dbfd;\n",
              "  --sklearn-color-fitted-level-3: cornflowerblue;\n",
              "\n",
              "  /* Specific color for light theme */\n",
              "  --sklearn-color-text-on-default-background: var(--sg-text-color, var(--theme-code-foreground, var(--jp-content-font-color1, black)));\n",
              "  --sklearn-color-background: var(--sg-background-color, var(--theme-background, var(--jp-layout-color0, white)));\n",
              "  --sklearn-color-border-box: var(--sg-text-color, var(--theme-code-foreground, var(--jp-content-font-color1, black)));\n",
              "  --sklearn-color-icon: #696969;\n",
              "\n",
              "  @media (prefers-color-scheme: dark) {\n",
              "    /* Redefinition of color scheme for dark theme */\n",
              "    --sklearn-color-text-on-default-background: var(--sg-text-color, var(--theme-code-foreground, var(--jp-content-font-color1, white)));\n",
              "    --sklearn-color-background: var(--sg-background-color, var(--theme-background, var(--jp-layout-color0, #111)));\n",
              "    --sklearn-color-border-box: var(--sg-text-color, var(--theme-code-foreground, var(--jp-content-font-color1, white)));\n",
              "    --sklearn-color-icon: #878787;\n",
              "  }\n",
              "}\n",
              "\n",
              "#sk-container-id-2 {\n",
              "  color: var(--sklearn-color-text);\n",
              "}\n",
              "\n",
              "#sk-container-id-2 pre {\n",
              "  padding: 0;\n",
              "}\n",
              "\n",
              "#sk-container-id-2 input.sk-hidden--visually {\n",
              "  border: 0;\n",
              "  clip: rect(1px 1px 1px 1px);\n",
              "  clip: rect(1px, 1px, 1px, 1px);\n",
              "  height: 1px;\n",
              "  margin: -1px;\n",
              "  overflow: hidden;\n",
              "  padding: 0;\n",
              "  position: absolute;\n",
              "  width: 1px;\n",
              "}\n",
              "\n",
              "#sk-container-id-2 div.sk-dashed-wrapped {\n",
              "  border: 1px dashed var(--sklearn-color-line);\n",
              "  margin: 0 0.4em 0.5em 0.4em;\n",
              "  box-sizing: border-box;\n",
              "  padding-bottom: 0.4em;\n",
              "  background-color: var(--sklearn-color-background);\n",
              "}\n",
              "\n",
              "#sk-container-id-2 div.sk-container {\n",
              "  /* jupyter's `normalize.less` sets `[hidden] { display: none; }`\n",
              "     but bootstrap.min.css set `[hidden] { display: none !important; }`\n",
              "     so we also need the `!important` here to be able to override the\n",
              "     default hidden behavior on the sphinx rendered scikit-learn.org.\n",
              "     See: https://github.com/scikit-learn/scikit-learn/issues/21755 */\n",
              "  display: inline-block !important;\n",
              "  position: relative;\n",
              "}\n",
              "\n",
              "#sk-container-id-2 div.sk-text-repr-fallback {\n",
              "  display: none;\n",
              "}\n",
              "\n",
              "div.sk-parallel-item,\n",
              "div.sk-serial,\n",
              "div.sk-item {\n",
              "  /* draw centered vertical line to link estimators */\n",
              "  background-image: linear-gradient(var(--sklearn-color-text-on-default-background), var(--sklearn-color-text-on-default-background));\n",
              "  background-size: 2px 100%;\n",
              "  background-repeat: no-repeat;\n",
              "  background-position: center center;\n",
              "}\n",
              "\n",
              "/* Parallel-specific style estimator block */\n",
              "\n",
              "#sk-container-id-2 div.sk-parallel-item::after {\n",
              "  content: \"\";\n",
              "  width: 100%;\n",
              "  border-bottom: 2px solid var(--sklearn-color-text-on-default-background);\n",
              "  flex-grow: 1;\n",
              "}\n",
              "\n",
              "#sk-container-id-2 div.sk-parallel {\n",
              "  display: flex;\n",
              "  align-items: stretch;\n",
              "  justify-content: center;\n",
              "  background-color: var(--sklearn-color-background);\n",
              "  position: relative;\n",
              "}\n",
              "\n",
              "#sk-container-id-2 div.sk-parallel-item {\n",
              "  display: flex;\n",
              "  flex-direction: column;\n",
              "}\n",
              "\n",
              "#sk-container-id-2 div.sk-parallel-item:first-child::after {\n",
              "  align-self: flex-end;\n",
              "  width: 50%;\n",
              "}\n",
              "\n",
              "#sk-container-id-2 div.sk-parallel-item:last-child::after {\n",
              "  align-self: flex-start;\n",
              "  width: 50%;\n",
              "}\n",
              "\n",
              "#sk-container-id-2 div.sk-parallel-item:only-child::after {\n",
              "  width: 0;\n",
              "}\n",
              "\n",
              "/* Serial-specific style estimator block */\n",
              "\n",
              "#sk-container-id-2 div.sk-serial {\n",
              "  display: flex;\n",
              "  flex-direction: column;\n",
              "  align-items: center;\n",
              "  background-color: var(--sklearn-color-background);\n",
              "  padding-right: 1em;\n",
              "  padding-left: 1em;\n",
              "}\n",
              "\n",
              "\n",
              "/* Toggleable style: style used for estimator/Pipeline/ColumnTransformer box that is\n",
              "clickable and can be expanded/collapsed.\n",
              "- Pipeline and ColumnTransformer use this feature and define the default style\n",
              "- Estimators will overwrite some part of the style using the `sk-estimator` class\n",
              "*/\n",
              "\n",
              "/* Pipeline and ColumnTransformer style (default) */\n",
              "\n",
              "#sk-container-id-2 div.sk-toggleable {\n",
              "  /* Default theme specific background. It is overwritten whether we have a\n",
              "  specific estimator or a Pipeline/ColumnTransformer */\n",
              "  background-color: var(--sklearn-color-background);\n",
              "}\n",
              "\n",
              "/* Toggleable label */\n",
              "#sk-container-id-2 label.sk-toggleable__label {\n",
              "  cursor: pointer;\n",
              "  display: flex;\n",
              "  width: 100%;\n",
              "  margin-bottom: 0;\n",
              "  padding: 0.5em;\n",
              "  box-sizing: border-box;\n",
              "  text-align: center;\n",
              "  align-items: start;\n",
              "  justify-content: space-between;\n",
              "  gap: 0.5em;\n",
              "}\n",
              "\n",
              "#sk-container-id-2 label.sk-toggleable__label .caption {\n",
              "  font-size: 0.6rem;\n",
              "  font-weight: lighter;\n",
              "  color: var(--sklearn-color-text-muted);\n",
              "}\n",
              "\n",
              "#sk-container-id-2 label.sk-toggleable__label-arrow:before {\n",
              "  /* Arrow on the left of the label */\n",
              "  content: \"▸\";\n",
              "  float: left;\n",
              "  margin-right: 0.25em;\n",
              "  color: var(--sklearn-color-icon);\n",
              "}\n",
              "\n",
              "#sk-container-id-2 label.sk-toggleable__label-arrow:hover:before {\n",
              "  color: var(--sklearn-color-text);\n",
              "}\n",
              "\n",
              "/* Toggleable content - dropdown */\n",
              "\n",
              "#sk-container-id-2 div.sk-toggleable__content {\n",
              "  max-height: 0;\n",
              "  max-width: 0;\n",
              "  overflow: hidden;\n",
              "  text-align: left;\n",
              "  /* unfitted */\n",
              "  background-color: var(--sklearn-color-unfitted-level-0);\n",
              "}\n",
              "\n",
              "#sk-container-id-2 div.sk-toggleable__content.fitted {\n",
              "  /* fitted */\n",
              "  background-color: var(--sklearn-color-fitted-level-0);\n",
              "}\n",
              "\n",
              "#sk-container-id-2 div.sk-toggleable__content pre {\n",
              "  margin: 0.2em;\n",
              "  border-radius: 0.25em;\n",
              "  color: var(--sklearn-color-text);\n",
              "  /* unfitted */\n",
              "  background-color: var(--sklearn-color-unfitted-level-0);\n",
              "}\n",
              "\n",
              "#sk-container-id-2 div.sk-toggleable__content.fitted pre {\n",
              "  /* unfitted */\n",
              "  background-color: var(--sklearn-color-fitted-level-0);\n",
              "}\n",
              "\n",
              "#sk-container-id-2 input.sk-toggleable__control:checked~div.sk-toggleable__content {\n",
              "  /* Expand drop-down */\n",
              "  max-height: 200px;\n",
              "  max-width: 100%;\n",
              "  overflow: auto;\n",
              "}\n",
              "\n",
              "#sk-container-id-2 input.sk-toggleable__control:checked~label.sk-toggleable__label-arrow:before {\n",
              "  content: \"▾\";\n",
              "}\n",
              "\n",
              "/* Pipeline/ColumnTransformer-specific style */\n",
              "\n",
              "#sk-container-id-2 div.sk-label input.sk-toggleable__control:checked~label.sk-toggleable__label {\n",
              "  color: var(--sklearn-color-text);\n",
              "  background-color: var(--sklearn-color-unfitted-level-2);\n",
              "}\n",
              "\n",
              "#sk-container-id-2 div.sk-label.fitted input.sk-toggleable__control:checked~label.sk-toggleable__label {\n",
              "  background-color: var(--sklearn-color-fitted-level-2);\n",
              "}\n",
              "\n",
              "/* Estimator-specific style */\n",
              "\n",
              "/* Colorize estimator box */\n",
              "#sk-container-id-2 div.sk-estimator input.sk-toggleable__control:checked~label.sk-toggleable__label {\n",
              "  /* unfitted */\n",
              "  background-color: var(--sklearn-color-unfitted-level-2);\n",
              "}\n",
              "\n",
              "#sk-container-id-2 div.sk-estimator.fitted input.sk-toggleable__control:checked~label.sk-toggleable__label {\n",
              "  /* fitted */\n",
              "  background-color: var(--sklearn-color-fitted-level-2);\n",
              "}\n",
              "\n",
              "#sk-container-id-2 div.sk-label label.sk-toggleable__label,\n",
              "#sk-container-id-2 div.sk-label label {\n",
              "  /* The background is the default theme color */\n",
              "  color: var(--sklearn-color-text-on-default-background);\n",
              "}\n",
              "\n",
              "/* On hover, darken the color of the background */\n",
              "#sk-container-id-2 div.sk-label:hover label.sk-toggleable__label {\n",
              "  color: var(--sklearn-color-text);\n",
              "  background-color: var(--sklearn-color-unfitted-level-2);\n",
              "}\n",
              "\n",
              "/* Label box, darken color on hover, fitted */\n",
              "#sk-container-id-2 div.sk-label.fitted:hover label.sk-toggleable__label.fitted {\n",
              "  color: var(--sklearn-color-text);\n",
              "  background-color: var(--sklearn-color-fitted-level-2);\n",
              "}\n",
              "\n",
              "/* Estimator label */\n",
              "\n",
              "#sk-container-id-2 div.sk-label label {\n",
              "  font-family: monospace;\n",
              "  font-weight: bold;\n",
              "  display: inline-block;\n",
              "  line-height: 1.2em;\n",
              "}\n",
              "\n",
              "#sk-container-id-2 div.sk-label-container {\n",
              "  text-align: center;\n",
              "}\n",
              "\n",
              "/* Estimator-specific */\n",
              "#sk-container-id-2 div.sk-estimator {\n",
              "  font-family: monospace;\n",
              "  border: 1px dotted var(--sklearn-color-border-box);\n",
              "  border-radius: 0.25em;\n",
              "  box-sizing: border-box;\n",
              "  margin-bottom: 0.5em;\n",
              "  /* unfitted */\n",
              "  background-color: var(--sklearn-color-unfitted-level-0);\n",
              "}\n",
              "\n",
              "#sk-container-id-2 div.sk-estimator.fitted {\n",
              "  /* fitted */\n",
              "  background-color: var(--sklearn-color-fitted-level-0);\n",
              "}\n",
              "\n",
              "/* on hover */\n",
              "#sk-container-id-2 div.sk-estimator:hover {\n",
              "  /* unfitted */\n",
              "  background-color: var(--sklearn-color-unfitted-level-2);\n",
              "}\n",
              "\n",
              "#sk-container-id-2 div.sk-estimator.fitted:hover {\n",
              "  /* fitted */\n",
              "  background-color: var(--sklearn-color-fitted-level-2);\n",
              "}\n",
              "\n",
              "/* Specification for estimator info (e.g. \"i\" and \"?\") */\n",
              "\n",
              "/* Common style for \"i\" and \"?\" */\n",
              "\n",
              ".sk-estimator-doc-link,\n",
              "a:link.sk-estimator-doc-link,\n",
              "a:visited.sk-estimator-doc-link {\n",
              "  float: right;\n",
              "  font-size: smaller;\n",
              "  line-height: 1em;\n",
              "  font-family: monospace;\n",
              "  background-color: var(--sklearn-color-background);\n",
              "  border-radius: 1em;\n",
              "  height: 1em;\n",
              "  width: 1em;\n",
              "  text-decoration: none !important;\n",
              "  margin-left: 0.5em;\n",
              "  text-align: center;\n",
              "  /* unfitted */\n",
              "  border: var(--sklearn-color-unfitted-level-1) 1pt solid;\n",
              "  color: var(--sklearn-color-unfitted-level-1);\n",
              "}\n",
              "\n",
              ".sk-estimator-doc-link.fitted,\n",
              "a:link.sk-estimator-doc-link.fitted,\n",
              "a:visited.sk-estimator-doc-link.fitted {\n",
              "  /* fitted */\n",
              "  border: var(--sklearn-color-fitted-level-1) 1pt solid;\n",
              "  color: var(--sklearn-color-fitted-level-1);\n",
              "}\n",
              "\n",
              "/* On hover */\n",
              "div.sk-estimator:hover .sk-estimator-doc-link:hover,\n",
              ".sk-estimator-doc-link:hover,\n",
              "div.sk-label-container:hover .sk-estimator-doc-link:hover,\n",
              ".sk-estimator-doc-link:hover {\n",
              "  /* unfitted */\n",
              "  background-color: var(--sklearn-color-unfitted-level-3);\n",
              "  color: var(--sklearn-color-background);\n",
              "  text-decoration: none;\n",
              "}\n",
              "\n",
              "div.sk-estimator.fitted:hover .sk-estimator-doc-link.fitted:hover,\n",
              ".sk-estimator-doc-link.fitted:hover,\n",
              "div.sk-label-container:hover .sk-estimator-doc-link.fitted:hover,\n",
              ".sk-estimator-doc-link.fitted:hover {\n",
              "  /* fitted */\n",
              "  background-color: var(--sklearn-color-fitted-level-3);\n",
              "  color: var(--sklearn-color-background);\n",
              "  text-decoration: none;\n",
              "}\n",
              "\n",
              "/* Span, style for the box shown on hovering the info icon */\n",
              ".sk-estimator-doc-link span {\n",
              "  display: none;\n",
              "  z-index: 9999;\n",
              "  position: relative;\n",
              "  font-weight: normal;\n",
              "  right: .2ex;\n",
              "  padding: .5ex;\n",
              "  margin: .5ex;\n",
              "  width: min-content;\n",
              "  min-width: 20ex;\n",
              "  max-width: 50ex;\n",
              "  color: var(--sklearn-color-text);\n",
              "  box-shadow: 2pt 2pt 4pt #999;\n",
              "  /* unfitted */\n",
              "  background: var(--sklearn-color-unfitted-level-0);\n",
              "  border: .5pt solid var(--sklearn-color-unfitted-level-3);\n",
              "}\n",
              "\n",
              ".sk-estimator-doc-link.fitted span {\n",
              "  /* fitted */\n",
              "  background: var(--sklearn-color-fitted-level-0);\n",
              "  border: var(--sklearn-color-fitted-level-3);\n",
              "}\n",
              "\n",
              ".sk-estimator-doc-link:hover span {\n",
              "  display: block;\n",
              "}\n",
              "\n",
              "/* \"?\"-specific style due to the `<a>` HTML tag */\n",
              "\n",
              "#sk-container-id-2 a.estimator_doc_link {\n",
              "  float: right;\n",
              "  font-size: 1rem;\n",
              "  line-height: 1em;\n",
              "  font-family: monospace;\n",
              "  background-color: var(--sklearn-color-background);\n",
              "  border-radius: 1rem;\n",
              "  height: 1rem;\n",
              "  width: 1rem;\n",
              "  text-decoration: none;\n",
              "  /* unfitted */\n",
              "  color: var(--sklearn-color-unfitted-level-1);\n",
              "  border: var(--sklearn-color-unfitted-level-1) 1pt solid;\n",
              "}\n",
              "\n",
              "#sk-container-id-2 a.estimator_doc_link.fitted {\n",
              "  /* fitted */\n",
              "  border: var(--sklearn-color-fitted-level-1) 1pt solid;\n",
              "  color: var(--sklearn-color-fitted-level-1);\n",
              "}\n",
              "\n",
              "/* On hover */\n",
              "#sk-container-id-2 a.estimator_doc_link:hover {\n",
              "  /* unfitted */\n",
              "  background-color: var(--sklearn-color-unfitted-level-3);\n",
              "  color: var(--sklearn-color-background);\n",
              "  text-decoration: none;\n",
              "}\n",
              "\n",
              "#sk-container-id-2 a.estimator_doc_link.fitted:hover {\n",
              "  /* fitted */\n",
              "  background-color: var(--sklearn-color-fitted-level-3);\n",
              "}\n",
              "</style><div id=\"sk-container-id-2\" class=\"sk-top-container\"><div class=\"sk-text-repr-fallback\"><pre>Pipeline(steps=[(&#x27;simpleimputer&#x27;, SimpleImputer()),\n",
              "                (&#x27;linearregression&#x27;, LinearRegression())])</pre><b>In a Jupyter environment, please rerun this cell to show the HTML representation or trust the notebook. <br />On GitHub, the HTML representation is unable to render, please try loading this page with nbviewer.org.</b></div><div class=\"sk-container\" hidden><div class=\"sk-item sk-dashed-wrapped\"><div class=\"sk-label-container\"><div class=\"sk-label fitted sk-toggleable\"><input class=\"sk-toggleable__control sk-hidden--visually\" id=\"sk-estimator-id-2\" type=\"checkbox\" ><label for=\"sk-estimator-id-2\" class=\"sk-toggleable__label fitted sk-toggleable__label-arrow\"><div><div>Pipeline</div></div><div><a class=\"sk-estimator-doc-link fitted\" rel=\"noreferrer\" target=\"_blank\" href=\"https://scikit-learn.org/1.6/modules/generated/sklearn.pipeline.Pipeline.html\">?<span>Documentation for Pipeline</span></a><span class=\"sk-estimator-doc-link fitted\">i<span>Fitted</span></span></div></label><div class=\"sk-toggleable__content fitted\"><pre>Pipeline(steps=[(&#x27;simpleimputer&#x27;, SimpleImputer()),\n",
              "                (&#x27;linearregression&#x27;, LinearRegression())])</pre></div> </div></div><div class=\"sk-serial\"><div class=\"sk-item\"><div class=\"sk-estimator fitted sk-toggleable\"><input class=\"sk-toggleable__control sk-hidden--visually\" id=\"sk-estimator-id-3\" type=\"checkbox\" ><label for=\"sk-estimator-id-3\" class=\"sk-toggleable__label fitted sk-toggleable__label-arrow\"><div><div>SimpleImputer</div></div><div><a class=\"sk-estimator-doc-link fitted\" rel=\"noreferrer\" target=\"_blank\" href=\"https://scikit-learn.org/1.6/modules/generated/sklearn.impute.SimpleImputer.html\">?<span>Documentation for SimpleImputer</span></a></div></label><div class=\"sk-toggleable__content fitted\"><pre>SimpleImputer()</pre></div> </div></div><div class=\"sk-item\"><div class=\"sk-estimator fitted sk-toggleable\"><input class=\"sk-toggleable__control sk-hidden--visually\" id=\"sk-estimator-id-4\" type=\"checkbox\" ><label for=\"sk-estimator-id-4\" class=\"sk-toggleable__label fitted sk-toggleable__label-arrow\"><div><div>LinearRegression</div></div><div><a class=\"sk-estimator-doc-link fitted\" rel=\"noreferrer\" target=\"_blank\" href=\"https://scikit-learn.org/1.6/modules/generated/sklearn.linear_model.LinearRegression.html\">?<span>Documentation for LinearRegression</span></a></div></label><div class=\"sk-toggleable__content fitted\"><pre>LinearRegression()</pre></div> </div></div></div></div></div></div>"
            ]
          },
          "metadata": {},
          "execution_count": 25
        }
      ]
    },
    {
      "cell_type": "markdown",
      "source": [
        "EVALUATE"
      ],
      "metadata": {
        "id": "yiqU-tXojPdD"
      }
    },
    {
      "cell_type": "code",
      "source": [
        "#Generate predictions\n",
        "y_pred_training_location = model_location.predict(X_train_location)\n",
        "y_pred_training_location[:5]"
      ],
      "metadata": {
        "colab": {
          "base_uri": "https://localhost:8080/"
        },
        "id": "9nLlgcqBcquG",
        "outputId": "72faaf4d-cde9-4931-bad1-710074fd1fe9"
      },
      "execution_count": 26,
      "outputs": [
        {
          "output_type": "execute_result",
          "data": {
            "text/plain": [
              "array([219989.98813236, 355752.58363336, 226643.64638615, 221269.93206397,\n",
              "       250420.44194412])"
            ]
          },
          "metadata": {},
          "execution_count": 26
        }
      ]
    },
    {
      "cell_type": "markdown",
      "source": [
        "MAE Training"
      ],
      "metadata": {
        "id": "jsarNCpsjSoX"
      }
    },
    {
      "cell_type": "code",
      "source": [
        "mae_training_location = mean_absolute_error(y_train_location, y_pred_training_location)\n",
        "mae_training_location"
      ],
      "metadata": {
        "colab": {
          "base_uri": "https://localhost:8080/"
        },
        "id": "5UpBOmmKc6aB",
        "outputId": "083789a8-4596-4f88-9e7d-0180d25d0c38"
      },
      "execution_count": 27,
      "outputs": [
        {
          "output_type": "execute_result",
          "data": {
            "text/plain": [
              "115762.61314717871"
            ]
          },
          "metadata": {},
          "execution_count": 27
        }
      ]
    },
    {
      "cell_type": "markdown",
      "source": [
        "The location model is performing better than the baseline, which is exactly what should happen. The improvement (from 134k to 115k MAE)\n",
        "\n",
        "This confirms that apartments in different areas have systematically different prices\n",
        "\n",
        "Also confirms that \"lat\" and \"lon\" columns are not strong predictors as size is."
      ],
      "metadata": {
        "id": "-vJLJAVEixo1"
      }
    },
    {
      "cell_type": "markdown",
      "source": [
        "COMMUNICATING RESULTS"
      ],
      "metadata": {
        "id": "GQ_0h7fXj2eX"
      }
    },
    {
      "cell_type": "code",
      "source": [
        "#Extract Intercept and Coefficients and generating an equation\n",
        "intercept_location = model_location.named_steps[\"linearregression\"].intercept_\n",
        "print(\"intercept:\", round(intercept_location,2))\n",
        "coefficient_location = model_location.named_steps[\"linearregression\"].coef_\n",
        "print(\"coefficient:\", coefficient_location)\n",
        "print(f\"price_of_apt = {intercept} + ({coefficient}*longitude) + ({coefficient}*latitude)\")"
      ],
      "metadata": {
        "colab": {
          "base_uri": "https://localhost:8080/"
        },
        "id": "bBehmbVXdNUV",
        "outputId": "0cd5abc6-07be-44ab-e674-5115d850d17f"
      },
      "execution_count": 28,
      "outputs": [
        {
          "output_type": "stream",
          "name": "stdout",
          "text": [
            "intercept: -144772603.0\n",
            "coefficient: [  568977.28626653 -1351021.65056644]\n",
            "price_of_apt = -9092.11 + (2045.34*longitude) + (2045.34*latitude)\n"
          ]
        }
      ]
    },
    {
      "cell_type": "markdown",
      "source": [
        "As you move North and East, the predicted apartment size increases"
      ],
      "metadata": {
        "id": "5VsYzbLhluT6"
      }
    },
    {
      "cell_type": "code",
      "source": [
        "#3D Scatter plot\n",
        "fig = px.scatter_3d(\n",
        "    df,\n",
        "    x = \"lat\",\n",
        "    y = \"lon\",\n",
        "    z = \"price_aprox_usd\",\n",
        "    labels = {\"lat\": \"latitude\", \"lon\":\"longitude\", \"price_aprox_usd\":\"price\"},\n",
        "    width = 600,\n",
        "    height = 600\n",
        ")\n",
        "#Refine Formatting\n",
        "fig.update_traces(\n",
        "    marker = {\"size\":4, \"line\":{\"width\":2, \"color\":\"DarkSlateGrey\"}},\n",
        "    selector = {\"mode\":\"markers\"}\n",
        ")\n",
        "fig.show()\n",
        "#Create x and y coordinates for model presentation\n",
        "x_plane = np.linspace(df[\"lat\"].min(), df[\"lat\"].max(),10)\n",
        "y_plane = np.linspace(df[\"lon\"].min(), df[\"lon\"].max(),10)\n",
        "xx, yy = np.meshgrid(x_plane, y_plane)\n",
        "#Use Model to predict z-coordinates\n",
        "z_plane = model_location.predict(pd.DataFrame({\"lat\": x_plane, \"lon\": y_plane}))\n",
        "zz = np.tile(z_plane, (10,1))"
      ],
      "metadata": {
        "colab": {
          "base_uri": "https://localhost:8080/",
          "height": 617
        },
        "id": "7BbDRqFzkYeV",
        "outputId": "80c79ca5-ca18-4b86-bdbc-57e1cca47e11"
      },
      "execution_count": 29,
      "outputs": [
        {
          "output_type": "display_data",
          "data": {
            "text/html": [
              "<html>\n",
              "<head><meta charset=\"utf-8\" /></head>\n",
              "<body>\n",
              "    <div>            <script src=\"https://cdnjs.cloudflare.com/ajax/libs/mathjax/2.7.5/MathJax.js?config=TeX-AMS-MML_SVG\"></script><script type=\"text/javascript\">if (window.MathJax && window.MathJax.Hub && window.MathJax.Hub.Config) {window.MathJax.Hub.Config({SVG: {font: \"STIX-Web\"}});}</script>                <script type=\"text/javascript\">window.PlotlyConfig = {MathJaxConfig: 'local'};</script>\n",
              "        <script charset=\"utf-8\" src=\"https://cdn.plot.ly/plotly-2.35.2.min.js\"></script>                <div id=\"9104ccd4-4781-4914-9587-c9332fd83a01\" class=\"plotly-graph-div\" style=\"height:600px; width:600px;\"></div>            <script type=\"text/javascript\">                                    window.PLOTLYENV=window.PLOTLYENV || {};                                    if (document.getElementById(\"9104ccd4-4781-4914-9587-c9332fd83a01\")) {                    Plotly.newPlot(                        \"9104ccd4-4781-4914-9587-c9332fd83a01\",                        [{\"hovertemplate\":\"latitude=%{x}\\u003cbr\\u003elongitude=%{y}\\u003cbr\\u003eprice=%{z}\\u003cextra\\u003e\\u003c\\u002fextra\\u003e\",\"legendgroup\":\"\",\"marker\":{\"color\":\"#636efa\",\"symbol\":\"circle\",\"line\":{\"color\":\"DarkSlateGrey\",\"width\":2},\"size\":4},\"mode\":\"markers\",\"name\":\"\",\"scene\":\"scene\",\"showlegend\":false,\"x\":[19.3794059,19.390415,19.3753948137,19.394073,19.4169673,19.4553585442,19.3499358,19.3807458,19.4124708,19.4114169,19.3853063,19.3609784,19.39365,19.3392293,19.41498,19.3677299,19.365391,19.3714480121,19.420166,19.4306069,19.3864346,19.394358,19.394358,19.4097609,19.394358,19.3898619,19.3549174,19.358585,19.3703820187,19.3769448,19.2818221685,19.3943574,19.3499358,19.371342,19.3392293,19.461416,19.3023508,19.3747920646,19.320576,19.505199,19.3883217,19.3152718515,19.3634214999,19.4070717,19.3428273,19.3049333,19.3024064,19.3338880248,19.4032833,19.3825040623,19.381729,19.3596034,19.3503274,19.394358,19.3813197,19.3638234,19.4113101,19.2990233,19.400249,19.3577935962,19.3638234,19.3556628374,19.394358,19.2753576,19.3223015,19.343979,19.3815906,19.394358,19.3755039,19.3865508,19.407682,19.3108788,19.39912,19.390415,19.3619852,19.4425711213,19.3668017,19.394358,19.3437444,19.3756773,19.432657,19.4959960885,19.3803931,19.4482164,19.4306069,19.2990233,19.3499358,19.3499358,19.364967,19.323066,19.2990233,19.2963742,19.41498,19.3628631,19.381729,19.3865940087,19.2963762,19.516777,19.4195256,19.3794059,19.4503249,19.3302564,19.4024797,19.2990233,19.3753973563,19.3499358,19.392978,19.3737616972,19.3928136,19.392937,19.39365,19.390415,19.3847719,19.3036292,19.3845952529,19.487856,19.4302678,19.3499358,19.3776513,19.442791,19.420166,19.3445052,19.3631419,19.347138,19.4306069,19.3815495,19.2790911,19.3594791,19.4149803,19.342083,19.5290566,19.4594892,19.430456,19.3018442,19.4809432,19.3349552,19.4126915168,19.3499358,19.3680133,19.381729,19.5029542,19.3447,19.409369,19.3934821,19.394073,19.3499358,19.3810000272,19.341894,19.341894,19.4340199,19.3701781,19.4032833,19.392937,19.2790911,19.381729,19.3320226,19.4101579796,19.4306069,19.308076,19.3605334,19.400249,19.3668017,19.4201028,19.3585224004,19.3499706,19.433173,19.2990233,19.309208,19.3679526,19.4372822,19.4280794,19.4673105,19.4347155,19.3670983,19.3341208717,19.4396219801,19.431252,19.4025564,19.552402,19.4259971,19.4301322,19.3774517,19.4032833,19.3606908,19.3609365412,19.4001854,19.444606,19.2990233,19.443178,19.3814836,19.3499358,19.3670983,19.375412,19.394358,19.2990233,19.3340701,19.512787,19.376822,19.367424,19.3872626,19.4306069,19.3404477,19.3627981,19.392937,19.367424,19.361269,19.392937,19.417364,19.4158245484,19.390415,19.381259203,19.2990233,19.417364,19.4526892,19.33923,19.3638234,19.378786,19.3246591,19.3499358,19.392937,19.396593,19.392349,19.399689,19.4157341697,19.359984,19.381729,19.430456,19.3023717,19.3564335,19.3814504,19.3697678418,19.3033001,19.3807458,19.394358,19.3723335,19.394073,19.2672863,19.3499358,19.4306069,19.39365,19.390415,19.331932,19.4348398,19.3908165,19.381729,19.4336444,19.2990233,19.382727579,19.4752953603,19.4195256,19.380747,19.4374999,19.3605334,19.3358468,19.3797151,19.4068945,19.430132,19.3894263,19.387764,19.33923,19.392937,19.3872626,19.3582744,19.3631419,19.3038226746,19.3906898041,19.334220844,19.400249,19.3627249,19.3648588111,19.335419,19.471135,19.3638234,19.384622452,19.364891,19.3862785,19.4080873559,19.401079,19.39365,19.3499358,19.3905245,19.3704998,19.3733676,19.4512044,19.4380266,19.394073,19.3066442,19.3539321,19.390415],\"y\":[-99.1591446,-99.254997,-99.1657587614,-99.153915,-99.1658498,-99.1632923484,-99.2906864,-99.1553016,-99.1717827,-99.1739405,-99.1521292,-99.2084005,-99.14769,-99.2189838,-99.177444,-99.1527773,-99.18956,-99.149787426,-99.220367,-99.0949899,-99.1594925,-99.177444,-99.177444,-99.1686282,-99.177444,-99.1674138,-99.0993735,-99.185753,-99.1493282287,-99.1651109,-99.1876426712,-99.1774462,-99.2906864,-99.253616,-99.2189838,-99.133163,-99.1679459,-99.137270786,-99.20929,-99.155991,-99.1862188,-99.1075855494,-99.2763233185,-99.1621603,-99.1522157,-99.1836755,-99.2018433,-99.151327014,-99.1821858,-99.1580399126,-99.164986,-99.1514055,-99.2989735,-99.177444,-99.1996895,-99.1444714,-99.064722,-99.0436467,-99.177444,-99.2744779587,-99.1444714,-99.2753872275,-99.177444,-99.1675547,-99.1035542,-99.124863,-99.1653974,-99.177444,-99.1630337,-99.1937082,-99.172042,-99.1386972,-99.141464,-99.254997,-99.2663861,-99.2028173804,-99.1724994,-99.177444,-99.1561883,-99.1546074,-99.177444,-99.2017929554,-99.1476908,-99.1589625,-99.0949899,-99.0436467,-99.2906864,-99.2906864,-99.1428406,-99.1393153,-99.0436467,-99.1186279,-99.177444,-99.1739857,-99.164986,-99.1936147213,-99.1781383,-99.160149,-99.162549,-99.1591446,-99.1351802,-99.2575527,-99.1565217,-99.0436467,-99.1734831344,-99.2906864,-99.1760298,-99.1773503087,-99.1738213,-99.263313,-99.14769,-99.254997,-99.1664667,-99.2239303,-99.1984791771,-99.0909786,-99.1373136,-99.2906864,-99.1284592,-99.124128,-99.220367,-99.2738167,-99.2880597,-99.2561697,-99.0949899,-99.1694434,-99.2114234,-99.2707271,-99.1774462,-99.0532159,-99.1359301,-99.1221422,-99.1889121,-99.140989,-99.1274918,-99.2233579,-99.1277845949,-99.2906864,-99.1621111,-99.164986,-99.122192,-99.212753,-99.171906,-99.137825,-99.153915,-99.2906864,-99.2948520184,-99.224525,-99.224525,-99.1956012,-99.1893281,-99.1821858,-99.263313,-99.2114234,-99.164986,-99.2446842,-99.1711270809,-99.0949899,-99.167762,-99.2267067,-99.177444,-99.1724994,-99.1712969,-99.2721176147,-99.3014315,-99.1863574,-99.0436467,-99.171906,-99.2983107,-99.2124468,-99.164609,-99.1331631,-99.1699933,-99.1624422,-99.2402824759,-99.1828966141,-99.146999,-99.1461089,-99.142799,-99.224352,-99.1691413,-99.1641013,-99.1821858,-99.2023662,-99.1633604933,-99.1729456,-99.1740457,-99.0436467,-99.20237,-99.1654942,-99.2906864,-99.1624422,-99.144234,-99.177444,-99.0436467,-99.0712814,-99.141393,-99.174675,-99.185753,-99.1754024,-99.0949899,-99.1297322,-99.2650096,-99.263313,-99.185753,-99.1719297,-99.263313,-99.159454,-99.1765344143,-99.254997,-99.1038592905,-99.0436467,-99.159454,-99.1179867,-99.218987,-99.1444714,-99.208595,-99.140855,-99.2906864,-99.263313,-99.133163,-99.07093,-99.188522,-99.155623791,-99.1580693,-99.164986,-99.1889121,-99.167894,-99.1988448,-99.1919122,-99.1392753126,-99.2310901,-99.1553016,-99.177444,-99.1905974,-99.153915,-99.1659764,-99.2906864,-99.0949899,-99.14769,-99.254997,-99.246689,-99.1521771,-99.1466355,-99.164986,-99.1901467,-99.0436467,-99.1582889556,-99.1893056412,-99.162549,-99.155304,-99.1873839,-99.2267067,-99.1479328,-99.1677132,-99.1237906,-99.169144,-99.2651278,-99.176758,-99.218987,-99.263313,-99.1754024,-99.2723517,-99.2880597,-99.2213702202,-99.1795009375,-99.2409738153,-99.177444,-99.1755287,-99.1634988785,-99.119331,-99.1595701,-99.1444714,-99.1519181058,-99.148384,-99.24329,-99.1828288883,-99.24807,-99.14769,-99.2906864,-99.1797506,-99.1393889,-99.1337252,-99.1536306,-99.1885632,-99.153915,-99.210077,-99.291726,-99.254997],\"z\":[172446.86,553339.27,492618.62,155425.12,258224.99,99530.03,147557.13,154724.19,213430.86,421591.82,223970.65,334559.17,157690.64,252895.12,289844.37,158059.45,139968.48,184446.42,625000.0,117735.94,426861.72,473816.51,233851.71,368892.84,226605.6,131747.44,55333.92,225504.19,142287.24,458372.4,36889.28,230821.52,163366.83,332836.85,187081.37,39524.23,374337.46,163366.83,516449.98,31619.38,57968.87,99074.07,474178.35,331924.84,189716.32,287209.43,263494.89,131418.07,340345.2,137017.34,444726.6,150830.86,269180.16,310729.14,190122.1,135057.59,50327.52,83180.59,242415.29,654457.8,162123.24,521719.88,270951.79,173643.13,44497.91,115937.75,300911.16,430866.84,192305.66,86584.42,151567.64,177068.56,177068.56,574418.86,685086.71,652936.65,237089.17,309553.79,65858.1,205526.01,389972.43,28825.02,146219.53,189610.92,36889.28,79566.6,152827.03,163366.83,182597.74,171271.67,83160.87,65873.72,295114.27,202891.06,283425.64,86689.81,262440.91,63238.77,316193.86,110825.95,79029.72,313558.92,240250.36,82138.73,339908.4,163366.83,319830.09,183919.43,563879.06,519594.1,155288.07,463641.05,94858.16,326733.66,121178.91,43202.91,51381.5,168596.74,105397.95,35185.34,420000.0,337273.46,289844.37,526812.37,117735.94,432342.41,152827.03,563615.57,295114.27,52574.87,147522.15,33787.84,455846.16,131189.34,118572.7,205526.01,45584.61,163366.83,204054.75,89588.26,131747.44,326656.19,447941.31,102763.0,386283.5,163328.09,229240.55,140056.47,171113.58,520000.0,168636.73,213216.9,316193.86,130988.58,447941.31,179176.52,410954.57,38206.75,43176.57,165435.55,181811.47,211059.4,520522.86,558609.16,324098.71,657303.92,54949.68,43202.91,108913.49,507107.4,374074.03,184402.69,544778.24,149734.98,279238.36,252955.09,39524.23,269818.76,535368.91,579688.75,463751.0,432131.62,218486.8,313242.72,284574.48,226605.6,45837.24,54933.04,418956.87,240619.17,147557.13,135035.86,225520.8,303782.83,54949.68,67191.19,75783.82,679816.81,175972.85,242415.29,119229.96,167582.75,424302.13,142287.24,201837.08,298776.85,475000.0,259584.62,421591.82,558609.16,43213.16,79566.6,376708.35,92201.34,187037.01,124231.33,63238.77,94858.16,152827.03,592358.0,447835.11,67981.68,28984.43,362305.47,152827.03,437401.51,611308.14,222600.39,546119.51,123813.23,102763.0,168636.73,165105.89,303783.2,118309.2,200256.11,49638.57,168636.73,151073.1,116728.23,590228.55,247158.2,395242.33,174291.33,280977.01,579688.75,86383.21,221283.23,71126.75,258224.99,210795.91,368805.38,658737.22,144387.3,184446.42,105134.46,189663.62,632387.73,267463.12,231612.0,144922.18,190770.3,311176.92,621847.94,445200.78,113624.79,287736.42,204472.03,263432.41,416321.92,50901.94,100209.69,140470.72,205526.01,150830.86,179134.04,629415.51,534894.62,262905.55,147557.13,92367.6,105318.9,128892.1,105397.95,289844.37,268764.78,379342.68,168636.73,680000.0],\"type\":\"scatter3d\"}],                        {\"template\":{\"data\":{\"histogram2dcontour\":[{\"type\":\"histogram2dcontour\",\"colorbar\":{\"outlinewidth\":0,\"ticks\":\"\"},\"colorscale\":[[0.0,\"#0d0887\"],[0.1111111111111111,\"#46039f\"],[0.2222222222222222,\"#7201a8\"],[0.3333333333333333,\"#9c179e\"],[0.4444444444444444,\"#bd3786\"],[0.5555555555555556,\"#d8576b\"],[0.6666666666666666,\"#ed7953\"],[0.7777777777777778,\"#fb9f3a\"],[0.8888888888888888,\"#fdca26\"],[1.0,\"#f0f921\"]]}],\"choropleth\":[{\"type\":\"choropleth\",\"colorbar\":{\"outlinewidth\":0,\"ticks\":\"\"}}],\"histogram2d\":[{\"type\":\"histogram2d\",\"colorbar\":{\"outlinewidth\":0,\"ticks\":\"\"},\"colorscale\":[[0.0,\"#0d0887\"],[0.1111111111111111,\"#46039f\"],[0.2222222222222222,\"#7201a8\"],[0.3333333333333333,\"#9c179e\"],[0.4444444444444444,\"#bd3786\"],[0.5555555555555556,\"#d8576b\"],[0.6666666666666666,\"#ed7953\"],[0.7777777777777778,\"#fb9f3a\"],[0.8888888888888888,\"#fdca26\"],[1.0,\"#f0f921\"]]}],\"heatmap\":[{\"type\":\"heatmap\",\"colorbar\":{\"outlinewidth\":0,\"ticks\":\"\"},\"colorscale\":[[0.0,\"#0d0887\"],[0.1111111111111111,\"#46039f\"],[0.2222222222222222,\"#7201a8\"],[0.3333333333333333,\"#9c179e\"],[0.4444444444444444,\"#bd3786\"],[0.5555555555555556,\"#d8576b\"],[0.6666666666666666,\"#ed7953\"],[0.7777777777777778,\"#fb9f3a\"],[0.8888888888888888,\"#fdca26\"],[1.0,\"#f0f921\"]]}],\"heatmapgl\":[{\"type\":\"heatmapgl\",\"colorbar\":{\"outlinewidth\":0,\"ticks\":\"\"},\"colorscale\":[[0.0,\"#0d0887\"],[0.1111111111111111,\"#46039f\"],[0.2222222222222222,\"#7201a8\"],[0.3333333333333333,\"#9c179e\"],[0.4444444444444444,\"#bd3786\"],[0.5555555555555556,\"#d8576b\"],[0.6666666666666666,\"#ed7953\"],[0.7777777777777778,\"#fb9f3a\"],[0.8888888888888888,\"#fdca26\"],[1.0,\"#f0f921\"]]}],\"contourcarpet\":[{\"type\":\"contourcarpet\",\"colorbar\":{\"outlinewidth\":0,\"ticks\":\"\"}}],\"contour\":[{\"type\":\"contour\",\"colorbar\":{\"outlinewidth\":0,\"ticks\":\"\"},\"colorscale\":[[0.0,\"#0d0887\"],[0.1111111111111111,\"#46039f\"],[0.2222222222222222,\"#7201a8\"],[0.3333333333333333,\"#9c179e\"],[0.4444444444444444,\"#bd3786\"],[0.5555555555555556,\"#d8576b\"],[0.6666666666666666,\"#ed7953\"],[0.7777777777777778,\"#fb9f3a\"],[0.8888888888888888,\"#fdca26\"],[1.0,\"#f0f921\"]]}],\"surface\":[{\"type\":\"surface\",\"colorbar\":{\"outlinewidth\":0,\"ticks\":\"\"},\"colorscale\":[[0.0,\"#0d0887\"],[0.1111111111111111,\"#46039f\"],[0.2222222222222222,\"#7201a8\"],[0.3333333333333333,\"#9c179e\"],[0.4444444444444444,\"#bd3786\"],[0.5555555555555556,\"#d8576b\"],[0.6666666666666666,\"#ed7953\"],[0.7777777777777778,\"#fb9f3a\"],[0.8888888888888888,\"#fdca26\"],[1.0,\"#f0f921\"]]}],\"mesh3d\":[{\"type\":\"mesh3d\",\"colorbar\":{\"outlinewidth\":0,\"ticks\":\"\"}}],\"scatter\":[{\"fillpattern\":{\"fillmode\":\"overlay\",\"size\":10,\"solidity\":0.2},\"type\":\"scatter\"}],\"parcoords\":[{\"type\":\"parcoords\",\"line\":{\"colorbar\":{\"outlinewidth\":0,\"ticks\":\"\"}}}],\"scatterpolargl\":[{\"type\":\"scatterpolargl\",\"marker\":{\"colorbar\":{\"outlinewidth\":0,\"ticks\":\"\"}}}],\"bar\":[{\"error_x\":{\"color\":\"#2a3f5f\"},\"error_y\":{\"color\":\"#2a3f5f\"},\"marker\":{\"line\":{\"color\":\"#E5ECF6\",\"width\":0.5},\"pattern\":{\"fillmode\":\"overlay\",\"size\":10,\"solidity\":0.2}},\"type\":\"bar\"}],\"scattergeo\":[{\"type\":\"scattergeo\",\"marker\":{\"colorbar\":{\"outlinewidth\":0,\"ticks\":\"\"}}}],\"scatterpolar\":[{\"type\":\"scatterpolar\",\"marker\":{\"colorbar\":{\"outlinewidth\":0,\"ticks\":\"\"}}}],\"histogram\":[{\"marker\":{\"pattern\":{\"fillmode\":\"overlay\",\"size\":10,\"solidity\":0.2}},\"type\":\"histogram\"}],\"scattergl\":[{\"type\":\"scattergl\",\"marker\":{\"colorbar\":{\"outlinewidth\":0,\"ticks\":\"\"}}}],\"scatter3d\":[{\"type\":\"scatter3d\",\"line\":{\"colorbar\":{\"outlinewidth\":0,\"ticks\":\"\"}},\"marker\":{\"colorbar\":{\"outlinewidth\":0,\"ticks\":\"\"}}}],\"scattermapbox\":[{\"type\":\"scattermapbox\",\"marker\":{\"colorbar\":{\"outlinewidth\":0,\"ticks\":\"\"}}}],\"scatterternary\":[{\"type\":\"scatterternary\",\"marker\":{\"colorbar\":{\"outlinewidth\":0,\"ticks\":\"\"}}}],\"scattercarpet\":[{\"type\":\"scattercarpet\",\"marker\":{\"colorbar\":{\"outlinewidth\":0,\"ticks\":\"\"}}}],\"carpet\":[{\"aaxis\":{\"endlinecolor\":\"#2a3f5f\",\"gridcolor\":\"white\",\"linecolor\":\"white\",\"minorgridcolor\":\"white\",\"startlinecolor\":\"#2a3f5f\"},\"baxis\":{\"endlinecolor\":\"#2a3f5f\",\"gridcolor\":\"white\",\"linecolor\":\"white\",\"minorgridcolor\":\"white\",\"startlinecolor\":\"#2a3f5f\"},\"type\":\"carpet\"}],\"table\":[{\"cells\":{\"fill\":{\"color\":\"#EBF0F8\"},\"line\":{\"color\":\"white\"}},\"header\":{\"fill\":{\"color\":\"#C8D4E3\"},\"line\":{\"color\":\"white\"}},\"type\":\"table\"}],\"barpolar\":[{\"marker\":{\"line\":{\"color\":\"#E5ECF6\",\"width\":0.5},\"pattern\":{\"fillmode\":\"overlay\",\"size\":10,\"solidity\":0.2}},\"type\":\"barpolar\"}],\"pie\":[{\"automargin\":true,\"type\":\"pie\"}]},\"layout\":{\"autotypenumbers\":\"strict\",\"colorway\":[\"#636efa\",\"#EF553B\",\"#00cc96\",\"#ab63fa\",\"#FFA15A\",\"#19d3f3\",\"#FF6692\",\"#B6E880\",\"#FF97FF\",\"#FECB52\"],\"font\":{\"color\":\"#2a3f5f\"},\"hovermode\":\"closest\",\"hoverlabel\":{\"align\":\"left\"},\"paper_bgcolor\":\"white\",\"plot_bgcolor\":\"#E5ECF6\",\"polar\":{\"bgcolor\":\"#E5ECF6\",\"angularaxis\":{\"gridcolor\":\"white\",\"linecolor\":\"white\",\"ticks\":\"\"},\"radialaxis\":{\"gridcolor\":\"white\",\"linecolor\":\"white\",\"ticks\":\"\"}},\"ternary\":{\"bgcolor\":\"#E5ECF6\",\"aaxis\":{\"gridcolor\":\"white\",\"linecolor\":\"white\",\"ticks\":\"\"},\"baxis\":{\"gridcolor\":\"white\",\"linecolor\":\"white\",\"ticks\":\"\"},\"caxis\":{\"gridcolor\":\"white\",\"linecolor\":\"white\",\"ticks\":\"\"}},\"coloraxis\":{\"colorbar\":{\"outlinewidth\":0,\"ticks\":\"\"}},\"colorscale\":{\"sequential\":[[0.0,\"#0d0887\"],[0.1111111111111111,\"#46039f\"],[0.2222222222222222,\"#7201a8\"],[0.3333333333333333,\"#9c179e\"],[0.4444444444444444,\"#bd3786\"],[0.5555555555555556,\"#d8576b\"],[0.6666666666666666,\"#ed7953\"],[0.7777777777777778,\"#fb9f3a\"],[0.8888888888888888,\"#fdca26\"],[1.0,\"#f0f921\"]],\"sequentialminus\":[[0.0,\"#0d0887\"],[0.1111111111111111,\"#46039f\"],[0.2222222222222222,\"#7201a8\"],[0.3333333333333333,\"#9c179e\"],[0.4444444444444444,\"#bd3786\"],[0.5555555555555556,\"#d8576b\"],[0.6666666666666666,\"#ed7953\"],[0.7777777777777778,\"#fb9f3a\"],[0.8888888888888888,\"#fdca26\"],[1.0,\"#f0f921\"]],\"diverging\":[[0,\"#8e0152\"],[0.1,\"#c51b7d\"],[0.2,\"#de77ae\"],[0.3,\"#f1b6da\"],[0.4,\"#fde0ef\"],[0.5,\"#f7f7f7\"],[0.6,\"#e6f5d0\"],[0.7,\"#b8e186\"],[0.8,\"#7fbc41\"],[0.9,\"#4d9221\"],[1,\"#276419\"]]},\"xaxis\":{\"gridcolor\":\"white\",\"linecolor\":\"white\",\"ticks\":\"\",\"title\":{\"standoff\":15},\"zerolinecolor\":\"white\",\"automargin\":true,\"zerolinewidth\":2},\"yaxis\":{\"gridcolor\":\"white\",\"linecolor\":\"white\",\"ticks\":\"\",\"title\":{\"standoff\":15},\"zerolinecolor\":\"white\",\"automargin\":true,\"zerolinewidth\":2},\"scene\":{\"xaxis\":{\"backgroundcolor\":\"#E5ECF6\",\"gridcolor\":\"white\",\"linecolor\":\"white\",\"showbackground\":true,\"ticks\":\"\",\"zerolinecolor\":\"white\",\"gridwidth\":2},\"yaxis\":{\"backgroundcolor\":\"#E5ECF6\",\"gridcolor\":\"white\",\"linecolor\":\"white\",\"showbackground\":true,\"ticks\":\"\",\"zerolinecolor\":\"white\",\"gridwidth\":2},\"zaxis\":{\"backgroundcolor\":\"#E5ECF6\",\"gridcolor\":\"white\",\"linecolor\":\"white\",\"showbackground\":true,\"ticks\":\"\",\"zerolinecolor\":\"white\",\"gridwidth\":2}},\"shapedefaults\":{\"line\":{\"color\":\"#2a3f5f\"}},\"annotationdefaults\":{\"arrowcolor\":\"#2a3f5f\",\"arrowhead\":0,\"arrowwidth\":1},\"geo\":{\"bgcolor\":\"white\",\"landcolor\":\"#E5ECF6\",\"subunitcolor\":\"white\",\"showland\":true,\"showlakes\":true,\"lakecolor\":\"white\"},\"title\":{\"x\":0.05},\"mapbox\":{\"style\":\"light\"}}},\"scene\":{\"domain\":{\"x\":[0.0,1.0],\"y\":[0.0,1.0]},\"xaxis\":{\"title\":{\"text\":\"latitude\"}},\"yaxis\":{\"title\":{\"text\":\"longitude\"}},\"zaxis\":{\"title\":{\"text\":\"price\"}}},\"legend\":{\"tracegroupgap\":0},\"margin\":{\"t\":60},\"height\":600,\"width\":600},                        {\"responsive\": true}                    ).then(function(){\n",
              "                            \n",
              "var gd = document.getElementById('9104ccd4-4781-4914-9587-c9332fd83a01');\n",
              "var x = new MutationObserver(function (mutations, observer) {{\n",
              "        var display = window.getComputedStyle(gd).display;\n",
              "        if (!display || display === 'none') {{\n",
              "            console.log([gd, 'removed!']);\n",
              "            Plotly.purge(gd);\n",
              "            observer.disconnect();\n",
              "        }}\n",
              "}});\n",
              "\n",
              "// Listen for the removal of the full notebook cells\n",
              "var notebookContainer = gd.closest('#notebook-container');\n",
              "if (notebookContainer) {{\n",
              "    x.observe(notebookContainer, {childList: true});\n",
              "}}\n",
              "\n",
              "// Listen for the clearing of the current output cell\n",
              "var outputEl = gd.closest('.output');\n",
              "if (outputEl) {{\n",
              "    x.observe(outputEl, {childList: true});\n",
              "}}\n",
              "\n",
              "                        })                };                            </script>        </div>\n",
              "</body>\n",
              "</html>"
            ]
          },
          "metadata": {}
        }
      ]
    },
    {
      "cell_type": "code",
      "source": [
        "# 3D Scatter plot\n",
        "fig = px.scatter_3d(\n",
        "    df,\n",
        "    x=\"lat\",\n",
        "    y=\"lon\",\n",
        "    z=\"price_aprox_usd\",\n",
        "    labels={\"lat\": \"latitude\", \"lon\":\"longitude\", \"price_aprox_usd\":\"price\"},\n",
        "    width=600,\n",
        "    height=600\n",
        ")\n",
        "\n",
        "# Refine Formatting\n",
        "fig.update_traces(\n",
        "    marker={\"size\":4, \"line\":{\"width\":2, \"color\":\"DarkSlateGrey\"}},\n",
        "    selector={\"mode\":\"markers\"}\n",
        ")\n",
        "\n",
        "# Create x and y coordinates for model presentation\n",
        "x_plane = np.linspace(df[\"lat\"].min(), df[\"lat\"].max(), 10)\n",
        "y_plane = np.linspace(df[\"lon\"].min(), df[\"lon\"].max(), 10)\n",
        "xx, yy = np.meshgrid(x_plane, y_plane)\n",
        "\n",
        "# Use Model to predict z-coordinates\n",
        "# First, create a proper DataFrame with all combinations\n",
        "xy_combined = np.column_stack([xx.ravel(), yy.ravel()])\n",
        "z_plane = model_location.predict(pd.DataFrame(xy_combined, columns=[\"lat\", \"lon\"]))\n",
        "zz = z_plane.reshape(xx.shape)  # Reshape to match the grid\n",
        "\n",
        "# Add the plane to the plot\n",
        "fig.add_trace(go.Surface(x=xx, y=yy, z=zz, opacity=0.5, colorscale='Blues'))\n",
        "\n",
        "fig.show()"
      ],
      "metadata": {
        "colab": {
          "base_uri": "https://localhost:8080/",
          "height": 617
        },
        "id": "Z44m1DrmnLix",
        "outputId": "573427ae-aa2f-4c44-d985-0392b012348d"
      },
      "execution_count": 30,
      "outputs": [
        {
          "output_type": "display_data",
          "data": {
            "text/html": [
              "<html>\n",
              "<head><meta charset=\"utf-8\" /></head>\n",
              "<body>\n",
              "    <div>            <script src=\"https://cdnjs.cloudflare.com/ajax/libs/mathjax/2.7.5/MathJax.js?config=TeX-AMS-MML_SVG\"></script><script type=\"text/javascript\">if (window.MathJax && window.MathJax.Hub && window.MathJax.Hub.Config) {window.MathJax.Hub.Config({SVG: {font: \"STIX-Web\"}});}</script>                <script type=\"text/javascript\">window.PlotlyConfig = {MathJaxConfig: 'local'};</script>\n",
              "        <script charset=\"utf-8\" src=\"https://cdn.plot.ly/plotly-2.35.2.min.js\"></script>                <div id=\"7bb6aebb-51cc-42c3-99a4-db51e97e79e1\" class=\"plotly-graph-div\" style=\"height:600px; width:600px;\"></div>            <script type=\"text/javascript\">                                    window.PLOTLYENV=window.PLOTLYENV || {};                                    if (document.getElementById(\"7bb6aebb-51cc-42c3-99a4-db51e97e79e1\")) {                    Plotly.newPlot(                        \"7bb6aebb-51cc-42c3-99a4-db51e97e79e1\",                        [{\"hovertemplate\":\"latitude=%{x}\\u003cbr\\u003elongitude=%{y}\\u003cbr\\u003eprice=%{z}\\u003cextra\\u003e\\u003c\\u002fextra\\u003e\",\"legendgroup\":\"\",\"marker\":{\"color\":\"#636efa\",\"symbol\":\"circle\",\"line\":{\"color\":\"DarkSlateGrey\",\"width\":2},\"size\":4},\"mode\":\"markers\",\"name\":\"\",\"scene\":\"scene\",\"showlegend\":false,\"x\":[19.3794059,19.390415,19.3753948137,19.394073,19.4169673,19.4553585442,19.3499358,19.3807458,19.4124708,19.4114169,19.3853063,19.3609784,19.39365,19.3392293,19.41498,19.3677299,19.365391,19.3714480121,19.420166,19.4306069,19.3864346,19.394358,19.394358,19.4097609,19.394358,19.3898619,19.3549174,19.358585,19.3703820187,19.3769448,19.2818221685,19.3943574,19.3499358,19.371342,19.3392293,19.461416,19.3023508,19.3747920646,19.320576,19.505199,19.3883217,19.3152718515,19.3634214999,19.4070717,19.3428273,19.3049333,19.3024064,19.3338880248,19.4032833,19.3825040623,19.381729,19.3596034,19.3503274,19.394358,19.3813197,19.3638234,19.4113101,19.2990233,19.400249,19.3577935962,19.3638234,19.3556628374,19.394358,19.2753576,19.3223015,19.343979,19.3815906,19.394358,19.3755039,19.3865508,19.407682,19.3108788,19.39912,19.390415,19.3619852,19.4425711213,19.3668017,19.394358,19.3437444,19.3756773,19.432657,19.4959960885,19.3803931,19.4482164,19.4306069,19.2990233,19.3499358,19.3499358,19.364967,19.323066,19.2990233,19.2963742,19.41498,19.3628631,19.381729,19.3865940087,19.2963762,19.516777,19.4195256,19.3794059,19.4503249,19.3302564,19.4024797,19.2990233,19.3753973563,19.3499358,19.392978,19.3737616972,19.3928136,19.392937,19.39365,19.390415,19.3847719,19.3036292,19.3845952529,19.487856,19.4302678,19.3499358,19.3776513,19.442791,19.420166,19.3445052,19.3631419,19.347138,19.4306069,19.3815495,19.2790911,19.3594791,19.4149803,19.342083,19.5290566,19.4594892,19.430456,19.3018442,19.4809432,19.3349552,19.4126915168,19.3499358,19.3680133,19.381729,19.5029542,19.3447,19.409369,19.3934821,19.394073,19.3499358,19.3810000272,19.341894,19.341894,19.4340199,19.3701781,19.4032833,19.392937,19.2790911,19.381729,19.3320226,19.4101579796,19.4306069,19.308076,19.3605334,19.400249,19.3668017,19.4201028,19.3585224004,19.3499706,19.433173,19.2990233,19.309208,19.3679526,19.4372822,19.4280794,19.4673105,19.4347155,19.3670983,19.3341208717,19.4396219801,19.431252,19.4025564,19.552402,19.4259971,19.4301322,19.3774517,19.4032833,19.3606908,19.3609365412,19.4001854,19.444606,19.2990233,19.443178,19.3814836,19.3499358,19.3670983,19.375412,19.394358,19.2990233,19.3340701,19.512787,19.376822,19.367424,19.3872626,19.4306069,19.3404477,19.3627981,19.392937,19.367424,19.361269,19.392937,19.417364,19.4158245484,19.390415,19.381259203,19.2990233,19.417364,19.4526892,19.33923,19.3638234,19.378786,19.3246591,19.3499358,19.392937,19.396593,19.392349,19.399689,19.4157341697,19.359984,19.381729,19.430456,19.3023717,19.3564335,19.3814504,19.3697678418,19.3033001,19.3807458,19.394358,19.3723335,19.394073,19.2672863,19.3499358,19.4306069,19.39365,19.390415,19.331932,19.4348398,19.3908165,19.381729,19.4336444,19.2990233,19.382727579,19.4752953603,19.4195256,19.380747,19.4374999,19.3605334,19.3358468,19.3797151,19.4068945,19.430132,19.3894263,19.387764,19.33923,19.392937,19.3872626,19.3582744,19.3631419,19.3038226746,19.3906898041,19.334220844,19.400249,19.3627249,19.3648588111,19.335419,19.471135,19.3638234,19.384622452,19.364891,19.3862785,19.4080873559,19.401079,19.39365,19.3499358,19.3905245,19.3704998,19.3733676,19.4512044,19.4380266,19.394073,19.3066442,19.3539321,19.390415],\"y\":[-99.1591446,-99.254997,-99.1657587614,-99.153915,-99.1658498,-99.1632923484,-99.2906864,-99.1553016,-99.1717827,-99.1739405,-99.1521292,-99.2084005,-99.14769,-99.2189838,-99.177444,-99.1527773,-99.18956,-99.149787426,-99.220367,-99.0949899,-99.1594925,-99.177444,-99.177444,-99.1686282,-99.177444,-99.1674138,-99.0993735,-99.185753,-99.1493282287,-99.1651109,-99.1876426712,-99.1774462,-99.2906864,-99.253616,-99.2189838,-99.133163,-99.1679459,-99.137270786,-99.20929,-99.155991,-99.1862188,-99.1075855494,-99.2763233185,-99.1621603,-99.1522157,-99.1836755,-99.2018433,-99.151327014,-99.1821858,-99.1580399126,-99.164986,-99.1514055,-99.2989735,-99.177444,-99.1996895,-99.1444714,-99.064722,-99.0436467,-99.177444,-99.2744779587,-99.1444714,-99.2753872275,-99.177444,-99.1675547,-99.1035542,-99.124863,-99.1653974,-99.177444,-99.1630337,-99.1937082,-99.172042,-99.1386972,-99.141464,-99.254997,-99.2663861,-99.2028173804,-99.1724994,-99.177444,-99.1561883,-99.1546074,-99.177444,-99.2017929554,-99.1476908,-99.1589625,-99.0949899,-99.0436467,-99.2906864,-99.2906864,-99.1428406,-99.1393153,-99.0436467,-99.1186279,-99.177444,-99.1739857,-99.164986,-99.1936147213,-99.1781383,-99.160149,-99.162549,-99.1591446,-99.1351802,-99.2575527,-99.1565217,-99.0436467,-99.1734831344,-99.2906864,-99.1760298,-99.1773503087,-99.1738213,-99.263313,-99.14769,-99.254997,-99.1664667,-99.2239303,-99.1984791771,-99.0909786,-99.1373136,-99.2906864,-99.1284592,-99.124128,-99.220367,-99.2738167,-99.2880597,-99.2561697,-99.0949899,-99.1694434,-99.2114234,-99.2707271,-99.1774462,-99.0532159,-99.1359301,-99.1221422,-99.1889121,-99.140989,-99.1274918,-99.2233579,-99.1277845949,-99.2906864,-99.1621111,-99.164986,-99.122192,-99.212753,-99.171906,-99.137825,-99.153915,-99.2906864,-99.2948520184,-99.224525,-99.224525,-99.1956012,-99.1893281,-99.1821858,-99.263313,-99.2114234,-99.164986,-99.2446842,-99.1711270809,-99.0949899,-99.167762,-99.2267067,-99.177444,-99.1724994,-99.1712969,-99.2721176147,-99.3014315,-99.1863574,-99.0436467,-99.171906,-99.2983107,-99.2124468,-99.164609,-99.1331631,-99.1699933,-99.1624422,-99.2402824759,-99.1828966141,-99.146999,-99.1461089,-99.142799,-99.224352,-99.1691413,-99.1641013,-99.1821858,-99.2023662,-99.1633604933,-99.1729456,-99.1740457,-99.0436467,-99.20237,-99.1654942,-99.2906864,-99.1624422,-99.144234,-99.177444,-99.0436467,-99.0712814,-99.141393,-99.174675,-99.185753,-99.1754024,-99.0949899,-99.1297322,-99.2650096,-99.263313,-99.185753,-99.1719297,-99.263313,-99.159454,-99.1765344143,-99.254997,-99.1038592905,-99.0436467,-99.159454,-99.1179867,-99.218987,-99.1444714,-99.208595,-99.140855,-99.2906864,-99.263313,-99.133163,-99.07093,-99.188522,-99.155623791,-99.1580693,-99.164986,-99.1889121,-99.167894,-99.1988448,-99.1919122,-99.1392753126,-99.2310901,-99.1553016,-99.177444,-99.1905974,-99.153915,-99.1659764,-99.2906864,-99.0949899,-99.14769,-99.254997,-99.246689,-99.1521771,-99.1466355,-99.164986,-99.1901467,-99.0436467,-99.1582889556,-99.1893056412,-99.162549,-99.155304,-99.1873839,-99.2267067,-99.1479328,-99.1677132,-99.1237906,-99.169144,-99.2651278,-99.176758,-99.218987,-99.263313,-99.1754024,-99.2723517,-99.2880597,-99.2213702202,-99.1795009375,-99.2409738153,-99.177444,-99.1755287,-99.1634988785,-99.119331,-99.1595701,-99.1444714,-99.1519181058,-99.148384,-99.24329,-99.1828288883,-99.24807,-99.14769,-99.2906864,-99.1797506,-99.1393889,-99.1337252,-99.1536306,-99.1885632,-99.153915,-99.210077,-99.291726,-99.254997],\"z\":[172446.86,553339.27,492618.62,155425.12,258224.99,99530.03,147557.13,154724.19,213430.86,421591.82,223970.65,334559.17,157690.64,252895.12,289844.37,158059.45,139968.48,184446.42,625000.0,117735.94,426861.72,473816.51,233851.71,368892.84,226605.6,131747.44,55333.92,225504.19,142287.24,458372.4,36889.28,230821.52,163366.83,332836.85,187081.37,39524.23,374337.46,163366.83,516449.98,31619.38,57968.87,99074.07,474178.35,331924.84,189716.32,287209.43,263494.89,131418.07,340345.2,137017.34,444726.6,150830.86,269180.16,310729.14,190122.1,135057.59,50327.52,83180.59,242415.29,654457.8,162123.24,521719.88,270951.79,173643.13,44497.91,115937.75,300911.16,430866.84,192305.66,86584.42,151567.64,177068.56,177068.56,574418.86,685086.71,652936.65,237089.17,309553.79,65858.1,205526.01,389972.43,28825.02,146219.53,189610.92,36889.28,79566.6,152827.03,163366.83,182597.74,171271.67,83160.87,65873.72,295114.27,202891.06,283425.64,86689.81,262440.91,63238.77,316193.86,110825.95,79029.72,313558.92,240250.36,82138.73,339908.4,163366.83,319830.09,183919.43,563879.06,519594.1,155288.07,463641.05,94858.16,326733.66,121178.91,43202.91,51381.5,168596.74,105397.95,35185.34,420000.0,337273.46,289844.37,526812.37,117735.94,432342.41,152827.03,563615.57,295114.27,52574.87,147522.15,33787.84,455846.16,131189.34,118572.7,205526.01,45584.61,163366.83,204054.75,89588.26,131747.44,326656.19,447941.31,102763.0,386283.5,163328.09,229240.55,140056.47,171113.58,520000.0,168636.73,213216.9,316193.86,130988.58,447941.31,179176.52,410954.57,38206.75,43176.57,165435.55,181811.47,211059.4,520522.86,558609.16,324098.71,657303.92,54949.68,43202.91,108913.49,507107.4,374074.03,184402.69,544778.24,149734.98,279238.36,252955.09,39524.23,269818.76,535368.91,579688.75,463751.0,432131.62,218486.8,313242.72,284574.48,226605.6,45837.24,54933.04,418956.87,240619.17,147557.13,135035.86,225520.8,303782.83,54949.68,67191.19,75783.82,679816.81,175972.85,242415.29,119229.96,167582.75,424302.13,142287.24,201837.08,298776.85,475000.0,259584.62,421591.82,558609.16,43213.16,79566.6,376708.35,92201.34,187037.01,124231.33,63238.77,94858.16,152827.03,592358.0,447835.11,67981.68,28984.43,362305.47,152827.03,437401.51,611308.14,222600.39,546119.51,123813.23,102763.0,168636.73,165105.89,303783.2,118309.2,200256.11,49638.57,168636.73,151073.1,116728.23,590228.55,247158.2,395242.33,174291.33,280977.01,579688.75,86383.21,221283.23,71126.75,258224.99,210795.91,368805.38,658737.22,144387.3,184446.42,105134.46,189663.62,632387.73,267463.12,231612.0,144922.18,190770.3,311176.92,621847.94,445200.78,113624.79,287736.42,204472.03,263432.41,416321.92,50901.94,100209.69,140470.72,205526.01,150830.86,179134.04,629415.51,534894.62,262905.55,147557.13,92367.6,105318.9,128892.1,105397.95,289844.37,268764.78,379342.68,168636.73,680000.0],\"type\":\"scatter3d\"},{\"colorscale\":[[0.0,\"rgb(247,251,255)\"],[0.125,\"rgb(222,235,247)\"],[0.25,\"rgb(198,219,239)\"],[0.375,\"rgb(158,202,225)\"],[0.5,\"rgb(107,174,214)\"],[0.625,\"rgb(66,146,198)\"],[0.75,\"rgb(33,113,181)\"],[0.875,\"rgb(8,81,156)\"],[1.0,\"rgb(8,48,107)\"]],\"opacity\":0.5,\"x\":[[19.2672863,19.298965822222222,19.330645344444445,19.362324866666665,19.394004388888888,19.42568391111111,19.457363433333335,19.489042955555554,19.520722477777777,19.552402],[19.2672863,19.298965822222222,19.330645344444445,19.362324866666665,19.394004388888888,19.42568391111111,19.457363433333335,19.489042955555554,19.520722477777777,19.552402],[19.2672863,19.298965822222222,19.330645344444445,19.362324866666665,19.394004388888888,19.42568391111111,19.457363433333335,19.489042955555554,19.520722477777777,19.552402],[19.2672863,19.298965822222222,19.330645344444445,19.362324866666665,19.394004388888888,19.42568391111111,19.457363433333335,19.489042955555554,19.520722477777777,19.552402],[19.2672863,19.298965822222222,19.330645344444445,19.362324866666665,19.394004388888888,19.42568391111111,19.457363433333335,19.489042955555554,19.520722477777777,19.552402],[19.2672863,19.298965822222222,19.330645344444445,19.362324866666665,19.394004388888888,19.42568391111111,19.457363433333335,19.489042955555554,19.520722477777777,19.552402],[19.2672863,19.298965822222222,19.330645344444445,19.362324866666665,19.394004388888888,19.42568391111111,19.457363433333335,19.489042955555554,19.520722477777777,19.552402],[19.2672863,19.298965822222222,19.330645344444445,19.362324866666665,19.394004388888888,19.42568391111111,19.457363433333335,19.489042955555554,19.520722477777777,19.552402],[19.2672863,19.298965822222222,19.330645344444445,19.362324866666665,19.394004388888888,19.42568391111111,19.457363433333335,19.489042955555554,19.520722477777777,19.552402],[19.2672863,19.298965822222222,19.330645344444445,19.362324866666665,19.394004388888888,19.42568391111111,19.457363433333335,19.489042955555554,19.520722477777777,19.552402]],\"y\":[[-99.3014315,-99.3014315,-99.3014315,-99.3014315,-99.3014315,-99.3014315,-99.3014315,-99.3014315,-99.3014315,-99.3014315],[-99.27278874444445,-99.27278874444445,-99.27278874444445,-99.27278874444445,-99.27278874444445,-99.27278874444445,-99.27278874444445,-99.27278874444445,-99.27278874444445,-99.27278874444445],[-99.24414598888889,-99.24414598888889,-99.24414598888889,-99.24414598888889,-99.24414598888889,-99.24414598888889,-99.24414598888889,-99.24414598888889,-99.24414598888889,-99.24414598888889],[-99.21550323333334,-99.21550323333334,-99.21550323333334,-99.21550323333334,-99.21550323333334,-99.21550323333334,-99.21550323333334,-99.21550323333334,-99.21550323333334,-99.21550323333334],[-99.18686047777778,-99.18686047777778,-99.18686047777778,-99.18686047777778,-99.18686047777778,-99.18686047777778,-99.18686047777778,-99.18686047777778,-99.18686047777778,-99.18686047777778],[-99.15821772222222,-99.15821772222222,-99.15821772222222,-99.15821772222222,-99.15821772222222,-99.15821772222222,-99.15821772222222,-99.15821772222222,-99.15821772222222,-99.15821772222222],[-99.12957496666667,-99.12957496666667,-99.12957496666667,-99.12957496666667,-99.12957496666667,-99.12957496666667,-99.12957496666667,-99.12957496666667,-99.12957496666667,-99.12957496666667],[-99.10093221111111,-99.10093221111111,-99.10093221111111,-99.10093221111111,-99.10093221111111,-99.10093221111111,-99.10093221111111,-99.10093221111111,-99.10093221111111,-99.10093221111111],[-99.07228945555555,-99.07228945555555,-99.07228945555555,-99.07228945555555,-99.07228945555555,-99.07228945555555,-99.07228945555555,-99.07228945555555,-99.07228945555555,-99.07228945555555],[-99.0436467,-99.0436467,-99.0436467,-99.0436467,-99.0436467,-99.0436467,-99.0436467,-99.0436467,-99.0436467,-99.0436467]],\"z\":[[348429.16487908363,366454.09346330166,384479.0220475197,402503.9506317377,420528.87921595573,438553.80780017376,456578.7363843918,474603.6649686098,492628.59355282784,510653.52213704586],[309732.18199163675,327757.1105758548,345782.0391600728,363806.9677442908,381831.89632850885,399856.8249127269,417881.7534969747,435906.68208119273,453931.61066541076,471956.5392496288],[271035.1991041899,289060.1276884079,307085.0562726259,325109.98485684395,343134.913441062,361159.84202528,379184.7706095278,397209.69919374585,415234.6277779639,433259.5563621819],[232338.2162167728,250363.14480099082,268388.07338520885,286413.00196942687,304437.9305536449,322462.8591378629,340487.78772208095,358512.716306299,376537.644890517,394562.573474735],[193641.2333293259,211666.16191354394,229691.09049776196,247716.01908198,265740.947666198,283765.87625041604,301790.80483466387,319815.7334188819,337840.6620030999,355865.59058731794],[154944.25044187903,172969.17902609706,190994.10761031508,209019.0361945331,227043.96477875113,245068.89336296916,263093.8219471872,281118.7505314052,299143.67911562324,317168.60769984126],[116247.26755443215,134272.19613865018,152297.1247228682,170322.05330708623,188346.98189130425,206371.91047552228,224396.8390597701,242421.76764398813,260446.69622820616,278471.6248124242],[77550.28466701508,95575.2132512331,113600.14183545113,131625.07041966915,149649.99900388718,167674.9275881052,185699.85617232323,203724.78475654125,221749.71334075928,239774.6419249773],[38853.301779568195,56878.23036378622,74903.15894800425,92928.08753222227,110953.0161164403,128977.94470065832,147002.87328487635,165027.80186909437,183052.7304533124,201077.65903753042],[156.318892121315,18181.24747633934,36206.176060557365,54231.10464477539,72256.03322899342,90280.96181321144,108305.89039745927,126330.8189816773,144355.74756589532,162380.67615011334]],\"type\":\"surface\"}],                        {\"template\":{\"data\":{\"histogram2dcontour\":[{\"type\":\"histogram2dcontour\",\"colorbar\":{\"outlinewidth\":0,\"ticks\":\"\"},\"colorscale\":[[0.0,\"#0d0887\"],[0.1111111111111111,\"#46039f\"],[0.2222222222222222,\"#7201a8\"],[0.3333333333333333,\"#9c179e\"],[0.4444444444444444,\"#bd3786\"],[0.5555555555555556,\"#d8576b\"],[0.6666666666666666,\"#ed7953\"],[0.7777777777777778,\"#fb9f3a\"],[0.8888888888888888,\"#fdca26\"],[1.0,\"#f0f921\"]]}],\"choropleth\":[{\"type\":\"choropleth\",\"colorbar\":{\"outlinewidth\":0,\"ticks\":\"\"}}],\"histogram2d\":[{\"type\":\"histogram2d\",\"colorbar\":{\"outlinewidth\":0,\"ticks\":\"\"},\"colorscale\":[[0.0,\"#0d0887\"],[0.1111111111111111,\"#46039f\"],[0.2222222222222222,\"#7201a8\"],[0.3333333333333333,\"#9c179e\"],[0.4444444444444444,\"#bd3786\"],[0.5555555555555556,\"#d8576b\"],[0.6666666666666666,\"#ed7953\"],[0.7777777777777778,\"#fb9f3a\"],[0.8888888888888888,\"#fdca26\"],[1.0,\"#f0f921\"]]}],\"heatmap\":[{\"type\":\"heatmap\",\"colorbar\":{\"outlinewidth\":0,\"ticks\":\"\"},\"colorscale\":[[0.0,\"#0d0887\"],[0.1111111111111111,\"#46039f\"],[0.2222222222222222,\"#7201a8\"],[0.3333333333333333,\"#9c179e\"],[0.4444444444444444,\"#bd3786\"],[0.5555555555555556,\"#d8576b\"],[0.6666666666666666,\"#ed7953\"],[0.7777777777777778,\"#fb9f3a\"],[0.8888888888888888,\"#fdca26\"],[1.0,\"#f0f921\"]]}],\"heatmapgl\":[{\"type\":\"heatmapgl\",\"colorbar\":{\"outlinewidth\":0,\"ticks\":\"\"},\"colorscale\":[[0.0,\"#0d0887\"],[0.1111111111111111,\"#46039f\"],[0.2222222222222222,\"#7201a8\"],[0.3333333333333333,\"#9c179e\"],[0.4444444444444444,\"#bd3786\"],[0.5555555555555556,\"#d8576b\"],[0.6666666666666666,\"#ed7953\"],[0.7777777777777778,\"#fb9f3a\"],[0.8888888888888888,\"#fdca26\"],[1.0,\"#f0f921\"]]}],\"contourcarpet\":[{\"type\":\"contourcarpet\",\"colorbar\":{\"outlinewidth\":0,\"ticks\":\"\"}}],\"contour\":[{\"type\":\"contour\",\"colorbar\":{\"outlinewidth\":0,\"ticks\":\"\"},\"colorscale\":[[0.0,\"#0d0887\"],[0.1111111111111111,\"#46039f\"],[0.2222222222222222,\"#7201a8\"],[0.3333333333333333,\"#9c179e\"],[0.4444444444444444,\"#bd3786\"],[0.5555555555555556,\"#d8576b\"],[0.6666666666666666,\"#ed7953\"],[0.7777777777777778,\"#fb9f3a\"],[0.8888888888888888,\"#fdca26\"],[1.0,\"#f0f921\"]]}],\"surface\":[{\"type\":\"surface\",\"colorbar\":{\"outlinewidth\":0,\"ticks\":\"\"},\"colorscale\":[[0.0,\"#0d0887\"],[0.1111111111111111,\"#46039f\"],[0.2222222222222222,\"#7201a8\"],[0.3333333333333333,\"#9c179e\"],[0.4444444444444444,\"#bd3786\"],[0.5555555555555556,\"#d8576b\"],[0.6666666666666666,\"#ed7953\"],[0.7777777777777778,\"#fb9f3a\"],[0.8888888888888888,\"#fdca26\"],[1.0,\"#f0f921\"]]}],\"mesh3d\":[{\"type\":\"mesh3d\",\"colorbar\":{\"outlinewidth\":0,\"ticks\":\"\"}}],\"scatter\":[{\"fillpattern\":{\"fillmode\":\"overlay\",\"size\":10,\"solidity\":0.2},\"type\":\"scatter\"}],\"parcoords\":[{\"type\":\"parcoords\",\"line\":{\"colorbar\":{\"outlinewidth\":0,\"ticks\":\"\"}}}],\"scatterpolargl\":[{\"type\":\"scatterpolargl\",\"marker\":{\"colorbar\":{\"outlinewidth\":0,\"ticks\":\"\"}}}],\"bar\":[{\"error_x\":{\"color\":\"#2a3f5f\"},\"error_y\":{\"color\":\"#2a3f5f\"},\"marker\":{\"line\":{\"color\":\"#E5ECF6\",\"width\":0.5},\"pattern\":{\"fillmode\":\"overlay\",\"size\":10,\"solidity\":0.2}},\"type\":\"bar\"}],\"scattergeo\":[{\"type\":\"scattergeo\",\"marker\":{\"colorbar\":{\"outlinewidth\":0,\"ticks\":\"\"}}}],\"scatterpolar\":[{\"type\":\"scatterpolar\",\"marker\":{\"colorbar\":{\"outlinewidth\":0,\"ticks\":\"\"}}}],\"histogram\":[{\"marker\":{\"pattern\":{\"fillmode\":\"overlay\",\"size\":10,\"solidity\":0.2}},\"type\":\"histogram\"}],\"scattergl\":[{\"type\":\"scattergl\",\"marker\":{\"colorbar\":{\"outlinewidth\":0,\"ticks\":\"\"}}}],\"scatter3d\":[{\"type\":\"scatter3d\",\"line\":{\"colorbar\":{\"outlinewidth\":0,\"ticks\":\"\"}},\"marker\":{\"colorbar\":{\"outlinewidth\":0,\"ticks\":\"\"}}}],\"scattermapbox\":[{\"type\":\"scattermapbox\",\"marker\":{\"colorbar\":{\"outlinewidth\":0,\"ticks\":\"\"}}}],\"scatterternary\":[{\"type\":\"scatterternary\",\"marker\":{\"colorbar\":{\"outlinewidth\":0,\"ticks\":\"\"}}}],\"scattercarpet\":[{\"type\":\"scattercarpet\",\"marker\":{\"colorbar\":{\"outlinewidth\":0,\"ticks\":\"\"}}}],\"carpet\":[{\"aaxis\":{\"endlinecolor\":\"#2a3f5f\",\"gridcolor\":\"white\",\"linecolor\":\"white\",\"minorgridcolor\":\"white\",\"startlinecolor\":\"#2a3f5f\"},\"baxis\":{\"endlinecolor\":\"#2a3f5f\",\"gridcolor\":\"white\",\"linecolor\":\"white\",\"minorgridcolor\":\"white\",\"startlinecolor\":\"#2a3f5f\"},\"type\":\"carpet\"}],\"table\":[{\"cells\":{\"fill\":{\"color\":\"#EBF0F8\"},\"line\":{\"color\":\"white\"}},\"header\":{\"fill\":{\"color\":\"#C8D4E3\"},\"line\":{\"color\":\"white\"}},\"type\":\"table\"}],\"barpolar\":[{\"marker\":{\"line\":{\"color\":\"#E5ECF6\",\"width\":0.5},\"pattern\":{\"fillmode\":\"overlay\",\"size\":10,\"solidity\":0.2}},\"type\":\"barpolar\"}],\"pie\":[{\"automargin\":true,\"type\":\"pie\"}]},\"layout\":{\"autotypenumbers\":\"strict\",\"colorway\":[\"#636efa\",\"#EF553B\",\"#00cc96\",\"#ab63fa\",\"#FFA15A\",\"#19d3f3\",\"#FF6692\",\"#B6E880\",\"#FF97FF\",\"#FECB52\"],\"font\":{\"color\":\"#2a3f5f\"},\"hovermode\":\"closest\",\"hoverlabel\":{\"align\":\"left\"},\"paper_bgcolor\":\"white\",\"plot_bgcolor\":\"#E5ECF6\",\"polar\":{\"bgcolor\":\"#E5ECF6\",\"angularaxis\":{\"gridcolor\":\"white\",\"linecolor\":\"white\",\"ticks\":\"\"},\"radialaxis\":{\"gridcolor\":\"white\",\"linecolor\":\"white\",\"ticks\":\"\"}},\"ternary\":{\"bgcolor\":\"#E5ECF6\",\"aaxis\":{\"gridcolor\":\"white\",\"linecolor\":\"white\",\"ticks\":\"\"},\"baxis\":{\"gridcolor\":\"white\",\"linecolor\":\"white\",\"ticks\":\"\"},\"caxis\":{\"gridcolor\":\"white\",\"linecolor\":\"white\",\"ticks\":\"\"}},\"coloraxis\":{\"colorbar\":{\"outlinewidth\":0,\"ticks\":\"\"}},\"colorscale\":{\"sequential\":[[0.0,\"#0d0887\"],[0.1111111111111111,\"#46039f\"],[0.2222222222222222,\"#7201a8\"],[0.3333333333333333,\"#9c179e\"],[0.4444444444444444,\"#bd3786\"],[0.5555555555555556,\"#d8576b\"],[0.6666666666666666,\"#ed7953\"],[0.7777777777777778,\"#fb9f3a\"],[0.8888888888888888,\"#fdca26\"],[1.0,\"#f0f921\"]],\"sequentialminus\":[[0.0,\"#0d0887\"],[0.1111111111111111,\"#46039f\"],[0.2222222222222222,\"#7201a8\"],[0.3333333333333333,\"#9c179e\"],[0.4444444444444444,\"#bd3786\"],[0.5555555555555556,\"#d8576b\"],[0.6666666666666666,\"#ed7953\"],[0.7777777777777778,\"#fb9f3a\"],[0.8888888888888888,\"#fdca26\"],[1.0,\"#f0f921\"]],\"diverging\":[[0,\"#8e0152\"],[0.1,\"#c51b7d\"],[0.2,\"#de77ae\"],[0.3,\"#f1b6da\"],[0.4,\"#fde0ef\"],[0.5,\"#f7f7f7\"],[0.6,\"#e6f5d0\"],[0.7,\"#b8e186\"],[0.8,\"#7fbc41\"],[0.9,\"#4d9221\"],[1,\"#276419\"]]},\"xaxis\":{\"gridcolor\":\"white\",\"linecolor\":\"white\",\"ticks\":\"\",\"title\":{\"standoff\":15},\"zerolinecolor\":\"white\",\"automargin\":true,\"zerolinewidth\":2},\"yaxis\":{\"gridcolor\":\"white\",\"linecolor\":\"white\",\"ticks\":\"\",\"title\":{\"standoff\":15},\"zerolinecolor\":\"white\",\"automargin\":true,\"zerolinewidth\":2},\"scene\":{\"xaxis\":{\"backgroundcolor\":\"#E5ECF6\",\"gridcolor\":\"white\",\"linecolor\":\"white\",\"showbackground\":true,\"ticks\":\"\",\"zerolinecolor\":\"white\",\"gridwidth\":2},\"yaxis\":{\"backgroundcolor\":\"#E5ECF6\",\"gridcolor\":\"white\",\"linecolor\":\"white\",\"showbackground\":true,\"ticks\":\"\",\"zerolinecolor\":\"white\",\"gridwidth\":2},\"zaxis\":{\"backgroundcolor\":\"#E5ECF6\",\"gridcolor\":\"white\",\"linecolor\":\"white\",\"showbackground\":true,\"ticks\":\"\",\"zerolinecolor\":\"white\",\"gridwidth\":2}},\"shapedefaults\":{\"line\":{\"color\":\"#2a3f5f\"}},\"annotationdefaults\":{\"arrowcolor\":\"#2a3f5f\",\"arrowhead\":0,\"arrowwidth\":1},\"geo\":{\"bgcolor\":\"white\",\"landcolor\":\"#E5ECF6\",\"subunitcolor\":\"white\",\"showland\":true,\"showlakes\":true,\"lakecolor\":\"white\"},\"title\":{\"x\":0.05},\"mapbox\":{\"style\":\"light\"}}},\"scene\":{\"domain\":{\"x\":[0.0,1.0],\"y\":[0.0,1.0]},\"xaxis\":{\"title\":{\"text\":\"latitude\"}},\"yaxis\":{\"title\":{\"text\":\"longitude\"}},\"zaxis\":{\"title\":{\"text\":\"price\"}}},\"legend\":{\"tracegroupgap\":0},\"margin\":{\"t\":60},\"height\":600,\"width\":600},                        {\"responsive\": true}                    ).then(function(){\n",
              "                            \n",
              "var gd = document.getElementById('7bb6aebb-51cc-42c3-99a4-db51e97e79e1');\n",
              "var x = new MutationObserver(function (mutations, observer) {{\n",
              "        var display = window.getComputedStyle(gd).display;\n",
              "        if (!display || display === 'none') {{\n",
              "            console.log([gd, 'removed!']);\n",
              "            Plotly.purge(gd);\n",
              "            observer.disconnect();\n",
              "        }}\n",
              "}});\n",
              "\n",
              "// Listen for the removal of the full notebook cells\n",
              "var notebookContainer = gd.closest('#notebook-container');\n",
              "if (notebookContainer) {{\n",
              "    x.observe(notebookContainer, {childList: true});\n",
              "}}\n",
              "\n",
              "// Listen for the clearing of the current output cell\n",
              "var outputEl = gd.closest('.output');\n",
              "if (outputEl) {{\n",
              "    x.observe(outputEl, {childList: true});\n",
              "}}\n",
              "\n",
              "                        })                };                            </script>        </div>\n",
              "</body>\n",
              "</html>"
            ]
          },
          "metadata": {}
        }
      ]
    },
    {
      "cell_type": "markdown",
      "source": [
        "PREDICTING PRICE WITH BOTH SIZE AND LOCATION"
      ],
      "metadata": {
        "id": "f9dnUVrHz4D7"
      }
    },
    {
      "cell_type": "markdown",
      "source": [
        "Split Data : Feature Matrices & Target Vector"
      ],
      "metadata": {
        "id": "hZmUm2Iu0B0q"
      }
    },
    {
      "cell_type": "code",
      "source": [
        "features_all = [\"surface_covered_in_m2\", \"lat\", \"lon\"]\n",
        "X_train_all = df[features_all]\n",
        "print(X_train_all.shape)\n",
        "target_all = \"price_aprox_usd\"\n",
        "y_train_all = df[target_all]\n",
        "print(y_train_all.shape)"
      ],
      "metadata": {
        "id": "0sml2WHWr7R9",
        "colab": {
          "base_uri": "https://localhost:8080/"
        },
        "outputId": "dc3dca4a-b184-4c32-c4a3-a1ac0645e35c"
      },
      "execution_count": 38,
      "outputs": [
        {
          "output_type": "stream",
          "name": "stdout",
          "text": [
            "(289, 3)\n",
            "(289,)\n"
          ]
        }
      ]
    },
    {
      "cell_type": "markdown",
      "source": [
        "BUILD MODEL"
      ],
      "metadata": {
        "id": "z3K3X84H1sYZ"
      }
    },
    {
      "cell_type": "markdown",
      "source": [
        "Baseline"
      ],
      "metadata": {
        "id": "Nh_AVzQy1ugO"
      }
    },
    {
      "cell_type": "code",
      "source": [
        "y_mean_all = y_train_all.mean()\n",
        "y_mean_all"
      ],
      "metadata": {
        "colab": {
          "base_uri": "https://localhost:8080/"
        },
        "id": "V2pEpp7Lzshc",
        "outputId": "b770f7ee-4a3e-4038-f205-d950400751ea"
      },
      "execution_count": 40,
      "outputs": [
        {
          "output_type": "execute_result",
          "data": {
            "text/plain": [
              "np.float64(248004.589550173)"
            ]
          },
          "metadata": {},
          "execution_count": 40
        }
      ]
    },
    {
      "cell_type": "code",
      "source": [
        "y_pred_baseline_all = [y_mean_all] * len(y_train_all)\n",
        "y_pred_baseline_all[:5]"
      ],
      "metadata": {
        "colab": {
          "base_uri": "https://localhost:8080/"
        },
        "id": "RZQoRBSU18-I",
        "outputId": "8a24bfbc-422d-458b-d821-5cbd2424d1d4"
      },
      "execution_count": 41,
      "outputs": [
        {
          "output_type": "execute_result",
          "data": {
            "text/plain": [
              "[np.float64(248004.589550173),\n",
              " np.float64(248004.589550173),\n",
              " np.float64(248004.589550173),\n",
              " np.float64(248004.589550173),\n",
              " np.float64(248004.589550173)]"
            ]
          },
          "metadata": {},
          "execution_count": 41
        }
      ]
    },
    {
      "cell_type": "markdown",
      "source": [
        "Baseline : Mean Absolute Error (MAE)"
      ],
      "metadata": {
        "id": "RbRUo1nd2RQt"
      }
    },
    {
      "cell_type": "code",
      "source": [
        "mae_baseline_all = mean_absolute_error(y_train_all, y_pred_baseline_all)\n",
        "mae_baseline_all"
      ],
      "metadata": {
        "colab": {
          "base_uri": "https://localhost:8080/"
        },
        "id": "cpIGM2hS2L6Y",
        "outputId": "a0d73c03-b0d4-4fa5-ccd5-032184b0e96c"
      },
      "execution_count": 42,
      "outputs": [
        {
          "output_type": "execute_result",
          "data": {
            "text/plain": [
              "134526.40215418878"
            ]
          },
          "metadata": {},
          "execution_count": 42
        }
      ]
    },
    {
      "cell_type": "markdown",
      "source": [
        "Iterate"
      ],
      "metadata": {
        "id": "OALC-zR-2v_I"
      }
    },
    {
      "cell_type": "markdown",
      "source": [
        "Model Transformation and Instantiation"
      ],
      "metadata": {
        "id": "WZjMhl6K2zMC"
      }
    },
    {
      "cell_type": "code",
      "source": [
        "model_all = make_pipeline(\n",
        "    SimpleImputer(),\n",
        "    LinearRegression()\n",
        ")\n",
        "model_all.fit(X_train_all, y_train_all)"
      ],
      "metadata": {
        "colab": {
          "base_uri": "https://localhost:8080/",
          "height": 155
        },
        "id": "LHFhZK8P2m04",
        "outputId": "9e07df44-de24-426f-8bae-a32f21bb8396"
      },
      "execution_count": 43,
      "outputs": [
        {
          "output_type": "execute_result",
          "data": {
            "text/plain": [
              "Pipeline(steps=[('simpleimputer', SimpleImputer()),\n",
              "                ('linearregression', LinearRegression())])"
            ],
            "text/html": [
              "<style>#sk-container-id-3 {\n",
              "  /* Definition of color scheme common for light and dark mode */\n",
              "  --sklearn-color-text: #000;\n",
              "  --sklearn-color-text-muted: #666;\n",
              "  --sklearn-color-line: gray;\n",
              "  /* Definition of color scheme for unfitted estimators */\n",
              "  --sklearn-color-unfitted-level-0: #fff5e6;\n",
              "  --sklearn-color-unfitted-level-1: #f6e4d2;\n",
              "  --sklearn-color-unfitted-level-2: #ffe0b3;\n",
              "  --sklearn-color-unfitted-level-3: chocolate;\n",
              "  /* Definition of color scheme for fitted estimators */\n",
              "  --sklearn-color-fitted-level-0: #f0f8ff;\n",
              "  --sklearn-color-fitted-level-1: #d4ebff;\n",
              "  --sklearn-color-fitted-level-2: #b3dbfd;\n",
              "  --sklearn-color-fitted-level-3: cornflowerblue;\n",
              "\n",
              "  /* Specific color for light theme */\n",
              "  --sklearn-color-text-on-default-background: var(--sg-text-color, var(--theme-code-foreground, var(--jp-content-font-color1, black)));\n",
              "  --sklearn-color-background: var(--sg-background-color, var(--theme-background, var(--jp-layout-color0, white)));\n",
              "  --sklearn-color-border-box: var(--sg-text-color, var(--theme-code-foreground, var(--jp-content-font-color1, black)));\n",
              "  --sklearn-color-icon: #696969;\n",
              "\n",
              "  @media (prefers-color-scheme: dark) {\n",
              "    /* Redefinition of color scheme for dark theme */\n",
              "    --sklearn-color-text-on-default-background: var(--sg-text-color, var(--theme-code-foreground, var(--jp-content-font-color1, white)));\n",
              "    --sklearn-color-background: var(--sg-background-color, var(--theme-background, var(--jp-layout-color0, #111)));\n",
              "    --sklearn-color-border-box: var(--sg-text-color, var(--theme-code-foreground, var(--jp-content-font-color1, white)));\n",
              "    --sklearn-color-icon: #878787;\n",
              "  }\n",
              "}\n",
              "\n",
              "#sk-container-id-3 {\n",
              "  color: var(--sklearn-color-text);\n",
              "}\n",
              "\n",
              "#sk-container-id-3 pre {\n",
              "  padding: 0;\n",
              "}\n",
              "\n",
              "#sk-container-id-3 input.sk-hidden--visually {\n",
              "  border: 0;\n",
              "  clip: rect(1px 1px 1px 1px);\n",
              "  clip: rect(1px, 1px, 1px, 1px);\n",
              "  height: 1px;\n",
              "  margin: -1px;\n",
              "  overflow: hidden;\n",
              "  padding: 0;\n",
              "  position: absolute;\n",
              "  width: 1px;\n",
              "}\n",
              "\n",
              "#sk-container-id-3 div.sk-dashed-wrapped {\n",
              "  border: 1px dashed var(--sklearn-color-line);\n",
              "  margin: 0 0.4em 0.5em 0.4em;\n",
              "  box-sizing: border-box;\n",
              "  padding-bottom: 0.4em;\n",
              "  background-color: var(--sklearn-color-background);\n",
              "}\n",
              "\n",
              "#sk-container-id-3 div.sk-container {\n",
              "  /* jupyter's `normalize.less` sets `[hidden] { display: none; }`\n",
              "     but bootstrap.min.css set `[hidden] { display: none !important; }`\n",
              "     so we also need the `!important` here to be able to override the\n",
              "     default hidden behavior on the sphinx rendered scikit-learn.org.\n",
              "     See: https://github.com/scikit-learn/scikit-learn/issues/21755 */\n",
              "  display: inline-block !important;\n",
              "  position: relative;\n",
              "}\n",
              "\n",
              "#sk-container-id-3 div.sk-text-repr-fallback {\n",
              "  display: none;\n",
              "}\n",
              "\n",
              "div.sk-parallel-item,\n",
              "div.sk-serial,\n",
              "div.sk-item {\n",
              "  /* draw centered vertical line to link estimators */\n",
              "  background-image: linear-gradient(var(--sklearn-color-text-on-default-background), var(--sklearn-color-text-on-default-background));\n",
              "  background-size: 2px 100%;\n",
              "  background-repeat: no-repeat;\n",
              "  background-position: center center;\n",
              "}\n",
              "\n",
              "/* Parallel-specific style estimator block */\n",
              "\n",
              "#sk-container-id-3 div.sk-parallel-item::after {\n",
              "  content: \"\";\n",
              "  width: 100%;\n",
              "  border-bottom: 2px solid var(--sklearn-color-text-on-default-background);\n",
              "  flex-grow: 1;\n",
              "}\n",
              "\n",
              "#sk-container-id-3 div.sk-parallel {\n",
              "  display: flex;\n",
              "  align-items: stretch;\n",
              "  justify-content: center;\n",
              "  background-color: var(--sklearn-color-background);\n",
              "  position: relative;\n",
              "}\n",
              "\n",
              "#sk-container-id-3 div.sk-parallel-item {\n",
              "  display: flex;\n",
              "  flex-direction: column;\n",
              "}\n",
              "\n",
              "#sk-container-id-3 div.sk-parallel-item:first-child::after {\n",
              "  align-self: flex-end;\n",
              "  width: 50%;\n",
              "}\n",
              "\n",
              "#sk-container-id-3 div.sk-parallel-item:last-child::after {\n",
              "  align-self: flex-start;\n",
              "  width: 50%;\n",
              "}\n",
              "\n",
              "#sk-container-id-3 div.sk-parallel-item:only-child::after {\n",
              "  width: 0;\n",
              "}\n",
              "\n",
              "/* Serial-specific style estimator block */\n",
              "\n",
              "#sk-container-id-3 div.sk-serial {\n",
              "  display: flex;\n",
              "  flex-direction: column;\n",
              "  align-items: center;\n",
              "  background-color: var(--sklearn-color-background);\n",
              "  padding-right: 1em;\n",
              "  padding-left: 1em;\n",
              "}\n",
              "\n",
              "\n",
              "/* Toggleable style: style used for estimator/Pipeline/ColumnTransformer box that is\n",
              "clickable and can be expanded/collapsed.\n",
              "- Pipeline and ColumnTransformer use this feature and define the default style\n",
              "- Estimators will overwrite some part of the style using the `sk-estimator` class\n",
              "*/\n",
              "\n",
              "/* Pipeline and ColumnTransformer style (default) */\n",
              "\n",
              "#sk-container-id-3 div.sk-toggleable {\n",
              "  /* Default theme specific background. It is overwritten whether we have a\n",
              "  specific estimator or a Pipeline/ColumnTransformer */\n",
              "  background-color: var(--sklearn-color-background);\n",
              "}\n",
              "\n",
              "/* Toggleable label */\n",
              "#sk-container-id-3 label.sk-toggleable__label {\n",
              "  cursor: pointer;\n",
              "  display: flex;\n",
              "  width: 100%;\n",
              "  margin-bottom: 0;\n",
              "  padding: 0.5em;\n",
              "  box-sizing: border-box;\n",
              "  text-align: center;\n",
              "  align-items: start;\n",
              "  justify-content: space-between;\n",
              "  gap: 0.5em;\n",
              "}\n",
              "\n",
              "#sk-container-id-3 label.sk-toggleable__label .caption {\n",
              "  font-size: 0.6rem;\n",
              "  font-weight: lighter;\n",
              "  color: var(--sklearn-color-text-muted);\n",
              "}\n",
              "\n",
              "#sk-container-id-3 label.sk-toggleable__label-arrow:before {\n",
              "  /* Arrow on the left of the label */\n",
              "  content: \"▸\";\n",
              "  float: left;\n",
              "  margin-right: 0.25em;\n",
              "  color: var(--sklearn-color-icon);\n",
              "}\n",
              "\n",
              "#sk-container-id-3 label.sk-toggleable__label-arrow:hover:before {\n",
              "  color: var(--sklearn-color-text);\n",
              "}\n",
              "\n",
              "/* Toggleable content - dropdown */\n",
              "\n",
              "#sk-container-id-3 div.sk-toggleable__content {\n",
              "  max-height: 0;\n",
              "  max-width: 0;\n",
              "  overflow: hidden;\n",
              "  text-align: left;\n",
              "  /* unfitted */\n",
              "  background-color: var(--sklearn-color-unfitted-level-0);\n",
              "}\n",
              "\n",
              "#sk-container-id-3 div.sk-toggleable__content.fitted {\n",
              "  /* fitted */\n",
              "  background-color: var(--sklearn-color-fitted-level-0);\n",
              "}\n",
              "\n",
              "#sk-container-id-3 div.sk-toggleable__content pre {\n",
              "  margin: 0.2em;\n",
              "  border-radius: 0.25em;\n",
              "  color: var(--sklearn-color-text);\n",
              "  /* unfitted */\n",
              "  background-color: var(--sklearn-color-unfitted-level-0);\n",
              "}\n",
              "\n",
              "#sk-container-id-3 div.sk-toggleable__content.fitted pre {\n",
              "  /* unfitted */\n",
              "  background-color: var(--sklearn-color-fitted-level-0);\n",
              "}\n",
              "\n",
              "#sk-container-id-3 input.sk-toggleable__control:checked~div.sk-toggleable__content {\n",
              "  /* Expand drop-down */\n",
              "  max-height: 200px;\n",
              "  max-width: 100%;\n",
              "  overflow: auto;\n",
              "}\n",
              "\n",
              "#sk-container-id-3 input.sk-toggleable__control:checked~label.sk-toggleable__label-arrow:before {\n",
              "  content: \"▾\";\n",
              "}\n",
              "\n",
              "/* Pipeline/ColumnTransformer-specific style */\n",
              "\n",
              "#sk-container-id-3 div.sk-label input.sk-toggleable__control:checked~label.sk-toggleable__label {\n",
              "  color: var(--sklearn-color-text);\n",
              "  background-color: var(--sklearn-color-unfitted-level-2);\n",
              "}\n",
              "\n",
              "#sk-container-id-3 div.sk-label.fitted input.sk-toggleable__control:checked~label.sk-toggleable__label {\n",
              "  background-color: var(--sklearn-color-fitted-level-2);\n",
              "}\n",
              "\n",
              "/* Estimator-specific style */\n",
              "\n",
              "/* Colorize estimator box */\n",
              "#sk-container-id-3 div.sk-estimator input.sk-toggleable__control:checked~label.sk-toggleable__label {\n",
              "  /* unfitted */\n",
              "  background-color: var(--sklearn-color-unfitted-level-2);\n",
              "}\n",
              "\n",
              "#sk-container-id-3 div.sk-estimator.fitted input.sk-toggleable__control:checked~label.sk-toggleable__label {\n",
              "  /* fitted */\n",
              "  background-color: var(--sklearn-color-fitted-level-2);\n",
              "}\n",
              "\n",
              "#sk-container-id-3 div.sk-label label.sk-toggleable__label,\n",
              "#sk-container-id-3 div.sk-label label {\n",
              "  /* The background is the default theme color */\n",
              "  color: var(--sklearn-color-text-on-default-background);\n",
              "}\n",
              "\n",
              "/* On hover, darken the color of the background */\n",
              "#sk-container-id-3 div.sk-label:hover label.sk-toggleable__label {\n",
              "  color: var(--sklearn-color-text);\n",
              "  background-color: var(--sklearn-color-unfitted-level-2);\n",
              "}\n",
              "\n",
              "/* Label box, darken color on hover, fitted */\n",
              "#sk-container-id-3 div.sk-label.fitted:hover label.sk-toggleable__label.fitted {\n",
              "  color: var(--sklearn-color-text);\n",
              "  background-color: var(--sklearn-color-fitted-level-2);\n",
              "}\n",
              "\n",
              "/* Estimator label */\n",
              "\n",
              "#sk-container-id-3 div.sk-label label {\n",
              "  font-family: monospace;\n",
              "  font-weight: bold;\n",
              "  display: inline-block;\n",
              "  line-height: 1.2em;\n",
              "}\n",
              "\n",
              "#sk-container-id-3 div.sk-label-container {\n",
              "  text-align: center;\n",
              "}\n",
              "\n",
              "/* Estimator-specific */\n",
              "#sk-container-id-3 div.sk-estimator {\n",
              "  font-family: monospace;\n",
              "  border: 1px dotted var(--sklearn-color-border-box);\n",
              "  border-radius: 0.25em;\n",
              "  box-sizing: border-box;\n",
              "  margin-bottom: 0.5em;\n",
              "  /* unfitted */\n",
              "  background-color: var(--sklearn-color-unfitted-level-0);\n",
              "}\n",
              "\n",
              "#sk-container-id-3 div.sk-estimator.fitted {\n",
              "  /* fitted */\n",
              "  background-color: var(--sklearn-color-fitted-level-0);\n",
              "}\n",
              "\n",
              "/* on hover */\n",
              "#sk-container-id-3 div.sk-estimator:hover {\n",
              "  /* unfitted */\n",
              "  background-color: var(--sklearn-color-unfitted-level-2);\n",
              "}\n",
              "\n",
              "#sk-container-id-3 div.sk-estimator.fitted:hover {\n",
              "  /* fitted */\n",
              "  background-color: var(--sklearn-color-fitted-level-2);\n",
              "}\n",
              "\n",
              "/* Specification for estimator info (e.g. \"i\" and \"?\") */\n",
              "\n",
              "/* Common style for \"i\" and \"?\" */\n",
              "\n",
              ".sk-estimator-doc-link,\n",
              "a:link.sk-estimator-doc-link,\n",
              "a:visited.sk-estimator-doc-link {\n",
              "  float: right;\n",
              "  font-size: smaller;\n",
              "  line-height: 1em;\n",
              "  font-family: monospace;\n",
              "  background-color: var(--sklearn-color-background);\n",
              "  border-radius: 1em;\n",
              "  height: 1em;\n",
              "  width: 1em;\n",
              "  text-decoration: none !important;\n",
              "  margin-left: 0.5em;\n",
              "  text-align: center;\n",
              "  /* unfitted */\n",
              "  border: var(--sklearn-color-unfitted-level-1) 1pt solid;\n",
              "  color: var(--sklearn-color-unfitted-level-1);\n",
              "}\n",
              "\n",
              ".sk-estimator-doc-link.fitted,\n",
              "a:link.sk-estimator-doc-link.fitted,\n",
              "a:visited.sk-estimator-doc-link.fitted {\n",
              "  /* fitted */\n",
              "  border: var(--sklearn-color-fitted-level-1) 1pt solid;\n",
              "  color: var(--sklearn-color-fitted-level-1);\n",
              "}\n",
              "\n",
              "/* On hover */\n",
              "div.sk-estimator:hover .sk-estimator-doc-link:hover,\n",
              ".sk-estimator-doc-link:hover,\n",
              "div.sk-label-container:hover .sk-estimator-doc-link:hover,\n",
              ".sk-estimator-doc-link:hover {\n",
              "  /* unfitted */\n",
              "  background-color: var(--sklearn-color-unfitted-level-3);\n",
              "  color: var(--sklearn-color-background);\n",
              "  text-decoration: none;\n",
              "}\n",
              "\n",
              "div.sk-estimator.fitted:hover .sk-estimator-doc-link.fitted:hover,\n",
              ".sk-estimator-doc-link.fitted:hover,\n",
              "div.sk-label-container:hover .sk-estimator-doc-link.fitted:hover,\n",
              ".sk-estimator-doc-link.fitted:hover {\n",
              "  /* fitted */\n",
              "  background-color: var(--sklearn-color-fitted-level-3);\n",
              "  color: var(--sklearn-color-background);\n",
              "  text-decoration: none;\n",
              "}\n",
              "\n",
              "/* Span, style for the box shown on hovering the info icon */\n",
              ".sk-estimator-doc-link span {\n",
              "  display: none;\n",
              "  z-index: 9999;\n",
              "  position: relative;\n",
              "  font-weight: normal;\n",
              "  right: .2ex;\n",
              "  padding: .5ex;\n",
              "  margin: .5ex;\n",
              "  width: min-content;\n",
              "  min-width: 20ex;\n",
              "  max-width: 50ex;\n",
              "  color: var(--sklearn-color-text);\n",
              "  box-shadow: 2pt 2pt 4pt #999;\n",
              "  /* unfitted */\n",
              "  background: var(--sklearn-color-unfitted-level-0);\n",
              "  border: .5pt solid var(--sklearn-color-unfitted-level-3);\n",
              "}\n",
              "\n",
              ".sk-estimator-doc-link.fitted span {\n",
              "  /* fitted */\n",
              "  background: var(--sklearn-color-fitted-level-0);\n",
              "  border: var(--sklearn-color-fitted-level-3);\n",
              "}\n",
              "\n",
              ".sk-estimator-doc-link:hover span {\n",
              "  display: block;\n",
              "}\n",
              "\n",
              "/* \"?\"-specific style due to the `<a>` HTML tag */\n",
              "\n",
              "#sk-container-id-3 a.estimator_doc_link {\n",
              "  float: right;\n",
              "  font-size: 1rem;\n",
              "  line-height: 1em;\n",
              "  font-family: monospace;\n",
              "  background-color: var(--sklearn-color-background);\n",
              "  border-radius: 1rem;\n",
              "  height: 1rem;\n",
              "  width: 1rem;\n",
              "  text-decoration: none;\n",
              "  /* unfitted */\n",
              "  color: var(--sklearn-color-unfitted-level-1);\n",
              "  border: var(--sklearn-color-unfitted-level-1) 1pt solid;\n",
              "}\n",
              "\n",
              "#sk-container-id-3 a.estimator_doc_link.fitted {\n",
              "  /* fitted */\n",
              "  border: var(--sklearn-color-fitted-level-1) 1pt solid;\n",
              "  color: var(--sklearn-color-fitted-level-1);\n",
              "}\n",
              "\n",
              "/* On hover */\n",
              "#sk-container-id-3 a.estimator_doc_link:hover {\n",
              "  /* unfitted */\n",
              "  background-color: var(--sklearn-color-unfitted-level-3);\n",
              "  color: var(--sklearn-color-background);\n",
              "  text-decoration: none;\n",
              "}\n",
              "\n",
              "#sk-container-id-3 a.estimator_doc_link.fitted:hover {\n",
              "  /* fitted */\n",
              "  background-color: var(--sklearn-color-fitted-level-3);\n",
              "}\n",
              "</style><div id=\"sk-container-id-3\" class=\"sk-top-container\"><div class=\"sk-text-repr-fallback\"><pre>Pipeline(steps=[(&#x27;simpleimputer&#x27;, SimpleImputer()),\n",
              "                (&#x27;linearregression&#x27;, LinearRegression())])</pre><b>In a Jupyter environment, please rerun this cell to show the HTML representation or trust the notebook. <br />On GitHub, the HTML representation is unable to render, please try loading this page with nbviewer.org.</b></div><div class=\"sk-container\" hidden><div class=\"sk-item sk-dashed-wrapped\"><div class=\"sk-label-container\"><div class=\"sk-label fitted sk-toggleable\"><input class=\"sk-toggleable__control sk-hidden--visually\" id=\"sk-estimator-id-5\" type=\"checkbox\" ><label for=\"sk-estimator-id-5\" class=\"sk-toggleable__label fitted sk-toggleable__label-arrow\"><div><div>Pipeline</div></div><div><a class=\"sk-estimator-doc-link fitted\" rel=\"noreferrer\" target=\"_blank\" href=\"https://scikit-learn.org/1.6/modules/generated/sklearn.pipeline.Pipeline.html\">?<span>Documentation for Pipeline</span></a><span class=\"sk-estimator-doc-link fitted\">i<span>Fitted</span></span></div></label><div class=\"sk-toggleable__content fitted\"><pre>Pipeline(steps=[(&#x27;simpleimputer&#x27;, SimpleImputer()),\n",
              "                (&#x27;linearregression&#x27;, LinearRegression())])</pre></div> </div></div><div class=\"sk-serial\"><div class=\"sk-item\"><div class=\"sk-estimator fitted sk-toggleable\"><input class=\"sk-toggleable__control sk-hidden--visually\" id=\"sk-estimator-id-6\" type=\"checkbox\" ><label for=\"sk-estimator-id-6\" class=\"sk-toggleable__label fitted sk-toggleable__label-arrow\"><div><div>SimpleImputer</div></div><div><a class=\"sk-estimator-doc-link fitted\" rel=\"noreferrer\" target=\"_blank\" href=\"https://scikit-learn.org/1.6/modules/generated/sklearn.impute.SimpleImputer.html\">?<span>Documentation for SimpleImputer</span></a></div></label><div class=\"sk-toggleable__content fitted\"><pre>SimpleImputer()</pre></div> </div></div><div class=\"sk-item\"><div class=\"sk-estimator fitted sk-toggleable\"><input class=\"sk-toggleable__control sk-hidden--visually\" id=\"sk-estimator-id-7\" type=\"checkbox\" ><label for=\"sk-estimator-id-7\" class=\"sk-toggleable__label fitted sk-toggleable__label-arrow\"><div><div>LinearRegression</div></div><div><a class=\"sk-estimator-doc-link fitted\" rel=\"noreferrer\" target=\"_blank\" href=\"https://scikit-learn.org/1.6/modules/generated/sklearn.linear_model.LinearRegression.html\">?<span>Documentation for LinearRegression</span></a></div></label><div class=\"sk-toggleable__content fitted\"><pre>LinearRegression()</pre></div> </div></div></div></div></div></div>"
            ]
          },
          "metadata": {},
          "execution_count": 43
        }
      ]
    },
    {
      "cell_type": "markdown",
      "source": [
        "Evaluate"
      ],
      "metadata": {
        "id": "hO940dYV3ehV"
      }
    },
    {
      "cell_type": "code",
      "source": [
        "y_pred_training_all = model_all.predict(X_train_all)\n",
        "y_pred_training_all[:5]"
      ],
      "metadata": {
        "colab": {
          "base_uri": "https://localhost:8080/"
        },
        "id": "ot_WQhzf3KdR",
        "outputId": "4e9ebeaf-f6df-48c9-ed93-964147a6f222"
      },
      "execution_count": 44,
      "outputs": [
        {
          "output_type": "execute_result",
          "data": {
            "text/plain": [
              "array([154846.04697037, 662169.09378526, 299629.57147433, 136451.25636277,\n",
              "       170583.86220609])"
            ]
          },
          "metadata": {},
          "execution_count": 44
        }
      ]
    },
    {
      "cell_type": "markdown",
      "source": [
        "MAE Training"
      ],
      "metadata": {
        "id": "mX1OWxQg3k8O"
      }
    },
    {
      "cell_type": "code",
      "source": [
        "mae_training_all = mean_absolute_error(y_train_all, y_pred_training_all)\n",
        "mae_training_all"
      ],
      "metadata": {
        "colab": {
          "base_uri": "https://localhost:8080/"
        },
        "id": "gK8GIkgE3bXj",
        "outputId": "24c57109-5e95-4ab1-938a-c4da4d083029"
      },
      "execution_count": 45,
      "outputs": [
        {
          "output_type": "execute_result",
          "data": {
            "text/plain": [
              "67936.67888485112"
            ]
          },
          "metadata": {},
          "execution_count": 45
        }
      ]
    },
    {
      "cell_type": "markdown",
      "source": [
        "The Model with both Size and Location has beat the baseline and has performed better than the previous models where I tried to predict price with the individual features. It will be more helpful in predicting Price that the previous LinearRegression Models."
      ],
      "metadata": {
        "id": "sb8pBIIv3268"
      }
    },
    {
      "cell_type": "markdown",
      "source": [
        "Communicate Results"
      ],
      "metadata": {
        "id": "I7EWmdvo4bol"
      }
    },
    {
      "cell_type": "markdown",
      "source": [
        "Extract Coefficients and Intercept and generating an Equation"
      ],
      "metadata": {
        "id": "fkVt2e1Y4fTb"
      }
    },
    {
      "cell_type": "code",
      "source": [
        "intercept_all = model_all.named_steps[\"linearregression\"].intercept_\n",
        "print(\"intercept:\", intercept_all)\n",
        "coefficient_all = model_all.named_steps[\"linearregression\"].coef_\n",
        "print(\"coefficient:\", coefficient_all)\n",
        "#Generating an equation\n",
        "print(f\"apt_price = {intercept_all} + {coefficient_all}*surface_covered_in_m2 + {coefficient_all}*latitude + {coefficient_all}*longitude\")"
      ],
      "metadata": {
        "colab": {
          "base_uri": "https://localhost:8080/"
        },
        "id": "rUE6hd7T3zns",
        "outputId": "492bcfc7-d10a-4b97-bdf1-648c7d60d70f"
      },
      "execution_count": 51,
      "outputs": [
        {
          "output_type": "stream",
          "name": "stdout",
          "text": [
            "intercept: -70670987.96210913\n",
            "coefficient: [   1860.5358418   250984.76330801 -663655.11922083]\n",
            "apt_price = -70670987.96210913 + [   1860.5358418   250984.76330801 -663655.11922083]*surface_covered_in_m2 + [   1860.5358418   250984.76330801 -663655.11922083]*latitude + [   1860.5358418   250984.76330801 -663655.11922083]*longitude\n"
          ]
        }
      ]
    },
    {
      "cell_type": "code",
      "source": [],
      "metadata": {
        "id": "XMoHN2MW5RqO"
      },
      "execution_count": null,
      "outputs": []
    }
  ]
}