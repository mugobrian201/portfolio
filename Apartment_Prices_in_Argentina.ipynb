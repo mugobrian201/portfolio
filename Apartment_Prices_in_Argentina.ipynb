{
  "nbformat": 4,
  "nbformat_minor": 0,
  "metadata": {
    "colab": {
      "provenance": [],
      "authorship_tag": "ABX9TyOjRutGsjCxUHArLQNxpjkw",
      "include_colab_link": true
    },
    "kernelspec": {
      "name": "python3",
      "display_name": "Python 3"
    },
    "language_info": {
      "name": "python"
    }
  },
  "cells": [
    {
      "cell_type": "markdown",
      "metadata": {
        "id": "view-in-github",
        "colab_type": "text"
      },
      "source": [
        "<a href=\"https://colab.research.google.com/github/mugobrian201/portfolio/blob/main/Apartment_Prices_in_Argentina.ipynb\" target=\"_parent\"><img src=\"https://colab.research.google.com/assets/colab-badge.svg\" alt=\"Open In Colab\"/></a>"
      ]
    },
    {
      "cell_type": "markdown",
      "source": [
        "\n",
        "PROJECT : Predicting Apartment Prices in Buenos Aires: A Data Science Approach Using Size and Location\n",
        "\n",
        "This project demonstrates a complete data science workflow to build a predictive model for apartment prices in Buenos Aires, Argentina. The primary goal was to identify and quantify the key factors that influence real estate valuations, providing a data-driven tool for estimation.\n",
        "\n",
        "The analysis began with a targeted data cleaning and preprocessing phase. Using a custom wrangle function, the dataset—sourced from Kaggle—was refined by filtering for apartments specifically within the 'Distrito Federal' (Buenos Aires) and removing outliers to ensure data quality. A crucial feature, price_per_m2, was engineered by calculating the price in USD relative to the covered surface area, setting the stage for a clear analysis of value.\n",
        "\n",
        "The modeling process adopted an iterative approach to isolate the impact of different features. The initial model used only apartment size (surface_covered_in_m2) to predict the total price. This simple Linear Regression model successfully beat a baseline prediction, establishing a strong, positive relationship where larger apartments command higher prices—approximately $2,045 more for each additional square meter.\n",
        "\n",
        "To enhance the model's accuracy, a second model was developed using geographical coordinates (lat and lon) as features. While this location-based model also outperformed the baseline, its performance was inferior to the size-based model, indicating that, for this dataset, square footage is a more potent individual predictor.\n",
        "\n",
        "The most effective model emerged from combining both features—size and location—into a single predictor. This multifaceted model leveraged a pipeline to handle the data and perform the regression, resulting in the best performance of the three. This key finding underscores that while size is a dominant factor, incorporating location provides a more nuanced and accurate price estimation, reflecting the complex nature of real estate valuation.\n",
        "\n",
        "This project has direct practical applications. For prospective buyers or renters, it offers a transparent method to gauge if an asking price is reasonable. For investors and real estate professionals, it highlights the primary value drivers in the Buenos Aires market, enabling better investment decisions and market analysis. The model serves as a foundational tool that could be expanded with more features (e.g., number of bedrooms, building amenities) for even greater accuracy.\n",
        "\n",
        "This project is a good example of the data science lifecycle, showcasing skills in data wrangling, feature engineering, iterative model building, and validation. It effectively illustrates how to start with a simple model, interpret its results (coefficients and intercepts), and systematically improve it by incorporating additional variables, a critical process for solving real-world problems.\n"
      ],
      "metadata": {
        "id": "rn63pkZ1H_ZY"
      }
    },
    {
      "cell_type": "markdown",
      "source": [
        "\n",
        "\n",
        "Objective\n",
        "\n",
        "    1.To Build a Predictive Model for Apartment Prices\n",
        "\n",
        "    The primary goal was to develop a machine learning model capable of accurately estimating the price of an apartment in Buenos Aires based on its fundamental characteristics.\n",
        "\n",
        "    2.To Identify and Quantify Key Price Drivers\n",
        "\n",
        "    To determine which factors have the most significant impact on apartment prices. Specifically, the project sought to answer:\n",
        "\n",
        "     How strong is the relationship between apartment size (square meters) and price?\n",
        "\n",
        "     Can geographic location (latitude/longitude) within the city effectively predict price?\n",
        "\n",
        "     Does a combination of size and location provide a superior prediction?\n",
        "\n",
        "    3.To Demonstrate a Complete Data Science Workflow\n",
        "\n",
        "    To showcase proficiency in the end-to-end process of a data science project, from data acquisition and cleaning to model deployment and interpretation. This includes:\n",
        "\n",
        "     Data Wrangling: Cleaning raw data and creating a robust dataset for analysis.\n",
        "\n",
        "     Feature Engineering: Creating new, meaningful features like price_per_m2.\n",
        "\n",
        "     Iterative Modeling: Building and comparing multiple models to incrementally improve performance.\n",
        "\n",
        "     Model Interpretation: Extracting and explaining the model's coefficients to make the predictions understandable (e.g., quantifying the price increase per additional square meter).\n",
        "\n",
        "    4.To Provide Actionable, Data-Driven Insights\n",
        "\n",
        "    To translate the model's findings into clear, actionable insights about the Buenos Aires real estate market.\n",
        "\n",
        "    5.To Establish a Foundation for Further Analysis\n",
        "\n",
        "    To create an analytical framework that can be easily expanded in the future by incorporating additional features (like number of bedrooms, proximity to amenities, etc.) for even more sophisticated price modeling.\n",
        "\n"
      ],
      "metadata": {
        "id": "hKBInjn-IeMV"
      }
    },
    {
      "cell_type": "markdown",
      "source": [
        "IMPORTING THE NECESSARY MODELS"
      ],
      "metadata": {
        "id": "hYEM6z-Az5XE"
      }
    },
    {
      "cell_type": "code",
      "source": [
        "# Install the kagglehub library\n",
        "!pip install kagglehub\n",
        "\n",
        "# Import essential libraries\n",
        "import pandas as pd\n",
        "import numpy as np\n",
        "import matplotlib.pyplot as plt\n",
        "import plotly.graph_objects as go\n",
        "import seaborn as sns\n",
        "import plotly.express as px\n",
        "from sklearn.linear_model import LinearRegression\n",
        "from sklearn.metrics import mean_absolute_error\n",
        "from sklearn.utils.validation import check_is_fitted\n",
        "from sklearn.impute import SimpleImputer\n",
        "from sklearn.pipeline import Pipeline, make_pipeline\n",
        "\n",
        "# This makes your plots show up directly in the notebook\n",
        "%matplotlib inline"
      ],
      "metadata": {
        "colab": {
          "base_uri": "https://localhost:8080/"
        },
        "id": "6C0mW-xMiXkn",
        "outputId": "58bdff7d-f639-4204-c3ad-e62191eded76"
      },
      "execution_count": null,
      "outputs": [
        {
          "output_type": "stream",
          "name": "stdout",
          "text": [
            "Requirement already satisfied: kagglehub in /usr/local/lib/python3.12/dist-packages (0.3.13)\n",
            "Requirement already satisfied: packaging in /usr/local/lib/python3.12/dist-packages (from kagglehub) (25.0)\n",
            "Requirement already satisfied: pyyaml in /usr/local/lib/python3.12/dist-packages (from kagglehub) (6.0.2)\n",
            "Requirement already satisfied: requests in /usr/local/lib/python3.12/dist-packages (from kagglehub) (2.32.4)\n",
            "Requirement already satisfied: tqdm in /usr/local/lib/python3.12/dist-packages (from kagglehub) (4.67.1)\n",
            "Requirement already satisfied: charset_normalizer<4,>=2 in /usr/local/lib/python3.12/dist-packages (from requests->kagglehub) (3.4.3)\n",
            "Requirement already satisfied: idna<4,>=2.5 in /usr/local/lib/python3.12/dist-packages (from requests->kagglehub) (3.10)\n",
            "Requirement already satisfied: urllib3<3,>=1.21.1 in /usr/local/lib/python3.12/dist-packages (from requests->kagglehub) (2.5.0)\n",
            "Requirement already satisfied: certifi>=2017.4.17 in /usr/local/lib/python3.12/dist-packages (from requests->kagglehub) (2025.8.3)\n"
          ]
        }
      ]
    },
    {
      "cell_type": "markdown",
      "source": [
        "UPLOADING MY FILE"
      ],
      "metadata": {
        "id": "P6Bqh90J0FS_"
      }
    },
    {
      "cell_type": "code",
      "execution_count": null,
      "metadata": {
        "id": "lK5lQuzliC8u"
      },
      "outputs": [],
      "source": [
        "from google.colab import files\n",
        "files.upload()"
      ]
    },
    {
      "cell_type": "markdown",
      "source": [
        "CREATING A WRANGLE FUNCTION"
      ],
      "metadata": {
        "id": "lGYqKbLA0g_n"
      }
    },
    {
      "cell_type": "code",
      "source": [
        "def wrangle(filepath):\n",
        "  df = pd.read_csv(filepath)\n",
        "  #Drop irrelevant columns\n",
        "  df.drop(columns=[\"price\", \"price_aprox_local_currency\", \"surface_total_in_m2\", \"price_per_m2\"], inplace=True)\n",
        "  #Create a new column \"price_per_m2\"\n",
        "  df[\"price_per_m2\"] = df[\"price_aprox_usd\"] / df[\"surface_covered_in_m2\"]\n",
        "  #Creating a Mask that shows states only in 'Distrito Federal'\n",
        "  mask_state = df[\"State\"].str.contains(\"Distrito Federal\")\n",
        "  #Creating a mask where the property type is apartments only\n",
        "  mask_apt = df[\"property_type\"] == \"apartment\"\n",
        "  #Create a mask where 'price_aprox_usd' < 400_000\n",
        "  mask_price = df[\"price_aprox_usd\"] < 700_000\n",
        "  #Removing Outliers from \"surface_covered_in_m2\" column\n",
        "  low, high = df[\"surface_covered_in_m2\"].quantile([0.1, 0.9])\n",
        "  mask_area = df[\"surface_covered_in_m2\"].between(low, high)\n",
        "\n",
        "\n",
        "  df = df[mask_state & mask_apt & mask_price & mask_area]\n",
        "\n",
        "  #Reset the index after filtering (cleaner indexing)\n",
        "  df.reset_index(drop=True, inplace=True)\n",
        "\n",
        "  return df"
      ],
      "metadata": {
        "id": "rupnxNQnnhre"
      },
      "execution_count": null,
      "outputs": []
    },
    {
      "cell_type": "markdown",
      "source": [
        "PREPARE DATA"
      ],
      "metadata": {
        "id": "Ovp-qUbO0rg3"
      }
    },
    {
      "cell_type": "markdown",
      "source": [
        "IMPORT"
      ],
      "metadata": {
        "id": "Bd4Njz5q00hz"
      }
    },
    {
      "cell_type": "code",
      "source": [
        "df = wrangle(\"cleaned_property_data.csv\")\n",
        "print(df.shape)\n",
        "df.head()"
      ],
      "metadata": {
        "colab": {
          "base_uri": "https://localhost:8080/",
          "height": 380
        },
        "id": "4U9OVZXdn0Um",
        "outputId": "a0e67ccf-8555-42cb-9c34-196108fc4264"
      },
      "execution_count": null,
      "outputs": [
        {
          "output_type": "stream",
          "name": "stdout",
          "text": [
            "(289, 9)\n"
          ]
        },
        {
          "output_type": "execute_result",
          "data": {
            "text/plain": [
              "  operation property_type  price_aprox_usd  surface_covered_in_m2  \\\n",
              "0      sell     apartment        172446.86                   83.0   \n",
              "1      sell     apartment        553339.27                  320.0   \n",
              "2      sell     apartment        492618.62                  159.0   \n",
              "3      sell     apartment        155425.12                   73.0   \n",
              "4      sell     apartment        258224.99                   84.0   \n",
              "\n",
              "                                       properati_url        lat        lon  \\\n",
              "0  http://benito-juarez.properati.com.mx/qc0v_ven...  19.379406 -99.159145   \n",
              "1  http://cuajimalpa-de-morelos.properati.com.mx/...  19.390415 -99.254997   \n",
              "2  http://benito-juarez.properati.com.mx/duj8_ven...  19.375395 -99.165759   \n",
              "3  http://benito-juarez.properati.com.mx/or2f_ven...  19.394073 -99.153915   \n",
              "4  http://cuauhtemoc.properati.com.mx/j9by_venta_...  19.416967 -99.165850   \n",
              "\n",
              "              State  price_per_m2  \n",
              "0  Distrito Federal   2077.673012  \n",
              "1  Distrito Federal   1729.185219  \n",
              "2  Distrito Federal   3098.230314  \n",
              "3  Distrito Federal   2129.111233  \n",
              "4  Distrito Federal   3074.107024  "
            ],
            "text/html": [
              "\n",
              "  <div id=\"df-14654b27-5a95-4eb0-a29e-bbc59420195d\" class=\"colab-df-container\">\n",
              "    <div>\n",
              "<style scoped>\n",
              "    .dataframe tbody tr th:only-of-type {\n",
              "        vertical-align: middle;\n",
              "    }\n",
              "\n",
              "    .dataframe tbody tr th {\n",
              "        vertical-align: top;\n",
              "    }\n",
              "\n",
              "    .dataframe thead th {\n",
              "        text-align: right;\n",
              "    }\n",
              "</style>\n",
              "<table border=\"1\" class=\"dataframe\">\n",
              "  <thead>\n",
              "    <tr style=\"text-align: right;\">\n",
              "      <th></th>\n",
              "      <th>operation</th>\n",
              "      <th>property_type</th>\n",
              "      <th>price_aprox_usd</th>\n",
              "      <th>surface_covered_in_m2</th>\n",
              "      <th>properati_url</th>\n",
              "      <th>lat</th>\n",
              "      <th>lon</th>\n",
              "      <th>State</th>\n",
              "      <th>price_per_m2</th>\n",
              "    </tr>\n",
              "  </thead>\n",
              "  <tbody>\n",
              "    <tr>\n",
              "      <th>0</th>\n",
              "      <td>sell</td>\n",
              "      <td>apartment</td>\n",
              "      <td>172446.86</td>\n",
              "      <td>83.0</td>\n",
              "      <td>http://benito-juarez.properati.com.mx/qc0v_ven...</td>\n",
              "      <td>19.379406</td>\n",
              "      <td>-99.159145</td>\n",
              "      <td>Distrito Federal</td>\n",
              "      <td>2077.673012</td>\n",
              "    </tr>\n",
              "    <tr>\n",
              "      <th>1</th>\n",
              "      <td>sell</td>\n",
              "      <td>apartment</td>\n",
              "      <td>553339.27</td>\n",
              "      <td>320.0</td>\n",
              "      <td>http://cuajimalpa-de-morelos.properati.com.mx/...</td>\n",
              "      <td>19.390415</td>\n",
              "      <td>-99.254997</td>\n",
              "      <td>Distrito Federal</td>\n",
              "      <td>1729.185219</td>\n",
              "    </tr>\n",
              "    <tr>\n",
              "      <th>2</th>\n",
              "      <td>sell</td>\n",
              "      <td>apartment</td>\n",
              "      <td>492618.62</td>\n",
              "      <td>159.0</td>\n",
              "      <td>http://benito-juarez.properati.com.mx/duj8_ven...</td>\n",
              "      <td>19.375395</td>\n",
              "      <td>-99.165759</td>\n",
              "      <td>Distrito Federal</td>\n",
              "      <td>3098.230314</td>\n",
              "    </tr>\n",
              "    <tr>\n",
              "      <th>3</th>\n",
              "      <td>sell</td>\n",
              "      <td>apartment</td>\n",
              "      <td>155425.12</td>\n",
              "      <td>73.0</td>\n",
              "      <td>http://benito-juarez.properati.com.mx/or2f_ven...</td>\n",
              "      <td>19.394073</td>\n",
              "      <td>-99.153915</td>\n",
              "      <td>Distrito Federal</td>\n",
              "      <td>2129.111233</td>\n",
              "    </tr>\n",
              "    <tr>\n",
              "      <th>4</th>\n",
              "      <td>sell</td>\n",
              "      <td>apartment</td>\n",
              "      <td>258224.99</td>\n",
              "      <td>84.0</td>\n",
              "      <td>http://cuauhtemoc.properati.com.mx/j9by_venta_...</td>\n",
              "      <td>19.416967</td>\n",
              "      <td>-99.165850</td>\n",
              "      <td>Distrito Federal</td>\n",
              "      <td>3074.107024</td>\n",
              "    </tr>\n",
              "  </tbody>\n",
              "</table>\n",
              "</div>\n",
              "    <div class=\"colab-df-buttons\">\n",
              "\n",
              "  <div class=\"colab-df-container\">\n",
              "    <button class=\"colab-df-convert\" onclick=\"convertToInteractive('df-14654b27-5a95-4eb0-a29e-bbc59420195d')\"\n",
              "            title=\"Convert this dataframe to an interactive table.\"\n",
              "            style=\"display:none;\">\n",
              "\n",
              "  <svg xmlns=\"http://www.w3.org/2000/svg\" height=\"24px\" viewBox=\"0 -960 960 960\">\n",
              "    <path d=\"M120-120v-720h720v720H120Zm60-500h600v-160H180v160Zm220 220h160v-160H400v160Zm0 220h160v-160H400v160ZM180-400h160v-160H180v160Zm440 0h160v-160H620v160ZM180-180h160v-160H180v160Zm440 0h160v-160H620v160Z\"/>\n",
              "  </svg>\n",
              "    </button>\n",
              "\n",
              "  <style>\n",
              "    .colab-df-container {\n",
              "      display:flex;\n",
              "      gap: 12px;\n",
              "    }\n",
              "\n",
              "    .colab-df-convert {\n",
              "      background-color: #E8F0FE;\n",
              "      border: none;\n",
              "      border-radius: 50%;\n",
              "      cursor: pointer;\n",
              "      display: none;\n",
              "      fill: #1967D2;\n",
              "      height: 32px;\n",
              "      padding: 0 0 0 0;\n",
              "      width: 32px;\n",
              "    }\n",
              "\n",
              "    .colab-df-convert:hover {\n",
              "      background-color: #E2EBFA;\n",
              "      box-shadow: 0px 1px 2px rgba(60, 64, 67, 0.3), 0px 1px 3px 1px rgba(60, 64, 67, 0.15);\n",
              "      fill: #174EA6;\n",
              "    }\n",
              "\n",
              "    .colab-df-buttons div {\n",
              "      margin-bottom: 4px;\n",
              "    }\n",
              "\n",
              "    [theme=dark] .colab-df-convert {\n",
              "      background-color: #3B4455;\n",
              "      fill: #D2E3FC;\n",
              "    }\n",
              "\n",
              "    [theme=dark] .colab-df-convert:hover {\n",
              "      background-color: #434B5C;\n",
              "      box-shadow: 0px 1px 3px 1px rgba(0, 0, 0, 0.15);\n",
              "      filter: drop-shadow(0px 1px 2px rgba(0, 0, 0, 0.3));\n",
              "      fill: #FFFFFF;\n",
              "    }\n",
              "  </style>\n",
              "\n",
              "    <script>\n",
              "      const buttonEl =\n",
              "        document.querySelector('#df-14654b27-5a95-4eb0-a29e-bbc59420195d button.colab-df-convert');\n",
              "      buttonEl.style.display =\n",
              "        google.colab.kernel.accessAllowed ? 'block' : 'none';\n",
              "\n",
              "      async function convertToInteractive(key) {\n",
              "        const element = document.querySelector('#df-14654b27-5a95-4eb0-a29e-bbc59420195d');\n",
              "        const dataTable =\n",
              "          await google.colab.kernel.invokeFunction('convertToInteractive',\n",
              "                                                    [key], {});\n",
              "        if (!dataTable) return;\n",
              "\n",
              "        const docLinkHtml = 'Like what you see? Visit the ' +\n",
              "          '<a target=\"_blank\" href=https://colab.research.google.com/notebooks/data_table.ipynb>data table notebook</a>'\n",
              "          + ' to learn more about interactive tables.';\n",
              "        element.innerHTML = '';\n",
              "        dataTable['output_type'] = 'display_data';\n",
              "        await google.colab.output.renderOutput(dataTable, element);\n",
              "        const docLink = document.createElement('div');\n",
              "        docLink.innerHTML = docLinkHtml;\n",
              "        element.appendChild(docLink);\n",
              "      }\n",
              "    </script>\n",
              "  </div>\n",
              "\n",
              "\n",
              "    <div id=\"df-8967acb8-fbc7-444c-86a8-025d01a90021\">\n",
              "      <button class=\"colab-df-quickchart\" onclick=\"quickchart('df-8967acb8-fbc7-444c-86a8-025d01a90021')\"\n",
              "                title=\"Suggest charts\"\n",
              "                style=\"display:none;\">\n",
              "\n",
              "<svg xmlns=\"http://www.w3.org/2000/svg\" height=\"24px\"viewBox=\"0 0 24 24\"\n",
              "     width=\"24px\">\n",
              "    <g>\n",
              "        <path d=\"M19 3H5c-1.1 0-2 .9-2 2v14c0 1.1.9 2 2 2h14c1.1 0 2-.9 2-2V5c0-1.1-.9-2-2-2zM9 17H7v-7h2v7zm4 0h-2V7h2v10zm4 0h-2v-4h2v4z\"/>\n",
              "    </g>\n",
              "</svg>\n",
              "      </button>\n",
              "\n",
              "<style>\n",
              "  .colab-df-quickchart {\n",
              "      --bg-color: #E8F0FE;\n",
              "      --fill-color: #1967D2;\n",
              "      --hover-bg-color: #E2EBFA;\n",
              "      --hover-fill-color: #174EA6;\n",
              "      --disabled-fill-color: #AAA;\n",
              "      --disabled-bg-color: #DDD;\n",
              "  }\n",
              "\n",
              "  [theme=dark] .colab-df-quickchart {\n",
              "      --bg-color: #3B4455;\n",
              "      --fill-color: #D2E3FC;\n",
              "      --hover-bg-color: #434B5C;\n",
              "      --hover-fill-color: #FFFFFF;\n",
              "      --disabled-bg-color: #3B4455;\n",
              "      --disabled-fill-color: #666;\n",
              "  }\n",
              "\n",
              "  .colab-df-quickchart {\n",
              "    background-color: var(--bg-color);\n",
              "    border: none;\n",
              "    border-radius: 50%;\n",
              "    cursor: pointer;\n",
              "    display: none;\n",
              "    fill: var(--fill-color);\n",
              "    height: 32px;\n",
              "    padding: 0;\n",
              "    width: 32px;\n",
              "  }\n",
              "\n",
              "  .colab-df-quickchart:hover {\n",
              "    background-color: var(--hover-bg-color);\n",
              "    box-shadow: 0 1px 2px rgba(60, 64, 67, 0.3), 0 1px 3px 1px rgba(60, 64, 67, 0.15);\n",
              "    fill: var(--button-hover-fill-color);\n",
              "  }\n",
              "\n",
              "  .colab-df-quickchart-complete:disabled,\n",
              "  .colab-df-quickchart-complete:disabled:hover {\n",
              "    background-color: var(--disabled-bg-color);\n",
              "    fill: var(--disabled-fill-color);\n",
              "    box-shadow: none;\n",
              "  }\n",
              "\n",
              "  .colab-df-spinner {\n",
              "    border: 2px solid var(--fill-color);\n",
              "    border-color: transparent;\n",
              "    border-bottom-color: var(--fill-color);\n",
              "    animation:\n",
              "      spin 1s steps(1) infinite;\n",
              "  }\n",
              "\n",
              "  @keyframes spin {\n",
              "    0% {\n",
              "      border-color: transparent;\n",
              "      border-bottom-color: var(--fill-color);\n",
              "      border-left-color: var(--fill-color);\n",
              "    }\n",
              "    20% {\n",
              "      border-color: transparent;\n",
              "      border-left-color: var(--fill-color);\n",
              "      border-top-color: var(--fill-color);\n",
              "    }\n",
              "    30% {\n",
              "      border-color: transparent;\n",
              "      border-left-color: var(--fill-color);\n",
              "      border-top-color: var(--fill-color);\n",
              "      border-right-color: var(--fill-color);\n",
              "    }\n",
              "    40% {\n",
              "      border-color: transparent;\n",
              "      border-right-color: var(--fill-color);\n",
              "      border-top-color: var(--fill-color);\n",
              "    }\n",
              "    60% {\n",
              "      border-color: transparent;\n",
              "      border-right-color: var(--fill-color);\n",
              "    }\n",
              "    80% {\n",
              "      border-color: transparent;\n",
              "      border-right-color: var(--fill-color);\n",
              "      border-bottom-color: var(--fill-color);\n",
              "    }\n",
              "    90% {\n",
              "      border-color: transparent;\n",
              "      border-bottom-color: var(--fill-color);\n",
              "    }\n",
              "  }\n",
              "</style>\n",
              "\n",
              "      <script>\n",
              "        async function quickchart(key) {\n",
              "          const quickchartButtonEl =\n",
              "            document.querySelector('#' + key + ' button');\n",
              "          quickchartButtonEl.disabled = true;  // To prevent multiple clicks.\n",
              "          quickchartButtonEl.classList.add('colab-df-spinner');\n",
              "          try {\n",
              "            const charts = await google.colab.kernel.invokeFunction(\n",
              "                'suggestCharts', [key], {});\n",
              "          } catch (error) {\n",
              "            console.error('Error during call to suggestCharts:', error);\n",
              "          }\n",
              "          quickchartButtonEl.classList.remove('colab-df-spinner');\n",
              "          quickchartButtonEl.classList.add('colab-df-quickchart-complete');\n",
              "        }\n",
              "        (() => {\n",
              "          let quickchartButtonEl =\n",
              "            document.querySelector('#df-8967acb8-fbc7-444c-86a8-025d01a90021 button');\n",
              "          quickchartButtonEl.style.display =\n",
              "            google.colab.kernel.accessAllowed ? 'block' : 'none';\n",
              "        })();\n",
              "      </script>\n",
              "    </div>\n",
              "\n",
              "    </div>\n",
              "  </div>\n"
            ],
            "application/vnd.google.colaboratory.intrinsic+json": {
              "type": "dataframe",
              "variable_name": "df",
              "summary": "{\n  \"name\": \"df\",\n  \"rows\": 289,\n  \"fields\": [\n    {\n      \"column\": \"operation\",\n      \"properties\": {\n        \"dtype\": \"category\",\n        \"num_unique_values\": 1,\n        \"samples\": [\n          \"sell\"\n        ],\n        \"semantic_type\": \"\",\n        \"description\": \"\"\n      }\n    },\n    {\n      \"column\": \"property_type\",\n      \"properties\": {\n        \"dtype\": \"category\",\n        \"num_unique_values\": 1,\n        \"samples\": [\n          \"apartment\"\n        ],\n        \"semantic_type\": \"\",\n        \"description\": \"\"\n      }\n    },\n    {\n      \"column\": \"price_aprox_usd\",\n      \"properties\": {\n        \"dtype\": \"number\",\n        \"std\": 165398.099604567,\n        \"min\": 28825.02,\n        \"max\": 685086.71,\n        \"num_unique_values\": 249,\n        \"samples\": [\n          520000.0\n        ],\n        \"semantic_type\": \"\",\n        \"description\": \"\"\n      }\n    },\n    {\n      \"column\": \"surface_covered_in_m2\",\n      \"properties\": {\n        \"dtype\": \"number\",\n        \"std\": 65.83198336402228,\n        \"min\": 62.0,\n        \"max\": 438.0,\n        \"num_unique_values\": 126,\n        \"samples\": [\n          285.0\n        ],\n        \"semantic_type\": \"\",\n        \"description\": \"\"\n      }\n    },\n    {\n      \"column\": \"properati_url\",\n      \"properties\": {\n        \"dtype\": \"string\",\n        \"num_unique_values\": 289,\n        \"samples\": [\n          \"http://coyoacan.properati.com.mx/jh83_venta_departamento_coyoacan\"\n        ],\n        \"semantic_type\": \"\",\n        \"description\": \"\"\n      }\n    },\n    {\n      \"column\": \"lat\",\n      \"properties\": {\n        \"dtype\": \"number\",\n        \"std\": 0.04641658126394525,\n        \"min\": 19.2672863,\n        \"max\": 19.552402,\n        \"num_unique_values\": 212,\n        \"samples\": [\n          19.371342\n        ],\n        \"semantic_type\": \"\",\n        \"description\": \"\"\n      }\n    },\n    {\n      \"column\": \"lon\",\n      \"properties\": {\n        \"dtype\": \"number\",\n        \"std\": 0.055674316753024006,\n        \"min\": -99.3014315,\n        \"max\": -99.0436467,\n        \"num_unique_values\": 205,\n        \"samples\": [\n          -99.1527773\n        ],\n        \"semantic_type\": \"\",\n        \"description\": \"\"\n      }\n    },\n    {\n      \"column\": \"State\",\n      \"properties\": {\n        \"dtype\": \"category\",\n        \"num_unique_values\": 1,\n        \"samples\": [\n          \"Distrito Federal\"\n        ],\n        \"semantic_type\": \"\",\n        \"description\": \"\"\n      }\n    },\n    {\n      \"column\": \"price_per_m2\",\n      \"properties\": {\n        \"dtype\": \"number\",\n        \"std\": 769.838283524121,\n        \"min\": 315.048152173913,\n        \"max\": 4303.749833333333,\n        \"num_unique_values\": 282,\n        \"samples\": [\n          2707.470366972477\n        ],\n        \"semantic_type\": \"\",\n        \"description\": \"\"\n      }\n    }\n  ]\n}"
            }
          },
          "metadata": {},
          "execution_count": 4
        }
      ]
    },
    {
      "cell_type": "markdown",
      "source": [
        "EXPLORE"
      ],
      "metadata": {
        "id": "_kEHtcLA1An4"
      }
    },
    {
      "cell_type": "markdown",
      "source": [
        "VISUALIZATION OF \"SURFACE_COVERED_IN_M2 COLUMN\""
      ],
      "metadata": {
        "id": "8FBmEGX8wi-_"
      }
    },
    {
      "cell_type": "code",
      "source": [
        "#Area Histogram\n",
        "df[\"surface_covered_in_m2\"].hist()\n",
        "plt.xlabel(\"Area M2\")\n",
        "plt.ylabel(\"Frequency\")\n",
        "plt.title(\"Area Histogram\");"
      ],
      "metadata": {
        "colab": {
          "base_uri": "https://localhost:8080/",
          "height": 472
        },
        "id": "eBgvzSxurpxl",
        "outputId": "8ce1ec0b-0024-40a5-c335-0c3309bcdf2b"
      },
      "execution_count": null,
      "outputs": [
        {
          "output_type": "display_data",
          "data": {
            "text/plain": [
              "<Figure size 640x480 with 1 Axes>"
            ],
            "image/png": "[encoded data removed]"
          },
          "metadata": {}
        }
      ]
    },
    {
      "cell_type": "code",
      "source": [
        "df[\"surface_covered_in_m2\"].describe()"
      ],
      "metadata": {
        "colab": {
          "base_uri": "https://localhost:8080/",
          "height": 335
        },
        "id": "Ips1FVX9vWCM",
        "outputId": "0d65c9ca-3060-4f0a-bdd8-4982cfa208d5"
      },
      "execution_count": null,
      "outputs": [
        {
          "output_type": "execute_result",
          "data": {
            "text/plain": [
              "count    289.000000\n",
              "mean     125.698962\n",
              "std       65.831983\n",
              "min       62.000000\n",
              "25%       78.000000\n",
              "50%      101.000000\n",
              "75%      156.000000\n",
              "max      438.000000\n",
              "Name: surface_covered_in_m2, dtype: float64"
            ],
            "text/html": [
              "<div>\n",
              "<style scoped>\n",
              "    .dataframe tbody tr th:only-of-type {\n",
              "        vertical-align: middle;\n",
              "    }\n",
              "\n",
              "    .dataframe tbody tr th {\n",
              "        vertical-align: top;\n",
              "    }\n",
              "\n",
              "    .dataframe thead th {\n",
              "        text-align: right;\n",
              "    }\n",
              "</style>\n",
              "<table border=\"1\" class=\"dataframe\">\n",
              "  <thead>\n",
              "    <tr style=\"text-align: right;\">\n",
              "      <th></th>\n",
              "      <th>surface_covered_in_m2</th>\n",
              "    </tr>\n",
              "  </thead>\n",
              "  <tbody>\n",
              "    <tr>\n",
              "      <th>count</th>\n",
              "      <td>289.000000</td>\n",
              "    </tr>\n",
              "    <tr>\n",
              "      <th>mean</th>\n",
              "      <td>125.698962</td>\n",
              "    </tr>\n",
              "    <tr>\n",
              "      <th>std</th>\n",
              "      <td>65.831983</td>\n",
              "    </tr>\n",
              "    <tr>\n",
              "      <th>min</th>\n",
              "      <td>62.000000</td>\n",
              "    </tr>\n",
              "    <tr>\n",
              "      <th>25%</th>\n",
              "      <td>78.000000</td>\n",
              "    </tr>\n",
              "    <tr>\n",
              "      <th>50%</th>\n",
              "      <td>101.000000</td>\n",
              "    </tr>\n",
              "    <tr>\n",
              "      <th>75%</th>\n",
              "      <td>156.000000</td>\n",
              "    </tr>\n",
              "    <tr>\n",
              "      <th>max</th>\n",
              "      <td>438.000000</td>\n",
              "    </tr>\n",
              "  </tbody>\n",
              "</table>\n",
              "</div><br><label><b>dtype:</b> float64</label>"
            ]
          },
          "metadata": {},
          "execution_count": 6
        }
      ]
    },
    {
      "cell_type": "markdown",
      "source": [
        "The Histogram is highly skewed to the right, thus suggesting there are outliers in the dataset which might affect model perfomance. Also with the area statistics where the mean(112.5333), and the max being 1118 proves there are outliers. I will remove those outliers making sure all observations fall between 0.1 and 0.9 Quantiles"
      ],
      "metadata": {
        "id": "COZO5Lv_wyQR"
      }
    },
    {
      "cell_type": "markdown",
      "source": [
        " VISUALIZATION TO CHECK THE RELATIONSHIP BETWEEN APARTMENT PRICE AND SIZE"
      ],
      "metadata": {
        "id": "48_qSh7Y2DUo"
      }
    },
    {
      "cell_type": "code",
      "source": [
        "#Plot a Scatter Plot\n",
        "plt.scatter(x=df['surface_covered_in_m2'], y=df['price_aprox_usd'])\n",
        "plt.xlabel(\"Apartment Size\")\n",
        "plt.ylabel(\"Apartment Price\")\n",
        "plt.title(\"Apartment Price vs Apartment Shape\");"
      ],
      "metadata": {
        "colab": {
          "base_uri": "https://localhost:8080/",
          "height": 472
        },
        "id": "4wVv6WEjyDzq",
        "outputId": "013c73e0-3de0-4b2c-8d6f-13884ac71bde"
      },
      "execution_count": null,
      "outputs": [
        {
          "output_type": "display_data",
          "data": {
            "text/plain": [
              "<Figure size 640x480 with 1 Axes>"
            ],
            "image/png": "[encoded data removed]"
          },
          "metadata": {}
        }
      ]
    },
    {
      "cell_type": "markdown",
      "source": [
        "From the above visualization, we can see that there is a positive correlation between apartment price and size, meaning that if we want to price an apartment, it would be good to include its size\n",
        "\n",
        "It shows that area does determine the price of an apartment."
      ],
      "metadata": {
        "id": "fvxnSUfV27F6"
      }
    },
    {
      "cell_type": "markdown",
      "source": [
        "Split Data : Feature Matrix"
      ],
      "metadata": {
        "id": "vVcgYtiA4BQI"
      }
    },
    {
      "cell_type": "markdown",
      "source": [
        "Training my model with only one feature, \"surface_covered_in_m2\""
      ],
      "metadata": {
        "id": "H_E5XfLf4g5l"
      }
    },
    {
      "cell_type": "code",
      "source": [
        "features = [\"surface_covered_in_m2\"]\n",
        "X_train = df[features]\n",
        "X_train.shape"
      ],
      "metadata": {
        "colab": {
          "base_uri": "https://localhost:8080/"
        },
        "id": "grSo0vmr2kdI",
        "outputId": "0964426e-1766-4fdc-d745-341f4fa7693c"
      },
      "execution_count": null,
      "outputs": [
        {
          "output_type": "execute_result",
          "data": {
            "text/plain": [
              "(289, 1)"
            ]
          },
          "metadata": {},
          "execution_count": 8
        }
      ]
    },
    {
      "cell_type": "markdown",
      "source": [
        "Split Data: Target Vector"
      ],
      "metadata": {
        "id": "PQGkr4AB40dK"
      }
    },
    {
      "cell_type": "markdown",
      "source": [
        "Creating a Target Vector to train my model"
      ],
      "metadata": {
        "id": "9VkqIEpG45iO"
      }
    },
    {
      "cell_type": "code",
      "source": [
        "target = \"price_aprox_usd\"               #no listing it since it is a vector\n",
        "y_train = df[target]\n",
        "y_train.shape"
      ],
      "metadata": {
        "colab": {
          "base_uri": "https://localhost:8080/"
        },
        "id": "wgxA6K9t4eLi",
        "outputId": "554c10d4-fa84-4752-f76b-2aef22cfd6b5"
      },
      "execution_count": null,
      "outputs": [
        {
          "output_type": "execute_result",
          "data": {
            "text/plain": [
              "(289,)"
            ]
          },
          "metadata": {},
          "execution_count": 9
        }
      ]
    },
    {
      "cell_type": "markdown",
      "source": [
        "I want to build a Model that will predict a continuous numerical value, that is, the price of an apartment.\n",
        "I want to fit a model that will predict a single output variable(y) as a linear function of a single input variable(X).\n",
        "This is a regression problem, a LinearRegression model will be the best.\n"
      ],
      "metadata": {
        "id": "HCJ19Mdj5gji"
      }
    },
    {
      "cell_type": "markdown",
      "source": [
        "BUILD MODEL"
      ],
      "metadata": {
        "id": "KZDriGMY6VUG"
      }
    },
    {
      "cell_type": "markdown",
      "source": [
        "Baseline"
      ],
      "metadata": {
        "id": "LMunnQuM6VQr"
      }
    },
    {
      "cell_type": "code",
      "source": [
        "y_mean = y_train.mean()\n",
        "y_mean"
      ],
      "metadata": {
        "colab": {
          "base_uri": "https://localhost:8080/"
        },
        "id": "FAcSLAeE4VC8",
        "outputId": "47fe909a-5d45-419c-9ab6-136c8e48d3b2"
      },
      "execution_count": null,
      "outputs": [
        {
          "output_type": "execute_result",
          "data": {
            "text/plain": [
              "np.float64(248004.589550173)"
            ]
          },
          "metadata": {},
          "execution_count": 10
        }
      ]
    },
    {
      "cell_type": "markdown",
      "source": [
        "The above output shows the prediction that our dumb/naive model will make"
      ],
      "metadata": {
        "id": "_FIzgJg-6q8O"
      }
    },
    {
      "cell_type": "markdown",
      "source": [
        "Prediction List\n",
        "Generating a list that repeats the prediction for every observation in my dataset.\n",
        "It will contain the value of y_mean repeated so that it is the same length at y_train"
      ],
      "metadata": {
        "id": "QuRdKWO97bzd"
      }
    },
    {
      "cell_type": "code",
      "source": [
        "y_pred_baseline = [y_mean] * len(y_train)\n",
        "y_pred_baseline"
      ],
      "metadata": {
        "id": "Irh-lscK6pig"
      },
      "execution_count": null,
      "outputs": []
    },
    {
      "cell_type": "markdown",
      "source": [
        "Baseline : Scatter Plot & Line Plot"
      ],
      "metadata": {
        "id": "qI6_BHyH8KQf"
      }
    },
    {
      "cell_type": "code",
      "source": [
        "plt.plot (X_train[\"surface_covered_in_m2\"], y_pred_baseline, color=\"orange\", label = \"Baseline Model\")\n",
        "plt.scatter(X_train, y_train)\n",
        "plt.xlabel(\"Apartment Size [sq meters]\")\n",
        "plt.ylabel(\"Apartment Price\")\n",
        "plt.title(\"Price vs Area\")\n",
        "plt.legend();"
      ],
      "metadata": {
        "colab": {
          "base_uri": "https://localhost:8080/",
          "height": 472
        },
        "id": "xlXD4a8q8EBw",
        "outputId": "26f412c3-1963-45b5-875e-f29467aef9d2"
      },
      "execution_count": null,
      "outputs": [
        {
          "output_type": "display_data",
          "data": {
            "text/plain": [
              "<Figure size 640x480 with 1 Axes>"
            ],
            "image/png": "[encoded data removed]"
          },
          "metadata": {}
        }
      ]
    },
    {
      "cell_type": "markdown",
      "source": [
        "This visualization shows the preciction of Apartment Prices our dumb/naive model will always make"
      ],
      "metadata": {
        "id": "PkbP_DSa9EPQ"
      }
    },
    {
      "cell_type": "markdown",
      "source": [
        "Baseline : Mean Absolute Error (MAE)\n",
        "\n",
        "Calculating y_pred_baseline mae to understand it better"
      ],
      "metadata": {
        "id": "XTAwyl6T9UG2"
      }
    },
    {
      "cell_type": "code",
      "source": [
        "mae_baseline = mean_absolute_error(y_train, y_pred_baseline)\n",
        "print(\"Mean apt prices:\", round(y_mean,2))\n",
        "print(\"Baseline mae:\", round(mae_baseline, 2))"
      ],
      "metadata": {
        "colab": {
          "base_uri": "https://localhost:8080/"
        },
        "id": "23h8OXah88_d",
        "outputId": "5226a7e1-0a00-4dd3-dabb-ad9ba1510d8e"
      },
      "execution_count": null,
      "outputs": [
        {
          "output_type": "stream",
          "name": "stdout",
          "text": [
            "Mean apt prices: 248004.59\n",
            "Baseline mae: 134526.4\n"
          ]
        }
      ]
    },
    {
      "cell_type": "markdown",
      "source": [
        "The Output means that if we always predict that an apartment price is 248004.19 USD, our predictions would be off by an average of 113478.59 USD\n",
        "\n",
        "For my model to work, then the difference needs to be below 113478.59 USD for it to be useful"
      ],
      "metadata": {
        "id": "wqBjH5Vj-WUf"
      }
    },
    {
      "cell_type": "markdown",
      "source": [
        "ITERATE"
      ],
      "metadata": {
        "id": "HPwzkTw2_w4O"
      }
    },
    {
      "cell_type": "markdown",
      "source": [
        "Instantiate Model"
      ],
      "metadata": {
        "id": "HFi8AzBw_1Xg"
      }
    },
    {
      "cell_type": "code",
      "source": [
        "model = LinearRegression()\n",
        "model.fit(X_train, y_train)"
      ],
      "metadata": {
        "colab": {
          "base_uri": "https://localhost:8080/",
          "height": 80
        },
        "id": "BVDyjM2S-OY8",
        "outputId": "337bfe62-db79-4764-f28d-afd1a4e5707d"
      },
      "execution_count": null,
      "outputs": [
        {
          "output_type": "execute_result",
          "data": {
            "text/plain": [
              "LinearRegression()"
            ],
            "text/html": [
              "<style>#sk-container-id-1 {\n",
              "  /* Definition of color scheme common for light and dark mode */\n",
              "  --sklearn-color-text: #000;\n",
              "  --sklearn-color-text-muted: #666;\n",
              "  --sklearn-color-line: gray;\n",
              "  /* Definition of color scheme for unfitted estimators */\n",
              "  --sklearn-color-unfitted-level-0: #fff5e6;\n",
              "  --sklearn-color-unfitted-level-1: #f6e4d2;\n",
              "  --sklearn-color-unfitted-level-2: #ffe0b3;\n",
              "  --sklearn-color-unfitted-level-3: chocolate;\n",
              "  /* Definition of color scheme for fitted estimators */\n",
              "  --sklearn-color-fitted-level-0: #f0f8ff;\n",
              "  --sklearn-color-fitted-level-1: #d4ebff;\n",
              "  --sklearn-color-fitted-level-2: #b3dbfd;\n",
              "  --sklearn-color-fitted-level-3: cornflowerblue;\n",
              "\n",
              "  /* Specific color for light theme */\n",
              "  --sklearn-color-text-on-default-background: var(--sg-text-color, var(--theme-code-foreground, var(--jp-content-font-color1, black)));\n",
              "  --sklearn-color-background: var(--sg-background-color, var(--theme-background, var(--jp-layout-color0, white)));\n",
              "  --sklearn-color-border-box: var(--sg-text-color, var(--theme-code-foreground, var(--jp-content-font-color1, black)));\n",
              "  --sklearn-color-icon: #696969;\n",
              "\n",
              "  @media (prefers-color-scheme: dark) {\n",
              "    /* Redefinition of color scheme for dark theme */\n",
              "    --sklearn-color-text-on-default-background: var(--sg-text-color, var(--theme-code-foreground, var(--jp-content-font-color1, white)));\n",
              "    --sklearn-color-background: var(--sg-background-color, var(--theme-background, var(--jp-layout-color0, #111)));\n",
              "    --sklearn-color-border-box: var(--sg-text-color, var(--theme-code-foreground, var(--jp-content-font-color1, white)));\n",
              "    --sklearn-color-icon: #878787;\n",
              "  }\n",
              "}\n",
              "\n",
              "#sk-container-id-1 {\n",
              "  color: var(--sklearn-color-text);\n",
              "}\n",
              "\n",
              "#sk-container-id-1 pre {\n",
              "  padding: 0;\n",
              "}\n",
              "\n",
              "#sk-container-id-1 input.sk-hidden--visually {\n",
              "  border: 0;\n",
              "  clip: rect(1px 1px 1px 1px);\n",
              "  clip: rect(1px, 1px, 1px, 1px);\n",
              "  height: 1px;\n",
              "  margin: -1px;\n",
              "  overflow: hidden;\n",
              "  padding: 0;\n",
              "  position: absolute;\n",
              "  width: 1px;\n",
              "}\n",
              "\n",
              "#sk-container-id-1 div.sk-dashed-wrapped {\n",
              "  border: 1px dashed var(--sklearn-color-line);\n",
              "  margin: 0 0.4em 0.5em 0.4em;\n",
              "  box-sizing: border-box;\n",
              "  padding-bottom: 0.4em;\n",
              "  background-color: var(--sklearn-color-background);\n",
              "}\n",
              "\n",
              "#sk-container-id-1 div.sk-container {\n",
              "  /* jupyter's `normalize.less` sets `[hidden] { display: none; }`\n",
              "     but bootstrap.min.css set `[hidden] { display: none !important; }`\n",
              "     so we also need the `!important` here to be able to override the\n",
              "     default hidden behavior on the sphinx rendered scikit-learn.org.\n",
              "     See: https://github.com/scikit-learn/scikit-learn/issues/21755 */\n",
              "  display: inline-block !important;\n",
              "  position: relative;\n",
              "}\n",
              "\n",
              "#sk-container-id-1 div.sk-text-repr-fallback {\n",
              "  display: none;\n",
              "}\n",
              "\n",
              "div.sk-parallel-item,\n",
              "div.sk-serial,\n",
              "div.sk-item {\n",
              "  /* draw centered vertical line to link estimators */\n",
              "  background-image: linear-gradient(var(--sklearn-color-text-on-default-background), var(--sklearn-color-text-on-default-background));\n",
              "  background-size: 2px 100%;\n",
              "  background-repeat: no-repeat;\n",
              "  background-position: center center;\n",
              "}\n",
              "\n",
              "/* Parallel-specific style estimator block */\n",
              "\n",
              "#sk-container-id-1 div.sk-parallel-item::after {\n",
              "  content: \"\";\n",
              "  width: 100%;\n",
              "  border-bottom: 2px solid var(--sklearn-color-text-on-default-background);\n",
              "  flex-grow: 1;\n",
              "}\n",
              "\n",
              "#sk-container-id-1 div.sk-parallel {\n",
              "  display: flex;\n",
              "  align-items: stretch;\n",
              "  justify-content: center;\n",
              "  background-color: var(--sklearn-color-background);\n",
              "  position: relative;\n",
              "}\n",
              "\n",
              "#sk-container-id-1 div.sk-parallel-item {\n",
              "  display: flex;\n",
              "  flex-direction: column;\n",
              "}\n",
              "\n",
              "#sk-container-id-1 div.sk-parallel-item:first-child::after {\n",
              "  align-self: flex-end;\n",
              "  width: 50%;\n",
              "}\n",
              "\n",
              "#sk-container-id-1 div.sk-parallel-item:last-child::after {\n",
              "  align-self: flex-start;\n",
              "  width: 50%;\n",
              "}\n",
              "\n",
              "#sk-container-id-1 div.sk-parallel-item:only-child::after {\n",
              "  width: 0;\n",
              "}\n",
              "\n",
              "/* Serial-specific style estimator block */\n",
              "\n",
              "#sk-container-id-1 div.sk-serial {\n",
              "  display: flex;\n",
              "  flex-direction: column;\n",
              "  align-items: center;\n",
              "  background-color: var(--sklearn-color-background);\n",
              "  padding-right: 1em;\n",
              "  padding-left: 1em;\n",
              "}\n",
              "\n",
              "\n",
              "/* Toggleable style: style used for estimator/Pipeline/ColumnTransformer box that is\n",
              "clickable and can be expanded/collapsed.\n",
              "- Pipeline and ColumnTransformer use this feature and define the default style\n",
              "- Estimators will overwrite some part of the style using the `sk-estimator` class\n",
              "*/\n",
              "\n",
              "/* Pipeline and ColumnTransformer style (default) */\n",
              "\n",
              "#sk-container-id-1 div.sk-toggleable {\n",
              "  /* Default theme specific background. It is overwritten whether we have a\n",
              "  specific estimator or a Pipeline/ColumnTransformer */\n",
              "  background-color: var(--sklearn-color-background);\n",
              "}\n",
              "\n",
              "/* Toggleable label */\n",
              "#sk-container-id-1 label.sk-toggleable__label {\n",
              "  cursor: pointer;\n",
              "  display: flex;\n",
              "  width: 100%;\n",
              "  margin-bottom: 0;\n",
              "  padding: 0.5em;\n",
              "  box-sizing: border-box;\n",
              "  text-align: center;\n",
              "  align-items: start;\n",
              "  justify-content: space-between;\n",
              "  gap: 0.5em;\n",
              "}\n",
              "\n",
              "#sk-container-id-1 label.sk-toggleable__label .caption {\n",
              "  font-size: 0.6rem;\n",
              "  font-weight: lighter;\n",
              "  color: var(--sklearn-color-text-muted);\n",
              "}\n",
              "\n",
              "#sk-container-id-1 label.sk-toggleable__label-arrow:before {\n",
              "  /* Arrow on the left of the label */\n",
              "  content: \"▸\";\n",
              "  float: left;\n",
              "  margin-right: 0.25em;\n",
              "  color: var(--sklearn-color-icon);\n",
              "}\n",
              "\n",
              "#sk-container-id-1 label.sk-toggleable__label-arrow:hover:before {\n",
              "  color: var(--sklearn-color-text);\n",
              "}\n",
              "\n",
              "/* Toggleable content - dropdown */\n",
              "\n",
              "#sk-container-id-1 div.sk-toggleable__content {\n",
              "  max-height: 0;\n",
              "  max-width: 0;\n",
              "  overflow: hidden;\n",
              "  text-align: left;\n",
              "  /* unfitted */\n",
              "  background-color: var(--sklearn-color-unfitted-level-0);\n",
              "}\n",
              "\n",
              "#sk-container-id-1 div.sk-toggleable__content.fitted {\n",
              "  /* fitted */\n",
              "  background-color: var(--sklearn-color-fitted-level-0);\n",
              "}\n",
              "\n",
              "#sk-container-id-1 div.sk-toggleable__content pre {\n",
              "  margin: 0.2em;\n",
              "  border-radius: 0.25em;\n",
              "  color: var(--sklearn-color-text);\n",
              "  /* unfitted */\n",
              "  background-color: var(--sklearn-color-unfitted-level-0);\n",
              "}\n",
              "\n",
              "#sk-container-id-1 div.sk-toggleable__content.fitted pre {\n",
              "  /* unfitted */\n",
              "  background-color: var(--sklearn-color-fitted-level-0);\n",
              "}\n",
              "\n",
              "#sk-container-id-1 input.sk-toggleable__control:checked~div.sk-toggleable__content {\n",
              "  /* Expand drop-down */\n",
              "  max-height: 200px;\n",
              "  max-width: 100%;\n",
              "  overflow: auto;\n",
              "}\n",
              "\n",
              "#sk-container-id-1 input.sk-toggleable__control:checked~label.sk-toggleable__label-arrow:before {\n",
              "  content: \"▾\";\n",
              "}\n",
              "\n",
              "/* Pipeline/ColumnTransformer-specific style */\n",
              "\n",
              "#sk-container-id-1 div.sk-label input.sk-toggleable__control:checked~label.sk-toggleable__label {\n",
              "  color: var(--sklearn-color-text);\n",
              "  background-color: var(--sklearn-color-unfitted-level-2);\n",
              "}\n",
              "\n",
              "#sk-container-id-1 div.sk-label.fitted input.sk-toggleable__control:checked~label.sk-toggleable__label {\n",
              "  background-color: var(--sklearn-color-fitted-level-2);\n",
              "}\n",
              "\n",
              "/* Estimator-specific style */\n",
              "\n",
              "/* Colorize estimator box */\n",
              "#sk-container-id-1 div.sk-estimator input.sk-toggleable__control:checked~label.sk-toggleable__label {\n",
              "  /* unfitted */\n",
              "  background-color: var(--sklearn-color-unfitted-level-2);\n",
              "}\n",
              "\n",
              "#sk-container-id-1 div.sk-estimator.fitted input.sk-toggleable__control:checked~label.sk-toggleable__label {\n",
              "  /* fitted */\n",
              "  background-color: var(--sklearn-color-fitted-level-2);\n",
              "}\n",
              "\n",
              "#sk-container-id-1 div.sk-label label.sk-toggleable__label,\n",
              "#sk-container-id-1 div.sk-label label {\n",
              "  /* The background is the default theme color */\n",
              "  color: var(--sklearn-color-text-on-default-background);\n",
              "}\n",
              "\n",
              "/* On hover, darken the color of the background */\n",
              "#sk-container-id-1 div.sk-label:hover label.sk-toggleable__label {\n",
              "  color: var(--sklearn-color-text);\n",
              "  background-color: var(--sklearn-color-unfitted-level-2);\n",
              "}\n",
              "\n",
              "/* Label box, darken color on hover, fitted */\n",
              "#sk-container-id-1 div.sk-label.fitted:hover label.sk-toggleable__label.fitted {\n",
              "  color: var(--sklearn-color-text);\n",
              "  background-color: var(--sklearn-color-fitted-level-2);\n",
              "}\n",
              "\n",
              "/* Estimator label */\n",
              "\n",
              "#sk-container-id-1 div.sk-label label {\n",
              "  font-family: monospace;\n",
              "  font-weight: bold;\n",
              "  display: inline-block;\n",
              "  line-height: 1.2em;\n",
              "}\n",
              "\n",
              "#sk-container-id-1 div.sk-label-container {\n",
              "  text-align: center;\n",
              "}\n",
              "\n",
              "/* Estimator-specific */\n",
              "#sk-container-id-1 div.sk-estimator {\n",
              "  font-family: monospace;\n",
              "  border: 1px dotted var(--sklearn-color-border-box);\n",
              "  border-radius: 0.25em;\n",
              "  box-sizing: border-box;\n",
              "  margin-bottom: 0.5em;\n",
              "  /* unfitted */\n",
              "  background-color: var(--sklearn-color-unfitted-level-0);\n",
              "}\n",
              "\n",
              "#sk-container-id-1 div.sk-estimator.fitted {\n",
              "  /* fitted */\n",
              "  background-color: var(--sklearn-color-fitted-level-0);\n",
              "}\n",
              "\n",
              "/* on hover */\n",
              "#sk-container-id-1 div.sk-estimator:hover {\n",
              "  /* unfitted */\n",
              "  background-color: var(--sklearn-color-unfitted-level-2);\n",
              "}\n",
              "\n",
              "#sk-container-id-1 div.sk-estimator.fitted:hover {\n",
              "  /* fitted */\n",
              "  background-color: var(--sklearn-color-fitted-level-2);\n",
              "}\n",
              "\n",
              "/* Specification for estimator info (e.g. \"i\" and \"?\") */\n",
              "\n",
              "/* Common style for \"i\" and \"?\" */\n",
              "\n",
              ".sk-estimator-doc-link,\n",
              "a:link.sk-estimator-doc-link,\n",
              "a:visited.sk-estimator-doc-link {\n",
              "  float: right;\n",
              "  font-size: smaller;\n",
              "  line-height: 1em;\n",
              "  font-family: monospace;\n",
              "  background-color: var(--sklearn-color-background);\n",
              "  border-radius: 1em;\n",
              "  height: 1em;\n",
              "  width: 1em;\n",
              "  text-decoration: none !important;\n",
              "  margin-left: 0.5em;\n",
              "  text-align: center;\n",
              "  /* unfitted */\n",
              "  border: var(--sklearn-color-unfitted-level-1) 1pt solid;\n",
              "  color: var(--sklearn-color-unfitted-level-1);\n",
              "}\n",
              "\n",
              ".sk-estimator-doc-link.fitted,\n",
              "a:link.sk-estimator-doc-link.fitted,\n",
              "a:visited.sk-estimator-doc-link.fitted {\n",
              "  /* fitted */\n",
              "  border: var(--sklearn-color-fitted-level-1) 1pt solid;\n",
              "  color: var(--sklearn-color-fitted-level-1);\n",
              "}\n",
              "\n",
              "/* On hover */\n",
              "div.sk-estimator:hover .sk-estimator-doc-link:hover,\n",
              ".sk-estimator-doc-link:hover,\n",
              "div.sk-label-container:hover .sk-estimator-doc-link:hover,\n",
              ".sk-estimator-doc-link:hover {\n",
              "  /* unfitted */\n",
              "  background-color: var(--sklearn-color-unfitted-level-3);\n",
              "  color: var(--sklearn-color-background);\n",
              "  text-decoration: none;\n",
              "}\n",
              "\n",
              "div.sk-estimator.fitted:hover .sk-estimator-doc-link.fitted:hover,\n",
              ".sk-estimator-doc-link.fitted:hover,\n",
              "div.sk-label-container:hover .sk-estimator-doc-link.fitted:hover,\n",
              ".sk-estimator-doc-link.fitted:hover {\n",
              "  /* fitted */\n",
              "  background-color: var(--sklearn-color-fitted-level-3);\n",
              "  color: var(--sklearn-color-background);\n",
              "  text-decoration: none;\n",
              "}\n",
              "\n",
              "/* Span, style for the box shown on hovering the info icon */\n",
              ".sk-estimator-doc-link span {\n",
              "  display: none;\n",
              "  z-index: 9999;\n",
              "  position: relative;\n",
              "  font-weight: normal;\n",
              "  right: .2ex;\n",
              "  padding: .5ex;\n",
              "  margin: .5ex;\n",
              "  width: min-content;\n",
              "  min-width: 20ex;\n",
              "  max-width: 50ex;\n",
              "  color: var(--sklearn-color-text);\n",
              "  box-shadow: 2pt 2pt 4pt #999;\n",
              "  /* unfitted */\n",
              "  background: var(--sklearn-color-unfitted-level-0);\n",
              "  border: .5pt solid var(--sklearn-color-unfitted-level-3);\n",
              "}\n",
              "\n",
              ".sk-estimator-doc-link.fitted span {\n",
              "  /* fitted */\n",
              "  background: var(--sklearn-color-fitted-level-0);\n",
              "  border: var(--sklearn-color-fitted-level-3);\n",
              "}\n",
              "\n",
              ".sk-estimator-doc-link:hover span {\n",
              "  display: block;\n",
              "}\n",
              "\n",
              "/* \"?\"-specific style due to the `<a>` HTML tag */\n",
              "\n",
              "#sk-container-id-1 a.estimator_doc_link {\n",
              "  float: right;\n",
              "  font-size: 1rem;\n",
              "  line-height: 1em;\n",
              "  font-family: monospace;\n",
              "  background-color: var(--sklearn-color-background);\n",
              "  border-radius: 1rem;\n",
              "  height: 1rem;\n",
              "  width: 1rem;\n",
              "  text-decoration: none;\n",
              "  /* unfitted */\n",
              "  color: var(--sklearn-color-unfitted-level-1);\n",
              "  border: var(--sklearn-color-unfitted-level-1) 1pt solid;\n",
              "}\n",
              "\n",
              "#sk-container-id-1 a.estimator_doc_link.fitted {\n",
              "  /* fitted */\n",
              "  border: var(--sklearn-color-fitted-level-1) 1pt solid;\n",
              "  color: var(--sklearn-color-fitted-level-1);\n",
              "}\n",
              "\n",
              "/* On hover */\n",
              "#sk-container-id-1 a.estimator_doc_link:hover {\n",
              "  /* unfitted */\n",
              "  background-color: var(--sklearn-color-unfitted-level-3);\n",
              "  color: var(--sklearn-color-background);\n",
              "  text-decoration: none;\n",
              "}\n",
              "\n",
              "#sk-container-id-1 a.estimator_doc_link.fitted:hover {\n",
              "  /* fitted */\n",
              "  background-color: var(--sklearn-color-fitted-level-3);\n",
              "}\n",
              "</style><div id=\"sk-container-id-1\" class=\"sk-top-container\"><div class=\"sk-text-repr-fallback\"><pre>LinearRegression()</pre><b>In a Jupyter environment, please rerun this cell to show the HTML representation or trust the notebook. <br />On GitHub, the HTML representation is unable to render, please try loading this page with nbviewer.org.</b></div><div class=\"sk-container\" hidden><div class=\"sk-item\"><div class=\"sk-estimator fitted sk-toggleable\"><input class=\"sk-toggleable__control sk-hidden--visually\" id=\"sk-estimator-id-1\" type=\"checkbox\" checked><label for=\"sk-estimator-id-1\" class=\"sk-toggleable__label fitted sk-toggleable__label-arrow\"><div><div>LinearRegression</div></div><div><a class=\"sk-estimator-doc-link fitted\" rel=\"noreferrer\" target=\"_blank\" href=\"https://scikit-learn.org/1.6/modules/generated/sklearn.linear_model.LinearRegression.html\">?<span>Documentation for LinearRegression</span></a><span class=\"sk-estimator-doc-link fitted\">i<span>Fitted</span></span></div></label><div class=\"sk-toggleable__content fitted\"><pre>LinearRegression()</pre></div> </div></div></div></div>"
            ]
          },
          "metadata": {},
          "execution_count": 14
        }
      ]
    },
    {
      "cell_type": "markdown",
      "source": [
        "EVALUATE"
      ],
      "metadata": {
        "id": "KewpOY1M__s4"
      }
    },
    {
      "cell_type": "markdown",
      "source": [
        "I am trying to see how well my model performs when making predictions for the data it saw during training\n",
        "\n",
        "That is, generating predictions using a trained model"
      ],
      "metadata": {
        "id": "SubvgA-5AKOW"
      }
    },
    {
      "cell_type": "code",
      "source": [
        "y_pred_training = model.predict(X_train)\n",
        "y_pred_training[:5]"
      ],
      "metadata": {
        "colab": {
          "base_uri": "https://localhost:8080/"
        },
        "id": "09hMtHEJ_9pU",
        "outputId": "3f3a6851-d556-47e5-e52b-076591b1ffdb"
      },
      "execution_count": null,
      "outputs": [
        {
          "output_type": "execute_result",
          "data": {
            "text/plain": [
              "array([160670.83468735, 645415.63791418, 316116.42559554, 140217.46746259,\n",
              "       162716.17140983])"
            ]
          },
          "metadata": {},
          "execution_count": 15
        }
      ]
    },
    {
      "cell_type": "markdown",
      "source": [
        "Training MAE"
      ],
      "metadata": {
        "id": "0HbePZw_AzOd"
      }
    },
    {
      "cell_type": "code",
      "source": [
        "mae_training = mean_absolute_error(y_train, y_pred_training)\n",
        "print(\"Training MAE:\", round(mae_training, 2))"
      ],
      "metadata": {
        "colab": {
          "base_uri": "https://localhost:8080/"
        },
        "id": "7k0K-H1fApPc",
        "outputId": "30dcb4f9-55d8-4555-f612-4e42ab0e2d03"
      },
      "execution_count": null,
      "outputs": [
        {
          "output_type": "stream",
          "name": "stdout",
          "text": [
            "Training MAE: 71955.77\n"
          ]
        }
      ]
    },
    {
      "cell_type": "markdown",
      "source": [
        "My model has beat the Baseline by 41522.82 USD. This is a good indicator that the model will be helfpul in predicting Apartment Prices."
      ],
      "metadata": {
        "id": "mivsDlWdBGiQ"
      }
    },
    {
      "cell_type": "markdown",
      "source": [
        "Communicating Results"
      ],
      "metadata": {
        "id": "-b1b72fUCoaH"
      }
    },
    {
      "cell_type": "markdown",
      "source": [
        "Extracting the Model Intercept and Coefficient and generating an equation\n",
        "\n",
        "\n",
        "\n",
        "y = β₀ + β₁x     \n",
        "\n",
        "where y = apartment_price, β₀ = intercept(where the line crosses the y_intercept), β₁ = coefficient, x = surface_covered_in_m2"
      ],
      "metadata": {
        "id": "R7N27un9Cs_6"
      }
    },
    {
      "cell_type": "code",
      "source": [
        "#Extract Model Intercept\n",
        "intercept = (model.intercept_).round(2)\n",
        "print(\"Model Intercept:\", intercept)\n",
        "#Extract Coefficient\n",
        "coefficient = (model.coef_[0]).round(2)\n",
        "print(\"Model for 'surface_covered_in_m2':\", coefficient)\n",
        "#Generating an equation\n",
        "print(f\"apt_price = {intercept} + {coefficient} * surface_covered_in_m2\")"
      ],
      "metadata": {
        "colab": {
          "base_uri": "https://localhost:8080/"
        },
        "id": "AFpthUwXBFL1",
        "outputId": "0fd6f5db-df6c-40d1-830e-a51b8d523455"
      },
      "execution_count": null,
      "outputs": [
        {
          "output_type": "stream",
          "name": "stdout",
          "text": [
            "Model Intercept: -9092.11\n",
            "Model for 'surface_covered_in_m2': 2045.34\n",
            "apt_price = -9092.11 + 2045.34 * surface_covered_in_m2\n"
          ]
        }
      ]
    },
    {
      "cell_type": "markdown",
      "source": [
        "Intercept (β₀ = -9092.11)\n",
        "\n",
        "Means the predicted price when surface_covered_in_m2 = 0\n",
        "\n",
        "Coefficient (β₁ = 2045.34)\n",
        "\n",
        "Means for every 1 square meter increase in size, the apartment price increases by 2045.34 USD\n",
        "\n",
        "\n",
        "Example Prediction: 150 m² Apartment\n",
        "\n",
        "\n",
        "apt_price = -9092.11 + 2045.34 * 150\n",
        "\n",
        "apt_price = -9092.11 + 306801\n",
        "\n",
        "apt_price = 297,708.89 USD\n",
        "\n",
        "The linear regression model estimates that apartment prices in Distrito Federal increase by approximately 2045 USD for each additional square meter of space. For a typical 150 m² apartment, the model predicts a price of around 298000 USD."
      ],
      "metadata": {
        "id": "zIguBbwfJ33C"
      }
    },
    {
      "cell_type": "markdown",
      "source": [
        "VISUALIZATION : LINE AND SCATTER PLOT"
      ],
      "metadata": {
        "id": "oChUt7zIF062"
      }
    },
    {
      "cell_type": "code",
      "source": [
        "plt.plot(X_train, y_pred_training, color = \"Orange\", label = \"Linear Model\")\n",
        "plt.scatter(X_train, y_train)\n",
        "plt.xlabel(\"Apartment Size [sq meters]\")\n",
        "plt.ylabel(\"Apartment Price\")\n",
        "plt.title(\"Price vs Area\")\n",
        "plt.legend();"
      ],
      "metadata": {
        "colab": {
          "base_uri": "https://localhost:8080/",
          "height": 472
        },
        "id": "n0P0-u9yE6pC",
        "outputId": "c649cd88-abeb-42b9-c867-450d59c052ae"
      },
      "execution_count": null,
      "outputs": [
        {
          "output_type": "display_data",
          "data": {
            "text/plain": [
              "<Figure size 640x480 with 1 Axes>"
            ],
            "image/png": "[encoded data removed]"
          },
          "metadata": {}
        }
      ]
    },
    {
      "cell_type": "markdown",
      "source": [
        "The linear regression model reveals a clear positive relationship between apartment size and price in Buenos Aires in the state 'Distrito Federal'. As expected, larger apartments command higher prices with the model estimating a price increase of approximately 2045.34 USD for each additional square meter.\n",
        "\n",
        "\n",
        "Visually, we can observe that most data points cluster in the 50-150 m² range, with prices typically between $100,000-$300,000. The linear trend line fits this central cloud of points reasonably well, suggesting that size alone explains a significant portion of price variation for typical apartments\n",
        "\n",
        "Model Limitations;\n",
        "There's considerable vertical spread around the trend line, indicating that factors beyond just size.\n",
        "\n",
        "The model appears less reliable for very large apartments (>200 m²), where price variability increases significantly.\n",
        "This confirms that while apartment size is a fundamental pricing factor, it alone is insufficient for accurate price prediction across all market segments"
      ],
      "metadata": {
        "id": "Flf3pDodHMtk"
      }
    },
    {
      "cell_type": "markdown",
      "source": [
        "PREDICTING PRICE WITH LOCATION"
      ],
      "metadata": {
        "id": "sAcJKV1vLmP3"
      }
    },
    {
      "cell_type": "code",
      "source": [
        "#Scatter Plot of \"lat\" and \"lon\" columns\n",
        "fig = px.scatter_mapbox(\n",
        "    df,\n",
        "    lat = \"lat\",\n",
        "    lon = \"lon\",\n",
        "    width = 600,\n",
        "    height = 600,\n",
        "    color = \"price_aprox_usd\",\n",
        "    hover_data = [\"price_aprox_usd\"]\n",
        ")\n",
        "fig.update_layout(mapbox_style = \"open-street-map\")\n",
        "fig.show()"
      ],
      "metadata": {
        "colab": {
          "base_uri": "https://localhost:8080/",
          "height": 617
        },
        "id": "wRpDjFkwGO3X",
        "outputId": "f2c540a6-4bf2-4a53-9b06-e3388db596c2"
      },
      "execution_count": null,
      "outputs": [
        {
          "output_type": "display_data",
          "data": {
            "text/html": [
              "<html>\n",
              "<head><meta charset=\"utf-8\" /></head>\n",
              "<body>\n",
              "    <div>            <script src=\"https://cdnjs.cloudflare.com/ajax/libs/mathjax/2.7.5/MathJax.js?config=TeX-AMS-MML_SVG\"></script><script type=\"text/javascript\">if (window.MathJax && window.MathJax.Hub && window.MathJax.Hub.Config) {window.MathJax.Hub.Config({SVG: {font: \"STIX-Web\"}});}</script>                <script type=\"text/javascript\">window.PlotlyConfig = {MathJaxConfig: 'local'};</script>\n",
              "        <script charset=\"utf-8\" src=\"https://cdn.plot.ly/plotly-2.35.2.min.js\"></script>                <div id=\"d16032b8-c58c-42f3-8605-d5f99af1d04b\" class=\"plotly-graph-div\" style=\"height:600px; width:600px;\"></div>            <script type=\"text/javascript\">                                    window.PLOTLYENV=window.PLOTLYENV || {};                                    if (document.getElementById(\"d16032b8-c58c-42f3-8605-d5f99af1d04b\")) {                    Plotly.newPlot(                        \"d16032b8-c58c-42f3-8605-d5f99af1d04b\",                        [{\"customdata\":[[172446.86],[553339.27],[492618.62],[155425.12],[258224.99],[99530.03],[147557.13],[154724.19],[213430.86],[421591.82],[223970.65],[334559.17],[157690.64],[252895.12],[289844.37],[158059.45],[139968.48],[184446.42],[625000.0],[117735.94],[426861.72],[473816.51],[233851.71],[368892.84],[226605.6],[131747.44],[55333.92],[225504.19],[142287.24],[458372.4],[36889.28],[230821.52],[163366.83],[332836.85],[187081.37],[39524.23],[374337.46],[163366.83],[516449.98],[31619.38],[57968.87],[99074.07],[474178.35],[331924.84],[189716.32],[287209.43],[263494.89],[131418.07],[340345.2],[137017.34],[444726.6],[150830.86],[269180.16],[310729.14],[190122.1],[135057.59],[50327.52],[83180.59],[242415.29],[654457.8],[162123.24],[521719.88],[270951.79],[173643.13],[44497.91],[115937.75],[300911.16],[430866.84],[192305.66],[86584.42],[151567.64],[177068.56],[177068.56],[574418.86],[685086.71],[652936.65],[237089.17],[309553.79],[65858.1],[205526.01],[389972.43],[28825.02],[146219.53],[189610.92],[36889.28],[79566.6],[152827.03],[163366.83],[182597.74],[171271.67],[83160.87],[65873.72],[295114.27],[202891.06],[283425.64],[86689.81],[262440.91],[63238.77],[316193.86],[110825.95],[79029.72],[313558.92],[240250.36],[82138.73],[339908.4],[163366.83],[319830.09],[183919.43],[563879.06],[519594.1],[155288.07],[463641.05],[94858.16],[326733.66],[121178.91],[43202.91],[51381.5],[168596.74],[105397.95],[35185.34],[420000.0],[337273.46],[289844.37],[526812.37],[117735.94],[432342.41],[152827.03],[563615.57],[295114.27],[52574.87],[147522.15],[33787.84],[455846.16],[131189.34],[118572.7],[205526.01],[45584.61],[163366.83],[204054.75],[89588.26],[131747.44],[326656.19],[447941.31],[102763.0],[386283.5],[163328.09],[229240.55],[140056.47],[171113.58],[520000.0],[168636.73],[213216.9],[316193.86],[130988.58],[447941.31],[179176.52],[410954.57],[38206.75],[43176.57],[165435.55],[181811.47],[211059.4],[520522.86],[558609.16],[324098.71],[657303.92],[54949.68],[43202.91],[108913.49],[507107.4],[374074.03],[184402.69],[544778.24],[149734.98],[279238.36],[252955.09],[39524.23],[269818.76],[535368.91],[579688.75],[463751.0],[432131.62],[218486.8],[313242.72],[284574.48],[226605.6],[45837.24],[54933.04],[418956.87],[240619.17],[147557.13],[135035.86],[225520.8],[303782.83],[54949.68],[67191.19],[75783.82],[679816.81],[175972.85],[242415.29],[119229.96],[167582.75],[424302.13],[142287.24],[201837.08],[298776.85],[475000.0],[259584.62],[421591.82],[558609.16],[43213.16],[79566.6],[376708.35],[92201.34],[187037.01],[124231.33],[63238.77],[94858.16],[152827.03],[592358.0],[447835.11],[67981.68],[28984.43],[362305.47],[152827.03],[437401.51],[611308.14],[222600.39],[546119.51],[123813.23],[102763.0],[168636.73],[165105.89],[303783.2],[118309.2],[200256.11],[49638.57],[168636.73],[151073.1],[116728.23],[590228.55],[247158.2],[395242.33],[174291.33],[280977.01],[579688.75],[86383.21],[221283.23],[71126.75],[258224.99],[210795.91],[368805.38],[658737.22],[144387.3],[184446.42],[105134.46],[189663.62],[632387.73],[267463.12],[231612.0],[144922.18],[190770.3],[311176.92],[621847.94],[445200.78],[113624.79],[287736.42],[204472.03],[263432.41],[416321.92],[50901.94],[100209.69],[140470.72],[205526.01],[150830.86],[179134.04],[629415.51],[534894.62],[262905.55],[147557.13],[92367.6],[105318.9],[128892.1],[105397.95],[289844.37],[268764.78],[379342.68],[168636.73],[680000.0]],\"hovertemplate\":\"lat=%{lat}\\u003cbr\\u003elon=%{lon}\\u003cbr\\u003eprice_aprox_usd=%{marker.color}\\u003cextra\\u003e\\u003c\\u002fextra\\u003e\",\"lat\":[19.3794059,19.390415,19.3753948137,19.394073,19.4169673,19.4553585442,19.3499358,19.3807458,19.4124708,19.4114169,19.3853063,19.3609784,19.39365,19.3392293,19.41498,19.3677299,19.365391,19.3714480121,19.420166,19.4306069,19.3864346,19.394358,19.394358,19.4097609,19.394358,19.3898619,19.3549174,19.358585,19.3703820187,19.3769448,19.2818221685,19.3943574,19.3499358,19.371342,19.3392293,19.461416,19.3023508,19.3747920646,19.320576,19.505199,19.3883217,19.3152718515,19.3634214999,19.4070717,19.3428273,19.3049333,19.3024064,19.3338880248,19.4032833,19.3825040623,19.381729,19.3596034,19.3503274,19.394358,19.3813197,19.3638234,19.4113101,19.2990233,19.400249,19.3577935962,19.3638234,19.3556628374,19.394358,19.2753576,19.3223015,19.343979,19.3815906,19.394358,19.3755039,19.3865508,19.407682,19.3108788,19.39912,19.390415,19.3619852,19.4425711213,19.3668017,19.394358,19.3437444,19.3756773,19.432657,19.4959960885,19.3803931,19.4482164,19.4306069,19.2990233,19.3499358,19.3499358,19.364967,19.323066,19.2990233,19.2963742,19.41498,19.3628631,19.381729,19.3865940087,19.2963762,19.516777,19.4195256,19.3794059,19.4503249,19.3302564,19.4024797,19.2990233,19.3753973563,19.3499358,19.392978,19.3737616972,19.3928136,19.392937,19.39365,19.390415,19.3847719,19.3036292,19.3845952529,19.487856,19.4302678,19.3499358,19.3776513,19.442791,19.420166,19.3445052,19.3631419,19.347138,19.4306069,19.3815495,19.2790911,19.3594791,19.4149803,19.342083,19.5290566,19.4594892,19.430456,19.3018442,19.4809432,19.3349552,19.4126915168,19.3499358,19.3680133,19.381729,19.5029542,19.3447,19.409369,19.3934821,19.394073,19.3499358,19.3810000272,19.341894,19.341894,19.4340199,19.3701781,19.4032833,19.392937,19.2790911,19.381729,19.3320226,19.4101579796,19.4306069,19.308076,19.3605334,19.400249,19.3668017,19.4201028,19.3585224004,19.3499706,19.433173,19.2990233,19.309208,19.3679526,19.4372822,19.4280794,19.4673105,19.4347155,19.3670983,19.3341208717,19.4396219801,19.431252,19.4025564,19.552402,19.4259971,19.4301322,19.3774517,19.4032833,19.3606908,19.3609365412,19.4001854,19.444606,19.2990233,19.443178,19.3814836,19.3499358,19.3670983,19.375412,19.394358,19.2990233,19.3340701,19.512787,19.376822,19.367424,19.3872626,19.4306069,19.3404477,19.3627981,19.392937,19.367424,19.361269,19.392937,19.417364,19.4158245484,19.390415,19.381259203,19.2990233,19.417364,19.4526892,19.33923,19.3638234,19.378786,19.3246591,19.3499358,19.392937,19.396593,19.392349,19.399689,19.4157341697,19.359984,19.381729,19.430456,19.3023717,19.3564335,19.3814504,19.3697678418,19.3033001,19.3807458,19.394358,19.3723335,19.394073,19.2672863,19.3499358,19.4306069,19.39365,19.390415,19.331932,19.4348398,19.3908165,19.381729,19.4336444,19.2990233,19.382727579,19.4752953603,19.4195256,19.380747,19.4374999,19.3605334,19.3358468,19.3797151,19.4068945,19.430132,19.3894263,19.387764,19.33923,19.392937,19.3872626,19.3582744,19.3631419,19.3038226746,19.3906898041,19.334220844,19.400249,19.3627249,19.3648588111,19.335419,19.471135,19.3638234,19.384622452,19.364891,19.3862785,19.4080873559,19.401079,19.39365,19.3499358,19.3905245,19.3704998,19.3733676,19.4512044,19.4380266,19.394073,19.3066442,19.3539321,19.390415],\"legendgroup\":\"\",\"lon\":[-99.1591446,-99.254997,-99.1657587614,-99.153915,-99.1658498,-99.1632923484,-99.2906864,-99.1553016,-99.1717827,-99.1739405,-99.1521292,-99.2084005,-99.14769,-99.2189838,-99.177444,-99.1527773,-99.18956,-99.149787426,-99.220367,-99.0949899,-99.1594925,-99.177444,-99.177444,-99.1686282,-99.177444,-99.1674138,-99.0993735,-99.185753,-99.1493282287,-99.1651109,-99.1876426712,-99.1774462,-99.2906864,-99.253616,-99.2189838,-99.133163,-99.1679459,-99.137270786,-99.20929,-99.155991,-99.1862188,-99.1075855494,-99.2763233185,-99.1621603,-99.1522157,-99.1836755,-99.2018433,-99.151327014,-99.1821858,-99.1580399126,-99.164986,-99.1514055,-99.2989735,-99.177444,-99.1996895,-99.1444714,-99.064722,-99.0436467,-99.177444,-99.2744779587,-99.1444714,-99.2753872275,-99.177444,-99.1675547,-99.1035542,-99.124863,-99.1653974,-99.177444,-99.1630337,-99.1937082,-99.172042,-99.1386972,-99.141464,-99.254997,-99.2663861,-99.2028173804,-99.1724994,-99.177444,-99.1561883,-99.1546074,-99.177444,-99.2017929554,-99.1476908,-99.1589625,-99.0949899,-99.0436467,-99.2906864,-99.2906864,-99.1428406,-99.1393153,-99.0436467,-99.1186279,-99.177444,-99.1739857,-99.164986,-99.1936147213,-99.1781383,-99.160149,-99.162549,-99.1591446,-99.1351802,-99.2575527,-99.1565217,-99.0436467,-99.1734831344,-99.2906864,-99.1760298,-99.1773503087,-99.1738213,-99.263313,-99.14769,-99.254997,-99.1664667,-99.2239303,-99.1984791771,-99.0909786,-99.1373136,-99.2906864,-99.1284592,-99.124128,-99.220367,-99.2738167,-99.2880597,-99.2561697,-99.0949899,-99.1694434,-99.2114234,-99.2707271,-99.1774462,-99.0532159,-99.1359301,-99.1221422,-99.1889121,-99.140989,-99.1274918,-99.2233579,-99.1277845949,-99.2906864,-99.1621111,-99.164986,-99.122192,-99.212753,-99.171906,-99.137825,-99.153915,-99.2906864,-99.2948520184,-99.224525,-99.224525,-99.1956012,-99.1893281,-99.1821858,-99.263313,-99.2114234,-99.164986,-99.2446842,-99.1711270809,-99.0949899,-99.167762,-99.2267067,-99.177444,-99.1724994,-99.1712969,-99.2721176147,-99.3014315,-99.1863574,-99.0436467,-99.171906,-99.2983107,-99.2124468,-99.164609,-99.1331631,-99.1699933,-99.1624422,-99.2402824759,-99.1828966141,-99.146999,-99.1461089,-99.142799,-99.224352,-99.1691413,-99.1641013,-99.1821858,-99.2023662,-99.1633604933,-99.1729456,-99.1740457,-99.0436467,-99.20237,-99.1654942,-99.2906864,-99.1624422,-99.144234,-99.177444,-99.0436467,-99.0712814,-99.141393,-99.174675,-99.185753,-99.1754024,-99.0949899,-99.1297322,-99.2650096,-99.263313,-99.185753,-99.1719297,-99.263313,-99.159454,-99.1765344143,-99.254997,-99.1038592905,-99.0436467,-99.159454,-99.1179867,-99.218987,-99.1444714,-99.208595,-99.140855,-99.2906864,-99.263313,-99.133163,-99.07093,-99.188522,-99.155623791,-99.1580693,-99.164986,-99.1889121,-99.167894,-99.1988448,-99.1919122,-99.1392753126,-99.2310901,-99.1553016,-99.177444,-99.1905974,-99.153915,-99.1659764,-99.2906864,-99.0949899,-99.14769,-99.254997,-99.246689,-99.1521771,-99.1466355,-99.164986,-99.1901467,-99.0436467,-99.1582889556,-99.1893056412,-99.162549,-99.155304,-99.1873839,-99.2267067,-99.1479328,-99.1677132,-99.1237906,-99.169144,-99.2651278,-99.176758,-99.218987,-99.263313,-99.1754024,-99.2723517,-99.2880597,-99.2213702202,-99.1795009375,-99.2409738153,-99.177444,-99.1755287,-99.1634988785,-99.119331,-99.1595701,-99.1444714,-99.1519181058,-99.148384,-99.24329,-99.1828288883,-99.24807,-99.14769,-99.2906864,-99.1797506,-99.1393889,-99.1337252,-99.1536306,-99.1885632,-99.153915,-99.210077,-99.291726,-99.254997],\"marker\":{\"color\":[172446.86,553339.27,492618.62,155425.12,258224.99,99530.03,147557.13,154724.19,213430.86,421591.82,223970.65,334559.17,157690.64,252895.12,289844.37,158059.45,139968.48,184446.42,625000.0,117735.94,426861.72,473816.51,233851.71,368892.84,226605.6,131747.44,55333.92,225504.19,142287.24,458372.4,36889.28,230821.52,163366.83,332836.85,187081.37,39524.23,374337.46,163366.83,516449.98,31619.38,57968.87,99074.07,474178.35,331924.84,189716.32,287209.43,263494.89,131418.07,340345.2,137017.34,444726.6,150830.86,269180.16,310729.14,190122.1,135057.59,50327.52,83180.59,242415.29,654457.8,162123.24,521719.88,270951.79,173643.13,44497.91,115937.75,300911.16,430866.84,192305.66,86584.42,151567.64,177068.56,177068.56,574418.86,685086.71,652936.65,237089.17,309553.79,65858.1,205526.01,389972.43,28825.02,146219.53,189610.92,36889.28,79566.6,152827.03,163366.83,182597.74,171271.67,83160.87,65873.72,295114.27,202891.06,283425.64,86689.81,262440.91,63238.77,316193.86,110825.95,79029.72,313558.92,240250.36,82138.73,339908.4,163366.83,319830.09,183919.43,563879.06,519594.1,155288.07,463641.05,94858.16,326733.66,121178.91,43202.91,51381.5,168596.74,105397.95,35185.34,420000.0,337273.46,289844.37,526812.37,117735.94,432342.41,152827.03,563615.57,295114.27,52574.87,147522.15,33787.84,455846.16,131189.34,118572.7,205526.01,45584.61,163366.83,204054.75,89588.26,131747.44,326656.19,447941.31,102763.0,386283.5,163328.09,229240.55,140056.47,171113.58,520000.0,168636.73,213216.9,316193.86,130988.58,447941.31,179176.52,410954.57,38206.75,43176.57,165435.55,181811.47,211059.4,520522.86,558609.16,324098.71,657303.92,54949.68,43202.91,108913.49,507107.4,374074.03,184402.69,544778.24,149734.98,279238.36,252955.09,39524.23,269818.76,535368.91,579688.75,463751.0,432131.62,218486.8,313242.72,284574.48,226605.6,45837.24,54933.04,418956.87,240619.17,147557.13,135035.86,225520.8,303782.83,54949.68,67191.19,75783.82,679816.81,175972.85,242415.29,119229.96,167582.75,424302.13,142287.24,201837.08,298776.85,475000.0,259584.62,421591.82,558609.16,43213.16,79566.6,376708.35,92201.34,187037.01,124231.33,63238.77,94858.16,152827.03,592358.0,447835.11,67981.68,28984.43,362305.47,152827.03,437401.51,611308.14,222600.39,546119.51,123813.23,102763.0,168636.73,165105.89,303783.2,118309.2,200256.11,49638.57,168636.73,151073.1,116728.23,590228.55,247158.2,395242.33,174291.33,280977.01,579688.75,86383.21,221283.23,71126.75,258224.99,210795.91,368805.38,658737.22,144387.3,184446.42,105134.46,189663.62,632387.73,267463.12,231612.0,144922.18,190770.3,311176.92,621847.94,445200.78,113624.79,287736.42,204472.03,263432.41,416321.92,50901.94,100209.69,140470.72,205526.01,150830.86,179134.04,629415.51,534894.62,262905.55,147557.13,92367.6,105318.9,128892.1,105397.95,289844.37,268764.78,379342.68,168636.73,680000.0],\"coloraxis\":\"coloraxis\"},\"mode\":\"markers\",\"name\":\"\",\"showlegend\":false,\"subplot\":\"mapbox\",\"type\":\"scattermapbox\"}],                        {\"template\":{\"data\":{\"histogram2dcontour\":[{\"type\":\"histogram2dcontour\",\"colorbar\":{\"outlinewidth\":0,\"ticks\":\"\"},\"colorscale\":[[0.0,\"#0d0887\"],[0.1111111111111111,\"#46039f\"],[0.2222222222222222,\"#7201a8\"],[0.3333333333333333,\"#9c179e\"],[0.4444444444444444,\"#bd3786\"],[0.5555555555555556,\"#d8576b\"],[0.6666666666666666,\"#ed7953\"],[0.7777777777777778,\"#fb9f3a\"],[0.8888888888888888,\"#fdca26\"],[1.0,\"#f0f921\"]]}],\"choropleth\":[{\"type\":\"choropleth\",\"colorbar\":{\"outlinewidth\":0,\"ticks\":\"\"}}],\"histogram2d\":[{\"type\":\"histogram2d\",\"colorbar\":{\"outlinewidth\":0,\"ticks\":\"\"},\"colorscale\":[[0.0,\"#0d0887\"],[0.1111111111111111,\"#46039f\"],[0.2222222222222222,\"#7201a8\"],[0.3333333333333333,\"#9c179e\"],[0.4444444444444444,\"#bd3786\"],[0.5555555555555556,\"#d8576b\"],[0.6666666666666666,\"#ed7953\"],[0.7777777777777778,\"#fb9f3a\"],[0.8888888888888888,\"#fdca26\"],[1.0,\"#f0f921\"]]}],\"heatmap\":[{\"type\":\"heatmap\",\"colorbar\":{\"outlinewidth\":0,\"ticks\":\"\"},\"colorscale\":[[0.0,\"#0d0887\"],[0.1111111111111111,\"#46039f\"],[0.2222222222222222,\"#7201a8\"],[0.3333333333333333,\"#9c179e\"],[0.4444444444444444,\"#bd3786\"],[0.5555555555555556,\"#d8576b\"],[0.6666666666666666,\"#ed7953\"],[0.7777777777777778,\"#fb9f3a\"],[0.8888888888888888,\"#fdca26\"],[1.0,\"#f0f921\"]]}],\"heatmapgl\":[{\"type\":\"heatmapgl\",\"colorbar\":{\"outlinewidth\":0,\"ticks\":\"\"},\"colorscale\":[[0.0,\"#0d0887\"],[0.1111111111111111,\"#46039f\"],[0.2222222222222222,\"#7201a8\"],[0.3333333333333333,\"#9c179e\"],[0.4444444444444444,\"#bd3786\"],[0.5555555555555556,\"#d8576b\"],[0.6666666666666666,\"#ed7953\"],[0.7777777777777778,\"#fb9f3a\"],[0.8888888888888888,\"#fdca26\"],[1.0,\"#f0f921\"]]}],\"contourcarpet\":[{\"type\":\"contourcarpet\",\"colorbar\":{\"outlinewidth\":0,\"ticks\":\"\"}}],\"contour\":[{\"type\":\"contour\",\"colorbar\":{\"outlinewidth\":0,\"ticks\":\"\"},\"colorscale\":[[0.0,\"#0d0887\"],[0.1111111111111111,\"#46039f\"],[0.2222222222222222,\"#7201a8\"],[0.3333333333333333,\"#9c179e\"],[0.4444444444444444,\"#bd3786\"],[0.5555555555555556,\"#d8576b\"],[0.6666666666666666,\"#ed7953\"],[0.7777777777777778,\"#fb9f3a\"],[0.8888888888888888,\"#fdca26\"],[1.0,\"#f0f921\"]]}],\"surface\":[{\"type\":\"surface\",\"colorbar\":{\"outlinewidth\":0,\"ticks\":\"\"},\"colorscale\":[[0.0,\"#0d0887\"],[0.1111111111111111,\"#46039f\"],[0.2222222222222222,\"#7201a8\"],[0.3333333333333333,\"#9c179e\"],[0.4444444444444444,\"#bd3786\"],[0.5555555555555556,\"#d8576b\"],[0.6666666666666666,\"#ed7953\"],[0.7777777777777778,\"#fb9f3a\"],[0.8888888888888888,\"#fdca26\"],[1.0,\"#f0f921\"]]}],\"mesh3d\":[{\"type\":\"mesh3d\",\"colorbar\":{\"outlinewidth\":0,\"ticks\":\"\"}}],\"scatter\":[{\"fillpattern\":{\"fillmode\":\"overlay\",\"size\":10,\"solidity\":0.2},\"type\":\"scatter\"}],\"parcoords\":[{\"type\":\"parcoords\",\"line\":{\"colorbar\":{\"outlinewidth\":0,\"ticks\":\"\"}}}],\"scatterpolargl\":[{\"type\":\"scatterpolargl\",\"marker\":{\"colorbar\":{\"outlinewidth\":0,\"ticks\":\"\"}}}],\"bar\":[{\"error_x\":{\"color\":\"#2a3f5f\"},\"error_y\":{\"color\":\"#2a3f5f\"},\"marker\":{\"line\":{\"color\":\"#E5ECF6\",\"width\":0.5},\"pattern\":{\"fillmode\":\"overlay\",\"size\":10,\"solidity\":0.2}},\"type\":\"bar\"}],\"scattergeo\":[{\"type\":\"scattergeo\",\"marker\":{\"colorbar\":{\"outlinewidth\":0,\"ticks\":\"\"}}}],\"scatterpolar\":[{\"type\":\"scatterpolar\",\"marker\":{\"colorbar\":{\"outlinewidth\":0,\"ticks\":\"\"}}}],\"histogram\":[{\"marker\":{\"pattern\":{\"fillmode\":\"overlay\",\"size\":10,\"solidity\":0.2}},\"type\":\"histogram\"}],\"scattergl\":[{\"type\":\"scattergl\",\"marker\":{\"colorbar\":{\"outlinewidth\":0,\"ticks\":\"\"}}}],\"scatter3d\":[{\"type\":\"scatter3d\",\"line\":{\"colorbar\":{\"outlinewidth\":0,\"ticks\":\"\"}},\"marker\":{\"colorbar\":{\"outlinewidth\":0,\"ticks\":\"\"}}}],\"scattermapbox\":[{\"type\":\"scattermapbox\",\"marker\":{\"colorbar\":{\"outlinewidth\":0,\"ticks\":\"\"}}}],\"scatterternary\":[{\"type\":\"scatterternary\",\"marker\":{\"colorbar\":{\"outlinewidth\":0,\"ticks\":\"\"}}}],\"scattercarpet\":[{\"type\":\"scattercarpet\",\"marker\":{\"colorbar\":{\"outlinewidth\":0,\"ticks\":\"\"}}}],\"carpet\":[{\"aaxis\":{\"endlinecolor\":\"#2a3f5f\",\"gridcolor\":\"white\",\"linecolor\":\"white\",\"minorgridcolor\":\"white\",\"startlinecolor\":\"#2a3f5f\"},\"baxis\":{\"endlinecolor\":\"#2a3f5f\",\"gridcolor\":\"white\",\"linecolor\":\"white\",\"minorgridcolor\":\"white\",\"startlinecolor\":\"#2a3f5f\"},\"type\":\"carpet\"}],\"table\":[{\"cells\":{\"fill\":{\"color\":\"#EBF0F8\"},\"line\":{\"color\":\"white\"}},\"header\":{\"fill\":{\"color\":\"#C8D4E3\"},\"line\":{\"color\":\"white\"}},\"type\":\"table\"}],\"barpolar\":[{\"marker\":{\"line\":{\"color\":\"#E5ECF6\",\"width\":0.5},\"pattern\":{\"fillmode\":\"overlay\",\"size\":10,\"solidity\":0.2}},\"type\":\"barpolar\"}],\"pie\":[{\"automargin\":true,\"type\":\"pie\"}]},\"layout\":{\"autotypenumbers\":\"strict\",\"colorway\":[\"#636efa\",\"#EF553B\",\"#00cc96\",\"#ab63fa\",\"#FFA15A\",\"#19d3f3\",\"#FF6692\",\"#B6E880\",\"#FF97FF\",\"#FECB52\"],\"font\":{\"color\":\"#2a3f5f\"},\"hovermode\":\"closest\",\"hoverlabel\":{\"align\":\"left\"},\"paper_bgcolor\":\"white\",\"plot_bgcolor\":\"#E5ECF6\",\"polar\":{\"bgcolor\":\"#E5ECF6\",\"angularaxis\":{\"gridcolor\":\"white\",\"linecolor\":\"white\",\"ticks\":\"\"},\"radialaxis\":{\"gridcolor\":\"white\",\"linecolor\":\"white\",\"ticks\":\"\"}},\"ternary\":{\"bgcolor\":\"#E5ECF6\",\"aaxis\":{\"gridcolor\":\"white\",\"linecolor\":\"white\",\"ticks\":\"\"},\"baxis\":{\"gridcolor\":\"white\",\"linecolor\":\"white\",\"ticks\":\"\"},\"caxis\":{\"gridcolor\":\"white\",\"linecolor\":\"white\",\"ticks\":\"\"}},\"coloraxis\":{\"colorbar\":{\"outlinewidth\":0,\"ticks\":\"\"}},\"colorscale\":{\"sequential\":[[0.0,\"#0d0887\"],[0.1111111111111111,\"#46039f\"],[0.2222222222222222,\"#7201a8\"],[0.3333333333333333,\"#9c179e\"],[0.4444444444444444,\"#bd3786\"],[0.5555555555555556,\"#d8576b\"],[0.6666666666666666,\"#ed7953\"],[0.7777777777777778,\"#fb9f3a\"],[0.8888888888888888,\"#fdca26\"],[1.0,\"#f0f921\"]],\"sequentialminus\":[[0.0,\"#0d0887\"],[0.1111111111111111,\"#46039f\"],[0.2222222222222222,\"#7201a8\"],[0.3333333333333333,\"#9c179e\"],[0.4444444444444444,\"#bd3786\"],[0.5555555555555556,\"#d8576b\"],[0.6666666666666666,\"#ed7953\"],[0.7777777777777778,\"#fb9f3a\"],[0.8888888888888888,\"#fdca26\"],[1.0,\"#f0f921\"]],\"diverging\":[[0,\"#8e0152\"],[0.1,\"#c51b7d\"],[0.2,\"#de77ae\"],[0.3,\"#f1b6da\"],[0.4,\"#fde0ef\"],[0.5,\"#f7f7f7\"],[0.6,\"#e6f5d0\"],[0.7,\"#b8e186\"],[0.8,\"#7fbc41\"],[0.9,\"#4d9221\"],[1,\"#276419\"]]},\"xaxis\":{\"gridcolor\":\"white\",\"linecolor\":\"white\",\"ticks\":\"\",\"title\":{\"standoff\":15},\"zerolinecolor\":\"white\",\"automargin\":true,\"zerolinewidth\":2},\"yaxis\":{\"gridcolor\":\"white\",\"linecolor\":\"white\",\"ticks\":\"\",\"title\":{\"standoff\":15},\"zerolinecolor\":\"white\",\"automargin\":true,\"zerolinewidth\":2},\"scene\":{\"xaxis\":{\"backgroundcolor\":\"#E5ECF6\",\"gridcolor\":\"white\",\"linecolor\":\"white\",\"showbackground\":true,\"ticks\":\"\",\"zerolinecolor\":\"white\",\"gridwidth\":2},\"yaxis\":{\"backgroundcolor\":\"#E5ECF6\",\"gridcolor\":\"white\",\"linecolor\":\"white\",\"showbackground\":true,\"ticks\":\"\",\"zerolinecolor\":\"white\",\"gridwidth\":2},\"zaxis\":{\"backgroundcolor\":\"#E5ECF6\",\"gridcolor\":\"white\",\"linecolor\":\"white\",\"showbackground\":true,\"ticks\":\"\",\"zerolinecolor\":\"white\",\"gridwidth\":2}},\"shapedefaults\":{\"line\":{\"color\":\"#2a3f5f\"}},\"annotationdefaults\":{\"arrowcolor\":\"#2a3f5f\",\"arrowhead\":0,\"arrowwidth\":1},\"geo\":{\"bgcolor\":\"white\",\"landcolor\":\"#E5ECF6\",\"subunitcolor\":\"white\",\"showland\":true,\"showlakes\":true,\"lakecolor\":\"white\"},\"title\":{\"x\":0.05},\"mapbox\":{\"style\":\"light\"}}},\"mapbox\":{\"domain\":{\"x\":[0.0,1.0],\"y\":[0.0,1.0]},\"center\":{\"lat\":19.381014720344982,\"lon\":-99.1792029159955},\"zoom\":8,\"style\":\"open-street-map\"},\"coloraxis\":{\"colorbar\":{\"title\":{\"text\":\"price_aprox_usd\"}},\"colorscale\":[[0.0,\"#0d0887\"],[0.1111111111111111,\"#46039f\"],[0.2222222222222222,\"#7201a8\"],[0.3333333333333333,\"#9c179e\"],[0.4444444444444444,\"#bd3786\"],[0.5555555555555556,\"#d8576b\"],[0.6666666666666666,\"#ed7953\"],[0.7777777777777778,\"#fb9f3a\"],[0.8888888888888888,\"#fdca26\"],[1.0,\"#f0f921\"]]},\"legend\":{\"tracegroupgap\":0},\"margin\":{\"t\":60},\"height\":600,\"width\":600},                        {\"responsive\": true}                    ).then(function(){\n",
              "                            \n",
              "var gd = document.getElementById('d16032b8-c58c-42f3-8605-d5f99af1d04b');\n",
              "var x = new MutationObserver(function (mutations, observer) {{\n",
              "        var display = window.getComputedStyle(gd).display;\n",
              "        if (!display || display === 'none') {{\n",
              "            console.log([gd, 'removed!']);\n",
              "            Plotly.purge(gd);\n",
              "            observer.disconnect();\n",
              "        }}\n",
              "}});\n",
              "\n",
              "// Listen for the removal of the full notebook cells\n",
              "var notebookContainer = gd.closest('#notebook-container');\n",
              "if (notebookContainer) {{\n",
              "    x.observe(notebookContainer, {childList: true});\n",
              "}}\n",
              "\n",
              "// Listen for the clearing of the current output cell\n",
              "var outputEl = gd.closest('.output');\n",
              "if (outputEl) {{\n",
              "    x.observe(outputEl, {childList: true});\n",
              "}}\n",
              "\n",
              "                        })                };                            </script>        </div>\n",
              "</body>\n",
              "</html>"
            ]
          },
          "metadata": {}
        }
      ]
    },
    {
      "cell_type": "code",
      "source": [
        "#3D Scatter plot\n",
        "fig = px.scatter_3d(\n",
        "    df,\n",
        "    x = \"lon\",\n",
        "    y = \"lat\",\n",
        "    z = \"price_aprox_usd\",\n",
        "    labels = {\"lon\": \"longitude\", \"lat\":\"latitude\", \"price_aprox_usd\":\"price\"},\n",
        "    width = 600,\n",
        "    height = 600\n",
        ")\n",
        "#Refine Formatting\n",
        "fig.update_traces(\n",
        "    marker = {\"size\":4, \"line\":{\"width\":2, \"color\":\"DarkSlateGrey\"}},\n",
        "    selector = {\"mode\":\"markers\"}\n",
        ")\n",
        "fig.show()"
      ],
      "metadata": {
        "colab": {
          "base_uri": "https://localhost:8080/",
          "height": 617
        },
        "id": "1Yqx4HWeQSdm",
        "outputId": "151e0d22-6ce0-4d17-e7dc-b4b752be64e4"
      },
      "execution_count": null,
      "outputs": [
        {
          "output_type": "display_data",
          "data": {
            "text/html": [
              "<html>\n",
              "<head><meta charset=\"utf-8\" /></head>\n",
              "<body>\n",
              "    <div>            <script src=\"https://cdnjs.cloudflare.com/ajax/libs/mathjax/2.7.5/MathJax.js?config=TeX-AMS-MML_SVG\"></script><script type=\"text/javascript\">if (window.MathJax && window.MathJax.Hub && window.MathJax.Hub.Config) {window.MathJax.Hub.Config({SVG: {font: \"STIX-Web\"}});}</script>                <script type=\"text/javascript\">window.PlotlyConfig = {MathJaxConfig: 'local'};</script>\n",
              "        <script charset=\"utf-8\" src=\"https://cdn.plot.ly/plotly-2.35.2.min.js\"></script>                <div id=\"fdd3c1d0-979b-4cd6-a1be-f47968fd42e2\" class=\"plotly-graph-div\" style=\"height:600px; width:600px;\"></div>            <script type=\"text/javascript\">                                    window.PLOTLYENV=window.PLOTLYENV || {};                                    if (document.getElementById(\"fdd3c1d0-979b-4cd6-a1be-f47968fd42e2\")) {                    Plotly.newPlot(                        \"fdd3c1d0-979b-4cd6-a1be-f47968fd42e2\",                        [{\"hovertemplate\":\"longitude=%{x}\\u003cbr\\u003elatitude=%{y}\\u003cbr\\u003eprice=%{z}\\u003cextra\\u003e\\u003c\\u002fextra\\u003e\",\"legendgroup\":\"\",\"marker\":{\"color\":\"#636efa\",\"symbol\":\"circle\",\"line\":{\"color\":\"DarkSlateGrey\",\"width\":2},\"size\":4},\"mode\":\"markers\",\"name\":\"\",\"scene\":\"scene\",\"showlegend\":false,\"x\":[-99.1591446,-99.254997,-99.1657587614,-99.153915,-99.1658498,-99.1632923484,-99.2906864,-99.1553016,-99.1717827,-99.1739405,-99.1521292,-99.2084005,-99.14769,-99.2189838,-99.177444,-99.1527773,-99.18956,-99.149787426,-99.220367,-99.0949899,-99.1594925,-99.177444,-99.177444,-99.1686282,-99.177444,-99.1674138,-99.0993735,-99.185753,-99.1493282287,-99.1651109,-99.1876426712,-99.1774462,-99.2906864,-99.253616,-99.2189838,-99.133163,-99.1679459,-99.137270786,-99.20929,-99.155991,-99.1862188,-99.1075855494,-99.2763233185,-99.1621603,-99.1522157,-99.1836755,-99.2018433,-99.151327014,-99.1821858,-99.1580399126,-99.164986,-99.1514055,-99.2989735,-99.177444,-99.1996895,-99.1444714,-99.064722,-99.0436467,-99.177444,-99.2744779587,-99.1444714,-99.2753872275,-99.177444,-99.1675547,-99.1035542,-99.124863,-99.1653974,-99.177444,-99.1630337,-99.1937082,-99.172042,-99.1386972,-99.141464,-99.254997,-99.2663861,-99.2028173804,-99.1724994,-99.177444,-99.1561883,-99.1546074,-99.177444,-99.2017929554,-99.1476908,-99.1589625,-99.0949899,-99.0436467,-99.2906864,-99.2906864,-99.1428406,-99.1393153,-99.0436467,-99.1186279,-99.177444,-99.1739857,-99.164986,-99.1936147213,-99.1781383,-99.160149,-99.162549,-99.1591446,-99.1351802,-99.2575527,-99.1565217,-99.0436467,-99.1734831344,-99.2906864,-99.1760298,-99.1773503087,-99.1738213,-99.263313,-99.14769,-99.254997,-99.1664667,-99.2239303,-99.1984791771,-99.0909786,-99.1373136,-99.2906864,-99.1284592,-99.124128,-99.220367,-99.2738167,-99.2880597,-99.2561697,-99.0949899,-99.1694434,-99.2114234,-99.2707271,-99.1774462,-99.0532159,-99.1359301,-99.1221422,-99.1889121,-99.140989,-99.1274918,-99.2233579,-99.1277845949,-99.2906864,-99.1621111,-99.164986,-99.122192,-99.212753,-99.171906,-99.137825,-99.153915,-99.2906864,-99.2948520184,-99.224525,-99.224525,-99.1956012,-99.1893281,-99.1821858,-99.263313,-99.2114234,-99.164986,-99.2446842,-99.1711270809,-99.0949899,-99.167762,-99.2267067,-99.177444,-99.1724994,-99.1712969,-99.2721176147,-99.3014315,-99.1863574,-99.0436467,-99.171906,-99.2983107,-99.2124468,-99.164609,-99.1331631,-99.1699933,-99.1624422,-99.2402824759,-99.1828966141,-99.146999,-99.1461089,-99.142799,-99.224352,-99.1691413,-99.1641013,-99.1821858,-99.2023662,-99.1633604933,-99.1729456,-99.1740457,-99.0436467,-99.20237,-99.1654942,-99.2906864,-99.1624422,-99.144234,-99.177444,-99.0436467,-99.0712814,-99.141393,-99.174675,-99.185753,-99.1754024,-99.0949899,-99.1297322,-99.2650096,-99.263313,-99.185753,-99.1719297,-99.263313,-99.159454,-99.1765344143,-99.254997,-99.1038592905,-99.0436467,-99.159454,-99.1179867,-99.218987,-99.1444714,-99.208595,-99.140855,-99.2906864,-99.263313,-99.133163,-99.07093,-99.188522,-99.155623791,-99.1580693,-99.164986,-99.1889121,-99.167894,-99.1988448,-99.1919122,-99.1392753126,-99.2310901,-99.1553016,-99.177444,-99.1905974,-99.153915,-99.1659764,-99.2906864,-99.0949899,-99.14769,-99.254997,-99.246689,-99.1521771,-99.1466355,-99.164986,-99.1901467,-99.0436467,-99.1582889556,-99.1893056412,-99.162549,-99.155304,-99.1873839,-99.2267067,-99.1479328,-99.1677132,-99.1237906,-99.169144,-99.2651278,-99.176758,-99.218987,-99.263313,-99.1754024,-99.2723517,-99.2880597,-99.2213702202,-99.1795009375,-99.2409738153,-99.177444,-99.1755287,-99.1634988785,-99.119331,-99.1595701,-99.1444714,-99.1519181058,-99.148384,-99.24329,-99.1828288883,-99.24807,-99.14769,-99.2906864,-99.1797506,-99.1393889,-99.1337252,-99.1536306,-99.1885632,-99.153915,-99.210077,-99.291726,-99.254997],\"y\":[19.3794059,19.390415,19.3753948137,19.394073,19.4169673,19.4553585442,19.3499358,19.3807458,19.4124708,19.4114169,19.3853063,19.3609784,19.39365,19.3392293,19.41498,19.3677299,19.365391,19.3714480121,19.420166,19.4306069,19.3864346,19.394358,19.394358,19.4097609,19.394358,19.3898619,19.3549174,19.358585,19.3703820187,19.3769448,19.2818221685,19.3943574,19.3499358,19.371342,19.3392293,19.461416,19.3023508,19.3747920646,19.320576,19.505199,19.3883217,19.3152718515,19.3634214999,19.4070717,19.3428273,19.3049333,19.3024064,19.3338880248,19.4032833,19.3825040623,19.381729,19.3596034,19.3503274,19.394358,19.3813197,19.3638234,19.4113101,19.2990233,19.400249,19.3577935962,19.3638234,19.3556628374,19.394358,19.2753576,19.3223015,19.343979,19.3815906,19.394358,19.3755039,19.3865508,19.407682,19.3108788,19.39912,19.390415,19.3619852,19.4425711213,19.3668017,19.394358,19.3437444,19.3756773,19.432657,19.4959960885,19.3803931,19.4482164,19.4306069,19.2990233,19.3499358,19.3499358,19.364967,19.323066,19.2990233,19.2963742,19.41498,19.3628631,19.381729,19.3865940087,19.2963762,19.516777,19.4195256,19.3794059,19.4503249,19.3302564,19.4024797,19.2990233,19.3753973563,19.3499358,19.392978,19.3737616972,19.3928136,19.392937,19.39365,19.390415,19.3847719,19.3036292,19.3845952529,19.487856,19.4302678,19.3499358,19.3776513,19.442791,19.420166,19.3445052,19.3631419,19.347138,19.4306069,19.3815495,19.2790911,19.3594791,19.4149803,19.342083,19.5290566,19.4594892,19.430456,19.3018442,19.4809432,19.3349552,19.4126915168,19.3499358,19.3680133,19.381729,19.5029542,19.3447,19.409369,19.3934821,19.394073,19.3499358,19.3810000272,19.341894,19.341894,19.4340199,19.3701781,19.4032833,19.392937,19.2790911,19.381729,19.3320226,19.4101579796,19.4306069,19.308076,19.3605334,19.400249,19.3668017,19.4201028,19.3585224004,19.3499706,19.433173,19.2990233,19.309208,19.3679526,19.4372822,19.4280794,19.4673105,19.4347155,19.3670983,19.3341208717,19.4396219801,19.431252,19.4025564,19.552402,19.4259971,19.4301322,19.3774517,19.4032833,19.3606908,19.3609365412,19.4001854,19.444606,19.2990233,19.443178,19.3814836,19.3499358,19.3670983,19.375412,19.394358,19.2990233,19.3340701,19.512787,19.376822,19.367424,19.3872626,19.4306069,19.3404477,19.3627981,19.392937,19.367424,19.361269,19.392937,19.417364,19.4158245484,19.390415,19.381259203,19.2990233,19.417364,19.4526892,19.33923,19.3638234,19.378786,19.3246591,19.3499358,19.392937,19.396593,19.392349,19.399689,19.4157341697,19.359984,19.381729,19.430456,19.3023717,19.3564335,19.3814504,19.3697678418,19.3033001,19.3807458,19.394358,19.3723335,19.394073,19.2672863,19.3499358,19.4306069,19.39365,19.390415,19.331932,19.4348398,19.3908165,19.381729,19.4336444,19.2990233,19.382727579,19.4752953603,19.4195256,19.380747,19.4374999,19.3605334,19.3358468,19.3797151,19.4068945,19.430132,19.3894263,19.387764,19.33923,19.392937,19.3872626,19.3582744,19.3631419,19.3038226746,19.3906898041,19.334220844,19.400249,19.3627249,19.3648588111,19.335419,19.471135,19.3638234,19.384622452,19.364891,19.3862785,19.4080873559,19.401079,19.39365,19.3499358,19.3905245,19.3704998,19.3733676,19.4512044,19.4380266,19.394073,19.3066442,19.3539321,19.390415],\"z\":[172446.86,553339.27,492618.62,155425.12,258224.99,99530.03,147557.13,154724.19,213430.86,421591.82,223970.65,334559.17,157690.64,252895.12,289844.37,158059.45,139968.48,184446.42,625000.0,117735.94,426861.72,473816.51,233851.71,368892.84,226605.6,131747.44,55333.92,225504.19,142287.24,458372.4,36889.28,230821.52,163366.83,332836.85,187081.37,39524.23,374337.46,163366.83,516449.98,31619.38,57968.87,99074.07,474178.35,331924.84,189716.32,287209.43,263494.89,131418.07,340345.2,137017.34,444726.6,150830.86,269180.16,310729.14,190122.1,135057.59,50327.52,83180.59,242415.29,654457.8,162123.24,521719.88,270951.79,173643.13,44497.91,115937.75,300911.16,430866.84,192305.66,86584.42,151567.64,177068.56,177068.56,574418.86,685086.71,652936.65,237089.17,309553.79,65858.1,205526.01,389972.43,28825.02,146219.53,189610.92,36889.28,79566.6,152827.03,163366.83,182597.74,171271.67,83160.87,65873.72,295114.27,202891.06,283425.64,86689.81,262440.91,63238.77,316193.86,110825.95,79029.72,313558.92,240250.36,82138.73,339908.4,163366.83,319830.09,183919.43,563879.06,519594.1,155288.07,463641.05,94858.16,326733.66,121178.91,43202.91,51381.5,168596.74,105397.95,35185.34,420000.0,337273.46,289844.37,526812.37,117735.94,432342.41,152827.03,563615.57,295114.27,52574.87,147522.15,33787.84,455846.16,131189.34,118572.7,205526.01,45584.61,163366.83,204054.75,89588.26,131747.44,326656.19,447941.31,102763.0,386283.5,163328.09,229240.55,140056.47,171113.58,520000.0,168636.73,213216.9,316193.86,130988.58,447941.31,179176.52,410954.57,38206.75,43176.57,165435.55,181811.47,211059.4,520522.86,558609.16,324098.71,657303.92,54949.68,43202.91,108913.49,507107.4,374074.03,184402.69,544778.24,149734.98,279238.36,252955.09,39524.23,269818.76,535368.91,579688.75,463751.0,432131.62,218486.8,313242.72,284574.48,226605.6,45837.24,54933.04,418956.87,240619.17,147557.13,135035.86,225520.8,303782.83,54949.68,67191.19,75783.82,679816.81,175972.85,242415.29,119229.96,167582.75,424302.13,142287.24,201837.08,298776.85,475000.0,259584.62,421591.82,558609.16,43213.16,79566.6,376708.35,92201.34,187037.01,124231.33,63238.77,94858.16,152827.03,592358.0,447835.11,67981.68,28984.43,362305.47,152827.03,437401.51,611308.14,222600.39,546119.51,123813.23,102763.0,168636.73,165105.89,303783.2,118309.2,200256.11,49638.57,168636.73,151073.1,116728.23,590228.55,247158.2,395242.33,174291.33,280977.01,579688.75,86383.21,221283.23,71126.75,258224.99,210795.91,368805.38,658737.22,144387.3,184446.42,105134.46,189663.62,632387.73,267463.12,231612.0,144922.18,190770.3,311176.92,621847.94,445200.78,113624.79,287736.42,204472.03,263432.41,416321.92,50901.94,100209.69,140470.72,205526.01,150830.86,179134.04,629415.51,534894.62,262905.55,147557.13,92367.6,105318.9,128892.1,105397.95,289844.37,268764.78,379342.68,168636.73,680000.0],\"type\":\"scatter3d\"}],                        {\"template\":{\"data\":{\"histogram2dcontour\":[{\"type\":\"histogram2dcontour\",\"colorbar\":{\"outlinewidth\":0,\"ticks\":\"\"},\"colorscale\":[[0.0,\"#0d0887\"],[0.1111111111111111,\"#46039f\"],[0.2222222222222222,\"#7201a8\"],[0.3333333333333333,\"#9c179e\"],[0.4444444444444444,\"#bd3786\"],[0.5555555555555556,\"#d8576b\"],[0.6666666666666666,\"#ed7953\"],[0.7777777777777778,\"#fb9f3a\"],[0.8888888888888888,\"#fdca26\"],[1.0,\"#f0f921\"]]}],\"choropleth\":[{\"type\":\"choropleth\",\"colorbar\":{\"outlinewidth\":0,\"ticks\":\"\"}}],\"histogram2d\":[{\"type\":\"histogram2d\",\"colorbar\":{\"outlinewidth\":0,\"ticks\":\"\"},\"colorscale\":[[0.0,\"#0d0887\"],[0.1111111111111111,\"#46039f\"],[0.2222222222222222,\"#7201a8\"],[0.3333333333333333,\"#9c179e\"],[0.4444444444444444,\"#bd3786\"],[0.5555555555555556,\"#d8576b\"],[0.6666666666666666,\"#ed7953\"],[0.7777777777777778,\"#fb9f3a\"],[0.8888888888888888,\"#fdca26\"],[1.0,\"#f0f921\"]]}],\"heatmap\":[{\"type\":\"heatmap\",\"colorbar\":{\"outlinewidth\":0,\"ticks\":\"\"},\"colorscale\":[[0.0,\"#0d0887\"],[0.1111111111111111,\"#46039f\"],[0.2222222222222222,\"#7201a8\"],[0.3333333333333333,\"#9c179e\"],[0.4444444444444444,\"#bd3786\"],[0.5555555555555556,\"#d8576b\"],[0.6666666666666666,\"#ed7953\"],[0.7777777777777778,\"#fb9f3a\"],[0.8888888888888888,\"#fdca26\"],[1.0,\"#f0f921\"]]}],\"heatmapgl\":[{\"type\":\"heatmapgl\",\"colorbar\":{\"outlinewidth\":0,\"ticks\":\"\"},\"colorscale\":[[0.0,\"#0d0887\"],[0.1111111111111111,\"#46039f\"],[0.2222222222222222,\"#7201a8\"],[0.3333333333333333,\"#9c179e\"],[0.4444444444444444,\"#bd3786\"],[0.5555555555555556,\"#d8576b\"],[0.6666666666666666,\"#ed7953\"],[0.7777777777777778,\"#fb9f3a\"],[0.8888888888888888,\"#fdca26\"],[1.0,\"#f0f921\"]]}],\"contourcarpet\":[{\"type\":\"contourcarpet\",\"colorbar\":{\"outlinewidth\":0,\"ticks\":\"\"}}],\"contour\":[{\"type\":\"contour\",\"colorbar\":{\"outlinewidth\":0,\"ticks\":\"\"},\"colorscale\":[[0.0,\"#0d0887\"],[0.1111111111111111,\"#46039f\"],[0.2222222222222222,\"#7201a8\"],[0.3333333333333333,\"#9c179e\"],[0.4444444444444444,\"#bd3786\"],[0.5555555555555556,\"#d8576b\"],[0.6666666666666666,\"#ed7953\"],[0.7777777777777778,\"#fb9f3a\"],[0.8888888888888888,\"#fdca26\"],[1.0,\"#f0f921\"]]}],\"surface\":[{\"type\":\"surface\",\"colorbar\":{\"outlinewidth\":0,\"ticks\":\"\"},\"colorscale\":[[0.0,\"#0d0887\"],[0.1111111111111111,\"#46039f\"],[0.2222222222222222,\"#7201a8\"],[0.3333333333333333,\"#9c179e\"],[0.4444444444444444,\"#bd3786\"],[0.5555555555555556,\"#d8576b\"],[0.6666666666666666,\"#ed7953\"],[0.7777777777777778,\"#fb9f3a\"],[0.8888888888888888,\"#fdca26\"],[1.0,\"#f0f921\"]]}],\"mesh3d\":[{\"type\":\"mesh3d\",\"colorbar\":{\"outlinewidth\":0,\"ticks\":\"\"}}],\"scatter\":[{\"fillpattern\":{\"fillmode\":\"overlay\",\"size\":10,\"solidity\":0.2},\"type\":\"scatter\"}],\"parcoords\":[{\"type\":\"parcoords\",\"line\":{\"colorbar\":{\"outlinewidth\":0,\"ticks\":\"\"}}}],\"scatterpolargl\":[{\"type\":\"scatterpolargl\",\"marker\":{\"colorbar\":{\"outlinewidth\":0,\"ticks\":\"\"}}}],\"bar\":[{\"error_x\":{\"color\":\"#2a3f5f\"},\"error_y\":{\"color\":\"#2a3f5f\"},\"marker\":{\"line\":{\"color\":\"#E5ECF6\",\"width\":0.5},\"pattern\":{\"fillmode\":\"overlay\",\"size\":10,\"solidity\":0.2}},\"type\":\"bar\"}],\"scattergeo\":[{\"type\":\"scattergeo\",\"marker\":{\"colorbar\":{\"outlinewidth\":0,\"ticks\":\"\"}}}],\"scatterpolar\":[{\"type\":\"scatterpolar\",\"marker\":{\"colorbar\":{\"outlinewidth\":0,\"ticks\":\"\"}}}],\"histogram\":[{\"marker\":{\"pattern\":{\"fillmode\":\"overlay\",\"size\":10,\"solidity\":0.2}},\"type\":\"histogram\"}],\"scattergl\":[{\"type\":\"scattergl\",\"marker\":{\"colorbar\":{\"outlinewidth\":0,\"ticks\":\"\"}}}],\"scatter3d\":[{\"type\":\"scatter3d\",\"line\":{\"colorbar\":{\"outlinewidth\":0,\"ticks\":\"\"}},\"marker\":{\"colorbar\":{\"outlinewidth\":0,\"ticks\":\"\"}}}],\"scattermapbox\":[{\"type\":\"scattermapbox\",\"marker\":{\"colorbar\":{\"outlinewidth\":0,\"ticks\":\"\"}}}],\"scatterternary\":[{\"type\":\"scatterternary\",\"marker\":{\"colorbar\":{\"outlinewidth\":0,\"ticks\":\"\"}}}],\"scattercarpet\":[{\"type\":\"scattercarpet\",\"marker\":{\"colorbar\":{\"outlinewidth\":0,\"ticks\":\"\"}}}],\"carpet\":[{\"aaxis\":{\"endlinecolor\":\"#2a3f5f\",\"gridcolor\":\"white\",\"linecolor\":\"white\",\"minorgridcolor\":\"white\",\"startlinecolor\":\"#2a3f5f\"},\"baxis\":{\"endlinecolor\":\"#2a3f5f\",\"gridcolor\":\"white\",\"linecolor\":\"white\",\"minorgridcolor\":\"white\",\"startlinecolor\":\"#2a3f5f\"},\"type\":\"carpet\"}],\"table\":[{\"cells\":{\"fill\":{\"color\":\"#EBF0F8\"},\"line\":{\"color\":\"white\"}},\"header\":{\"fill\":{\"color\":\"#C8D4E3\"},\"line\":{\"color\":\"white\"}},\"type\":\"table\"}],\"barpolar\":[{\"marker\":{\"line\":{\"color\":\"#E5ECF6\",\"width\":0.5},\"pattern\":{\"fillmode\":\"overlay\",\"size\":10,\"solidity\":0.2}},\"type\":\"barpolar\"}],\"pie\":[{\"automargin\":true,\"type\":\"pie\"}]},\"layout\":{\"autotypenumbers\":\"strict\",\"colorway\":[\"#636efa\",\"#EF553B\",\"#00cc96\",\"#ab63fa\",\"#FFA15A\",\"#19d3f3\",\"#FF6692\",\"#B6E880\",\"#FF97FF\",\"#FECB52\"],\"font\":{\"color\":\"#2a3f5f\"},\"hovermode\":\"closest\",\"hoverlabel\":{\"align\":\"left\"},\"paper_bgcolor\":\"white\",\"plot_bgcolor\":\"#E5ECF6\",\"polar\":{\"bgcolor\":\"#E5ECF6\",\"angularaxis\":{\"gridcolor\":\"white\",\"linecolor\":\"white\",\"ticks\":\"\"},\"radialaxis\":{\"gridcolor\":\"white\",\"linecolor\":\"white\",\"ticks\":\"\"}},\"ternary\":{\"bgcolor\":\"#E5ECF6\",\"aaxis\":{\"gridcolor\":\"white\",\"linecolor\":\"white\",\"ticks\":\"\"},\"baxis\":{\"gridcolor\":\"white\",\"linecolor\":\"white\",\"ticks\":\"\"},\"caxis\":{\"gridcolor\":\"white\",\"linecolor\":\"white\",\"ticks\":\"\"}},\"coloraxis\":{\"colorbar\":{\"outlinewidth\":0,\"ticks\":\"\"}},\"colorscale\":{\"sequential\":[[0.0,\"#0d0887\"],[0.1111111111111111,\"#46039f\"],[0.2222222222222222,\"#7201a8\"],[0.3333333333333333,\"#9c179e\"],[0.4444444444444444,\"#bd3786\"],[0.5555555555555556,\"#d8576b\"],[0.6666666666666666,\"#ed7953\"],[0.7777777777777778,\"#fb9f3a\"],[0.8888888888888888,\"#fdca26\"],[1.0,\"#f0f921\"]],\"sequentialminus\":[[0.0,\"#0d0887\"],[0.1111111111111111,\"#46039f\"],[0.2222222222222222,\"#7201a8\"],[0.3333333333333333,\"#9c179e\"],[0.4444444444444444,\"#bd3786\"],[0.5555555555555556,\"#d8576b\"],[0.6666666666666666,\"#ed7953\"],[0.7777777777777778,\"#fb9f3a\"],[0.8888888888888888,\"#fdca26\"],[1.0,\"#f0f921\"]],\"diverging\":[[0,\"#8e0152\"],[0.1,\"#c51b7d\"],[0.2,\"#de77ae\"],[0.3,\"#f1b6da\"],[0.4,\"#fde0ef\"],[0.5,\"#f7f7f7\"],[0.6,\"#e6f5d0\"],[0.7,\"#b8e186\"],[0.8,\"#7fbc41\"],[0.9,\"#4d9221\"],[1,\"#276419\"]]},\"xaxis\":{\"gridcolor\":\"white\",\"linecolor\":\"white\",\"ticks\":\"\",\"title\":{\"standoff\":15},\"zerolinecolor\":\"white\",\"automargin\":true,\"zerolinewidth\":2},\"yaxis\":{\"gridcolor\":\"white\",\"linecolor\":\"white\",\"ticks\":\"\",\"title\":{\"standoff\":15},\"zerolinecolor\":\"white\",\"automargin\":true,\"zerolinewidth\":2},\"scene\":{\"xaxis\":{\"backgroundcolor\":\"#E5ECF6\",\"gridcolor\":\"white\",\"linecolor\":\"white\",\"showbackground\":true,\"ticks\":\"\",\"zerolinecolor\":\"white\",\"gridwidth\":2},\"yaxis\":{\"backgroundcolor\":\"#E5ECF6\",\"gridcolor\":\"white\",\"linecolor\":\"white\",\"showbackground\":true,\"ticks\":\"\",\"zerolinecolor\":\"white\",\"gridwidth\":2},\"zaxis\":{\"backgroundcolor\":\"#E5ECF6\",\"gridcolor\":\"white\",\"linecolor\":\"white\",\"showbackground\":true,\"ticks\":\"\",\"zerolinecolor\":\"white\",\"gridwidth\":2}},\"shapedefaults\":{\"line\":{\"color\":\"#2a3f5f\"}},\"annotationdefaults\":{\"arrowcolor\":\"#2a3f5f\",\"arrowhead\":0,\"arrowwidth\":1},\"geo\":{\"bgcolor\":\"white\",\"landcolor\":\"#E5ECF6\",\"subunitcolor\":\"white\",\"showland\":true,\"showlakes\":true,\"lakecolor\":\"white\"},\"title\":{\"x\":0.05},\"mapbox\":{\"style\":\"light\"}}},\"scene\":{\"domain\":{\"x\":[0.0,1.0],\"y\":[0.0,1.0]},\"xaxis\":{\"title\":{\"text\":\"longitude\"}},\"yaxis\":{\"title\":{\"text\":\"latitude\"}},\"zaxis\":{\"title\":{\"text\":\"price\"}}},\"legend\":{\"tracegroupgap\":0},\"margin\":{\"t\":60},\"height\":600,\"width\":600},                        {\"responsive\": true}                    ).then(function(){\n",
              "                            \n",
              "var gd = document.getElementById('fdd3c1d0-979b-4cd6-a1be-f47968fd42e2');\n",
              "var x = new MutationObserver(function (mutations, observer) {{\n",
              "        var display = window.getComputedStyle(gd).display;\n",
              "        if (!display || display === 'none') {{\n",
              "            console.log([gd, 'removed!']);\n",
              "            Plotly.purge(gd);\n",
              "            observer.disconnect();\n",
              "        }}\n",
              "}});\n",
              "\n",
              "// Listen for the removal of the full notebook cells\n",
              "var notebookContainer = gd.closest('#notebook-container');\n",
              "if (notebookContainer) {{\n",
              "    x.observe(notebookContainer, {childList: true});\n",
              "}}\n",
              "\n",
              "// Listen for the clearing of the current output cell\n",
              "var outputEl = gd.closest('.output');\n",
              "if (outputEl) {{\n",
              "    x.observe(outputEl, {childList: true});\n",
              "}}\n",
              "\n",
              "                        })                };                            </script>        </div>\n",
              "</body>\n",
              "</html>"
            ]
          },
          "metadata": {}
        }
      ]
    },
    {
      "cell_type": "markdown",
      "source": [
        "Split : Feature Matrices & Target Vector"
      ],
      "metadata": {
        "id": "oPZZFkggVFLY"
      }
    },
    {
      "cell_type": "code",
      "source": [
        "features_location = [\"lat\", \"lon\"]\n",
        "X_train_location = df[features_location]\n",
        "print(\"X_train_location:\", X_train_location.shape)\n",
        "target_location = \"price_aprox_usd\"\n",
        "y_train_location = df[target_location]\n",
        "print(\"X_train_location:\", y_train_location.shape)"
      ],
      "metadata": {
        "colab": {
          "base_uri": "https://localhost:8080/"
        },
        "id": "9ssfsST8Ro7j",
        "outputId": "ed23bb76-ce5b-4d13-fd19-5e6060b20dd3"
      },
      "execution_count": null,
      "outputs": [
        {
          "output_type": "stream",
          "name": "stdout",
          "text": [
            "X_train_location: (289, 2)\n",
            "X_train_location: (289,)\n"
          ]
        }
      ]
    },
    {
      "cell_type": "markdown",
      "source": [
        "BUILD MODEL"
      ],
      "metadata": {
        "id": "zCbtp31AWgdt"
      }
    },
    {
      "cell_type": "markdown",
      "source": [
        "Baseline"
      ],
      "metadata": {
        "id": "edzShlmEWics"
      }
    },
    {
      "cell_type": "code",
      "source": [
        "y_mean_location = y_train_location.mean()\n",
        "print(round(y_mean_location,2))"
      ],
      "metadata": {
        "colab": {
          "base_uri": "https://localhost:8080/"
        },
        "id": "4LpjNAMhWDGC",
        "outputId": "b7d966ac-8d9e-42b1-9783-1287dc25c82a"
      },
      "execution_count": null,
      "outputs": [
        {
          "output_type": "stream",
          "name": "stdout",
          "text": [
            "248004.59\n"
          ]
        }
      ]
    },
    {
      "cell_type": "code",
      "source": [
        "y_pred_baseline_location = [y_mean_location] * len(y_train_location)\n",
        "print(y_pred_baseline_location[:5])"
      ],
      "metadata": {
        "colab": {
          "base_uri": "https://localhost:8080/"
        },
        "id": "WBzIA797WpGQ",
        "outputId": "a2358b4f-88ff-4910-823c-39b3d34abe7b"
      },
      "execution_count": null,
      "outputs": [
        {
          "output_type": "stream",
          "name": "stdout",
          "text": [
            "[np.float64(248004.589550173), np.float64(248004.589550173), np.float64(248004.589550173), np.float64(248004.589550173), np.float64(248004.589550173)]\n"
          ]
        }
      ]
    },
    {
      "cell_type": "code",
      "source": [
        "mae_baseline_location = mean_absolute_error(y_train_location, y_pred_baseline_location)\n",
        "print(\"Mean apt price:\",round(y_mean_location, 2))\n",
        "print(\"MAE Baseline:\", round(mae_baseline_location, 2))"
      ],
      "metadata": {
        "colab": {
          "base_uri": "https://localhost:8080/"
        },
        "id": "IAipv4GSXHqi",
        "outputId": "d8b8038e-349f-42b3-8e02-0a695ebf1ab3"
      },
      "execution_count": null,
      "outputs": [
        {
          "output_type": "stream",
          "name": "stdout",
          "text": [
            "Mean apt price: 248004.59\n",
            "MAE Baseline: 134526.4\n"
          ]
        }
      ]
    },
    {
      "cell_type": "markdown",
      "source": [
        "ITERATE"
      ],
      "metadata": {
        "id": "A9GGwnChi_vb"
      }
    },
    {
      "cell_type": "markdown",
      "source": [
        "Instantiating and Transforming my Model"
      ],
      "metadata": {
        "id": "ewJJx4HejCFI"
      }
    },
    {
      "cell_type": "code",
      "source": [
        "model_location = make_pipeline(\n",
        "    SimpleImputer(),\n",
        "    LinearRegression()\n",
        ")\n",
        "model_location.fit(X_train_location, y_train_location)"
      ],
      "metadata": {
        "colab": {
          "base_uri": "https://localhost:8080/",
          "height": 155
        },
        "id": "MyXtfjYSZ5Yh",
        "outputId": "3b0dc1f9-be1e-40b1-f3d7-44b548db9711"
      },
      "execution_count": null,
      "outputs": [
        {
          "output_type": "execute_result",
          "data": {
            "text/plain": [
              "Pipeline(steps=[('simpleimputer', SimpleImputer()),\n",
              "                ('linearregression', LinearRegression())])"
            ],
            "text/html": [
              "<style>#sk-container-id-2 {\n",
              "  /* Definition of color scheme common for light and dark mode */\n",
              "  --sklearn-color-text: #000;\n",
              "  --sklearn-color-text-muted: #666;\n",
              "  --sklearn-color-line: gray;\n",
              "  /* Definition of color scheme for unfitted estimators */\n",
              "  --sklearn-color-unfitted-level-0: #fff5e6;\n",
              "  --sklearn-color-unfitted-level-1: #f6e4d2;\n",
              "  --sklearn-color-unfitted-level-2: #ffe0b3;\n",
              "  --sklearn-color-unfitted-level-3: chocolate;\n",
              "  /* Definition of color scheme for fitted estimators */\n",
              "  --sklearn-color-fitted-level-0: #f0f8ff;\n",
              "  --sklearn-color-fitted-level-1: #d4ebff;\n",
              "  --sklearn-color-fitted-level-2: #b3dbfd;\n",
              "  --sklearn-color-fitted-level-3: cornflowerblue;\n",
              "\n",
              "  /* Specific color for light theme */\n",
              "  --sklearn-color-text-on-default-background: var(--sg-text-color, var(--theme-code-foreground, var(--jp-content-font-color1, black)));\n",
              "  --sklearn-color-background: var(--sg-background-color, var(--theme-background, var(--jp-layout-color0, white)));\n",
              "  --sklearn-color-border-box: var(--sg-text-color, var(--theme-code-foreground, var(--jp-content-font-color1, black)));\n",
              "  --sklearn-color-icon: #696969;\n",
              "\n",
              "  @media (prefers-color-scheme: dark) {\n",
              "    /* Redefinition of color scheme for dark theme */\n",
              "    --sklearn-color-text-on-default-background: var(--sg-text-color, var(--theme-code-foreground, var(--jp-content-font-color1, white)));\n",
              "    --sklearn-color-background: var(--sg-background-color, var(--theme-background, var(--jp-layout-color0, #111)));\n",
              "    --sklearn-color-border-box: var(--sg-text-color, var(--theme-code-foreground, var(--jp-content-font-color1, white)));\n",
              "    --sklearn-color-icon: #878787;\n",
              "  }\n",
              "}\n",
              "\n",
              "#sk-container-id-2 {\n",
              "  color: var(--sklearn-color-text);\n",
              "}\n",
              "\n",
              "#sk-container-id-2 pre {\n",
              "  padding: 0;\n",
              "}\n",
              "\n",
              "#sk-container-id-2 input.sk-hidden--visually {\n",
              "  border: 0;\n",
              "  clip: rect(1px 1px 1px 1px);\n",
              "  clip: rect(1px, 1px, 1px, 1px);\n",
              "  height: 1px;\n",
              "  margin: -1px;\n",
              "  overflow: hidden;\n",
              "  padding: 0;\n",
              "  position: absolute;\n",
              "  width: 1px;\n",
              "}\n",
              "\n",
              "#sk-container-id-2 div.sk-dashed-wrapped {\n",
              "  border: 1px dashed var(--sklearn-color-line);\n",
              "  margin: 0 0.4em 0.5em 0.4em;\n",
              "  box-sizing: border-box;\n",
              "  padding-bottom: 0.4em;\n",
              "  background-color: var(--sklearn-color-background);\n",
              "}\n",
              "\n",
              "#sk-container-id-2 div.sk-container {\n",
              "  /* jupyter's `normalize.less` sets `[hidden] { display: none; }`\n",
              "     but bootstrap.min.css set `[hidden] { display: none !important; }`\n",
              "     so we also need the `!important` here to be able to override the\n",
              "     default hidden behavior on the sphinx rendered scikit-learn.org.\n",
              "     See: https://github.com/scikit-learn/scikit-learn/issues/21755 */\n",
              "  display: inline-block !important;\n",
              "  position: relative;\n",
              "}\n",
              "\n",
              "#sk-container-id-2 div.sk-text-repr-fallback {\n",
              "  display: none;\n",
              "}\n",
              "\n",
              "div.sk-parallel-item,\n",
              "div.sk-serial,\n",
              "div.sk-item {\n",
              "  /* draw centered vertical line to link estimators */\n",
              "  background-image: linear-gradient(var(--sklearn-color-text-on-default-background), var(--sklearn-color-text-on-default-background));\n",
              "  background-size: 2px 100%;\n",
              "  background-repeat: no-repeat;\n",
              "  background-position: center center;\n",
              "}\n",
              "\n",
              "/* Parallel-specific style estimator block */\n",
              "\n",
              "#sk-container-id-2 div.sk-parallel-item::after {\n",
              "  content: \"\";\n",
              "  width: 100%;\n",
              "  border-bottom: 2px solid var(--sklearn-color-text-on-default-background);\n",
              "  flex-grow: 1;\n",
              "}\n",
              "\n",
              "#sk-container-id-2 div.sk-parallel {\n",
              "  display: flex;\n",
              "  align-items: stretch;\n",
              "  justify-content: center;\n",
              "  background-color: var(--sklearn-color-background);\n",
              "  position: relative;\n",
              "}\n",
              "\n",
              "#sk-container-id-2 div.sk-parallel-item {\n",
              "  display: flex;\n",
              "  flex-direction: column;\n",
              "}\n",
              "\n",
              "#sk-container-id-2 div.sk-parallel-item:first-child::after {\n",
              "  align-self: flex-end;\n",
              "  width: 50%;\n",
              "}\n",
              "\n",
              "#sk-container-id-2 div.sk-parallel-item:last-child::after {\n",
              "  align-self: flex-start;\n",
              "  width: 50%;\n",
              "}\n",
              "\n",
              "#sk-container-id-2 div.sk-parallel-item:only-child::after {\n",
              "  width: 0;\n",
              "}\n",
              "\n",
              "/* Serial-specific style estimator block */\n",
              "\n",
              "#sk-container-id-2 div.sk-serial {\n",
              "  display: flex;\n",
              "  flex-direction: column;\n",
              "  align-items: center;\n",
              "  background-color: var(--sklearn-color-background);\n",
              "  padding-right: 1em;\n",
              "  padding-left: 1em;\n",
              "}\n",
              "\n",
              "\n",
              "/* Toggleable style: style used for estimator/Pipeline/ColumnTransformer box that is\n",
              "clickable and can be expanded/collapsed.\n",
              "- Pipeline and ColumnTransformer use this feature and define the default style\n",
              "- Estimators will overwrite some part of the style using the `sk-estimator` class\n",
              "*/\n",
              "\n",
              "/* Pipeline and ColumnTransformer style (default) */\n",
              "\n",
              "#sk-container-id-2 div.sk-toggleable {\n",
              "  /* Default theme specific background. It is overwritten whether we have a\n",
              "  specific estimator or a Pipeline/ColumnTransformer */\n",
              "  background-color: var(--sklearn-color-background);\n",
              "}\n",
              "\n",
              "/* Toggleable label */\n",
              "#sk-container-id-2 label.sk-toggleable__label {\n",
              "  cursor: pointer;\n",
              "  display: flex;\n",
              "  width: 100%;\n",
              "  margin-bottom: 0;\n",
              "  padding: 0.5em;\n",
              "  box-sizing: border-box;\n",
              "  text-align: center;\n",
              "  align-items: start;\n",
              "  justify-content: space-between;\n",
              "  gap: 0.5em;\n",
              "}\n",
              "\n",
              "#sk-container-id-2 label.sk-toggleable__label .caption {\n",
              "  font-size: 0.6rem;\n",
              "  font-weight: lighter;\n",
              "  color: var(--sklearn-color-text-muted);\n",
              "}\n",
              "\n",
              "#sk-container-id-2 label.sk-toggleable__label-arrow:before {\n",
              "  /* Arrow on the left of the label */\n",
              "  content: \"▸\";\n",
              "  float: left;\n",
              "  margin-right: 0.25em;\n",
              "  color: var(--sklearn-color-icon);\n",
              "}\n",
              "\n",
              "#sk-container-id-2 label.sk-toggleable__label-arrow:hover:before {\n",
              "  color: var(--sklearn-color-text);\n",
              "}\n",
              "\n",
              "/* Toggleable content - dropdown */\n",
              "\n",
              "#sk-container-id-2 div.sk-toggleable__content {\n",
              "  max-height: 0;\n",
              "  max-width: 0;\n",
              "  overflow: hidden;\n",
              "  text-align: left;\n",
              "  /* unfitted */\n",
              "  background-color: var(--sklearn-color-unfitted-level-0);\n",
              "}\n",
              "\n",
              "#sk-container-id-2 div.sk-toggleable__content.fitted {\n",
              "  /* fitted */\n",
              "  background-color: var(--sklearn-color-fitted-level-0);\n",
              "}\n",
              "\n",
              "#sk-container-id-2 div.sk-toggleable__content pre {\n",
              "  margin: 0.2em;\n",
              "  border-radius: 0.25em;\n",
              "  color: var(--sklearn-color-text);\n",
              "  /* unfitted */\n",
              "  background-color: var(--sklearn-color-unfitted-level-0);\n",
              "}\n",
              "\n",
              "#sk-container-id-2 div.sk-toggleable__content.fitted pre {\n",
              "  /* unfitted */\n",
              "  background-color: var(--sklearn-color-fitted-level-0);\n",
              "}\n",
              "\n",
              "#sk-container-id-2 input.sk-toggleable__control:checked~div.sk-toggleable__content {\n",
              "  /* Expand drop-down */\n",
              "  max-height: 200px;\n",
              "  max-width: 100%;\n",
              "  overflow: auto;\n",
              "}\n",
              "\n",
              "#sk-container-id-2 input.sk-toggleable__control:checked~label.sk-toggleable__label-arrow:before {\n",
              "  content: \"▾\";\n",
              "}\n",
              "\n",
              "/* Pipeline/ColumnTransformer-specific style */\n",
              "\n",
              "#sk-container-id-2 div.sk-label input.sk-toggleable__control:checked~label.sk-toggleable__label {\n",
              "  color: var(--sklearn-color-text);\n",
              "  background-color: var(--sklearn-color-unfitted-level-2);\n",
              "}\n",
              "\n",
              "#sk-container-id-2 div.sk-label.fitted input.sk-toggleable__control:checked~label.sk-toggleable__label {\n",
              "  background-color: var(--sklearn-color-fitted-level-2);\n",
              "}\n",
              "\n",
              "/* Estimator-specific style */\n",
              "\n",
              "/* Colorize estimator box */\n",
              "#sk-container-id-2 div.sk-estimator input.sk-toggleable__control:checked~label.sk-toggleable__label {\n",
              "  /* unfitted */\n",
              "  background-color: var(--sklearn-color-unfitted-level-2);\n",
              "}\n",
              "\n",
              "#sk-container-id-2 div.sk-estimator.fitted input.sk-toggleable__control:checked~label.sk-toggleable__label {\n",
              "  /* fitted */\n",
              "  background-color: var(--sklearn-color-fitted-level-2);\n",
              "}\n",
              "\n",
              "#sk-container-id-2 div.sk-label label.sk-toggleable__label,\n",
              "#sk-container-id-2 div.sk-label label {\n",
              "  /* The background is the default theme color */\n",
              "  color: var(--sklearn-color-text-on-default-background);\n",
              "}\n",
              "\n",
              "/* On hover, darken the color of the background */\n",
              "#sk-container-id-2 div.sk-label:hover label.sk-toggleable__label {\n",
              "  color: var(--sklearn-color-text);\n",
              "  background-color: var(--sklearn-color-unfitted-level-2);\n",
              "}\n",
              "\n",
              "/* Label box, darken color on hover, fitted */\n",
              "#sk-container-id-2 div.sk-label.fitted:hover label.sk-toggleable__label.fitted {\n",
              "  color: var(--sklearn-color-text);\n",
              "  background-color: var(--sklearn-color-fitted-level-2);\n",
              "}\n",
              "\n",
              "/* Estimator label */\n",
              "\n",
              "#sk-container-id-2 div.sk-label label {\n",
              "  font-family: monospace;\n",
              "  font-weight: bold;\n",
              "  display: inline-block;\n",
              "  line-height: 1.2em;\n",
              "}\n",
              "\n",
              "#sk-container-id-2 div.sk-label-container {\n",
              "  text-align: center;\n",
              "}\n",
              "\n",
              "/* Estimator-specific */\n",
              "#sk-container-id-2 div.sk-estimator {\n",
              "  font-family: monospace;\n",
              "  border: 1px dotted var(--sklearn-color-border-box);\n",
              "  border-radius: 0.25em;\n",
              "  box-sizing: border-box;\n",
              "  margin-bottom: 0.5em;\n",
              "  /* unfitted */\n",
              "  background-color: var(--sklearn-color-unfitted-level-0);\n",
              "}\n",
              "\n",
              "#sk-container-id-2 div.sk-estimator.fitted {\n",
              "  /* fitted */\n",
              "  background-color: var(--sklearn-color-fitted-level-0);\n",
              "}\n",
              "\n",
              "/* on hover */\n",
              "#sk-container-id-2 div.sk-estimator:hover {\n",
              "  /* unfitted */\n",
              "  background-color: var(--sklearn-color-unfitted-level-2);\n",
              "}\n",
              "\n",
              "#sk-container-id-2 div.sk-estimator.fitted:hover {\n",
              "  /* fitted */\n",
              "  background-color: var(--sklearn-color-fitted-level-2);\n",
              "}\n",
              "\n",
              "/* Specification for estimator info (e.g. \"i\" and \"?\") */\n",
              "\n",
              "/* Common style for \"i\" and \"?\" */\n",
              "\n",
              ".sk-estimator-doc-link,\n",
              "a:link.sk-estimator-doc-link,\n",
              "a:visited.sk-estimator-doc-link {\n",
              "  float: right;\n",
              "  font-size: smaller;\n",
              "  line-height: 1em;\n",
              "  font-family: monospace;\n",
              "  background-color: var(--sklearn-color-background);\n",
              "  border-radius: 1em;\n",
              "  height: 1em;\n",
              "  width: 1em;\n",
              "  text-decoration: none !important;\n",
              "  margin-left: 0.5em;\n",
              "  text-align: center;\n",
              "  /* unfitted */\n",
              "  border: var(--sklearn-color-unfitted-level-1) 1pt solid;\n",
              "  color: var(--sklearn-color-unfitted-level-1);\n",
              "}\n",
              "\n",
              ".sk-estimator-doc-link.fitted,\n",
              "a:link.sk-estimator-doc-link.fitted,\n",
              "a:visited.sk-estimator-doc-link.fitted {\n",
              "  /* fitted */\n",
              "  border: var(--sklearn-color-fitted-level-1) 1pt solid;\n",
              "  color: var(--sklearn-color-fitted-level-1);\n",
              "}\n",
              "\n",
              "/* On hover */\n",
              "div.sk-estimator:hover .sk-estimator-doc-link:hover,\n",
              ".sk-estimator-doc-link:hover,\n",
              "div.sk-label-container:hover .sk-estimator-doc-link:hover,\n",
              ".sk-estimator-doc-link:hover {\n",
              "  /* unfitted */\n",
              "  background-color: var(--sklearn-color-unfitted-level-3);\n",
              "  color: var(--sklearn-color-background);\n",
              "  text-decoration: none;\n",
              "}\n",
              "\n",
              "div.sk-estimator.fitted:hover .sk-estimator-doc-link.fitted:hover,\n",
              ".sk-estimator-doc-link.fitted:hover,\n",
              "div.sk-label-container:hover .sk-estimator-doc-link.fitted:hover,\n",
              ".sk-estimator-doc-link.fitted:hover {\n",
              "  /* fitted */\n",
              "  background-color: var(--sklearn-color-fitted-level-3);\n",
              "  color: var(--sklearn-color-background);\n",
              "  text-decoration: none;\n",
              "}\n",
              "\n",
              "/* Span, style for the box shown on hovering the info icon */\n",
              ".sk-estimator-doc-link span {\n",
              "  display: none;\n",
              "  z-index: 9999;\n",
              "  position: relative;\n",
              "  font-weight: normal;\n",
              "  right: .2ex;\n",
              "  padding: .5ex;\n",
              "  margin: .5ex;\n",
              "  width: min-content;\n",
              "  min-width: 20ex;\n",
              "  max-width: 50ex;\n",
              "  color: var(--sklearn-color-text);\n",
              "  box-shadow: 2pt 2pt 4pt #999;\n",
              "  /* unfitted */\n",
              "  background: var(--sklearn-color-unfitted-level-0);\n",
              "  border: .5pt solid var(--sklearn-color-unfitted-level-3);\n",
              "}\n",
              "\n",
              ".sk-estimator-doc-link.fitted span {\n",
              "  /* fitted */\n",
              "  background: var(--sklearn-color-fitted-level-0);\n",
              "  border: var(--sklearn-color-fitted-level-3);\n",
              "}\n",
              "\n",
              ".sk-estimator-doc-link:hover span {\n",
              "  display: block;\n",
              "}\n",
              "\n",
              "/* \"?\"-specific style due to the `<a>` HTML tag */\n",
              "\n",
              "#sk-container-id-2 a.estimator_doc_link {\n",
              "  float: right;\n",
              "  font-size: 1rem;\n",
              "  line-height: 1em;\n",
              "  font-family: monospace;\n",
              "  background-color: var(--sklearn-color-background);\n",
              "  border-radius: 1rem;\n",
              "  height: 1rem;\n",
              "  width: 1rem;\n",
              "  text-decoration: none;\n",
              "  /* unfitted */\n",
              "  color: var(--sklearn-color-unfitted-level-1);\n",
              "  border: var(--sklearn-color-unfitted-level-1) 1pt solid;\n",
              "}\n",
              "\n",
              "#sk-container-id-2 a.estimator_doc_link.fitted {\n",
              "  /* fitted */\n",
              "  border: var(--sklearn-color-fitted-level-1) 1pt solid;\n",
              "  color: var(--sklearn-color-fitted-level-1);\n",
              "}\n",
              "\n",
              "/* On hover */\n",
              "#sk-container-id-2 a.estimator_doc_link:hover {\n",
              "  /* unfitted */\n",
              "  background-color: var(--sklearn-color-unfitted-level-3);\n",
              "  color: var(--sklearn-color-background);\n",
              "  text-decoration: none;\n",
              "}\n",
              "\n",
              "#sk-container-id-2 a.estimator_doc_link.fitted:hover {\n",
              "  /* fitted */\n",
              "  background-color: var(--sklearn-color-fitted-level-3);\n",
              "}\n",
              "</style><div id=\"sk-container-id-2\" class=\"sk-top-container\"><div class=\"sk-text-repr-fallback\"><pre>Pipeline(steps=[(&#x27;simpleimputer&#x27;, SimpleImputer()),\n",
              "                (&#x27;linearregression&#x27;, LinearRegression())])</pre><b>In a Jupyter environment, please rerun this cell to show the HTML representation or trust the notebook. <br />On GitHub, the HTML representation is unable to render, please try loading this page with nbviewer.org.</b></div><div class=\"sk-container\" hidden><div class=\"sk-item sk-dashed-wrapped\"><div class=\"sk-label-container\"><div class=\"sk-label fitted sk-toggleable\"><input class=\"sk-toggleable__control sk-hidden--visually\" id=\"sk-estimator-id-2\" type=\"checkbox\" ><label for=\"sk-estimator-id-2\" class=\"sk-toggleable__label fitted sk-toggleable__label-arrow\"><div><div>Pipeline</div></div><div><a class=\"sk-estimator-doc-link fitted\" rel=\"noreferrer\" target=\"_blank\" href=\"https://scikit-learn.org/1.6/modules/generated/sklearn.pipeline.Pipeline.html\">?<span>Documentation for Pipeline</span></a><span class=\"sk-estimator-doc-link fitted\">i<span>Fitted</span></span></div></label><div class=\"sk-toggleable__content fitted\"><pre>Pipeline(steps=[(&#x27;simpleimputer&#x27;, SimpleImputer()),\n",
              "                (&#x27;linearregression&#x27;, LinearRegression())])</pre></div> </div></div><div class=\"sk-serial\"><div class=\"sk-item\"><div class=\"sk-estimator fitted sk-toggleable\"><input class=\"sk-toggleable__control sk-hidden--visually\" id=\"sk-estimator-id-3\" type=\"checkbox\" ><label for=\"sk-estimator-id-3\" class=\"sk-toggleable__label fitted sk-toggleable__label-arrow\"><div><div>SimpleImputer</div></div><div><a class=\"sk-estimator-doc-link fitted\" rel=\"noreferrer\" target=\"_blank\" href=\"https://scikit-learn.org/1.6/modules/generated/sklearn.impute.SimpleImputer.html\">?<span>Documentation for SimpleImputer</span></a></div></label><div class=\"sk-toggleable__content fitted\"><pre>SimpleImputer()</pre></div> </div></div><div class=\"sk-item\"><div class=\"sk-estimator fitted sk-toggleable\"><input class=\"sk-toggleable__control sk-hidden--visually\" id=\"sk-estimator-id-4\" type=\"checkbox\" ><label for=\"sk-estimator-id-4\" class=\"sk-toggleable__label fitted sk-toggleable__label-arrow\"><div><div>LinearRegression</div></div><div><a class=\"sk-estimator-doc-link fitted\" rel=\"noreferrer\" target=\"_blank\" href=\"https://scikit-learn.org/1.6/modules/generated/sklearn.linear_model.LinearRegression.html\">?<span>Documentation for LinearRegression</span></a></div></label><div class=\"sk-toggleable__content fitted\"><pre>LinearRegression()</pre></div> </div></div></div></div></div></div>"
            ]
          },
          "metadata": {},
          "execution_count": 25
        }
      ]
    },
    {
      "cell_type": "markdown",
      "source": [
        "EVALUATE"
      ],
      "metadata": {
        "id": "yiqU-tXojPdD"
      }
    },
    {
      "cell_type": "code",
      "source": [
        "#Generate predictions\n",
        "y_pred_training_location = model_location.predict(X_train_location)\n",
        "y_pred_training_location[:5]"
      ],
      "metadata": {
        "colab": {
          "base_uri": "https://localhost:8080/"
        },
        "id": "9nLlgcqBcquG",
        "outputId": "72faaf4d-cde9-4931-bad1-710074fd1fe9"
      },
      "execution_count": null,
      "outputs": [
        {
          "output_type": "execute_result",
          "data": {
            "text/plain": [
              "array([219989.98813236, 355752.58363336, 226643.64638615, 221269.93206397,\n",
              "       250420.44194412])"
            ]
          },
          "metadata": {},
          "execution_count": 26
        }
      ]
    },
    {
      "cell_type": "markdown",
      "source": [
        "MAE Training"
      ],
      "metadata": {
        "id": "jsarNCpsjSoX"
      }
    },
    {
      "cell_type": "code",
      "source": [
        "mae_training_location = mean_absolute_error(y_train_location, y_pred_training_location)\n",
        "mae_training_location"
      ],
      "metadata": {
        "colab": {
          "base_uri": "https://localhost:8080/"
        },
        "id": "5UpBOmmKc6aB",
        "outputId": "083789a8-4596-4f88-9e7d-0180d25d0c38"
      },
      "execution_count": null,
      "outputs": [
        {
          "output_type": "execute_result",
          "data": {
            "text/plain": [
              "115762.61314717871"
            ]
          },
          "metadata": {},
          "execution_count": 27
        }
      ]
    },
    {
      "cell_type": "markdown",
      "source": [
        "The location model is performing better than the baseline, which is exactly what should happen. The improvement (from 134k to 115k MAE)\n",
        "\n",
        "This confirms that apartments in different areas have systematically different prices\n",
        "\n",
        "Also confirms that \"lat\" and \"lon\" columns are not strong predictors as size is."
      ],
      "metadata": {
        "id": "-vJLJAVEixo1"
      }
    },
    {
      "cell_type": "markdown",
      "source": [
        "COMMUNICATING RESULTS"
      ],
      "metadata": {
        "id": "GQ_0h7fXj2eX"
      }
    },
    {
      "cell_type": "code",
      "source": [
        "#Extract Intercept and Coefficients and generating an equation\n",
        "intercept_location = model_location.named_steps[\"linearregression\"].intercept_\n",
        "print(\"intercept:\", round(intercept_location,2))\n",
        "coefficient_location = model_location.named_steps[\"linearregression\"].coef_\n",
        "print(\"coefficient:\", coefficient_location)\n",
        "print(f\"price_of_apt = {intercept} + ({coefficient}*longitude) + ({coefficient}*latitude)\")"
      ],
      "metadata": {
        "colab": {
          "base_uri": "https://localhost:8080/"
        },
        "id": "bBehmbVXdNUV",
        "outputId": "0cd5abc6-07be-44ab-e674-5115d850d17f"
      },
      "execution_count": null,
      "outputs": [
        {
          "output_type": "stream",
          "name": "stdout",
          "text": [
            "intercept: -144772603.0\n",
            "coefficient: [  568977.28626653 -1351021.65056644]\n",
            "price_of_apt = -9092.11 + (2045.34*longitude) + (2045.34*latitude)\n"
          ]
        }
      ]
    },
    {
      "cell_type": "markdown",
      "source": [
        "As you move North and East, the predicted apartment size increases"
      ],
      "metadata": {
        "id": "5VsYzbLhluT6"
      }
    },
    {
      "cell_type": "code",
      "source": [
        "#3D Scatter plot\n",
        "fig = px.scatter_3d(\n",
        "    df,\n",
        "    x = \"lat\",\n",
        "    y = \"lon\",\n",
        "    z = \"price_aprox_usd\",\n",
        "    labels = {\"lat\": \"latitude\", \"lon\":\"longitude\", \"price_aprox_usd\":\"price\"},\n",
        "    width = 600,\n",
        "    height = 600\n",
        ")\n",
        "#Refine Formatting\n",
        "fig.update_traces(\n",
        "    marker = {\"size\":4, \"line\":{\"width\":2, \"color\":\"DarkSlateGrey\"}},\n",
        "    selector = {\"mode\":\"markers\"}\n",
        ")\n",
        "fig.show()\n",
        "#Create x and y coordinates for model presentation\n",
        "x_plane = np.linspace(df[\"lat\"].min(), df[\"lat\"].max(),10)\n",
        "y_plane = np.linspace(df[\"lon\"].min(), df[\"lon\"].max(),10)\n",
        "xx, yy = np.meshgrid(x_plane, y_plane)\n",
        "#Use Model to predict z-coordinates\n",
        "z_plane = model_location.predict(pd.DataFrame({\"lat\": x_plane, \"lon\": y_plane}))\n",
        "zz = np.tile(z_plane, (10,1))"
      ],
      "metadata": {
        "colab": {
          "base_uri": "https://localhost:8080/",
          "height": 617
        },
        "id": "7BbDRqFzkYeV",
        "outputId": "80c79ca5-ca18-4b86-bdbc-57e1cca47e11"
      },
      "execution_count": null,
      "outputs": [
        {
          "output_type": "display_data",
          "data": {
            "text/html": [
              "<html>\n",
              "<head><meta charset=\"utf-8\" /></head>\n",
              "<body>\n",
              "    <div>            <script src=\"https://cdnjs.cloudflare.com/ajax/libs/mathjax/2.7.5/MathJax.js?config=TeX-AMS-MML_SVG\"></script><script type=\"text/javascript\">if (window.MathJax && window.MathJax.Hub && window.MathJax.Hub.Config) {window.MathJax.Hub.Config({SVG: {font: \"STIX-Web\"}});}</script>                <script type=\"text/javascript\">window.PlotlyConfig = {MathJaxConfig: 'local'};</script>\n",
              "        <script charset=\"utf-8\" src=\"https://cdn.plot.ly/plotly-2.35.2.min.js\"></script>                <div id=\"9104ccd4-4781-4914-9587-c9332fd83a01\" class=\"plotly-graph-div\" style=\"height:600px; width:600px;\"></div>            <script type=\"text/javascript\">                                    window.PLOTLYENV=window.PLOTLYENV || {};                                    if (document.getElementById(\"9104ccd4-4781-4914-9587-c9332fd83a01\")) {                    Plotly.newPlot(                        \"9104ccd4-4781-4914-9587-c9332fd83a01\",                        [{\"hovertemplate\":\"latitude=%{x}\\u003cbr\\u003elongitude=%{y}\\u003cbr\\u003eprice=%{z}\\u003cextra\\u003e\\u003c\\u002fextra\\u003e\",\"legendgroup\":\"\",\"marker\":{\"color\":\"#636efa\",\"symbol\":\"circle\",\"line\":{\"color\":\"DarkSlateGrey\",\"width\":2},\"size\":4},\"mode\":\"markers\",\"name\":\"\",\"scene\":\"scene\",\"showlegend\":false,\"x\":[19.3794059,19.390415,19.3753948137,19.394073,19.4169673,19.4553585442,19.3499358,19.3807458,19.4124708,19.4114169,19.3853063,19.3609784,19.39365,19.3392293,19.41498,19.3677299,19.365391,19.3714480121,19.420166,19.4306069,19.3864346,19.394358,19.394358,19.4097609,19.394358,19.3898619,19.3549174,19.358585,19.3703820187,19.3769448,19.2818221685,19.3943574,19.3499358,19.371342,19.3392293,19.461416,19.3023508,19.3747920646,19.320576,19.505199,19.3883217,19.3152718515,19.3634214999,19.4070717,19.3428273,19.3049333,19.3024064,19.3338880248,19.4032833,19.3825040623,19.381729,19.3596034,19.3503274,19.394358,19.3813197,19.3638234,19.4113101,19.2990233,19.400249,19.3577935962,19.3638234,19.3556628374,19.394358,19.2753576,19.3223015,19.343979,19.3815906,19.394358,19.3755039,19.3865508,19.407682,19.3108788,19.39912,19.390415,19.3619852,19.4425711213,19.3668017,19.394358,19.3437444,19.3756773,19.432657,19.4959960885,19.3803931,19.4482164,19.4306069,19.2990233,19.3499358,19.3499358,19.364967,19.323066,19.2990233,19.2963742,19.41498,19.3628631,19.381729,19.3865940087,19.2963762,19.516777,19.4195256,19.3794059,19.4503249,19.3302564,19.4024797,19.2990233,19.3753973563,19.3499358,19.392978,19.3737616972,19.3928136,19.392937,19.39365,19.390415,19.3847719,19.3036292,19.3845952529,19.487856,19.4302678,19.3499358,19.3776513,19.442791,19.420166,19.3445052,19.3631419,19.347138,19.4306069,19.3815495,19.2790911,19.3594791,19.4149803,19.342083,19.5290566,19.4594892,19.430456,19.3018442,19.4809432,19.3349552,19.4126915168,19.3499358,19.3680133,19.381729,19.5029542,19.3447,19.409369,19.3934821,19.394073,19.3499358,19.3810000272,19.341894,19.341894,19.4340199,19.3701781,19.4032833,19.392937,19.2790911,19.381729,19.3320226,19.4101579796,19.4306069,19.308076,19.3605334,19.400249,19.3668017,19.4201028,19.3585224004,19.3499706,19.433173,19.2990233,19.309208,19.3679526,19.4372822,19.4280794,19.4673105,19.4347155,19.3670983,19.3341208717,19.4396219801,19.431252,19.4025564,19.552402,19.4259971,19.4301322,19.3774517,19.4032833,19.3606908,19.3609365412,19.4001854,19.444606,19.2990233,19.443178,19.3814836,19.3499358,19.3670983,19.375412,19.394358,19.2990233,19.3340701,19.512787,19.376822,19.367424,19.3872626,19.4306069,19.3404477,19.3627981,19.392937,19.367424,19.361269,19.392937,19.417364,19.4158245484,19.390415,19.381259203,19.2990233,19.417364,19.4526892,19.33923,19.3638234,19.378786,19.3246591,19.3499358,19.392937,19.396593,19.392349,19.399689,19.4157341697,19.359984,19.381729,19.430456,19.3023717,19.3564335,19.3814504,19.3697678418,19.3033001,19.3807458,19.394358,19.3723335,19.394073,19.2672863,19.3499358,19.4306069,19.39365,19.390415,19.331932,19.4348398,19.3908165,19.381729,19.4336444,19.2990233,19.382727579,19.4752953603,19.4195256,19.380747,19.4374999,19.3605334,19.3358468,19.3797151,19.4068945,19.430132,19.3894263,19.387764,19.33923,19.392937,19.3872626,19.3582744,19.3631419,19.3038226746,19.3906898041,19.334220844,19.400249,19.3627249,19.3648588111,19.335419,19.471135,19.3638234,19.384622452,19.364891,19.3862785,19.4080873559,19.401079,19.39365,19.3499358,19.3905245,19.3704998,19.3733676,19.4512044,19.4380266,19.394073,19.3066442,19.3539321,19.390415],\"y\":[-99.1591446,-99.254997,-99.1657587614,-99.153915,-99.1658498,-99.1632923484,-99.2906864,-99.1553016,-99.1717827,-99.1739405,-99.1521292,-99.2084005,-99.14769,-99.2189838,-99.177444,-99.1527773,-99.18956,-99.149787426,-99.220367,-99.0949899,-99.1594925,-99.177444,-99.177444,-99.1686282,-99.177444,-99.1674138,-99.0993735,-99.185753,-99.1493282287,-99.1651109,-99.1876426712,-99.1774462,-99.2906864,-99.253616,-99.2189838,-99.133163,-99.1679459,-99.137270786,-99.20929,-99.155991,-99.1862188,-99.1075855494,-99.2763233185,-99.1621603,-99.1522157,-99.1836755,-99.2018433,-99.151327014,-99.1821858,-99.1580399126,-99.164986,-99.1514055,-99.2989735,-99.177444,-99.1996895,-99.1444714,-99.064722,-99.0436467,-99.177444,-99.2744779587,-99.1444714,-99.2753872275,-99.177444,-99.1675547,-99.1035542,-99.124863,-99.1653974,-99.177444,-99.1630337,-99.1937082,-99.172042,-99.1386972,-99.141464,-99.254997,-99.2663861,-99.2028173804,-99.1724994,-99.177444,-99.1561883,-99.1546074,-99.177444,-99.2017929554,-99.1476908,-99.1589625,-99.0949899,-99.0436467,-99.2906864,-99.2906864,-99.1428406,-99.1393153,-99.0436467,-99.1186279,-99.177444,-99.1739857,-99.164986,-99.1936147213,-99.1781383,-99.160149,-99.162549,-99.1591446,-99.1351802,-99.2575527,-99.1565217,-99.0436467,-99.1734831344,-99.2906864,-99.1760298,-99.1773503087,-99.1738213,-99.263313,-99.14769,-99.254997,-99.1664667,-99.2239303,-99.1984791771,-99.0909786,-99.1373136,-99.2906864,-99.1284592,-99.124128,-99.220367,-99.2738167,-99.2880597,-99.2561697,-99.0949899,-99.1694434,-99.2114234,-99.2707271,-99.1774462,-99.0532159,-99.1359301,-99.1221422,-99.1889121,-99.140989,-99.1274918,-99.2233579,-99.1277845949,-99.2906864,-99.1621111,-99.164986,-99.122192,-99.212753,-99.171906,-99.137825,-99.153915,-99.2906864,-99.2948520184,-99.224525,-99.224525,-99.1956012,-99.1893281,-99.1821858,-99.263313,-99.2114234,-99.164986,-99.2446842,-99.1711270809,-99.0949899,-99.167762,-99.2267067,-99.177444,-99.1724994,-99.1712969,-99.2721176147,-99.3014315,-99.1863574,-99.0436467,-99.171906,-99.2983107,-99.2124468,-99.164609,-99.1331631,-99.1699933,-99.1624422,-99.2402824759,-99.1828966141,-99.146999,-99.1461089,-99.142799,-99.224352,-99.1691413,-99.1641013,-99.1821858,-99.2023662,-99.1633604933,-99.1729456,-99.1740457,-99.0436467,-99.20237,-99.1654942,-99.2906864,-99.1624422,-99.144234,-99.177444,-99.0436467,-99.0712814,-99.141393,-99.174675,-99.185753,-99.1754024,-99.0949899,-99.1297322,-99.2650096,-99.263313,-99.185753,-99.1719297,-99.263313,-99.159454,-99.1765344143,-99.254997,-99.1038592905,-99.0436467,-99.159454,-99.1179867,-99.218987,-99.1444714,-99.208595,-99.140855,-99.2906864,-99.263313,-99.133163,-99.07093,-99.188522,-99.155623791,-99.1580693,-99.164986,-99.1889121,-99.167894,-99.1988448,-99.1919122,-99.1392753126,-99.2310901,-99.1553016,-99.177444,-99.1905974,-99.153915,-99.1659764,-99.2906864,-99.0949899,-99.14769,-99.254997,-99.246689,-99.1521771,-99.1466355,-99.164986,-99.1901467,-99.0436467,-99.1582889556,-99.1893056412,-99.162549,-99.155304,-99.1873839,-99.2267067,-99.1479328,-99.1677132,-99.1237906,-99.169144,-99.2651278,-99.176758,-99.218987,-99.263313,-99.1754024,-99.2723517,-99.2880597,-99.2213702202,-99.1795009375,-99.2409738153,-99.177444,-99.1755287,-99.1634988785,-99.119331,-99.1595701,-99.1444714,-99.1519181058,-99.148384,-99.24329,-99.1828288883,-99.24807,-99.14769,-99.2906864,-99.1797506,-99.1393889,-99.1337252,-99.1536306,-99.1885632,-99.153915,-99.210077,-99.291726,-99.254997],\"z\":[172446.86,553339.27,492618.62,155425.12,258224.99,99530.03,147557.13,154724.19,213430.86,421591.82,223970.65,334559.17,157690.64,252895.12,289844.37,158059.45,139968.48,184446.42,625000.0,117735.94,426861.72,473816.51,233851.71,368892.84,226605.6,131747.44,55333.92,225504.19,142287.24,458372.4,36889.28,230821.52,163366.83,332836.85,187081.37,39524.23,374337.46,163366.83,516449.98,31619.38,57968.87,99074.07,474178.35,331924.84,189716.32,287209.43,263494.89,131418.07,340345.2,137017.34,444726.6,150830.86,269180.16,310729.14,190122.1,135057.59,50327.52,83180.59,242415.29,654457.8,162123.24,521719.88,270951.79,173643.13,44497.91,115937.75,300911.16,430866.84,192305.66,86584.42,151567.64,177068.56,177068.56,574418.86,685086.71,652936.65,237089.17,309553.79,65858.1,205526.01,389972.43,28825.02,146219.53,189610.92,36889.28,79566.6,152827.03,163366.83,182597.74,171271.67,83160.87,65873.72,295114.27,202891.06,283425.64,86689.81,262440.91,63238.77,316193.86,110825.95,79029.72,313558.92,240250.36,82138.73,339908.4,163366.83,319830.09,183919.43,563879.06,519594.1,155288.07,463641.05,94858.16,326733.66,121178.91,43202.91,51381.5,168596.74,105397.95,35185.34,420000.0,337273.46,289844.37,526812.37,117735.94,432342.41,152827.03,563615.57,295114.27,52574.87,147522.15,33787.84,455846.16,131189.34,118572.7,205526.01,45584.61,163366.83,204054.75,89588.26,131747.44,326656.19,447941.31,102763.0,386283.5,163328.09,229240.55,140056.47,171113.58,520000.0,168636.73,213216.9,316193.86,130988.58,447941.31,179176.52,410954.57,38206.75,43176.57,165435.55,181811.47,211059.4,520522.86,558609.16,324098.71,657303.92,54949.68,43202.91,108913.49,507107.4,374074.03,184402.69,544778.24,149734.98,279238.36,252955.09,39524.23,269818.76,535368.91,579688.75,463751.0,432131.62,218486.8,313242.72,284574.48,226605.6,45837.24,54933.04,418956.87,240619.17,147557.13,135035.86,225520.8,303782.83,54949.68,67191.19,75783.82,679816.81,175972.85,242415.29,119229.96,167582.75,424302.13,142287.24,201837.08,298776.85,475000.0,259584.62,421591.82,558609.16,43213.16,79566.6,376708.35,92201.34,187037.01,124231.33,63238.77,94858.16,152827.03,592358.0,447835.11,67981.68,28984.43,362305.47,152827.03,437401.51,611308.14,222600.39,546119.51,123813.23,102763.0,168636.73,165105.89,303783.2,118309.2,200256.11,49638.57,168636.73,151073.1,116728.23,590228.55,247158.2,395242.33,174291.33,280977.01,579688.75,86383.21,221283.23,71126.75,258224.99,210795.91,368805.38,658737.22,144387.3,184446.42,105134.46,189663.62,632387.73,267463.12,231612.0,144922.18,190770.3,311176.92,621847.94,445200.78,113624.79,287736.42,204472.03,263432.41,416321.92,50901.94,100209.69,140470.72,205526.01,150830.86,179134.04,629415.51,534894.62,262905.55,147557.13,92367.6,105318.9,128892.1,105397.95,289844.37,268764.78,379342.68,168636.73,680000.0],\"type\":\"scatter3d\"}],                        {\"template\":{\"data\":{\"histogram2dcontour\":[{\"type\":\"histogram2dcontour\",\"colorbar\":{\"outlinewidth\":0,\"ticks\":\"\"},\"colorscale\":[[0.0,\"#0d0887\"],[0.1111111111111111,\"#46039f\"],[0.2222222222222222,\"#7201a8\"],[0.3333333333333333,\"#9c179e\"],[0.4444444444444444,\"#bd3786\"],[0.5555555555555556,\"#d8576b\"],[0.6666666666666666,\"#ed7953\"],[0.7777777777777778,\"#fb9f3a\"],[0.8888888888888888,\"#fdca26\"],[1.0,\"#f0f921\"]]}],\"choropleth\":[{\"type\":\"choropleth\",\"colorbar\":{\"outlinewidth\":0,\"ticks\":\"\"}}],\"histogram2d\":[{\"type\":\"histogram2d\",\"colorbar\":{\"outlinewidth\":0,\"ticks\":\"\"},\"colorscale\":[[0.0,\"#0d0887\"],[0.1111111111111111,\"#46039f\"],[0.2222222222222222,\"#7201a8\"],[0.3333333333333333,\"#9c179e\"],[0.4444444444444444,\"#bd3786\"],[0.5555555555555556,\"#d8576b\"],[0.6666666666666666,\"#ed7953\"],[0.7777777777777778,\"#fb9f3a\"],[0.8888888888888888,\"#fdca26\"],[1.0,\"#f0f921\"]]}],\"heatmap\":[{\"type\":\"heatmap\",\"colorbar\":{\"outlinewidth\":0,\"ticks\":\"\"},\"colorscale\":[[0.0,\"#0d0887\"],[0.1111111111111111,\"#46039f\"],[0.2222222222222222,\"#7201a8\"],[0.3333333333333333,\"#9c179e\"],[0.4444444444444444,\"#bd3786\"],[0.5555555555555556,\"#d8576b\"],[0.6666666666666666,\"#ed7953\"],[0.7777777777777778,\"#fb9f3a\"],[0.8888888888888888,\"#fdca26\"],[1.0,\"#f0f921\"]]}],\"heatmapgl\":[{\"type\":\"heatmapgl\",\"colorbar\":{\"outlinewidth\":0,\"ticks\":\"\"},\"colorscale\":[[0.0,\"#0d0887\"],[0.1111111111111111,\"#46039f\"],[0.2222222222222222,\"#7201a8\"],[0.3333333333333333,\"#9c179e\"],[0.4444444444444444,\"#bd3786\"],[0.5555555555555556,\"#d8576b\"],[0.6666666666666666,\"#ed7953\"],[0.7777777777777778,\"#fb9f3a\"],[0.8888888888888888,\"#fdca26\"],[1.0,\"#f0f921\"]]}],\"contourcarpet\":[{\"type\":\"contourcarpet\",\"colorbar\":{\"outlinewidth\":0,\"ticks\":\"\"}}],\"contour\":[{\"type\":\"contour\",\"colorbar\":{\"outlinewidth\":0,\"ticks\":\"\"},\"colorscale\":[[0.0,\"#0d0887\"],[0.1111111111111111,\"#46039f\"],[0.2222222222222222,\"#7201a8\"],[0.3333333333333333,\"#9c179e\"],[0.4444444444444444,\"#bd3786\"],[0.5555555555555556,\"#d8576b\"],[0.6666666666666666,\"#ed7953\"],[0.7777777777777778,\"#fb9f3a\"],[0.8888888888888888,\"#fdca26\"],[1.0,\"#f0f921\"]]}],\"surface\":[{\"type\":\"surface\",\"colorbar\":{\"outlinewidth\":0,\"ticks\":\"\"},\"colorscale\":[[0.0,\"#0d0887\"],[0.1111111111111111,\"#46039f\"],[0.2222222222222222,\"#7201a8\"],[0.3333333333333333,\"#9c179e\"],[0.4444444444444444,\"#bd3786\"],[0.5555555555555556,\"#d8576b\"],[0.6666666666666666,\"#ed7953\"],[0.7777777777777778,\"#fb9f3a\"],[0.8888888888888888,\"#fdca26\"],[1.0,\"#f0f921\"]]}],\"mesh3d\":[{\"type\":\"mesh3d\",\"colorbar\":{\"outlinewidth\":0,\"ticks\":\"\"}}],\"scatter\":[{\"fillpattern\":{\"fillmode\":\"overlay\",\"size\":10,\"solidity\":0.2},\"type\":\"scatter\"}],\"parcoords\":[{\"type\":\"parcoords\",\"line\":{\"colorbar\":{\"outlinewidth\":0,\"ticks\":\"\"}}}],\"scatterpolargl\":[{\"type\":\"scatterpolargl\",\"marker\":{\"colorbar\":{\"outlinewidth\":0,\"ticks\":\"\"}}}],\"bar\":[{\"error_x\":{\"color\":\"#2a3f5f\"},\"error_y\":{\"color\":\"#2a3f5f\"},\"marker\":{\"line\":{\"color\":\"#E5ECF6\",\"width\":0.5},\"pattern\":{\"fillmode\":\"overlay\",\"size\":10,\"solidity\":0.2}},\"type\":\"bar\"}],\"scattergeo\":[{\"type\":\"scattergeo\",\"marker\":{\"colorbar\":{\"outlinewidth\":0,\"ticks\":\"\"}}}],\"scatterpolar\":[{\"type\":\"scatterpolar\",\"marker\":{\"colorbar\":{\"outlinewidth\":0,\"ticks\":\"\"}}}],\"histogram\":[{\"marker\":{\"pattern\":{\"fillmode\":\"overlay\",\"size\":10,\"solidity\":0.2}},\"type\":\"histogram\"}],\"scattergl\":[{\"type\":\"scattergl\",\"marker\":{\"colorbar\":{\"outlinewidth\":0,\"ticks\":\"\"}}}],\"scatter3d\":[{\"type\":\"scatter3d\",\"line\":{\"colorbar\":{\"outlinewidth\":0,\"ticks\":\"\"}},\"marker\":{\"colorbar\":{\"outlinewidth\":0,\"ticks\":\"\"}}}],\"scattermapbox\":[{\"type\":\"scattermapbox\",\"marker\":{\"colorbar\":{\"outlinewidth\":0,\"ticks\":\"\"}}}],\"scatterternary\":[{\"type\":\"scatterternary\",\"marker\":{\"colorbar\":{\"outlinewidth\":0,\"ticks\":\"\"}}}],\"scattercarpet\":[{\"type\":\"scattercarpet\",\"marker\":{\"colorbar\":{\"outlinewidth\":0,\"ticks\":\"\"}}}],\"carpet\":[{\"aaxis\":{\"endlinecolor\":\"#2a3f5f\",\"gridcolor\":\"white\",\"linecolor\":\"white\",\"minorgridcolor\":\"white\",\"startlinecolor\":\"#2a3f5f\"},\"baxis\":{\"endlinecolor\":\"#2a3f5f\",\"gridcolor\":\"white\",\"linecolor\":\"white\",\"minorgridcolor\":\"white\",\"startlinecolor\":\"#2a3f5f\"},\"type\":\"carpet\"}],\"table\":[{\"cells\":{\"fill\":{\"color\":\"#EBF0F8\"},\"line\":{\"color\":\"white\"}},\"header\":{\"fill\":{\"color\":\"#C8D4E3\"},\"line\":{\"color\":\"white\"}},\"type\":\"table\"}],\"barpolar\":[{\"marker\":{\"line\":{\"color\":\"#E5ECF6\",\"width\":0.5},\"pattern\":{\"fillmode\":\"overlay\",\"size\":10,\"solidity\":0.2}},\"type\":\"barpolar\"}],\"pie\":[{\"automargin\":true,\"type\":\"pie\"}]},\"layout\":{\"autotypenumbers\":\"strict\",\"colorway\":[\"#636efa\",\"#EF553B\",\"#00cc96\",\"#ab63fa\",\"#FFA15A\",\"#19d3f3\",\"#FF6692\",\"#B6E880\",\"#FF97FF\",\"#FECB52\"],\"font\":{\"color\":\"#2a3f5f\"},\"hovermode\":\"closest\",\"hoverlabel\":{\"align\":\"left\"},\"paper_bgcolor\":\"white\",\"plot_bgcolor\":\"#E5ECF6\",\"polar\":{\"bgcolor\":\"#E5ECF6\",\"angularaxis\":{\"gridcolor\":\"white\",\"linecolor\":\"white\",\"ticks\":\"\"},\"radialaxis\":{\"gridcolor\":\"white\",\"linecolor\":\"white\",\"ticks\":\"\"}},\"ternary\":{\"bgcolor\":\"#E5ECF6\",\"aaxis\":{\"gridcolor\":\"white\",\"linecolor\":\"white\",\"ticks\":\"\"},\"baxis\":{\"gridcolor\":\"white\",\"linecolor\":\"white\",\"ticks\":\"\"},\"caxis\":{\"gridcolor\":\"white\",\"linecolor\":\"white\",\"ticks\":\"\"}},\"coloraxis\":{\"colorbar\":{\"outlinewidth\":0,\"ticks\":\"\"}},\"colorscale\":{\"sequential\":[[0.0,\"#0d0887\"],[0.1111111111111111,\"#46039f\"],[0.2222222222222222,\"#7201a8\"],[0.3333333333333333,\"#9c179e\"],[0.4444444444444444,\"#bd3786\"],[0.5555555555555556,\"#d8576b\"],[0.6666666666666666,\"#ed7953\"],[0.7777777777777778,\"#fb9f3a\"],[0.8888888888888888,\"#fdca26\"],[1.0,\"#f0f921\"]],\"sequentialminus\":[[0.0,\"#0d0887\"],[0.1111111111111111,\"#46039f\"],[0.2222222222222222,\"#7201a8\"],[0.3333333333333333,\"#9c179e\"],[0.4444444444444444,\"#bd3786\"],[0.5555555555555556,\"#d8576b\"],[0.6666666666666666,\"#ed7953\"],[0.7777777777777778,\"#fb9f3a\"],[0.8888888888888888,\"#fdca26\"],[1.0,\"#f0f921\"]],\"diverging\":[[0,\"#8e0152\"],[0.1,\"#c51b7d\"],[0.2,\"#de77ae\"],[0.3,\"#f1b6da\"],[0.4,\"#fde0ef\"],[0.5,\"#f7f7f7\"],[0.6,\"#e6f5d0\"],[0.7,\"#b8e186\"],[0.8,\"#7fbc41\"],[0.9,\"#4d9221\"],[1,\"#276419\"]]},\"xaxis\":{\"gridcolor\":\"white\",\"linecolor\":\"white\",\"ticks\":\"\",\"title\":{\"standoff\":15},\"zerolinecolor\":\"white\",\"automargin\":true,\"zerolinewidth\":2},\"yaxis\":{\"gridcolor\":\"white\",\"linecolor\":\"white\",\"ticks\":\"\",\"title\":{\"standoff\":15},\"zerolinecolor\":\"white\",\"automargin\":true,\"zerolinewidth\":2},\"scene\":{\"xaxis\":{\"backgroundcolor\":\"#E5ECF6\",\"gridcolor\":\"white\",\"linecolor\":\"white\",\"showbackground\":true,\"ticks\":\"\",\"zerolinecolor\":\"white\",\"gridwidth\":2},\"yaxis\":{\"backgroundcolor\":\"#E5ECF6\",\"gridcolor\":\"white\",\"linecolor\":\"white\",\"showbackground\":true,\"ticks\":\"\",\"zerolinecolor\":\"white\",\"gridwidth\":2},\"zaxis\":{\"backgroundcolor\":\"#E5ECF6\",\"gridcolor\":\"white\",\"linecolor\":\"white\",\"showbackground\":true,\"ticks\":\"\",\"zerolinecolor\":\"white\",\"gridwidth\":2}},\"shapedefaults\":{\"line\":{\"color\":\"#2a3f5f\"}},\"annotationdefaults\":{\"arrowcolor\":\"#2a3f5f\",\"arrowhead\":0,\"arrowwidth\":1},\"geo\":{\"bgcolor\":\"white\",\"landcolor\":\"#E5ECF6\",\"subunitcolor\":\"white\",\"showland\":true,\"showlakes\":true,\"lakecolor\":\"white\"},\"title\":{\"x\":0.05},\"mapbox\":{\"style\":\"light\"}}},\"scene\":{\"domain\":{\"x\":[0.0,1.0],\"y\":[0.0,1.0]},\"xaxis\":{\"title\":{\"text\":\"latitude\"}},\"yaxis\":{\"title\":{\"text\":\"longitude\"}},\"zaxis\":{\"title\":{\"text\":\"price\"}}},\"legend\":{\"tracegroupgap\":0},\"margin\":{\"t\":60},\"height\":600,\"width\":600},                        {\"responsive\": true}                    ).then(function(){\n",
              "                            \n",
              "var gd = document.getElementById('9104ccd4-4781-4914-9587-c9332fd83a01');\n",
              "var x = new MutationObserver(function (mutations, observer) {{\n",
              "        var display = window.getComputedStyle(gd).display;\n",
              "        if (!display || display === 'none') {{\n",
              "            console.log([gd, 'removed!']);\n",
              "            Plotly.purge(gd);\n",
              "            observer.disconnect();\n",
              "        }}\n",
              "}});\n",
              "\n",
              "// Listen for the removal of the full notebook cells\n",
              "var notebookContainer = gd.closest('#notebook-container');\n",
              "if (notebookContainer) {{\n",
              "    x.observe(notebookContainer, {childList: true});\n",
              "}}\n",
              "\n",
              "// Listen for the clearing of the current output cell\n",
              "var outputEl = gd.closest('.output');\n",
              "if (outputEl) {{\n",
              "    x.observe(outputEl, {childList: true});\n",
              "}}\n",
              "\n",
              "                        })                };                            </script>        </div>\n",
              "</body>\n",
              "</html>"
            ]
          },
          "metadata": {}
        }
      ]
    },
    {
      "cell_type": "code",
      "source": [
        "# 3D Scatter plot\n",
        "fig = px.scatter_3d(\n",
        "    df,\n",
        "    x=\"lat\",\n",
        "    y=\"lon\",\n",
        "    z=\"price_aprox_usd\",\n",
        "    labels={\"lat\": \"latitude\", \"lon\":\"longitude\", \"price_aprox_usd\":\"price\"},\n",
        "    width=600,\n",
        "    height=600\n",
        ")\n",
        "\n",
        "# Refine Formatting\n",
        "fig.update_traces(\n",
        "    marker={\"size\":4, \"line\":{\"width\":2, \"color\":\"DarkSlateGrey\"}},\n",
        "    selector={\"mode\":\"markers\"}\n",
        ")\n",
        "\n",
        "# Create x and y coordinates for model presentation\n",
        "x_plane = np.linspace(df[\"lat\"].min(), df[\"lat\"].max(), 10)\n",
        "y_plane = np.linspace(df[\"lon\"].min(), df[\"lon\"].max(), 10)\n",
        "xx, yy = np.meshgrid(x_plane, y_plane)\n",
        "\n",
        "# Use Model to predict z-coordinates\n",
        "# First, create a proper DataFrame with all combinations\n",
        "xy_combined = np.column_stack([xx.ravel(), yy.ravel()])\n",
        "z_plane = model_location.predict(pd.DataFrame(xy_combined, columns=[\"lat\", \"lon\"]))\n",
        "zz = z_plane.reshape(xx.shape)  # Reshape to match the grid\n",
        "\n",
        "# Add the plane to the plot\n",
        "fig.add_trace(go.Surface(x=xx, y=yy, z=zz, opacity=0.5, colorscale='Blues'))\n",
        "\n",
        "fig.show()"
      ],
      "metadata": {
        "colab": {
          "base_uri": "https://localhost:8080/",
          "height": 617
        },
        "id": "Z44m1DrmnLix",
        "outputId": "573427ae-aa2f-4c44-d985-0392b012348d"
      },
      "execution_count": null,
      "outputs": [
        {
          "output_type": "display_data",
          "data": {
            "text/html": [
              "<html>\n",
              "<head><meta charset=\"utf-8\" /></head>\n",
              "<body>\n",
              "    <div>            <script src=\"https://cdnjs.cloudflare.com/ajax/libs/mathjax/2.7.5/MathJax.js?config=TeX-AMS-MML_SVG\"></script><script type=\"text/javascript\">if (window.MathJax && window.MathJax.Hub && window.MathJax.Hub.Config) {window.MathJax.Hub.Config({SVG: {font: \"STIX-Web\"}});}</script>                <script type=\"text/javascript\">window.PlotlyConfig = {MathJaxConfig: 'local'};</script>\n",
              "        <script charset=\"utf-8\" src=\"https://cdn.plot.ly/plotly-2.35.2.min.js\"></script>                <div id=\"7bb6aebb-51cc-42c3-99a4-db51e97e79e1\" class=\"plotly-graph-div\" style=\"height:600px; width:600px;\"></div>            <script type=\"text/javascript\">                                    window.PLOTLYENV=window.PLOTLYENV || {};                                    if (document.getElementById(\"7bb6aebb-51cc-42c3-99a4-db51e97e79e1\")) {                    Plotly.newPlot(                        \"7bb6aebb-51cc-42c3-99a4-db51e97e79e1\",                        [{\"hovertemplate\":\"latitude=%{x}\\u003cbr\\u003elongitude=%{y}\\u003cbr\\u003eprice=%{z}\\u003cextra\\u003e\\u003c\\u002fextra\\u003e\",\"legendgroup\":\"\",\"marker\":{\"color\":\"#636efa\",\"symbol\":\"circle\",\"line\":{\"color\":\"DarkSlateGrey\",\"width\":2},\"size\":4},\"mode\":\"markers\",\"name\":\"\",\"scene\":\"scene\",\"showlegend\":false,\"x\":[19.3794059,19.390415,19.3753948137,19.394073,19.4169673,19.4553585442,19.3499358,19.3807458,19.4124708,19.4114169,19.3853063,19.3609784,19.39365,19.3392293,19.41498,19.3677299,19.365391,19.3714480121,19.420166,19.4306069,19.3864346,19.394358,19.394358,19.4097609,19.394358,19.3898619,19.3549174,19.358585,19.3703820187,19.3769448,19.2818221685,19.3943574,19.3499358,19.371342,19.3392293,19.461416,19.3023508,19.3747920646,19.320576,19.505199,19.3883217,19.3152718515,19.3634214999,19.4070717,19.3428273,19.3049333,19.3024064,19.3338880248,19.4032833,19.3825040623,19.381729,19.3596034,19.3503274,19.394358,19.3813197,19.3638234,19.4113101,19.2990233,19.400249,19.3577935962,19.3638234,19.3556628374,19.394358,19.2753576,19.3223015,19.343979,19.3815906,19.394358,19.3755039,19.3865508,19.407682,19.3108788,19.39912,19.390415,19.3619852,19.4425711213,19.3668017,19.394358,19.3437444,19.3756773,19.432657,19.4959960885,19.3803931,19.4482164,19.4306069,19.2990233,19.3499358,19.3499358,19.364967,19.323066,19.2990233,19.2963742,19.41498,19.3628631,19.381729,19.3865940087,19.2963762,19.516777,19.4195256,19.3794059,19.4503249,19.3302564,19.4024797,19.2990233,19.3753973563,19.3499358,19.392978,19.3737616972,19.3928136,19.392937,19.39365,19.390415,19.3847719,19.3036292,19.3845952529,19.487856,19.4302678,19.3499358,19.3776513,19.442791,19.420166,19.3445052,19.3631419,19.347138,19.4306069,19.3815495,19.2790911,19.3594791,19.4149803,19.342083,19.5290566,19.4594892,19.430456,19.3018442,19.4809432,19.3349552,19.4126915168,19.3499358,19.3680133,19.381729,19.5029542,19.3447,19.409369,19.3934821,19.394073,19.3499358,19.3810000272,19.341894,19.341894,19.4340199,19.3701781,19.4032833,19.392937,19.2790911,19.381729,19.3320226,19.4101579796,19.4306069,19.308076,19.3605334,19.400249,19.3668017,19.4201028,19.3585224004,19.3499706,19.433173,19.2990233,19.309208,19.3679526,19.4372822,19.4280794,19.4673105,19.4347155,19.3670983,19.3341208717,19.4396219801,19.431252,19.4025564,19.552402,19.4259971,19.4301322,19.3774517,19.4032833,19.3606908,19.3609365412,19.4001854,19.444606,19.2990233,19.443178,19.3814836,19.3499358,19.3670983,19.375412,19.394358,19.2990233,19.3340701,19.512787,19.376822,19.367424,19.3872626,19.4306069,19.3404477,19.3627981,19.392937,19.367424,19.361269,19.392937,19.417364,19.4158245484,19.390415,19.381259203,19.2990233,19.417364,19.4526892,19.33923,19.3638234,19.378786,19.3246591,19.3499358,19.392937,19.396593,19.392349,19.399689,19.4157341697,19.359984,19.381729,19.430456,19.3023717,19.3564335,19.3814504,19.3697678418,19.3033001,19.3807458,19.394358,19.3723335,19.394073,19.2672863,19.3499358,19.4306069,19.39365,19.390415,19.331932,19.4348398,19.3908165,19.381729,19.4336444,19.2990233,19.382727579,19.4752953603,19.4195256,19.380747,19.4374999,19.3605334,19.3358468,19.3797151,19.4068945,19.430132,19.3894263,19.387764,19.33923,19.392937,19.3872626,19.3582744,19.3631419,19.3038226746,19.3906898041,19.334220844,19.400249,19.3627249,19.3648588111,19.335419,19.471135,19.3638234,19.384622452,19.364891,19.3862785,19.4080873559,19.401079,19.39365,19.3499358,19.3905245,19.3704998,19.3733676,19.4512044,19.4380266,19.394073,19.3066442,19.3539321,19.390415],\"y\":[-99.1591446,-99.254997,-99.1657587614,-99.153915,-99.1658498,-99.1632923484,-99.2906864,-99.1553016,-99.1717827,-99.1739405,-99.1521292,-99.2084005,-99.14769,-99.2189838,-99.177444,-99.1527773,-99.18956,-99.149787426,-99.220367,-99.0949899,-99.1594925,-99.177444,-99.177444,-99.1686282,-99.177444,-99.1674138,-99.0993735,-99.185753,-99.1493282287,-99.1651109,-99.1876426712,-99.1774462,-99.2906864,-99.253616,-99.2189838,-99.133163,-99.1679459,-99.137270786,-99.20929,-99.155991,-99.1862188,-99.1075855494,-99.2763233185,-99.1621603,-99.1522157,-99.1836755,-99.2018433,-99.151327014,-99.1821858,-99.1580399126,-99.164986,-99.1514055,-99.2989735,-99.177444,-99.1996895,-99.1444714,-99.064722,-99.0436467,-99.177444,-99.2744779587,-99.1444714,-99.2753872275,-99.177444,-99.1675547,-99.1035542,-99.124863,-99.1653974,-99.177444,-99.1630337,-99.1937082,-99.172042,-99.1386972,-99.141464,-99.254997,-99.2663861,-99.2028173804,-99.1724994,-99.177444,-99.1561883,-99.1546074,-99.177444,-99.2017929554,-99.1476908,-99.1589625,-99.0949899,-99.0436467,-99.2906864,-99.2906864,-99.1428406,-99.1393153,-99.0436467,-99.1186279,-99.177444,-99.1739857,-99.164986,-99.1936147213,-99.1781383,-99.160149,-99.162549,-99.1591446,-99.1351802,-99.2575527,-99.1565217,-99.0436467,-99.1734831344,-99.2906864,-99.1760298,-99.1773503087,-99.1738213,-99.263313,-99.14769,-99.254997,-99.1664667,-99.2239303,-99.1984791771,-99.0909786,-99.1373136,-99.2906864,-99.1284592,-99.124128,-99.220367,-99.2738167,-99.2880597,-99.2561697,-99.0949899,-99.1694434,-99.2114234,-99.2707271,-99.1774462,-99.0532159,-99.1359301,-99.1221422,-99.1889121,-99.140989,-99.1274918,-99.2233579,-99.1277845949,-99.2906864,-99.1621111,-99.164986,-99.122192,-99.212753,-99.171906,-99.137825,-99.153915,-99.2906864,-99.2948520184,-99.224525,-99.224525,-99.1956012,-99.1893281,-99.1821858,-99.263313,-99.2114234,-99.164986,-99.2446842,-99.1711270809,-99.0949899,-99.167762,-99.2267067,-99.177444,-99.1724994,-99.1712969,-99.2721176147,-99.3014315,-99.1863574,-99.0436467,-99.171906,-99.2983107,-99.2124468,-99.164609,-99.1331631,-99.1699933,-99.1624422,-99.2402824759,-99.1828966141,-99.146999,-99.1461089,-99.142799,-99.224352,-99.1691413,-99.1641013,-99.1821858,-99.2023662,-99.1633604933,-99.1729456,-99.1740457,-99.0436467,-99.20237,-99.1654942,-99.2906864,-99.1624422,-99.144234,-99.177444,-99.0436467,-99.0712814,-99.141393,-99.174675,-99.185753,-99.1754024,-99.0949899,-99.1297322,-99.2650096,-99.263313,-99.185753,-99.1719297,-99.263313,-99.159454,-99.1765344143,-99.254997,-99.1038592905,-99.0436467,-99.159454,-99.1179867,-99.218987,-99.1444714,-99.208595,-99.140855,-99.2906864,-99.263313,-99.133163,-99.07093,-99.188522,-99.155623791,-99.1580693,-99.164986,-99.1889121,-99.167894,-99.1988448,-99.1919122,-99.1392753126,-99.2310901,-99.1553016,-99.177444,-99.1905974,-99.153915,-99.1659764,-99.2906864,-99.0949899,-99.14769,-99.254997,-99.246689,-99.1521771,-99.1466355,-99.164986,-99.1901467,-99.0436467,-99.1582889556,-99.1893056412,-99.162549,-99.155304,-99.1873839,-99.2267067,-99.1479328,-99.1677132,-99.1237906,-99.169144,-99.2651278,-99.176758,-99.218987,-99.263313,-99.1754024,-99.2723517,-99.2880597,-99.2213702202,-99.1795009375,-99.2409738153,-99.177444,-99.1755287,-99.1634988785,-99.119331,-99.1595701,-99.1444714,-99.1519181058,-99.148384,-99.24329,-99.1828288883,-99.24807,-99.14769,-99.2906864,-99.1797506,-99.1393889,-99.1337252,-99.1536306,-99.1885632,-99.153915,-99.210077,-99.291726,-99.254997],\"z\":[172446.86,553339.27,492618.62,155425.12,258224.99,99530.03,147557.13,154724.19,213430.86,421591.82,223970.65,334559.17,157690.64,252895.12,289844.37,158059.45,139968.48,184446.42,625000.0,117735.94,426861.72,473816.51,233851.71,368892.84,226605.6,131747.44,55333.92,225504.19,142287.24,458372.4,36889.28,230821.52,163366.83,332836.85,187081.37,39524.23,374337.46,163366.83,516449.98,31619.38,57968.87,99074.07,474178.35,331924.84,189716.32,287209.43,263494.89,131418.07,340345.2,137017.34,444726.6,150830.86,269180.16,310729.14,190122.1,135057.59,50327.52,83180.59,242415.29,654457.8,162123.24,521719.88,270951.79,173643.13,44497.91,115937.75,300911.16,430866.84,192305.66,86584.42,151567.64,177068.56,177068.56,574418.86,685086.71,652936.65,237089.17,309553.79,65858.1,205526.01,389972.43,28825.02,146219.53,189610.92,36889.28,79566.6,152827.03,163366.83,182597.74,171271.67,83160.87,65873.72,295114.27,202891.06,283425.64,86689.81,262440.91,63238.77,316193.86,110825.95,79029.72,313558.92,240250.36,82138.73,339908.4,163366.83,319830.09,183919.43,563879.06,519594.1,155288.07,463641.05,94858.16,326733.66,121178.91,43202.91,51381.5,168596.74,105397.95,35185.34,420000.0,337273.46,289844.37,526812.37,117735.94,432342.41,152827.03,563615.57,295114.27,52574.87,147522.15,33787.84,455846.16,131189.34,118572.7,205526.01,45584.61,163366.83,204054.75,89588.26,131747.44,326656.19,447941.31,102763.0,386283.5,163328.09,229240.55,140056.47,171113.58,520000.0,168636.73,213216.9,316193.86,130988.58,447941.31,179176.52,410954.57,38206.75,43176.57,165435.55,181811.47,211059.4,520522.86,558609.16,324098.71,657303.92,54949.68,43202.91,108913.49,507107.4,374074.03,184402.69,544778.24,149734.98,279238.36,252955.09,39524.23,269818.76,535368.91,579688.75,463751.0,432131.62,218486.8,313242.72,284574.48,226605.6,45837.24,54933.04,418956.87,240619.17,147557.13,135035.86,225520.8,303782.83,54949.68,67191.19,75783.82,679816.81,175972.85,242415.29,119229.96,167582.75,424302.13,142287.24,201837.08,298776.85,475000.0,259584.62,421591.82,558609.16,43213.16,79566.6,376708.35,92201.34,187037.01,124231.33,63238.77,94858.16,152827.03,592358.0,447835.11,67981.68,28984.43,362305.47,152827.03,437401.51,611308.14,222600.39,546119.51,123813.23,102763.0,168636.73,165105.89,303783.2,118309.2,200256.11,49638.57,168636.73,151073.1,116728.23,590228.55,247158.2,395242.33,174291.33,280977.01,579688.75,86383.21,221283.23,71126.75,258224.99,210795.91,368805.38,658737.22,144387.3,184446.42,105134.46,189663.62,632387.73,267463.12,231612.0,144922.18,190770.3,311176.92,621847.94,445200.78,113624.79,287736.42,204472.03,263432.41,416321.92,50901.94,100209.69,140470.72,205526.01,150830.86,179134.04,629415.51,534894.62,262905.55,147557.13,92367.6,105318.9,128892.1,105397.95,289844.37,268764.78,379342.68,168636.73,680000.0],\"type\":\"scatter3d\"},{\"colorscale\":[[0.0,\"rgb(247,251,255)\"],[0.125,\"rgb(222,235,247)\"],[0.25,\"rgb(198,219,239)\"],[0.375,\"rgb(158,202,225)\"],[0.5,\"rgb(107,174,214)\"],[0.625,\"rgb(66,146,198)\"],[0.75,\"rgb(33,113,181)\"],[0.875,\"rgb(8,81,156)\"],[1.0,\"rgb(8,48,107)\"]],\"opacity\":0.5,\"x\":[[19.2672863,19.298965822222222,19.330645344444445,19.362324866666665,19.394004388888888,19.42568391111111,19.457363433333335,19.489042955555554,19.520722477777777,19.552402],[19.2672863,19.298965822222222,19.330645344444445,19.362324866666665,19.394004388888888,19.42568391111111,19.457363433333335,19.489042955555554,19.520722477777777,19.552402],[19.2672863,19.298965822222222,19.330645344444445,19.362324866666665,19.394004388888888,19.42568391111111,19.457363433333335,19.489042955555554,19.520722477777777,19.552402],[19.2672863,19.298965822222222,19.330645344444445,19.362324866666665,19.394004388888888,19.42568391111111,19.457363433333335,19.489042955555554,19.520722477777777,19.552402],[19.2672863,19.298965822222222,19.330645344444445,19.362324866666665,19.394004388888888,19.42568391111111,19.457363433333335,19.489042955555554,19.520722477777777,19.552402],[19.2672863,19.298965822222222,19.330645344444445,19.362324866666665,19.394004388888888,19.42568391111111,19.457363433333335,19.489042955555554,19.520722477777777,19.552402],[19.2672863,19.298965822222222,19.330645344444445,19.362324866666665,19.394004388888888,19.42568391111111,19.457363433333335,19.489042955555554,19.520722477777777,19.552402],[19.2672863,19.298965822222222,19.330645344444445,19.362324866666665,19.394004388888888,19.42568391111111,19.457363433333335,19.489042955555554,19.520722477777777,19.552402],[19.2672863,19.298965822222222,19.330645344444445,19.362324866666665,19.394004388888888,19.42568391111111,19.457363433333335,19.489042955555554,19.520722477777777,19.552402],[19.2672863,19.298965822222222,19.330645344444445,19.362324866666665,19.394004388888888,19.42568391111111,19.457363433333335,19.489042955555554,19.520722477777777,19.552402]],\"y\":[[-99.3014315,-99.3014315,-99.3014315,-99.3014315,-99.3014315,-99.3014315,-99.3014315,-99.3014315,-99.3014315,-99.3014315],[-99.27278874444445,-99.27278874444445,-99.27278874444445,-99.27278874444445,-99.27278874444445,-99.27278874444445,-99.27278874444445,-99.27278874444445,-99.27278874444445,-99.27278874444445],[-99.24414598888889,-99.24414598888889,-99.24414598888889,-99.24414598888889,-99.24414598888889,-99.24414598888889,-99.24414598888889,-99.24414598888889,-99.24414598888889,-99.24414598888889],[-99.21550323333334,-99.21550323333334,-99.21550323333334,-99.21550323333334,-99.21550323333334,-99.21550323333334,-99.21550323333334,-99.21550323333334,-99.21550323333334,-99.21550323333334],[-99.18686047777778,-99.18686047777778,-99.18686047777778,-99.18686047777778,-99.18686047777778,-99.18686047777778,-99.18686047777778,-99.18686047777778,-99.18686047777778,-99.18686047777778],[-99.15821772222222,-99.15821772222222,-99.15821772222222,-99.15821772222222,-99.15821772222222,-99.15821772222222,-99.15821772222222,-99.15821772222222,-99.15821772222222,-99.15821772222222],[-99.12957496666667,-99.12957496666667,-99.12957496666667,-99.12957496666667,-99.12957496666667,-99.12957496666667,-99.12957496666667,-99.12957496666667,-99.12957496666667,-99.12957496666667],[-99.10093221111111,-99.10093221111111,-99.10093221111111,-99.10093221111111,-99.10093221111111,-99.10093221111111,-99.10093221111111,-99.10093221111111,-99.10093221111111,-99.10093221111111],[-99.07228945555555,-99.07228945555555,-99.07228945555555,-99.07228945555555,-99.07228945555555,-99.07228945555555,-99.07228945555555,-99.07228945555555,-99.07228945555555,-99.07228945555555],[-99.0436467,-99.0436467,-99.0436467,-99.0436467,-99.0436467,-99.0436467,-99.0436467,-99.0436467,-99.0436467,-99.0436467]],\"z\":[[348429.16487908363,366454.09346330166,384479.0220475197,402503.9506317377,420528.87921595573,438553.80780017376,456578.7363843918,474603.6649686098,492628.59355282784,510653.52213704586],[309732.18199163675,327757.1105758548,345782.0391600728,363806.9677442908,381831.89632850885,399856.8249127269,417881.7534969747,435906.68208119273,453931.61066541076,471956.5392496288],[271035.1991041899,289060.1276884079,307085.0562726259,325109.98485684395,343134.913441062,361159.84202528,379184.7706095278,397209.69919374585,415234.6277779639,433259.5563621819],[232338.2162167728,250363.14480099082,268388.07338520885,286413.00196942687,304437.9305536449,322462.8591378629,340487.78772208095,358512.716306299,376537.644890517,394562.573474735],[193641.2333293259,211666.16191354394,229691.09049776196,247716.01908198,265740.947666198,283765.87625041604,301790.80483466387,319815.7334188819,337840.6620030999,355865.59058731794],[154944.25044187903,172969.17902609706,190994.10761031508,209019.0361945331,227043.96477875113,245068.89336296916,263093.8219471872,281118.7505314052,299143.67911562324,317168.60769984126],[116247.26755443215,134272.19613865018,152297.1247228682,170322.05330708623,188346.98189130425,206371.91047552228,224396.8390597701,242421.76764398813,260446.69622820616,278471.6248124242],[77550.28466701508,95575.2132512331,113600.14183545113,131625.07041966915,149649.99900388718,167674.9275881052,185699.85617232323,203724.78475654125,221749.71334075928,239774.6419249773],[38853.301779568195,56878.23036378622,74903.15894800425,92928.08753222227,110953.0161164403,128977.94470065832,147002.87328487635,165027.80186909437,183052.7304533124,201077.65903753042],[156.318892121315,18181.24747633934,36206.176060557365,54231.10464477539,72256.03322899342,90280.96181321144,108305.89039745927,126330.8189816773,144355.74756589532,162380.67615011334]],\"type\":\"surface\"}],                        {\"template\":{\"data\":{\"histogram2dcontour\":[{\"type\":\"histogram2dcontour\",\"colorbar\":{\"outlinewidth\":0,\"ticks\":\"\"},\"colorscale\":[[0.0,\"#0d0887\"],[0.1111111111111111,\"#46039f\"],[0.2222222222222222,\"#7201a8\"],[0.3333333333333333,\"#9c179e\"],[0.4444444444444444,\"#bd3786\"],[0.5555555555555556,\"#d8576b\"],[0.6666666666666666,\"#ed7953\"],[0.7777777777777778,\"#fb9f3a\"],[0.8888888888888888,\"#fdca26\"],[1.0,\"#f0f921\"]]}],\"choropleth\":[{\"type\":\"choropleth\",\"colorbar\":{\"outlinewidth\":0,\"ticks\":\"\"}}],\"histogram2d\":[{\"type\":\"histogram2d\",\"colorbar\":{\"outlinewidth\":0,\"ticks\":\"\"},\"colorscale\":[[0.0,\"#0d0887\"],[0.1111111111111111,\"#46039f\"],[0.2222222222222222,\"#7201a8\"],[0.3333333333333333,\"#9c179e\"],[0.4444444444444444,\"#bd3786\"],[0.5555555555555556,\"#d8576b\"],[0.6666666666666666,\"#ed7953\"],[0.7777777777777778,\"#fb9f3a\"],[0.8888888888888888,\"#fdca26\"],[1.0,\"#f0f921\"]]}],\"heatmap\":[{\"type\":\"heatmap\",\"colorbar\":{\"outlinewidth\":0,\"ticks\":\"\"},\"colorscale\":[[0.0,\"#0d0887\"],[0.1111111111111111,\"#46039f\"],[0.2222222222222222,\"#7201a8\"],[0.3333333333333333,\"#9c179e\"],[0.4444444444444444,\"#bd3786\"],[0.5555555555555556,\"#d8576b\"],[0.6666666666666666,\"#ed7953\"],[0.7777777777777778,\"#fb9f3a\"],[0.8888888888888888,\"#fdca26\"],[1.0,\"#f0f921\"]]}],\"heatmapgl\":[{\"type\":\"heatmapgl\",\"colorbar\":{\"outlinewidth\":0,\"ticks\":\"\"},\"colorscale\":[[0.0,\"#0d0887\"],[0.1111111111111111,\"#46039f\"],[0.2222222222222222,\"#7201a8\"],[0.3333333333333333,\"#9c179e\"],[0.4444444444444444,\"#bd3786\"],[0.5555555555555556,\"#d8576b\"],[0.6666666666666666,\"#ed7953\"],[0.7777777777777778,\"#fb9f3a\"],[0.8888888888888888,\"#fdca26\"],[1.0,\"#f0f921\"]]}],\"contourcarpet\":[{\"type\":\"contourcarpet\",\"colorbar\":{\"outlinewidth\":0,\"ticks\":\"\"}}],\"contour\":[{\"type\":\"contour\",\"colorbar\":{\"outlinewidth\":0,\"ticks\":\"\"},\"colorscale\":[[0.0,\"#0d0887\"],[0.1111111111111111,\"#46039f\"],[0.2222222222222222,\"#7201a8\"],[0.3333333333333333,\"#9c179e\"],[0.4444444444444444,\"#bd3786\"],[0.5555555555555556,\"#d8576b\"],[0.6666666666666666,\"#ed7953\"],[0.7777777777777778,\"#fb9f3a\"],[0.8888888888888888,\"#fdca26\"],[1.0,\"#f0f921\"]]}],\"surface\":[{\"type\":\"surface\",\"colorbar\":{\"outlinewidth\":0,\"ticks\":\"\"},\"colorscale\":[[0.0,\"#0d0887\"],[0.1111111111111111,\"#46039f\"],[0.2222222222222222,\"#7201a8\"],[0.3333333333333333,\"#9c179e\"],[0.4444444444444444,\"#bd3786\"],[0.5555555555555556,\"#d8576b\"],[0.6666666666666666,\"#ed7953\"],[0.7777777777777778,\"#fb9f3a\"],[0.8888888888888888,\"#fdca26\"],[1.0,\"#f0f921\"]]}],\"mesh3d\":[{\"type\":\"mesh3d\",\"colorbar\":{\"outlinewidth\":0,\"ticks\":\"\"}}],\"scatter\":[{\"fillpattern\":{\"fillmode\":\"overlay\",\"size\":10,\"solidity\":0.2},\"type\":\"scatter\"}],\"parcoords\":[{\"type\":\"parcoords\",\"line\":{\"colorbar\":{\"outlinewidth\":0,\"ticks\":\"\"}}}],\"scatterpolargl\":[{\"type\":\"scatterpolargl\",\"marker\":{\"colorbar\":{\"outlinewidth\":0,\"ticks\":\"\"}}}],\"bar\":[{\"error_x\":{\"color\":\"#2a3f5f\"},\"error_y\":{\"color\":\"#2a3f5f\"},\"marker\":{\"line\":{\"color\":\"#E5ECF6\",\"width\":0.5},\"pattern\":{\"fillmode\":\"overlay\",\"size\":10,\"solidity\":0.2}},\"type\":\"bar\"}],\"scattergeo\":[{\"type\":\"scattergeo\",\"marker\":{\"colorbar\":{\"outlinewidth\":0,\"ticks\":\"\"}}}],\"scatterpolar\":[{\"type\":\"scatterpolar\",\"marker\":{\"colorbar\":{\"outlinewidth\":0,\"ticks\":\"\"}}}],\"histogram\":[{\"marker\":{\"pattern\":{\"fillmode\":\"overlay\",\"size\":10,\"solidity\":0.2}},\"type\":\"histogram\"}],\"scattergl\":[{\"type\":\"scattergl\",\"marker\":{\"colorbar\":{\"outlinewidth\":0,\"ticks\":\"\"}}}],\"scatter3d\":[{\"type\":\"scatter3d\",\"line\":{\"colorbar\":{\"outlinewidth\":0,\"ticks\":\"\"}},\"marker\":{\"colorbar\":{\"outlinewidth\":0,\"ticks\":\"\"}}}],\"scattermapbox\":[{\"type\":\"scattermapbox\",\"marker\":{\"colorbar\":{\"outlinewidth\":0,\"ticks\":\"\"}}}],\"scatterternary\":[{\"type\":\"scatterternary\",\"marker\":{\"colorbar\":{\"outlinewidth\":0,\"ticks\":\"\"}}}],\"scattercarpet\":[{\"type\":\"scattercarpet\",\"marker\":{\"colorbar\":{\"outlinewidth\":0,\"ticks\":\"\"}}}],\"carpet\":[{\"aaxis\":{\"endlinecolor\":\"#2a3f5f\",\"gridcolor\":\"white\",\"linecolor\":\"white\",\"minorgridcolor\":\"white\",\"startlinecolor\":\"#2a3f5f\"},\"baxis\":{\"endlinecolor\":\"#2a3f5f\",\"gridcolor\":\"white\",\"linecolor\":\"white\",\"minorgridcolor\":\"white\",\"startlinecolor\":\"#2a3f5f\"},\"type\":\"carpet\"}],\"table\":[{\"cells\":{\"fill\":{\"color\":\"#EBF0F8\"},\"line\":{\"color\":\"white\"}},\"header\":{\"fill\":{\"color\":\"#C8D4E3\"},\"line\":{\"color\":\"white\"}},\"type\":\"table\"}],\"barpolar\":[{\"marker\":{\"line\":{\"color\":\"#E5ECF6\",\"width\":0.5},\"pattern\":{\"fillmode\":\"overlay\",\"size\":10,\"solidity\":0.2}},\"type\":\"barpolar\"}],\"pie\":[{\"automargin\":true,\"type\":\"pie\"}]},\"layout\":{\"autotypenumbers\":\"strict\",\"colorway\":[\"#636efa\",\"#EF553B\",\"#00cc96\",\"#ab63fa\",\"#FFA15A\",\"#19d3f3\",\"#FF6692\",\"#B6E880\",\"#FF97FF\",\"#FECB52\"],\"font\":{\"color\":\"#2a3f5f\"},\"hovermode\":\"closest\",\"hoverlabel\":{\"align\":\"left\"},\"paper_bgcolor\":\"white\",\"plot_bgcolor\":\"#E5ECF6\",\"polar\":{\"bgcolor\":\"#E5ECF6\",\"angularaxis\":{\"gridcolor\":\"white\",\"linecolor\":\"white\",\"ticks\":\"\"},\"radialaxis\":{\"gridcolor\":\"white\",\"linecolor\":\"white\",\"ticks\":\"\"}},\"ternary\":{\"bgcolor\":\"#E5ECF6\",\"aaxis\":{\"gridcolor\":\"white\",\"linecolor\":\"white\",\"ticks\":\"\"},\"baxis\":{\"gridcolor\":\"white\",\"linecolor\":\"white\",\"ticks\":\"\"},\"caxis\":{\"gridcolor\":\"white\",\"linecolor\":\"white\",\"ticks\":\"\"}},\"coloraxis\":{\"colorbar\":{\"outlinewidth\":0,\"ticks\":\"\"}},\"colorscale\":{\"sequential\":[[0.0,\"#0d0887\"],[0.1111111111111111,\"#46039f\"],[0.2222222222222222,\"#7201a8\"],[0.3333333333333333,\"#9c179e\"],[0.4444444444444444,\"#bd3786\"],[0.5555555555555556,\"#d8576b\"],[0.6666666666666666,\"#ed7953\"],[0.7777777777777778,\"#fb9f3a\"],[0.8888888888888888,\"#fdca26\"],[1.0,\"#f0f921\"]],\"sequentialminus\":[[0.0,\"#0d0887\"],[0.1111111111111111,\"#46039f\"],[0.2222222222222222,\"#7201a8\"],[0.3333333333333333,\"#9c179e\"],[0.4444444444444444,\"#bd3786\"],[0.5555555555555556,\"#d8576b\"],[0.6666666666666666,\"#ed7953\"],[0.7777777777777778,\"#fb9f3a\"],[0.8888888888888888,\"#fdca26\"],[1.0,\"#f0f921\"]],\"diverging\":[[0,\"#8e0152\"],[0.1,\"#c51b7d\"],[0.2,\"#de77ae\"],[0.3,\"#f1b6da\"],[0.4,\"#fde0ef\"],[0.5,\"#f7f7f7\"],[0.6,\"#e6f5d0\"],[0.7,\"#b8e186\"],[0.8,\"#7fbc41\"],[0.9,\"#4d9221\"],[1,\"#276419\"]]},\"xaxis\":{\"gridcolor\":\"white\",\"linecolor\":\"white\",\"ticks\":\"\",\"title\":{\"standoff\":15},\"zerolinecolor\":\"white\",\"automargin\":true,\"zerolinewidth\":2},\"yaxis\":{\"gridcolor\":\"white\",\"linecolor\":\"white\",\"ticks\":\"\",\"title\":{\"standoff\":15},\"zerolinecolor\":\"white\",\"automargin\":true,\"zerolinewidth\":2},\"scene\":{\"xaxis\":{\"backgroundcolor\":\"#E5ECF6\",\"gridcolor\":\"white\",\"linecolor\":\"white\",\"showbackground\":true,\"ticks\":\"\",\"zerolinecolor\":\"white\",\"gridwidth\":2},\"yaxis\":{\"backgroundcolor\":\"#E5ECF6\",\"gridcolor\":\"white\",\"linecolor\":\"white\",\"showbackground\":true,\"ticks\":\"\",\"zerolinecolor\":\"white\",\"gridwidth\":2},\"zaxis\":{\"backgroundcolor\":\"#E5ECF6\",\"gridcolor\":\"white\",\"linecolor\":\"white\",\"showbackground\":true,\"ticks\":\"\",\"zerolinecolor\":\"white\",\"gridwidth\":2}},\"shapedefaults\":{\"line\":{\"color\":\"#2a3f5f\"}},\"annotationdefaults\":{\"arrowcolor\":\"#2a3f5f\",\"arrowhead\":0,\"arrowwidth\":1},\"geo\":{\"bgcolor\":\"white\",\"landcolor\":\"#E5ECF6\",\"subunitcolor\":\"white\",\"showland\":true,\"showlakes\":true,\"lakecolor\":\"white\"},\"title\":{\"x\":0.05},\"mapbox\":{\"style\":\"light\"}}},\"scene\":{\"domain\":{\"x\":[0.0,1.0],\"y\":[0.0,1.0]},\"xaxis\":{\"title\":{\"text\":\"latitude\"}},\"yaxis\":{\"title\":{\"text\":\"longitude\"}},\"zaxis\":{\"title\":{\"text\":\"price\"}}},\"legend\":{\"tracegroupgap\":0},\"margin\":{\"t\":60},\"height\":600,\"width\":600},                        {\"responsive\": true}                    ).then(function(){\n",
              "                            \n",
              "var gd = document.getElementById('7bb6aebb-51cc-42c3-99a4-db51e97e79e1');\n",
              "var x = new MutationObserver(function (mutations, observer) {{\n",
              "        var display = window.getComputedStyle(gd).display;\n",
              "        if (!display || display === 'none') {{\n",
              "            console.log([gd, 'removed!']);\n",
              "            Plotly.purge(gd);\n",
              "            observer.disconnect();\n",
              "        }}\n",
              "}});\n",
              "\n",
              "// Listen for the removal of the full notebook cells\n",
              "var notebookContainer = gd.closest('#notebook-container');\n",
              "if (notebookContainer) {{\n",
              "    x.observe(notebookContainer, {childList: true});\n",
              "}}\n",
              "\n",
              "// Listen for the clearing of the current output cell\n",
              "var outputEl = gd.closest('.output');\n",
              "if (outputEl) {{\n",
              "    x.observe(outputEl, {childList: true});\n",
              "}}\n",
              "\n",
              "                        })                };                            </script>        </div>\n",
              "</body>\n",
              "</html>"
            ]
          },
          "metadata": {}
        }
      ]
    },
    {
      "cell_type": "markdown",
      "source": [
        "PREDICTING PRICE WITH BOTH SIZE AND LOCATION"
      ],
      "metadata": {
        "id": "f9dnUVrHz4D7"
      }
    },
    {
      "cell_type": "markdown",
      "source": [
        "Split Data : Feature Matrices & Target Vector"
      ],
      "metadata": {
        "id": "hZmUm2Iu0B0q"
      }
    },
    {
      "cell_type": "code",
      "source": [
        "features_all = [\"surface_covered_in_m2\", \"lat\", \"lon\"]\n",
        "X_train_all = df[features_all]\n",
        "print(X_train_all.shape)\n",
        "target_all = \"price_aprox_usd\"\n",
        "y_train_all = df[target_all]\n",
        "print(y_train_all.shape)"
      ],
      "metadata": {
        "id": "0sml2WHWr7R9",
        "colab": {
          "base_uri": "https://localhost:8080/"
        },
        "outputId": "dc3dca4a-b184-4c32-c4a3-a1ac0645e35c"
      },
      "execution_count": null,
      "outputs": [
        {
          "output_type": "stream",
          "name": "stdout",
          "text": [
            "(289, 3)\n",
            "(289,)\n"
          ]
        }
      ]
    },
    {
      "cell_type": "markdown",
      "source": [
        "BUILD MODEL"
      ],
      "metadata": {
        "id": "z3K3X84H1sYZ"
      }
    },
    {
      "cell_type": "markdown",
      "source": [
        "Baseline"
      ],
      "metadata": {
        "id": "Nh_AVzQy1ugO"
      }
    },
    {
      "cell_type": "code",
      "source": [
        "y_mean_all = y_train_all.mean()\n",
        "y_mean_all"
      ],
      "metadata": {
        "colab": {
          "base_uri": "https://localhost:8080/"
        },
        "id": "V2pEpp7Lzshc",
        "outputId": "b770f7ee-4a3e-4038-f205-d950400751ea"
      },
      "execution_count": null,
      "outputs": [
        {
          "output_type": "execute_result",
          "data": {
            "text/plain": [
              "np.float64(248004.589550173)"
            ]
          },
          "metadata": {},
          "execution_count": 40
        }
      ]
    },
    {
      "cell_type": "code",
      "source": [
        "y_pred_baseline_all = [y_mean_all] * len(y_train_all)\n",
        "y_pred_baseline_all[:5]"
      ],
      "metadata": {
        "colab": {
          "base_uri": "https://localhost:8080/"
        },
        "id": "RZQoRBSU18-I",
        "outputId": "8a24bfbc-422d-458b-d821-5cbd2424d1d4"
      },
      "execution_count": null,
      "outputs": [
        {
          "output_type": "execute_result",
          "data": {
            "text/plain": [
              "[np.float64(248004.589550173),\n",
              " np.float64(248004.589550173),\n",
              " np.float64(248004.589550173),\n",
              " np.float64(248004.589550173),\n",
              " np.float64(248004.589550173)]"
            ]
          },
          "metadata": {},
          "execution_count": 41
        }
      ]
    },
    {
      "cell_type": "markdown",
      "source": [
        "Baseline : Mean Absolute Error (MAE)"
      ],
      "metadata": {
        "id": "RbRUo1nd2RQt"
      }
    },
    {
      "cell_type": "code",
      "source": [
        "mae_baseline_all = mean_absolute_error(y_train_all, y_pred_baseline_all)\n",
        "mae_baseline_all"
      ],
      "metadata": {
        "colab": {
          "base_uri": "https://localhost:8080/"
        },
        "id": "cpIGM2hS2L6Y",
        "outputId": "a0d73c03-b0d4-4fa5-ccd5-032184b0e96c"
      },
      "execution_count": null,
      "outputs": [
        {
          "output_type": "execute_result",
          "data": {
            "text/plain": [
              "134526.40215418878"
            ]
          },
          "metadata": {},
          "execution_count": 42
        }
      ]
    },
    {
      "cell_type": "markdown",
      "source": [
        "Iterate"
      ],
      "metadata": {
        "id": "OALC-zR-2v_I"
      }
    },
    {
      "cell_type": "markdown",
      "source": [
        "Model Transformation and Instantiation"
      ],
      "metadata": {
        "id": "WZjMhl6K2zMC"
      }
    },
    {
      "cell_type": "code",
      "source": [
        "model_all = make_pipeline(\n",
        "    SimpleImputer(),\n",
        "    LinearRegression()\n",
        ")\n",
        "model_all.fit(X_train_all, y_train_all)"
      ],
      "metadata": {
        "colab": {
          "base_uri": "https://localhost:8080/",
          "height": 155
        },
        "id": "LHFhZK8P2m04",
        "outputId": "9e07df44-de24-426f-8bae-a32f21bb8396"
      },
      "execution_count": null,
      "outputs": [
        {
          "output_type": "execute_result",
          "data": {
            "text/plain": [
              "Pipeline(steps=[('simpleimputer', SimpleImputer()),\n",
              "                ('linearregression', LinearRegression())])"
            ],
            "text/html": [
              "<style>#sk-container-id-3 {\n",
              "  /* Definition of color scheme common for light and dark mode */\n",
              "  --sklearn-color-text: #000;\n",
              "  --sklearn-color-text-muted: #666;\n",
              "  --sklearn-color-line: gray;\n",
              "  /* Definition of color scheme for unfitted estimators */\n",
              "  --sklearn-color-unfitted-level-0: #fff5e6;\n",
              "  --sklearn-color-unfitted-level-1: #f6e4d2;\n",
              "  --sklearn-color-unfitted-level-2: #ffe0b3;\n",
              "  --sklearn-color-unfitted-level-3: chocolate;\n",
              "  /* Definition of color scheme for fitted estimators */\n",
              "  --sklearn-color-fitted-level-0: #f0f8ff;\n",
              "  --sklearn-color-fitted-level-1: #d4ebff;\n",
              "  --sklearn-color-fitted-level-2: #b3dbfd;\n",
              "  --sklearn-color-fitted-level-3: cornflowerblue;\n",
              "\n",
              "  /* Specific color for light theme */\n",
              "  --sklearn-color-text-on-default-background: var(--sg-text-color, var(--theme-code-foreground, var(--jp-content-font-color1, black)));\n",
              "  --sklearn-color-background: var(--sg-background-color, var(--theme-background, var(--jp-layout-color0, white)));\n",
              "  --sklearn-color-border-box: var(--sg-text-color, var(--theme-code-foreground, var(--jp-content-font-color1, black)));\n",
              "  --sklearn-color-icon: #696969;\n",
              "\n",
              "  @media (prefers-color-scheme: dark) {\n",
              "    /* Redefinition of color scheme for dark theme */\n",
              "    --sklearn-color-text-on-default-background: var(--sg-text-color, var(--theme-code-foreground, var(--jp-content-font-color1, white)));\n",
              "    --sklearn-color-background: var(--sg-background-color, var(--theme-background, var(--jp-layout-color0, #111)));\n",
              "    --sklearn-color-border-box: var(--sg-text-color, var(--theme-code-foreground, var(--jp-content-font-color1, white)));\n",
              "    --sklearn-color-icon: #878787;\n",
              "  }\n",
              "}\n",
              "\n",
              "#sk-container-id-3 {\n",
              "  color: var(--sklearn-color-text);\n",
              "}\n",
              "\n",
              "#sk-container-id-3 pre {\n",
              "  padding: 0;\n",
              "}\n",
              "\n",
              "#sk-container-id-3 input.sk-hidden--visually {\n",
              "  border: 0;\n",
              "  clip: rect(1px 1px 1px 1px);\n",
              "  clip: rect(1px, 1px, 1px, 1px);\n",
              "  height: 1px;\n",
              "  margin: -1px;\n",
              "  overflow: hidden;\n",
              "  padding: 0;\n",
              "  position: absolute;\n",
              "  width: 1px;\n",
              "}\n",
              "\n",
              "#sk-container-id-3 div.sk-dashed-wrapped {\n",
              "  border: 1px dashed var(--sklearn-color-line);\n",
              "  margin: 0 0.4em 0.5em 0.4em;\n",
              "  box-sizing: border-box;\n",
              "  padding-bottom: 0.4em;\n",
              "  background-color: var(--sklearn-color-background);\n",
              "}\n",
              "\n",
              "#sk-container-id-3 div.sk-container {\n",
              "  /* jupyter's `normalize.less` sets `[hidden] { display: none; }`\n",
              "     but bootstrap.min.css set `[hidden] { display: none !important; }`\n",
              "     so we also need the `!important` here to be able to override the\n",
              "     default hidden behavior on the sphinx rendered scikit-learn.org.\n",
              "     See: https://github.com/scikit-learn/scikit-learn/issues/21755 */\n",
              "  display: inline-block !important;\n",
              "  position: relative;\n",
              "}\n",
              "\n",
              "#sk-container-id-3 div.sk-text-repr-fallback {\n",
              "  display: none;\n",
              "}\n",
              "\n",
              "div.sk-parallel-item,\n",
              "div.sk-serial,\n",
              "div.sk-item {\n",
              "  /* draw centered vertical line to link estimators */\n",
              "  background-image: linear-gradient(var(--sklearn-color-text-on-default-background), var(--sklearn-color-text-on-default-background));\n",
              "  background-size: 2px 100%;\n",
              "  background-repeat: no-repeat;\n",
              "  background-position: center center;\n",
              "}\n",
              "\n",
              "/* Parallel-specific style estimator block */\n",
              "\n",
              "#sk-container-id-3 div.sk-parallel-item::after {\n",
              "  content: \"\";\n",
              "  width: 100%;\n",
              "  border-bottom: 2px solid var(--sklearn-color-text-on-default-background);\n",
              "  flex-grow: 1;\n",
              "}\n",
              "\n",
              "#sk-container-id-3 div.sk-parallel {\n",
              "  display: flex;\n",
              "  align-items: stretch;\n",
              "  justify-content: center;\n",
              "  background-color: var(--sklearn-color-background);\n",
              "  position: relative;\n",
              "}\n",
              "\n",
              "#sk-container-id-3 div.sk-parallel-item {\n",
              "  display: flex;\n",
              "  flex-direction: column;\n",
              "}\n",
              "\n",
              "#sk-container-id-3 div.sk-parallel-item:first-child::after {\n",
              "  align-self: flex-end;\n",
              "  width: 50%;\n",
              "}\n",
              "\n",
              "#sk-container-id-3 div.sk-parallel-item:last-child::after {\n",
              "  align-self: flex-start;\n",
              "  width: 50%;\n",
              "}\n",
              "\n",
              "#sk-container-id-3 div.sk-parallel-item:only-child::after {\n",
              "  width: 0;\n",
              "}\n",
              "\n",
              "/* Serial-specific style estimator block */\n",
              "\n",
              "#sk-container-id-3 div.sk-serial {\n",
              "  display: flex;\n",
              "  flex-direction: column;\n",
              "  align-items: center;\n",
              "  background-color: var(--sklearn-color-background);\n",
              "  padding-right: 1em;\n",
              "  padding-left: 1em;\n",
              "}\n",
              "\n",
              "\n",
              "/* Toggleable style: style used for estimator/Pipeline/ColumnTransformer box that is\n",
              "clickable and can be expanded/collapsed.\n",
              "- Pipeline and ColumnTransformer use this feature and define the default style\n",
              "- Estimators will overwrite some part of the style using the `sk-estimator` class\n",
              "*/\n",
              "\n",
              "/* Pipeline and ColumnTransformer style (default) */\n",
              "\n",
              "#sk-container-id-3 div.sk-toggleable {\n",
              "  /* Default theme specific background. It is overwritten whether we have a\n",
              "  specific estimator or a Pipeline/ColumnTransformer */\n",
              "  background-color: var(--sklearn-color-background);\n",
              "}\n",
              "\n",
              "/* Toggleable label */\n",
              "#sk-container-id-3 label.sk-toggleable__label {\n",
              "  cursor: pointer;\n",
              "  display: flex;\n",
              "  width: 100%;\n",
              "  margin-bottom: 0;\n",
              "  padding: 0.5em;\n",
              "  box-sizing: border-box;\n",
              "  text-align: center;\n",
              "  align-items: start;\n",
              "  justify-content: space-between;\n",
              "  gap: 0.5em;\n",
              "}\n",
              "\n",
              "#sk-container-id-3 label.sk-toggleable__label .caption {\n",
              "  font-size: 0.6rem;\n",
              "  font-weight: lighter;\n",
              "  color: var(--sklearn-color-text-muted);\n",
              "}\n",
              "\n",
              "#sk-container-id-3 label.sk-toggleable__label-arrow:before {\n",
              "  /* Arrow on the left of the label */\n",
              "  content: \"▸\";\n",
              "  float: left;\n",
              "  margin-right: 0.25em;\n",
              "  color: var(--sklearn-color-icon);\n",
              "}\n",
              "\n",
              "#sk-container-id-3 label.sk-toggleable__label-arrow:hover:before {\n",
              "  color: var(--sklearn-color-text);\n",
              "}\n",
              "\n",
              "/* Toggleable content - dropdown */\n",
              "\n",
              "#sk-container-id-3 div.sk-toggleable__content {\n",
              "  max-height: 0;\n",
              "  max-width: 0;\n",
              "  overflow: hidden;\n",
              "  text-align: left;\n",
              "  /* unfitted */\n",
              "  background-color: var(--sklearn-color-unfitted-level-0);\n",
              "}\n",
              "\n",
              "#sk-container-id-3 div.sk-toggleable__content.fitted {\n",
              "  /* fitted */\n",
              "  background-color: var(--sklearn-color-fitted-level-0);\n",
              "}\n",
              "\n",
              "#sk-container-id-3 div.sk-toggleable__content pre {\n",
              "  margin: 0.2em;\n",
              "  border-radius: 0.25em;\n",
              "  color: var(--sklearn-color-text);\n",
              "  /* unfitted */\n",
              "  background-color: var(--sklearn-color-unfitted-level-0);\n",
              "}\n",
              "\n",
              "#sk-container-id-3 div.sk-toggleable__content.fitted pre {\n",
              "  /* unfitted */\n",
              "  background-color: var(--sklearn-color-fitted-level-0);\n",
              "}\n",
              "\n",
              "#sk-container-id-3 input.sk-toggleable__control:checked~div.sk-toggleable__content {\n",
              "  /* Expand drop-down */\n",
              "  max-height: 200px;\n",
              "  max-width: 100%;\n",
              "  overflow: auto;\n",
              "}\n",
              "\n",
              "#sk-container-id-3 input.sk-toggleable__control:checked~label.sk-toggleable__label-arrow:before {\n",
              "  content: \"▾\";\n",
              "}\n",
              "\n",
              "/* Pipeline/ColumnTransformer-specific style */\n",
              "\n",
              "#sk-container-id-3 div.sk-label input.sk-toggleable__control:checked~label.sk-toggleable__label {\n",
              "  color: var(--sklearn-color-text);\n",
              "  background-color: var(--sklearn-color-unfitted-level-2);\n",
              "}\n",
              "\n",
              "#sk-container-id-3 div.sk-label.fitted input.sk-toggleable__control:checked~label.sk-toggleable__label {\n",
              "  background-color: var(--sklearn-color-fitted-level-2);\n",
              "}\n",
              "\n",
              "/* Estimator-specific style */\n",
              "\n",
              "/* Colorize estimator box */\n",
              "#sk-container-id-3 div.sk-estimator input.sk-toggleable__control:checked~label.sk-toggleable__label {\n",
              "  /* unfitted */\n",
              "  background-color: var(--sklearn-color-unfitted-level-2);\n",
              "}\n",
              "\n",
              "#sk-container-id-3 div.sk-estimator.fitted input.sk-toggleable__control:checked~label.sk-toggleable__label {\n",
              "  /* fitted */\n",
              "  background-color: var(--sklearn-color-fitted-level-2);\n",
              "}\n",
              "\n",
              "#sk-container-id-3 div.sk-label label.sk-toggleable__label,\n",
              "#sk-container-id-3 div.sk-label label {\n",
              "  /* The background is the default theme color */\n",
              "  color: var(--sklearn-color-text-on-default-background);\n",
              "}\n",
              "\n",
              "/* On hover, darken the color of the background */\n",
              "#sk-container-id-3 div.sk-label:hover label.sk-toggleable__label {\n",
              "  color: var(--sklearn-color-text);\n",
              "  background-color: var(--sklearn-color-unfitted-level-2);\n",
              "}\n",
              "\n",
              "/* Label box, darken color on hover, fitted */\n",
              "#sk-container-id-3 div.sk-label.fitted:hover label.sk-toggleable__label.fitted {\n",
              "  color: var(--sklearn-color-text);\n",
              "  background-color: var(--sklearn-color-fitted-level-2);\n",
              "}\n",
              "\n",
              "/* Estimator label */\n",
              "\n",
              "#sk-container-id-3 div.sk-label label {\n",
              "  font-family: monospace;\n",
              "  font-weight: bold;\n",
              "  display: inline-block;\n",
              "  line-height: 1.2em;\n",
              "}\n",
              "\n",
              "#sk-container-id-3 div.sk-label-container {\n",
              "  text-align: center;\n",
              "}\n",
              "\n",
              "/* Estimator-specific */\n",
              "#sk-container-id-3 div.sk-estimator {\n",
              "  font-family: monospace;\n",
              "  border: 1px dotted var(--sklearn-color-border-box);\n",
              "  border-radius: 0.25em;\n",
              "  box-sizing: border-box;\n",
              "  margin-bottom: 0.5em;\n",
              "  /* unfitted */\n",
              "  background-color: var(--sklearn-color-unfitted-level-0);\n",
              "}\n",
              "\n",
              "#sk-container-id-3 div.sk-estimator.fitted {\n",
              "  /* fitted */\n",
              "  background-color: var(--sklearn-color-fitted-level-0);\n",
              "}\n",
              "\n",
              "/* on hover */\n",
              "#sk-container-id-3 div.sk-estimator:hover {\n",
              "  /* unfitted */\n",
              "  background-color: var(--sklearn-color-unfitted-level-2);\n",
              "}\n",
              "\n",
              "#sk-container-id-3 div.sk-estimator.fitted:hover {\n",
              "  /* fitted */\n",
              "  background-color: var(--sklearn-color-fitted-level-2);\n",
              "}\n",
              "\n",
              "/* Specification for estimator info (e.g. \"i\" and \"?\") */\n",
              "\n",
              "/* Common style for \"i\" and \"?\" */\n",
              "\n",
              ".sk-estimator-doc-link,\n",
              "a:link.sk-estimator-doc-link,\n",
              "a:visited.sk-estimator-doc-link {\n",
              "  float: right;\n",
              "  font-size: smaller;\n",
              "  line-height: 1em;\n",
              "  font-family: monospace;\n",
              "  background-color: var(--sklearn-color-background);\n",
              "  border-radius: 1em;\n",
              "  height: 1em;\n",
              "  width: 1em;\n",
              "  text-decoration: none !important;\n",
              "  margin-left: 0.5em;\n",
              "  text-align: center;\n",
              "  /* unfitted */\n",
              "  border: var(--sklearn-color-unfitted-level-1) 1pt solid;\n",
              "  color: var(--sklearn-color-unfitted-level-1);\n",
              "}\n",
              "\n",
              ".sk-estimator-doc-link.fitted,\n",
              "a:link.sk-estimator-doc-link.fitted,\n",
              "a:visited.sk-estimator-doc-link.fitted {\n",
              "  /* fitted */\n",
              "  border: var(--sklearn-color-fitted-level-1) 1pt solid;\n",
              "  color: var(--sklearn-color-fitted-level-1);\n",
              "}\n",
              "\n",
              "/* On hover */\n",
              "div.sk-estimator:hover .sk-estimator-doc-link:hover,\n",
              ".sk-estimator-doc-link:hover,\n",
              "div.sk-label-container:hover .sk-estimator-doc-link:hover,\n",
              ".sk-estimator-doc-link:hover {\n",
              "  /* unfitted */\n",
              "  background-color: var(--sklearn-color-unfitted-level-3);\n",
              "  color: var(--sklearn-color-background);\n",
              "  text-decoration: none;\n",
              "}\n",
              "\n",
              "div.sk-estimator.fitted:hover .sk-estimator-doc-link.fitted:hover,\n",
              ".sk-estimator-doc-link.fitted:hover,\n",
              "div.sk-label-container:hover .sk-estimator-doc-link.fitted:hover,\n",
              ".sk-estimator-doc-link.fitted:hover {\n",
              "  /* fitted */\n",
              "  background-color: var(--sklearn-color-fitted-level-3);\n",
              "  color: var(--sklearn-color-background);\n",
              "  text-decoration: none;\n",
              "}\n",
              "\n",
              "/* Span, style for the box shown on hovering the info icon */\n",
              ".sk-estimator-doc-link span {\n",
              "  display: none;\n",
              "  z-index: 9999;\n",
              "  position: relative;\n",
              "  font-weight: normal;\n",
              "  right: .2ex;\n",
              "  padding: .5ex;\n",
              "  margin: .5ex;\n",
              "  width: min-content;\n",
              "  min-width: 20ex;\n",
              "  max-width: 50ex;\n",
              "  color: var(--sklearn-color-text);\n",
              "  box-shadow: 2pt 2pt 4pt #999;\n",
              "  /* unfitted */\n",
              "  background: var(--sklearn-color-unfitted-level-0);\n",
              "  border: .5pt solid var(--sklearn-color-unfitted-level-3);\n",
              "}\n",
              "\n",
              ".sk-estimator-doc-link.fitted span {\n",
              "  /* fitted */\n",
              "  background: var(--sklearn-color-fitted-level-0);\n",
              "  border: var(--sklearn-color-fitted-level-3);\n",
              "}\n",
              "\n",
              ".sk-estimator-doc-link:hover span {\n",
              "  display: block;\n",
              "}\n",
              "\n",
              "/* \"?\"-specific style due to the `<a>` HTML tag */\n",
              "\n",
              "#sk-container-id-3 a.estimator_doc_link {\n",
              "  float: right;\n",
              "  font-size: 1rem;\n",
              "  line-height: 1em;\n",
              "  font-family: monospace;\n",
              "  background-color: var(--sklearn-color-background);\n",
              "  border-radius: 1rem;\n",
              "  height: 1rem;\n",
              "  width: 1rem;\n",
              "  text-decoration: none;\n",
              "  /* unfitted */\n",
              "  color: var(--sklearn-color-unfitted-level-1);\n",
              "  border: var(--sklearn-color-unfitted-level-1) 1pt solid;\n",
              "}\n",
              "\n",
              "#sk-container-id-3 a.estimator_doc_link.fitted {\n",
              "  /* fitted */\n",
              "  border: var(--sklearn-color-fitted-level-1) 1pt solid;\n",
              "  color: var(--sklearn-color-fitted-level-1);\n",
              "}\n",
              "\n",
              "/* On hover */\n",
              "#sk-container-id-3 a.estimator_doc_link:hover {\n",
              "  /* unfitted */\n",
              "  background-color: var(--sklearn-color-unfitted-level-3);\n",
              "  color: var(--sklearn-color-background);\n",
              "  text-decoration: none;\n",
              "}\n",
              "\n",
              "#sk-container-id-3 a.estimator_doc_link.fitted:hover {\n",
              "  /* fitted */\n",
              "  background-color: var(--sklearn-color-fitted-level-3);\n",
              "}\n",
              "</style><div id=\"sk-container-id-3\" class=\"sk-top-container\"><div class=\"sk-text-repr-fallback\"><pre>Pipeline(steps=[(&#x27;simpleimputer&#x27;, SimpleImputer()),\n",
              "                (&#x27;linearregression&#x27;, LinearRegression())])</pre><b>In a Jupyter environment, please rerun this cell to show the HTML representation or trust the notebook. <br />On GitHub, the HTML representation is unable to render, please try loading this page with nbviewer.org.</b></div><div class=\"sk-container\" hidden><div class=\"sk-item sk-dashed-wrapped\"><div class=\"sk-label-container\"><div class=\"sk-label fitted sk-toggleable\"><input class=\"sk-toggleable__control sk-hidden--visually\" id=\"sk-estimator-id-5\" type=\"checkbox\" ><label for=\"sk-estimator-id-5\" class=\"sk-toggleable__label fitted sk-toggleable__label-arrow\"><div><div>Pipeline</div></div><div><a class=\"sk-estimator-doc-link fitted\" rel=\"noreferrer\" target=\"_blank\" href=\"https://scikit-learn.org/1.6/modules/generated/sklearn.pipeline.Pipeline.html\">?<span>Documentation for Pipeline</span></a><span class=\"sk-estimator-doc-link fitted\">i<span>Fitted</span></span></div></label><div class=\"sk-toggleable__content fitted\"><pre>Pipeline(steps=[(&#x27;simpleimputer&#x27;, SimpleImputer()),\n",
              "                (&#x27;linearregression&#x27;, LinearRegression())])</pre></div> </div></div><div class=\"sk-serial\"><div class=\"sk-item\"><div class=\"sk-estimator fitted sk-toggleable\"><input class=\"sk-toggleable__control sk-hidden--visually\" id=\"sk-estimator-id-6\" type=\"checkbox\" ><label for=\"sk-estimator-id-6\" class=\"sk-toggleable__label fitted sk-toggleable__label-arrow\"><div><div>SimpleImputer</div></div><div><a class=\"sk-estimator-doc-link fitted\" rel=\"noreferrer\" target=\"_blank\" href=\"https://scikit-learn.org/1.6/modules/generated/sklearn.impute.SimpleImputer.html\">?<span>Documentation for SimpleImputer</span></a></div></label><div class=\"sk-toggleable__content fitted\"><pre>SimpleImputer()</pre></div> </div></div><div class=\"sk-item\"><div class=\"sk-estimator fitted sk-toggleable\"><input class=\"sk-toggleable__control sk-hidden--visually\" id=\"sk-estimator-id-7\" type=\"checkbox\" ><label for=\"sk-estimator-id-7\" class=\"sk-toggleable__label fitted sk-toggleable__label-arrow\"><div><div>LinearRegression</div></div><div><a class=\"sk-estimator-doc-link fitted\" rel=\"noreferrer\" target=\"_blank\" href=\"https://scikit-learn.org/1.6/modules/generated/sklearn.linear_model.LinearRegression.html\">?<span>Documentation for LinearRegression</span></a></div></label><div class=\"sk-toggleable__content fitted\"><pre>LinearRegression()</pre></div> </div></div></div></div></div></div>"
            ]
          },
          "metadata": {},
          "execution_count": 43
        }
      ]
    },
    {
      "cell_type": "markdown",
      "source": [
        "Evaluate"
      ],
      "metadata": {
        "id": "hO940dYV3ehV"
      }
    },
    {
      "cell_type": "code",
      "source": [
        "y_pred_training_all = model_all.predict(X_train_all)\n",
        "y_pred_training_all[:5]"
      ],
      "metadata": {
        "colab": {
          "base_uri": "https://localhost:8080/"
        },
        "id": "ot_WQhzf3KdR",
        "outputId": "4e9ebeaf-f6df-48c9-ed93-964147a6f222"
      },
      "execution_count": null,
      "outputs": [
        {
          "output_type": "execute_result",
          "data": {
            "text/plain": [
              "array([154846.04697037, 662169.09378526, 299629.57147433, 136451.25636277,\n",
              "       170583.86220609])"
            ]
          },
          "metadata": {},
          "execution_count": 44
        }
      ]
    },
    {
      "cell_type": "markdown",
      "source": [
        "MAE Training"
      ],
      "metadata": {
        "id": "mX1OWxQg3k8O"
      }
    },
    {
      "cell_type": "code",
      "source": [
        "mae_training_all = mean_absolute_error(y_train_all, y_pred_training_all)\n",
        "mae_training_all"
      ],
      "metadata": {
        "colab": {
          "base_uri": "https://localhost:8080/"
        },
        "id": "gK8GIkgE3bXj",
        "outputId": "24c57109-5e95-4ab1-938a-c4da4d083029"
      },
      "execution_count": null,
      "outputs": [
        {
          "output_type": "execute_result",
          "data": {
            "text/plain": [
              "67936.67888485112"
            ]
          },
          "metadata": {},
          "execution_count": 45
        }
      ]
    },
    {
      "cell_type": "markdown",
      "source": [
        "The Model with both Size and Location has beat the baseline and has performed better than the previous models where I tried to predict price with the individual features. It will be more helpful in predicting Price that the previous LinearRegression Models."
      ],
      "metadata": {
        "id": "sb8pBIIv3268"
      }
    },
    {
      "cell_type": "markdown",
      "source": [
        "Communicate Results"
      ],
      "metadata": {
        "id": "I7EWmdvo4bol"
      }
    },
    {
      "cell_type": "markdown",
      "source": [
        "Extract Coefficients and Intercept and generating an Equation"
      ],
      "metadata": {
        "id": "fkVt2e1Y4fTb"
      }
    },
    {
      "cell_type": "code",
      "source": [
        "intercept_all = model_all.named_steps[\"linearregression\"].intercept_\n",
        "print(\"intercept:\", intercept_all)\n",
        "coefficient_all = model_all.named_steps[\"linearregression\"].coef_\n",
        "print(\"coefficient:\", coefficient_all)\n",
        "#Generating an equation\n",
        "print(f\"apt_price = {intercept_all} + {coefficient_all}*surface_covered_in_m2 + {coefficient_all}*latitude + {coefficient_all}*longitude\")"
      ],
      "metadata": {
        "colab": {
          "base_uri": "https://localhost:8080/"
        },
        "id": "rUE6hd7T3zns",
        "outputId": "492bcfc7-d10a-4b97-bdf1-648c7d60d70f"
      },
      "execution_count": null,
      "outputs": [
        {
          "output_type": "stream",
          "name": "stdout",
          "text": [
            "intercept: -70670987.96210913\n",
            "coefficient: [   1860.5358418   250984.76330801 -663655.11922083]\n",
            "apt_price = -70670987.96210913 + [   1860.5358418   250984.76330801 -663655.11922083]*surface_covered_in_m2 + [   1860.5358418   250984.76330801 -663655.11922083]*latitude + [   1860.5358418   250984.76330801 -663655.11922083]*longitude\n"
          ]
        }
      ]
    },
    {
      "cell_type": "code",
      "source": [],
      "metadata": {
        "id": "XMoHN2MW5RqO"
      },
      "execution_count": null,
      "outputs": []
    }
  ]
}