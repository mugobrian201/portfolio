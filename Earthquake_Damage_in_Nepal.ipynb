{
  "cells": [
    {
      "cell_type": "markdown",
      "metadata": {
        "id": "view-in-github",
        "colab_type": "text"
      },
      "source": [
        "<a href=\"https://colab.research.google.com/github/mugobrian201/portfolio/blob/main/Earthquake_Damage_in_Nepal.ipynb\" target=\"_parent\"><img src=\"https://colab.research.google.com/assets/colab-badge.svg\" alt=\"Open In Colab\"/></a>"
      ]
    },
    {
      "cell_type": "markdown",
      "source": [
        "This project will focus on analyzing data from the 2015 Nepal earthquake. The aim is to develop a predictive model to determine if a building will likely suffer severe damage in a similar earthquake based on its characteristics. I am going to use two Machine Learning Models, that is, Logistic Regression and Decision Tree Classifier. The project involves an end-to-end data science approach, starting with exploring my dataset, cleaning it and creating a wrangle function.\n",
        "\n",
        "This project is significant in the real world. By forecasting damage levels based on building features, it enhances preparedness through faster resource allocation and targeted rescue operations, potentially saving lives in remote terrains. It is useful in identifying vulnerable features in various buildings thus help in mitigating risks. These machine learning models will help reduce earthquake mortality rates."
      ],
      "metadata": {
        "id": "lUeeypL2XucR"
      }
    },
    {
      "cell_type": "markdown",
      "metadata": {
        "id": "k5tz0BVfX2sM"
      },
      "source": [
        "# **Part one : Predicting Damage with Logistic Regression**\n",
        "\n",
        "In this first part of my project, I will focus on preparing my csv data for building a classification model.\n",
        "\n",
        "I want to upload my csv file that I accessed from Kaggle.\n",
        "\n",
        "I also want to successfully import the necessary libraries.\n",
        "\n",
        "I want to prepare my data for binary classification (houses severely damaged vs houses not severely damaged). Then I create a Logistic Regression Model to predict severe damage. I will also explain Model predictions using odds ratio.\n",
        "\n",
        "I will also use the usual Machine Learning Workflow. In the import phase, I will prepare my data to work with a binary target. In the exploration phase, I will examine class balance and perform a randomized train-test split. In setting my baseline, I will use accuracy scores, then proceed with Logistic Regression during Iteration then evaluate my model using accuracy scores."
      ]
    },
    {
      "cell_type": "markdown",
      "metadata": {
        "id": "jU169W2KXnJq"
      },
      "source": [
        "Uploading my csv File"
      ]
    },
    {
      "cell_type": "code",
      "execution_count": 1,
      "metadata": {
        "colab": {
          "base_uri": "https://localhost:8080/",
          "height": 74
        },
        "id": "CtD2bSV3-HWe",
        "outputId": "08a19851-a684-4c30-f88c-82798b06bec8"
      },
      "outputs": [
        {
          "output_type": "display_data",
          "data": {
            "text/plain": [
              "<IPython.core.display.HTML object>"
            ],
            "text/html": [
              "\n",
              "     <input type=\"file\" id=\"files-27bbacaa-42b3-441b-9794-3d2e78fcdea3\" name=\"files[]\" multiple disabled\n",
              "        style=\"border:none\" />\n",
              "     <output id=\"result-27bbacaa-42b3-441b-9794-3d2e78fcdea3\">\n",
              "      Upload widget is only available when the cell has been executed in the\n",
              "      current browser session. Please rerun this cell to enable.\n",
              "      </output>\n",
              "      <script>// Copyright 2017 Google LLC\n",
              "//\n",
              "// Licensed under the Apache License, Version 2.0 (the \"License\");\n",
              "// you may not use this file except in compliance with the License.\n",
              "// You may obtain a copy of the License at\n",
              "//\n",
              "//      http://www.apache.org/licenses/LICENSE-2.0\n",
              "//\n",
              "// Unless required by applicable law or agreed to in writing, software\n",
              "// distributed under the License is distributed on an \"AS IS\" BASIS,\n",
              "// WITHOUT WARRANTIES OR CONDITIONS OF ANY KIND, either express or implied.\n",
              "// See the License for the specific language governing permissions and\n",
              "// limitations under the License.\n",
              "\n",
              "/**\n",
              " * @fileoverview Helpers for google.colab Python module.\n",
              " */\n",
              "(function(scope) {\n",
              "function span(text, styleAttributes = {}) {\n",
              "  const element = document.createElement('span');\n",
              "  element.textContent = text;\n",
              "  for (const key of Object.keys(styleAttributes)) {\n",
              "    element.style[key] = styleAttributes[key];\n",
              "  }\n",
              "  return element;\n",
              "}\n",
              "\n",
              "// Max number of bytes which will be uploaded at a time.\n",
              "const MAX_PAYLOAD_SIZE = 100 * 1024;\n",
              "\n",
              "function _uploadFiles(inputId, outputId) {\n",
              "  const steps = uploadFilesStep(inputId, outputId);\n",
              "  const outputElement = document.getElementById(outputId);\n",
              "  // Cache steps on the outputElement to make it available for the next call\n",
              "  // to uploadFilesContinue from Python.\n",
              "  outputElement.steps = steps;\n",
              "\n",
              "  return _uploadFilesContinue(outputId);\n",
              "}\n",
              "\n",
              "// This is roughly an async generator (not supported in the browser yet),\n",
              "// where there are multiple asynchronous steps and the Python side is going\n",
              "// to poll for completion of each step.\n",
              "// This uses a Promise to block the python side on completion of each step,\n",
              "// then passes the result of the previous step as the input to the next step.\n",
              "function _uploadFilesContinue(outputId) {\n",
              "  const outputElement = document.getElementById(outputId);\n",
              "  const steps = outputElement.steps;\n",
              "\n",
              "  const next = steps.next(outputElement.lastPromiseValue);\n",
              "  return Promise.resolve(next.value.promise).then((value) => {\n",
              "    // Cache the last promise value to make it available to the next\n",
              "    // step of the generator.\n",
              "    outputElement.lastPromiseValue = value;\n",
              "    return next.value.response;\n",
              "  });\n",
              "}\n",
              "\n",
              "/**\n",
              " * Generator function which is called between each async step of the upload\n",
              " * process.\n",
              " * @param {string} inputId Element ID of the input file picker element.\n",
              " * @param {string} outputId Element ID of the output display.\n",
              " * @return {!Iterable<!Object>} Iterable of next steps.\n",
              " */\n",
              "function* uploadFilesStep(inputId, outputId) {\n",
              "  const inputElement = document.getElementById(inputId);\n",
              "  inputElement.disabled = false;\n",
              "\n",
              "  const outputElement = document.getElementById(outputId);\n",
              "  outputElement.innerHTML = '';\n",
              "\n",
              "  const pickedPromise = new Promise((resolve) => {\n",
              "    inputElement.addEventListener('change', (e) => {\n",
              "      resolve(e.target.files);\n",
              "    });\n",
              "  });\n",
              "\n",
              "  const cancel = document.createElement('button');\n",
              "  inputElement.parentElement.appendChild(cancel);\n",
              "  cancel.textContent = 'Cancel upload';\n",
              "  const cancelPromise = new Promise((resolve) => {\n",
              "    cancel.onclick = () => {\n",
              "      resolve(null);\n",
              "    };\n",
              "  });\n",
              "\n",
              "  // Wait for the user to pick the files.\n",
              "  const files = yield {\n",
              "    promise: Promise.race([pickedPromise, cancelPromise]),\n",
              "    response: {\n",
              "      action: 'starting',\n",
              "    }\n",
              "  };\n",
              "\n",
              "  cancel.remove();\n",
              "\n",
              "  // Disable the input element since further picks are not allowed.\n",
              "  inputElement.disabled = true;\n",
              "\n",
              "  if (!files) {\n",
              "    return {\n",
              "      response: {\n",
              "        action: 'complete',\n",
              "      }\n",
              "    };\n",
              "  }\n",
              "\n",
              "  for (const file of files) {\n",
              "    const li = document.createElement('li');\n",
              "    li.append(span(file.name, {fontWeight: 'bold'}));\n",
              "    li.append(span(\n",
              "        `(${file.type || 'n/a'}) - ${file.size} bytes, ` +\n",
              "        `last modified: ${\n",
              "            file.lastModifiedDate ? file.lastModifiedDate.toLocaleDateString() :\n",
              "                                    'n/a'} - `));\n",
              "    const percent = span('0% done');\n",
              "    li.appendChild(percent);\n",
              "\n",
              "    outputElement.appendChild(li);\n",
              "\n",
              "    const fileDataPromise = new Promise((resolve) => {\n",
              "      const reader = new FileReader();\n",
              "      reader.onload = (e) => {\n",
              "        resolve(e.target.result);\n",
              "      };\n",
              "      reader.readAsArrayBuffer(file);\n",
              "    });\n",
              "    // Wait for the data to be ready.\n",
              "    let fileData = yield {\n",
              "      promise: fileDataPromise,\n",
              "      response: {\n",
              "        action: 'continue',\n",
              "      }\n",
              "    };\n",
              "\n",
              "    // Use a chunked sending to avoid message size limits. See b/62115660.\n",
              "    let position = 0;\n",
              "    do {\n",
              "      const length = Math.min(fileData.byteLength - position, MAX_PAYLOAD_SIZE);\n",
              "      const chunk = new Uint8Array(fileData, position, length);\n",
              "      position += length;\n",
              "\n",
              "      const base64 = btoa(String.fromCharCode.apply(null, chunk));\n",
              "      yield {\n",
              "        response: {\n",
              "          action: 'append',\n",
              "          file: file.name,\n",
              "          data: base64,\n",
              "        },\n",
              "      };\n",
              "\n",
              "      let percentDone = fileData.byteLength === 0 ?\n",
              "          100 :\n",
              "          Math.round((position / fileData.byteLength) * 100);\n",
              "      percent.textContent = `${percentDone}% done`;\n",
              "\n",
              "    } while (position < fileData.byteLength);\n",
              "  }\n",
              "\n",
              "  // All done.\n",
              "  yield {\n",
              "    response: {\n",
              "      action: 'complete',\n",
              "    }\n",
              "  };\n",
              "}\n",
              "\n",
              "scope.google = scope.google || {};\n",
              "scope.google.colab = scope.google.colab || {};\n",
              "scope.google.colab._files = {\n",
              "  _uploadFiles,\n",
              "  _uploadFilesContinue,\n",
              "};\n",
              "})(self);\n",
              "</script> "
            ]
          },
          "metadata": {}
        },
        {
          "output_type": "stream",
          "name": "stdout",
          "text": [
            "Saving nepal.sqlite.csv to nepal.sqlite.csv\n"
          ]
        }
      ],
      "source": [
        "# Uploading my nepal.sqlite file to Colab\n",
        "from google.colab import files\n",
        "import pandas as pd\n",
        "\n",
        "# Upload my csv file\n",
        "uploaded = files.upload()"
      ]
    },
    {
      "cell_type": "markdown",
      "metadata": {
        "id": "uOEckBsbXsH9"
      },
      "source": [
        "Importing the necessary libraries"
      ]
    },
    {
      "cell_type": "code",
      "execution_count": null,
      "metadata": {
        "id": "hR_lUqrpUyYu",
        "collapsed": true
      },
      "outputs": [],
      "source": [
        "!pip install category_encoders"
      ]
    },
    {
      "cell_type": "code",
      "execution_count": 3,
      "metadata": {
        "id": "CXGBovfETtUt"
      },
      "outputs": [],
      "source": [
        "import warnings\n",
        "\n",
        "import matplotlib.pyplot as plt\n",
        "import numpy as np\n",
        "import pandas as pd\n",
        "import seaborn as sns\n",
        "from category_encoders import OneHotEncoder, OrdinalEncoder\n",
        "from sklearn.linear_model import LogisticRegression\n",
        "from sklearn.metrics import accuracy_score\n",
        "from sklearn.model_selection import train_test_split\n",
        "from sklearn.pipeline import Pipeline, make_pipeline\n",
        "from sklearn.tree import DecisionTreeClassifier, plot_tree\n",
        "\n",
        "\n",
        "warnings.simplefilter(action=\"ignore\", category=FutureWarning)"
      ]
    },
    {
      "cell_type": "markdown",
      "metadata": {
        "id": "P-vxxBrDcRBO"
      },
      "source": [
        "# **WRANGLE FUNCTION**"
      ]
    },
    {
      "cell_type": "code",
      "execution_count": 4,
      "metadata": {
        "id": "I_JjM670cVh_"
      },
      "outputs": [],
      "source": [
        "def wrangle(filepath):\n",
        "  df = pd.read_csv(filepath)\n",
        "  #Identify leaky columns\n",
        "  drop_cols = [col for col in df.columns if \"post_eq\" in col]\n",
        "  #Drop 'post_eq' features\n",
        "  df.drop(columns=drop_cols, inplace=True)\n",
        "  #Set 'building_id' as my index\n",
        "  df.set_index(\"building_id\", inplace=True)\n",
        "  #Drop NaN Values\n",
        "  df.dropna(inplace=True)\n",
        "  #Accessing a number in a string and converting it from object to integer then reassign it\n",
        "  df[\"damage_grade\"] = df[\"damage_grade\"].str[-1].astype(int)\n",
        "  #Binary Encoding\n",
        "  #Grades 1-3(0) and grades 4-5(1)\n",
        "  df[\"severe_damage\"] = (df[\"damage_grade\"] > 3).astype(int)\n",
        "  #Drop leaky feature, highly correlated feature, drop other irrelevant columns\n",
        "  df.drop(columns=[\"damage_grade\",\"count_floors_pre_eq\",\"district_id\", \"vdcmun_id\", \"ward_id\", \"technical_solution_proposed\"], inplace=True)\n",
        "\n",
        "\n",
        "  return df"
      ]
    },
    {
      "cell_type": "code",
      "execution_count": 5,
      "metadata": {
        "id": "ouyUWP1hHU6P",
        "colab": {
          "base_uri": "https://localhost:8080/"
        },
        "outputId": "b8998cb7-3750-4cde-8afd-f50713dbdb11"
      },
      "outputs": [
        {
          "output_type": "stream",
          "name": "stdout",
          "text": [
            "<class 'pandas.core.frame.DataFrame'>\n",
            "Index: 762094 entries, 120101000011 to 366709001281\n",
            "Data columns (total 12 columns):\n",
            " #   Column                  Non-Null Count   Dtype \n",
            "---  ------                  --------------   ----- \n",
            " 0   age_building            762094 non-null  int64 \n",
            " 1   plinth_area_sq_ft       762094 non-null  int64 \n",
            " 2   height_ft_pre_eq        762094 non-null  int64 \n",
            " 3   land_surface_condition  762094 non-null  object\n",
            " 4   foundation_type         762094 non-null  object\n",
            " 5   roof_type               762094 non-null  object\n",
            " 6   ground_floor_type       762094 non-null  object\n",
            " 7   other_floor_type        762094 non-null  object\n",
            " 8   position                762094 non-null  object\n",
            " 9   plan_configuration      762094 non-null  object\n",
            " 10  superstructure          762094 non-null  object\n",
            " 11  severe_damage           762094 non-null  int64 \n",
            "dtypes: int64(4), object(8)\n",
            "memory usage: 75.6+ MB\n"
          ]
        }
      ],
      "source": [
        "df = wrangle(\"nepal.sqlite.csv\")\n",
        "df.info()"
      ]
    },
    {
      "cell_type": "markdown",
      "metadata": {
        "id": "MZzXT65wf0u7"
      },
      "source": [
        "# **Drop Leaky Features**"
      ]
    },
    {
      "cell_type": "markdown",
      "metadata": {
        "id": "tz492tnDf167"
      },
      "source": [
        "I need to examine the features in my csv file to see which columns need to be kept and which need to be dropped.\n",
        "\n",
        "My aim is to predict whether a building will suffer severe damage or not in an earthquake(before the earthquake happens).\n",
        "\n",
        "Such features would give the model information it would not have in the real world. During training, the model should not have any post-earhquake information.\n",
        "\n",
        "I will also create a wrangle function that will contain the changes I will make to my dataset."
      ]
    },
    {
      "cell_type": "markdown",
      "metadata": {
        "id": "f1YdrpQSgWrX"
      },
      "source": [
        "# **Binary Classification Feature**"
      ]
    },
    {
      "cell_type": "markdown",
      "metadata": {
        "id": "mtBQ3YsDgdGX"
      },
      "source": [
        "I am dealing with a binary classification problem. I need to categorize the buildings into two groups; that is, severely damaged and not serverely damaged. I will need to explore the 'damage_grade' column to see what is present.\n",
        "\n",
        "The column is of data type object, and each building consists of a grade followed by a number. There are 5 different levels of damage, from least to most severely damaged. I will pull 1,2,3,4,5 without 'Grade' ie. Access a string and convert it from object to integer and reassign it.\n",
        "\n",
        "I want to create two classes: the most severely damaged buildings (damage grade 4 or 5) as the positive class labeled as one, and the rest as the negative class labeled as zero, which will be added to my wrangle function.\n",
        "\n",
        "I will then drop 'damage_grade' column to avoid leakage."
      ]
    },
    {
      "cell_type": "code",
      "execution_count": 6,
      "metadata": {
        "id": "PeTxAIiZt1Dw",
        "colab": {
          "base_uri": "https://localhost:8080/"
        },
        "outputId": "0bbf033c-00ad-4f43-f830-eb73de557a2f"
      },
      "outputs": [
        {
          "output_type": "stream",
          "name": "stdout",
          "text": [
            "severe_damage\n",
            "1    459610\n",
            "0    302484\n",
            "Name: count, dtype: int64\n"
          ]
        }
      ],
      "source": [
        "print(df[\"severe_damage\"].value_counts())"
      ]
    },
    {
      "cell_type": "markdown",
      "metadata": {
        "id": "078IbOM1pRLB"
      },
      "source": [
        "# **EXPLORE**"
      ]
    },
    {
      "cell_type": "markdown",
      "metadata": {
        "id": "6GmDfTaguInh"
      },
      "source": [
        "For a Logistic Regression, the issue of Multicollinearity also needs to be considered. This will be through a Heatmap and Correlation Matrix.\n",
        "\n",
        "I will consider all features that involve numbers and drop the target variable."
      ]
    },
    {
      "cell_type": "markdown",
      "metadata": {
        "id": "BFd5qKmAu8cg"
      },
      "source": [
        "## **Correlation Heatmap**"
      ]
    },
    {
      "cell_type": "code",
      "execution_count": 7,
      "metadata": {
        "id": "aHs8VIGkjWbj",
        "colab": {
          "base_uri": "https://localhost:8080/",
          "height": 453
        },
        "outputId": "b0d9efe0-e4dc-464a-bfd6-35d547bb46e5"
      },
      "outputs": [
        {
          "output_type": "execute_result",
          "data": {
            "text/plain": [
              "<Axes: >"
            ]
          },
          "metadata": {},
          "execution_count": 7
        },
        {
          "output_type": "display_data",
          "data": {
            "text/plain": [
              "<Figure size 640x480 with 2 Axes>"
            ],
            "image/png": "[encoded data removed]"
          },
          "metadata": {}
        }
      ],
      "source": [
        "#Correlation Matrix\n",
        "correlation = df.select_dtypes(\"number\").drop(columns=\"severe_damage\").corr()\n",
        "#Plot correlation Matrix\n",
        "sns.heatmap(correlation)"
      ]
    },
    {
      "cell_type": "markdown",
      "metadata": {
        "id": "LfRCNcmYwG4Y"
      },
      "source": [
        "From the above visualization, the dark colors represent little to no correlation while the brighter colors indicate a stronger positive correlation. I need to focus on the brighter colors.\n",
        "\n",
        "It is clear that there is a strong correlation between the number of floors in the building and the height of the building. One of these two columns need to be dropped.\n",
        "\n",
        "I will look at the correlation between each of these columns and the target variable column and the feature with a larger positive correlation will be dropped."
      ]
    },
    {
      "cell_type": "code",
      "execution_count": null,
      "metadata": {
        "id": "Q0lsd_42vM3v"
      },
      "outputs": [],
      "source": [
        "df['severe_damage'].corr(df['count_floors_pre_eq'])"
      ]
    },
    {
      "cell_type": "code",
      "execution_count": null,
      "metadata": {
        "id": "aVCTgcQkxiag"
      },
      "outputs": [],
      "source": [
        "df['severe_damage'].corr(df['height_ft_pre_eq'])"
      ]
    },
    {
      "cell_type": "markdown",
      "metadata": {
        "id": "qBDiGX-pxqoZ"
      },
      "source": [
        "The number of floors have a higher correlation with the target column hence needs to be dropped."
      ]
    },
    {
      "cell_type": "markdown",
      "metadata": {
        "id": "ZiiS8zjNzBqF"
      },
      "source": [
        "## **Seaborn Boxplot**"
      ]
    },
    {
      "cell_type": "markdown",
      "metadata": {
        "id": "fxSaNMWSy8R9"
      },
      "source": [
        "I want to check if there is a relationship between my target column(which is a categorical variable) and the other features where most of them are continous variable. I will be able to achieve this using a seaborn boxplot"
      ]
    },
    {
      "cell_type": "code",
      "execution_count": 9,
      "metadata": {
        "id": "vvJmEBccy7-J",
        "colab": {
          "base_uri": "https://localhost:8080/",
          "height": 490
        },
        "outputId": "07aa6549-79b3-4de8-c31b-f68346a1bac0"
      },
      "outputs": [
        {
          "output_type": "execute_result",
          "data": {
            "text/plain": [
              "Text(0.5, 1.0, 'Distribution of Height by class')"
            ]
          },
          "metadata": {},
          "execution_count": 9
        },
        {
          "output_type": "display_data",
          "data": {
            "text/plain": [
              "<Figure size 640x480 with 1 Axes>"
            ],
            "image/png": "[encoded data removed]"
          },
          "metadata": {}
        }
      ],
      "source": [
        "sns.boxplot(x=\"severe_damage\", y=\"height_ft_pre_eq\", data=df)\n",
        "plt.title(\"Distribution of Height by class\")"
      ]
    },
    {
      "cell_type": "markdown",
      "metadata": {
        "id": "BDGHZRgX1gcF"
      },
      "source": [
        "From the visualization, it is clear that most buildings that did not suffer severe damage are below 20 feet. However, there is no significant difference between the two classes. If there would be a significant difference between the two, it would indicate a stronger relationship between the two.\n",
        "\n",
        "I want to look at the proportion between less severely damaged buildings and severely damaged buildings, through code and also visualization."
      ]
    },
    {
      "cell_type": "markdown",
      "metadata": {
        "id": "s-JOLYo_2kcj"
      },
      "source": [
        "# **Class Balance Bar Chart**"
      ]
    },
    {
      "cell_type": "code",
      "execution_count": 10,
      "metadata": {
        "id": "y_zc__5V0k5s",
        "colab": {
          "base_uri": "https://localhost:8080/",
          "height": 485
        },
        "outputId": "58a8b27f-1eac-4ce1-a56d-d70dcef99689"
      },
      "outputs": [
        {
          "output_type": "execute_result",
          "data": {
            "text/plain": [
              "<Axes: title={'center': 'Class Balance Bar Chart'}, xlabel='Class', ylabel='Frequency'>"
            ]
          },
          "metadata": {},
          "execution_count": 10
        },
        {
          "output_type": "display_data",
          "data": {
            "text/plain": [
              "<Figure size 640x480 with 1 Axes>"
            ],
            "image/png": "[encoded data removed]"
          },
          "metadata": {}
        }
      ],
      "source": [
        "df[\"severe_damage\"].value_counts(normalize=True).plot(kind=\"bar\", xlabel=\"Class\", ylabel=\"Frequency\", title=\"Class Balance Bar Chart\")"
      ]
    },
    {
      "cell_type": "markdown",
      "metadata": {
        "id": "1BkETGYN3EXK"
      },
      "source": [
        "It is clear that 60% of the buildings are severely damaged while 40% of the buildings are less severely damaged. This shows a good balance between the classes(not an imbalanced dataset)\n",
        "\n",
        "I want to also create two variables that will store the proportion of each of the classes.\n",
        "\n"
      ]
    },
    {
      "cell_type": "code",
      "execution_count": 11,
      "metadata": {
        "id": "CD7uj_bT27Yj",
        "colab": {
          "base_uri": "https://localhost:8080/"
        },
        "outputId": "0f39a523-46f5-4c03-f1f0-b69e64deccf2"
      },
      "outputs": [
        {
          "output_type": "stream",
          "name": "stdout",
          "text": [
            "0.6030883329353072 0.39691166706469283\n"
          ]
        }
      ],
      "source": [
        "majority_class_prop, minority_class_prop = df[\"severe_damage\"].value_counts(normalize=True)\n",
        "print(majority_class_prop, minority_class_prop)"
      ]
    },
    {
      "cell_type": "markdown",
      "metadata": {
        "id": "3Fehz2RF4q8B"
      },
      "source": [
        "# **Pivot Table**"
      ]
    },
    {
      "cell_type": "markdown",
      "metadata": {
        "id": "3JMSbAEH4v2l"
      },
      "source": [
        "A tool in Data Science used to summarize and reorganize data from a long and narrow format to a short and wide format.\n",
        "\n",
        "I want to look at the relationship between the foundation type of a building and whether that building suffered severe damage.\n",
        "\n",
        "The mean function will be used to calculate the mean of each group's severe damage proportion."
      ]
    },
    {
      "cell_type": "code",
      "execution_count": 12,
      "metadata": {
        "id": "5hTDgzD54PCr",
        "colab": {
          "base_uri": "https://localhost:8080/",
          "height": 237
        },
        "outputId": "33258fba-4294-4a7d-f5a1-79e15e4f0531"
      },
      "outputs": [
        {
          "output_type": "execute_result",
          "data": {
            "text/plain": [
              "                        severe_damage\n",
              "foundation_type                      \n",
              "RC                           0.038263\n",
              "Bamboo/Timber                0.237855\n",
              "Cement-Stone/Brick           0.296904\n",
              "Other                        0.510545\n",
              "Mud mortar-Stone/Brick       0.685115"
            ],
            "text/html": [
              "\n",
              "  <div id=\"df-9a8d43e5-ef59-4fb9-b86e-4d9f47a20786\" class=\"colab-df-container\">\n",
              "    <div>\n",
              "<style scoped>\n",
              "    .dataframe tbody tr th:only-of-type {\n",
              "        vertical-align: middle;\n",
              "    }\n",
              "\n",
              "    .dataframe tbody tr th {\n",
              "        vertical-align: top;\n",
              "    }\n",
              "\n",
              "    .dataframe thead th {\n",
              "        text-align: right;\n",
              "    }\n",
              "</style>\n",
              "<table border=\"1\" class=\"dataframe\">\n",
              "  <thead>\n",
              "    <tr style=\"text-align: right;\">\n",
              "      <th></th>\n",
              "      <th>severe_damage</th>\n",
              "    </tr>\n",
              "    <tr>\n",
              "      <th>foundation_type</th>\n",
              "      <th></th>\n",
              "    </tr>\n",
              "  </thead>\n",
              "  <tbody>\n",
              "    <tr>\n",
              "      <th>RC</th>\n",
              "      <td>0.038263</td>\n",
              "    </tr>\n",
              "    <tr>\n",
              "      <th>Bamboo/Timber</th>\n",
              "      <td>0.237855</td>\n",
              "    </tr>\n",
              "    <tr>\n",
              "      <th>Cement-Stone/Brick</th>\n",
              "      <td>0.296904</td>\n",
              "    </tr>\n",
              "    <tr>\n",
              "      <th>Other</th>\n",
              "      <td>0.510545</td>\n",
              "    </tr>\n",
              "    <tr>\n",
              "      <th>Mud mortar-Stone/Brick</th>\n",
              "      <td>0.685115</td>\n",
              "    </tr>\n",
              "  </tbody>\n",
              "</table>\n",
              "</div>\n",
              "    <div class=\"colab-df-buttons\">\n",
              "\n",
              "  <div class=\"colab-df-container\">\n",
              "    <button class=\"colab-df-convert\" onclick=\"convertToInteractive('df-9a8d43e5-ef59-4fb9-b86e-4d9f47a20786')\"\n",
              "            title=\"Convert this dataframe to an interactive table.\"\n",
              "            style=\"display:none;\">\n",
              "\n",
              "  <svg xmlns=\"http://www.w3.org/2000/svg\" height=\"24px\" viewBox=\"0 -960 960 960\">\n",
              "    <path d=\"M120-120v-720h720v720H120Zm60-500h600v-160H180v160Zm220 220h160v-160H400v160Zm0 220h160v-160H400v160ZM180-400h160v-160H180v160Zm440 0h160v-160H620v160ZM180-180h160v-160H180v160Zm440 0h160v-160H620v160Z\"/>\n",
              "  </svg>\n",
              "    </button>\n",
              "\n",
              "  <style>\n",
              "    .colab-df-container {\n",
              "      display:flex;\n",
              "      gap: 12px;\n",
              "    }\n",
              "\n",
              "    .colab-df-convert {\n",
              "      background-color: #E8F0FE;\n",
              "      border: none;\n",
              "      border-radius: 50%;\n",
              "      cursor: pointer;\n",
              "      display: none;\n",
              "      fill: #1967D2;\n",
              "      height: 32px;\n",
              "      padding: 0 0 0 0;\n",
              "      width: 32px;\n",
              "    }\n",
              "\n",
              "    .colab-df-convert:hover {\n",
              "      background-color: #E2EBFA;\n",
              "      box-shadow: 0px 1px 2px rgba(60, 64, 67, 0.3), 0px 1px 3px 1px rgba(60, 64, 67, 0.15);\n",
              "      fill: #174EA6;\n",
              "    }\n",
              "\n",
              "    .colab-df-buttons div {\n",
              "      margin-bottom: 4px;\n",
              "    }\n",
              "\n",
              "    [theme=dark] .colab-df-convert {\n",
              "      background-color: #3B4455;\n",
              "      fill: #D2E3FC;\n",
              "    }\n",
              "\n",
              "    [theme=dark] .colab-df-convert:hover {\n",
              "      background-color: #434B5C;\n",
              "      box-shadow: 0px 1px 3px 1px rgba(0, 0, 0, 0.15);\n",
              "      filter: drop-shadow(0px 1px 2px rgba(0, 0, 0, 0.3));\n",
              "      fill: #FFFFFF;\n",
              "    }\n",
              "  </style>\n",
              "\n",
              "    <script>\n",
              "      const buttonEl =\n",
              "        document.querySelector('#df-9a8d43e5-ef59-4fb9-b86e-4d9f47a20786 button.colab-df-convert');\n",
              "      buttonEl.style.display =\n",
              "        google.colab.kernel.accessAllowed ? 'block' : 'none';\n",
              "\n",
              "      async function convertToInteractive(key) {\n",
              "        const element = document.querySelector('#df-9a8d43e5-ef59-4fb9-b86e-4d9f47a20786');\n",
              "        const dataTable =\n",
              "          await google.colab.kernel.invokeFunction('convertToInteractive',\n",
              "                                                    [key], {});\n",
              "        if (!dataTable) return;\n",
              "\n",
              "        const docLinkHtml = 'Like what you see? Visit the ' +\n",
              "          '<a target=\"_blank\" href=https://colab.research.google.com/notebooks/data_table.ipynb>data table notebook</a>'\n",
              "          + ' to learn more about interactive tables.';\n",
              "        element.innerHTML = '';\n",
              "        dataTable['output_type'] = 'display_data';\n",
              "        await google.colab.output.renderOutput(dataTable, element);\n",
              "        const docLink = document.createElement('div');\n",
              "        docLink.innerHTML = docLinkHtml;\n",
              "        element.appendChild(docLink);\n",
              "      }\n",
              "    </script>\n",
              "  </div>\n",
              "\n",
              "\n",
              "    <div id=\"df-2ddf91ac-1dae-443d-8730-28fa85dfda1e\">\n",
              "      <button class=\"colab-df-quickchart\" onclick=\"quickchart('df-2ddf91ac-1dae-443d-8730-28fa85dfda1e')\"\n",
              "                title=\"Suggest charts\"\n",
              "                style=\"display:none;\">\n",
              "\n",
              "<svg xmlns=\"http://www.w3.org/2000/svg\" height=\"24px\"viewBox=\"0 0 24 24\"\n",
              "     width=\"24px\">\n",
              "    <g>\n",
              "        <path d=\"M19 3H5c-1.1 0-2 .9-2 2v14c0 1.1.9 2 2 2h14c1.1 0 2-.9 2-2V5c0-1.1-.9-2-2-2zM9 17H7v-7h2v7zm4 0h-2V7h2v10zm4 0h-2v-4h2v4z\"/>\n",
              "    </g>\n",
              "</svg>\n",
              "      </button>\n",
              "\n",
              "<style>\n",
              "  .colab-df-quickchart {\n",
              "      --bg-color: #E8F0FE;\n",
              "      --fill-color: #1967D2;\n",
              "      --hover-bg-color: #E2EBFA;\n",
              "      --hover-fill-color: #174EA6;\n",
              "      --disabled-fill-color: #AAA;\n",
              "      --disabled-bg-color: #DDD;\n",
              "  }\n",
              "\n",
              "  [theme=dark] .colab-df-quickchart {\n",
              "      --bg-color: #3B4455;\n",
              "      --fill-color: #D2E3FC;\n",
              "      --hover-bg-color: #434B5C;\n",
              "      --hover-fill-color: #FFFFFF;\n",
              "      --disabled-bg-color: #3B4455;\n",
              "      --disabled-fill-color: #666;\n",
              "  }\n",
              "\n",
              "  .colab-df-quickchart {\n",
              "    background-color: var(--bg-color);\n",
              "    border: none;\n",
              "    border-radius: 50%;\n",
              "    cursor: pointer;\n",
              "    display: none;\n",
              "    fill: var(--fill-color);\n",
              "    height: 32px;\n",
              "    padding: 0;\n",
              "    width: 32px;\n",
              "  }\n",
              "\n",
              "  .colab-df-quickchart:hover {\n",
              "    background-color: var(--hover-bg-color);\n",
              "    box-shadow: 0 1px 2px rgba(60, 64, 67, 0.3), 0 1px 3px 1px rgba(60, 64, 67, 0.15);\n",
              "    fill: var(--button-hover-fill-color);\n",
              "  }\n",
              "\n",
              "  .colab-df-quickchart-complete:disabled,\n",
              "  .colab-df-quickchart-complete:disabled:hover {\n",
              "    background-color: var(--disabled-bg-color);\n",
              "    fill: var(--disabled-fill-color);\n",
              "    box-shadow: none;\n",
              "  }\n",
              "\n",
              "  .colab-df-spinner {\n",
              "    border: 2px solid var(--fill-color);\n",
              "    border-color: transparent;\n",
              "    border-bottom-color: var(--fill-color);\n",
              "    animation:\n",
              "      spin 1s steps(1) infinite;\n",
              "  }\n",
              "\n",
              "  @keyframes spin {\n",
              "    0% {\n",
              "      border-color: transparent;\n",
              "      border-bottom-color: var(--fill-color);\n",
              "      border-left-color: var(--fill-color);\n",
              "    }\n",
              "    20% {\n",
              "      border-color: transparent;\n",
              "      border-left-color: var(--fill-color);\n",
              "      border-top-color: var(--fill-color);\n",
              "    }\n",
              "    30% {\n",
              "      border-color: transparent;\n",
              "      border-left-color: var(--fill-color);\n",
              "      border-top-color: var(--fill-color);\n",
              "      border-right-color: var(--fill-color);\n",
              "    }\n",
              "    40% {\n",
              "      border-color: transparent;\n",
              "      border-right-color: var(--fill-color);\n",
              "      border-top-color: var(--fill-color);\n",
              "    }\n",
              "    60% {\n",
              "      border-color: transparent;\n",
              "      border-right-color: var(--fill-color);\n",
              "    }\n",
              "    80% {\n",
              "      border-color: transparent;\n",
              "      border-right-color: var(--fill-color);\n",
              "      border-bottom-color: var(--fill-color);\n",
              "    }\n",
              "    90% {\n",
              "      border-color: transparent;\n",
              "      border-bottom-color: var(--fill-color);\n",
              "    }\n",
              "  }\n",
              "</style>\n",
              "\n",
              "      <script>\n",
              "        async function quickchart(key) {\n",
              "          const quickchartButtonEl =\n",
              "            document.querySelector('#' + key + ' button');\n",
              "          quickchartButtonEl.disabled = true;  // To prevent multiple clicks.\n",
              "          quickchartButtonEl.classList.add('colab-df-spinner');\n",
              "          try {\n",
              "            const charts = await google.colab.kernel.invokeFunction(\n",
              "                'suggestCharts', [key], {});\n",
              "          } catch (error) {\n",
              "            console.error('Error during call to suggestCharts:', error);\n",
              "          }\n",
              "          quickchartButtonEl.classList.remove('colab-df-spinner');\n",
              "          quickchartButtonEl.classList.add('colab-df-quickchart-complete');\n",
              "        }\n",
              "        (() => {\n",
              "          let quickchartButtonEl =\n",
              "            document.querySelector('#df-2ddf91ac-1dae-443d-8730-28fa85dfda1e button');\n",
              "          quickchartButtonEl.style.display =\n",
              "            google.colab.kernel.accessAllowed ? 'block' : 'none';\n",
              "        })();\n",
              "      </script>\n",
              "    </div>\n",
              "\n",
              "  <div id=\"id_4b9def53-cd76-4d0e-b19e-0a13107932f1\">\n",
              "    <style>\n",
              "      .colab-df-generate {\n",
              "        background-color: #E8F0FE;\n",
              "        border: none;\n",
              "        border-radius: 50%;\n",
              "        cursor: pointer;\n",
              "        display: none;\n",
              "        fill: #1967D2;\n",
              "        height: 32px;\n",
              "        padding: 0 0 0 0;\n",
              "        width: 32px;\n",
              "      }\n",
              "\n",
              "      .colab-df-generate:hover {\n",
              "        background-color: #E2EBFA;\n",
              "        box-shadow: 0px 1px 2px rgba(60, 64, 67, 0.3), 0px 1px 3px 1px rgba(60, 64, 67, 0.15);\n",
              "        fill: #174EA6;\n",
              "      }\n",
              "\n",
              "      [theme=dark] .colab-df-generate {\n",
              "        background-color: #3B4455;\n",
              "        fill: #D2E3FC;\n",
              "      }\n",
              "\n",
              "      [theme=dark] .colab-df-generate:hover {\n",
              "        background-color: #434B5C;\n",
              "        box-shadow: 0px 1px 3px 1px rgba(0, 0, 0, 0.15);\n",
              "        filter: drop-shadow(0px 1px 2px rgba(0, 0, 0, 0.3));\n",
              "        fill: #FFFFFF;\n",
              "      }\n",
              "    </style>\n",
              "    <button class=\"colab-df-generate\" onclick=\"generateWithVariable('foundation_pivot')\"\n",
              "            title=\"Generate code using this dataframe.\"\n",
              "            style=\"display:none;\">\n",
              "\n",
              "  <svg xmlns=\"http://www.w3.org/2000/svg\" height=\"24px\"viewBox=\"0 0 24 24\"\n",
              "       width=\"24px\">\n",
              "    <path d=\"M7,19H8.4L18.45,9,17,7.55,7,17.6ZM5,21V16.75L18.45,3.32a2,2,0,0,1,2.83,0l1.4,1.43a1.91,1.91,0,0,1,.58,1.4,1.91,1.91,0,0,1-.58,1.4L9.25,21ZM18.45,9,17,7.55Zm-12,3A5.31,5.31,0,0,0,4.9,8.1,5.31,5.31,0,0,0,1,6.5,5.31,5.31,0,0,0,4.9,4.9,5.31,5.31,0,0,0,6.5,1,5.31,5.31,0,0,0,8.1,4.9,5.31,5.31,0,0,0,12,6.5,5.46,5.46,0,0,0,6.5,12Z\"/>\n",
              "  </svg>\n",
              "    </button>\n",
              "    <script>\n",
              "      (() => {\n",
              "      const buttonEl =\n",
              "        document.querySelector('#id_4b9def53-cd76-4d0e-b19e-0a13107932f1 button.colab-df-generate');\n",
              "      buttonEl.style.display =\n",
              "        google.colab.kernel.accessAllowed ? 'block' : 'none';\n",
              "\n",
              "      buttonEl.onclick = () => {\n",
              "        google.colab.notebook.generateWithVariable('foundation_pivot');\n",
              "      }\n",
              "      })();\n",
              "    </script>\n",
              "  </div>\n",
              "\n",
              "    </div>\n",
              "  </div>\n"
            ],
            "application/vnd.google.colaboratory.intrinsic+json": {
              "type": "dataframe",
              "variable_name": "foundation_pivot",
              "summary": "{\n  \"name\": \"foundation_pivot\",\n  \"rows\": 5,\n  \"fields\": [\n    {\n      \"column\": \"foundation_type\",\n      \"properties\": {\n        \"dtype\": \"string\",\n        \"num_unique_values\": 5,\n        \"samples\": [\n          \"Bamboo/Timber\",\n          \"Mud mortar-Stone/Brick\",\n          \"Cement-Stone/Brick\"\n        ],\n        \"semantic_type\": \"\",\n        \"description\": \"\"\n      }\n    },\n    {\n      \"column\": \"severe_damage\",\n      \"properties\": {\n        \"dtype\": \"number\",\n        \"std\": 0.25029105835585175,\n        \"min\": 0.03826276463262765,\n        \"max\": 0.6851146404116398,\n        \"num_unique_values\": 5,\n        \"samples\": [\n          0.23785495545657015,\n          0.6851146404116398,\n          0.29690406421200155\n        ],\n        \"semantic_type\": \"\",\n        \"description\": \"\"\n      }\n    }\n  ]\n}"
            }
          },
          "metadata": {},
          "execution_count": 12
        }
      ],
      "source": [
        "foundation_pivot = pd.pivot_table(\n",
        "    df, index = \"foundation_type\", values = \"severe_damage\", aggfunc=np.mean).sort_values(by=\"severe_damage\")\n",
        "foundation_pivot"
      ]
    },
    {
      "cell_type": "markdown",
      "metadata": {
        "id": "VBFxCJ6j7bGF"
      },
      "source": [
        "The output shows that there is indeed a relationship between the foundation type of a building and whether it suffered severe damage.\n",
        "\n",
        "Buildings with Reinforced Concrete(RC) are less likely to suffere severe damage as compare to Bamboo(23.8%), Cement-Stone(29.7%), Other(51%) and Mud mortar-Stone(68.5%)."
      ]
    },
    {
      "cell_type": "markdown",
      "metadata": {
        "id": "XHfTAgVS8nJL"
      },
      "source": [
        "**Bar Chart: Damage by Foundation**"
      ]
    },
    {
      "cell_type": "markdown",
      "metadata": {
        "id": "4ZizOtNX8vUu"
      },
      "source": [
        "I want to create a visualization to compare proportions of 'foundation_pivot' to those of majority(1) and minority classes(0), then I add vertical lines at the values for majority and minority propotions."
      ]
    },
    {
      "cell_type": "code",
      "execution_count": 13,
      "metadata": {
        "id": "BQERJLSi57Mr",
        "colab": {
          "base_uri": "https://localhost:8080/",
          "height": 448
        },
        "outputId": "2013284a-b5e5-4f23-82ad-a5d10697fc3a"
      },
      "outputs": [
        {
          "output_type": "execute_result",
          "data": {
            "text/plain": [
              "<matplotlib.legend.Legend at 0x7ad546d82a80>"
            ]
          },
          "metadata": {},
          "execution_count": 13
        },
        {
          "output_type": "display_data",
          "data": {
            "text/plain": [
              "<Figure size 640x480 with 1 Axes>"
            ],
            "image/png": "[encoded data removed]"
          },
          "metadata": {}
        }
      ],
      "source": [
        "foundation_pivot.plot(kind=\"barh\", legend=None)\n",
        "plt.axvline(majority_class_prop, linestyle=\"--\", color=\"red\", label=\"Majority Class\") #axv=axes vertical line\n",
        "plt.axvline(minority_class_prop, linestyle=\"--\", color=\"green\", label=\"Minority Class\")\n",
        "plt.legend(loc=\"lower right\")"
      ]
    },
    {
      "cell_type": "markdown",
      "metadata": {
        "id": "fLzUoiGw-ZEr"
      },
      "source": [
        "From the visualization, it is seen that buildings with Mud-mortar stone foundation type had a significantly higher rate of severe damage, while RC buildings had a lower proportion of significantly damaged buildings."
      ]
    },
    {
      "cell_type": "markdown",
      "metadata": {
        "id": "z-xZbAWE_nxH"
      },
      "source": [
        "## **Cardinality Features**"
      ]
    },
    {
      "cell_type": "markdown",
      "metadata": {
        "id": "XpFaLTH2_bW1"
      },
      "source": [
        "I also need to check for high and low cardinality features no know which are less significant for my model and need to be dropped."
      ]
    },
    {
      "cell_type": "code",
      "execution_count": 14,
      "metadata": {
        "id": "dIuIvxwm95hC",
        "colab": {
          "base_uri": "https://localhost:8080/",
          "height": 335
        },
        "outputId": "27dfb5cb-deda-4877-a489-9f56132b58eb"
      },
      "outputs": [
        {
          "output_type": "execute_result",
          "data": {
            "text/plain": [
              "land_surface_condition     3\n",
              "foundation_type            5\n",
              "roof_type                  3\n",
              "ground_floor_type          5\n",
              "other_floor_type           4\n",
              "position                   4\n",
              "plan_configuration        10\n",
              "superstructure            11\n",
              "dtype: int64"
            ],
            "text/html": [
              "<div>\n",
              "<style scoped>\n",
              "    .dataframe tbody tr th:only-of-type {\n",
              "        vertical-align: middle;\n",
              "    }\n",
              "\n",
              "    .dataframe tbody tr th {\n",
              "        vertical-align: top;\n",
              "    }\n",
              "\n",
              "    .dataframe thead th {\n",
              "        text-align: right;\n",
              "    }\n",
              "</style>\n",
              "<table border=\"1\" class=\"dataframe\">\n",
              "  <thead>\n",
              "    <tr style=\"text-align: right;\">\n",
              "      <th></th>\n",
              "      <th>0</th>\n",
              "    </tr>\n",
              "  </thead>\n",
              "  <tbody>\n",
              "    <tr>\n",
              "      <th>land_surface_condition</th>\n",
              "      <td>3</td>\n",
              "    </tr>\n",
              "    <tr>\n",
              "      <th>foundation_type</th>\n",
              "      <td>5</td>\n",
              "    </tr>\n",
              "    <tr>\n",
              "      <th>roof_type</th>\n",
              "      <td>3</td>\n",
              "    </tr>\n",
              "    <tr>\n",
              "      <th>ground_floor_type</th>\n",
              "      <td>5</td>\n",
              "    </tr>\n",
              "    <tr>\n",
              "      <th>other_floor_type</th>\n",
              "      <td>4</td>\n",
              "    </tr>\n",
              "    <tr>\n",
              "      <th>position</th>\n",
              "      <td>4</td>\n",
              "    </tr>\n",
              "    <tr>\n",
              "      <th>plan_configuration</th>\n",
              "      <td>10</td>\n",
              "    </tr>\n",
              "    <tr>\n",
              "      <th>superstructure</th>\n",
              "      <td>11</td>\n",
              "    </tr>\n",
              "  </tbody>\n",
              "</table>\n",
              "</div><br><label><b>dtype:</b> int64</label>"
            ]
          },
          "metadata": {},
          "execution_count": 14
        }
      ],
      "source": [
        "df.select_dtypes(\"object\").nunique()"
      ]
    },
    {
      "cell_type": "markdown",
      "metadata": {
        "id": "_58LyFwfAbOG"
      },
      "source": [
        "There no high or low cardinality features."
      ]
    },
    {
      "cell_type": "markdown",
      "metadata": {
        "id": "KUmUyAA5AmBp"
      },
      "source": [
        "# **Split**"
      ]
    },
    {
      "cell_type": "code",
      "execution_count": 15,
      "metadata": {
        "id": "ENAT0nIIAw72"
      },
      "outputs": [],
      "source": [
        "#Create Target Vector(y) and Feature Matrices(X)\n",
        "target = \"severe_damage\"\n",
        "X = df.drop(columns = target)\n",
        "y = df[target]\n"
      ]
    },
    {
      "cell_type": "markdown",
      "metadata": {
        "id": "stDd3Sp5C6Y2"
      },
      "source": [
        "Randomized Train-Test Split"
      ]
    },
    {
      "cell_type": "code",
      "execution_count": 16,
      "metadata": {
        "id": "353RHOBjC4sL",
        "colab": {
          "base_uri": "https://localhost:8080/"
        },
        "outputId": "b61bda89-4f5c-45df-c361-50edebe1e4d0"
      },
      "outputs": [
        {
          "output_type": "stream",
          "name": "stdout",
          "text": [
            "X train: (609675, 11)\n",
            "X test: (152419, 11)\n",
            "y train: (609675,)\n",
            "y test: (152419,)\n"
          ]
        }
      ],
      "source": [
        "X_train, X_test, y_train, y_test = train_test_split(X, y, test_size=0.2, random_state=42)\n",
        "print(\"X train:\", X_train.shape)\n",
        "print(\"X test:\", X_test.shape)\n",
        "print(\"y train:\", y_train.shape)\n",
        "print(\"y test:\", y_test.shape)"
      ]
    },
    {
      "cell_type": "markdown",
      "source": [
        "I have successfully imported, cleaned and explored my data. I have also split my data into feature matrix, target vector, training and test data. Now I want to build a Baseline for my classification problem.\n",
        "\n",
        "To establish a good baseline, I need to build a naive model that always predicts my majority class. It will help compare the perfomance of my regression model."
      ],
      "metadata": {
        "id": "aL8QJqhDJucm"
      }
    },
    {
      "cell_type": "markdown",
      "metadata": {
        "id": "JDTZnpyJESjT"
      },
      "source": [
        "# **Build Model**"
      ]
    },
    {
      "cell_type": "markdown",
      "metadata": {
        "id": "neJ31MA8Ea8w"
      },
      "source": [
        "# **Baseline**"
      ]
    },
    {
      "cell_type": "markdown",
      "source": [
        "**Baseline Accuracy Score**"
      ],
      "metadata": {
        "id": "Hx9zu2VlKnzs"
      }
    },
    {
      "cell_type": "markdown",
      "source": [
        "Accuracy Score will be my performance metric which is equal to the Number of correct predictions(true +ves and true -ves) / Total no. of predictions(true +ves, true -ves, false +ves, false -ves)\n",
        "\n",
        "An accuracy score of 0 is not good, of 1 is perfect.\n",
        "\n",
        "My baseline accuracy score needs to be close to the proportion of Majority Class."
      ],
      "metadata": {
        "id": "GxHR44YUKw1c"
      }
    },
    {
      "cell_type": "code",
      "execution_count": 17,
      "metadata": {
        "id": "2WNXHcBvDuRc",
        "colab": {
          "base_uri": "https://localhost:8080/"
        },
        "outputId": "36edcb9d-3f9f-4d25-a1af-78d3ad605e2f"
      },
      "outputs": [
        {
          "output_type": "execute_result",
          "data": {
            "text/plain": [
              "0.6035281092385287"
            ]
          },
          "metadata": {},
          "execution_count": 17
        }
      ],
      "source": [
        "acc_baseline = y_train.value_counts(normalize=True).max()\n",
        "acc_baseline"
      ]
    },
    {
      "cell_type": "markdown",
      "source": [
        "For my model to work, it needs to be more than 0.6035, that is, it needs to be closer to 1.\n",
        "My goal is to create a model that beats the baseline accuracy score."
      ],
      "metadata": {
        "id": "qKeCcrY1L8Fy"
      }
    },
    {
      "cell_type": "markdown",
      "source": [
        "# **Iterate**"
      ],
      "metadata": {
        "id": "Yx4BsrcPM9W1"
      }
    },
    {
      "cell_type": "markdown",
      "source": [
        "A Logistic Regression Model is a classifier version of Linear Regression.\n",
        "\n",
        "It will predict probability values that will be used to assign class labels and works by taking the output of a linear regression model and feeding it into a sigmoid or logistic function.\n",
        "\n",
        "That is;\n",
        "![1_qUfJt2-_bzlsX9A81LS71g.webp](data:image/webp;base64,UklGRuoaAABXRUJQVlA4WAoAAAAIAAAANwQA5wEAVlA4IAoaAADQ0QCdASo4BOgBPnU6mkokoyIhoLKIsJAOiWlu/Fd54b0HZ11/p1/Wfxi8BP65+Wf9p7Fbwh7Rf2P2gv4zwV+Y/2vmt/Gfqz+B/sv7j/4H52fsfezwAvxn+W/53+0ftlwJmneYF7i/aP9N+aX+O9Bz+i9BPyj/Gf6L3AP5N/O/9z6h/6zwPvL/YB/l/9c/5X96/Nb6Vf5z/z/5f/Ofuz7OPz3/K/+f/J/AP/PP7D/0P8P+9/+j+br/7e1z91P//7mX7D//8JFuZ6AjLrpy4vM9ARl105cXmegIy66cuLzPQEZddOXF5noCMuunLi8z0BGXXTlxeZ6AjLrpy4vM9ARl105cXmegIy66cuLzPQEZddOXF5noCMuunLi8z0BGXXTlxeZ6AjLrpy4vM9ARl105cXmegIy66cuLzPQEZddOXF5noCMuunLi8z0BGXXTlxeZ6AjLrpy4vM9ARl105cXmegIy66cuLzPQEZddOXF5nateaZXf6xT7Lrpy4vM9ARl105cXmegIy66cuLzPQEZddOXF5nbcyeB6JRuFecuLzPQEZddOXF5noCMuunLi8z0BGXXTlxeZ6AilvindOXF5noCMuunLi8z0BGXXTlxeZ6AjLrpy4vM84OcbRTunLi8z0BGXXTlxeZ6AjLrpy4vM9ARl105cXknqNGjCUecuLzPQEZddOXF5nm7y5FrJI8inCjzlxeZ6AjLrpy4vMpbWS4hDIN006xaIdxQEZddOXF5noCMuunLceexLOw24YmSnxXL6U63TrCSwBuYvJSCxIHqUJCMoGcbeLzPQEZddOXF5noCMuunLi8z0BGXXTlKMGLwSv2A8iQNgotm22ikD6j3AlSDQ4c6pqfcNT2AX1qh17+/v7+/v7+/v7+/v7+/v7+/v7+/v7+/v7+/v7+/v7+/v7+/d/Efa3M9ARmVja/DoHzGuRMxO05I8Ny8Ojy7BQSRMxzKpJKSgSNrC3dAj6KFz6TjdRvQxbBd4QWwXeEFsF3hBbBd4QWut5y4vM8/hgE/MPm854NjSt1wLpA8GvWOfQVUMXhtWGv7GgIy66cuLzPQEZddOXF5noCMuunLi8z0BGQfO+XuBJbj9cuB5CCtDf5srQ6PyEjaXEqlEbp6LRxy8ZpxCm2wbzlxeZ6AjLrpy4vM9ARl105cXmegIy66ctz7DwMX7JqsUGBhZJEZlt4EXmegIy66cuLzPP6AcwJFTFh4mZIvM8/iZPK6hmDW80VH07py4vM9ARkJATLENxtOnLi8z0BGXXTlxNmA6kb8dQXMBS90C0yJiCbl2vbv2UNLXW9QN7s6rLEtZxCdV+YHkSu+4WDQTg2tzPQEZddOXF5noCMtjzbpZ8Hvra3M9ARRCpJKiYF/aiBTmmeYCmDX6XZWgUHpbIYm7pP9sq9BMXcmgUAhjraoH1qV2XRdUUazfnYECHkZ0y1U6Bc/e1wnms2QtEhEZddOXF5noCMuunLi8mhK6+fvljP5BQWiJqj+gG7RyYk+pHDfY1E6or5MIiK0AlBAqpAI0zgNFssoFBeH8CygPedU2DHQZoBc6NllGpDESEp8+cd2D3eZSAA+bJa5r35LuhVLW842indOXF5noCMuunLi6JPyCg9vTuNVdsyXxW3fmlZQ6A9UyxRzYHEoYA/MVuMwEUVujPcskr0ouoSrBK7hiUE5EcagJo77BKbZXRI+HkNGqWITHb9Hi5cXmegIy66cuLzPQEZbT0Hq0zXpfzVyPxlJKn5dzz7BNduYAN1TPXST4TOuaJHV17zGbmQVYB7kzDasLpy3GkJH83hXJBQbYix8gIy66cuLzPQEZddOXE5g3uxmMIa+mjZNXGXhh14YSXR+JE/UxFY3/rLCqXF5nsZoqDq3K3M9ARl105cXmegIy6hCtxW/xKOU0lxp8umQ+y8G9yZVKhI7eOiQpTgN9o/27xNwbW5noCMuunLi8z0BGXXTlxeZ6AjLrp0JlzKRbx9iuGYCMuunLi8z0BGXXTlxeZ6AjLrpy4vM9ARl105cXmegIy66cuLzPQEZddOXF5noCMuunLi8z0BGXXTlxeZ6AjLrpy4vM9ARl105cXmegIy66cuLzPQEZddOXF5noCMuunLi8z0BGXXTlxeZ6AjLrpy4vM9ARl105cXmegIy66cuLzPQEZddOXF5noCMuunLi8z0BGXXTlxeZ6AjLrpy4vM9ARl105cXmegIy66cuLzPQEZddOXF5noCMuunLi8z0BGXXTluAAP7/1bAAAAAAAAAAAAAoybD8VrjN66qPeKV+4p9bqPprupeJhaWzimf1PTvXdt/2Dfte7J0YwhBu5+LcamQ+K1xjgRflQvWWaJjxJfjvXW9vJB3BNhLif9iqcuuRRR33SAAKJOqrIgJQNuBcen3fjca2j4LEnkjNyzEoABM1U4AAAJ22luGK0SYnXatj1CZSnWDdh6JtXW/cKqY+if9p8A31mYYeM/4/wanzryme0fK0E7hj7nzrA3O/+MjUbWeaI0uqPLjbUbIjv7Ck5ACLBME1KR5YIyTtIygpjS5DFEe2WOl1p3bfOnXlVpg8Iyn/OOojswq3bFem5fbPS8hH/oYOmgPGPzD0X7zZ4mDam0BNd0wypupD7SFGnxx1b/3g50mWrbA9rhZ9jveOeq1inaaDcTG/jHQMlIXySW9syAxOVgcYgmPlvYW41JShYuxg0o/cOeGvPpuf1ICmPJxMpqbnLK7qYb4ryMSsUM22lsmlo1DCHb1rur1ce4wBJ2C5FLUP8e3Zgi5qipKRNFZ8JMGlHV+YHjHW6ifLRCoew8xjF3rTxl4vfxVrHKL/Ym6MjoPr4DCjnk5MpFrVMu7uZdjRT0QivP7oS8Im81ABiGA5niH4F0LVtJuVRcshK6S8t1/CI8wcGVfiq/0EO13PenAB5sU9of2FPkikUmD6kbG3uFFTb/WKQ8LrFtjoTWW1vH+2+hox/HZgGtXrK+nG0Iv5/SJXp28zz4l8BZH1gQ7RSppshwVqmQFG3rfNDmI7Pf4yTUCoA2E3GslGq7nzrPGENlUaYH5h38+6OsaldXAYJ+tajcMy3x7HFI2bdMXQ1ORhIgfL/HT6Frx9ekVPbYlPC5ynrVZsmXqrPxf34Q5ZWFJglfNKs0QSOSYfL1T+0CchNNBz3cVsWaZYga7sAoAKrzcNGz2i76wHN9plYcD5ab0QW73w+AH8//5KwuWnSTs//oZeoZcWPY8y8fq5YN6CotGn9+tkIJQnSp/plzyedQCm/zHboOHK4+ib++dUvgd5D5qnYNsXEnqrRfo0ykP+01An/pTF7ei74VPp+feKEAMdOBShopdvD9j9ocFap5WV/IWxp9MspmUJsvomDd4Cheea/6qDZJ5caPJvCXpDb9jEHMt823erfBF3cA7K8ojuFS2mQ8eMTB6sxsjXFgz6AsvG1EEcFKOI/7qnvfsz5pm34tZ2PB5M3X9Qx4SAM9tvpxWAQAKXymJ7wBLwOqSzH4i/K4S5IdDPdYl2BicENr0VYK8+O332YBvgEBleWAmcABVBJ+upjpPx7r799lsEdd8YPVEh+jYFagr0sWlVd7Ilx+PootawmhuRGtg7DUatPcozSY7D3S4rMvkdwsY/hOgcUN75E1qNlxBzpDczEBmwYDcvizHNlIT15OJ9NkvihgJwUWqeIqbxHwky9qWeZfUlQtsQMkSSSzQt9UA0Q/lFwyCfPfIU0/3fxawq91pQVdtsKiasrX1MJvc7NPVXLYCnnCjfWobTV453eRGZtXgdjOjU2aweCzzxY85TdHZEhb/uii8q41QLnMnI6fn6wt+R/rYWqOTkKyKawVTOWg2Gy+r0eYflHXJuZhmcnPCZjXm3dkEBOxQ0jJ6AA0Qg6pKKI8cVBcNMyd7n373/khBLJxoIxXLBlm9Ej7b4SUK1xPnDATOjfcaHodE8SI1BaR8KT00MFm1Tc3iRpC+zeitlf732rokIUTQ4Z50+30fb0BRCRYTBs5kGS8NWaix4+xL3a0JaBakDzSyosuUGmFoc1TNvRiVB2OzXqLZTOSXuF0SivAoogjVBLTyi4/PV0st52v1YlpLpawRapjioDYyxd97oQvfWSsOuxUc4eCg7pmCMQ4K1T7jqP+aK1wZesC7fMFrjo5GQTxvVhtDY1edIZTO+4Zymucl/J/GP4cLHRhs88pRFMZF/Hq9w/sH72AgL0KTpN1t+GUaoYHp+JY2L3AcUwzVU/cmrxIFvCIJi2i7fMOi+BmGBjaA9S34PVse1c9wX6iyqkXI8N4yIHdFU0Pq5PD4ve4d0Biwny+Mpfal3vhZNQq+9/W/K/xOSQapVRU2zKL4wBYDtaKeUFwuwvTZ6ZbSMVamrMM6y2Vjtuq1iFqCYHo+5mD+jdEaMHR12NtKLeYy9YrcwZ478wFtEYPeR5YTdxFZgg/IaejcS2eraPVWI77m9WMf9NjCs1wOxZPUDsy5x/kpcDEfVUggN3IHMhEhayRGadKelVGGbEROC3q+UL7aV62sRo46K/uYByk/tsaA0lGx3FM+GJEEFkk4e/SSkbsr0LAZU1CkDPYZkM3VZZycX4ul4rotTxaFRGmKHFGBLUBbavysTxnnpILKbBsuewnU7/UM63cX2JFYdMDnQ7BUgQoLTMTJgzzMB1megY1MLa86iF/LZ1PszE3wra6lhcOM9dLAj3yFlNAhErNL4gE0Bvcr+/PLXSNVhH7x+KHqvCamC90j6fUW/KZbGardykVwakp7MyUaPC9GOTB2fydndIs3CUhE/wOh/bTs52roWCdhiTHLfC7ZC+oKps6GINdccI2OR+5QlWDa4btCO+NxjajHMEKWKrMLJQORNLgDWS8itpFC4dXrKR+/M8e0+09MrsEKZ2n9LL71rcTWLNoFIiOZcdPc9lSzU1wtmYVjh1QP8kOypokoSAi22q5WF24mrvXvh2aCxmboLoRS+XpHLixuRzWl/xsrwX7O+FvKcnR662LvNOJlFLWo18GnreGwzurR0fV9cAYkkSx7FYiVlAcKNCZ7qsJ4TTIeqSV8t1575KYMeSKjndu9Y8S8HLhbs1UiHk7lLUyP8+zxWlr/yBewOReABHOqA9RtAvKtDVwdYjE7fPwC+WTleNHs4nl97vxLFm1apcWJ27+e1imS2P3g8AwahqHDLJbHJCTsQgqYWhb81nJ58lexXnxqZmzBQ1UhfJgPvnvy3s6Sdz35XZSZAj/G7IpYT+av0Gde7tByjB/s2uWxslo4MJ7vQS+aNw2n9ow9DwiSOG4IRrIhJd7QRMPwy0fnbrSXICmi5boPxZgVZlXtiAgr/iVobfAvQhhVpJ3k2uwjvlw3JRSCWoOc8cD/6Od27zUhTAiyBeu/WdKAENmes6gPy2nD3ac91EhsgFQDf2ieqJTFcolmv6MADT4KtQUFMJ5f5cfw0MTnE1f3xR1mnWkudep/ReIDQujILyuADKMo/RXol06paCjpem4ycMmSTQCw+C1odDE4OS6kEyvwZcjb7N9ogJahAuE1mOufImLxKTX5ciOE7cBT0uncBIHdHlWumdImQp9R/BpX1JhwkcPrrj5wqqebNop0tZsvBzDiNPwfIN0FsWxM/Tk4w49KaG/8eeBFWl1R6FCHXScPzHE1PkKgBiJoOR69w9Z8gcYiQMV8Ljf7xWo3okno3R+WgHLMax645pQzvEBrCAZ9I/oPvzZJeYAEZAeG0iA0HsjG8FfCmc0x+Xle7wRHi+7XYLf1F+SemhBfr/nSaw3MKWzn5pCOLpsZrEtWJYysXGlKTJPA2x7mj2LYMmPuwaY0oAl4R74hgrK0Uzc1y4PeNcTEuvx3/ywhNofV3BRfTdIKW3SZ4X1+s4JIOL5A/3xHgIi791gOmsn5cKFPhlFffoVil1ssHdyVvlpKXlLj+wecJR7c5Dy8fWFEWHg0uEMDhs7/q9eB5UZ0mWM87ITcXmjYWqaTfoXYegpw3fGFfpdXaeduANkjvptj4Y3o6Z3BFfpzpFiEI9Lf+0C97BzsM8P0z7UsYd0XpmGgN9nFfXM2eVGNFAWMsegDsFivSJDEQLLyaVnwzeZag4Sma/eGzlNI9vv9hNLHwqBpJyHEYBKRH4nq9lWwY13YikcOCfskWQKOKEjc/6QuR1Jz3/zo1W0Ec1c0RJZevLH1bQLvqPptvEboMJ7V4BmRutyEyK2P9zV3ZWmo89hLpGsy5MCHN0yxYVkotv0vX0f1fzP/rJL2c4vtzls/WFDCpHrbHct/xKTsO3/O3lz131lPCpo04sDPbATMAyShnxbWCzgIIz9Qmm+n7uyUJH0+Q1yl2vQU3XdzryhoXFEaBQ5/2w1zRkS53iOR4G42yEpvp9qiptVUn68gwd6KFeIX3qoR9ru4eXbpIv8qLFDy6qFjc8Ll3UKIDNYZbAtoXFRNJnSAQo+4vGJBtsggVK1mxra6fXrBL3T/v2xZD8//nuyBzP1l1spoSpVylJcHQvJIGbwgbtfViAAMp3m0cCZ/VsgLmaNgEtEk9uV/SDUumXN6ym6S+yEwzaN1f//h5hvdyof2vnJHfqztS+HlUskcYtHIEVh+6ReehDtJg2fSQESA9gM+CbIZGn5MZQHAvKqxY505g3drN9QNlB1/xwxscH3xtafZeMvyM9gbki8W7pSne9H0+pbZ3NR8hsvG7QjvjcY2ox6/ZOzbep7KF3x3GjUs+/sQvylqJd7VMzXVS0+YsInKTHYccDqdpAm/l/Np6z4+fgVOKlJUz8ftSJ+Kik9kZ7knglKy92zWyrrV8Wz3SGlATgMsEcTDaqeVuLkooo0/XGswppoi98VFE5xdoXI65/cN7rQP7c4xI8khhDgrVP/1kRGSUeSCttgwQWK9zPcOHrDV4cRTotIyNovJpW/nyJZW4Im5goFSppKYCH5nNDP+Sp2zErwivJwXvEhLSpd5tzOL412VaewP4bMuAPKNTtkNxA5FbqVJVKInDl2YvN7O/v8VwztuFM/0fONIjx7Jp8DhO6cSYrhahbbX1Mw027UCB5kVEOKrc2+502ioBs/Lft+WS9weL1J8Bz7p1BqqsTccDuyU/hXRCkJ8bq/Jm7VTo1i9rr/9fkK+9+/vmAre0Zi1QH5OopG0kn82UzV7HifCGZkJVIWV4Hiu+geXKdmXgDpKV00Z3/ynlQ/JEhupimkfQaLhipD3ZoFi/gp05QC/4jWE0A9ZPn+1ur/rnA+UzGbF7o7rBOSeY9mGib7yONjIRG53KiqQktseUtd08tIRLvSp8nB1FqjSMUXkTgeTnGjIW9IPRY7g35eHPWtFPKC1uz/af9LUza+c+t9zcrN03p2rY9JM/gn0m21GU0kwJ+dO/TpAUfGvxymt78n0aMPqzOcBQXuqHGRYsRJhaFEAu+irduMqa8vIV83RQp5lRNffMnrchsoZ09P1QrmHDfifPcmxQOadzDirPBgd6ZblDbjmhq8ZTmuCrGQcuVrESx9MmJFqrqKTZeztClKC2Ivss9iDxKUDfwKLQErLVRwHbzKXs6gaylDnhZRySLjlAEpD6X97xGvhUgORtk+sEzVVr7oJNcFyWW38f54lRNAw46cjItGmp1CGZ37TsB34YkW4PsW04QtvDUSbhWQjoMrayVlm5ybRcmn9eDa3s29PoE26EDJgoftgyi9XnTGgZ1SJWpM/hQLVlMkj0Lb51GGK8Gxb8SRtOh5kN6iMyNvvcMQ6kzSpbAQ3N+MUZ3RN/3HPpUlxgEhTPMNUwi4FEpc99o/6EfUs6RnRFjb16TQCem0iazSVsa1Q9qInGIeFjy1ccfVsEovA+iVE7kqSmsHRphHFBxU/APaerBuBUZPsxu1fu4XFXK21wQ3jdfuQURjyDgCdSnnCeCkwkAWORvCOpGF6b3Eqzn0qk5vj4NOW11FCAChDXpjkKihoAXKpPI6h2EWhwVqlVmU2Lp6y65vyZpIq8EusT76O8ZePWMBWgPtpbayiffl1N2xW2C3xcdGeU4PVZmRjqV2pXmFlAuH87JUSvLPH2e4YvmFHrYjrfIk944Xply/k6qgCzUBvBnYN8Cj+OOoJ4clTrqBvaQYKsuYzVGf4f3T+OiyK1s1wHjEvS4YUmysPfOUZYJFnGl16sPdpOSCg3TgwBGv//6b5UbIPWf5hf2z2VD+HzfmU5lxpDyM28FAvtArcwFHv/w7rGgiOCFCVEHg5JntmNw3YpslFiS7//z7AqpMB9iNyh4wVRlKXYBuB/fZwxsPkL8Ui2MYoFbU6UIdyi0FEfo/lMDF5HaK3LI9qDe7ZYx8w0FMYvw+p54SfB53zsDTbjPFGCuxX4ReAolwyHKP0droAM4ICJXpb7zNJzWu946IIs/Cql409842zp7oIFyDJPqrI92p3mpQ3iKoUsDGb1S7HQKLxf1SZodihR9aBKWD2/U1GkT9dBp33bHu/KdIX8BH9sY5dKfJZaD9BjvWFE7g9gcjedg4ABGTmOGLu7wrDfXTPDPqVuch1sJaFMU1dMSHn8Bd9dxiX7q2+lkoo/wAgoZT1xWf+DVmLezPFktiBWq8MuTx28kHOZtQ46F4CofgmveNvXVZFa4NZGgjOwLk5K6ZQARo0NUK0qvJds6zSgrTfl4qZKVye+w5DJWOhem4lQStee7wFMOaPlmfKbChDvL/Oc39gf3dJLOoR1gL2yhViUdmnxTv9v1Z5Lmkto1SARrDdQpqtowKw6felQx7ocJ6uUCfnXs7EbGjzLDxguCb7EK/so3DXkwHnDaskxxpyfuouDeNSewq8aYOoC0hM63aYTayiN5Ij/9L6ORUZ6WTLga1dJN7t3UwubrtoKSqNFF6On+IjwEOzm5kZS48mp6gN7J78oFy9wAAjL53U/9a7jW+vQZyMrJNbaxu1AAAAAAAAAAAAAAAAAAABFWElGugAAAEV4aWYAAElJKgAIAAAABgASAQMAAQAAAAEAAAAaAQUAAQAAAFYAAAAbAQUAAQAAAF4AAAAoAQMAAQAAAAIAAAATAgMAAQAAAAEAAABphwQAAQAAAGYAAAAAAAAASAAAAAEAAABIAAAAAQAAAAYAAJAHAAQAAAAwMjEwAZEHAAQAAAABAgMAAKAHAAQAAAAwMTAwAaADAAEAAAD//wAAAqAEAAEAAAA4BAAAA6AEAAEAAADoAQAAAAAAAA==)\n",
        "\n",
        "For values between 0 and 1, a cutoff line at 0.5 is established. Any value below the cutoff line is predicted as zero, and anything above is predicted as one.\n",
        "\n"
      ],
      "metadata": {
        "id": "qbPZOrMNNBmG"
      }
    },
    {
      "cell_type": "code",
      "source": [
        "#Build Model\n",
        "model = make_pipeline(\n",
        "    OneHotEncoder(use_cat_names=True),\n",
        "    LogisticRegression(max_iter = 1000)\n",
        ")\n",
        "model.fit(X_train, y_train)"
      ],
      "metadata": {
        "colab": {
          "base_uri": "https://localhost:8080/",
          "height": 297
        },
        "id": "vaaXAg_3LtmS",
        "outputId": "b149e1fe-4d08-464f-e5d5-b103fea3f000"
      },
      "execution_count": 18,
      "outputs": [
        {
          "output_type": "stream",
          "name": "stderr",
          "text": [
            "/usr/local/lib/python3.12/dist-packages/sklearn/linear_model/_logistic.py:465: ConvergenceWarning: lbfgs failed to converge (status=1):\n",
            "STOP: TOTAL NO. OF ITERATIONS REACHED LIMIT.\n",
            "\n",
            "Increase the number of iterations (max_iter) or scale the data as shown in:\n",
            "    https://scikit-learn.org/stable/modules/preprocessing.html\n",
            "Please also refer to the documentation for alternative solver options:\n",
            "    https://scikit-learn.org/stable/modules/linear_model.html#logistic-regression\n",
            "  n_iter_i = _check_optimize_result(\n"
          ]
        },
        {
          "output_type": "execute_result",
          "data": {
            "text/plain": [
              "Pipeline(steps=[('onehotencoder',\n",
              "                 OneHotEncoder(cols=['land_surface_condition',\n",
              "                                     'foundation_type', 'roof_type',\n",
              "                                     'ground_floor_type', 'other_floor_type',\n",
              "                                     'position', 'plan_configuration',\n",
              "                                     'superstructure'],\n",
              "                               use_cat_names=True)),\n",
              "                ('logisticregression', LogisticRegression(max_iter=1000))])"
            ],
            "text/html": [
              "<style>#sk-container-id-1 {\n",
              "  /* Definition of color scheme common for light and dark mode */\n",
              "  --sklearn-color-text: #000;\n",
              "  --sklearn-color-text-muted: #666;\n",
              "  --sklearn-color-line: gray;\n",
              "  /* Definition of color scheme for unfitted estimators */\n",
              "  --sklearn-color-unfitted-level-0: #fff5e6;\n",
              "  --sklearn-color-unfitted-level-1: #f6e4d2;\n",
              "  --sklearn-color-unfitted-level-2: #ffe0b3;\n",
              "  --sklearn-color-unfitted-level-3: chocolate;\n",
              "  /* Definition of color scheme for fitted estimators */\n",
              "  --sklearn-color-fitted-level-0: #f0f8ff;\n",
              "  --sklearn-color-fitted-level-1: #d4ebff;\n",
              "  --sklearn-color-fitted-level-2: #b3dbfd;\n",
              "  --sklearn-color-fitted-level-3: cornflowerblue;\n",
              "\n",
              "  /* Specific color for light theme */\n",
              "  --sklearn-color-text-on-default-background: var(--sg-text-color, var(--theme-code-foreground, var(--jp-content-font-color1, black)));\n",
              "  --sklearn-color-background: var(--sg-background-color, var(--theme-background, var(--jp-layout-color0, white)));\n",
              "  --sklearn-color-border-box: var(--sg-text-color, var(--theme-code-foreground, var(--jp-content-font-color1, black)));\n",
              "  --sklearn-color-icon: #696969;\n",
              "\n",
              "  @media (prefers-color-scheme: dark) {\n",
              "    /* Redefinition of color scheme for dark theme */\n",
              "    --sklearn-color-text-on-default-background: var(--sg-text-color, var(--theme-code-foreground, var(--jp-content-font-color1, white)));\n",
              "    --sklearn-color-background: var(--sg-background-color, var(--theme-background, var(--jp-layout-color0, #111)));\n",
              "    --sklearn-color-border-box: var(--sg-text-color, var(--theme-code-foreground, var(--jp-content-font-color1, white)));\n",
              "    --sklearn-color-icon: #878787;\n",
              "  }\n",
              "}\n",
              "\n",
              "#sk-container-id-1 {\n",
              "  color: var(--sklearn-color-text);\n",
              "}\n",
              "\n",
              "#sk-container-id-1 pre {\n",
              "  padding: 0;\n",
              "}\n",
              "\n",
              "#sk-container-id-1 input.sk-hidden--visually {\n",
              "  border: 0;\n",
              "  clip: rect(1px 1px 1px 1px);\n",
              "  clip: rect(1px, 1px, 1px, 1px);\n",
              "  height: 1px;\n",
              "  margin: -1px;\n",
              "  overflow: hidden;\n",
              "  padding: 0;\n",
              "  position: absolute;\n",
              "  width: 1px;\n",
              "}\n",
              "\n",
              "#sk-container-id-1 div.sk-dashed-wrapped {\n",
              "  border: 1px dashed var(--sklearn-color-line);\n",
              "  margin: 0 0.4em 0.5em 0.4em;\n",
              "  box-sizing: border-box;\n",
              "  padding-bottom: 0.4em;\n",
              "  background-color: var(--sklearn-color-background);\n",
              "}\n",
              "\n",
              "#sk-container-id-1 div.sk-container {\n",
              "  /* jupyter's `normalize.less` sets `[hidden] { display: none; }`\n",
              "     but bootstrap.min.css set `[hidden] { display: none !important; }`\n",
              "     so we also need the `!important` here to be able to override the\n",
              "     default hidden behavior on the sphinx rendered scikit-learn.org.\n",
              "     See: https://github.com/scikit-learn/scikit-learn/issues/21755 */\n",
              "  display: inline-block !important;\n",
              "  position: relative;\n",
              "}\n",
              "\n",
              "#sk-container-id-1 div.sk-text-repr-fallback {\n",
              "  display: none;\n",
              "}\n",
              "\n",
              "div.sk-parallel-item,\n",
              "div.sk-serial,\n",
              "div.sk-item {\n",
              "  /* draw centered vertical line to link estimators */\n",
              "  background-image: linear-gradient(var(--sklearn-color-text-on-default-background), var(--sklearn-color-text-on-default-background));\n",
              "  background-size: 2px 100%;\n",
              "  background-repeat: no-repeat;\n",
              "  background-position: center center;\n",
              "}\n",
              "\n",
              "/* Parallel-specific style estimator block */\n",
              "\n",
              "#sk-container-id-1 div.sk-parallel-item::after {\n",
              "  content: \"\";\n",
              "  width: 100%;\n",
              "  border-bottom: 2px solid var(--sklearn-color-text-on-default-background);\n",
              "  flex-grow: 1;\n",
              "}\n",
              "\n",
              "#sk-container-id-1 div.sk-parallel {\n",
              "  display: flex;\n",
              "  align-items: stretch;\n",
              "  justify-content: center;\n",
              "  background-color: var(--sklearn-color-background);\n",
              "  position: relative;\n",
              "}\n",
              "\n",
              "#sk-container-id-1 div.sk-parallel-item {\n",
              "  display: flex;\n",
              "  flex-direction: column;\n",
              "}\n",
              "\n",
              "#sk-container-id-1 div.sk-parallel-item:first-child::after {\n",
              "  align-self: flex-end;\n",
              "  width: 50%;\n",
              "}\n",
              "\n",
              "#sk-container-id-1 div.sk-parallel-item:last-child::after {\n",
              "  align-self: flex-start;\n",
              "  width: 50%;\n",
              "}\n",
              "\n",
              "#sk-container-id-1 div.sk-parallel-item:only-child::after {\n",
              "  width: 0;\n",
              "}\n",
              "\n",
              "/* Serial-specific style estimator block */\n",
              "\n",
              "#sk-container-id-1 div.sk-serial {\n",
              "  display: flex;\n",
              "  flex-direction: column;\n",
              "  align-items: center;\n",
              "  background-color: var(--sklearn-color-background);\n",
              "  padding-right: 1em;\n",
              "  padding-left: 1em;\n",
              "}\n",
              "\n",
              "\n",
              "/* Toggleable style: style used for estimator/Pipeline/ColumnTransformer box that is\n",
              "clickable and can be expanded/collapsed.\n",
              "- Pipeline and ColumnTransformer use this feature and define the default style\n",
              "- Estimators will overwrite some part of the style using the `sk-estimator` class\n",
              "*/\n",
              "\n",
              "/* Pipeline and ColumnTransformer style (default) */\n",
              "\n",
              "#sk-container-id-1 div.sk-toggleable {\n",
              "  /* Default theme specific background. It is overwritten whether we have a\n",
              "  specific estimator or a Pipeline/ColumnTransformer */\n",
              "  background-color: var(--sklearn-color-background);\n",
              "}\n",
              "\n",
              "/* Toggleable label */\n",
              "#sk-container-id-1 label.sk-toggleable__label {\n",
              "  cursor: pointer;\n",
              "  display: flex;\n",
              "  width: 100%;\n",
              "  margin-bottom: 0;\n",
              "  padding: 0.5em;\n",
              "  box-sizing: border-box;\n",
              "  text-align: center;\n",
              "  align-items: start;\n",
              "  justify-content: space-between;\n",
              "  gap: 0.5em;\n",
              "}\n",
              "\n",
              "#sk-container-id-1 label.sk-toggleable__label .caption {\n",
              "  font-size: 0.6rem;\n",
              "  font-weight: lighter;\n",
              "  color: var(--sklearn-color-text-muted);\n",
              "}\n",
              "\n",
              "#sk-container-id-1 label.sk-toggleable__label-arrow:before {\n",
              "  /* Arrow on the left of the label */\n",
              "  content: \"▸\";\n",
              "  float: left;\n",
              "  margin-right: 0.25em;\n",
              "  color: var(--sklearn-color-icon);\n",
              "}\n",
              "\n",
              "#sk-container-id-1 label.sk-toggleable__label-arrow:hover:before {\n",
              "  color: var(--sklearn-color-text);\n",
              "}\n",
              "\n",
              "/* Toggleable content - dropdown */\n",
              "\n",
              "#sk-container-id-1 div.sk-toggleable__content {\n",
              "  max-height: 0;\n",
              "  max-width: 0;\n",
              "  overflow: hidden;\n",
              "  text-align: left;\n",
              "  /* unfitted */\n",
              "  background-color: var(--sklearn-color-unfitted-level-0);\n",
              "}\n",
              "\n",
              "#sk-container-id-1 div.sk-toggleable__content.fitted {\n",
              "  /* fitted */\n",
              "  background-color: var(--sklearn-color-fitted-level-0);\n",
              "}\n",
              "\n",
              "#sk-container-id-1 div.sk-toggleable__content pre {\n",
              "  margin: 0.2em;\n",
              "  border-radius: 0.25em;\n",
              "  color: var(--sklearn-color-text);\n",
              "  /* unfitted */\n",
              "  background-color: var(--sklearn-color-unfitted-level-0);\n",
              "}\n",
              "\n",
              "#sk-container-id-1 div.sk-toggleable__content.fitted pre {\n",
              "  /* unfitted */\n",
              "  background-color: var(--sklearn-color-fitted-level-0);\n",
              "}\n",
              "\n",
              "#sk-container-id-1 input.sk-toggleable__control:checked~div.sk-toggleable__content {\n",
              "  /* Expand drop-down */\n",
              "  max-height: 200px;\n",
              "  max-width: 100%;\n",
              "  overflow: auto;\n",
              "}\n",
              "\n",
              "#sk-container-id-1 input.sk-toggleable__control:checked~label.sk-toggleable__label-arrow:before {\n",
              "  content: \"▾\";\n",
              "}\n",
              "\n",
              "/* Pipeline/ColumnTransformer-specific style */\n",
              "\n",
              "#sk-container-id-1 div.sk-label input.sk-toggleable__control:checked~label.sk-toggleable__label {\n",
              "  color: var(--sklearn-color-text);\n",
              "  background-color: var(--sklearn-color-unfitted-level-2);\n",
              "}\n",
              "\n",
              "#sk-container-id-1 div.sk-label.fitted input.sk-toggleable__control:checked~label.sk-toggleable__label {\n",
              "  background-color: var(--sklearn-color-fitted-level-2);\n",
              "}\n",
              "\n",
              "/* Estimator-specific style */\n",
              "\n",
              "/* Colorize estimator box */\n",
              "#sk-container-id-1 div.sk-estimator input.sk-toggleable__control:checked~label.sk-toggleable__label {\n",
              "  /* unfitted */\n",
              "  background-color: var(--sklearn-color-unfitted-level-2);\n",
              "}\n",
              "\n",
              "#sk-container-id-1 div.sk-estimator.fitted input.sk-toggleable__control:checked~label.sk-toggleable__label {\n",
              "  /* fitted */\n",
              "  background-color: var(--sklearn-color-fitted-level-2);\n",
              "}\n",
              "\n",
              "#sk-container-id-1 div.sk-label label.sk-toggleable__label,\n",
              "#sk-container-id-1 div.sk-label label {\n",
              "  /* The background is the default theme color */\n",
              "  color: var(--sklearn-color-text-on-default-background);\n",
              "}\n",
              "\n",
              "/* On hover, darken the color of the background */\n",
              "#sk-container-id-1 div.sk-label:hover label.sk-toggleable__label {\n",
              "  color: var(--sklearn-color-text);\n",
              "  background-color: var(--sklearn-color-unfitted-level-2);\n",
              "}\n",
              "\n",
              "/* Label box, darken color on hover, fitted */\n",
              "#sk-container-id-1 div.sk-label.fitted:hover label.sk-toggleable__label.fitted {\n",
              "  color: var(--sklearn-color-text);\n",
              "  background-color: var(--sklearn-color-fitted-level-2);\n",
              "}\n",
              "\n",
              "/* Estimator label */\n",
              "\n",
              "#sk-container-id-1 div.sk-label label {\n",
              "  font-family: monospace;\n",
              "  font-weight: bold;\n",
              "  display: inline-block;\n",
              "  line-height: 1.2em;\n",
              "}\n",
              "\n",
              "#sk-container-id-1 div.sk-label-container {\n",
              "  text-align: center;\n",
              "}\n",
              "\n",
              "/* Estimator-specific */\n",
              "#sk-container-id-1 div.sk-estimator {\n",
              "  font-family: monospace;\n",
              "  border: 1px dotted var(--sklearn-color-border-box);\n",
              "  border-radius: 0.25em;\n",
              "  box-sizing: border-box;\n",
              "  margin-bottom: 0.5em;\n",
              "  /* unfitted */\n",
              "  background-color: var(--sklearn-color-unfitted-level-0);\n",
              "}\n",
              "\n",
              "#sk-container-id-1 div.sk-estimator.fitted {\n",
              "  /* fitted */\n",
              "  background-color: var(--sklearn-color-fitted-level-0);\n",
              "}\n",
              "\n",
              "/* on hover */\n",
              "#sk-container-id-1 div.sk-estimator:hover {\n",
              "  /* unfitted */\n",
              "  background-color: var(--sklearn-color-unfitted-level-2);\n",
              "}\n",
              "\n",
              "#sk-container-id-1 div.sk-estimator.fitted:hover {\n",
              "  /* fitted */\n",
              "  background-color: var(--sklearn-color-fitted-level-2);\n",
              "}\n",
              "\n",
              "/* Specification for estimator info (e.g. \"i\" and \"?\") */\n",
              "\n",
              "/* Common style for \"i\" and \"?\" */\n",
              "\n",
              ".sk-estimator-doc-link,\n",
              "a:link.sk-estimator-doc-link,\n",
              "a:visited.sk-estimator-doc-link {\n",
              "  float: right;\n",
              "  font-size: smaller;\n",
              "  line-height: 1em;\n",
              "  font-family: monospace;\n",
              "  background-color: var(--sklearn-color-background);\n",
              "  border-radius: 1em;\n",
              "  height: 1em;\n",
              "  width: 1em;\n",
              "  text-decoration: none !important;\n",
              "  margin-left: 0.5em;\n",
              "  text-align: center;\n",
              "  /* unfitted */\n",
              "  border: var(--sklearn-color-unfitted-level-1) 1pt solid;\n",
              "  color: var(--sklearn-color-unfitted-level-1);\n",
              "}\n",
              "\n",
              ".sk-estimator-doc-link.fitted,\n",
              "a:link.sk-estimator-doc-link.fitted,\n",
              "a:visited.sk-estimator-doc-link.fitted {\n",
              "  /* fitted */\n",
              "  border: var(--sklearn-color-fitted-level-1) 1pt solid;\n",
              "  color: var(--sklearn-color-fitted-level-1);\n",
              "}\n",
              "\n",
              "/* On hover */\n",
              "div.sk-estimator:hover .sk-estimator-doc-link:hover,\n",
              ".sk-estimator-doc-link:hover,\n",
              "div.sk-label-container:hover .sk-estimator-doc-link:hover,\n",
              ".sk-estimator-doc-link:hover {\n",
              "  /* unfitted */\n",
              "  background-color: var(--sklearn-color-unfitted-level-3);\n",
              "  color: var(--sklearn-color-background);\n",
              "  text-decoration: none;\n",
              "}\n",
              "\n",
              "div.sk-estimator.fitted:hover .sk-estimator-doc-link.fitted:hover,\n",
              ".sk-estimator-doc-link.fitted:hover,\n",
              "div.sk-label-container:hover .sk-estimator-doc-link.fitted:hover,\n",
              ".sk-estimator-doc-link.fitted:hover {\n",
              "  /* fitted */\n",
              "  background-color: var(--sklearn-color-fitted-level-3);\n",
              "  color: var(--sklearn-color-background);\n",
              "  text-decoration: none;\n",
              "}\n",
              "\n",
              "/* Span, style for the box shown on hovering the info icon */\n",
              ".sk-estimator-doc-link span {\n",
              "  display: none;\n",
              "  z-index: 9999;\n",
              "  position: relative;\n",
              "  font-weight: normal;\n",
              "  right: .2ex;\n",
              "  padding: .5ex;\n",
              "  margin: .5ex;\n",
              "  width: min-content;\n",
              "  min-width: 20ex;\n",
              "  max-width: 50ex;\n",
              "  color: var(--sklearn-color-text);\n",
              "  box-shadow: 2pt 2pt 4pt #999;\n",
              "  /* unfitted */\n",
              "  background: var(--sklearn-color-unfitted-level-0);\n",
              "  border: .5pt solid var(--sklearn-color-unfitted-level-3);\n",
              "}\n",
              "\n",
              ".sk-estimator-doc-link.fitted span {\n",
              "  /* fitted */\n",
              "  background: var(--sklearn-color-fitted-level-0);\n",
              "  border: var(--sklearn-color-fitted-level-3);\n",
              "}\n",
              "\n",
              ".sk-estimator-doc-link:hover span {\n",
              "  display: block;\n",
              "}\n",
              "\n",
              "/* \"?\"-specific style due to the `<a>` HTML tag */\n",
              "\n",
              "#sk-container-id-1 a.estimator_doc_link {\n",
              "  float: right;\n",
              "  font-size: 1rem;\n",
              "  line-height: 1em;\n",
              "  font-family: monospace;\n",
              "  background-color: var(--sklearn-color-background);\n",
              "  border-radius: 1rem;\n",
              "  height: 1rem;\n",
              "  width: 1rem;\n",
              "  text-decoration: none;\n",
              "  /* unfitted */\n",
              "  color: var(--sklearn-color-unfitted-level-1);\n",
              "  border: var(--sklearn-color-unfitted-level-1) 1pt solid;\n",
              "}\n",
              "\n",
              "#sk-container-id-1 a.estimator_doc_link.fitted {\n",
              "  /* fitted */\n",
              "  border: var(--sklearn-color-fitted-level-1) 1pt solid;\n",
              "  color: var(--sklearn-color-fitted-level-1);\n",
              "}\n",
              "\n",
              "/* On hover */\n",
              "#sk-container-id-1 a.estimator_doc_link:hover {\n",
              "  /* unfitted */\n",
              "  background-color: var(--sklearn-color-unfitted-level-3);\n",
              "  color: var(--sklearn-color-background);\n",
              "  text-decoration: none;\n",
              "}\n",
              "\n",
              "#sk-container-id-1 a.estimator_doc_link.fitted:hover {\n",
              "  /* fitted */\n",
              "  background-color: var(--sklearn-color-fitted-level-3);\n",
              "}\n",
              "</style><div id=\"sk-container-id-1\" class=\"sk-top-container\"><div class=\"sk-text-repr-fallback\"><pre>Pipeline(steps=[(&#x27;onehotencoder&#x27;,\n",
              "                 OneHotEncoder(cols=[&#x27;land_surface_condition&#x27;,\n",
              "                                     &#x27;foundation_type&#x27;, &#x27;roof_type&#x27;,\n",
              "                                     &#x27;ground_floor_type&#x27;, &#x27;other_floor_type&#x27;,\n",
              "                                     &#x27;position&#x27;, &#x27;plan_configuration&#x27;,\n",
              "                                     &#x27;superstructure&#x27;],\n",
              "                               use_cat_names=True)),\n",
              "                (&#x27;logisticregression&#x27;, LogisticRegression(max_iter=1000))])</pre><b>In a Jupyter environment, please rerun this cell to show the HTML representation or trust the notebook. <br />On GitHub, the HTML representation is unable to render, please try loading this page with nbviewer.org.</b></div><div class=\"sk-container\" hidden><div class=\"sk-item sk-dashed-wrapped\"><div class=\"sk-label-container\"><div class=\"sk-label fitted sk-toggleable\"><input class=\"sk-toggleable__control sk-hidden--visually\" id=\"sk-estimator-id-1\" type=\"checkbox\" ><label for=\"sk-estimator-id-1\" class=\"sk-toggleable__label fitted sk-toggleable__label-arrow\"><div><div>Pipeline</div></div><div><a class=\"sk-estimator-doc-link fitted\" rel=\"noreferrer\" target=\"_blank\" href=\"https://scikit-learn.org/1.6/modules/generated/sklearn.pipeline.Pipeline.html\">?<span>Documentation for Pipeline</span></a><span class=\"sk-estimator-doc-link fitted\">i<span>Fitted</span></span></div></label><div class=\"sk-toggleable__content fitted\"><pre>Pipeline(steps=[(&#x27;onehotencoder&#x27;,\n",
              "                 OneHotEncoder(cols=[&#x27;land_surface_condition&#x27;,\n",
              "                                     &#x27;foundation_type&#x27;, &#x27;roof_type&#x27;,\n",
              "                                     &#x27;ground_floor_type&#x27;, &#x27;other_floor_type&#x27;,\n",
              "                                     &#x27;position&#x27;, &#x27;plan_configuration&#x27;,\n",
              "                                     &#x27;superstructure&#x27;],\n",
              "                               use_cat_names=True)),\n",
              "                (&#x27;logisticregression&#x27;, LogisticRegression(max_iter=1000))])</pre></div> </div></div><div class=\"sk-serial\"><div class=\"sk-item\"><div class=\"sk-estimator fitted sk-toggleable\"><input class=\"sk-toggleable__control sk-hidden--visually\" id=\"sk-estimator-id-2\" type=\"checkbox\" ><label for=\"sk-estimator-id-2\" class=\"sk-toggleable__label fitted sk-toggleable__label-arrow\"><div><div>OneHotEncoder</div></div></label><div class=\"sk-toggleable__content fitted\"><pre>OneHotEncoder(cols=[&#x27;land_surface_condition&#x27;, &#x27;foundation_type&#x27;, &#x27;roof_type&#x27;,\n",
              "                    &#x27;ground_floor_type&#x27;, &#x27;other_floor_type&#x27;, &#x27;position&#x27;,\n",
              "                    &#x27;plan_configuration&#x27;, &#x27;superstructure&#x27;],\n",
              "              use_cat_names=True)</pre></div> </div></div><div class=\"sk-item\"><div class=\"sk-estimator fitted sk-toggleable\"><input class=\"sk-toggleable__control sk-hidden--visually\" id=\"sk-estimator-id-3\" type=\"checkbox\" ><label for=\"sk-estimator-id-3\" class=\"sk-toggleable__label fitted sk-toggleable__label-arrow\"><div><div>LogisticRegression</div></div><div><a class=\"sk-estimator-doc-link fitted\" rel=\"noreferrer\" target=\"_blank\" href=\"https://scikit-learn.org/1.6/modules/generated/sklearn.linear_model.LogisticRegression.html\">?<span>Documentation for LogisticRegression</span></a></div></label><div class=\"sk-toggleable__content fitted\"><pre>LogisticRegression(max_iter=1000)</pre></div> </div></div></div></div></div></div>"
            ]
          },
          "metadata": {},
          "execution_count": 18
        }
      ]
    },
    {
      "cell_type": "markdown",
      "source": [
        "Sometimes logistic regression models encounter a convergence warning, indicating that they didn’t have enough time to estimate all the coefficients accurately. To address this, I can increase the max_iter (maximum number of iterations) parameter to a higher value, like a thousand, to avoid the warning."
      ],
      "metadata": {
        "id": "7CQ1Ke5CP80I"
      }
    },
    {
      "cell_type": "markdown",
      "source": [
        "## **Evaluate**"
      ],
      "metadata": {
        "id": "nX4L2MKhQlo8"
      }
    },
    {
      "cell_type": "markdown",
      "source": [
        "After successfully training my model, I want to assess the model's perfomance. There are two methods for calculating accuracy scores in scikit-learn.\n",
        "\n",
        "The first one is going to involve using the accuracy function to predict the true labels of my training data.\n",
        "\n",
        "The second function will use model.score() where I will use X_test and y_test."
      ],
      "metadata": {
        "id": "vKpNiOk6Qp_-"
      }
    },
    {
      "cell_type": "code",
      "source": [
        "acc_train = accuracy_score(y_train, model.predict(X_train))\n",
        "print(\"Training Accuracy:\", round(acc_train, 2))\n",
        "acc_test = model.score(X_test, y_test)\n",
        "print(\"Test Accuracy:\", round(acc_test, 2))"
      ],
      "metadata": {
        "colab": {
          "base_uri": "https://localhost:8080/"
        },
        "id": "YjLxNdbTP_Ty",
        "outputId": "0a73dd2c-70ad-4771-8c5e-4ba457cca926"
      },
      "execution_count": 19,
      "outputs": [
        {
          "output_type": "stream",
          "name": "stdout",
          "text": [
            "Training Accuracy: 0.73\n",
            "Test Accuracy: 0.73\n"
          ]
        }
      ]
    },
    {
      "cell_type": "markdown",
      "source": [
        "Both my training and accuracy scores have beat the baseline. This is excellent news as I can now proceed to Communicating my results."
      ],
      "metadata": {
        "id": "H9sh0aMdUWUa"
      }
    },
    {
      "cell_type": "markdown",
      "source": [
        "# **Communicate Results**"
      ],
      "metadata": {
        "id": "UqhkISmVUmZU"
      }
    },
    {
      "cell_type": "markdown",
      "source": [
        "Logistic Regression ends up with final predictions of either 0(less severely damaged) or 1(severely damaged). However, below these predictions, there are probability estimates represented by floating numbers between 0 and 1. I want to examine both the predictions and probabilities of the first 5 predictions."
      ],
      "metadata": {
        "id": "FY5U52iEVR40"
      }
    },
    {
      "cell_type": "code",
      "source": [
        "#Predictions\n",
        "model.predict(X_train)[:5]"
      ],
      "metadata": {
        "colab": {
          "base_uri": "https://localhost:8080/"
        },
        "id": "dQCCk2JrT4Rb",
        "outputId": "c6b8ff05-95a2-44b1-8d62-07263647c26d"
      },
      "execution_count": 20,
      "outputs": [
        {
          "output_type": "execute_result",
          "data": {
            "text/plain": [
              "array([1, 1, 1, 0, 1])"
            ]
          },
          "metadata": {},
          "execution_count": 20
        }
      ]
    },
    {
      "cell_type": "markdown",
      "source": [
        "The output indicates that the first three have been predicted to be severely damaged wheres the fourth one is predicted to be less severely damaged while the fifth one is severely damaged."
      ],
      "metadata": {
        "id": "bg5xBdg6WDex"
      }
    },
    {
      "cell_type": "code",
      "source": [
        "#Probabilities of the first 5 predictions\n",
        "y_train_predict_proba = model.predict_proba(X_train)\n",
        "y_train_predict_proba[:5]"
      ],
      "metadata": {
        "colab": {
          "base_uri": "https://localhost:8080/"
        },
        "id": "EZeUhdpZWAOf",
        "outputId": "7144ae3f-987a-4cb5-a473-80c896469138"
      },
      "execution_count": 21,
      "outputs": [
        {
          "output_type": "execute_result",
          "data": {
            "text/plain": [
              "array([[0.29502489, 0.70497511],\n",
              "       [0.25510276, 0.74489724],\n",
              "       [0.22656157, 0.77343843],\n",
              "       [0.54263562, 0.45736438],\n",
              "       [0.31236959, 0.68763041]])"
            ]
          },
          "metadata": {},
          "execution_count": 21
        }
      ]
    },
    {
      "cell_type": "markdown",
      "source": [
        "The output returns a nested list with two columns.\n",
        "(focusing on the first prediction), it indicates that the model predicted a 29% chance of the building to belong to the negative class(0) and a 70% chance of the building to belong to the positive class(1). It then concluded that the building is predicted to be severely damaged."
      ],
      "metadata": {
        "id": "NjHOg6aBWowU"
      }
    },
    {
      "cell_type": "markdown",
      "source": [
        "The next thing I need to do is extract feature names and importances from my model using odds ratio. I need to remember that I have a linear equation wrapped in a sigmoid function.\n",
        "\n",
        "After this, I need to plot a Horizontal Bar Chart of my odds ratio and interprete my results from the visualization. I want to focus on the best 5 coefficients.\n",
        "\n",
        "Also an odds ratio >1 means the feature increases the odds of the outcome"
      ],
      "metadata": {
        "id": "ikkIdwJXYWrD"
      }
    },
    {
      "cell_type": "code",
      "source": [
        "#Extract feature names and importances from my model\n",
        "features = model.named_steps[\"onehotencoder\"].get_feature_names_out()\n",
        "print(features[:5])\n",
        "importances = model.named_steps[\"logisticregression\"].coef_[0]\n",
        "print(importances[:5])"
      ],
      "metadata": {
        "colab": {
          "base_uri": "https://localhost:8080/"
        },
        "id": "qzLDJqgeZw-Y",
        "outputId": "5ee26865-90f5-48e7-b6f0-e18bdbb0e729"
      },
      "execution_count": 22,
      "outputs": [
        {
          "output_type": "stream",
          "name": "stdout",
          "text": [
            "['age_building' 'plinth_area_sq_ft' 'height_ft_pre_eq'\n",
            " 'land_surface_condition_Flat' 'land_surface_condition_Moderate slope']\n",
            "[ 4.18090833e-04 -2.42382765e-04  2.11526704e-02 -2.33839167e-01\n",
            " -2.79045221e-01]\n"
          ]
        }
      ]
    },
    {
      "cell_type": "code",
      "source": [
        "odds_ratio = pd.Series(np.exp(importances), index = features).sort_values()\n",
        "odds_ratio.head()"
      ],
      "metadata": {
        "colab": {
          "base_uri": "https://localhost:8080/",
          "height": 241
        },
        "id": "sjrO1hRpWlh8",
        "outputId": "37c04d16-5e15-42a7-ea44-cbf3b2788036"
      },
      "execution_count": 23,
      "outputs": [
        {
          "output_type": "execute_result",
          "data": {
            "text/plain": [
              "superstructure_has_superstructure_cement_mortar_brick    0.278323\n",
              "foundation_type_RC                                       0.454396\n",
              "superstructure_has_superstructure_rc_non_engineered      0.480985\n",
              "superstructure_has_superstructure_rc_engineered          0.507927\n",
              "roof_type_RCC/RB/RBC                                     0.532836\n",
              "dtype: float64"
            ],
            "text/html": [
              "<div>\n",
              "<style scoped>\n",
              "    .dataframe tbody tr th:only-of-type {\n",
              "        vertical-align: middle;\n",
              "    }\n",
              "\n",
              "    .dataframe tbody tr th {\n",
              "        vertical-align: top;\n",
              "    }\n",
              "\n",
              "    .dataframe thead th {\n",
              "        text-align: right;\n",
              "    }\n",
              "</style>\n",
              "<table border=\"1\" class=\"dataframe\">\n",
              "  <thead>\n",
              "    <tr style=\"text-align: right;\">\n",
              "      <th></th>\n",
              "      <th>0</th>\n",
              "    </tr>\n",
              "  </thead>\n",
              "  <tbody>\n",
              "    <tr>\n",
              "      <th>superstructure_has_superstructure_cement_mortar_brick</th>\n",
              "      <td>0.278323</td>\n",
              "    </tr>\n",
              "    <tr>\n",
              "      <th>foundation_type_RC</th>\n",
              "      <td>0.454396</td>\n",
              "    </tr>\n",
              "    <tr>\n",
              "      <th>superstructure_has_superstructure_rc_non_engineered</th>\n",
              "      <td>0.480985</td>\n",
              "    </tr>\n",
              "    <tr>\n",
              "      <th>superstructure_has_superstructure_rc_engineered</th>\n",
              "      <td>0.507927</td>\n",
              "    </tr>\n",
              "    <tr>\n",
              "      <th>roof_type_RCC/RB/RBC</th>\n",
              "      <td>0.532836</td>\n",
              "    </tr>\n",
              "  </tbody>\n",
              "</table>\n",
              "</div><br><label><b>dtype:</b> float64</label>"
            ]
          },
          "metadata": {},
          "execution_count": 23
        }
      ]
    },
    {
      "cell_type": "code",
      "source": [
        "#Building features associated with an increase in severe damage\n",
        "odds_ratio.tail().plot(kind=\"barh\", xlabel=\"Odds Ratio\")"
      ],
      "metadata": {
        "colab": {
          "base_uri": "https://localhost:8080/",
          "height": 467
        },
        "id": "inNOL2hRZh2d",
        "outputId": "0e922816-a011-4148-86dc-73ffbe28aff9"
      },
      "execution_count": 24,
      "outputs": [
        {
          "output_type": "execute_result",
          "data": {
            "text/plain": [
              "<Axes: xlabel='Odds Ratio'>"
            ]
          },
          "metadata": {},
          "execution_count": 24
        },
        {
          "output_type": "display_data",
          "data": {
            "text/plain": [
              "<Figure size 640x480 with 1 Axes>"
            ],
            "image/png": "[encoded data removed]"
          },
          "metadata": {}
        }
      ]
    },
    {
      "cell_type": "markdown",
      "source": [
        "The above Horizontal Bar chart indicates the top 5 features associated with an increased likelihood of severe damage. Any odds ratio over one indicates a likelihood of increased severe damage.\n",
        "\n",
        "Example, a building that has a superstructure with stone flag has a 200% increased likelihood of severe damage."
      ],
      "metadata": {
        "id": "RIa5eL5udXtI"
      }
    },
    {
      "cell_type": "code",
      "source": [
        "#Building features associated with a decrease in severe damage\n",
        "odds_ratio.head().plot(kind=\"barh\", xlabel=\"Odds Ratio\")"
      ],
      "metadata": {
        "colab": {
          "base_uri": "https://localhost:8080/",
          "height": 467
        },
        "id": "WJRjRzNwchmg",
        "outputId": "148a1d87-6889-4ff4-b7d5-a13250ca432c"
      },
      "execution_count": 25,
      "outputs": [
        {
          "output_type": "execute_result",
          "data": {
            "text/plain": [
              "<Axes: xlabel='Odds Ratio'>"
            ]
          },
          "metadata": {},
          "execution_count": 25
        },
        {
          "output_type": "display_data",
          "data": {
            "text/plain": [
              "<Figure size 640x480 with 1 Axes>"
            ],
            "image/png": "[encoded data removed]"
          },
          "metadata": {}
        }
      ]
    },
    {
      "cell_type": "markdown",
      "source": [
        "The above Horizontal Bar chart indicates the top 5 features associated with a decreased likelihood of severe damage.\n",
        "\n",
        "Example, a building with roof types Reinforced Cement Concrete(RCC), Reinforced Brick(RB), Reinforced Brick Concrete(RBC) are 50% less likely to suffer severe damage."
      ],
      "metadata": {
        "id": "mb7wk314eTcu"
      }
    },
    {
      "cell_type": "markdown",
      "source": [
        "# **Conclusion**"
      ],
      "metadata": {
        "id": "0A68Vy8If5G9"
      }
    },
    {
      "cell_type": "markdown",
      "source": [
        "I have worked with a classification problem, and created a Binary Target where class 0 represented buildings that were less severely damaged and class 1 represented buildings that were severely damaged.\n",
        "\n",
        "In my data exploration, I focused on analysing class balance and proportion of positive and negative classes. I created a majority class and minority class for my proportions then proceeded to splitting using a randomized train-test split.\n",
        "\n",
        "In Building my logistic regression model, I created my baseline using accuracy score then fit my model. I proceeded to comparing my accuracy scores using two methods, against the baseline.\n",
        "\n",
        "Finally, I extracted my feature names and importances, plotted my odds ratio and interpreted my results showing the various types of buildings that were highly likely to suffer severe damage.\n",
        "\n",
        "My next part will be predicting Damage using Decision Trees."
      ],
      "metadata": {
        "id": "WQIMXy49gFBP"
      }
    },
    {
      "cell_type": "markdown",
      "source": [
        "# **Part two : Predicting Damage with Decision Trees**"
      ],
      "metadata": {
        "id": "vs65QyYnihEU"
      }
    },
    {
      "cell_type": "markdown",
      "source": [
        "In this second part, I want to focus on creating a Decision Tree to help me predict severe damage in Nepal.\n",
        "\n",
        "I will also tune in Hyperparameters for my model.\n",
        "\n",
        "I will also explain model predictions using gini importances.\n",
        "\n",
        "I will also use the usual Machine Learning workflow. Most parts will be similar to my part one. However, in splitting I will conduct a three way split, ie train, validation and test sets.\n",
        "\n",
        "These are the three main part for my iteration phase; decision trees, ordinal encoding for categorical variables, and plotting a validation curve to help tune the hyperparameters for my decision tree model.\n",
        "\n",
        "For evaluation, in the last part of the ML workflow, I will focus on Gini's importance"
      ],
      "metadata": {
        "id": "7LzKWe2oirAc"
      }
    },
    {
      "cell_type": "markdown",
      "source": [
        "# **Split**"
      ],
      "metadata": {
        "id": "6A8sQWbllIiG"
      }
    },
    {
      "cell_type": "code",
      "source": [
        "target_dt = \"severe_damage\"\n",
        "X_dt = df.drop(columns = target_dt)\n",
        "y_dt = df[target_dt]\n"
      ],
      "metadata": {
        "id": "TvlCzfoTeNbq"
      },
      "execution_count": 26,
      "outputs": []
    },
    {
      "cell_type": "markdown",
      "source": [
        "I want to perform a randomized split in two steps, that is, a train-validation-test split.\n",
        "\n",
        "I want to use the validation set for tuning my model with hyperparameters that will help make adjustments before training my model using the test set. I will be able to check the model's performance using the validation set. I will use X_train and y_train as opposed to X and y that I usually use for my train-test split."
      ],
      "metadata": {
        "id": "bqwbQaxFmDwh"
      }
    },
    {
      "cell_type": "code",
      "source": [
        "#Perform train-test split for my DT Model\n",
        "X_train_dt, X_test_dt, y_train_dt, y_test_dt = train_test_split(X_dt, y_dt, test_size=0.2, random_state=42)"
      ],
      "metadata": {
        "id": "cLF5OeAelr9L"
      },
      "execution_count": 27,
      "outputs": []
    },
    {
      "cell_type": "code",
      "source": [
        "#Perform train-validation split for my model\n",
        "X_train_dt, X_val_dt, y_train_dt, y_val_dt = train_test_split(X_train_dt, y_train_dt, test_size=0.2, random_state=42)"
      ],
      "metadata": {
        "id": "DCxeZKdhnp9h"
      },
      "execution_count": 28,
      "outputs": []
    },
    {
      "cell_type": "markdown",
      "source": [
        "My validation split will be 20% of my training set. My training set will now become 60%, my test set will remain 20% of my data.(the 20-20-60 split)"
      ],
      "metadata": {
        "id": "pPGRBOoDopPE"
      }
    },
    {
      "cell_type": "markdown",
      "source": [
        "# **BUILD MODEL**"
      ],
      "metadata": {
        "id": "S8v5HFZBpRZ4"
      }
    },
    {
      "cell_type": "markdown",
      "source": [
        "## **Baseline**"
      ],
      "metadata": {
        "id": "6dky0im3pWRW"
      }
    },
    {
      "cell_type": "code",
      "source": [
        "acc_baseline_dt = y_train_dt.value_counts(normalize=True).max()\n",
        "print(\"Baseline:\", round(acc_baseline_dt, 2))"
      ],
      "metadata": {
        "colab": {
          "base_uri": "https://localhost:8080/"
        },
        "id": "K6obOVEIooXc",
        "outputId": "1ec09ebb-2c92-4c29-c61e-f7601ddc736d"
      },
      "execution_count": 29,
      "outputs": [
        {
          "output_type": "stream",
          "name": "stdout",
          "text": [
            "Baseline: 0.6\n"
          ]
        }
      ]
    },
    {
      "cell_type": "markdown",
      "source": [
        "For my model to work, it needs to beat this baseline score."
      ],
      "metadata": {
        "id": "WZU1No03pxAR"
      }
    },
    {
      "cell_type": "markdown",
      "source": [
        "I want to iterate my model, that is, using a Decision Tree Classifier alongside an Ordinal Encoder.\n",
        "\n",
        "The Decision Tree works by grouping all training observations into a single node. In this case, it contains two classes(severely damaged buildings and not severely damaged buildings). It will further separate the two classes in this root node. The main aim is to achieve purity and on the first division, it will not be able to achieve this purity. This purity means one node will contain specifically severely damaged buildings while the other node will explicitely contain not severely damaged buildings. There will be several divisions to be able to reach complete purity.\n",
        "\n",
        "The number of divisions required to achieve purity is known as depth. The final set of nodes are referred to as terminal nodes.\n",
        "\n",
        "The Decision Tree does this for all features(both numerical and categorical variables)\n",
        "\n",
        "Unlike OneHotEncoder, ordinal encoder assigns unique integer numbers to each category in that categorical feature. An example is the foundation feature with Wood(1), Brick(2) and Reinforced Concrete(3).\n",
        "\n",
        "Ordinal encoding works well with decision trees because the decision tree algorithm aims to divide nodes into subgroups to achieve maximum purity, and it doesn't rely on mathematical operations with categories."
      ],
      "metadata": {
        "id": "K17Pg9Kmp9w0"
      }
    },
    {
      "cell_type": "markdown",
      "source": [
        "## **Iterate**"
      ],
      "metadata": {
        "id": "PxWcFAvrzXnu"
      }
    },
    {
      "cell_type": "code",
      "source": [
        "model_dt = make_pipeline(\n",
        "    OrdinalEncoder(),\n",
        "    DecisionTreeClassifier(random_state=42)\n",
        ")\n",
        "model_dt.fit(X_train_dt, y_train_dt)"
      ],
      "metadata": {
        "colab": {
          "base_uri": "https://localhost:8080/",
          "height": 155
        },
        "id": "s80GiwySpq_G",
        "outputId": "7e1764de-1375-4785-c8e2-d132a86ae6f4"
      },
      "execution_count": 30,
      "outputs": [
        {
          "output_type": "execute_result",
          "data": {
            "text/plain": [
              "Pipeline(steps=[('ordinalencoder',\n",
              "                 OrdinalEncoder(cols=['land_surface_condition',\n",
              "                                      'foundation_type', 'roof_type',\n",
              "                                      'ground_floor_type', 'other_floor_type',\n",
              "                                      'position', 'plan_configuration',\n",
              "                                      'superstructure'],\n",
              "                                mapping=[{'col': 'land_surface_condition',\n",
              "                                          'data_type': dtype('O'),\n",
              "                                          'mapping': Flat              1\n",
              "Moderate slope    2\n",
              "Steep slope       3\n",
              "NaN              -2\n",
              "dtype: int64},\n",
              "                                         {'col': 'foundation_type',\n",
              "                                          'dat...\n",
              "has_superstructure_adobe_mud               3\n",
              "has_superstructure_timber                  4\n",
              "has_superstructure_stone_flag              5\n",
              "has_superstructure_rc_non_engineered       6\n",
              "has_superstructure_cement_mortar_stone     7\n",
              "has_superstructure_mud_mortar_brick        8\n",
              "has_superstructure_rc_engineered           9\n",
              "has_superstructure_bamboo                 10\n",
              "has_superstructure_other                  11\n",
              "NaN                                       -2\n",
              "dtype: int64}])),\n",
              "                ('decisiontreeclassifier',\n",
              "                 DecisionTreeClassifier(random_state=42))])"
            ],
            "text/html": [
              "<style>#sk-container-id-2 {\n",
              "  /* Definition of color scheme common for light and dark mode */\n",
              "  --sklearn-color-text: #000;\n",
              "  --sklearn-color-text-muted: #666;\n",
              "  --sklearn-color-line: gray;\n",
              "  /* Definition of color scheme for unfitted estimators */\n",
              "  --sklearn-color-unfitted-level-0: #fff5e6;\n",
              "  --sklearn-color-unfitted-level-1: #f6e4d2;\n",
              "  --sklearn-color-unfitted-level-2: #ffe0b3;\n",
              "  --sklearn-color-unfitted-level-3: chocolate;\n",
              "  /* Definition of color scheme for fitted estimators */\n",
              "  --sklearn-color-fitted-level-0: #f0f8ff;\n",
              "  --sklearn-color-fitted-level-1: #d4ebff;\n",
              "  --sklearn-color-fitted-level-2: #b3dbfd;\n",
              "  --sklearn-color-fitted-level-3: cornflowerblue;\n",
              "\n",
              "  /* Specific color for light theme */\n",
              "  --sklearn-color-text-on-default-background: var(--sg-text-color, var(--theme-code-foreground, var(--jp-content-font-color1, black)));\n",
              "  --sklearn-color-background: var(--sg-background-color, var(--theme-background, var(--jp-layout-color0, white)));\n",
              "  --sklearn-color-border-box: var(--sg-text-color, var(--theme-code-foreground, var(--jp-content-font-color1, black)));\n",
              "  --sklearn-color-icon: #696969;\n",
              "\n",
              "  @media (prefers-color-scheme: dark) {\n",
              "    /* Redefinition of color scheme for dark theme */\n",
              "    --sklearn-color-text-on-default-background: var(--sg-text-color, var(--theme-code-foreground, var(--jp-content-font-color1, white)));\n",
              "    --sklearn-color-background: var(--sg-background-color, var(--theme-background, var(--jp-layout-color0, #111)));\n",
              "    --sklearn-color-border-box: var(--sg-text-color, var(--theme-code-foreground, var(--jp-content-font-color1, white)));\n",
              "    --sklearn-color-icon: #878787;\n",
              "  }\n",
              "}\n",
              "\n",
              "#sk-container-id-2 {\n",
              "  color: var(--sklearn-color-text);\n",
              "}\n",
              "\n",
              "#sk-container-id-2 pre {\n",
              "  padding: 0;\n",
              "}\n",
              "\n",
              "#sk-container-id-2 input.sk-hidden--visually {\n",
              "  border: 0;\n",
              "  clip: rect(1px 1px 1px 1px);\n",
              "  clip: rect(1px, 1px, 1px, 1px);\n",
              "  height: 1px;\n",
              "  margin: -1px;\n",
              "  overflow: hidden;\n",
              "  padding: 0;\n",
              "  position: absolute;\n",
              "  width: 1px;\n",
              "}\n",
              "\n",
              "#sk-container-id-2 div.sk-dashed-wrapped {\n",
              "  border: 1px dashed var(--sklearn-color-line);\n",
              "  margin: 0 0.4em 0.5em 0.4em;\n",
              "  box-sizing: border-box;\n",
              "  padding-bottom: 0.4em;\n",
              "  background-color: var(--sklearn-color-background);\n",
              "}\n",
              "\n",
              "#sk-container-id-2 div.sk-container {\n",
              "  /* jupyter's `normalize.less` sets `[hidden] { display: none; }`\n",
              "     but bootstrap.min.css set `[hidden] { display: none !important; }`\n",
              "     so we also need the `!important` here to be able to override the\n",
              "     default hidden behavior on the sphinx rendered scikit-learn.org.\n",
              "     See: https://github.com/scikit-learn/scikit-learn/issues/21755 */\n",
              "  display: inline-block !important;\n",
              "  position: relative;\n",
              "}\n",
              "\n",
              "#sk-container-id-2 div.sk-text-repr-fallback {\n",
              "  display: none;\n",
              "}\n",
              "\n",
              "div.sk-parallel-item,\n",
              "div.sk-serial,\n",
              "div.sk-item {\n",
              "  /* draw centered vertical line to link estimators */\n",
              "  background-image: linear-gradient(var(--sklearn-color-text-on-default-background), var(--sklearn-color-text-on-default-background));\n",
              "  background-size: 2px 100%;\n",
              "  background-repeat: no-repeat;\n",
              "  background-position: center center;\n",
              "}\n",
              "\n",
              "/* Parallel-specific style estimator block */\n",
              "\n",
              "#sk-container-id-2 div.sk-parallel-item::after {\n",
              "  content: \"\";\n",
              "  width: 100%;\n",
              "  border-bottom: 2px solid var(--sklearn-color-text-on-default-background);\n",
              "  flex-grow: 1;\n",
              "}\n",
              "\n",
              "#sk-container-id-2 div.sk-parallel {\n",
              "  display: flex;\n",
              "  align-items: stretch;\n",
              "  justify-content: center;\n",
              "  background-color: var(--sklearn-color-background);\n",
              "  position: relative;\n",
              "}\n",
              "\n",
              "#sk-container-id-2 div.sk-parallel-item {\n",
              "  display: flex;\n",
              "  flex-direction: column;\n",
              "}\n",
              "\n",
              "#sk-container-id-2 div.sk-parallel-item:first-child::after {\n",
              "  align-self: flex-end;\n",
              "  width: 50%;\n",
              "}\n",
              "\n",
              "#sk-container-id-2 div.sk-parallel-item:last-child::after {\n",
              "  align-self: flex-start;\n",
              "  width: 50%;\n",
              "}\n",
              "\n",
              "#sk-container-id-2 div.sk-parallel-item:only-child::after {\n",
              "  width: 0;\n",
              "}\n",
              "\n",
              "/* Serial-specific style estimator block */\n",
              "\n",
              "#sk-container-id-2 div.sk-serial {\n",
              "  display: flex;\n",
              "  flex-direction: column;\n",
              "  align-items: center;\n",
              "  background-color: var(--sklearn-color-background);\n",
              "  padding-right: 1em;\n",
              "  padding-left: 1em;\n",
              "}\n",
              "\n",
              "\n",
              "/* Toggleable style: style used for estimator/Pipeline/ColumnTransformer box that is\n",
              "clickable and can be expanded/collapsed.\n",
              "- Pipeline and ColumnTransformer use this feature and define the default style\n",
              "- Estimators will overwrite some part of the style using the `sk-estimator` class\n",
              "*/\n",
              "\n",
              "/* Pipeline and ColumnTransformer style (default) */\n",
              "\n",
              "#sk-container-id-2 div.sk-toggleable {\n",
              "  /* Default theme specific background. It is overwritten whether we have a\n",
              "  specific estimator or a Pipeline/ColumnTransformer */\n",
              "  background-color: var(--sklearn-color-background);\n",
              "}\n",
              "\n",
              "/* Toggleable label */\n",
              "#sk-container-id-2 label.sk-toggleable__label {\n",
              "  cursor: pointer;\n",
              "  display: flex;\n",
              "  width: 100%;\n",
              "  margin-bottom: 0;\n",
              "  padding: 0.5em;\n",
              "  box-sizing: border-box;\n",
              "  text-align: center;\n",
              "  align-items: start;\n",
              "  justify-content: space-between;\n",
              "  gap: 0.5em;\n",
              "}\n",
              "\n",
              "#sk-container-id-2 label.sk-toggleable__label .caption {\n",
              "  font-size: 0.6rem;\n",
              "  font-weight: lighter;\n",
              "  color: var(--sklearn-color-text-muted);\n",
              "}\n",
              "\n",
              "#sk-container-id-2 label.sk-toggleable__label-arrow:before {\n",
              "  /* Arrow on the left of the label */\n",
              "  content: \"▸\";\n",
              "  float: left;\n",
              "  margin-right: 0.25em;\n",
              "  color: var(--sklearn-color-icon);\n",
              "}\n",
              "\n",
              "#sk-container-id-2 label.sk-toggleable__label-arrow:hover:before {\n",
              "  color: var(--sklearn-color-text);\n",
              "}\n",
              "\n",
              "/* Toggleable content - dropdown */\n",
              "\n",
              "#sk-container-id-2 div.sk-toggleable__content {\n",
              "  max-height: 0;\n",
              "  max-width: 0;\n",
              "  overflow: hidden;\n",
              "  text-align: left;\n",
              "  /* unfitted */\n",
              "  background-color: var(--sklearn-color-unfitted-level-0);\n",
              "}\n",
              "\n",
              "#sk-container-id-2 div.sk-toggleable__content.fitted {\n",
              "  /* fitted */\n",
              "  background-color: var(--sklearn-color-fitted-level-0);\n",
              "}\n",
              "\n",
              "#sk-container-id-2 div.sk-toggleable__content pre {\n",
              "  margin: 0.2em;\n",
              "  border-radius: 0.25em;\n",
              "  color: var(--sklearn-color-text);\n",
              "  /* unfitted */\n",
              "  background-color: var(--sklearn-color-unfitted-level-0);\n",
              "}\n",
              "\n",
              "#sk-container-id-2 div.sk-toggleable__content.fitted pre {\n",
              "  /* unfitted */\n",
              "  background-color: var(--sklearn-color-fitted-level-0);\n",
              "}\n",
              "\n",
              "#sk-container-id-2 input.sk-toggleable__control:checked~div.sk-toggleable__content {\n",
              "  /* Expand drop-down */\n",
              "  max-height: 200px;\n",
              "  max-width: 100%;\n",
              "  overflow: auto;\n",
              "}\n",
              "\n",
              "#sk-container-id-2 input.sk-toggleable__control:checked~label.sk-toggleable__label-arrow:before {\n",
              "  content: \"▾\";\n",
              "}\n",
              "\n",
              "/* Pipeline/ColumnTransformer-specific style */\n",
              "\n",
              "#sk-container-id-2 div.sk-label input.sk-toggleable__control:checked~label.sk-toggleable__label {\n",
              "  color: var(--sklearn-color-text);\n",
              "  background-color: var(--sklearn-color-unfitted-level-2);\n",
              "}\n",
              "\n",
              "#sk-container-id-2 div.sk-label.fitted input.sk-toggleable__control:checked~label.sk-toggleable__label {\n",
              "  background-color: var(--sklearn-color-fitted-level-2);\n",
              "}\n",
              "\n",
              "/* Estimator-specific style */\n",
              "\n",
              "/* Colorize estimator box */\n",
              "#sk-container-id-2 div.sk-estimator input.sk-toggleable__control:checked~label.sk-toggleable__label {\n",
              "  /* unfitted */\n",
              "  background-color: var(--sklearn-color-unfitted-level-2);\n",
              "}\n",
              "\n",
              "#sk-container-id-2 div.sk-estimator.fitted input.sk-toggleable__control:checked~label.sk-toggleable__label {\n",
              "  /* fitted */\n",
              "  background-color: var(--sklearn-color-fitted-level-2);\n",
              "}\n",
              "\n",
              "#sk-container-id-2 div.sk-label label.sk-toggleable__label,\n",
              "#sk-container-id-2 div.sk-label label {\n",
              "  /* The background is the default theme color */\n",
              "  color: var(--sklearn-color-text-on-default-background);\n",
              "}\n",
              "\n",
              "/* On hover, darken the color of the background */\n",
              "#sk-container-id-2 div.sk-label:hover label.sk-toggleable__label {\n",
              "  color: var(--sklearn-color-text);\n",
              "  background-color: var(--sklearn-color-unfitted-level-2);\n",
              "}\n",
              "\n",
              "/* Label box, darken color on hover, fitted */\n",
              "#sk-container-id-2 div.sk-label.fitted:hover label.sk-toggleable__label.fitted {\n",
              "  color: var(--sklearn-color-text);\n",
              "  background-color: var(--sklearn-color-fitted-level-2);\n",
              "}\n",
              "\n",
              "/* Estimator label */\n",
              "\n",
              "#sk-container-id-2 div.sk-label label {\n",
              "  font-family: monospace;\n",
              "  font-weight: bold;\n",
              "  display: inline-block;\n",
              "  line-height: 1.2em;\n",
              "}\n",
              "\n",
              "#sk-container-id-2 div.sk-label-container {\n",
              "  text-align: center;\n",
              "}\n",
              "\n",
              "/* Estimator-specific */\n",
              "#sk-container-id-2 div.sk-estimator {\n",
              "  font-family: monospace;\n",
              "  border: 1px dotted var(--sklearn-color-border-box);\n",
              "  border-radius: 0.25em;\n",
              "  box-sizing: border-box;\n",
              "  margin-bottom: 0.5em;\n",
              "  /* unfitted */\n",
              "  background-color: var(--sklearn-color-unfitted-level-0);\n",
              "}\n",
              "\n",
              "#sk-container-id-2 div.sk-estimator.fitted {\n",
              "  /* fitted */\n",
              "  background-color: var(--sklearn-color-fitted-level-0);\n",
              "}\n",
              "\n",
              "/* on hover */\n",
              "#sk-container-id-2 div.sk-estimator:hover {\n",
              "  /* unfitted */\n",
              "  background-color: var(--sklearn-color-unfitted-level-2);\n",
              "}\n",
              "\n",
              "#sk-container-id-2 div.sk-estimator.fitted:hover {\n",
              "  /* fitted */\n",
              "  background-color: var(--sklearn-color-fitted-level-2);\n",
              "}\n",
              "\n",
              "/* Specification for estimator info (e.g. \"i\" and \"?\") */\n",
              "\n",
              "/* Common style for \"i\" and \"?\" */\n",
              "\n",
              ".sk-estimator-doc-link,\n",
              "a:link.sk-estimator-doc-link,\n",
              "a:visited.sk-estimator-doc-link {\n",
              "  float: right;\n",
              "  font-size: smaller;\n",
              "  line-height: 1em;\n",
              "  font-family: monospace;\n",
              "  background-color: var(--sklearn-color-background);\n",
              "  border-radius: 1em;\n",
              "  height: 1em;\n",
              "  width: 1em;\n",
              "  text-decoration: none !important;\n",
              "  margin-left: 0.5em;\n",
              "  text-align: center;\n",
              "  /* unfitted */\n",
              "  border: var(--sklearn-color-unfitted-level-1) 1pt solid;\n",
              "  color: var(--sklearn-color-unfitted-level-1);\n",
              "}\n",
              "\n",
              ".sk-estimator-doc-link.fitted,\n",
              "a:link.sk-estimator-doc-link.fitted,\n",
              "a:visited.sk-estimator-doc-link.fitted {\n",
              "  /* fitted */\n",
              "  border: var(--sklearn-color-fitted-level-1) 1pt solid;\n",
              "  color: var(--sklearn-color-fitted-level-1);\n",
              "}\n",
              "\n",
              "/* On hover */\n",
              "div.sk-estimator:hover .sk-estimator-doc-link:hover,\n",
              ".sk-estimator-doc-link:hover,\n",
              "div.sk-label-container:hover .sk-estimator-doc-link:hover,\n",
              ".sk-estimator-doc-link:hover {\n",
              "  /* unfitted */\n",
              "  background-color: var(--sklearn-color-unfitted-level-3);\n",
              "  color: var(--sklearn-color-background);\n",
              "  text-decoration: none;\n",
              "}\n",
              "\n",
              "div.sk-estimator.fitted:hover .sk-estimator-doc-link.fitted:hover,\n",
              ".sk-estimator-doc-link.fitted:hover,\n",
              "div.sk-label-container:hover .sk-estimator-doc-link.fitted:hover,\n",
              ".sk-estimator-doc-link.fitted:hover {\n",
              "  /* fitted */\n",
              "  background-color: var(--sklearn-color-fitted-level-3);\n",
              "  color: var(--sklearn-color-background);\n",
              "  text-decoration: none;\n",
              "}\n",
              "\n",
              "/* Span, style for the box shown on hovering the info icon */\n",
              ".sk-estimator-doc-link span {\n",
              "  display: none;\n",
              "  z-index: 9999;\n",
              "  position: relative;\n",
              "  font-weight: normal;\n",
              "  right: .2ex;\n",
              "  padding: .5ex;\n",
              "  margin: .5ex;\n",
              "  width: min-content;\n",
              "  min-width: 20ex;\n",
              "  max-width: 50ex;\n",
              "  color: var(--sklearn-color-text);\n",
              "  box-shadow: 2pt 2pt 4pt #999;\n",
              "  /* unfitted */\n",
              "  background: var(--sklearn-color-unfitted-level-0);\n",
              "  border: .5pt solid var(--sklearn-color-unfitted-level-3);\n",
              "}\n",
              "\n",
              ".sk-estimator-doc-link.fitted span {\n",
              "  /* fitted */\n",
              "  background: var(--sklearn-color-fitted-level-0);\n",
              "  border: var(--sklearn-color-fitted-level-3);\n",
              "}\n",
              "\n",
              ".sk-estimator-doc-link:hover span {\n",
              "  display: block;\n",
              "}\n",
              "\n",
              "/* \"?\"-specific style due to the `<a>` HTML tag */\n",
              "\n",
              "#sk-container-id-2 a.estimator_doc_link {\n",
              "  float: right;\n",
              "  font-size: 1rem;\n",
              "  line-height: 1em;\n",
              "  font-family: monospace;\n",
              "  background-color: var(--sklearn-color-background);\n",
              "  border-radius: 1rem;\n",
              "  height: 1rem;\n",
              "  width: 1rem;\n",
              "  text-decoration: none;\n",
              "  /* unfitted */\n",
              "  color: var(--sklearn-color-unfitted-level-1);\n",
              "  border: var(--sklearn-color-unfitted-level-1) 1pt solid;\n",
              "}\n",
              "\n",
              "#sk-container-id-2 a.estimator_doc_link.fitted {\n",
              "  /* fitted */\n",
              "  border: var(--sklearn-color-fitted-level-1) 1pt solid;\n",
              "  color: var(--sklearn-color-fitted-level-1);\n",
              "}\n",
              "\n",
              "/* On hover */\n",
              "#sk-container-id-2 a.estimator_doc_link:hover {\n",
              "  /* unfitted */\n",
              "  background-color: var(--sklearn-color-unfitted-level-3);\n",
              "  color: var(--sklearn-color-background);\n",
              "  text-decoration: none;\n",
              "}\n",
              "\n",
              "#sk-container-id-2 a.estimator_doc_link.fitted:hover {\n",
              "  /* fitted */\n",
              "  background-color: var(--sklearn-color-fitted-level-3);\n",
              "}\n",
              "</style><div id=\"sk-container-id-2\" class=\"sk-top-container\"><div class=\"sk-text-repr-fallback\"><pre>Pipeline(steps=[(&#x27;ordinalencoder&#x27;,\n",
              "                 OrdinalEncoder(cols=[&#x27;land_surface_condition&#x27;,\n",
              "                                      &#x27;foundation_type&#x27;, &#x27;roof_type&#x27;,\n",
              "                                      &#x27;ground_floor_type&#x27;, &#x27;other_floor_type&#x27;,\n",
              "                                      &#x27;position&#x27;, &#x27;plan_configuration&#x27;,\n",
              "                                      &#x27;superstructure&#x27;],\n",
              "                                mapping=[{&#x27;col&#x27;: &#x27;land_surface_condition&#x27;,\n",
              "                                          &#x27;data_type&#x27;: dtype(&#x27;O&#x27;),\n",
              "                                          &#x27;mapping&#x27;: Flat              1\n",
              "Moderate slope    2\n",
              "Steep slope       3\n",
              "NaN              -2\n",
              "dtype: int64},\n",
              "                                         {&#x27;col&#x27;: &#x27;foundation_type&#x27;,\n",
              "                                          &#x27;dat...\n",
              "has_superstructure_adobe_mud               3\n",
              "has_superstructure_timber                  4\n",
              "has_superstructure_stone_flag              5\n",
              "has_superstructure_rc_non_engineered       6\n",
              "has_superstructure_cement_mortar_stone     7\n",
              "has_superstructure_mud_mortar_brick        8\n",
              "has_superstructure_rc_engineered           9\n",
              "has_superstructure_bamboo                 10\n",
              "has_superstructure_other                  11\n",
              "NaN                                       -2\n",
              "dtype: int64}])),\n",
              "                (&#x27;decisiontreeclassifier&#x27;,\n",
              "                 DecisionTreeClassifier(random_state=42))])</pre><b>In a Jupyter environment, please rerun this cell to show the HTML representation or trust the notebook. <br />On GitHub, the HTML representation is unable to render, please try loading this page with nbviewer.org.</b></div><div class=\"sk-container\" hidden><div class=\"sk-item sk-dashed-wrapped\"><div class=\"sk-label-container\"><div class=\"sk-label fitted sk-toggleable\"><input class=\"sk-toggleable__control sk-hidden--visually\" id=\"sk-estimator-id-4\" type=\"checkbox\" ><label for=\"sk-estimator-id-4\" class=\"sk-toggleable__label fitted sk-toggleable__label-arrow\"><div><div>Pipeline</div></div><div><a class=\"sk-estimator-doc-link fitted\" rel=\"noreferrer\" target=\"_blank\" href=\"https://scikit-learn.org/1.6/modules/generated/sklearn.pipeline.Pipeline.html\">?<span>Documentation for Pipeline</span></a><span class=\"sk-estimator-doc-link fitted\">i<span>Fitted</span></span></div></label><div class=\"sk-toggleable__content fitted\"><pre>Pipeline(steps=[(&#x27;ordinalencoder&#x27;,\n",
              "                 OrdinalEncoder(cols=[&#x27;land_surface_condition&#x27;,\n",
              "                                      &#x27;foundation_type&#x27;, &#x27;roof_type&#x27;,\n",
              "                                      &#x27;ground_floor_type&#x27;, &#x27;other_floor_type&#x27;,\n",
              "                                      &#x27;position&#x27;, &#x27;plan_configuration&#x27;,\n",
              "                                      &#x27;superstructure&#x27;],\n",
              "                                mapping=[{&#x27;col&#x27;: &#x27;land_surface_condition&#x27;,\n",
              "                                          &#x27;data_type&#x27;: dtype(&#x27;O&#x27;),\n",
              "                                          &#x27;mapping&#x27;: Flat              1\n",
              "Moderate slope    2\n",
              "Steep slope       3\n",
              "NaN              -2\n",
              "dtype: int64},\n",
              "                                         {&#x27;col&#x27;: &#x27;foundation_type&#x27;,\n",
              "                                          &#x27;dat...\n",
              "has_superstructure_adobe_mud               3\n",
              "has_superstructure_timber                  4\n",
              "has_superstructure_stone_flag              5\n",
              "has_superstructure_rc_non_engineered       6\n",
              "has_superstructure_cement_mortar_stone     7\n",
              "has_superstructure_mud_mortar_brick        8\n",
              "has_superstructure_rc_engineered           9\n",
              "has_superstructure_bamboo                 10\n",
              "has_superstructure_other                  11\n",
              "NaN                                       -2\n",
              "dtype: int64}])),\n",
              "                (&#x27;decisiontreeclassifier&#x27;,\n",
              "                 DecisionTreeClassifier(random_state=42))])</pre></div> </div></div><div class=\"sk-serial\"><div class=\"sk-item\"><div class=\"sk-estimator fitted sk-toggleable\"><input class=\"sk-toggleable__control sk-hidden--visually\" id=\"sk-estimator-id-5\" type=\"checkbox\" ><label for=\"sk-estimator-id-5\" class=\"sk-toggleable__label fitted sk-toggleable__label-arrow\"><div><div>OrdinalEncoder</div></div></label><div class=\"sk-toggleable__content fitted\"><pre>OrdinalEncoder(cols=[&#x27;land_surface_condition&#x27;, &#x27;foundation_type&#x27;, &#x27;roof_type&#x27;,\n",
              "                     &#x27;ground_floor_type&#x27;, &#x27;other_floor_type&#x27;, &#x27;position&#x27;,\n",
              "                     &#x27;plan_configuration&#x27;, &#x27;superstructure&#x27;],\n",
              "               mapping=[{&#x27;col&#x27;: &#x27;land_surface_condition&#x27;,\n",
              "                         &#x27;data_type&#x27;: dtype(&#x27;O&#x27;),\n",
              "                         &#x27;mapping&#x27;: Flat              1\n",
              "Moderate slope    2\n",
              "Steep slope       3\n",
              "NaN              -2\n",
              "dtype: int64},\n",
              "                        {&#x27;col&#x27;: &#x27;foundation_type&#x27;, &#x27;data_type&#x27;: dtype(&#x27;O&#x27;),\n",
              "                         &#x27;mapping&#x27;: Cemen...\n",
              "                         &#x27;mapping&#x27;: has_superstructure_cement_mortar_brick     1\n",
              "has_superstructure_mud_mortar_stone        2\n",
              "has_superstructure_adobe_mud               3\n",
              "has_superstructure_timber                  4\n",
              "has_superstructure_stone_flag              5\n",
              "has_superstructure_rc_non_engineered       6\n",
              "has_superstructure_cement_mortar_stone     7\n",
              "has_superstructure_mud_mortar_brick        8\n",
              "has_superstructure_rc_engineered           9\n",
              "has_superstructure_bamboo                 10\n",
              "has_superstructure_other                  11\n",
              "NaN                                       -2\n",
              "dtype: int64}])</pre></div> </div></div><div class=\"sk-item\"><div class=\"sk-estimator fitted sk-toggleable\"><input class=\"sk-toggleable__control sk-hidden--visually\" id=\"sk-estimator-id-6\" type=\"checkbox\" ><label for=\"sk-estimator-id-6\" class=\"sk-toggleable__label fitted sk-toggleable__label-arrow\"><div><div>DecisionTreeClassifier</div></div><div><a class=\"sk-estimator-doc-link fitted\" rel=\"noreferrer\" target=\"_blank\" href=\"https://scikit-learn.org/1.6/modules/generated/sklearn.tree.DecisionTreeClassifier.html\">?<span>Documentation for DecisionTreeClassifier</span></a></div></label><div class=\"sk-toggleable__content fitted\"><pre>DecisionTreeClassifier(random_state=42)</pre></div> </div></div></div></div></div></div>"
            ]
          },
          "metadata": {},
          "execution_count": 30
        }
      ]
    },
    {
      "cell_type": "markdown",
      "source": [
        "## **Evaluate**"
      ],
      "metadata": {
        "id": "zj7qDA55zyaH"
      }
    },
    {
      "cell_type": "markdown",
      "source": [
        "I want to see how my model performs with my training and validation data before seeing its performance with my test data."
      ],
      "metadata": {
        "id": "RV5JAnIt0vIo"
      }
    },
    {
      "cell_type": "code",
      "source": [
        "acc_train_dt = accuracy_score(y_train_dt, model_dt.predict(X_train_dt))\n",
        "print(\"Training Scores:\", round(acc_train_dt,2))\n",
        "acc_val_dt = model_dt.score(X_val_dt, y_val_dt)\n",
        "print(\"Validation Score:\", round(acc_val_dt,2))"
      ],
      "metadata": {
        "colab": {
          "base_uri": "https://localhost:8080/"
        },
        "id": "Sv9guuKEztEg",
        "outputId": "cfeae6d4-926e-4079-a004-44c017245f3c"
      },
      "execution_count": 31,
      "outputs": [
        {
          "output_type": "stream",
          "name": "stdout",
          "text": [
            "Training Scores: 0.94\n",
            "Validation Score: 0.65\n"
          ]
        }
      ]
    },
    {
      "cell_type": "markdown",
      "source": [
        "The training score is nearly perfect even close to reaching 100% as opposed to my validation score that has beaten my baseline by only 5%. There is a big difference between the two scores.\n",
        "\n",
        "This means my model is failing to generalize well and I need to do some hyperparameter tuning to address the issue.\n",
        "\n",
        "Flexibility of the DTC leads to overfitting. The more the depth the more the flexibility and overfitting. If I control the tree depth, I will be able to make my model more or less flexible. I want to calculate the tree depth of my model."
      ],
      "metadata": {
        "id": "erOTvxuc1i4O"
      }
    },
    {
      "cell_type": "code",
      "source": [
        "#Get tree depth\n",
        "tree_depth = model_dt[\"decisiontreeclassifier\"].get_depth()\n",
        "print(\"Tree Depth:\", tree_depth)"
      ],
      "metadata": {
        "colab": {
          "base_uri": "https://localhost:8080/"
        },
        "id": "mAoV8fGG0H1W",
        "outputId": "101a3edd-0321-486d-a5ff-eb42a916736f"
      },
      "execution_count": 32,
      "outputs": [
        {
          "output_type": "stream",
          "name": "stdout",
          "text": [
            "Tree Depth: 59\n"
          ]
        }
      ]
    },
    {
      "cell_type": "markdown",
      "source": [
        "## **Hyperparameter Tuning**"
      ],
      "metadata": {
        "id": "tLxckMyw34Le"
      }
    },
    {
      "cell_type": "markdown",
      "source": [
        "I want to determine the best depth for my model, since 59 is quite excessive.\n",
        "\n",
        "I am going to create a range of values from 1 to 60 with steps of 2 for the max depth and test each of these possible values to see which is the best max depth.\n",
        "\n",
        "Max Depth determines the maximum depth of a decision tree which in turn affects the model's accuracy and complexity."
      ],
      "metadata": {
        "id": "xUC0Ielu3XVf"
      }
    },
    {
      "cell_type": "code",
      "source": [
        "depth_hyperparams = range(1, 60, 2)"
      ],
      "metadata": {
        "id": "a6I7regY3Qdy"
      },
      "execution_count": 33,
      "outputs": []
    },
    {
      "cell_type": "markdown",
      "source": [
        "I want to create a code that will initialize the training and validation scores of each of the range of values for my tree depth.\n",
        "I will start by creating an empty list for each of my accuracy scores then create a for loop that will add each of the possible range of values for my max_depth, then build my test model and calculate each of the scores."
      ],
      "metadata": {
        "id": "M5GQZq-94-_t"
      }
    },
    {
      "cell_type": "code",
      "source": [
        "#Create empty lists for my accuracy scores\n",
        "training_acc = []\n",
        "validation_acc = []\n",
        "#Create a for loop for my depths\n",
        "for d in depth_hyperparams:\n",
        "  #Build a model\n",
        "  test_model = make_pipeline(\n",
        "      OrdinalEncoder(),\n",
        "      DecisionTreeClassifier(max_depth=d, random_state=42)\n",
        "  )\n",
        "  test_model.fit(X_train_dt, y_train_dt)\n",
        "  #Append the values of training accuracy scores\n",
        "  training_acc.append(test_model.score(X_train_dt, y_train_dt))\n",
        "  #Append the values of validation accuracy scores\n",
        "  validation_acc.append(test_model.score(X_val_dt, y_val_dt))\n",
        "print(\"Training accuracy scores:\", training_acc[:3])\n",
        "print(\"Validation accuracy scores:\", validation_acc[:3])"
      ],
      "metadata": {
        "colab": {
          "base_uri": "https://localhost:8080/"
        },
        "id": "8muWewAZ6DhP",
        "outputId": "b17c0653-7674-45f0-ae1c-a3e40f3a0a33"
      },
      "execution_count": 34,
      "outputs": [
        {
          "output_type": "stream",
          "name": "stdout",
          "text": [
            "Training accuracy scores: [0.6774121458153934, 0.7228236355435272, 0.7271415098208062]\n",
            "Validation accuracy scores: [0.6773608889982368, 0.7213269364825522, 0.7259523516627712]\n"
          ]
        }
      ]
    },
    {
      "cell_type": "markdown",
      "source": [
        "# **Validation Curve**\n",
        "\n",
        "Line for training accuracy scores and line for validation accuracy scores."
      ],
      "metadata": {
        "id": "2F9xId4E76Ne"
      }
    },
    {
      "cell_type": "code",
      "source": [
        "plt.plot(depth_hyperparams, training_acc, label = \"training\")\n",
        "plt.plot(depth_hyperparams, validation_acc, label = \"validation\")\n",
        "plt.xlabel(\"Max Depths\")\n",
        "plt.ylabel(\"Accuracy Scores\")\n",
        "plt.legend();"
      ],
      "metadata": {
        "colab": {
          "base_uri": "https://localhost:8080/",
          "height": 452
        },
        "id": "kUoarozA75ON",
        "outputId": "9842f1a9-07de-4e02-9ea3-9e659d712367"
      },
      "execution_count": 35,
      "outputs": [
        {
          "output_type": "display_data",
          "data": {
            "text/plain": [
              "<Figure size 640x480 with 1 Axes>"
            ],
            "image/png": "[encoded data removed]"
          },
          "metadata": {}
        }
      ]
    },
    {
      "cell_type": "markdown",
      "source": [
        "From the visualization;\n",
        "\n",
        "For the training data, as the max depth increases I introduce more and more flexibility to the model and it is able to predict training data accurately.\n",
        "\n",
        "For Validation data, as the max depth increases, the scores initially increase then tend to decrease later on.\n",
        "\n",
        "I need to choose the max depth that leads to the best validation score. In this case, max_depth = 10 has the best validation accuracy score.\n",
        "\n",
        "I need to rebuild and retrain my model with max_depth = 10."
      ],
      "metadata": {
        "id": "Te5mFGkf_CfD"
      }
    },
    {
      "cell_type": "code",
      "source": [
        "model_dt = make_pipeline(\n",
        "    OrdinalEncoder(),\n",
        "    DecisionTreeClassifier(max_depth=10, random_state=42)\n",
        ")\n",
        "model_dt.fit(X_train_dt, y_train_dt)"
      ],
      "metadata": {
        "colab": {
          "base_uri": "https://localhost:8080/",
          "height": 155
        },
        "id": "yqO6o4oW-R_8",
        "outputId": "40081ec6-bc77-46f3-e325-ac0b33bca6b3"
      },
      "execution_count": 36,
      "outputs": [
        {
          "output_type": "execute_result",
          "data": {
            "text/plain": [
              "Pipeline(steps=[('ordinalencoder',\n",
              "                 OrdinalEncoder(cols=['land_surface_condition',\n",
              "                                      'foundation_type', 'roof_type',\n",
              "                                      'ground_floor_type', 'other_floor_type',\n",
              "                                      'position', 'plan_configuration',\n",
              "                                      'superstructure'],\n",
              "                                mapping=[{'col': 'land_surface_condition',\n",
              "                                          'data_type': dtype('O'),\n",
              "                                          'mapping': Flat              1\n",
              "Moderate slope    2\n",
              "Steep slope       3\n",
              "NaN              -2\n",
              "dtype: int64},\n",
              "                                         {'col': 'foundation_type',\n",
              "                                          'dat...\n",
              "has_superstructure_timber                  4\n",
              "has_superstructure_stone_flag              5\n",
              "has_superstructure_rc_non_engineered       6\n",
              "has_superstructure_cement_mortar_stone     7\n",
              "has_superstructure_mud_mortar_brick        8\n",
              "has_superstructure_rc_engineered           9\n",
              "has_superstructure_bamboo                 10\n",
              "has_superstructure_other                  11\n",
              "NaN                                       -2\n",
              "dtype: int64}])),\n",
              "                ('decisiontreeclassifier',\n",
              "                 DecisionTreeClassifier(max_depth=10, random_state=42))])"
            ],
            "text/html": [
              "<style>#sk-container-id-3 {\n",
              "  /* Definition of color scheme common for light and dark mode */\n",
              "  --sklearn-color-text: #000;\n",
              "  --sklearn-color-text-muted: #666;\n",
              "  --sklearn-color-line: gray;\n",
              "  /* Definition of color scheme for unfitted estimators */\n",
              "  --sklearn-color-unfitted-level-0: #fff5e6;\n",
              "  --sklearn-color-unfitted-level-1: #f6e4d2;\n",
              "  --sklearn-color-unfitted-level-2: #ffe0b3;\n",
              "  --sklearn-color-unfitted-level-3: chocolate;\n",
              "  /* Definition of color scheme for fitted estimators */\n",
              "  --sklearn-color-fitted-level-0: #f0f8ff;\n",
              "  --sklearn-color-fitted-level-1: #d4ebff;\n",
              "  --sklearn-color-fitted-level-2: #b3dbfd;\n",
              "  --sklearn-color-fitted-level-3: cornflowerblue;\n",
              "\n",
              "  /* Specific color for light theme */\n",
              "  --sklearn-color-text-on-default-background: var(--sg-text-color, var(--theme-code-foreground, var(--jp-content-font-color1, black)));\n",
              "  --sklearn-color-background: var(--sg-background-color, var(--theme-background, var(--jp-layout-color0, white)));\n",
              "  --sklearn-color-border-box: var(--sg-text-color, var(--theme-code-foreground, var(--jp-content-font-color1, black)));\n",
              "  --sklearn-color-icon: #696969;\n",
              "\n",
              "  @media (prefers-color-scheme: dark) {\n",
              "    /* Redefinition of color scheme for dark theme */\n",
              "    --sklearn-color-text-on-default-background: var(--sg-text-color, var(--theme-code-foreground, var(--jp-content-font-color1, white)));\n",
              "    --sklearn-color-background: var(--sg-background-color, var(--theme-background, var(--jp-layout-color0, #111)));\n",
              "    --sklearn-color-border-box: var(--sg-text-color, var(--theme-code-foreground, var(--jp-content-font-color1, white)));\n",
              "    --sklearn-color-icon: #878787;\n",
              "  }\n",
              "}\n",
              "\n",
              "#sk-container-id-3 {\n",
              "  color: var(--sklearn-color-text);\n",
              "}\n",
              "\n",
              "#sk-container-id-3 pre {\n",
              "  padding: 0;\n",
              "}\n",
              "\n",
              "#sk-container-id-3 input.sk-hidden--visually {\n",
              "  border: 0;\n",
              "  clip: rect(1px 1px 1px 1px);\n",
              "  clip: rect(1px, 1px, 1px, 1px);\n",
              "  height: 1px;\n",
              "  margin: -1px;\n",
              "  overflow: hidden;\n",
              "  padding: 0;\n",
              "  position: absolute;\n",
              "  width: 1px;\n",
              "}\n",
              "\n",
              "#sk-container-id-3 div.sk-dashed-wrapped {\n",
              "  border: 1px dashed var(--sklearn-color-line);\n",
              "  margin: 0 0.4em 0.5em 0.4em;\n",
              "  box-sizing: border-box;\n",
              "  padding-bottom: 0.4em;\n",
              "  background-color: var(--sklearn-color-background);\n",
              "}\n",
              "\n",
              "#sk-container-id-3 div.sk-container {\n",
              "  /* jupyter's `normalize.less` sets `[hidden] { display: none; }`\n",
              "     but bootstrap.min.css set `[hidden] { display: none !important; }`\n",
              "     so we also need the `!important` here to be able to override the\n",
              "     default hidden behavior on the sphinx rendered scikit-learn.org.\n",
              "     See: https://github.com/scikit-learn/scikit-learn/issues/21755 */\n",
              "  display: inline-block !important;\n",
              "  position: relative;\n",
              "}\n",
              "\n",
              "#sk-container-id-3 div.sk-text-repr-fallback {\n",
              "  display: none;\n",
              "}\n",
              "\n",
              "div.sk-parallel-item,\n",
              "div.sk-serial,\n",
              "div.sk-item {\n",
              "  /* draw centered vertical line to link estimators */\n",
              "  background-image: linear-gradient(var(--sklearn-color-text-on-default-background), var(--sklearn-color-text-on-default-background));\n",
              "  background-size: 2px 100%;\n",
              "  background-repeat: no-repeat;\n",
              "  background-position: center center;\n",
              "}\n",
              "\n",
              "/* Parallel-specific style estimator block */\n",
              "\n",
              "#sk-container-id-3 div.sk-parallel-item::after {\n",
              "  content: \"\";\n",
              "  width: 100%;\n",
              "  border-bottom: 2px solid var(--sklearn-color-text-on-default-background);\n",
              "  flex-grow: 1;\n",
              "}\n",
              "\n",
              "#sk-container-id-3 div.sk-parallel {\n",
              "  display: flex;\n",
              "  align-items: stretch;\n",
              "  justify-content: center;\n",
              "  background-color: var(--sklearn-color-background);\n",
              "  position: relative;\n",
              "}\n",
              "\n",
              "#sk-container-id-3 div.sk-parallel-item {\n",
              "  display: flex;\n",
              "  flex-direction: column;\n",
              "}\n",
              "\n",
              "#sk-container-id-3 div.sk-parallel-item:first-child::after {\n",
              "  align-self: flex-end;\n",
              "  width: 50%;\n",
              "}\n",
              "\n",
              "#sk-container-id-3 div.sk-parallel-item:last-child::after {\n",
              "  align-self: flex-start;\n",
              "  width: 50%;\n",
              "}\n",
              "\n",
              "#sk-container-id-3 div.sk-parallel-item:only-child::after {\n",
              "  width: 0;\n",
              "}\n",
              "\n",
              "/* Serial-specific style estimator block */\n",
              "\n",
              "#sk-container-id-3 div.sk-serial {\n",
              "  display: flex;\n",
              "  flex-direction: column;\n",
              "  align-items: center;\n",
              "  background-color: var(--sklearn-color-background);\n",
              "  padding-right: 1em;\n",
              "  padding-left: 1em;\n",
              "}\n",
              "\n",
              "\n",
              "/* Toggleable style: style used for estimator/Pipeline/ColumnTransformer box that is\n",
              "clickable and can be expanded/collapsed.\n",
              "- Pipeline and ColumnTransformer use this feature and define the default style\n",
              "- Estimators will overwrite some part of the style using the `sk-estimator` class\n",
              "*/\n",
              "\n",
              "/* Pipeline and ColumnTransformer style (default) */\n",
              "\n",
              "#sk-container-id-3 div.sk-toggleable {\n",
              "  /* Default theme specific background. It is overwritten whether we have a\n",
              "  specific estimator or a Pipeline/ColumnTransformer */\n",
              "  background-color: var(--sklearn-color-background);\n",
              "}\n",
              "\n",
              "/* Toggleable label */\n",
              "#sk-container-id-3 label.sk-toggleable__label {\n",
              "  cursor: pointer;\n",
              "  display: flex;\n",
              "  width: 100%;\n",
              "  margin-bottom: 0;\n",
              "  padding: 0.5em;\n",
              "  box-sizing: border-box;\n",
              "  text-align: center;\n",
              "  align-items: start;\n",
              "  justify-content: space-between;\n",
              "  gap: 0.5em;\n",
              "}\n",
              "\n",
              "#sk-container-id-3 label.sk-toggleable__label .caption {\n",
              "  font-size: 0.6rem;\n",
              "  font-weight: lighter;\n",
              "  color: var(--sklearn-color-text-muted);\n",
              "}\n",
              "\n",
              "#sk-container-id-3 label.sk-toggleable__label-arrow:before {\n",
              "  /* Arrow on the left of the label */\n",
              "  content: \"▸\";\n",
              "  float: left;\n",
              "  margin-right: 0.25em;\n",
              "  color: var(--sklearn-color-icon);\n",
              "}\n",
              "\n",
              "#sk-container-id-3 label.sk-toggleable__label-arrow:hover:before {\n",
              "  color: var(--sklearn-color-text);\n",
              "}\n",
              "\n",
              "/* Toggleable content - dropdown */\n",
              "\n",
              "#sk-container-id-3 div.sk-toggleable__content {\n",
              "  max-height: 0;\n",
              "  max-width: 0;\n",
              "  overflow: hidden;\n",
              "  text-align: left;\n",
              "  /* unfitted */\n",
              "  background-color: var(--sklearn-color-unfitted-level-0);\n",
              "}\n",
              "\n",
              "#sk-container-id-3 div.sk-toggleable__content.fitted {\n",
              "  /* fitted */\n",
              "  background-color: var(--sklearn-color-fitted-level-0);\n",
              "}\n",
              "\n",
              "#sk-container-id-3 div.sk-toggleable__content pre {\n",
              "  margin: 0.2em;\n",
              "  border-radius: 0.25em;\n",
              "  color: var(--sklearn-color-text);\n",
              "  /* unfitted */\n",
              "  background-color: var(--sklearn-color-unfitted-level-0);\n",
              "}\n",
              "\n",
              "#sk-container-id-3 div.sk-toggleable__content.fitted pre {\n",
              "  /* unfitted */\n",
              "  background-color: var(--sklearn-color-fitted-level-0);\n",
              "}\n",
              "\n",
              "#sk-container-id-3 input.sk-toggleable__control:checked~div.sk-toggleable__content {\n",
              "  /* Expand drop-down */\n",
              "  max-height: 200px;\n",
              "  max-width: 100%;\n",
              "  overflow: auto;\n",
              "}\n",
              "\n",
              "#sk-container-id-3 input.sk-toggleable__control:checked~label.sk-toggleable__label-arrow:before {\n",
              "  content: \"▾\";\n",
              "}\n",
              "\n",
              "/* Pipeline/ColumnTransformer-specific style */\n",
              "\n",
              "#sk-container-id-3 div.sk-label input.sk-toggleable__control:checked~label.sk-toggleable__label {\n",
              "  color: var(--sklearn-color-text);\n",
              "  background-color: var(--sklearn-color-unfitted-level-2);\n",
              "}\n",
              "\n",
              "#sk-container-id-3 div.sk-label.fitted input.sk-toggleable__control:checked~label.sk-toggleable__label {\n",
              "  background-color: var(--sklearn-color-fitted-level-2);\n",
              "}\n",
              "\n",
              "/* Estimator-specific style */\n",
              "\n",
              "/* Colorize estimator box */\n",
              "#sk-container-id-3 div.sk-estimator input.sk-toggleable__control:checked~label.sk-toggleable__label {\n",
              "  /* unfitted */\n",
              "  background-color: var(--sklearn-color-unfitted-level-2);\n",
              "}\n",
              "\n",
              "#sk-container-id-3 div.sk-estimator.fitted input.sk-toggleable__control:checked~label.sk-toggleable__label {\n",
              "  /* fitted */\n",
              "  background-color: var(--sklearn-color-fitted-level-2);\n",
              "}\n",
              "\n",
              "#sk-container-id-3 div.sk-label label.sk-toggleable__label,\n",
              "#sk-container-id-3 div.sk-label label {\n",
              "  /* The background is the default theme color */\n",
              "  color: var(--sklearn-color-text-on-default-background);\n",
              "}\n",
              "\n",
              "/* On hover, darken the color of the background */\n",
              "#sk-container-id-3 div.sk-label:hover label.sk-toggleable__label {\n",
              "  color: var(--sklearn-color-text);\n",
              "  background-color: var(--sklearn-color-unfitted-level-2);\n",
              "}\n",
              "\n",
              "/* Label box, darken color on hover, fitted */\n",
              "#sk-container-id-3 div.sk-label.fitted:hover label.sk-toggleable__label.fitted {\n",
              "  color: var(--sklearn-color-text);\n",
              "  background-color: var(--sklearn-color-fitted-level-2);\n",
              "}\n",
              "\n",
              "/* Estimator label */\n",
              "\n",
              "#sk-container-id-3 div.sk-label label {\n",
              "  font-family: monospace;\n",
              "  font-weight: bold;\n",
              "  display: inline-block;\n",
              "  line-height: 1.2em;\n",
              "}\n",
              "\n",
              "#sk-container-id-3 div.sk-label-container {\n",
              "  text-align: center;\n",
              "}\n",
              "\n",
              "/* Estimator-specific */\n",
              "#sk-container-id-3 div.sk-estimator {\n",
              "  font-family: monospace;\n",
              "  border: 1px dotted var(--sklearn-color-border-box);\n",
              "  border-radius: 0.25em;\n",
              "  box-sizing: border-box;\n",
              "  margin-bottom: 0.5em;\n",
              "  /* unfitted */\n",
              "  background-color: var(--sklearn-color-unfitted-level-0);\n",
              "}\n",
              "\n",
              "#sk-container-id-3 div.sk-estimator.fitted {\n",
              "  /* fitted */\n",
              "  background-color: var(--sklearn-color-fitted-level-0);\n",
              "}\n",
              "\n",
              "/* on hover */\n",
              "#sk-container-id-3 div.sk-estimator:hover {\n",
              "  /* unfitted */\n",
              "  background-color: var(--sklearn-color-unfitted-level-2);\n",
              "}\n",
              "\n",
              "#sk-container-id-3 div.sk-estimator.fitted:hover {\n",
              "  /* fitted */\n",
              "  background-color: var(--sklearn-color-fitted-level-2);\n",
              "}\n",
              "\n",
              "/* Specification for estimator info (e.g. \"i\" and \"?\") */\n",
              "\n",
              "/* Common style for \"i\" and \"?\" */\n",
              "\n",
              ".sk-estimator-doc-link,\n",
              "a:link.sk-estimator-doc-link,\n",
              "a:visited.sk-estimator-doc-link {\n",
              "  float: right;\n",
              "  font-size: smaller;\n",
              "  line-height: 1em;\n",
              "  font-family: monospace;\n",
              "  background-color: var(--sklearn-color-background);\n",
              "  border-radius: 1em;\n",
              "  height: 1em;\n",
              "  width: 1em;\n",
              "  text-decoration: none !important;\n",
              "  margin-left: 0.5em;\n",
              "  text-align: center;\n",
              "  /* unfitted */\n",
              "  border: var(--sklearn-color-unfitted-level-1) 1pt solid;\n",
              "  color: var(--sklearn-color-unfitted-level-1);\n",
              "}\n",
              "\n",
              ".sk-estimator-doc-link.fitted,\n",
              "a:link.sk-estimator-doc-link.fitted,\n",
              "a:visited.sk-estimator-doc-link.fitted {\n",
              "  /* fitted */\n",
              "  border: var(--sklearn-color-fitted-level-1) 1pt solid;\n",
              "  color: var(--sklearn-color-fitted-level-1);\n",
              "}\n",
              "\n",
              "/* On hover */\n",
              "div.sk-estimator:hover .sk-estimator-doc-link:hover,\n",
              ".sk-estimator-doc-link:hover,\n",
              "div.sk-label-container:hover .sk-estimator-doc-link:hover,\n",
              ".sk-estimator-doc-link:hover {\n",
              "  /* unfitted */\n",
              "  background-color: var(--sklearn-color-unfitted-level-3);\n",
              "  color: var(--sklearn-color-background);\n",
              "  text-decoration: none;\n",
              "}\n",
              "\n",
              "div.sk-estimator.fitted:hover .sk-estimator-doc-link.fitted:hover,\n",
              ".sk-estimator-doc-link.fitted:hover,\n",
              "div.sk-label-container:hover .sk-estimator-doc-link.fitted:hover,\n",
              ".sk-estimator-doc-link.fitted:hover {\n",
              "  /* fitted */\n",
              "  background-color: var(--sklearn-color-fitted-level-3);\n",
              "  color: var(--sklearn-color-background);\n",
              "  text-decoration: none;\n",
              "}\n",
              "\n",
              "/* Span, style for the box shown on hovering the info icon */\n",
              ".sk-estimator-doc-link span {\n",
              "  display: none;\n",
              "  z-index: 9999;\n",
              "  position: relative;\n",
              "  font-weight: normal;\n",
              "  right: .2ex;\n",
              "  padding: .5ex;\n",
              "  margin: .5ex;\n",
              "  width: min-content;\n",
              "  min-width: 20ex;\n",
              "  max-width: 50ex;\n",
              "  color: var(--sklearn-color-text);\n",
              "  box-shadow: 2pt 2pt 4pt #999;\n",
              "  /* unfitted */\n",
              "  background: var(--sklearn-color-unfitted-level-0);\n",
              "  border: .5pt solid var(--sklearn-color-unfitted-level-3);\n",
              "}\n",
              "\n",
              ".sk-estimator-doc-link.fitted span {\n",
              "  /* fitted */\n",
              "  background: var(--sklearn-color-fitted-level-0);\n",
              "  border: var(--sklearn-color-fitted-level-3);\n",
              "}\n",
              "\n",
              ".sk-estimator-doc-link:hover span {\n",
              "  display: block;\n",
              "}\n",
              "\n",
              "/* \"?\"-specific style due to the `<a>` HTML tag */\n",
              "\n",
              "#sk-container-id-3 a.estimator_doc_link {\n",
              "  float: right;\n",
              "  font-size: 1rem;\n",
              "  line-height: 1em;\n",
              "  font-family: monospace;\n",
              "  background-color: var(--sklearn-color-background);\n",
              "  border-radius: 1rem;\n",
              "  height: 1rem;\n",
              "  width: 1rem;\n",
              "  text-decoration: none;\n",
              "  /* unfitted */\n",
              "  color: var(--sklearn-color-unfitted-level-1);\n",
              "  border: var(--sklearn-color-unfitted-level-1) 1pt solid;\n",
              "}\n",
              "\n",
              "#sk-container-id-3 a.estimator_doc_link.fitted {\n",
              "  /* fitted */\n",
              "  border: var(--sklearn-color-fitted-level-1) 1pt solid;\n",
              "  color: var(--sklearn-color-fitted-level-1);\n",
              "}\n",
              "\n",
              "/* On hover */\n",
              "#sk-container-id-3 a.estimator_doc_link:hover {\n",
              "  /* unfitted */\n",
              "  background-color: var(--sklearn-color-unfitted-level-3);\n",
              "  color: var(--sklearn-color-background);\n",
              "  text-decoration: none;\n",
              "}\n",
              "\n",
              "#sk-container-id-3 a.estimator_doc_link.fitted:hover {\n",
              "  /* fitted */\n",
              "  background-color: var(--sklearn-color-fitted-level-3);\n",
              "}\n",
              "</style><div id=\"sk-container-id-3\" class=\"sk-top-container\"><div class=\"sk-text-repr-fallback\"><pre>Pipeline(steps=[(&#x27;ordinalencoder&#x27;,\n",
              "                 OrdinalEncoder(cols=[&#x27;land_surface_condition&#x27;,\n",
              "                                      &#x27;foundation_type&#x27;, &#x27;roof_type&#x27;,\n",
              "                                      &#x27;ground_floor_type&#x27;, &#x27;other_floor_type&#x27;,\n",
              "                                      &#x27;position&#x27;, &#x27;plan_configuration&#x27;,\n",
              "                                      &#x27;superstructure&#x27;],\n",
              "                                mapping=[{&#x27;col&#x27;: &#x27;land_surface_condition&#x27;,\n",
              "                                          &#x27;data_type&#x27;: dtype(&#x27;O&#x27;),\n",
              "                                          &#x27;mapping&#x27;: Flat              1\n",
              "Moderate slope    2\n",
              "Steep slope       3\n",
              "NaN              -2\n",
              "dtype: int64},\n",
              "                                         {&#x27;col&#x27;: &#x27;foundation_type&#x27;,\n",
              "                                          &#x27;dat...\n",
              "has_superstructure_timber                  4\n",
              "has_superstructure_stone_flag              5\n",
              "has_superstructure_rc_non_engineered       6\n",
              "has_superstructure_cement_mortar_stone     7\n",
              "has_superstructure_mud_mortar_brick        8\n",
              "has_superstructure_rc_engineered           9\n",
              "has_superstructure_bamboo                 10\n",
              "has_superstructure_other                  11\n",
              "NaN                                       -2\n",
              "dtype: int64}])),\n",
              "                (&#x27;decisiontreeclassifier&#x27;,\n",
              "                 DecisionTreeClassifier(max_depth=10, random_state=42))])</pre><b>In a Jupyter environment, please rerun this cell to show the HTML representation or trust the notebook. <br />On GitHub, the HTML representation is unable to render, please try loading this page with nbviewer.org.</b></div><div class=\"sk-container\" hidden><div class=\"sk-item sk-dashed-wrapped\"><div class=\"sk-label-container\"><div class=\"sk-label fitted sk-toggleable\"><input class=\"sk-toggleable__control sk-hidden--visually\" id=\"sk-estimator-id-7\" type=\"checkbox\" ><label for=\"sk-estimator-id-7\" class=\"sk-toggleable__label fitted sk-toggleable__label-arrow\"><div><div>Pipeline</div></div><div><a class=\"sk-estimator-doc-link fitted\" rel=\"noreferrer\" target=\"_blank\" href=\"https://scikit-learn.org/1.6/modules/generated/sklearn.pipeline.Pipeline.html\">?<span>Documentation for Pipeline</span></a><span class=\"sk-estimator-doc-link fitted\">i<span>Fitted</span></span></div></label><div class=\"sk-toggleable__content fitted\"><pre>Pipeline(steps=[(&#x27;ordinalencoder&#x27;,\n",
              "                 OrdinalEncoder(cols=[&#x27;land_surface_condition&#x27;,\n",
              "                                      &#x27;foundation_type&#x27;, &#x27;roof_type&#x27;,\n",
              "                                      &#x27;ground_floor_type&#x27;, &#x27;other_floor_type&#x27;,\n",
              "                                      &#x27;position&#x27;, &#x27;plan_configuration&#x27;,\n",
              "                                      &#x27;superstructure&#x27;],\n",
              "                                mapping=[{&#x27;col&#x27;: &#x27;land_surface_condition&#x27;,\n",
              "                                          &#x27;data_type&#x27;: dtype(&#x27;O&#x27;),\n",
              "                                          &#x27;mapping&#x27;: Flat              1\n",
              "Moderate slope    2\n",
              "Steep slope       3\n",
              "NaN              -2\n",
              "dtype: int64},\n",
              "                                         {&#x27;col&#x27;: &#x27;foundation_type&#x27;,\n",
              "                                          &#x27;dat...\n",
              "has_superstructure_timber                  4\n",
              "has_superstructure_stone_flag              5\n",
              "has_superstructure_rc_non_engineered       6\n",
              "has_superstructure_cement_mortar_stone     7\n",
              "has_superstructure_mud_mortar_brick        8\n",
              "has_superstructure_rc_engineered           9\n",
              "has_superstructure_bamboo                 10\n",
              "has_superstructure_other                  11\n",
              "NaN                                       -2\n",
              "dtype: int64}])),\n",
              "                (&#x27;decisiontreeclassifier&#x27;,\n",
              "                 DecisionTreeClassifier(max_depth=10, random_state=42))])</pre></div> </div></div><div class=\"sk-serial\"><div class=\"sk-item\"><div class=\"sk-estimator fitted sk-toggleable\"><input class=\"sk-toggleable__control sk-hidden--visually\" id=\"sk-estimator-id-8\" type=\"checkbox\" ><label for=\"sk-estimator-id-8\" class=\"sk-toggleable__label fitted sk-toggleable__label-arrow\"><div><div>OrdinalEncoder</div></div></label><div class=\"sk-toggleable__content fitted\"><pre>OrdinalEncoder(cols=[&#x27;land_surface_condition&#x27;, &#x27;foundation_type&#x27;, &#x27;roof_type&#x27;,\n",
              "                     &#x27;ground_floor_type&#x27;, &#x27;other_floor_type&#x27;, &#x27;position&#x27;,\n",
              "                     &#x27;plan_configuration&#x27;, &#x27;superstructure&#x27;],\n",
              "               mapping=[{&#x27;col&#x27;: &#x27;land_surface_condition&#x27;,\n",
              "                         &#x27;data_type&#x27;: dtype(&#x27;O&#x27;),\n",
              "                         &#x27;mapping&#x27;: Flat              1\n",
              "Moderate slope    2\n",
              "Steep slope       3\n",
              "NaN              -2\n",
              "dtype: int64},\n",
              "                        {&#x27;col&#x27;: &#x27;foundation_type&#x27;, &#x27;data_type&#x27;: dtype(&#x27;O&#x27;),\n",
              "                         &#x27;mapping&#x27;: Cemen...\n",
              "                         &#x27;mapping&#x27;: has_superstructure_cement_mortar_brick     1\n",
              "has_superstructure_mud_mortar_stone        2\n",
              "has_superstructure_adobe_mud               3\n",
              "has_superstructure_timber                  4\n",
              "has_superstructure_stone_flag              5\n",
              "has_superstructure_rc_non_engineered       6\n",
              "has_superstructure_cement_mortar_stone     7\n",
              "has_superstructure_mud_mortar_brick        8\n",
              "has_superstructure_rc_engineered           9\n",
              "has_superstructure_bamboo                 10\n",
              "has_superstructure_other                  11\n",
              "NaN                                       -2\n",
              "dtype: int64}])</pre></div> </div></div><div class=\"sk-item\"><div class=\"sk-estimator fitted sk-toggleable\"><input class=\"sk-toggleable__control sk-hidden--visually\" id=\"sk-estimator-id-9\" type=\"checkbox\" ><label for=\"sk-estimator-id-9\" class=\"sk-toggleable__label fitted sk-toggleable__label-arrow\"><div><div>DecisionTreeClassifier</div></div><div><a class=\"sk-estimator-doc-link fitted\" rel=\"noreferrer\" target=\"_blank\" href=\"https://scikit-learn.org/1.6/modules/generated/sklearn.tree.DecisionTreeClassifier.html\">?<span>Documentation for DecisionTreeClassifier</span></a></div></label><div class=\"sk-toggleable__content fitted\"><pre>DecisionTreeClassifier(max_depth=10, random_state=42)</pre></div> </div></div></div></div></div></div>"
            ]
          },
          "metadata": {},
          "execution_count": 36
        }
      ]
    },
    {
      "cell_type": "code",
      "source": [
        "acc_train_dt = accuracy_score(y_train_dt, model_dt.predict(X_train_dt))\n",
        "print(\"Training Scores:\", round(acc_train_dt,2))\n",
        "acc_val_dt = model_dt.score(X_val_dt, y_val_dt)\n",
        "print(\"Validation Score:\", round(acc_val_dt,2))"
      ],
      "metadata": {
        "colab": {
          "base_uri": "https://localhost:8080/"
        },
        "id": "0g_8kn6TAss4",
        "outputId": "ddcf5699-1e52-41e8-d62d-2f693ace81c5"
      },
      "execution_count": 37,
      "outputs": [
        {
          "output_type": "stream",
          "name": "stdout",
          "text": [
            "Training Scores: 0.74\n",
            "Validation Score: 0.73\n"
          ]
        }
      ]
    },
    {
      "cell_type": "markdown",
      "source": [
        "After retraining, I have been able to solve the issue of overfitting with these new accuracy scores. This has been achieved by tuning hyperparameters.\n",
        "It is time to see my model's performance with my text data(data the model has never seen)"
      ],
      "metadata": {
        "id": "iDQUgIpCA2Nm"
      }
    },
    {
      "cell_type": "code",
      "source": [
        "test_acc = model_dt.score(X_test_dt, y_test_dt)\n",
        "print(\"Test Accuracy Score:\", round(test_acc ,2))"
      ],
      "metadata": {
        "colab": {
          "base_uri": "https://localhost:8080/"
        },
        "id": "PgrEd8RVA1Ae",
        "outputId": "f055f55f-4def-4949-fcb8-3cfbdfe6705a"
      },
      "execution_count": 38,
      "outputs": [
        {
          "output_type": "stream",
          "name": "stdout",
          "text": [
            "Test Accuracy Score: 0.73\n"
          ]
        }
      ]
    },
    {
      "cell_type": "markdown",
      "source": [
        "The score hassuccessfully beat my baseline"
      ],
      "metadata": {
        "id": "6rgndnozB5EV"
      }
    },
    {
      "cell_type": "markdown",
      "source": [
        "# **Communicate Results**"
      ],
      "metadata": {
        "id": "IO6iEHfOCCWx"
      }
    },
    {
      "cell_type": "markdown",
      "source": [
        "I want to create a clear visualization of the Decision Tree Model I have built using the plot.tree() function. I need to pass in the decision tree and feature names in my dataset.\n",
        "It will help me interprete the visualizations together as a group, as it will provide insights to the splits, impurity, total samples and sample proportions at each node in the decision tree."
      ],
      "metadata": {
        "id": "O4-tbHhfCH1Y"
      }
    },
    {
      "cell_type": "code",
      "source": [
        "fig, ax = plt.subplots(figsize=(25,12))\n",
        "#plot tree\n",
        "plot_tree(\n",
        "    decision_tree = model_dt.named_steps[\"decisiontreeclassifier\"],\n",
        "    #Extract names of feature columns in X_train\n",
        "    feature_names = X_train_dt.columns.to_list(),\n",
        "    filled = True, # color leaf with class\n",
        "    rounded = True, #Round leaf edges\n",
        "    proportion = True, #Display proportion of classes in leaf\n",
        "    max_depth = 3, #Display the first three leaf nodes\n",
        "    fontsize = 12, #Enlarge Font\n",
        "    ax=ax,\n",
        "    );"
      ],
      "metadata": {
        "colab": {
          "base_uri": "https://localhost:8080/",
          "height": 564
        },
        "id": "mtYJm3HqB2k5",
        "outputId": "c0d0d34d-7881-4de6-c2b9-f3f36dcf4bf0"
      },
      "execution_count": 39,
      "outputs": [
        {
          "output_type": "display_data",
          "data": {
            "text/plain": [
              "<Figure size 2500x1200 with 1 Axes>"
            ],
            "image/png": "[encoded data removed]"
          },
          "metadata": {}
        }
      ]
    },
    {
      "cell_type": "markdown",
      "source": [
        "This type of visualization can be especially valuable when communicating with non-technical audiences, as it presents the decision-making process in an easily understandable format.\n",
        "\n",
        "I want to extract feature names.  Since I used ordinal encoding, I didn't create any new columns like I would with OneHotEncoding. So, to get the feature names, I can just use 'X_train.columns'.\n",
        "\n",
        "I will also extract feature importances, then create a dataframe and visualize it and interprete feature importances while dealing with decision trees."
      ],
      "metadata": {
        "id": "rOyChrgVE5SH"
      }
    },
    {
      "cell_type": "code",
      "source": [
        "#Extract Feature Names\n",
        "features_dt = X_train_dt.columns\n",
        "features_dt\n",
        "importances_dt = model_dt.named_steps[\"decisiontreeclassifier\"].feature_importances_\n",
        "importances_dt\n",
        "feat_imp = pd.Series(importances_dt, index=features_dt).sort_values()\n",
        "feat_imp.head()"
      ],
      "metadata": {
        "colab": {
          "base_uri": "https://localhost:8080/",
          "height": 241
        },
        "id": "KZ7XfQAaFTvZ",
        "outputId": "a281cf20-ceac-4ffe-aedd-665f8dae9756"
      },
      "execution_count": 40,
      "outputs": [
        {
          "output_type": "execute_result",
          "data": {
            "text/plain": [
              "plan_configuration        0.001333\n",
              "land_surface_condition    0.004938\n",
              "roof_type                 0.005888\n",
              "position                  0.013780\n",
              "plinth_area_sq_ft         0.016938\n",
              "dtype: float64"
            ],
            "text/html": [
              "<div>\n",
              "<style scoped>\n",
              "    .dataframe tbody tr th:only-of-type {\n",
              "        vertical-align: middle;\n",
              "    }\n",
              "\n",
              "    .dataframe tbody tr th {\n",
              "        vertical-align: top;\n",
              "    }\n",
              "\n",
              "    .dataframe thead th {\n",
              "        text-align: right;\n",
              "    }\n",
              "</style>\n",
              "<table border=\"1\" class=\"dataframe\">\n",
              "  <thead>\n",
              "    <tr style=\"text-align: right;\">\n",
              "      <th></th>\n",
              "      <th>0</th>\n",
              "    </tr>\n",
              "  </thead>\n",
              "  <tbody>\n",
              "    <tr>\n",
              "      <th>plan_configuration</th>\n",
              "      <td>0.001333</td>\n",
              "    </tr>\n",
              "    <tr>\n",
              "      <th>land_surface_condition</th>\n",
              "      <td>0.004938</td>\n",
              "    </tr>\n",
              "    <tr>\n",
              "      <th>roof_type</th>\n",
              "      <td>0.005888</td>\n",
              "    </tr>\n",
              "    <tr>\n",
              "      <th>position</th>\n",
              "      <td>0.013780</td>\n",
              "    </tr>\n",
              "    <tr>\n",
              "      <th>plinth_area_sq_ft</th>\n",
              "      <td>0.016938</td>\n",
              "    </tr>\n",
              "  </tbody>\n",
              "</table>\n",
              "</div><br><label><b>dtype:</b> float64</label>"
            ]
          },
          "metadata": {},
          "execution_count": 40
        }
      ]
    },
    {
      "cell_type": "markdown",
      "source": [
        "`***Key Note***` : In the decision tree visualization, we notice that certain features are used multiple times for splitting and that the sum of the feature importance values equals one. This indicates that some features are reused throughout the tree and that their collective importance is fully accounted for."
      ],
      "metadata": {
        "id": "_1IpfkUjG7qj"
      }
    },
    {
      "cell_type": "code",
      "source": [
        "#Plot 'feat_imp'\n",
        "feat_imp.plot(kind=\"barh\", xlabel=\"Gini Importance\", ylabel=\"Features\")\n"
      ],
      "metadata": {
        "colab": {
          "base_uri": "https://localhost:8080/",
          "height": 467
        },
        "id": "eIHoeoIsGHfp",
        "outputId": "7275e360-f787-4cd2-e41b-5e53094ddabb"
      },
      "execution_count": 41,
      "outputs": [
        {
          "output_type": "execute_result",
          "data": {
            "text/plain": [
              "<Axes: xlabel='Gini Importance', ylabel='Features'>"
            ]
          },
          "metadata": {},
          "execution_count": 41
        },
        {
          "output_type": "display_data",
          "data": {
            "text/plain": [
              "<Figure size 640x480 with 1 Axes>"
            ],
            "image/png": "[encoded data removed]"
          },
          "metadata": {}
        }
      ]
    },
    {
      "cell_type": "markdown",
      "source": [
        "First, it is important to note that none of the importance values are more than 1, only between 0 and 1, and the sum of all the values is equal to 1.\n",
        "\n",
        "The Gini Importance for Ground floor type is around 0.45(45%). It means that this feature is responsible for about 45% increase in purity as the tree splits from the roots to the leaves.\n",
        "\n",
        "Similarly, the feature \"height of a building pre-earthquake\" seems to be responsible for around 3-4% of the reduction in impurity throughout the tree.\n",
        "\n",
        "For Decision trees, all feature importances are positive meaning I cannot conclude whether the feature exerts a downward or upward pressure on the model's predictions.\n",
        "\n",
        "Decision trees are flexible and easy to understand and visualize but it is not straighforward to explain them as opposed to linear models.\n",
        "\n",
        "In summary, when building models as a data scientist, it’s crucial to balance the importance of explainability, accuracy, and computational resources to building effective models."
      ],
      "metadata": {
        "id": "zyqZ0HgtIF-0"
      }
    },
    {
      "cell_type": "markdown",
      "source": [
        "# **Conclusion**"
      ],
      "metadata": {
        "id": "kgC0bFocLYJA"
      }
    },
    {
      "cell_type": "markdown",
      "source": [
        "I have built a Decision Tree model and tuned hyperparameters, focusing on max depth. I have also interpreted my model's predictions using Gini Importance.\n",
        "\n",
        "While building my model, I was able split my data into training(for training my model), validation(hyperparameter tuning) and test data(for final model evaluation)"
      ],
      "metadata": {
        "id": "NX06br3OLo6f"
      }
    },
    {
      "cell_type": "code",
      "source": [
        "df.info()"
      ],
      "metadata": {
        "id": "z10VKmroHP5D",
        "colab": {
          "base_uri": "https://localhost:8080/"
        },
        "outputId": "49c5a13d-ce91-4ec6-e473-50342a9ebfd0"
      },
      "execution_count": 42,
      "outputs": [
        {
          "output_type": "stream",
          "name": "stdout",
          "text": [
            "<class 'pandas.core.frame.DataFrame'>\n",
            "Index: 762094 entries, 120101000011 to 366709001281\n",
            "Data columns (total 12 columns):\n",
            " #   Column                  Non-Null Count   Dtype \n",
            "---  ------                  --------------   ----- \n",
            " 0   age_building            762094 non-null  int64 \n",
            " 1   plinth_area_sq_ft       762094 non-null  int64 \n",
            " 2   height_ft_pre_eq        762094 non-null  int64 \n",
            " 3   land_surface_condition  762094 non-null  object\n",
            " 4   foundation_type         762094 non-null  object\n",
            " 5   roof_type               762094 non-null  object\n",
            " 6   ground_floor_type       762094 non-null  object\n",
            " 7   other_floor_type        762094 non-null  object\n",
            " 8   position                762094 non-null  object\n",
            " 9   plan_configuration      762094 non-null  object\n",
            " 10  superstructure          762094 non-null  object\n",
            " 11  severe_damage           762094 non-null  int64 \n",
            "dtypes: int64(4), object(8)\n",
            "memory usage: 75.6+ MB\n"
          ]
        }
      ]
    },
    {
      "cell_type": "code",
      "source": [],
      "metadata": {
        "id": "5CKT40N8Vd4s"
      },
      "execution_count": null,
      "outputs": []
    }
  ],
  "metadata": {
    "colab": {
      "provenance": [],
      "authorship_tag": "ABX9TyM/H/zFVz5evHSK7KXHDn01",
      "include_colab_link": true
    },
    "kernelspec": {
      "display_name": "Python 3",
      "name": "python3"
    },
    "language_info": {
      "name": "python"
    }
  },
  "nbformat": 4,
  "nbformat_minor": 0
}