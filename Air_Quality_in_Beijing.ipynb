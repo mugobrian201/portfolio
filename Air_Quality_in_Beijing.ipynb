{
  "nbformat": 4,
  "nbformat_minor": 0,
  "metadata": {
    "colab": {
      "provenance": [],
      "authorship_tag": "ABX9TyNTO5/AO7cupsgbvaf5wZAh",
      "include_colab_link": true
    },
    "kernelspec": {
      "name": "python3",
      "display_name": "Python 3"
    },
    "language_info": {
      "name": "python"
    }
  },
  "cells": [
    {
      "cell_type": "markdown",
      "metadata": {
        "id": "view-in-github",
        "colab_type": "text"
      },
      "source": [
        "<a href=\"https://colab.research.google.com/github/mugobrian201/portfolio/blob/main/Air_Quality_in_Beijing.ipynb\" target=\"_parent\"><img src=\"https://colab.research.google.com/assets/colab-badge.svg\" alt=\"Open In Colab\"/></a>"
      ]
    },
    {
      "cell_type": "markdown",
      "source": [
        "# **Beijing Air Quality Analysis Project**"
      ],
      "metadata": {
        "id": "HwQfvxH5mjvE"
      }
    },
    {
      "cell_type": "markdown",
      "source": [
        "I have successfully downloaded and combined air quality data from 12 different monitoring stations across Beijing, China. The dataset contains measurements taken from 1st March 2013 to 28th February 2017 which is exactly 4 years of detailed environmental data. I accessed the data from Kaggle.The data includes:\n",
        "\n",
        "    Air pollutants: PM2.5, PM10, SO2, NO2, CO, O3\n",
        "\n",
        "    Weather conditions: Temperature, pressure, dew point, rain, wind direction, wind speed\n",
        "\n",
        "    Time information: Year, month, day, hour\n",
        "\n",
        "    Location data: 12 different monitoring stations across Beijing"
      ],
      "metadata": {
        "id": "aE73fCRxvbh4"
      }
    },
    {
      "cell_type": "code",
      "execution_count": 2,
      "metadata": {
        "colab": {
          "base_uri": "https://localhost:8080/"
        },
        "id": "WRYFEEd8RMzN",
        "outputId": "20557c77-6db4-4af8-f8ca-c214c19919a0"
      },
      "outputs": [
        {
          "output_type": "stream",
          "name": "stdout",
          "text": [
            "Downloading from https://www.kaggle.com/api/v1/datasets/download/sid321axn/beijing-multisite-airquality-data-set?dataset_version_number=1...\n"
          ]
        },
        {
          "output_type": "stream",
          "name": "stderr",
          "text": [
            "100%|██████████| 8.58M/8.58M [00:00<00:00, 65.7MB/s]"
          ]
        },
        {
          "output_type": "stream",
          "name": "stdout",
          "text": [
            "Extracting files...\n"
          ]
        },
        {
          "output_type": "stream",
          "name": "stderr",
          "text": [
            "\n"
          ]
        },
        {
          "output_type": "stream",
          "name": "stdout",
          "text": [
            "Path to dataset files: /root/.cache/kagglehub/datasets/sid321axn/beijing-multisite-airquality-data-set/versions/1\n"
          ]
        }
      ],
      "source": [
        "import kagglehub\n",
        "\n",
        "# Download latest version\n",
        "path = kagglehub.dataset_download(\"sid321axn/beijing-multisite-airquality-data-set\")\n",
        "\n",
        "print(\"Path to dataset files:\", path)"
      ]
    },
    {
      "cell_type": "code",
      "source": [
        "import pandas as pd\n",
        "import os\n",
        "\n",
        "# Path to the downloaded dataset\n",
        "path = \"/root/.cache/kagglehub/datasets/sid321axn/beijing-multisite-airquality-data-set/versions/1\"\n",
        "\n",
        "# List all files in the directory\n",
        "print(\"Files in the dataset:\")\n",
        "for file in os.listdir(path):\n",
        "    print(f\"- {file}\")\n",
        "\n",
        "# Typically, the main data file might be a CSV file\n",
        "# Look for CSV files specifically\n",
        "csv_files = [f for f in os.listdir(path) if f.endswith('.csv')]\n",
        "print(f\"\\nCSV files found: {csv_files}\")\n",
        "\n",
        "# Load the first CSV file (or specify the exact file name if you know it)\n",
        "if csv_files:\n",
        "    file_path = os.path.join(path, csv_files[0])\n",
        "    df = pd.read_csv(file_path)\n",
        "    print(f\"\\nLoaded {csv_files[0]}\")\n",
        "    print(f\"DataFrame shape: {df.shape}\")\n",
        "    print(\"\\nFirst few rows:\")\n",
        "    print(df.head())\n",
        "else:\n",
        "    print(\"No CSV files found. Checking for other file types...\")\n",
        "\n",
        "    # List all files to see what's available\n",
        "    all_files = os.listdir(path)\n",
        "    print(\"All files:\", all_files)"
      ],
      "metadata": {
        "colab": {
          "base_uri": "https://localhost:8080/"
        },
        "id": "I0_k7w4ORNqZ",
        "outputId": "752056be-bfd4-4d1a-8ee5-d308f7449d45"
      },
      "execution_count": 3,
      "outputs": [
        {
          "output_type": "stream",
          "name": "stdout",
          "text": [
            "Files in the dataset:\n",
            "- PRSA_Data_Changping_20130301-20170228.csv\n",
            "- PRSA_Data_Guanyuan_20130301-20170228.csv\n",
            "- PRSA_Data_Tiantan_20130301-20170228.csv\n",
            "- PRSA_Data_Wanshouxigong_20130301-20170228.csv\n",
            "- PRSA_Data_Shunyi_20130301-20170228.csv\n",
            "- PRSA_Data_Wanliu_20130301-20170228.csv\n",
            "- PRSA_Data_Dongsi_20130301-20170228.csv\n",
            "- PRSA_Data_Dingling_20130301-20170228.csv\n",
            "- PRSA_Data_Gucheng_20130301-20170228.csv\n",
            "- PRSA_Data_Aotizhongxin_20130301-20170228.csv\n",
            "- PRSA_Data_Nongzhanguan_20130301-20170228.csv\n",
            "- PRSA_Data_Huairou_20130301-20170228.csv\n",
            "\n",
            "CSV files found: ['PRSA_Data_Changping_20130301-20170228.csv', 'PRSA_Data_Guanyuan_20130301-20170228.csv', 'PRSA_Data_Tiantan_20130301-20170228.csv', 'PRSA_Data_Wanshouxigong_20130301-20170228.csv', 'PRSA_Data_Shunyi_20130301-20170228.csv', 'PRSA_Data_Wanliu_20130301-20170228.csv', 'PRSA_Data_Dongsi_20130301-20170228.csv', 'PRSA_Data_Dingling_20130301-20170228.csv', 'PRSA_Data_Gucheng_20130301-20170228.csv', 'PRSA_Data_Aotizhongxin_20130301-20170228.csv', 'PRSA_Data_Nongzhanguan_20130301-20170228.csv', 'PRSA_Data_Huairou_20130301-20170228.csv']\n",
            "\n",
            "Loaded PRSA_Data_Changping_20130301-20170228.csv\n",
            "DataFrame shape: (35064, 18)\n",
            "\n",
            "First few rows:\n",
            "   No  year  month  day  hour  PM2.5  PM10   SO2   NO2     CO    O3  TEMP  \\\n",
            "0   1  2013      3    1     0    3.0   6.0  13.0   7.0  300.0  85.0  -2.3   \n",
            "1   2  2013      3    1     1    3.0   3.0   6.0   6.0  300.0  85.0  -2.5   \n",
            "2   3  2013      3    1     2    3.0   3.0  22.0  13.0  400.0  74.0  -3.0   \n",
            "3   4  2013      3    1     3    3.0   6.0  12.0   8.0  300.0  81.0  -3.6   \n",
            "4   5  2013      3    1     4    3.0   3.0  14.0   8.0  300.0  81.0  -3.5   \n",
            "\n",
            "     PRES  DEWP  RAIN   wd  WSPM    station  \n",
            "0  1020.8 -19.7   0.0    E   0.5  Changping  \n",
            "1  1021.3 -19.0   0.0  ENE   0.7  Changping  \n",
            "2  1021.3 -19.9   0.0  ENE   0.2  Changping  \n",
            "3  1021.8 -19.1   0.0  NNE   1.0  Changping  \n",
            "4  1022.3 -19.4   0.0    N   2.1  Changping  \n"
          ]
        }
      ]
    },
    {
      "cell_type": "code",
      "source": [
        "\n",
        "# Path to the downloaded dataset\n",
        "path = \"/root/.cache/kagglehub/datasets/sid321axn/beijing-multisite-airquality-data-set/versions/1\"\n",
        "\n",
        "# Get all CSV files\n",
        "csv_files = [f for f in os.listdir(path) if f.endswith('.csv')]\n",
        "\n",
        "# Method 1: Concatenate all files at once\n",
        "df_list = []\n",
        "for file in csv_files:\n",
        "    file_path = os.path.join(path, file)\n",
        "    temp_df = pd.read_csv(file_path)\n",
        "    df_list.append(temp_df)\n",
        "\n",
        "# Concatenate all DataFrames\n",
        "df = pd.concat(df_list, ignore_index=True)\n",
        "\n",
        "print(f\"Combined DataFrame shape: {df.shape}\")\n",
        "print(\"\\nFirst few rows of combined data:\")\n",
        "print(df.head())\n",
        "print(df.info())"
      ],
      "metadata": {
        "colab": {
          "base_uri": "https://localhost:8080/"
        },
        "id": "vAFyhhUXSRDG",
        "outputId": "43444322-e9f6-4f65-ffbd-e480d39c8b94"
      },
      "execution_count": 4,
      "outputs": [
        {
          "output_type": "stream",
          "name": "stdout",
          "text": [
            "Combined DataFrame shape: (420768, 18)\n",
            "\n",
            "First few rows of combined data:\n",
            "   No  year  month  day  hour  PM2.5  PM10   SO2   NO2     CO    O3  TEMP  \\\n",
            "0   1  2013      3    1     0    3.0   6.0  13.0   7.0  300.0  85.0  -2.3   \n",
            "1   2  2013      3    1     1    3.0   3.0   6.0   6.0  300.0  85.0  -2.5   \n",
            "2   3  2013      3    1     2    3.0   3.0  22.0  13.0  400.0  74.0  -3.0   \n",
            "3   4  2013      3    1     3    3.0   6.0  12.0   8.0  300.0  81.0  -3.6   \n",
            "4   5  2013      3    1     4    3.0   3.0  14.0   8.0  300.0  81.0  -3.5   \n",
            "\n",
            "     PRES  DEWP  RAIN   wd  WSPM    station  \n",
            "0  1020.8 -19.7   0.0    E   0.5  Changping  \n",
            "1  1021.3 -19.0   0.0  ENE   0.7  Changping  \n",
            "2  1021.3 -19.9   0.0  ENE   0.2  Changping  \n",
            "3  1021.8 -19.1   0.0  NNE   1.0  Changping  \n",
            "4  1022.3 -19.4   0.0    N   2.1  Changping  \n",
            "<class 'pandas.core.frame.DataFrame'>\n",
            "RangeIndex: 420768 entries, 0 to 420767\n",
            "Data columns (total 18 columns):\n",
            " #   Column   Non-Null Count   Dtype  \n",
            "---  ------   --------------   -----  \n",
            " 0   No       420768 non-null  int64  \n",
            " 1   year     420768 non-null  int64  \n",
            " 2   month    420768 non-null  int64  \n",
            " 3   day      420768 non-null  int64  \n",
            " 4   hour     420768 non-null  int64  \n",
            " 5   PM2.5    412029 non-null  float64\n",
            " 6   PM10     414319 non-null  float64\n",
            " 7   SO2      411747 non-null  float64\n",
            " 8   NO2      408652 non-null  float64\n",
            " 9   CO       400067 non-null  float64\n",
            " 10  O3       407491 non-null  float64\n",
            " 11  TEMP     420370 non-null  float64\n",
            " 12  PRES     420375 non-null  float64\n",
            " 13  DEWP     420365 non-null  float64\n",
            " 14  RAIN     420378 non-null  float64\n",
            " 15  wd       418946 non-null  object \n",
            " 16  WSPM     420450 non-null  float64\n",
            " 17  station  420768 non-null  object \n",
            "dtypes: float64(11), int64(5), object(2)\n",
            "memory usage: 57.8+ MB\n",
            "None\n"
          ]
        }
      ]
    },
    {
      "cell_type": "markdown",
      "source": [
        "IMPORT THE NECESSARY LIBRARIES"
      ],
      "metadata": {
        "id": "hP0csy0ZmciY"
      }
    },
    {
      "cell_type": "code",
      "source": [
        "import pandas as pd\n",
        "import numpy as np\n",
        "import matplotlib.pyplot as plt\n",
        "import seaborn as sns\n",
        "from datetime import datetime\n",
        "import plotly.express as px\n",
        "import pytz  # For timezone handling\n",
        "from scipy import stats\n",
        "from sklearn.linear_model import LinearRegression\n",
        "from sklearn.metrics import mean_squared_error, r2_score, mean_absolute_error\n",
        "from sklearn.model_selection import train_test_split\n",
        "import statsmodels.api as sm\n",
        "from statsmodels.tsa.arima.model import ARIMA\n",
        "from statsmodels.tsa.stattools import adfuller, acf\n",
        "from statsmodels.graphics.tsaplots import plot_acf, plot_pacf\n",
        "from statsmodels.tsa.ar_model import AutoReg\n",
        "import warnings\n",
        "warnings.filterwarnings('ignore')"
      ],
      "metadata": {
        "id": "ENx1q87gTLR-"
      },
      "execution_count": 25,
      "outputs": []
    },
    {
      "cell_type": "markdown",
      "source": [
        "# **Predicting Daily PM2.5 Air Quality Levels in Beijing Using Linear Regression: A Time Series Approach**"
      ],
      "metadata": {
        "id": "Jcf0o_jRdC6u"
      }
    },
    {
      "cell_type": "markdown",
      "source": [
        "Air pollution, particularly fine particulate matter (PM2.5), poses significant health and environmental risks in urban areas like Beijing. This study analyzes a multi-site dataset spanning March 2013 to February 2017, comprising hourly measurements of PM2.5 and meteorological variables from 12 monitoring stations. The primary objective is to develop a predictive model for daily average PM2.5 concentrations using linear regression as an initial baseline approach.\n",
        "\n",
        "Data preprocessing involved concatenating station-specific CSV files, converting timestamps to a timezone-aware index (Asia/Shanghai), resampling to daily means with forward-filling for missing values, and removing extreme outliers (>350 μg/m³) to mitigate skew while preserving key pollution events. Exploratory data analysis revealed a mean PM2.5 of approximately 77.56 μg/m³, with positive autocorrelation (correlation coefficient 0.55) between consecutive days, justifying the inclusion of a lag-1 feature (previous day's PM2.5 average) as the sole predictor.\n",
        "\n",
        "The dataset was split chronologically into training (80%) and testing (20%) sets to respect time series structure. A linear regression model was fitted, yielding the equation: PM2.5 = 34.51 + 0.56 × (Previous Day's PM2.5). Performance was evaluated using mean absolute error (MAE), with the model achieving a training MAE of 38.02 μg/m³ and a test MAE of 37.88 μg/m³, outperforming a naive baseline (mean prediction MAE of 46.45 μg/m³).\n",
        "\n",
        "Visualizations, including time series plots and autocorrelation scatterplots, highlighted seasonal pollution trends and the lag feature's predictive value. While linear regression provides a simple, interpretable benchmark, limitations include its assumption of linearity and independence, which may overlook complex temporal dynamics. Future extensions will incorporate autoregressive (AR) and autoregressive moving average (ARMA) models to enhance forecasting accuracy."
      ],
      "metadata": {
        "id": "k88xF77lxi1g"
      }
    },
    {
      "cell_type": "markdown",
      "source": [
        "Localizing the Timezone"
      ],
      "metadata": {
        "id": "39j96eBG8EOl"
      }
    },
    {
      "cell_type": "code",
      "source": [
        "# Create datetime index\n",
        "datetime_index = pd.to_datetime(df[['year', 'month', 'day', 'hour']])\n",
        "df = df.set_index(datetime_index)\n",
        "#Localize Timezone\n",
        "df.index = df.index.tz_localize(\"UTC\").tz_convert(\"Asia/Shanghai\")\n",
        "#Drop unnecessary columns\n",
        "df.drop(columns = [\"No\", \"year\", \"month\", \"day\", \"hour\"], inplace=True)"
      ],
      "metadata": {
        "id": "kkqYQj1SruXS"
      },
      "execution_count": 6,
      "outputs": []
    },
    {
      "cell_type": "markdown",
      "source": [
        "DATA EXPLORATION"
      ],
      "metadata": {
        "id": "aKltad7y8oJR"
      }
    },
    {
      "cell_type": "code",
      "source": [
        "#Summary statistics of 'PM2.5' Readings\n",
        "print(df[\"PM2.5\"].describe())\n",
        "fig, ax = plt.subplots(figsize=(15, 6))\n",
        "df[\"PM2.5\"].plot(kind=\"box\", vert=False, title=\"PM2.5 Readings\", ax=ax)\n",
        "plt.show()\n"
      ],
      "metadata": {
        "colab": {
          "base_uri": "https://localhost:8080/",
          "height": 661
        },
        "id": "hG3qZJxy8fsJ",
        "outputId": "c7f03ea1-a04b-42a1-c425-3209db7c0cc8"
      },
      "execution_count": 7,
      "outputs": [
        {
          "output_type": "stream",
          "name": "stdout",
          "text": [
            "count    412029.000000\n",
            "mean         79.793428\n",
            "std          80.822391\n",
            "min           2.000000\n",
            "25%          20.000000\n",
            "50%          55.000000\n",
            "75%         111.000000\n",
            "max         999.000000\n",
            "Name: PM2.5, dtype: float64\n"
          ]
        },
        {
          "output_type": "display_data",
          "data": {
            "text/plain": [
              "<Figure size 1500x600 with 1 Axes>"
            ],
            "image/png": "[encoded data removed]"
          },
          "metadata": {}
        }
      ]
    },
    {
      "cell_type": "markdown",
      "source": [
        "From my boxplot, there are many outliers. It would be advisable to remove readings above 350 ug/m3\n",
        "\n",
        "Note:\n",
        "    Good: 0-12 μg/m³\n",
        "\n",
        "    Moderate: 12-35 μg/m³\n",
        "\n",
        "    Unhealthy: 35-150 μg/m³\n",
        "\n",
        "    Hazardous: 150+ μg/m³\n",
        "\n",
        "These outliers represent severe pollution events that are important for environmental analysis but may skew statistical models."
      ],
      "metadata": {
        "id": "4mxIu3yaAPHV"
      }
    },
    {
      "cell_type": "code",
      "source": [
        "#Remove outliers >350 ug/m3\n",
        "#Read only \"PM2.5\" Readings < 350ug/m3\n",
        "df = df[df[\"PM2.5\"]< 350]"
      ],
      "metadata": {
        "id": "aOaZhNcI9n31"
      },
      "execution_count": 8,
      "outputs": []
    },
    {
      "cell_type": "code",
      "source": [
        "#Time Series Plot of 'PM2.5' Readings\n",
        "fig, ax = plt.subplots(figsize=(15, 6))\n",
        "df[\"PM2.5\"].plot(xlabel=\"Time\", ylabel=\"PM2.5\", title=\"PM2.5 Time Series Plot\", ax=ax)\n",
        "plt.show();"
      ],
      "metadata": {
        "colab": {
          "base_uri": "https://localhost:8080/",
          "height": 493
        },
        "id": "0HTr_2z0BctF",
        "outputId": "84bc5751-6954-4a10-f631-554b446eb832"
      },
      "execution_count": 9,
      "outputs": [
        {
          "output_type": "display_data",
          "data": {
            "text/plain": [
              "<Figure size 1500x600 with 1 Axes>"
            ],
            "image/png": "[encoded data removed]"
          },
          "metadata": {}
        }
      ]
    },
    {
      "cell_type": "markdown",
      "source": [
        "As seen, it is difficult to do an interepretation of my time series visualization.\n",
        "\n",
        "I need to Resample my dataframe to provide the mean of 'PM2.5' Readings for each day.\n",
        "\n",
        "I will predict the PM2.5 Readings for each day and use forward fill to impute any NaN(missing values)."
      ],
      "metadata": {
        "id": "e8bw6DVAC7gW"
      }
    },
    {
      "cell_type": "code",
      "source": [
        "#Resample my Time Series Data\n",
        "#Use forward fill to fill any NaN\n",
        "df = df[\"PM2.5\"].resample(\"D\").mean().fillna(method=\"ffill\").to_frame()"
      ],
      "metadata": {
        "id": "7R-MLP0DCVQE"
      },
      "execution_count": 10,
      "outputs": []
    },
    {
      "cell_type": "markdown",
      "source": [
        "It will be difficult to analyze using a time series plot, that is, increase or decrease trend in air pollution, monthly or seasonal trend of Air Pollution.\n",
        "\n",
        "A Rolling Average Plot is recommendable(Mean value of multiple subsets of numbers in a dataset) It will show the average of the previous 168 hours (7 days) of PM2.5 readings"
      ],
      "metadata": {
        "id": "T8BVmzR7FsSH"
      }
    },
    {
      "cell_type": "code",
      "source": [
        "df.head()"
      ],
      "metadata": {
        "colab": {
          "base_uri": "https://localhost:8080/",
          "height": 206
        },
        "id": "jOeA87yHGlhl",
        "outputId": "1eb9c88c-9ac1-4a9a-bd24-5aa0058dc35f"
      },
      "execution_count": 11,
      "outputs": [
        {
          "output_type": "execute_result",
          "data": {
            "text/plain": [
              "                               PM2.5\n",
              "2013-03-01 00:00:00+08:00   5.802083\n",
              "2013-03-02 00:00:00+08:00  13.218750\n",
              "2013-03-03 00:00:00+08:00  80.666667\n",
              "2013-03-04 00:00:00+08:00  30.232639\n",
              "2013-03-05 00:00:00+08:00  82.142322"
            ],
            "text/html": [
              "\n",
              "  <div id=\"df-c340a591-d209-4ff6-a0d4-7600e35f6311\" class=\"colab-df-container\">\n",
              "    <div>\n",
              "<style scoped>\n",
              "    .dataframe tbody tr th:only-of-type {\n",
              "        vertical-align: middle;\n",
              "    }\n",
              "\n",
              "    .dataframe tbody tr th {\n",
              "        vertical-align: top;\n",
              "    }\n",
              "\n",
              "    .dataframe thead th {\n",
              "        text-align: right;\n",
              "    }\n",
              "</style>\n",
              "<table border=\"1\" class=\"dataframe\">\n",
              "  <thead>\n",
              "    <tr style=\"text-align: right;\">\n",
              "      <th></th>\n",
              "      <th>PM2.5</th>\n",
              "    </tr>\n",
              "  </thead>\n",
              "  <tbody>\n",
              "    <tr>\n",
              "      <th>2013-03-01 00:00:00+08:00</th>\n",
              "      <td>5.802083</td>\n",
              "    </tr>\n",
              "    <tr>\n",
              "      <th>2013-03-02 00:00:00+08:00</th>\n",
              "      <td>13.218750</td>\n",
              "    </tr>\n",
              "    <tr>\n",
              "      <th>2013-03-03 00:00:00+08:00</th>\n",
              "      <td>80.666667</td>\n",
              "    </tr>\n",
              "    <tr>\n",
              "      <th>2013-03-04 00:00:00+08:00</th>\n",
              "      <td>30.232639</td>\n",
              "    </tr>\n",
              "    <tr>\n",
              "      <th>2013-03-05 00:00:00+08:00</th>\n",
              "      <td>82.142322</td>\n",
              "    </tr>\n",
              "  </tbody>\n",
              "</table>\n",
              "</div>\n",
              "    <div class=\"colab-df-buttons\">\n",
              "\n",
              "  <div class=\"colab-df-container\">\n",
              "    <button class=\"colab-df-convert\" onclick=\"convertToInteractive('df-c340a591-d209-4ff6-a0d4-7600e35f6311')\"\n",
              "            title=\"Convert this dataframe to an interactive table.\"\n",
              "            style=\"display:none;\">\n",
              "\n",
              "  <svg xmlns=\"http://www.w3.org/2000/svg\" height=\"24px\" viewBox=\"0 -960 960 960\">\n",
              "    <path d=\"M120-120v-720h720v720H120Zm60-500h600v-160H180v160Zm220 220h160v-160H400v160Zm0 220h160v-160H400v160ZM180-400h160v-160H180v160Zm440 0h160v-160H620v160ZM180-180h160v-160H180v160Zm440 0h160v-160H620v160Z\"/>\n",
              "  </svg>\n",
              "    </button>\n",
              "\n",
              "  <style>\n",
              "    .colab-df-container {\n",
              "      display:flex;\n",
              "      gap: 12px;\n",
              "    }\n",
              "\n",
              "    .colab-df-convert {\n",
              "      background-color: #E8F0FE;\n",
              "      border: none;\n",
              "      border-radius: 50%;\n",
              "      cursor: pointer;\n",
              "      display: none;\n",
              "      fill: #1967D2;\n",
              "      height: 32px;\n",
              "      padding: 0 0 0 0;\n",
              "      width: 32px;\n",
              "    }\n",
              "\n",
              "    .colab-df-convert:hover {\n",
              "      background-color: #E2EBFA;\n",
              "      box-shadow: 0px 1px 2px rgba(60, 64, 67, 0.3), 0px 1px 3px 1px rgba(60, 64, 67, 0.15);\n",
              "      fill: #174EA6;\n",
              "    }\n",
              "\n",
              "    .colab-df-buttons div {\n",
              "      margin-bottom: 4px;\n",
              "    }\n",
              "\n",
              "    [theme=dark] .colab-df-convert {\n",
              "      background-color: #3B4455;\n",
              "      fill: #D2E3FC;\n",
              "    }\n",
              "\n",
              "    [theme=dark] .colab-df-convert:hover {\n",
              "      background-color: #434B5C;\n",
              "      box-shadow: 0px 1px 3px 1px rgba(0, 0, 0, 0.15);\n",
              "      filter: drop-shadow(0px 1px 2px rgba(0, 0, 0, 0.3));\n",
              "      fill: #FFFFFF;\n",
              "    }\n",
              "  </style>\n",
              "\n",
              "    <script>\n",
              "      const buttonEl =\n",
              "        document.querySelector('#df-c340a591-d209-4ff6-a0d4-7600e35f6311 button.colab-df-convert');\n",
              "      buttonEl.style.display =\n",
              "        google.colab.kernel.accessAllowed ? 'block' : 'none';\n",
              "\n",
              "      async function convertToInteractive(key) {\n",
              "        const element = document.querySelector('#df-c340a591-d209-4ff6-a0d4-7600e35f6311');\n",
              "        const dataTable =\n",
              "          await google.colab.kernel.invokeFunction('convertToInteractive',\n",
              "                                                    [key], {});\n",
              "        if (!dataTable) return;\n",
              "\n",
              "        const docLinkHtml = 'Like what you see? Visit the ' +\n",
              "          '<a target=\"_blank\" href=https://colab.research.google.com/notebooks/data_table.ipynb>data table notebook</a>'\n",
              "          + ' to learn more about interactive tables.';\n",
              "        element.innerHTML = '';\n",
              "        dataTable['output_type'] = 'display_data';\n",
              "        await google.colab.output.renderOutput(dataTable, element);\n",
              "        const docLink = document.createElement('div');\n",
              "        docLink.innerHTML = docLinkHtml;\n",
              "        element.appendChild(docLink);\n",
              "      }\n",
              "    </script>\n",
              "  </div>\n",
              "\n",
              "\n",
              "    <div id=\"df-3e640164-e050-4dfe-9c34-44bf37505a25\">\n",
              "      <button class=\"colab-df-quickchart\" onclick=\"quickchart('df-3e640164-e050-4dfe-9c34-44bf37505a25')\"\n",
              "                title=\"Suggest charts\"\n",
              "                style=\"display:none;\">\n",
              "\n",
              "<svg xmlns=\"http://www.w3.org/2000/svg\" height=\"24px\"viewBox=\"0 0 24 24\"\n",
              "     width=\"24px\">\n",
              "    <g>\n",
              "        <path d=\"M19 3H5c-1.1 0-2 .9-2 2v14c0 1.1.9 2 2 2h14c1.1 0 2-.9 2-2V5c0-1.1-.9-2-2-2zM9 17H7v-7h2v7zm4 0h-2V7h2v10zm4 0h-2v-4h2v4z\"/>\n",
              "    </g>\n",
              "</svg>\n",
              "      </button>\n",
              "\n",
              "<style>\n",
              "  .colab-df-quickchart {\n",
              "      --bg-color: #E8F0FE;\n",
              "      --fill-color: #1967D2;\n",
              "      --hover-bg-color: #E2EBFA;\n",
              "      --hover-fill-color: #174EA6;\n",
              "      --disabled-fill-color: #AAA;\n",
              "      --disabled-bg-color: #DDD;\n",
              "  }\n",
              "\n",
              "  [theme=dark] .colab-df-quickchart {\n",
              "      --bg-color: #3B4455;\n",
              "      --fill-color: #D2E3FC;\n",
              "      --hover-bg-color: #434B5C;\n",
              "      --hover-fill-color: #FFFFFF;\n",
              "      --disabled-bg-color: #3B4455;\n",
              "      --disabled-fill-color: #666;\n",
              "  }\n",
              "\n",
              "  .colab-df-quickchart {\n",
              "    background-color: var(--bg-color);\n",
              "    border: none;\n",
              "    border-radius: 50%;\n",
              "    cursor: pointer;\n",
              "    display: none;\n",
              "    fill: var(--fill-color);\n",
              "    height: 32px;\n",
              "    padding: 0;\n",
              "    width: 32px;\n",
              "  }\n",
              "\n",
              "  .colab-df-quickchart:hover {\n",
              "    background-color: var(--hover-bg-color);\n",
              "    box-shadow: 0 1px 2px rgba(60, 64, 67, 0.3), 0 1px 3px 1px rgba(60, 64, 67, 0.15);\n",
              "    fill: var(--button-hover-fill-color);\n",
              "  }\n",
              "\n",
              "  .colab-df-quickchart-complete:disabled,\n",
              "  .colab-df-quickchart-complete:disabled:hover {\n",
              "    background-color: var(--disabled-bg-color);\n",
              "    fill: var(--disabled-fill-color);\n",
              "    box-shadow: none;\n",
              "  }\n",
              "\n",
              "  .colab-df-spinner {\n",
              "    border: 2px solid var(--fill-color);\n",
              "    border-color: transparent;\n",
              "    border-bottom-color: var(--fill-color);\n",
              "    animation:\n",
              "      spin 1s steps(1) infinite;\n",
              "  }\n",
              "\n",
              "  @keyframes spin {\n",
              "    0% {\n",
              "      border-color: transparent;\n",
              "      border-bottom-color: var(--fill-color);\n",
              "      border-left-color: var(--fill-color);\n",
              "    }\n",
              "    20% {\n",
              "      border-color: transparent;\n",
              "      border-left-color: var(--fill-color);\n",
              "      border-top-color: var(--fill-color);\n",
              "    }\n",
              "    30% {\n",
              "      border-color: transparent;\n",
              "      border-left-color: var(--fill-color);\n",
              "      border-top-color: var(--fill-color);\n",
              "      border-right-color: var(--fill-color);\n",
              "    }\n",
              "    40% {\n",
              "      border-color: transparent;\n",
              "      border-right-color: var(--fill-color);\n",
              "      border-top-color: var(--fill-color);\n",
              "    }\n",
              "    60% {\n",
              "      border-color: transparent;\n",
              "      border-right-color: var(--fill-color);\n",
              "    }\n",
              "    80% {\n",
              "      border-color: transparent;\n",
              "      border-right-color: var(--fill-color);\n",
              "      border-bottom-color: var(--fill-color);\n",
              "    }\n",
              "    90% {\n",
              "      border-color: transparent;\n",
              "      border-bottom-color: var(--fill-color);\n",
              "    }\n",
              "  }\n",
              "</style>\n",
              "\n",
              "      <script>\n",
              "        async function quickchart(key) {\n",
              "          const quickchartButtonEl =\n",
              "            document.querySelector('#' + key + ' button');\n",
              "          quickchartButtonEl.disabled = true;  // To prevent multiple clicks.\n",
              "          quickchartButtonEl.classList.add('colab-df-spinner');\n",
              "          try {\n",
              "            const charts = await google.colab.kernel.invokeFunction(\n",
              "                'suggestCharts', [key], {});\n",
              "          } catch (error) {\n",
              "            console.error('Error during call to suggestCharts:', error);\n",
              "          }\n",
              "          quickchartButtonEl.classList.remove('colab-df-spinner');\n",
              "          quickchartButtonEl.classList.add('colab-df-quickchart-complete');\n",
              "        }\n",
              "        (() => {\n",
              "          let quickchartButtonEl =\n",
              "            document.querySelector('#df-3e640164-e050-4dfe-9c34-44bf37505a25 button');\n",
              "          quickchartButtonEl.style.display =\n",
              "            google.colab.kernel.accessAllowed ? 'block' : 'none';\n",
              "        })();\n",
              "      </script>\n",
              "    </div>\n",
              "\n",
              "    </div>\n",
              "  </div>\n"
            ],
            "application/vnd.google.colaboratory.intrinsic+json": {
              "type": "dataframe",
              "variable_name": "df",
              "summary": "{\n  \"name\": \"df\",\n  \"rows\": 1462,\n  \"fields\": [\n    {\n      \"column\": \"PM2.5\",\n      \"properties\": {\n        \"dtype\": \"number\",\n        \"std\": 60.1381100714153,\n        \"min\": 5.610526315789474,\n        \"max\": 317.88690476190476,\n        \"num_unique_values\": 1460,\n        \"samples\": [\n          74.49305555555556,\n          73.5,\n          133.70833333333334\n        ],\n        \"semantic_type\": \"\",\n        \"description\": \"\"\n      }\n    }\n  ]\n}"
            }
          },
          "metadata": {},
          "execution_count": 11
        }
      ]
    },
    {
      "cell_type": "code",
      "source": [
        "#Calculating Rolling Averages and plotting it\n",
        "df[\"PM2.5\"].rolling(168).mean().plot(ylabel=\"PM2.5\", title = \"Weekly Rolling Average\")"
      ],
      "metadata": {
        "colab": {
          "base_uri": "https://localhost:8080/",
          "height": 470
        },
        "id": "Iat6UTPIEwOb",
        "outputId": "9cae89b6-1fa7-4210-d4bd-81f2eca25d67"
      },
      "execution_count": 12,
      "outputs": [
        {
          "output_type": "execute_result",
          "data": {
            "text/plain": [
              "<Axes: title={'center': 'Weekly Rolling Average'}, ylabel='PM2.5'>"
            ]
          },
          "metadata": {},
          "execution_count": 12
        },
        {
          "output_type": "display_data",
          "data": {
            "text/plain": [
              "<Figure size 640x480 with 1 Axes>"
            ],
            "image/png": "[encoded data removed]"
          },
          "metadata": {}
        }
      ]
    },
    {
      "cell_type": "markdown",
      "source": [
        "From the plot we can see the following;\n",
        "\n",
        " Upward slopes indicating pollution is building up\n",
        "\n",
        " Downward slopes showing that Air quality is improving\n",
        "\n",
        " Flat periods show stable pollution levels\n",
        "\n",
        " Sharp peaks also showing sudden pollution events"
      ],
      "metadata": {
        "id": "fl8wdRCRQKWZ"
      }
    },
    {
      "cell_type": "markdown",
      "source": [
        "My goal is to create a Model that will have features that will help me predict 'PM2.5' readings, which is my target vector.\n",
        "\n",
        "I want to create a lag feature('PM2.5.L1'), a new column that will contain the mean 'PM2.5' from the previous day. It will help me predict 'PM2.5' Readings.\n",
        "\n",
        "I need to note that this new feature will produce NaN that I need to drop."
      ],
      "metadata": {
        "id": "o0xM-RtJQwCK"
      }
    },
    {
      "cell_type": "code",
      "source": [
        "df.head()"
      ],
      "metadata": {
        "colab": {
          "base_uri": "https://localhost:8080/",
          "height": 206
        },
        "id": "DxwyCAfBIpKR",
        "outputId": "7ccd1ab9-6dea-4d80-8005-786a1672ac13"
      },
      "execution_count": 13,
      "outputs": [
        {
          "output_type": "execute_result",
          "data": {
            "text/plain": [
              "                               PM2.5\n",
              "2013-03-01 00:00:00+08:00   5.802083\n",
              "2013-03-02 00:00:00+08:00  13.218750\n",
              "2013-03-03 00:00:00+08:00  80.666667\n",
              "2013-03-04 00:00:00+08:00  30.232639\n",
              "2013-03-05 00:00:00+08:00  82.142322"
            ],
            "text/html": [
              "\n",
              "  <div id=\"df-aec5359b-6853-4988-9725-4451446bd002\" class=\"colab-df-container\">\n",
              "    <div>\n",
              "<style scoped>\n",
              "    .dataframe tbody tr th:only-of-type {\n",
              "        vertical-align: middle;\n",
              "    }\n",
              "\n",
              "    .dataframe tbody tr th {\n",
              "        vertical-align: top;\n",
              "    }\n",
              "\n",
              "    .dataframe thead th {\n",
              "        text-align: right;\n",
              "    }\n",
              "</style>\n",
              "<table border=\"1\" class=\"dataframe\">\n",
              "  <thead>\n",
              "    <tr style=\"text-align: right;\">\n",
              "      <th></th>\n",
              "      <th>PM2.5</th>\n",
              "    </tr>\n",
              "  </thead>\n",
              "  <tbody>\n",
              "    <tr>\n",
              "      <th>2013-03-01 00:00:00+08:00</th>\n",
              "      <td>5.802083</td>\n",
              "    </tr>\n",
              "    <tr>\n",
              "      <th>2013-03-02 00:00:00+08:00</th>\n",
              "      <td>13.218750</td>\n",
              "    </tr>\n",
              "    <tr>\n",
              "      <th>2013-03-03 00:00:00+08:00</th>\n",
              "      <td>80.666667</td>\n",
              "    </tr>\n",
              "    <tr>\n",
              "      <th>2013-03-04 00:00:00+08:00</th>\n",
              "      <td>30.232639</td>\n",
              "    </tr>\n",
              "    <tr>\n",
              "      <th>2013-03-05 00:00:00+08:00</th>\n",
              "      <td>82.142322</td>\n",
              "    </tr>\n",
              "  </tbody>\n",
              "</table>\n",
              "</div>\n",
              "    <div class=\"colab-df-buttons\">\n",
              "\n",
              "  <div class=\"colab-df-container\">\n",
              "    <button class=\"colab-df-convert\" onclick=\"convertToInteractive('df-aec5359b-6853-4988-9725-4451446bd002')\"\n",
              "            title=\"Convert this dataframe to an interactive table.\"\n",
              "            style=\"display:none;\">\n",
              "\n",
              "  <svg xmlns=\"http://www.w3.org/2000/svg\" height=\"24px\" viewBox=\"0 -960 960 960\">\n",
              "    <path d=\"M120-120v-720h720v720H120Zm60-500h600v-160H180v160Zm220 220h160v-160H400v160Zm0 220h160v-160H400v160ZM180-400h160v-160H180v160Zm440 0h160v-160H620v160ZM180-180h160v-160H180v160Zm440 0h160v-160H620v160Z\"/>\n",
              "  </svg>\n",
              "    </button>\n",
              "\n",
              "  <style>\n",
              "    .colab-df-container {\n",
              "      display:flex;\n",
              "      gap: 12px;\n",
              "    }\n",
              "\n",
              "    .colab-df-convert {\n",
              "      background-color: #E8F0FE;\n",
              "      border: none;\n",
              "      border-radius: 50%;\n",
              "      cursor: pointer;\n",
              "      display: none;\n",
              "      fill: #1967D2;\n",
              "      height: 32px;\n",
              "      padding: 0 0 0 0;\n",
              "      width: 32px;\n",
              "    }\n",
              "\n",
              "    .colab-df-convert:hover {\n",
              "      background-color: #E2EBFA;\n",
              "      box-shadow: 0px 1px 2px rgba(60, 64, 67, 0.3), 0px 1px 3px 1px rgba(60, 64, 67, 0.15);\n",
              "      fill: #174EA6;\n",
              "    }\n",
              "\n",
              "    .colab-df-buttons div {\n",
              "      margin-bottom: 4px;\n",
              "    }\n",
              "\n",
              "    [theme=dark] .colab-df-convert {\n",
              "      background-color: #3B4455;\n",
              "      fill: #D2E3FC;\n",
              "    }\n",
              "\n",
              "    [theme=dark] .colab-df-convert:hover {\n",
              "      background-color: #434B5C;\n",
              "      box-shadow: 0px 1px 3px 1px rgba(0, 0, 0, 0.15);\n",
              "      filter: drop-shadow(0px 1px 2px rgba(0, 0, 0, 0.3));\n",
              "      fill: #FFFFFF;\n",
              "    }\n",
              "  </style>\n",
              "\n",
              "    <script>\n",
              "      const buttonEl =\n",
              "        document.querySelector('#df-aec5359b-6853-4988-9725-4451446bd002 button.colab-df-convert');\n",
              "      buttonEl.style.display =\n",
              "        google.colab.kernel.accessAllowed ? 'block' : 'none';\n",
              "\n",
              "      async function convertToInteractive(key) {\n",
              "        const element = document.querySelector('#df-aec5359b-6853-4988-9725-4451446bd002');\n",
              "        const dataTable =\n",
              "          await google.colab.kernel.invokeFunction('convertToInteractive',\n",
              "                                                    [key], {});\n",
              "        if (!dataTable) return;\n",
              "\n",
              "        const docLinkHtml = 'Like what you see? Visit the ' +\n",
              "          '<a target=\"_blank\" href=https://colab.research.google.com/notebooks/data_table.ipynb>data table notebook</a>'\n",
              "          + ' to learn more about interactive tables.';\n",
              "        element.innerHTML = '';\n",
              "        dataTable['output_type'] = 'display_data';\n",
              "        await google.colab.output.renderOutput(dataTable, element);\n",
              "        const docLink = document.createElement('div');\n",
              "        docLink.innerHTML = docLinkHtml;\n",
              "        element.appendChild(docLink);\n",
              "      }\n",
              "    </script>\n",
              "  </div>\n",
              "\n",
              "\n",
              "    <div id=\"df-41afee1b-8ed1-48e4-bbfe-069e3298a836\">\n",
              "      <button class=\"colab-df-quickchart\" onclick=\"quickchart('df-41afee1b-8ed1-48e4-bbfe-069e3298a836')\"\n",
              "                title=\"Suggest charts\"\n",
              "                style=\"display:none;\">\n",
              "\n",
              "<svg xmlns=\"http://www.w3.org/2000/svg\" height=\"24px\"viewBox=\"0 0 24 24\"\n",
              "     width=\"24px\">\n",
              "    <g>\n",
              "        <path d=\"M19 3H5c-1.1 0-2 .9-2 2v14c0 1.1.9 2 2 2h14c1.1 0 2-.9 2-2V5c0-1.1-.9-2-2-2zM9 17H7v-7h2v7zm4 0h-2V7h2v10zm4 0h-2v-4h2v4z\"/>\n",
              "    </g>\n",
              "</svg>\n",
              "      </button>\n",
              "\n",
              "<style>\n",
              "  .colab-df-quickchart {\n",
              "      --bg-color: #E8F0FE;\n",
              "      --fill-color: #1967D2;\n",
              "      --hover-bg-color: #E2EBFA;\n",
              "      --hover-fill-color: #174EA6;\n",
              "      --disabled-fill-color: #AAA;\n",
              "      --disabled-bg-color: #DDD;\n",
              "  }\n",
              "\n",
              "  [theme=dark] .colab-df-quickchart {\n",
              "      --bg-color: #3B4455;\n",
              "      --fill-color: #D2E3FC;\n",
              "      --hover-bg-color: #434B5C;\n",
              "      --hover-fill-color: #FFFFFF;\n",
              "      --disabled-bg-color: #3B4455;\n",
              "      --disabled-fill-color: #666;\n",
              "  }\n",
              "\n",
              "  .colab-df-quickchart {\n",
              "    background-color: var(--bg-color);\n",
              "    border: none;\n",
              "    border-radius: 50%;\n",
              "    cursor: pointer;\n",
              "    display: none;\n",
              "    fill: var(--fill-color);\n",
              "    height: 32px;\n",
              "    padding: 0;\n",
              "    width: 32px;\n",
              "  }\n",
              "\n",
              "  .colab-df-quickchart:hover {\n",
              "    background-color: var(--hover-bg-color);\n",
              "    box-shadow: 0 1px 2px rgba(60, 64, 67, 0.3), 0 1px 3px 1px rgba(60, 64, 67, 0.15);\n",
              "    fill: var(--button-hover-fill-color);\n",
              "  }\n",
              "\n",
              "  .colab-df-quickchart-complete:disabled,\n",
              "  .colab-df-quickchart-complete:disabled:hover {\n",
              "    background-color: var(--disabled-bg-color);\n",
              "    fill: var(--disabled-fill-color);\n",
              "    box-shadow: none;\n",
              "  }\n",
              "\n",
              "  .colab-df-spinner {\n",
              "    border: 2px solid var(--fill-color);\n",
              "    border-color: transparent;\n",
              "    border-bottom-color: var(--fill-color);\n",
              "    animation:\n",
              "      spin 1s steps(1) infinite;\n",
              "  }\n",
              "\n",
              "  @keyframes spin {\n",
              "    0% {\n",
              "      border-color: transparent;\n",
              "      border-bottom-color: var(--fill-color);\n",
              "      border-left-color: var(--fill-color);\n",
              "    }\n",
              "    20% {\n",
              "      border-color: transparent;\n",
              "      border-left-color: var(--fill-color);\n",
              "      border-top-color: var(--fill-color);\n",
              "    }\n",
              "    30% {\n",
              "      border-color: transparent;\n",
              "      border-left-color: var(--fill-color);\n",
              "      border-top-color: var(--fill-color);\n",
              "      border-right-color: var(--fill-color);\n",
              "    }\n",
              "    40% {\n",
              "      border-color: transparent;\n",
              "      border-right-color: var(--fill-color);\n",
              "      border-top-color: var(--fill-color);\n",
              "    }\n",
              "    60% {\n",
              "      border-color: transparent;\n",
              "      border-right-color: var(--fill-color);\n",
              "    }\n",
              "    80% {\n",
              "      border-color: transparent;\n",
              "      border-right-color: var(--fill-color);\n",
              "      border-bottom-color: var(--fill-color);\n",
              "    }\n",
              "    90% {\n",
              "      border-color: transparent;\n",
              "      border-bottom-color: var(--fill-color);\n",
              "    }\n",
              "  }\n",
              "</style>\n",
              "\n",
              "      <script>\n",
              "        async function quickchart(key) {\n",
              "          const quickchartButtonEl =\n",
              "            document.querySelector('#' + key + ' button');\n",
              "          quickchartButtonEl.disabled = true;  // To prevent multiple clicks.\n",
              "          quickchartButtonEl.classList.add('colab-df-spinner');\n",
              "          try {\n",
              "            const charts = await google.colab.kernel.invokeFunction(\n",
              "                'suggestCharts', [key], {});\n",
              "          } catch (error) {\n",
              "            console.error('Error during call to suggestCharts:', error);\n",
              "          }\n",
              "          quickchartButtonEl.classList.remove('colab-df-spinner');\n",
              "          quickchartButtonEl.classList.add('colab-df-quickchart-complete');\n",
              "        }\n",
              "        (() => {\n",
              "          let quickchartButtonEl =\n",
              "            document.querySelector('#df-41afee1b-8ed1-48e4-bbfe-069e3298a836 button');\n",
              "          quickchartButtonEl.style.display =\n",
              "            google.colab.kernel.accessAllowed ? 'block' : 'none';\n",
              "        })();\n",
              "      </script>\n",
              "    </div>\n",
              "\n",
              "    </div>\n",
              "  </div>\n"
            ],
            "application/vnd.google.colaboratory.intrinsic+json": {
              "type": "dataframe",
              "variable_name": "df",
              "summary": "{\n  \"name\": \"df\",\n  \"rows\": 1462,\n  \"fields\": [\n    {\n      \"column\": \"PM2.5\",\n      \"properties\": {\n        \"dtype\": \"number\",\n        \"std\": 60.1381100714153,\n        \"min\": 5.610526315789474,\n        \"max\": 317.88690476190476,\n        \"num_unique_values\": 1460,\n        \"samples\": [\n          74.49305555555556,\n          73.5,\n          133.70833333333334\n        ],\n        \"semantic_type\": \"\",\n        \"description\": \"\"\n      }\n    }\n  ]\n}"
            }
          },
          "metadata": {},
          "execution_count": 13
        }
      ]
    },
    {
      "cell_type": "code",
      "source": [
        "#Create a new column (lag feature)\n",
        "df[\"P2.L1\"] = df[\"PM2.5\"].shift(1)\n",
        "df.dropna(inplace = True)"
      ],
      "metadata": {
        "id": "Gtcn9YqeSGee"
      },
      "execution_count": 14,
      "outputs": []
    },
    {
      "cell_type": "markdown",
      "source": [
        "After creating a new column, I want to check the Autocorrelation btw 'PM2.5' and 'P2.L1'\n",
        "\n",
        "Autocorrelation will be the relationship between the readings of today and what happened the day before.\n",
        "\n",
        "I will check the correlation and also plot the relationahip using a scatter plot and line plot."
      ],
      "metadata": {
        "id": "SKfA3Z1oSzoK"
      }
    },
    {
      "cell_type": "code",
      "source": [
        "#Autocorrelation\n",
        "print(df.corr())\n",
        "#Autocorrelation Plot\n",
        "fig, ax = plt.subplots(figsize=(15,6))\n",
        "ax.scatter(x=df[\"P2.L1\"], y=df[\"PM2.5\"])\n",
        "ax.plot([0,120], [0,120], linestyle = \"--\", color=\"yellow\")\n",
        "plt.xlabel(\"P2.L1\")\n",
        "plt.ylabel(\"PM2.5\")\n",
        "plt.title(\"PM2.5 Autocorrelation\")"
      ],
      "metadata": {
        "colab": {
          "base_uri": "https://localhost:8080/",
          "height": 589
        },
        "id": "oOYwu9sSSrBj",
        "outputId": "b2458cbd-cd25-4820-9af9-445d199387f4"
      },
      "execution_count": 15,
      "outputs": [
        {
          "output_type": "stream",
          "name": "stdout",
          "text": [
            "         PM2.5    P2.L1\n",
            "PM2.5  1.00000  0.55322\n",
            "P2.L1  0.55322  1.00000\n"
          ]
        },
        {
          "output_type": "execute_result",
          "data": {
            "text/plain": [
              "Text(0.5, 1.0, 'PM2.5 Autocorrelation')"
            ]
          },
          "metadata": {},
          "execution_count": 15
        },
        {
          "output_type": "display_data",
          "data": {
            "text/plain": [
              "<Figure size 1500x600 with 1 Axes>"
            ],
            "image/png": "[encoded data removed]"
          },
          "metadata": {}
        }
      ]
    },
    {
      "cell_type": "markdown",
      "source": [
        "The dense clustering of points around the lower left (that is, 0 to 150 on both axes) suggests that lower PM2.5 readings tend to follow lower readings from the previous day, which is common in air quality data due to stable atmospheric conditions.\n",
        "\n",
        "There’s a spread of points extending to higher values (up to 300), indicating occasional higher PM2.5 levels, potentially due to pollution spikes or weather changes.\n",
        "\n",
        "There is a strong correlation between the two features which suggests that a lag-1 feature will be a useful predictor.\n",
        "\n",
        "The plot confirms that PM2.5 readings show a positive autocorrelation at a 1-day lag. This means the current day's PM2.5 level is somewhat predictive of the next day's level, supporting the use of a lag feature in modeling."
      ],
      "metadata": {
        "id": "ipoBYFDmU21X"
      }
    },
    {
      "cell_type": "markdown",
      "source": [
        "I want to now split between the Feature Matrix(X) and Target Vector(y). I also want to use train-test split for time series to split X and y to training and test sets. 80% of my data will be used for training and 20% for testing.\n",
        "\n",
        "I also need to note that my training set MUST come before the test set."
      ],
      "metadata": {
        "id": "zOnKLCc9YRQq"
      }
    },
    {
      "cell_type": "markdown",
      "source": [
        "Split   feature matrix(X) and target vector(y)"
      ],
      "metadata": {
        "id": "-cpiBGhMZpyu"
      }
    },
    {
      "cell_type": "code",
      "source": [
        "target = \"PM2.5\"\n",
        "y = df[target]\n",
        "print(y.shape)\n",
        "X = df.drop(columns=target)\n",
        "print(X.shape)"
      ],
      "metadata": {
        "colab": {
          "base_uri": "https://localhost:8080/"
        },
        "id": "eT5ZVUTnVdLc",
        "outputId": "45eecd6b-ec4f-4cc7-9046-d61f3bcf9f9e"
      },
      "execution_count": 16,
      "outputs": [
        {
          "output_type": "stream",
          "name": "stdout",
          "text": [
            "(1461,)\n",
            "(1461, 1)\n"
          ]
        }
      ]
    },
    {
      "cell_type": "code",
      "source": [
        "#Dividing my feature matrix and target vector\n",
        "#Take every row from the start of my dataframe up to but not including the cutoff row\n",
        "cutoff = int(len(X)*0.8)\n",
        "X_train, y_train = X.iloc[:cutoff], y.iloc[:cutoff]\n",
        "print(X_train.shape, y_train.shape)\n",
        "X_test, y_test = X.iloc[cutoff:], y.iloc[cutoff:]\n",
        "print(X_test.shape, y_test.shape)"
      ],
      "metadata": {
        "colab": {
          "base_uri": "https://localhost:8080/"
        },
        "id": "dHu951-6aJD9",
        "outputId": "7c28572f-52b1-493c-bb89-822a4ac94dda"
      },
      "execution_count": 17,
      "outputs": [
        {
          "output_type": "stream",
          "name": "stdout",
          "text": [
            "(1168, 1) (1168,)\n",
            "(293, 1) (293,)\n"
          ]
        }
      ]
    },
    {
      "cell_type": "markdown",
      "source": [
        "BUILD MODEL"
      ],
      "metadata": {
        "id": "cQPm5vVvb9mj"
      }
    },
    {
      "cell_type": "markdown",
      "source": [
        "Baseline"
      ],
      "metadata": {
        "id": "Hj10I1xKb_0k"
      }
    },
    {
      "cell_type": "code",
      "source": [
        "y_mean = y_train.mean()\n",
        "print(\"Mean:\", round(y_mean, 2))\n",
        "y_pred_baseline = [y_mean] * len(y_train)\n",
        "print(\"Baseline:\", y_pred_baseline[:5])\n",
        "mae_baseline = mean_absolute_error(y_train, y_pred_baseline)\n",
        "print(\"mae_baseline:\", round(mae_baseline, 2))"
      ],
      "metadata": {
        "colab": {
          "base_uri": "https://localhost:8080/"
        },
        "id": "tDihqB9XbZja",
        "outputId": "bf843f6d-3c65-4d1f-f0c7-f51bf7c5ce57"
      },
      "execution_count": 18,
      "outputs": [
        {
          "output_type": "stream",
          "name": "stdout",
          "text": [
            "Mean: 77.56\n",
            "Baseline: [np.float64(77.5607472032176), np.float64(77.5607472032176), np.float64(77.5607472032176), np.float64(77.5607472032176), np.float64(77.5607472032176)]\n",
            "mae_baseline: 46.45\n"
          ]
        }
      ]
    },
    {
      "cell_type": "markdown",
      "source": [
        "Iterate"
      ],
      "metadata": {
        "id": "fCY0Gk9ReuZx"
      }
    },
    {
      "cell_type": "code",
      "source": [
        "model = LinearRegression()\n",
        "model.fit(X_train, y_train)"
      ],
      "metadata": {
        "colab": {
          "base_uri": "https://localhost:8080/",
          "height": 80
        },
        "id": "w9OkgGVSdcBT",
        "outputId": "1c7f4146-df7f-41eb-d135-329f6824dab9"
      },
      "execution_count": 19,
      "outputs": [
        {
          "output_type": "execute_result",
          "data": {
            "text/plain": [
              "LinearRegression()"
            ],
            "text/html": [
              "<style>#sk-container-id-1 {\n",
              "  /* Definition of color scheme common for light and dark mode */\n",
              "  --sklearn-color-text: #000;\n",
              "  --sklearn-color-text-muted: #666;\n",
              "  --sklearn-color-line: gray;\n",
              "  /* Definition of color scheme for unfitted estimators */\n",
              "  --sklearn-color-unfitted-level-0: #fff5e6;\n",
              "  --sklearn-color-unfitted-level-1: #f6e4d2;\n",
              "  --sklearn-color-unfitted-level-2: #ffe0b3;\n",
              "  --sklearn-color-unfitted-level-3: chocolate;\n",
              "  /* Definition of color scheme for fitted estimators */\n",
              "  --sklearn-color-fitted-level-0: #f0f8ff;\n",
              "  --sklearn-color-fitted-level-1: #d4ebff;\n",
              "  --sklearn-color-fitted-level-2: #b3dbfd;\n",
              "  --sklearn-color-fitted-level-3: cornflowerblue;\n",
              "\n",
              "  /* Specific color for light theme */\n",
              "  --sklearn-color-text-on-default-background: var(--sg-text-color, var(--theme-code-foreground, var(--jp-content-font-color1, black)));\n",
              "  --sklearn-color-background: var(--sg-background-color, var(--theme-background, var(--jp-layout-color0, white)));\n",
              "  --sklearn-color-border-box: var(--sg-text-color, var(--theme-code-foreground, var(--jp-content-font-color1, black)));\n",
              "  --sklearn-color-icon: #696969;\n",
              "\n",
              "  @media (prefers-color-scheme: dark) {\n",
              "    /* Redefinition of color scheme for dark theme */\n",
              "    --sklearn-color-text-on-default-background: var(--sg-text-color, var(--theme-code-foreground, var(--jp-content-font-color1, white)));\n",
              "    --sklearn-color-background: var(--sg-background-color, var(--theme-background, var(--jp-layout-color0, #111)));\n",
              "    --sklearn-color-border-box: var(--sg-text-color, var(--theme-code-foreground, var(--jp-content-font-color1, white)));\n",
              "    --sklearn-color-icon: #878787;\n",
              "  }\n",
              "}\n",
              "\n",
              "#sk-container-id-1 {\n",
              "  color: var(--sklearn-color-text);\n",
              "}\n",
              "\n",
              "#sk-container-id-1 pre {\n",
              "  padding: 0;\n",
              "}\n",
              "\n",
              "#sk-container-id-1 input.sk-hidden--visually {\n",
              "  border: 0;\n",
              "  clip: rect(1px 1px 1px 1px);\n",
              "  clip: rect(1px, 1px, 1px, 1px);\n",
              "  height: 1px;\n",
              "  margin: -1px;\n",
              "  overflow: hidden;\n",
              "  padding: 0;\n",
              "  position: absolute;\n",
              "  width: 1px;\n",
              "}\n",
              "\n",
              "#sk-container-id-1 div.sk-dashed-wrapped {\n",
              "  border: 1px dashed var(--sklearn-color-line);\n",
              "  margin: 0 0.4em 0.5em 0.4em;\n",
              "  box-sizing: border-box;\n",
              "  padding-bottom: 0.4em;\n",
              "  background-color: var(--sklearn-color-background);\n",
              "}\n",
              "\n",
              "#sk-container-id-1 div.sk-container {\n",
              "  /* jupyter's `normalize.less` sets `[hidden] { display: none; }`\n",
              "     but bootstrap.min.css set `[hidden] { display: none !important; }`\n",
              "     so we also need the `!important` here to be able to override the\n",
              "     default hidden behavior on the sphinx rendered scikit-learn.org.\n",
              "     See: https://github.com/scikit-learn/scikit-learn/issues/21755 */\n",
              "  display: inline-block !important;\n",
              "  position: relative;\n",
              "}\n",
              "\n",
              "#sk-container-id-1 div.sk-text-repr-fallback {\n",
              "  display: none;\n",
              "}\n",
              "\n",
              "div.sk-parallel-item,\n",
              "div.sk-serial,\n",
              "div.sk-item {\n",
              "  /* draw centered vertical line to link estimators */\n",
              "  background-image: linear-gradient(var(--sklearn-color-text-on-default-background), var(--sklearn-color-text-on-default-background));\n",
              "  background-size: 2px 100%;\n",
              "  background-repeat: no-repeat;\n",
              "  background-position: center center;\n",
              "}\n",
              "\n",
              "/* Parallel-specific style estimator block */\n",
              "\n",
              "#sk-container-id-1 div.sk-parallel-item::after {\n",
              "  content: \"\";\n",
              "  width: 100%;\n",
              "  border-bottom: 2px solid var(--sklearn-color-text-on-default-background);\n",
              "  flex-grow: 1;\n",
              "}\n",
              "\n",
              "#sk-container-id-1 div.sk-parallel {\n",
              "  display: flex;\n",
              "  align-items: stretch;\n",
              "  justify-content: center;\n",
              "  background-color: var(--sklearn-color-background);\n",
              "  position: relative;\n",
              "}\n",
              "\n",
              "#sk-container-id-1 div.sk-parallel-item {\n",
              "  display: flex;\n",
              "  flex-direction: column;\n",
              "}\n",
              "\n",
              "#sk-container-id-1 div.sk-parallel-item:first-child::after {\n",
              "  align-self: flex-end;\n",
              "  width: 50%;\n",
              "}\n",
              "\n",
              "#sk-container-id-1 div.sk-parallel-item:last-child::after {\n",
              "  align-self: flex-start;\n",
              "  width: 50%;\n",
              "}\n",
              "\n",
              "#sk-container-id-1 div.sk-parallel-item:only-child::after {\n",
              "  width: 0;\n",
              "}\n",
              "\n",
              "/* Serial-specific style estimator block */\n",
              "\n",
              "#sk-container-id-1 div.sk-serial {\n",
              "  display: flex;\n",
              "  flex-direction: column;\n",
              "  align-items: center;\n",
              "  background-color: var(--sklearn-color-background);\n",
              "  padding-right: 1em;\n",
              "  padding-left: 1em;\n",
              "}\n",
              "\n",
              "\n",
              "/* Toggleable style: style used for estimator/Pipeline/ColumnTransformer box that is\n",
              "clickable and can be expanded/collapsed.\n",
              "- Pipeline and ColumnTransformer use this feature and define the default style\n",
              "- Estimators will overwrite some part of the style using the `sk-estimator` class\n",
              "*/\n",
              "\n",
              "/* Pipeline and ColumnTransformer style (default) */\n",
              "\n",
              "#sk-container-id-1 div.sk-toggleable {\n",
              "  /* Default theme specific background. It is overwritten whether we have a\n",
              "  specific estimator or a Pipeline/ColumnTransformer */\n",
              "  background-color: var(--sklearn-color-background);\n",
              "}\n",
              "\n",
              "/* Toggleable label */\n",
              "#sk-container-id-1 label.sk-toggleable__label {\n",
              "  cursor: pointer;\n",
              "  display: flex;\n",
              "  width: 100%;\n",
              "  margin-bottom: 0;\n",
              "  padding: 0.5em;\n",
              "  box-sizing: border-box;\n",
              "  text-align: center;\n",
              "  align-items: start;\n",
              "  justify-content: space-between;\n",
              "  gap: 0.5em;\n",
              "}\n",
              "\n",
              "#sk-container-id-1 label.sk-toggleable__label .caption {\n",
              "  font-size: 0.6rem;\n",
              "  font-weight: lighter;\n",
              "  color: var(--sklearn-color-text-muted);\n",
              "}\n",
              "\n",
              "#sk-container-id-1 label.sk-toggleable__label-arrow:before {\n",
              "  /* Arrow on the left of the label */\n",
              "  content: \"▸\";\n",
              "  float: left;\n",
              "  margin-right: 0.25em;\n",
              "  color: var(--sklearn-color-icon);\n",
              "}\n",
              "\n",
              "#sk-container-id-1 label.sk-toggleable__label-arrow:hover:before {\n",
              "  color: var(--sklearn-color-text);\n",
              "}\n",
              "\n",
              "/* Toggleable content - dropdown */\n",
              "\n",
              "#sk-container-id-1 div.sk-toggleable__content {\n",
              "  max-height: 0;\n",
              "  max-width: 0;\n",
              "  overflow: hidden;\n",
              "  text-align: left;\n",
              "  /* unfitted */\n",
              "  background-color: var(--sklearn-color-unfitted-level-0);\n",
              "}\n",
              "\n",
              "#sk-container-id-1 div.sk-toggleable__content.fitted {\n",
              "  /* fitted */\n",
              "  background-color: var(--sklearn-color-fitted-level-0);\n",
              "}\n",
              "\n",
              "#sk-container-id-1 div.sk-toggleable__content pre {\n",
              "  margin: 0.2em;\n",
              "  border-radius: 0.25em;\n",
              "  color: var(--sklearn-color-text);\n",
              "  /* unfitted */\n",
              "  background-color: var(--sklearn-color-unfitted-level-0);\n",
              "}\n",
              "\n",
              "#sk-container-id-1 div.sk-toggleable__content.fitted pre {\n",
              "  /* unfitted */\n",
              "  background-color: var(--sklearn-color-fitted-level-0);\n",
              "}\n",
              "\n",
              "#sk-container-id-1 input.sk-toggleable__control:checked~div.sk-toggleable__content {\n",
              "  /* Expand drop-down */\n",
              "  max-height: 200px;\n",
              "  max-width: 100%;\n",
              "  overflow: auto;\n",
              "}\n",
              "\n",
              "#sk-container-id-1 input.sk-toggleable__control:checked~label.sk-toggleable__label-arrow:before {\n",
              "  content: \"▾\";\n",
              "}\n",
              "\n",
              "/* Pipeline/ColumnTransformer-specific style */\n",
              "\n",
              "#sk-container-id-1 div.sk-label input.sk-toggleable__control:checked~label.sk-toggleable__label {\n",
              "  color: var(--sklearn-color-text);\n",
              "  background-color: var(--sklearn-color-unfitted-level-2);\n",
              "}\n",
              "\n",
              "#sk-container-id-1 div.sk-label.fitted input.sk-toggleable__control:checked~label.sk-toggleable__label {\n",
              "  background-color: var(--sklearn-color-fitted-level-2);\n",
              "}\n",
              "\n",
              "/* Estimator-specific style */\n",
              "\n",
              "/* Colorize estimator box */\n",
              "#sk-container-id-1 div.sk-estimator input.sk-toggleable__control:checked~label.sk-toggleable__label {\n",
              "  /* unfitted */\n",
              "  background-color: var(--sklearn-color-unfitted-level-2);\n",
              "}\n",
              "\n",
              "#sk-container-id-1 div.sk-estimator.fitted input.sk-toggleable__control:checked~label.sk-toggleable__label {\n",
              "  /* fitted */\n",
              "  background-color: var(--sklearn-color-fitted-level-2);\n",
              "}\n",
              "\n",
              "#sk-container-id-1 div.sk-label label.sk-toggleable__label,\n",
              "#sk-container-id-1 div.sk-label label {\n",
              "  /* The background is the default theme color */\n",
              "  color: var(--sklearn-color-text-on-default-background);\n",
              "}\n",
              "\n",
              "/* On hover, darken the color of the background */\n",
              "#sk-container-id-1 div.sk-label:hover label.sk-toggleable__label {\n",
              "  color: var(--sklearn-color-text);\n",
              "  background-color: var(--sklearn-color-unfitted-level-2);\n",
              "}\n",
              "\n",
              "/* Label box, darken color on hover, fitted */\n",
              "#sk-container-id-1 div.sk-label.fitted:hover label.sk-toggleable__label.fitted {\n",
              "  color: var(--sklearn-color-text);\n",
              "  background-color: var(--sklearn-color-fitted-level-2);\n",
              "}\n",
              "\n",
              "/* Estimator label */\n",
              "\n",
              "#sk-container-id-1 div.sk-label label {\n",
              "  font-family: monospace;\n",
              "  font-weight: bold;\n",
              "  display: inline-block;\n",
              "  line-height: 1.2em;\n",
              "}\n",
              "\n",
              "#sk-container-id-1 div.sk-label-container {\n",
              "  text-align: center;\n",
              "}\n",
              "\n",
              "/* Estimator-specific */\n",
              "#sk-container-id-1 div.sk-estimator {\n",
              "  font-family: monospace;\n",
              "  border: 1px dotted var(--sklearn-color-border-box);\n",
              "  border-radius: 0.25em;\n",
              "  box-sizing: border-box;\n",
              "  margin-bottom: 0.5em;\n",
              "  /* unfitted */\n",
              "  background-color: var(--sklearn-color-unfitted-level-0);\n",
              "}\n",
              "\n",
              "#sk-container-id-1 div.sk-estimator.fitted {\n",
              "  /* fitted */\n",
              "  background-color: var(--sklearn-color-fitted-level-0);\n",
              "}\n",
              "\n",
              "/* on hover */\n",
              "#sk-container-id-1 div.sk-estimator:hover {\n",
              "  /* unfitted */\n",
              "  background-color: var(--sklearn-color-unfitted-level-2);\n",
              "}\n",
              "\n",
              "#sk-container-id-1 div.sk-estimator.fitted:hover {\n",
              "  /* fitted */\n",
              "  background-color: var(--sklearn-color-fitted-level-2);\n",
              "}\n",
              "\n",
              "/* Specification for estimator info (e.g. \"i\" and \"?\") */\n",
              "\n",
              "/* Common style for \"i\" and \"?\" */\n",
              "\n",
              ".sk-estimator-doc-link,\n",
              "a:link.sk-estimator-doc-link,\n",
              "a:visited.sk-estimator-doc-link {\n",
              "  float: right;\n",
              "  font-size: smaller;\n",
              "  line-height: 1em;\n",
              "  font-family: monospace;\n",
              "  background-color: var(--sklearn-color-background);\n",
              "  border-radius: 1em;\n",
              "  height: 1em;\n",
              "  width: 1em;\n",
              "  text-decoration: none !important;\n",
              "  margin-left: 0.5em;\n",
              "  text-align: center;\n",
              "  /* unfitted */\n",
              "  border: var(--sklearn-color-unfitted-level-1) 1pt solid;\n",
              "  color: var(--sklearn-color-unfitted-level-1);\n",
              "}\n",
              "\n",
              ".sk-estimator-doc-link.fitted,\n",
              "a:link.sk-estimator-doc-link.fitted,\n",
              "a:visited.sk-estimator-doc-link.fitted {\n",
              "  /* fitted */\n",
              "  border: var(--sklearn-color-fitted-level-1) 1pt solid;\n",
              "  color: var(--sklearn-color-fitted-level-1);\n",
              "}\n",
              "\n",
              "/* On hover */\n",
              "div.sk-estimator:hover .sk-estimator-doc-link:hover,\n",
              ".sk-estimator-doc-link:hover,\n",
              "div.sk-label-container:hover .sk-estimator-doc-link:hover,\n",
              ".sk-estimator-doc-link:hover {\n",
              "  /* unfitted */\n",
              "  background-color: var(--sklearn-color-unfitted-level-3);\n",
              "  color: var(--sklearn-color-background);\n",
              "  text-decoration: none;\n",
              "}\n",
              "\n",
              "div.sk-estimator.fitted:hover .sk-estimator-doc-link.fitted:hover,\n",
              ".sk-estimator-doc-link.fitted:hover,\n",
              "div.sk-label-container:hover .sk-estimator-doc-link.fitted:hover,\n",
              ".sk-estimator-doc-link.fitted:hover {\n",
              "  /* fitted */\n",
              "  background-color: var(--sklearn-color-fitted-level-3);\n",
              "  color: var(--sklearn-color-background);\n",
              "  text-decoration: none;\n",
              "}\n",
              "\n",
              "/* Span, style for the box shown on hovering the info icon */\n",
              ".sk-estimator-doc-link span {\n",
              "  display: none;\n",
              "  z-index: 9999;\n",
              "  position: relative;\n",
              "  font-weight: normal;\n",
              "  right: .2ex;\n",
              "  padding: .5ex;\n",
              "  margin: .5ex;\n",
              "  width: min-content;\n",
              "  min-width: 20ex;\n",
              "  max-width: 50ex;\n",
              "  color: var(--sklearn-color-text);\n",
              "  box-shadow: 2pt 2pt 4pt #999;\n",
              "  /* unfitted */\n",
              "  background: var(--sklearn-color-unfitted-level-0);\n",
              "  border: .5pt solid var(--sklearn-color-unfitted-level-3);\n",
              "}\n",
              "\n",
              ".sk-estimator-doc-link.fitted span {\n",
              "  /* fitted */\n",
              "  background: var(--sklearn-color-fitted-level-0);\n",
              "  border: var(--sklearn-color-fitted-level-3);\n",
              "}\n",
              "\n",
              ".sk-estimator-doc-link:hover span {\n",
              "  display: block;\n",
              "}\n",
              "\n",
              "/* \"?\"-specific style due to the `<a>` HTML tag */\n",
              "\n",
              "#sk-container-id-1 a.estimator_doc_link {\n",
              "  float: right;\n",
              "  font-size: 1rem;\n",
              "  line-height: 1em;\n",
              "  font-family: monospace;\n",
              "  background-color: var(--sklearn-color-background);\n",
              "  border-radius: 1rem;\n",
              "  height: 1rem;\n",
              "  width: 1rem;\n",
              "  text-decoration: none;\n",
              "  /* unfitted */\n",
              "  color: var(--sklearn-color-unfitted-level-1);\n",
              "  border: var(--sklearn-color-unfitted-level-1) 1pt solid;\n",
              "}\n",
              "\n",
              "#sk-container-id-1 a.estimator_doc_link.fitted {\n",
              "  /* fitted */\n",
              "  border: var(--sklearn-color-fitted-level-1) 1pt solid;\n",
              "  color: var(--sklearn-color-fitted-level-1);\n",
              "}\n",
              "\n",
              "/* On hover */\n",
              "#sk-container-id-1 a.estimator_doc_link:hover {\n",
              "  /* unfitted */\n",
              "  background-color: var(--sklearn-color-unfitted-level-3);\n",
              "  color: var(--sklearn-color-background);\n",
              "  text-decoration: none;\n",
              "}\n",
              "\n",
              "#sk-container-id-1 a.estimator_doc_link.fitted:hover {\n",
              "  /* fitted */\n",
              "  background-color: var(--sklearn-color-fitted-level-3);\n",
              "}\n",
              "</style><div id=\"sk-container-id-1\" class=\"sk-top-container\"><div class=\"sk-text-repr-fallback\"><pre>LinearRegression()</pre><b>In a Jupyter environment, please rerun this cell to show the HTML representation or trust the notebook. <br />On GitHub, the HTML representation is unable to render, please try loading this page with nbviewer.org.</b></div><div class=\"sk-container\" hidden><div class=\"sk-item\"><div class=\"sk-estimator fitted sk-toggleable\"><input class=\"sk-toggleable__control sk-hidden--visually\" id=\"sk-estimator-id-1\" type=\"checkbox\" checked><label for=\"sk-estimator-id-1\" class=\"sk-toggleable__label fitted sk-toggleable__label-arrow\"><div><div>LinearRegression</div></div><div><a class=\"sk-estimator-doc-link fitted\" rel=\"noreferrer\" target=\"_blank\" href=\"https://scikit-learn.org/1.6/modules/generated/sklearn.linear_model.LinearRegression.html\">?<span>Documentation for LinearRegression</span></a><span class=\"sk-estimator-doc-link fitted\">i<span>Fitted</span></span></div></label><div class=\"sk-toggleable__content fitted\"><pre>LinearRegression()</pre></div> </div></div></div></div>"
            ]
          },
          "metadata": {},
          "execution_count": 19
        }
      ]
    },
    {
      "cell_type": "code",
      "source": [
        "y_pred_training = model.predict(X_train)\n",
        "print(\"Training:\", y_pred_training)\n",
        "mae_training = mean_absolute_error(y_train, y_pred_training)\n",
        "print(\"mae training:\", mae_training)\n",
        "test_mae = mean_absolute_error(y_test, model.predict(X_test))\n",
        "print(\"test mae:\", test_mae)"
      ],
      "metadata": {
        "colab": {
          "base_uri": "https://localhost:8080/"
        },
        "id": "umlMficVe1Zu",
        "outputId": "6c721d9c-9b52-492b-82fe-d7e0eec807be"
      },
      "execution_count": 20,
      "outputs": [
        {
          "output_type": "stream",
          "name": "stdout",
          "text": [
            "Training: [37.72992988 41.85071058 79.32550697 ... 58.2175662  51.87923289\n",
            " 95.00521122]\n",
            "mae training: 38.022621334507825\n",
            "test mae: 37.88414608484889\n"
          ]
        }
      ]
    },
    {
      "cell_type": "markdown",
      "source": [
        "Both my training and test data have beat the Baseline.\n",
        "\n",
        "My LinearRegression Model also shows that it generalizes well with new data."
      ],
      "metadata": {
        "id": "_hph_8Ktgja4"
      }
    },
    {
      "cell_type": "markdown",
      "source": [
        "COMMUNICATE RESULTS"
      ],
      "metadata": {
        "id": "fclo7y83iOrR"
      }
    },
    {
      "cell_type": "code",
      "source": [
        "#Extract Intercept\n",
        "intercept = model.intercept_.round(2)\n",
        "coefficient = model.coef_.round(2)\n",
        "print(f\"PM2.5 = {intercept} + ({coefficient}*P2.L1)\")"
      ],
      "metadata": {
        "colab": {
          "base_uri": "https://localhost:8080/"
        },
        "id": "ELXqsv8yfI20",
        "outputId": "4361d0c4-c643-429c-c189-624f48e5806f"
      },
      "execution_count": 21,
      "outputs": [
        {
          "output_type": "stream",
          "name": "stdout",
          "text": [
            "PM2.5 = 34.51 + ([0.56]*P2.L1)\n"
          ]
        }
      ]
    },
    {
      "cell_type": "markdown",
      "source": [
        "\n",
        "I want to create a DataFrame with two columns, 'y_test' which will contain my actual values and 'y_pred_test' which will contain my model's predictions"
      ],
      "metadata": {
        "id": "qr93EPVYoJoO"
      }
    },
    {
      "cell_type": "code",
      "source": [
        "df_pred_test = pd.DataFrame(\n",
        "    {\n",
        "        \"y_test\" : y_test,\n",
        "        \"y_pred_test\" : model.predict(X_test)\n",
        "    }\n",
        ")\n",
        "df_pred_test.head()"
      ],
      "metadata": {
        "colab": {
          "base_uri": "https://localhost:8080/",
          "height": 206
        },
        "id": "bm4JSycyn40d",
        "outputId": "91bf7718-6524-42df-ac43-e2d52647ec81"
      },
      "execution_count": 22,
      "outputs": [
        {
          "output_type": "execute_result",
          "data": {
            "text/plain": [
              "                              y_test  y_pred_test\n",
              "2016-05-13 00:00:00+08:00  27.293286    83.372006\n",
              "2016-05-14 00:00:00+08:00  34.210526    49.670676\n",
              "2016-05-15 00:00:00+08:00  43.122378    53.513970\n",
              "2016-05-16 00:00:00+08:00  23.219512    58.465491\n",
              "2016-05-17 00:00:00+08:00  42.939929    47.407243"
            ],
            "text/html": [
              "\n",
              "  <div id=\"df-308777d5-2272-4a97-954a-136a0f11e5f3\" class=\"colab-df-container\">\n",
              "    <div>\n",
              "<style scoped>\n",
              "    .dataframe tbody tr th:only-of-type {\n",
              "        vertical-align: middle;\n",
              "    }\n",
              "\n",
              "    .dataframe tbody tr th {\n",
              "        vertical-align: top;\n",
              "    }\n",
              "\n",
              "    .dataframe thead th {\n",
              "        text-align: right;\n",
              "    }\n",
              "</style>\n",
              "<table border=\"1\" class=\"dataframe\">\n",
              "  <thead>\n",
              "    <tr style=\"text-align: right;\">\n",
              "      <th></th>\n",
              "      <th>y_test</th>\n",
              "      <th>y_pred_test</th>\n",
              "    </tr>\n",
              "  </thead>\n",
              "  <tbody>\n",
              "    <tr>\n",
              "      <th>2016-05-13 00:00:00+08:00</th>\n",
              "      <td>27.293286</td>\n",
              "      <td>83.372006</td>\n",
              "    </tr>\n",
              "    <tr>\n",
              "      <th>2016-05-14 00:00:00+08:00</th>\n",
              "      <td>34.210526</td>\n",
              "      <td>49.670676</td>\n",
              "    </tr>\n",
              "    <tr>\n",
              "      <th>2016-05-15 00:00:00+08:00</th>\n",
              "      <td>43.122378</td>\n",
              "      <td>53.513970</td>\n",
              "    </tr>\n",
              "    <tr>\n",
              "      <th>2016-05-16 00:00:00+08:00</th>\n",
              "      <td>23.219512</td>\n",
              "      <td>58.465491</td>\n",
              "    </tr>\n",
              "    <tr>\n",
              "      <th>2016-05-17 00:00:00+08:00</th>\n",
              "      <td>42.939929</td>\n",
              "      <td>47.407243</td>\n",
              "    </tr>\n",
              "  </tbody>\n",
              "</table>\n",
              "</div>\n",
              "    <div class=\"colab-df-buttons\">\n",
              "\n",
              "  <div class=\"colab-df-container\">\n",
              "    <button class=\"colab-df-convert\" onclick=\"convertToInteractive('df-308777d5-2272-4a97-954a-136a0f11e5f3')\"\n",
              "            title=\"Convert this dataframe to an interactive table.\"\n",
              "            style=\"display:none;\">\n",
              "\n",
              "  <svg xmlns=\"http://www.w3.org/2000/svg\" height=\"24px\" viewBox=\"0 -960 960 960\">\n",
              "    <path d=\"M120-120v-720h720v720H120Zm60-500h600v-160H180v160Zm220 220h160v-160H400v160Zm0 220h160v-160H400v160ZM180-400h160v-160H180v160Zm440 0h160v-160H620v160ZM180-180h160v-160H180v160Zm440 0h160v-160H620v160Z\"/>\n",
              "  </svg>\n",
              "    </button>\n",
              "\n",
              "  <style>\n",
              "    .colab-df-container {\n",
              "      display:flex;\n",
              "      gap: 12px;\n",
              "    }\n",
              "\n",
              "    .colab-df-convert {\n",
              "      background-color: #E8F0FE;\n",
              "      border: none;\n",
              "      border-radius: 50%;\n",
              "      cursor: pointer;\n",
              "      display: none;\n",
              "      fill: #1967D2;\n",
              "      height: 32px;\n",
              "      padding: 0 0 0 0;\n",
              "      width: 32px;\n",
              "    }\n",
              "\n",
              "    .colab-df-convert:hover {\n",
              "      background-color: #E2EBFA;\n",
              "      box-shadow: 0px 1px 2px rgba(60, 64, 67, 0.3), 0px 1px 3px 1px rgba(60, 64, 67, 0.15);\n",
              "      fill: #174EA6;\n",
              "    }\n",
              "\n",
              "    .colab-df-buttons div {\n",
              "      margin-bottom: 4px;\n",
              "    }\n",
              "\n",
              "    [theme=dark] .colab-df-convert {\n",
              "      background-color: #3B4455;\n",
              "      fill: #D2E3FC;\n",
              "    }\n",
              "\n",
              "    [theme=dark] .colab-df-convert:hover {\n",
              "      background-color: #434B5C;\n",
              "      box-shadow: 0px 1px 3px 1px rgba(0, 0, 0, 0.15);\n",
              "      filter: drop-shadow(0px 1px 2px rgba(0, 0, 0, 0.3));\n",
              "      fill: #FFFFFF;\n",
              "    }\n",
              "  </style>\n",
              "\n",
              "    <script>\n",
              "      const buttonEl =\n",
              "        document.querySelector('#df-308777d5-2272-4a97-954a-136a0f11e5f3 button.colab-df-convert');\n",
              "      buttonEl.style.display =\n",
              "        google.colab.kernel.accessAllowed ? 'block' : 'none';\n",
              "\n",
              "      async function convertToInteractive(key) {\n",
              "        const element = document.querySelector('#df-308777d5-2272-4a97-954a-136a0f11e5f3');\n",
              "        const dataTable =\n",
              "          await google.colab.kernel.invokeFunction('convertToInteractive',\n",
              "                                                    [key], {});\n",
              "        if (!dataTable) return;\n",
              "\n",
              "        const docLinkHtml = 'Like what you see? Visit the ' +\n",
              "          '<a target=\"_blank\" href=https://colab.research.google.com/notebooks/data_table.ipynb>data table notebook</a>'\n",
              "          + ' to learn more about interactive tables.';\n",
              "        element.innerHTML = '';\n",
              "        dataTable['output_type'] = 'display_data';\n",
              "        await google.colab.output.renderOutput(dataTable, element);\n",
              "        const docLink = document.createElement('div');\n",
              "        docLink.innerHTML = docLinkHtml;\n",
              "        element.appendChild(docLink);\n",
              "      }\n",
              "    </script>\n",
              "  </div>\n",
              "\n",
              "\n",
              "    <div id=\"df-bc976450-c491-4a21-8882-69731361a215\">\n",
              "      <button class=\"colab-df-quickchart\" onclick=\"quickchart('df-bc976450-c491-4a21-8882-69731361a215')\"\n",
              "                title=\"Suggest charts\"\n",
              "                style=\"display:none;\">\n",
              "\n",
              "<svg xmlns=\"http://www.w3.org/2000/svg\" height=\"24px\"viewBox=\"0 0 24 24\"\n",
              "     width=\"24px\">\n",
              "    <g>\n",
              "        <path d=\"M19 3H5c-1.1 0-2 .9-2 2v14c0 1.1.9 2 2 2h14c1.1 0 2-.9 2-2V5c0-1.1-.9-2-2-2zM9 17H7v-7h2v7zm4 0h-2V7h2v10zm4 0h-2v-4h2v4z\"/>\n",
              "    </g>\n",
              "</svg>\n",
              "      </button>\n",
              "\n",
              "<style>\n",
              "  .colab-df-quickchart {\n",
              "      --bg-color: #E8F0FE;\n",
              "      --fill-color: #1967D2;\n",
              "      --hover-bg-color: #E2EBFA;\n",
              "      --hover-fill-color: #174EA6;\n",
              "      --disabled-fill-color: #AAA;\n",
              "      --disabled-bg-color: #DDD;\n",
              "  }\n",
              "\n",
              "  [theme=dark] .colab-df-quickchart {\n",
              "      --bg-color: #3B4455;\n",
              "      --fill-color: #D2E3FC;\n",
              "      --hover-bg-color: #434B5C;\n",
              "      --hover-fill-color: #FFFFFF;\n",
              "      --disabled-bg-color: #3B4455;\n",
              "      --disabled-fill-color: #666;\n",
              "  }\n",
              "\n",
              "  .colab-df-quickchart {\n",
              "    background-color: var(--bg-color);\n",
              "    border: none;\n",
              "    border-radius: 50%;\n",
              "    cursor: pointer;\n",
              "    display: none;\n",
              "    fill: var(--fill-color);\n",
              "    height: 32px;\n",
              "    padding: 0;\n",
              "    width: 32px;\n",
              "  }\n",
              "\n",
              "  .colab-df-quickchart:hover {\n",
              "    background-color: var(--hover-bg-color);\n",
              "    box-shadow: 0 1px 2px rgba(60, 64, 67, 0.3), 0 1px 3px 1px rgba(60, 64, 67, 0.15);\n",
              "    fill: var(--button-hover-fill-color);\n",
              "  }\n",
              "\n",
              "  .colab-df-quickchart-complete:disabled,\n",
              "  .colab-df-quickchart-complete:disabled:hover {\n",
              "    background-color: var(--disabled-bg-color);\n",
              "    fill: var(--disabled-fill-color);\n",
              "    box-shadow: none;\n",
              "  }\n",
              "\n",
              "  .colab-df-spinner {\n",
              "    border: 2px solid var(--fill-color);\n",
              "    border-color: transparent;\n",
              "    border-bottom-color: var(--fill-color);\n",
              "    animation:\n",
              "      spin 1s steps(1) infinite;\n",
              "  }\n",
              "\n",
              "  @keyframes spin {\n",
              "    0% {\n",
              "      border-color: transparent;\n",
              "      border-bottom-color: var(--fill-color);\n",
              "      border-left-color: var(--fill-color);\n",
              "    }\n",
              "    20% {\n",
              "      border-color: transparent;\n",
              "      border-left-color: var(--fill-color);\n",
              "      border-top-color: var(--fill-color);\n",
              "    }\n",
              "    30% {\n",
              "      border-color: transparent;\n",
              "      border-left-color: var(--fill-color);\n",
              "      border-top-color: var(--fill-color);\n",
              "      border-right-color: var(--fill-color);\n",
              "    }\n",
              "    40% {\n",
              "      border-color: transparent;\n",
              "      border-right-color: var(--fill-color);\n",
              "      border-top-color: var(--fill-color);\n",
              "    }\n",
              "    60% {\n",
              "      border-color: transparent;\n",
              "      border-right-color: var(--fill-color);\n",
              "    }\n",
              "    80% {\n",
              "      border-color: transparent;\n",
              "      border-right-color: var(--fill-color);\n",
              "      border-bottom-color: var(--fill-color);\n",
              "    }\n",
              "    90% {\n",
              "      border-color: transparent;\n",
              "      border-bottom-color: var(--fill-color);\n",
              "    }\n",
              "  }\n",
              "</style>\n",
              "\n",
              "      <script>\n",
              "        async function quickchart(key) {\n",
              "          const quickchartButtonEl =\n",
              "            document.querySelector('#' + key + ' button');\n",
              "          quickchartButtonEl.disabled = true;  // To prevent multiple clicks.\n",
              "          quickchartButtonEl.classList.add('colab-df-spinner');\n",
              "          try {\n",
              "            const charts = await google.colab.kernel.invokeFunction(\n",
              "                'suggestCharts', [key], {});\n",
              "          } catch (error) {\n",
              "            console.error('Error during call to suggestCharts:', error);\n",
              "          }\n",
              "          quickchartButtonEl.classList.remove('colab-df-spinner');\n",
              "          quickchartButtonEl.classList.add('colab-df-quickchart-complete');\n",
              "        }\n",
              "        (() => {\n",
              "          let quickchartButtonEl =\n",
              "            document.querySelector('#df-bc976450-c491-4a21-8882-69731361a215 button');\n",
              "          quickchartButtonEl.style.display =\n",
              "            google.colab.kernel.accessAllowed ? 'block' : 'none';\n",
              "        })();\n",
              "      </script>\n",
              "    </div>\n",
              "\n",
              "    </div>\n",
              "  </div>\n"
            ],
            "application/vnd.google.colaboratory.intrinsic+json": {
              "type": "dataframe",
              "variable_name": "df_pred_test",
              "summary": "{\n  \"name\": \"df_pred_test\",\n  \"rows\": 293,\n  \"fields\": [\n    {\n      \"column\": \"y_test\",\n      \"properties\": {\n        \"dtype\": \"number\",\n        \"std\": 59.55221389464552,\n        \"min\": 5.610526315789474,\n        \"max\": 315.7536231884058,\n        \"num_unique_values\": 293,\n        \"samples\": [\n          75.10175438596491,\n          197.84,\n          51.92075471698113\n        ],\n        \"semantic_type\": \"\",\n        \"description\": \"\"\n      }\n    },\n    {\n      \"column\": \"y_pred_test\",\n      \"properties\": {\n        \"dtype\": \"number\",\n        \"std\": 33.03396167424216,\n        \"min\": 37.6234987120086,\n        \"max\": 209.94237798457578,\n        \"num_unique_values\": 293,\n        \"samples\": [\n          79.79446901390935,\n          43.41529538273041,\n          54.0730276435713\n        ],\n        \"semantic_type\": \"\",\n        \"description\": \"\"\n      }\n    }\n  ]\n}"
            }
          },
          "metadata": {},
          "execution_count": 22
        }
      ]
    },
    {
      "cell_type": "code",
      "source": [
        "#Plot Time Series Predictions\n",
        "fig = px.line(df_pred_test, labels = {\"value\":\"PM2.5\"})\n",
        "fig.show()"
      ],
      "metadata": {
        "colab": {
          "base_uri": "https://localhost:8080/",
          "height": 542
        },
        "id": "BJ3Jnt9Bo1wb",
        "outputId": "e3908042-b662-4c03-a95d-4929ff8cb1d8"
      },
      "execution_count": 23,
      "outputs": [
        {
          "output_type": "display_data",
          "data": {
            "text/html": [
              "<html>\n",
              "<head><meta charset=\"utf-8\" /></head>\n",
              "<body>\n",
              "    <div>            <script src=\"https://cdnjs.cloudflare.com/ajax/libs/mathjax/2.7.5/MathJax.js?config=TeX-AMS-MML_SVG\"></script><script type=\"text/javascript\">if (window.MathJax && window.MathJax.Hub && window.MathJax.Hub.Config) {window.MathJax.Hub.Config({SVG: {font: \"STIX-Web\"}});}</script>                <script type=\"text/javascript\">window.PlotlyConfig = {MathJaxConfig: 'local'};</script>\n",
              "        <script charset=\"utf-8\" src=\"https://cdn.plot.ly/plotly-2.35.2.min.js\"></script>                <div id=\"e3562af1-e931-40fd-8a6c-6801eba5ecb1\" class=\"plotly-graph-div\" style=\"height:525px; width:100%;\"></div>            <script type=\"text/javascript\">                                    window.PLOTLYENV=window.PLOTLYENV || {};                                    if (document.getElementById(\"e3562af1-e931-40fd-8a6c-6801eba5ecb1\")) {                    Plotly.newPlot(                        \"e3562af1-e931-40fd-8a6c-6801eba5ecb1\",                        [{\"hovertemplate\":\"variable=y_test\\u003cbr\\u003eindex=%{x}\\u003cbr\\u003ePM2.5=%{y}\\u003cextra\\u003e\\u003c\\u002fextra\\u003e\",\"legendgroup\":\"y_test\",\"line\":{\"color\":\"#636efa\",\"dash\":\"solid\"},\"marker\":{\"symbol\":\"circle\"},\"mode\":\"lines\",\"name\":\"y_test\",\"orientation\":\"v\",\"showlegend\":true,\"x\":[\"2016-05-13T00:00:00+08:00\",\"2016-05-14T00:00:00+08:00\",\"2016-05-15T00:00:00+08:00\",\"2016-05-16T00:00:00+08:00\",\"2016-05-17T00:00:00+08:00\",\"2016-05-18T00:00:00+08:00\",\"2016-05-19T00:00:00+08:00\",\"2016-05-20T00:00:00+08:00\",\"2016-05-21T00:00:00+08:00\",\"2016-05-22T00:00:00+08:00\",\"2016-05-23T00:00:00+08:00\",\"2016-05-24T00:00:00+08:00\",\"2016-05-25T00:00:00+08:00\",\"2016-05-26T00:00:00+08:00\",\"2016-05-27T00:00:00+08:00\",\"2016-05-28T00:00:00+08:00\",\"2016-05-29T00:00:00+08:00\",\"2016-05-30T00:00:00+08:00\",\"2016-05-31T00:00:00+08:00\",\"2016-06-01T00:00:00+08:00\",\"2016-06-02T00:00:00+08:00\",\"2016-06-03T00:00:00+08:00\",\"2016-06-04T00:00:00+08:00\",\"2016-06-05T00:00:00+08:00\",\"2016-06-06T00:00:00+08:00\",\"2016-06-07T00:00:00+08:00\",\"2016-06-08T00:00:00+08:00\",\"2016-06-09T00:00:00+08:00\",\"2016-06-10T00:00:00+08:00\",\"2016-06-11T00:00:00+08:00\",\"2016-06-12T00:00:00+08:00\",\"2016-06-13T00:00:00+08:00\",\"2016-06-14T00:00:00+08:00\",\"2016-06-15T00:00:00+08:00\",\"2016-06-16T00:00:00+08:00\",\"2016-06-17T00:00:00+08:00\",\"2016-06-18T00:00:00+08:00\",\"2016-06-19T00:00:00+08:00\",\"2016-06-20T00:00:00+08:00\",\"2016-06-21T00:00:00+08:00\",\"2016-06-22T00:00:00+08:00\",\"2016-06-23T00:00:00+08:00\",\"2016-06-24T00:00:00+08:00\",\"2016-06-25T00:00:00+08:00\",\"2016-06-26T00:00:00+08:00\",\"2016-06-27T00:00:00+08:00\",\"2016-06-28T00:00:00+08:00\",\"2016-06-29T00:00:00+08:00\",\"2016-06-30T00:00:00+08:00\",\"2016-07-01T00:00:00+08:00\",\"2016-07-02T00:00:00+08:00\",\"2016-07-03T00:00:00+08:00\",\"2016-07-04T00:00:00+08:00\",\"2016-07-05T00:00:00+08:00\",\"2016-07-06T00:00:00+08:00\",\"2016-07-07T00:00:00+08:00\",\"2016-07-08T00:00:00+08:00\",\"2016-07-09T00:00:00+08:00\",\"2016-07-10T00:00:00+08:00\",\"2016-07-11T00:00:00+08:00\",\"2016-07-12T00:00:00+08:00\",\"2016-07-13T00:00:00+08:00\",\"2016-07-14T00:00:00+08:00\",\"2016-07-15T00:00:00+08:00\",\"2016-07-16T00:00:00+08:00\",\"2016-07-17T00:00:00+08:00\",\"2016-07-18T00:00:00+08:00\",\"2016-07-19T00:00:00+08:00\",\"2016-07-20T00:00:00+08:00\",\"2016-07-21T00:00:00+08:00\",\"2016-07-22T00:00:00+08:00\",\"2016-07-23T00:00:00+08:00\",\"2016-07-24T00:00:00+08:00\",\"2016-07-25T00:00:00+08:00\",\"2016-07-26T00:00:00+08:00\",\"2016-07-27T00:00:00+08:00\",\"2016-07-28T00:00:00+08:00\",\"2016-07-29T00:00:00+08:00\",\"2016-07-30T00:00:00+08:00\",\"2016-07-31T00:00:00+08:00\",\"2016-08-01T00:00:00+08:00\",\"2016-08-02T00:00:00+08:00\",\"2016-08-03T00:00:00+08:00\",\"2016-08-04T00:00:00+08:00\",\"2016-08-05T00:00:00+08:00\",\"2016-08-06T00:00:00+08:00\",\"2016-08-07T00:00:00+08:00\",\"2016-08-08T00:00:00+08:00\",\"2016-08-09T00:00:00+08:00\",\"2016-08-10T00:00:00+08:00\",\"2016-08-11T00:00:00+08:00\",\"2016-08-12T00:00:00+08:00\",\"2016-08-13T00:00:00+08:00\",\"2016-08-14T00:00:00+08:00\",\"2016-08-15T00:00:00+08:00\",\"2016-08-16T00:00:00+08:00\",\"2016-08-17T00:00:00+08:00\",\"2016-08-18T00:00:00+08:00\",\"2016-08-19T00:00:00+08:00\",\"2016-08-20T00:00:00+08:00\",\"2016-08-21T00:00:00+08:00\",\"2016-08-22T00:00:00+08:00\",\"2016-08-23T00:00:00+08:00\",\"2016-08-24T00:00:00+08:00\",\"2016-08-25T00:00:00+08:00\",\"2016-08-26T00:00:00+08:00\",\"2016-08-27T00:00:00+08:00\",\"2016-08-28T00:00:00+08:00\",\"2016-08-29T00:00:00+08:00\",\"2016-08-30T00:00:00+08:00\",\"2016-08-31T00:00:00+08:00\",\"2016-09-01T00:00:00+08:00\",\"2016-09-02T00:00:00+08:00\",\"2016-09-03T00:00:00+08:00\",\"2016-09-04T00:00:00+08:00\",\"2016-09-05T00:00:00+08:00\",\"2016-09-06T00:00:00+08:00\",\"2016-09-07T00:00:00+08:00\",\"2016-09-08T00:00:00+08:00\",\"2016-09-09T00:00:00+08:00\",\"2016-09-10T00:00:00+08:00\",\"2016-09-11T00:00:00+08:00\",\"2016-09-12T00:00:00+08:00\",\"2016-09-13T00:00:00+08:00\",\"2016-09-14T00:00:00+08:00\",\"2016-09-15T00:00:00+08:00\",\"2016-09-16T00:00:00+08:00\",\"2016-09-17T00:00:00+08:00\",\"2016-09-18T00:00:00+08:00\",\"2016-09-19T00:00:00+08:00\",\"2016-09-20T00:00:00+08:00\",\"2016-09-21T00:00:00+08:00\",\"2016-09-22T00:00:00+08:00\",\"2016-09-23T00:00:00+08:00\",\"2016-09-24T00:00:00+08:00\",\"2016-09-25T00:00:00+08:00\",\"2016-09-26T00:00:00+08:00\",\"2016-09-27T00:00:00+08:00\",\"2016-09-28T00:00:00+08:00\",\"2016-09-29T00:00:00+08:00\",\"2016-09-30T00:00:00+08:00\",\"2016-10-01T00:00:00+08:00\",\"2016-10-02T00:00:00+08:00\",\"2016-10-03T00:00:00+08:00\",\"2016-10-04T00:00:00+08:00\",\"2016-10-05T00:00:00+08:00\",\"2016-10-06T00:00:00+08:00\",\"2016-10-07T00:00:00+08:00\",\"2016-10-08T00:00:00+08:00\",\"2016-10-09T00:00:00+08:00\",\"2016-10-10T00:00:00+08:00\",\"2016-10-11T00:00:00+08:00\",\"2016-10-12T00:00:00+08:00\",\"2016-10-13T00:00:00+08:00\",\"2016-10-14T00:00:00+08:00\",\"2016-10-15T00:00:00+08:00\",\"2016-10-16T00:00:00+08:00\",\"2016-10-17T00:00:00+08:00\",\"2016-10-18T00:00:00+08:00\",\"2016-10-19T00:00:00+08:00\",\"2016-10-20T00:00:00+08:00\",\"2016-10-21T00:00:00+08:00\",\"2016-10-22T00:00:00+08:00\",\"2016-10-23T00:00:00+08:00\",\"2016-10-24T00:00:00+08:00\",\"2016-10-25T00:00:00+08:00\",\"2016-10-26T00:00:00+08:00\",\"2016-10-27T00:00:00+08:00\",\"2016-10-28T00:00:00+08:00\",\"2016-10-29T00:00:00+08:00\",\"2016-10-30T00:00:00+08:00\",\"2016-10-31T00:00:00+08:00\",\"2016-11-01T00:00:00+08:00\",\"2016-11-02T00:00:00+08:00\",\"2016-11-03T00:00:00+08:00\",\"2016-11-04T00:00:00+08:00\",\"2016-11-05T00:00:00+08:00\",\"2016-11-06T00:00:00+08:00\",\"2016-11-07T00:00:00+08:00\",\"2016-11-08T00:00:00+08:00\",\"2016-11-09T00:00:00+08:00\",\"2016-11-10T00:00:00+08:00\",\"2016-11-11T00:00:00+08:00\",\"2016-11-12T00:00:00+08:00\",\"2016-11-13T00:00:00+08:00\",\"2016-11-14T00:00:00+08:00\",\"2016-11-15T00:00:00+08:00\",\"2016-11-16T00:00:00+08:00\",\"2016-11-17T00:00:00+08:00\",\"2016-11-18T00:00:00+08:00\",\"2016-11-19T00:00:00+08:00\",\"2016-11-20T00:00:00+08:00\",\"2016-11-21T00:00:00+08:00\",\"2016-11-22T00:00:00+08:00\",\"2016-11-23T00:00:00+08:00\",\"2016-11-24T00:00:00+08:00\",\"2016-11-25T00:00:00+08:00\",\"2016-11-26T00:00:00+08:00\",\"2016-11-27T00:00:00+08:00\",\"2016-11-28T00:00:00+08:00\",\"2016-11-29T00:00:00+08:00\",\"2016-11-30T00:00:00+08:00\",\"2016-12-01T00:00:00+08:00\",\"2016-12-02T00:00:00+08:00\",\"2016-12-03T00:00:00+08:00\",\"2016-12-04T00:00:00+08:00\",\"2016-12-05T00:00:00+08:00\",\"2016-12-06T00:00:00+08:00\",\"2016-12-07T00:00:00+08:00\",\"2016-12-08T00:00:00+08:00\",\"2016-12-09T00:00:00+08:00\",\"2016-12-10T00:00:00+08:00\",\"2016-12-11T00:00:00+08:00\",\"2016-12-12T00:00:00+08:00\",\"2016-12-13T00:00:00+08:00\",\"2016-12-14T00:00:00+08:00\",\"2016-12-15T00:00:00+08:00\",\"2016-12-16T00:00:00+08:00\",\"2016-12-17T00:00:00+08:00\",\"2016-12-18T00:00:00+08:00\",\"2016-12-19T00:00:00+08:00\",\"2016-12-20T00:00:00+08:00\",\"2016-12-21T00:00:00+08:00\",\"2016-12-22T00:00:00+08:00\",\"2016-12-23T00:00:00+08:00\",\"2016-12-24T00:00:00+08:00\",\"2016-12-25T00:00:00+08:00\",\"2016-12-26T00:00:00+08:00\",\"2016-12-27T00:00:00+08:00\",\"2016-12-28T00:00:00+08:00\",\"2016-12-29T00:00:00+08:00\",\"2016-12-30T00:00:00+08:00\",\"2016-12-31T00:00:00+08:00\",\"2017-01-01T00:00:00+08:00\",\"2017-01-02T00:00:00+08:00\",\"2017-01-03T00:00:00+08:00\",\"2017-01-04T00:00:00+08:00\",\"2017-01-05T00:00:00+08:00\",\"2017-01-06T00:00:00+08:00\",\"2017-01-07T00:00:00+08:00\",\"2017-01-08T00:00:00+08:00\",\"2017-01-09T00:00:00+08:00\",\"2017-01-10T00:00:00+08:00\",\"2017-01-11T00:00:00+08:00\",\"2017-01-12T00:00:00+08:00\",\"2017-01-13T00:00:00+08:00\",\"2017-01-14T00:00:00+08:00\",\"2017-01-15T00:00:00+08:00\",\"2017-01-16T00:00:00+08:00\",\"2017-01-17T00:00:00+08:00\",\"2017-01-18T00:00:00+08:00\",\"2017-01-19T00:00:00+08:00\",\"2017-01-20T00:00:00+08:00\",\"2017-01-21T00:00:00+08:00\",\"2017-01-22T00:00:00+08:00\",\"2017-01-23T00:00:00+08:00\",\"2017-01-24T00:00:00+08:00\",\"2017-01-25T00:00:00+08:00\",\"2017-01-26T00:00:00+08:00\",\"2017-01-27T00:00:00+08:00\",\"2017-01-28T00:00:00+08:00\",\"2017-01-29T00:00:00+08:00\",\"2017-01-30T00:00:00+08:00\",\"2017-01-31T00:00:00+08:00\",\"2017-02-01T00:00:00+08:00\",\"2017-02-02T00:00:00+08:00\",\"2017-02-03T00:00:00+08:00\",\"2017-02-04T00:00:00+08:00\",\"2017-02-05T00:00:00+08:00\",\"2017-02-06T00:00:00+08:00\",\"2017-02-07T00:00:00+08:00\",\"2017-02-08T00:00:00+08:00\",\"2017-02-09T00:00:00+08:00\",\"2017-02-10T00:00:00+08:00\",\"2017-02-11T00:00:00+08:00\",\"2017-02-12T00:00:00+08:00\",\"2017-02-13T00:00:00+08:00\",\"2017-02-14T00:00:00+08:00\",\"2017-02-15T00:00:00+08:00\",\"2017-02-16T00:00:00+08:00\",\"2017-02-17T00:00:00+08:00\",\"2017-02-18T00:00:00+08:00\",\"2017-02-19T00:00:00+08:00\",\"2017-02-20T00:00:00+08:00\",\"2017-02-21T00:00:00+08:00\",\"2017-02-22T00:00:00+08:00\",\"2017-02-23T00:00:00+08:00\",\"2017-02-24T00:00:00+08:00\",\"2017-02-25T00:00:00+08:00\",\"2017-02-26T00:00:00+08:00\",\"2017-02-27T00:00:00+08:00\",\"2017-02-28T00:00:00+08:00\",\"2017-03-01T00:00:00+08:00\"],\"xaxis\":\"x\",\"y\":[27.29328621908127,34.21052631578947,43.12237762237762,23.21951219512195,42.93992932862191,59.767361111111114,80.7482269503546,89.39372822299651,75.06338028169014,46.45644599303136,66.90243902439025,23.95744680851064,11.923076923076923,20.88111888111888,33.37366548042704,52.35664335664335,37.25874125874126,52.208333333333336,77.886925795053,31.746323529411764,50.02826855123675,65.13333333333334,92.26690391459074,79.13636363636364,70.32699619771863,68.37323943661971,95.2937062937063,144.2334494773519,62.289198606271775,11.946808510638299,56.19298245614035,45.861702127659576,44.45804195804196,18.094405594405593,24.738515901060072,23.366197183098592,30.301754385964912,58.201388888888886,87.81003584229391,82.32584269662921,53.17132867132867,79.23263888888889,31.446043165467625,10.244604316546763,35.21673003802282,51.92075471698113,56.326388888888886,105.07638888888889,81.37847222222223,25.167832167832167,40.30742049469965,57.06643356643357,133.52482269503545,93.52982456140352,84.375,93.45486111111111,91.99305555555556,87.28472222222223,103.10452961672473,78.7127659574468,57.291666666666664,13.869257950530036,30.224561403508773,36.67368421052632,32.41811846689895,59.01052631578948,104.43636363636364,101.6118881118881,62.88461538461539,10.70486111111111,67.01773049645391,105.3035019455253,73.00408163265305,63.226190476190474,19.34251968503937,40.3936170212766,36.41729323308271,99.23484848484848,148.3206106870229,65.10069444444444,58.76491228070176,67.22857142857143,48.15547703180212,81.51071428571429,75.10175438596491,92.83333333333333,42.017361111111114,27.979166666666668,36.285714285714285,72.14035087719299,84.92605633802818,83.37366548042705,23.81118881118881,14.475694444444445,26.96140350877193,18.205574912891986,41.47222222222222,85.53125,27.045296167247386,43.079861111111114,51.26829268292683,59.49305555555556,53.66202090592334,79.13240418118467,44.21180555555556,8.276223776223777,14.87062937062937,10.662020905923345,15.414893617021276,25.788194444444443,25.327464788732396,7.24113475177305,11.395833333333334,11.67361111111111,69.39857651245552,40.11469534050179,21.18815331010453,43.42857142857143,22.112403100775193,19.31597222222222,13.818181818181818,30.51388888888889,28.704626334519574,69.3719298245614,106.84027777777777,59.513011152416354,135.74021352313167,63.42508710801394,24.926315789473684,11.156716417910447,16.111510791366907,45.20912547528517,88.31046931407943,115.81297709923665,95.41666666666667,177.90357142857144,80.397212543554,48.89122807017544,10.476868327402135,32.417857142857144,83.21804511278195,146.49652777777777,181.77777777777777,147.11111111111111,58.21875,40.958955223880594,78.40625,47.386759581881535,19.383802816901408,24.2265625,56.488461538461536,126.94339622641509,77.81853281853282,117.54615384615384,212.49442379182156,214.8943396226415,146.42708333333334,75.10104529616724,81.88153310104529,194.69148936170214,164.90526315789472,43.71527777777778,23.270833333333332,19.944444444444443,43.39930555555556,87.11578947368422,74.84507042253522,29.434615384615384,17.332075471698115,16.288194444444443,53.68181818181818,5.610526315789474,23.825783972125436,81.96864111498257,138.82867132867133,245.2027972027972,201.00352112676057,107.15972222222223,59.989583333333336,15.972027972027972,102.65384615384616,189.5547703180212,92.94076655052265,64.67361111111111,76.47569444444444,87.76736111111111,18.23263888888889,83.5709219858156,110.97902097902097,161.21875,148.17708333333334,91.36805555555556,16.34375,7.545138888888889,16.24125874125874,30.19148936170213,120.20138888888889,232.7089552238806,117.11406844106465,37.491289198606275,85.46875,120.09722222222223,15.46875,64.34965034965035,130.390243902439,206.96,103.54861111111111,40.148936170212764,104.92932862190813,144.859649122807,9.913194444444445,41.36805555555556,111.86458333333333,216.62020905923345,119.49652777777777,15.92280701754386,37.89824561403509,55.57491289198606,149.73263888888889,215.704280155642,206.82926829268294,239.91954022988506,315.7536231884058,34.98757763975155,15.336879432624114,86.58333333333333,141.4607142857143,97.23239436619718,15.114285714285714,87.28521126760563,16.258064516129032,126.78571428571429,224.7344398340249,245.66666666666666,132.9225806451613,219.91176470588235,199.26829268292684,249.48510638297873,182.01754385964912,198.07986111111111,66.77003484320558,17.121951219512194,33.20701754385965,53.11805555555556,41.78472222222222,30.958333333333332,16.083333333333332,42.19444444444444,86.63541666666667,126.12937062937063,74.63541666666667,59.99652777777778,10.253472222222221,37.642361111111114,11.92361111111111,29.23611111111111,64.83333333333333,141.59420289855072,224.1338028169014,16.03472222222222,197.84,115.56597222222223,9.159722222222221,75.36458333333333,25.206293706293707,70.85106382978724,111.31468531468532,262.2899628252788,44.445692883895134,7.815972222222222,52.0,62.14930555555556,7.855072463768116,6.375,12.496527777777779,96.9578947368421,94.34375,128.00347222222223,223.2237762237762,187.6853146853147,7.947916666666667,66.48611111111111,128.07638888888889,7.604395604395604,46.03468208092485,88.05755395683454,16.329749103942653,30.285211267605632,11.294736842105262,18.964664310954063,60.34057971014493,29.116104868913858,14.166666666666666],\"yaxis\":\"y\",\"type\":\"scatter\"},{\"hovertemplate\":\"variable=y_pred_test\\u003cbr\\u003eindex=%{x}\\u003cbr\\u003ePM2.5=%{y}\\u003cextra\\u003e\\u003c\\u002fextra\\u003e\",\"legendgroup\":\"y_pred_test\",\"line\":{\"color\":\"#EF553B\",\"dash\":\"solid\"},\"marker\":{\"symbol\":\"circle\"},\"mode\":\"lines\",\"name\":\"y_pred_test\",\"orientation\":\"v\",\"showlegend\":true,\"x\":[\"2016-05-13T00:00:00+08:00\",\"2016-05-14T00:00:00+08:00\",\"2016-05-15T00:00:00+08:00\",\"2016-05-16T00:00:00+08:00\",\"2016-05-17T00:00:00+08:00\",\"2016-05-18T00:00:00+08:00\",\"2016-05-19T00:00:00+08:00\",\"2016-05-20T00:00:00+08:00\",\"2016-05-21T00:00:00+08:00\",\"2016-05-22T00:00:00+08:00\",\"2016-05-23T00:00:00+08:00\",\"2016-05-24T00:00:00+08:00\",\"2016-05-25T00:00:00+08:00\",\"2016-05-26T00:00:00+08:00\",\"2016-05-27T00:00:00+08:00\",\"2016-05-28T00:00:00+08:00\",\"2016-05-29T00:00:00+08:00\",\"2016-05-30T00:00:00+08:00\",\"2016-05-31T00:00:00+08:00\",\"2016-06-01T00:00:00+08:00\",\"2016-06-02T00:00:00+08:00\",\"2016-06-03T00:00:00+08:00\",\"2016-06-04T00:00:00+08:00\",\"2016-06-05T00:00:00+08:00\",\"2016-06-06T00:00:00+08:00\",\"2016-06-07T00:00:00+08:00\",\"2016-06-08T00:00:00+08:00\",\"2016-06-09T00:00:00+08:00\",\"2016-06-10T00:00:00+08:00\",\"2016-06-11T00:00:00+08:00\",\"2016-06-12T00:00:00+08:00\",\"2016-06-13T00:00:00+08:00\",\"2016-06-14T00:00:00+08:00\",\"2016-06-15T00:00:00+08:00\",\"2016-06-16T00:00:00+08:00\",\"2016-06-17T00:00:00+08:00\",\"2016-06-18T00:00:00+08:00\",\"2016-06-19T00:00:00+08:00\",\"2016-06-20T00:00:00+08:00\",\"2016-06-21T00:00:00+08:00\",\"2016-06-22T00:00:00+08:00\",\"2016-06-23T00:00:00+08:00\",\"2016-06-24T00:00:00+08:00\",\"2016-06-25T00:00:00+08:00\",\"2016-06-26T00:00:00+08:00\",\"2016-06-27T00:00:00+08:00\",\"2016-06-28T00:00:00+08:00\",\"2016-06-29T00:00:00+08:00\",\"2016-06-30T00:00:00+08:00\",\"2016-07-01T00:00:00+08:00\",\"2016-07-02T00:00:00+08:00\",\"2016-07-03T00:00:00+08:00\",\"2016-07-04T00:00:00+08:00\",\"2016-07-05T00:00:00+08:00\",\"2016-07-06T00:00:00+08:00\",\"2016-07-07T00:00:00+08:00\",\"2016-07-08T00:00:00+08:00\",\"2016-07-09T00:00:00+08:00\",\"2016-07-10T00:00:00+08:00\",\"2016-07-11T00:00:00+08:00\",\"2016-07-12T00:00:00+08:00\",\"2016-07-13T00:00:00+08:00\",\"2016-07-14T00:00:00+08:00\",\"2016-07-15T00:00:00+08:00\",\"2016-07-16T00:00:00+08:00\",\"2016-07-17T00:00:00+08:00\",\"2016-07-18T00:00:00+08:00\",\"2016-07-19T00:00:00+08:00\",\"2016-07-20T00:00:00+08:00\",\"2016-07-21T00:00:00+08:00\",\"2016-07-22T00:00:00+08:00\",\"2016-07-23T00:00:00+08:00\",\"2016-07-24T00:00:00+08:00\",\"2016-07-25T00:00:00+08:00\",\"2016-07-26T00:00:00+08:00\",\"2016-07-27T00:00:00+08:00\",\"2016-07-28T00:00:00+08:00\",\"2016-07-29T00:00:00+08:00\",\"2016-07-30T00:00:00+08:00\",\"2016-07-31T00:00:00+08:00\",\"2016-08-01T00:00:00+08:00\",\"2016-08-02T00:00:00+08:00\",\"2016-08-03T00:00:00+08:00\",\"2016-08-04T00:00:00+08:00\",\"2016-08-05T00:00:00+08:00\",\"2016-08-06T00:00:00+08:00\",\"2016-08-07T00:00:00+08:00\",\"2016-08-08T00:00:00+08:00\",\"2016-08-09T00:00:00+08:00\",\"2016-08-10T00:00:00+08:00\",\"2016-08-11T00:00:00+08:00\",\"2016-08-12T00:00:00+08:00\",\"2016-08-13T00:00:00+08:00\",\"2016-08-14T00:00:00+08:00\",\"2016-08-15T00:00:00+08:00\",\"2016-08-16T00:00:00+08:00\",\"2016-08-17T00:00:00+08:00\",\"2016-08-18T00:00:00+08:00\",\"2016-08-19T00:00:00+08:00\",\"2016-08-20T00:00:00+08:00\",\"2016-08-21T00:00:00+08:00\",\"2016-08-22T00:00:00+08:00\",\"2016-08-23T00:00:00+08:00\",\"2016-08-24T00:00:00+08:00\",\"2016-08-25T00:00:00+08:00\",\"2016-08-26T00:00:00+08:00\",\"2016-08-27T00:00:00+08:00\",\"2016-08-28T00:00:00+08:00\",\"2016-08-29T00:00:00+08:00\",\"2016-08-30T00:00:00+08:00\",\"2016-08-31T00:00:00+08:00\",\"2016-09-01T00:00:00+08:00\",\"2016-09-02T00:00:00+08:00\",\"2016-09-03T00:00:00+08:00\",\"2016-09-04T00:00:00+08:00\",\"2016-09-05T00:00:00+08:00\",\"2016-09-06T00:00:00+08:00\",\"2016-09-07T00:00:00+08:00\",\"2016-09-08T00:00:00+08:00\",\"2016-09-09T00:00:00+08:00\",\"2016-09-10T00:00:00+08:00\",\"2016-09-11T00:00:00+08:00\",\"2016-09-12T00:00:00+08:00\",\"2016-09-13T00:00:00+08:00\",\"2016-09-14T00:00:00+08:00\",\"2016-09-15T00:00:00+08:00\",\"2016-09-16T00:00:00+08:00\",\"2016-09-17T00:00:00+08:00\",\"2016-09-18T00:00:00+08:00\",\"2016-09-19T00:00:00+08:00\",\"2016-09-20T00:00:00+08:00\",\"2016-09-21T00:00:00+08:00\",\"2016-09-22T00:00:00+08:00\",\"2016-09-23T00:00:00+08:00\",\"2016-09-24T00:00:00+08:00\",\"2016-09-25T00:00:00+08:00\",\"2016-09-26T00:00:00+08:00\",\"2016-09-27T00:00:00+08:00\",\"2016-09-28T00:00:00+08:00\",\"2016-09-29T00:00:00+08:00\",\"2016-09-30T00:00:00+08:00\",\"2016-10-01T00:00:00+08:00\",\"2016-10-02T00:00:00+08:00\",\"2016-10-03T00:00:00+08:00\",\"2016-10-04T00:00:00+08:00\",\"2016-10-05T00:00:00+08:00\",\"2016-10-06T00:00:00+08:00\",\"2016-10-07T00:00:00+08:00\",\"2016-10-08T00:00:00+08:00\",\"2016-10-09T00:00:00+08:00\",\"2016-10-10T00:00:00+08:00\",\"2016-10-11T00:00:00+08:00\",\"2016-10-12T00:00:00+08:00\",\"2016-10-13T00:00:00+08:00\",\"2016-10-14T00:00:00+08:00\",\"2016-10-15T00:00:00+08:00\",\"2016-10-16T00:00:00+08:00\",\"2016-10-17T00:00:00+08:00\",\"2016-10-18T00:00:00+08:00\",\"2016-10-19T00:00:00+08:00\",\"2016-10-20T00:00:00+08:00\",\"2016-10-21T00:00:00+08:00\",\"2016-10-22T00:00:00+08:00\",\"2016-10-23T00:00:00+08:00\",\"2016-10-24T00:00:00+08:00\",\"2016-10-25T00:00:00+08:00\",\"2016-10-26T00:00:00+08:00\",\"2016-10-27T00:00:00+08:00\",\"2016-10-28T00:00:00+08:00\",\"2016-10-29T00:00:00+08:00\",\"2016-10-30T00:00:00+08:00\",\"2016-10-31T00:00:00+08:00\",\"2016-11-01T00:00:00+08:00\",\"2016-11-02T00:00:00+08:00\",\"2016-11-03T00:00:00+08:00\",\"2016-11-04T00:00:00+08:00\",\"2016-11-05T00:00:00+08:00\",\"2016-11-06T00:00:00+08:00\",\"2016-11-07T00:00:00+08:00\",\"2016-11-08T00:00:00+08:00\",\"2016-11-09T00:00:00+08:00\",\"2016-11-10T00:00:00+08:00\",\"2016-11-11T00:00:00+08:00\",\"2016-11-12T00:00:00+08:00\",\"2016-11-13T00:00:00+08:00\",\"2016-11-14T00:00:00+08:00\",\"2016-11-15T00:00:00+08:00\",\"2016-11-16T00:00:00+08:00\",\"2016-11-17T00:00:00+08:00\",\"2016-11-18T00:00:00+08:00\",\"2016-11-19T00:00:00+08:00\",\"2016-11-20T00:00:00+08:00\",\"2016-11-21T00:00:00+08:00\",\"2016-11-22T00:00:00+08:00\",\"2016-11-23T00:00:00+08:00\",\"2016-11-24T00:00:00+08:00\",\"2016-11-25T00:00:00+08:00\",\"2016-11-26T00:00:00+08:00\",\"2016-11-27T00:00:00+08:00\",\"2016-11-28T00:00:00+08:00\",\"2016-11-29T00:00:00+08:00\",\"2016-11-30T00:00:00+08:00\",\"2016-12-01T00:00:00+08:00\",\"2016-12-02T00:00:00+08:00\",\"2016-12-03T00:00:00+08:00\",\"2016-12-04T00:00:00+08:00\",\"2016-12-05T00:00:00+08:00\",\"2016-12-06T00:00:00+08:00\",\"2016-12-07T00:00:00+08:00\",\"2016-12-08T00:00:00+08:00\",\"2016-12-09T00:00:00+08:00\",\"2016-12-10T00:00:00+08:00\",\"2016-12-11T00:00:00+08:00\",\"2016-12-12T00:00:00+08:00\",\"2016-12-13T00:00:00+08:00\",\"2016-12-14T00:00:00+08:00\",\"2016-12-15T00:00:00+08:00\",\"2016-12-16T00:00:00+08:00\",\"2016-12-17T00:00:00+08:00\",\"2016-12-18T00:00:00+08:00\",\"2016-12-19T00:00:00+08:00\",\"2016-12-20T00:00:00+08:00\",\"2016-12-21T00:00:00+08:00\",\"2016-12-22T00:00:00+08:00\",\"2016-12-23T00:00:00+08:00\",\"2016-12-24T00:00:00+08:00\",\"2016-12-25T00:00:00+08:00\",\"2016-12-26T00:00:00+08:00\",\"2016-12-27T00:00:00+08:00\",\"2016-12-28T00:00:00+08:00\",\"2016-12-29T00:00:00+08:00\",\"2016-12-30T00:00:00+08:00\",\"2016-12-31T00:00:00+08:00\",\"2017-01-01T00:00:00+08:00\",\"2017-01-02T00:00:00+08:00\",\"2017-01-03T00:00:00+08:00\",\"2017-01-04T00:00:00+08:00\",\"2017-01-05T00:00:00+08:00\",\"2017-01-06T00:00:00+08:00\",\"2017-01-07T00:00:00+08:00\",\"2017-01-08T00:00:00+08:00\",\"2017-01-09T00:00:00+08:00\",\"2017-01-10T00:00:00+08:00\",\"2017-01-11T00:00:00+08:00\",\"2017-01-12T00:00:00+08:00\",\"2017-01-13T00:00:00+08:00\",\"2017-01-14T00:00:00+08:00\",\"2017-01-15T00:00:00+08:00\",\"2017-01-16T00:00:00+08:00\",\"2017-01-17T00:00:00+08:00\",\"2017-01-18T00:00:00+08:00\",\"2017-01-19T00:00:00+08:00\",\"2017-01-20T00:00:00+08:00\",\"2017-01-21T00:00:00+08:00\",\"2017-01-22T00:00:00+08:00\",\"2017-01-23T00:00:00+08:00\",\"2017-01-24T00:00:00+08:00\",\"2017-01-25T00:00:00+08:00\",\"2017-01-26T00:00:00+08:00\",\"2017-01-27T00:00:00+08:00\",\"2017-01-28T00:00:00+08:00\",\"2017-01-29T00:00:00+08:00\",\"2017-01-30T00:00:00+08:00\",\"2017-01-31T00:00:00+08:00\",\"2017-02-01T00:00:00+08:00\",\"2017-02-02T00:00:00+08:00\",\"2017-02-03T00:00:00+08:00\",\"2017-02-04T00:00:00+08:00\",\"2017-02-05T00:00:00+08:00\",\"2017-02-06T00:00:00+08:00\",\"2017-02-07T00:00:00+08:00\",\"2017-02-08T00:00:00+08:00\",\"2017-02-09T00:00:00+08:00\",\"2017-02-10T00:00:00+08:00\",\"2017-02-11T00:00:00+08:00\",\"2017-02-12T00:00:00+08:00\",\"2017-02-13T00:00:00+08:00\",\"2017-02-14T00:00:00+08:00\",\"2017-02-15T00:00:00+08:00\",\"2017-02-16T00:00:00+08:00\",\"2017-02-17T00:00:00+08:00\",\"2017-02-18T00:00:00+08:00\",\"2017-02-19T00:00:00+08:00\",\"2017-02-20T00:00:00+08:00\",\"2017-02-21T00:00:00+08:00\",\"2017-02-22T00:00:00+08:00\",\"2017-02-23T00:00:00+08:00\",\"2017-02-24T00:00:00+08:00\",\"2017-02-25T00:00:00+08:00\",\"2017-02-26T00:00:00+08:00\",\"2017-02-27T00:00:00+08:00\",\"2017-02-28T00:00:00+08:00\",\"2017-03-01T00:00:00+08:00\"],\"xaxis\":\"x\",\"y\":[83.37200636225444,49.670676043206825,53.513969907050566,58.46549146235952,47.4072428689818,58.3641212051389,67.71362540185842,79.37082275380035,84.17435733210857,76.21226008818346,60.31793612691105,71.6779523268704,47.81724736960688,41.130820515936776,46.108006099791425,53.04900092108604,63.596149981859966,55.207591296815316,63.51374731915564,77.78105269825278,52.14483202608284,62.30247960505665,70.69501795537653,85.7707250092265,78.47525395795006,73.58067355479169,72.49514503960424,87.45244934553489,114.64390316904792,69.1147857541461,41.144006044207984,65.72766172853724,59.98748996393489,59.2076011005455,44.559677875618064,48.25121785619759,47.488742644372984,51.34221369170561,66.84355419593332,83.29444061331968,80.24736322838152,64.04879800724567,78.52874553581886,51.97799298854119,40.19824287237962,54.0730276435713,63.35396551078309,65.80178379416046,92.88781424025473,79.72099388451447,48.489750645383076,56.90147065282648,66.21296066939011,108.69407360880824,86.47241746236642,81.3858973229033,86.43076695371076,85.61857188121746,83.00257065009896,91.792227772947,78.23989847840059,66.33810263062871,42.212139871079465,51.29932443072034,54.88252723485323,52.51808860311483,67.29311975449954,92.5322092458718,90.96289991150888,69.44560579489134,40.45396655546868,71.7420095232292,93.01400072572672,75.06809135166203,69.63538863243042,45.25314364503562,56.949362380892346,54.7400736180093,89.64219083028698,116.91477440931958,70.6768834335679,67.15665392409187,71.85915503926239,61.26193625911626,79.79446901390935,76.23358115806505,86.08543935756752,57.85153226507539,50.05175868291306,54.66696692314804,74.58819314572114,81.69207022032575,80.82954496836223,47.73598483486957,42.54908258570076,49.48627839816126,44.621444758596404,57.54864716678217,82.02832240399657,49.532890072041674,58.44186882608001,62.99145050525867,67.56121825048795,64.32143195198194,78.47305404157001,59.07078947603918,39.104589226334745,42.76851272795452,40.43016407132442,43.070911865359484,48.83443067639699,48.578444266509095,38.52948250160263,40.83787824056646,40.992214596384656,73.06483347557548,56.794390460122244,46.27859776936075,58.63561607275893,46.79212100976899,45.23839358583291,42.18376141619018,51.460077929754135,50.45483196805925,73.05002828584037,93.8678500997003,67.57230579723958,109.92496885844541,69.74589776525495,48.35556151764055,40.705022280539374,43.45795994727944,59.62491127522466,83.57248689543306,98.85317947415537,87.5207674666768,133.3513892879082,79.1757953300133,61.67072754170344,40.327291284062916,52.517943408633755,80.74308059880187,115.90129409719623,135.50394049055546,116.242763284444,66.85320021817196,57.26347043767331,78.0695948772597,60.83482847956769,45.27608100229767,47.96677097603155,65.8918331217667,105.03736145069989,77.74305281631791,99.81615133334434,152.57044324211014,153.9038625910671,115.86271000824168,76.23318718005791,80.00049998256658,142.6789391599761,126.12938777883602,58.79491324001414,47.43575745179455,45.58757959087159,58.619355635270935,82.90870977686322,76.0909647550193,50.86042182726358,44.13611896456925,43.55612730741452,64.33243153388219,37.6234987120086,47.74409406509511,80.0488981429277,111.64094962054438,170.74357140727744,146.18597268951635,94.04533690889124,67.837094486513,43.38046177514977,91.54182313710947,139.8249221669469,86.1451304220129,70.4395912864974,76.99695720432322,83.27073006833308,44.63648179814193,80.93914282909338,96.16738085575034,124.08112095556088,116.83502904989635,85.27131508062652,43.586994578578164,38.698390508036645,43.530049320019714,51.28094924443748,101.29142881455577,163.80185685897743,99.57607998077901,55.33679746254579,81.99359672393747,101.23355268112395,43.10083505775083,70.2595951624304,106.95246752446057,149.4954571636103,92.03896428325463,56.81341503768227,92.80610595576547,114.991826505707,40.01410794138681,57.49077103335034,96.65940893556203,154.86277442912893,100.8998003116671,43.353114077267875,55.56290687502862,65.38425555351186,117.69931264247826,154.353874364121,149.42282120454036,167.80813634629618,209.94237798457578,53.94570807769702,43.02756633564033,82.612871351658,113.10334132659348,88.52960553337013,42.90389084370139,83.00284236903526,43.539386791400375,104.94975164871792,159.37112933810607,171.0013023287417,108.35946137293523,156.69159856164472,145.22186088519615,173.12286898335924,135.63715713452487,144.56155537263615,71.60438712312151,44.01937164370422,52.956409514242075,64.01919888446025,57.722275567077645,51.70701609906326,43.442304244998596,57.949921691909495,82.64180941837392,104.58507997161381,75.97447884702764,67.84095289540844,40.20316997726411,55.42073466093872,41.131117316621044,50.75013069299041,70.52833469109287,113.17750905236772,159.03740887589362,43.41529538273041,144.42828592938713,98.71594087683955,39.59547057622994,76.37961178105041,48.51112029465021,73.87185123352037,96.3538796129908,180.23738655164652,59.200739820579926,38.848868454959394,63.39799505229199,69.0370596529995,38.87059297460989,38.04824860915247,41.44943605049608,88.37709055248493,86.924643292329,105.6263512085995,158.53178819880344,138.78623227597024,38.92217822397304,71.44663600821116,105.66686450200177,38.73131418394127,60.08359950815452,83.43196437098956,43.57921552838572,51.333022155140426,40.781707930014726,45.04320308777008,68.03211189264196,50.68345391904424],\"yaxis\":\"y\",\"type\":\"scatter\"}],                        {\"template\":{\"data\":{\"histogram2dcontour\":[{\"type\":\"histogram2dcontour\",\"colorbar\":{\"outlinewidth\":0,\"ticks\":\"\"},\"colorscale\":[[0.0,\"#0d0887\"],[0.1111111111111111,\"#46039f\"],[0.2222222222222222,\"#7201a8\"],[0.3333333333333333,\"#9c179e\"],[0.4444444444444444,\"#bd3786\"],[0.5555555555555556,\"#d8576b\"],[0.6666666666666666,\"#ed7953\"],[0.7777777777777778,\"#fb9f3a\"],[0.8888888888888888,\"#fdca26\"],[1.0,\"#f0f921\"]]}],\"choropleth\":[{\"type\":\"choropleth\",\"colorbar\":{\"outlinewidth\":0,\"ticks\":\"\"}}],\"histogram2d\":[{\"type\":\"histogram2d\",\"colorbar\":{\"outlinewidth\":0,\"ticks\":\"\"},\"colorscale\":[[0.0,\"#0d0887\"],[0.1111111111111111,\"#46039f\"],[0.2222222222222222,\"#7201a8\"],[0.3333333333333333,\"#9c179e\"],[0.4444444444444444,\"#bd3786\"],[0.5555555555555556,\"#d8576b\"],[0.6666666666666666,\"#ed7953\"],[0.7777777777777778,\"#fb9f3a\"],[0.8888888888888888,\"#fdca26\"],[1.0,\"#f0f921\"]]}],\"heatmap\":[{\"type\":\"heatmap\",\"colorbar\":{\"outlinewidth\":0,\"ticks\":\"\"},\"colorscale\":[[0.0,\"#0d0887\"],[0.1111111111111111,\"#46039f\"],[0.2222222222222222,\"#7201a8\"],[0.3333333333333333,\"#9c179e\"],[0.4444444444444444,\"#bd3786\"],[0.5555555555555556,\"#d8576b\"],[0.6666666666666666,\"#ed7953\"],[0.7777777777777778,\"#fb9f3a\"],[0.8888888888888888,\"#fdca26\"],[1.0,\"#f0f921\"]]}],\"heatmapgl\":[{\"type\":\"heatmapgl\",\"colorbar\":{\"outlinewidth\":0,\"ticks\":\"\"},\"colorscale\":[[0.0,\"#0d0887\"],[0.1111111111111111,\"#46039f\"],[0.2222222222222222,\"#7201a8\"],[0.3333333333333333,\"#9c179e\"],[0.4444444444444444,\"#bd3786\"],[0.5555555555555556,\"#d8576b\"],[0.6666666666666666,\"#ed7953\"],[0.7777777777777778,\"#fb9f3a\"],[0.8888888888888888,\"#fdca26\"],[1.0,\"#f0f921\"]]}],\"contourcarpet\":[{\"type\":\"contourcarpet\",\"colorbar\":{\"outlinewidth\":0,\"ticks\":\"\"}}],\"contour\":[{\"type\":\"contour\",\"colorbar\":{\"outlinewidth\":0,\"ticks\":\"\"},\"colorscale\":[[0.0,\"#0d0887\"],[0.1111111111111111,\"#46039f\"],[0.2222222222222222,\"#7201a8\"],[0.3333333333333333,\"#9c179e\"],[0.4444444444444444,\"#bd3786\"],[0.5555555555555556,\"#d8576b\"],[0.6666666666666666,\"#ed7953\"],[0.7777777777777778,\"#fb9f3a\"],[0.8888888888888888,\"#fdca26\"],[1.0,\"#f0f921\"]]}],\"surface\":[{\"type\":\"surface\",\"colorbar\":{\"outlinewidth\":0,\"ticks\":\"\"},\"colorscale\":[[0.0,\"#0d0887\"],[0.1111111111111111,\"#46039f\"],[0.2222222222222222,\"#7201a8\"],[0.3333333333333333,\"#9c179e\"],[0.4444444444444444,\"#bd3786\"],[0.5555555555555556,\"#d8576b\"],[0.6666666666666666,\"#ed7953\"],[0.7777777777777778,\"#fb9f3a\"],[0.8888888888888888,\"#fdca26\"],[1.0,\"#f0f921\"]]}],\"mesh3d\":[{\"type\":\"mesh3d\",\"colorbar\":{\"outlinewidth\":0,\"ticks\":\"\"}}],\"scatter\":[{\"fillpattern\":{\"fillmode\":\"overlay\",\"size\":10,\"solidity\":0.2},\"type\":\"scatter\"}],\"parcoords\":[{\"type\":\"parcoords\",\"line\":{\"colorbar\":{\"outlinewidth\":0,\"ticks\":\"\"}}}],\"scatterpolargl\":[{\"type\":\"scatterpolargl\",\"marker\":{\"colorbar\":{\"outlinewidth\":0,\"ticks\":\"\"}}}],\"bar\":[{\"error_x\":{\"color\":\"#2a3f5f\"},\"error_y\":{\"color\":\"#2a3f5f\"},\"marker\":{\"line\":{\"color\":\"#E5ECF6\",\"width\":0.5},\"pattern\":{\"fillmode\":\"overlay\",\"size\":10,\"solidity\":0.2}},\"type\":\"bar\"}],\"scattergeo\":[{\"type\":\"scattergeo\",\"marker\":{\"colorbar\":{\"outlinewidth\":0,\"ticks\":\"\"}}}],\"scatterpolar\":[{\"type\":\"scatterpolar\",\"marker\":{\"colorbar\":{\"outlinewidth\":0,\"ticks\":\"\"}}}],\"histogram\":[{\"marker\":{\"pattern\":{\"fillmode\":\"overlay\",\"size\":10,\"solidity\":0.2}},\"type\":\"histogram\"}],\"scattergl\":[{\"type\":\"scattergl\",\"marker\":{\"colorbar\":{\"outlinewidth\":0,\"ticks\":\"\"}}}],\"scatter3d\":[{\"type\":\"scatter3d\",\"line\":{\"colorbar\":{\"outlinewidth\":0,\"ticks\":\"\"}},\"marker\":{\"colorbar\":{\"outlinewidth\":0,\"ticks\":\"\"}}}],\"scattermapbox\":[{\"type\":\"scattermapbox\",\"marker\":{\"colorbar\":{\"outlinewidth\":0,\"ticks\":\"\"}}}],\"scatterternary\":[{\"type\":\"scatterternary\",\"marker\":{\"colorbar\":{\"outlinewidth\":0,\"ticks\":\"\"}}}],\"scattercarpet\":[{\"type\":\"scattercarpet\",\"marker\":{\"colorbar\":{\"outlinewidth\":0,\"ticks\":\"\"}}}],\"carpet\":[{\"aaxis\":{\"endlinecolor\":\"#2a3f5f\",\"gridcolor\":\"white\",\"linecolor\":\"white\",\"minorgridcolor\":\"white\",\"startlinecolor\":\"#2a3f5f\"},\"baxis\":{\"endlinecolor\":\"#2a3f5f\",\"gridcolor\":\"white\",\"linecolor\":\"white\",\"minorgridcolor\":\"white\",\"startlinecolor\":\"#2a3f5f\"},\"type\":\"carpet\"}],\"table\":[{\"cells\":{\"fill\":{\"color\":\"#EBF0F8\"},\"line\":{\"color\":\"white\"}},\"header\":{\"fill\":{\"color\":\"#C8D4E3\"},\"line\":{\"color\":\"white\"}},\"type\":\"table\"}],\"barpolar\":[{\"marker\":{\"line\":{\"color\":\"#E5ECF6\",\"width\":0.5},\"pattern\":{\"fillmode\":\"overlay\",\"size\":10,\"solidity\":0.2}},\"type\":\"barpolar\"}],\"pie\":[{\"automargin\":true,\"type\":\"pie\"}]},\"layout\":{\"autotypenumbers\":\"strict\",\"colorway\":[\"#636efa\",\"#EF553B\",\"#00cc96\",\"#ab63fa\",\"#FFA15A\",\"#19d3f3\",\"#FF6692\",\"#B6E880\",\"#FF97FF\",\"#FECB52\"],\"font\":{\"color\":\"#2a3f5f\"},\"hovermode\":\"closest\",\"hoverlabel\":{\"align\":\"left\"},\"paper_bgcolor\":\"white\",\"plot_bgcolor\":\"#E5ECF6\",\"polar\":{\"bgcolor\":\"#E5ECF6\",\"angularaxis\":{\"gridcolor\":\"white\",\"linecolor\":\"white\",\"ticks\":\"\"},\"radialaxis\":{\"gridcolor\":\"white\",\"linecolor\":\"white\",\"ticks\":\"\"}},\"ternary\":{\"bgcolor\":\"#E5ECF6\",\"aaxis\":{\"gridcolor\":\"white\",\"linecolor\":\"white\",\"ticks\":\"\"},\"baxis\":{\"gridcolor\":\"white\",\"linecolor\":\"white\",\"ticks\":\"\"},\"caxis\":{\"gridcolor\":\"white\",\"linecolor\":\"white\",\"ticks\":\"\"}},\"coloraxis\":{\"colorbar\":{\"outlinewidth\":0,\"ticks\":\"\"}},\"colorscale\":{\"sequential\":[[0.0,\"#0d0887\"],[0.1111111111111111,\"#46039f\"],[0.2222222222222222,\"#7201a8\"],[0.3333333333333333,\"#9c179e\"],[0.4444444444444444,\"#bd3786\"],[0.5555555555555556,\"#d8576b\"],[0.6666666666666666,\"#ed7953\"],[0.7777777777777778,\"#fb9f3a\"],[0.8888888888888888,\"#fdca26\"],[1.0,\"#f0f921\"]],\"sequentialminus\":[[0.0,\"#0d0887\"],[0.1111111111111111,\"#46039f\"],[0.2222222222222222,\"#7201a8\"],[0.3333333333333333,\"#9c179e\"],[0.4444444444444444,\"#bd3786\"],[0.5555555555555556,\"#d8576b\"],[0.6666666666666666,\"#ed7953\"],[0.7777777777777778,\"#fb9f3a\"],[0.8888888888888888,\"#fdca26\"],[1.0,\"#f0f921\"]],\"diverging\":[[0,\"#8e0152\"],[0.1,\"#c51b7d\"],[0.2,\"#de77ae\"],[0.3,\"#f1b6da\"],[0.4,\"#fde0ef\"],[0.5,\"#f7f7f7\"],[0.6,\"#e6f5d0\"],[0.7,\"#b8e186\"],[0.8,\"#7fbc41\"],[0.9,\"#4d9221\"],[1,\"#276419\"]]},\"xaxis\":{\"gridcolor\":\"white\",\"linecolor\":\"white\",\"ticks\":\"\",\"title\":{\"standoff\":15},\"zerolinecolor\":\"white\",\"automargin\":true,\"zerolinewidth\":2},\"yaxis\":{\"gridcolor\":\"white\",\"linecolor\":\"white\",\"ticks\":\"\",\"title\":{\"standoff\":15},\"zerolinecolor\":\"white\",\"automargin\":true,\"zerolinewidth\":2},\"scene\":{\"xaxis\":{\"backgroundcolor\":\"#E5ECF6\",\"gridcolor\":\"white\",\"linecolor\":\"white\",\"showbackground\":true,\"ticks\":\"\",\"zerolinecolor\":\"white\",\"gridwidth\":2},\"yaxis\":{\"backgroundcolor\":\"#E5ECF6\",\"gridcolor\":\"white\",\"linecolor\":\"white\",\"showbackground\":true,\"ticks\":\"\",\"zerolinecolor\":\"white\",\"gridwidth\":2},\"zaxis\":{\"backgroundcolor\":\"#E5ECF6\",\"gridcolor\":\"white\",\"linecolor\":\"white\",\"showbackground\":true,\"ticks\":\"\",\"zerolinecolor\":\"white\",\"gridwidth\":2}},\"shapedefaults\":{\"line\":{\"color\":\"#2a3f5f\"}},\"annotationdefaults\":{\"arrowcolor\":\"#2a3f5f\",\"arrowhead\":0,\"arrowwidth\":1},\"geo\":{\"bgcolor\":\"white\",\"landcolor\":\"#E5ECF6\",\"subunitcolor\":\"white\",\"showland\":true,\"showlakes\":true,\"lakecolor\":\"white\"},\"title\":{\"x\":0.05},\"mapbox\":{\"style\":\"light\"}}},\"xaxis\":{\"anchor\":\"y\",\"domain\":[0.0,1.0],\"title\":{\"text\":\"index\"}},\"yaxis\":{\"anchor\":\"x\",\"domain\":[0.0,1.0],\"title\":{\"text\":\"PM2.5\"}},\"legend\":{\"title\":{\"text\":\"variable\"},\"tracegroupgap\":0},\"margin\":{\"t\":60}},                        {\"responsive\": true}                    ).then(function(){\n",
              "                            \n",
              "var gd = document.getElementById('e3562af1-e931-40fd-8a6c-6801eba5ecb1');\n",
              "var x = new MutationObserver(function (mutations, observer) {{\n",
              "        var display = window.getComputedStyle(gd).display;\n",
              "        if (!display || display === 'none') {{\n",
              "            console.log([gd, 'removed!']);\n",
              "            Plotly.purge(gd);\n",
              "            observer.disconnect();\n",
              "        }}\n",
              "}});\n",
              "\n",
              "// Listen for the removal of the full notebook cells\n",
              "var notebookContainer = gd.closest('#notebook-container');\n",
              "if (notebookContainer) {{\n",
              "    x.observe(notebookContainer, {childList: true});\n",
              "}}\n",
              "\n",
              "// Listen for the clearing of the current output cell\n",
              "var outputEl = gd.closest('.output');\n",
              "if (outputEl) {{\n",
              "    x.observe(outputEl, {childList: true});\n",
              "}}\n",
              "\n",
              "                        })                };                            </script>        </div>\n",
              "</body>\n",
              "</html>"
            ]
          },
          "metadata": {}
        }
      ]
    },
    {
      "cell_type": "markdown",
      "source": [
        "The two lines track closely, with predictions smoothing out some volatility in actuals e.g., underestimating peaks (>150 μg/m³) but capturing trends accurately in moderate ranges.\n",
        "\n",
        "Overall, the overlap demonstrates good fit, especially for stable periods, but highlights room for improvement in extremes"
      ],
      "metadata": {
        "id": "bhrxbQIH0GRD"
      }
    },
    {
      "cell_type": "markdown",
      "source": [
        "\n",
        "# **Predicting Daily PM2.5 Air Quality Levels in Beijing Using AutoRegressive(AR) Models: A Time Series Approach**\n"
      ],
      "metadata": {
        "id": "jIp6ia0kvX5V"
      }
    },
    {
      "cell_type": "code",
      "source": [
        "df.info()"
      ],
      "metadata": {
        "colab": {
          "base_uri": "https://localhost:8080/"
        },
        "id": "BouI79bVyafc",
        "outputId": "9e55ef30-8a63-4a16-ebfb-40fe7c2119be"
      },
      "execution_count": 28,
      "outputs": [
        {
          "output_type": "stream",
          "name": "stdout",
          "text": [
            "<class 'pandas.core.frame.DataFrame'>\n",
            "DatetimeIndex: 1461 entries, 2013-03-02 00:00:00+08:00 to 2017-03-01 00:00:00+08:00\n",
            "Freq: D\n",
            "Data columns (total 2 columns):\n",
            " #   Column  Non-Null Count  Dtype  \n",
            "---  ------  --------------  -----  \n",
            " 0   PM2.5   1461 non-null   float64\n",
            " 1   P2.L1   1461 non-null   float64\n",
            "dtypes: float64(2)\n",
            "memory usage: 34.2 KB\n"
          ]
        }
      ]
    },
    {
      "cell_type": "markdown",
      "source": [
        "EXPLORE"
      ],
      "metadata": {
        "id": "TRHnluOcwPVD"
      }
    },
    {
      "cell_type": "markdown",
      "source": [
        "Plotting both an ACF and PACF plot,  \n",
        "An ACF plot is a good visual representation of an autocorrelation function and how they change over time.\n",
        "This plot will help know how many lags are required for my model to have good predictive power.\n",
        "\n",
        "A PACF plot is a good visual representation of the direct observations only.\n",
        "This plot will help see the direct observations and should be eliminated because they are not of help."
      ],
      "metadata": {
        "id": "2RtxeMeowWkA"
      }
    },
    {
      "cell_type": "code",
      "source": [
        "#Plot ACF\n",
        "fig, ax = plt.subplots(figsize=(15,6))\n",
        "plot_acf(df[\"PM2.5\"], ax=ax)\n",
        "plt.xlabel(\"Lag [hours]\")\n",
        "plt.ylabel(\"Correlation Coefficient\")"
      ],
      "metadata": {
        "colab": {
          "base_uri": "https://localhost:8080/",
          "height": 529
        },
        "id": "IRXuaqN7u25S",
        "outputId": "983650bc-5ab6-406d-fc94-c4303011ba1b"
      },
      "execution_count": 32,
      "outputs": [
        {
          "output_type": "execute_result",
          "data": {
            "text/plain": [
              "Text(0, 0.5, 'Correlation Coefficient')"
            ]
          },
          "metadata": {},
          "execution_count": 32
        },
        {
          "output_type": "display_data",
          "data": {
            "text/plain": [
              "<Figure size 1500x600 with 1 Axes>"
            ],
            "image/png": "[encoded data removed]"
          },
          "metadata": {}
        }
      ]
    },
    {
      "cell_type": "code",
      "source": [
        "#Plot PACF\n",
        "fig, ax = plt.subplots(figsize=(15,6))\n",
        "plot_pacf(df[\"PM2.5\"], ax=ax)\n",
        "plt.xlabel(\"Lag [hours]\")\n",
        "plt.ylabel(\"Correlation Coefficient\")"
      ],
      "metadata": {
        "colab": {
          "base_uri": "https://localhost:8080/",
          "height": 602
        },
        "id": "Rj8RWFb9xlKj",
        "outputId": "13224143-8f10-432c-a16f-2658a9557e41"
      },
      "execution_count": 33,
      "outputs": [
        {
          "output_type": "execute_result",
          "data": {
            "text/plain": [
              "Text(0, 0.5, 'Correlation Coefficient')"
            ]
          },
          "metadata": {},
          "execution_count": 33
        },
        {
          "output_type": "display_data",
          "data": {
            "text/plain": [
              "<Figure size 1500x600 with 1 Axes>"
            ],
            "image/png": "[encoded data removed]"
          },
          "metadata": {}
        }
      ]
    },
    {
      "cell_type": "markdown",
      "source": [
        "From both diagrams, we can see bars at each lag where the height of each bar represents the correlation coefficient of each lag.\n",
        "\n",
        "If a bar extends beyond the significance bounds, it indicates significant autocorrelation at that lag.\n",
        "\n",
        "I am using the PACF plot so as to know the number of lags I will use to instantiate my AR Model. From my plot, it is clear that lags 1 and 2 show significant spikes indicating that these lags are important for modelling."
      ],
      "metadata": {
        "id": "9av6Q0AL6KZ0"
      }
    },
    {
      "cell_type": "markdown",
      "source": [
        "SPLIT\n",
        "\n",
        "Train-test split"
      ],
      "metadata": {
        "id": "GM8SBmd17xx_"
      }
    },
    {
      "cell_type": "markdown",
      "source": [
        "Here, there is no vertical split, only horizontal split.\n",
        "\n",
        "95% of my data will be training test and 5% of my data will be test set to bring into line with statsmodel Confidence Interval."
      ],
      "metadata": {
        "id": "Fwp1H7_s75vb"
      }
    },
    {
      "cell_type": "code",
      "source": [
        "df.info()"
      ],
      "metadata": {
        "colab": {
          "base_uri": "https://localhost:8080/"
        },
        "id": "-8csJoWQ9Lo3",
        "outputId": "e8a472f2-9ba0-47e0-9399-f1df02ee0d02"
      },
      "execution_count": 36,
      "outputs": [
        {
          "output_type": "stream",
          "name": "stdout",
          "text": [
            "<class 'pandas.core.frame.DataFrame'>\n",
            "DatetimeIndex: 1461 entries, 2013-03-02 00:00:00+08:00 to 2017-03-01 00:00:00+08:00\n",
            "Freq: D\n",
            "Data columns (total 2 columns):\n",
            " #   Column  Non-Null Count  Dtype  \n",
            "---  ------  --------------  -----  \n",
            " 0   PM2.5   1461 non-null   float64\n",
            " 1   P2.L1   1461 non-null   float64\n",
            "dtypes: float64(2)\n",
            "memory usage: 34.2 KB\n"
          ]
        }
      ]
    },
    {
      "cell_type": "code",
      "source": [
        "cutoff_test = int(len(df[\"PM2.5\"]) * 0.95)\n",
        "print(cutoff_test)\n",
        "y_train_ar = df[\"PM2.5\"].iloc[: cutoff_test]\n",
        "print(y_train_ar.shape)\n",
        "y_test_ar = df[\"PM2.5\"].iloc[cutoff_test :]\n",
        "print(y_test_ar.shape)"
      ],
      "metadata": {
        "colab": {
          "base_uri": "https://localhost:8080/"
        },
        "id": "HJbJEnXb0Drm",
        "outputId": "e63b07b7-ddec-4181-f49b-2114f1e54c29"
      },
      "execution_count": 41,
      "outputs": [
        {
          "output_type": "stream",
          "name": "stdout",
          "text": [
            "1387\n",
            "(1387,)\n",
            "(74,)\n"
          ]
        }
      ]
    },
    {
      "cell_type": "markdown",
      "source": [
        "BUILD MODEL"
      ],
      "metadata": {
        "id": "WuC6MYcZ_niT"
      }
    },
    {
      "cell_type": "markdown",
      "source": [
        "Baseline"
      ],
      "metadata": {
        "id": "NkcQsVQJ_p0Z"
      }
    },
    {
      "cell_type": "code",
      "source": [
        "y_mean_ar = y_train_ar.mean()\n",
        "print(\"Mean:\", y_mean_ar)\n",
        "y_pred_baseline_ar = [y_mean_ar] * len(y_train_ar)\n",
        "print(\"Baseline:\", y_pred_baseline_ar[:5])\n",
        "mae_baseline_ar = mean_absolute_error(y_train_ar, y_pred_baseline_ar)\n",
        "print(\"mae_baseline:\", round(mae_baseline_ar, 2))"
      ],
      "metadata": {
        "colab": {
          "base_uri": "https://localhost:8080/"
        },
        "id": "i2DAB3CY_J75",
        "outputId": "2f84eafd-7201-4f65-a6e8-4fdb215c12cd"
      },
      "execution_count": 44,
      "outputs": [
        {
          "output_type": "stream",
          "name": "stdout",
          "text": [
            "Mean: 76.03166763193752\n",
            "Baseline: [np.float64(76.03166763193752), np.float64(76.03166763193752), np.float64(76.03166763193752), np.float64(76.03166763193752), np.float64(76.03166763193752)]\n",
            "mae_baseline: 45.1\n"
          ]
        }
      ]
    },
    {
      "cell_type": "markdown",
      "source": [
        "Iterate"
      ],
      "metadata": {
        "id": "PkIHbag5A6Oi"
      }
    },
    {
      "cell_type": "markdown",
      "source": [
        "I need to instantiate my AR Model and fit it to the training data(*y_train_ar*). I also need to set my lags argument to 2.\n",
        "\n",
        "An AR Model is a time series model that uses observations from previous time steps as input to a regression equation to predict the value at the next time steps.\n",
        "\n",
        "Also,this model does not have a feature matrix, only a Target Vector"
      ],
      "metadata": {
        "id": "cBnj3LAXA9SF"
      }
    },
    {
      "cell_type": "code",
      "source": [
        "#Instantiate my model\n",
        "model_ar = AutoReg(y_train_ar, lags=2).fit()"
      ],
      "metadata": {
        "id": "co_vypdUAeKU"
      },
      "execution_count": 47,
      "outputs": []
    },
    {
      "cell_type": "markdown",
      "source": [
        "Training Prediction"
      ],
      "metadata": {
        "id": "shoA0DAbCjGA"
      }
    },
    {
      "cell_type": "markdown",
      "source": [
        "There will be NaN Values which need to be dropped first, then begin predicting from the second row of my y_train_ar"
      ],
      "metadata": {
        "id": "TbRDLC0BCmaL"
      }
    },
    {
      "cell_type": "code",
      "source": [
        "model_ar.predict().isnull().sum()\n",
        "y_pred_training_ar = model_ar.predict().dropna()\n",
        "print(\"Training:\", y_pred_training_ar[:5])\n",
        "training_mae_ar = mean_absolute_error(y_train_ar.iloc[2:], y_pred_training_ar)\n",
        "print(\"Training mae:\", training_mae_ar)"
      ],
      "metadata": {
        "colab": {
          "base_uri": "https://localhost:8080/"
        },
        "id": "MTYzNuSACUyt",
        "outputId": "fecab45b-3d83-48d8-d75d-2bb0261074f4"
      },
      "execution_count": 52,
      "outputs": [
        {
          "output_type": "stream",
          "name": "stdout",
          "text": [
            "Training: 2013-03-04 00:00:00+08:00     94.180614\n",
            "2013-03-05 00:00:00+08:00     43.381738\n",
            "2013-03-06 00:00:00+08:00     91.158715\n",
            "2013-03-07 00:00:00+08:00    150.428536\n",
            "2013-03-08 00:00:00+08:00    155.527058\n",
            "Freq: D, dtype: float64\n",
            "Training mae: 35.846365139972285\n"
          ]
        }
      ]
    },
    {
      "cell_type": "markdown",
      "source": [
        "My AR Model has successfully beat the baseline"
      ],
      "metadata": {
        "id": "sTR3U-OyDv2F"
      }
    },
    {
      "cell_type": "markdown",
      "source": [
        "Calculating Residuals"
      ],
      "metadata": {
        "id": "EyT1qCelG5mc"
      }
    },
    {
      "cell_type": "markdown",
      "source": [
        "Residuals\n",
        "\n",
        "When performing any type of Regression Analysis, we end up with a line of best fit. Because our data comes from the real world, it tends to be messy so the data points do not fall exactly on this line, they are scattered around it and a residual is the vertical distance between each individual data point and the regression line. Each data point has only one residual which can be positive if above the regression line and vice versa, or 0 if the line directly passes through the data point.  that is, (True value - Predicted Value)"
      ],
      "metadata": {
        "id": "sW2N8yNEG9zm"
      }
    },
    {
      "cell_type": "code",
      "source": [
        " #Calculating Residuals\n",
        " y_train_ar_resid = model_ar.resid\n",
        " y_train_ar_resid.tail()"
      ],
      "metadata": {
        "colab": {
          "base_uri": "https://localhost:8080/",
          "height": 241
        },
        "id": "QqeFOnPQDIWB",
        "outputId": "46bc1178-502f-4fa1-c453-0109686ec90f"
      },
      "execution_count": 55,
      "outputs": [
        {
          "output_type": "execute_result",
          "data": {
            "text/plain": [
              "2016-12-13 00:00:00+08:00   -45.029853\n",
              "2016-12-14 00:00:00+08:00   -56.744614\n",
              "2016-12-15 00:00:00+08:00    13.605541\n",
              "2016-12-16 00:00:00+08:00    -8.466160\n",
              "2016-12-17 00:00:00+08:00    78.717615\n",
              "Freq: D, dtype: float64"
            ],
            "text/html": [
              "<div>\n",
              "<style scoped>\n",
              "    .dataframe tbody tr th:only-of-type {\n",
              "        vertical-align: middle;\n",
              "    }\n",
              "\n",
              "    .dataframe tbody tr th {\n",
              "        vertical-align: top;\n",
              "    }\n",
              "\n",
              "    .dataframe thead th {\n",
              "        text-align: right;\n",
              "    }\n",
              "</style>\n",
              "<table border=\"1\" class=\"dataframe\">\n",
              "  <thead>\n",
              "    <tr style=\"text-align: right;\">\n",
              "      <th></th>\n",
              "      <th>0</th>\n",
              "    </tr>\n",
              "  </thead>\n",
              "  <tbody>\n",
              "    <tr>\n",
              "      <th>2016-12-13 00:00:00+08:00</th>\n",
              "      <td>-45.029853</td>\n",
              "    </tr>\n",
              "    <tr>\n",
              "      <th>2016-12-14 00:00:00+08:00</th>\n",
              "      <td>-56.744614</td>\n",
              "    </tr>\n",
              "    <tr>\n",
              "      <th>2016-12-15 00:00:00+08:00</th>\n",
              "      <td>13.605541</td>\n",
              "    </tr>\n",
              "    <tr>\n",
              "      <th>2016-12-16 00:00:00+08:00</th>\n",
              "      <td>-8.466160</td>\n",
              "    </tr>\n",
              "    <tr>\n",
              "      <th>2016-12-17 00:00:00+08:00</th>\n",
              "      <td>78.717615</td>\n",
              "    </tr>\n",
              "  </tbody>\n",
              "</table>\n",
              "</div><br><label><b>dtype:</b> float64</label>"
            ]
          },
          "metadata": {},
          "execution_count": 55
        }
      ]
    },
    {
      "cell_type": "code",
      "source": [
        " #Residual : Time Series\n",
        " y_train_ar_resid.plot(ylabel=\"Residual Value\")"
      ],
      "metadata": {
        "colab": {
          "base_uri": "https://localhost:8080/",
          "height": 465
        },
        "id": "U84DkgkbGU8s",
        "outputId": "2281e286-278c-4edc-96ec-51d35fee070b"
      },
      "execution_count": 57,
      "outputs": [
        {
          "output_type": "execute_result",
          "data": {
            "text/plain": [
              "<Axes: ylabel='Residual Value'>"
            ]
          },
          "metadata": {},
          "execution_count": 57
        },
        {
          "output_type": "display_data",
          "data": {
            "text/plain": [
              "<Figure size 640x480 with 1 Axes>"
            ],
            "image/png": "[encoded data removed]"
          },
          "metadata": {}
        }
      ]
    },
    {
      "cell_type": "code",
      "source": [
        "#Histogram of y_train_resid_ar\n",
        "y_train_ar_resid.hist()\n",
        "plt.xlabel(\"Residual Value\")\n",
        "plt.ylabel(\"Frequency\")\n",
        "plt.title(\"AR(2), Dist of Residuals\")"
      ],
      "metadata": {
        "colab": {
          "base_uri": "https://localhost:8080/",
          "height": 490
        },
        "id": "3fT0TTNiGwtM",
        "outputId": "2a21b8b9-312e-4b7c-e297-c46ecec973e6"
      },
      "execution_count": 59,
      "outputs": [
        {
          "output_type": "execute_result",
          "data": {
            "text/plain": [
              "Text(0.5, 1.0, 'AR(2), Dist of Residuals')"
            ]
          },
          "metadata": {},
          "execution_count": 59
        },
        {
          "output_type": "display_data",
          "data": {
            "text/plain": [
              "<Figure size 640x480 with 1 Axes>"
            ],
            "image/png": "[encoded data removed]"
          },
          "metadata": {}
        }
      ]
    },
    {
      "cell_type": "code",
      "source": [
        "#Plot ACF Plot of Residuals\n",
        "plot_acf(y_train_ar_resid);"
      ],
      "metadata": {
        "colab": {
          "base_uri": "https://localhost:8080/",
          "height": 452
        },
        "id": "99M54HsyIYKR",
        "outputId": "284268cc-059e-4209-d6cf-3b1788ea9d3d"
      },
      "execution_count": 62,
      "outputs": [
        {
          "output_type": "display_data",
          "data": {
            "text/plain": [
              "<Figure size 640x480 with 1 Axes>"
            ],
            "image/png": "[encoded data removed]"
          },
          "metadata": {}
        }
      ]
    },
    {
      "cell_type": "markdown",
      "source": [
        "It is difficult to interprete the Time Series of Residuals.\n",
        "\n",
        "But its histogram shows a Normal Distribution of Residuals, around a zero mean.\n",
        "\n",
        "With the ACF Plot, the height of the bars do not go beyond the significant bounds. We do not want any correlation happening in the residuals and my AR Model removed all predictive power during training."
      ],
      "metadata": {
        "id": "rW6WYcdrJHx-"
      }
    },
    {
      "cell_type": "markdown",
      "source": [
        "EVALUATE MODEL"
      ],
      "metadata": {
        "id": "R7YGTlo9Lalb"
      }
    },
    {
      "cell_type": "code",
      "source": [
        "#timestamp for the first index\n",
        "print(\"min:\", y_test_ar.index.min())\n",
        "print(\"max:\", y_test_ar.index.max())\n",
        "#prediction test\n",
        "y_pred_test_ar = model_ar.predict(y_test_ar.index.min(),y_test_ar.index.max())\n",
        "print(\"Prediction:\", y_pred_test_ar[:5])\n",
        "mae_test_ar = mean_absolute_error(y_test_ar, y_pred_test_ar)\n",
        "print(\"Mae test:\", mae_test_ar)"
      ],
      "metadata": {
        "colab": {
          "base_uri": "https://localhost:8080/"
        },
        "id": "nGxNVx63I0v6",
        "outputId": "3f32b1a3-d072-4c15-f2c5-75f9a5ea8de6"
      },
      "execution_count": 68,
      "outputs": [
        {
          "output_type": "stream",
          "name": "stdout",
          "text": [
            "min: 2016-12-18 00:00:00+08:00\n",
            "max: 2017-03-01 00:00:00+08:00\n",
            "Prediction: 2016-12-18 00:00:00+08:00    131.758862\n",
            "2016-12-19 00:00:00+08:00     97.006121\n",
            "2016-12-20 00:00:00+08:00     77.304624\n",
            "2016-12-21 00:00:00+08:00     71.967897\n",
            "2016-12-22 00:00:00+08:00     72.964931\n",
            "Freq: D, dtype: float64\n",
            "Mae test: 63.439210930346505\n"
          ]
        }
      ]
    },
    {
      "cell_type": "markdown",
      "source": [
        "I want to create a DataFrame with two columns, 'y_test_ar' which will contain my actual values and 'y_pred_test_ar' which will contain my model's predictions"
      ],
      "metadata": {
        "id": "nuv8Fj3PN03c"
      }
    },
    {
      "cell_type": "code",
      "source": [
        "df_pred_test_ar = pd.DataFrame(\n",
        "    {\n",
        "        \"y_test_ar\" : y_test_ar,\n",
        "        \"y_pred_test_ar\" : y_pred_test_ar\n",
        "    },\n",
        "        index = y_test_ar.index\n",
        ")\n",
        "df_pred_test_ar.head()"
      ],
      "metadata": {
        "colab": {
          "base_uri": "https://localhost:8080/",
          "height": 206
        },
        "id": "M-K6FLhKLqmA",
        "outputId": "0e917ee2-aa90-4744-cc91-3d6245b876a9"
      },
      "execution_count": 70,
      "outputs": [
        {
          "output_type": "execute_result",
          "data": {
            "text/plain": [
              "                            y_test_ar  y_pred_test_ar\n",
              "2016-12-18 00:00:00+08:00  215.704280      131.758862\n",
              "2016-12-19 00:00:00+08:00  206.829268       97.006121\n",
              "2016-12-20 00:00:00+08:00  239.919540       77.304624\n",
              "2016-12-21 00:00:00+08:00  315.753623       71.967897\n",
              "2016-12-22 00:00:00+08:00   34.987578       72.964931"
            ],
            "text/html": [
              "\n",
              "  <div id=\"df-e3267258-2fd4-4fb0-bd47-e2b13cf50abc\" class=\"colab-df-container\">\n",
              "    <div>\n",
              "<style scoped>\n",
              "    .dataframe tbody tr th:only-of-type {\n",
              "        vertical-align: middle;\n",
              "    }\n",
              "\n",
              "    .dataframe tbody tr th {\n",
              "        vertical-align: top;\n",
              "    }\n",
              "\n",
              "    .dataframe thead th {\n",
              "        text-align: right;\n",
              "    }\n",
              "</style>\n",
              "<table border=\"1\" class=\"dataframe\">\n",
              "  <thead>\n",
              "    <tr style=\"text-align: right;\">\n",
              "      <th></th>\n",
              "      <th>y_test_ar</th>\n",
              "      <th>y_pred_test_ar</th>\n",
              "    </tr>\n",
              "  </thead>\n",
              "  <tbody>\n",
              "    <tr>\n",
              "      <th>2016-12-18 00:00:00+08:00</th>\n",
              "      <td>215.704280</td>\n",
              "      <td>131.758862</td>\n",
              "    </tr>\n",
              "    <tr>\n",
              "      <th>2016-12-19 00:00:00+08:00</th>\n",
              "      <td>206.829268</td>\n",
              "      <td>97.006121</td>\n",
              "    </tr>\n",
              "    <tr>\n",
              "      <th>2016-12-20 00:00:00+08:00</th>\n",
              "      <td>239.919540</td>\n",
              "      <td>77.304624</td>\n",
              "    </tr>\n",
              "    <tr>\n",
              "      <th>2016-12-21 00:00:00+08:00</th>\n",
              "      <td>315.753623</td>\n",
              "      <td>71.967897</td>\n",
              "    </tr>\n",
              "    <tr>\n",
              "      <th>2016-12-22 00:00:00+08:00</th>\n",
              "      <td>34.987578</td>\n",
              "      <td>72.964931</td>\n",
              "    </tr>\n",
              "  </tbody>\n",
              "</table>\n",
              "</div>\n",
              "    <div class=\"colab-df-buttons\">\n",
              "\n",
              "  <div class=\"colab-df-container\">\n",
              "    <button class=\"colab-df-convert\" onclick=\"convertToInteractive('df-e3267258-2fd4-4fb0-bd47-e2b13cf50abc')\"\n",
              "            title=\"Convert this dataframe to an interactive table.\"\n",
              "            style=\"display:none;\">\n",
              "\n",
              "  <svg xmlns=\"http://www.w3.org/2000/svg\" height=\"24px\" viewBox=\"0 -960 960 960\">\n",
              "    <path d=\"M120-120v-720h720v720H120Zm60-500h600v-160H180v160Zm220 220h160v-160H400v160Zm0 220h160v-160H400v160ZM180-400h160v-160H180v160Zm440 0h160v-160H620v160ZM180-180h160v-160H180v160Zm440 0h160v-160H620v160Z\"/>\n",
              "  </svg>\n",
              "    </button>\n",
              "\n",
              "  <style>\n",
              "    .colab-df-container {\n",
              "      display:flex;\n",
              "      gap: 12px;\n",
              "    }\n",
              "\n",
              "    .colab-df-convert {\n",
              "      background-color: #E8F0FE;\n",
              "      border: none;\n",
              "      border-radius: 50%;\n",
              "      cursor: pointer;\n",
              "      display: none;\n",
              "      fill: #1967D2;\n",
              "      height: 32px;\n",
              "      padding: 0 0 0 0;\n",
              "      width: 32px;\n",
              "    }\n",
              "\n",
              "    .colab-df-convert:hover {\n",
              "      background-color: #E2EBFA;\n",
              "      box-shadow: 0px 1px 2px rgba(60, 64, 67, 0.3), 0px 1px 3px 1px rgba(60, 64, 67, 0.15);\n",
              "      fill: #174EA6;\n",
              "    }\n",
              "\n",
              "    .colab-df-buttons div {\n",
              "      margin-bottom: 4px;\n",
              "    }\n",
              "\n",
              "    [theme=dark] .colab-df-convert {\n",
              "      background-color: #3B4455;\n",
              "      fill: #D2E3FC;\n",
              "    }\n",
              "\n",
              "    [theme=dark] .colab-df-convert:hover {\n",
              "      background-color: #434B5C;\n",
              "      box-shadow: 0px 1px 3px 1px rgba(0, 0, 0, 0.15);\n",
              "      filter: drop-shadow(0px 1px 2px rgba(0, 0, 0, 0.3));\n",
              "      fill: #FFFFFF;\n",
              "    }\n",
              "  </style>\n",
              "\n",
              "    <script>\n",
              "      const buttonEl =\n",
              "        document.querySelector('#df-e3267258-2fd4-4fb0-bd47-e2b13cf50abc button.colab-df-convert');\n",
              "      buttonEl.style.display =\n",
              "        google.colab.kernel.accessAllowed ? 'block' : 'none';\n",
              "\n",
              "      async function convertToInteractive(key) {\n",
              "        const element = document.querySelector('#df-e3267258-2fd4-4fb0-bd47-e2b13cf50abc');\n",
              "        const dataTable =\n",
              "          await google.colab.kernel.invokeFunction('convertToInteractive',\n",
              "                                                    [key], {});\n",
              "        if (!dataTable) return;\n",
              "\n",
              "        const docLinkHtml = 'Like what you see? Visit the ' +\n",
              "          '<a target=\"_blank\" href=https://colab.research.google.com/notebooks/data_table.ipynb>data table notebook</a>'\n",
              "          + ' to learn more about interactive tables.';\n",
              "        element.innerHTML = '';\n",
              "        dataTable['output_type'] = 'display_data';\n",
              "        await google.colab.output.renderOutput(dataTable, element);\n",
              "        const docLink = document.createElement('div');\n",
              "        docLink.innerHTML = docLinkHtml;\n",
              "        element.appendChild(docLink);\n",
              "      }\n",
              "    </script>\n",
              "  </div>\n",
              "\n",
              "\n",
              "    <div id=\"df-70ed886b-91eb-444a-b914-b17c3c3b4b5e\">\n",
              "      <button class=\"colab-df-quickchart\" onclick=\"quickchart('df-70ed886b-91eb-444a-b914-b17c3c3b4b5e')\"\n",
              "                title=\"Suggest charts\"\n",
              "                style=\"display:none;\">\n",
              "\n",
              "<svg xmlns=\"http://www.w3.org/2000/svg\" height=\"24px\"viewBox=\"0 0 24 24\"\n",
              "     width=\"24px\">\n",
              "    <g>\n",
              "        <path d=\"M19 3H5c-1.1 0-2 .9-2 2v14c0 1.1.9 2 2 2h14c1.1 0 2-.9 2-2V5c0-1.1-.9-2-2-2zM9 17H7v-7h2v7zm4 0h-2V7h2v10zm4 0h-2v-4h2v4z\"/>\n",
              "    </g>\n",
              "</svg>\n",
              "      </button>\n",
              "\n",
              "<style>\n",
              "  .colab-df-quickchart {\n",
              "      --bg-color: #E8F0FE;\n",
              "      --fill-color: #1967D2;\n",
              "      --hover-bg-color: #E2EBFA;\n",
              "      --hover-fill-color: #174EA6;\n",
              "      --disabled-fill-color: #AAA;\n",
              "      --disabled-bg-color: #DDD;\n",
              "  }\n",
              "\n",
              "  [theme=dark] .colab-df-quickchart {\n",
              "      --bg-color: #3B4455;\n",
              "      --fill-color: #D2E3FC;\n",
              "      --hover-bg-color: #434B5C;\n",
              "      --hover-fill-color: #FFFFFF;\n",
              "      --disabled-bg-color: #3B4455;\n",
              "      --disabled-fill-color: #666;\n",
              "  }\n",
              "\n",
              "  .colab-df-quickchart {\n",
              "    background-color: var(--bg-color);\n",
              "    border: none;\n",
              "    border-radius: 50%;\n",
              "    cursor: pointer;\n",
              "    display: none;\n",
              "    fill: var(--fill-color);\n",
              "    height: 32px;\n",
              "    padding: 0;\n",
              "    width: 32px;\n",
              "  }\n",
              "\n",
              "  .colab-df-quickchart:hover {\n",
              "    background-color: var(--hover-bg-color);\n",
              "    box-shadow: 0 1px 2px rgba(60, 64, 67, 0.3), 0 1px 3px 1px rgba(60, 64, 67, 0.15);\n",
              "    fill: var(--button-hover-fill-color);\n",
              "  }\n",
              "\n",
              "  .colab-df-quickchart-complete:disabled,\n",
              "  .colab-df-quickchart-complete:disabled:hover {\n",
              "    background-color: var(--disabled-bg-color);\n",
              "    fill: var(--disabled-fill-color);\n",
              "    box-shadow: none;\n",
              "  }\n",
              "\n",
              "  .colab-df-spinner {\n",
              "    border: 2px solid var(--fill-color);\n",
              "    border-color: transparent;\n",
              "    border-bottom-color: var(--fill-color);\n",
              "    animation:\n",
              "      spin 1s steps(1) infinite;\n",
              "  }\n",
              "\n",
              "  @keyframes spin {\n",
              "    0% {\n",
              "      border-color: transparent;\n",
              "      border-bottom-color: var(--fill-color);\n",
              "      border-left-color: var(--fill-color);\n",
              "    }\n",
              "    20% {\n",
              "      border-color: transparent;\n",
              "      border-left-color: var(--fill-color);\n",
              "      border-top-color: var(--fill-color);\n",
              "    }\n",
              "    30% {\n",
              "      border-color: transparent;\n",
              "      border-left-color: var(--fill-color);\n",
              "      border-top-color: var(--fill-color);\n",
              "      border-right-color: var(--fill-color);\n",
              "    }\n",
              "    40% {\n",
              "      border-color: transparent;\n",
              "      border-right-color: var(--fill-color);\n",
              "      border-top-color: var(--fill-color);\n",
              "    }\n",
              "    60% {\n",
              "      border-color: transparent;\n",
              "      border-right-color: var(--fill-color);\n",
              "    }\n",
              "    80% {\n",
              "      border-color: transparent;\n",
              "      border-right-color: var(--fill-color);\n",
              "      border-bottom-color: var(--fill-color);\n",
              "    }\n",
              "    90% {\n",
              "      border-color: transparent;\n",
              "      border-bottom-color: var(--fill-color);\n",
              "    }\n",
              "  }\n",
              "</style>\n",
              "\n",
              "      <script>\n",
              "        async function quickchart(key) {\n",
              "          const quickchartButtonEl =\n",
              "            document.querySelector('#' + key + ' button');\n",
              "          quickchartButtonEl.disabled = true;  // To prevent multiple clicks.\n",
              "          quickchartButtonEl.classList.add('colab-df-spinner');\n",
              "          try {\n",
              "            const charts = await google.colab.kernel.invokeFunction(\n",
              "                'suggestCharts', [key], {});\n",
              "          } catch (error) {\n",
              "            console.error('Error during call to suggestCharts:', error);\n",
              "          }\n",
              "          quickchartButtonEl.classList.remove('colab-df-spinner');\n",
              "          quickchartButtonEl.classList.add('colab-df-quickchart-complete');\n",
              "        }\n",
              "        (() => {\n",
              "          let quickchartButtonEl =\n",
              "            document.querySelector('#df-70ed886b-91eb-444a-b914-b17c3c3b4b5e button');\n",
              "          quickchartButtonEl.style.display =\n",
              "            google.colab.kernel.accessAllowed ? 'block' : 'none';\n",
              "        })();\n",
              "      </script>\n",
              "    </div>\n",
              "\n",
              "    </div>\n",
              "  </div>\n"
            ],
            "application/vnd.google.colaboratory.intrinsic+json": {
              "type": "dataframe",
              "variable_name": "df_pred_test_ar",
              "summary": "{\n  \"name\": \"df_pred_test_ar\",\n  \"rows\": 74,\n  \"fields\": [\n    {\n      \"column\": \"y_test_ar\",\n      \"properties\": {\n        \"dtype\": \"number\",\n        \"std\": 80.9692565452547,\n        \"min\": 6.375,\n        \"max\": 315.7536231884058,\n        \"num_unique_values\": 74,\n        \"samples\": [\n          34.98757763975155,\n          128.07638888888889,\n          249.48510638297873\n        ],\n        \"semantic_type\": \"\",\n        \"description\": \"\"\n      }\n    },\n    {\n      \"column\": \"y_pred_test_ar\",\n      \"properties\": {\n        \"dtype\": \"number\",\n        \"std\": 6.92321181195871,\n        \"min\": 71.96789706431417,\n        \"max\": 131.7588615463679,\n        \"num_unique_values\": 52,\n        \"samples\": [\n          76.10155150958516,\n          76.1015925601977,\n          76.10159256019081\n        ],\n        \"semantic_type\": \"\",\n        \"description\": \"\"\n      }\n    }\n  ]\n}"
            }
          },
          "metadata": {},
          "execution_count": 70
        }
      ]
    },
    {
      "cell_type": "code",
      "source": [
        "#Time Series plot for values in test predictions\n",
        "fig = px.line(df_pred_test_ar, labels = {\"value\" : \"PM2.5\"})\n",
        "fig.show()"
      ],
      "metadata": {
        "colab": {
          "base_uri": "https://localhost:8080/",
          "height": 542
        },
        "id": "khYBwSyiPaob",
        "outputId": "73d57f5e-5756-4752-dca0-fa768ac717f3"
      },
      "execution_count": 71,
      "outputs": [
        {
          "output_type": "display_data",
          "data": {
            "text/html": [
              "<html>\n",
              "<head><meta charset=\"utf-8\" /></head>\n",
              "<body>\n",
              "    <div>            <script src=\"https://cdnjs.cloudflare.com/ajax/libs/mathjax/2.7.5/MathJax.js?config=TeX-AMS-MML_SVG\"></script><script type=\"text/javascript\">if (window.MathJax && window.MathJax.Hub && window.MathJax.Hub.Config) {window.MathJax.Hub.Config({SVG: {font: \"STIX-Web\"}});}</script>                <script type=\"text/javascript\">window.PlotlyConfig = {MathJaxConfig: 'local'};</script>\n",
              "        <script charset=\"utf-8\" src=\"https://cdn.plot.ly/plotly-2.35.2.min.js\"></script>                <div id=\"692ab709-99d0-4fe0-8555-817e991fe031\" class=\"plotly-graph-div\" style=\"height:525px; width:100%;\"></div>            <script type=\"text/javascript\">                                    window.PLOTLYENV=window.PLOTLYENV || {};                                    if (document.getElementById(\"692ab709-99d0-4fe0-8555-817e991fe031\")) {                    Plotly.newPlot(                        \"692ab709-99d0-4fe0-8555-817e991fe031\",                        [{\"hovertemplate\":\"variable=y_test_ar\\u003cbr\\u003eindex=%{x}\\u003cbr\\u003ePM2.5=%{y}\\u003cextra\\u003e\\u003c\\u002fextra\\u003e\",\"legendgroup\":\"y_test_ar\",\"line\":{\"color\":\"#636efa\",\"dash\":\"solid\"},\"marker\":{\"symbol\":\"circle\"},\"mode\":\"lines\",\"name\":\"y_test_ar\",\"orientation\":\"v\",\"showlegend\":true,\"x\":[\"2016-12-18T00:00:00+08:00\",\"2016-12-19T00:00:00+08:00\",\"2016-12-20T00:00:00+08:00\",\"2016-12-21T00:00:00+08:00\",\"2016-12-22T00:00:00+08:00\",\"2016-12-23T00:00:00+08:00\",\"2016-12-24T00:00:00+08:00\",\"2016-12-25T00:00:00+08:00\",\"2016-12-26T00:00:00+08:00\",\"2016-12-27T00:00:00+08:00\",\"2016-12-28T00:00:00+08:00\",\"2016-12-29T00:00:00+08:00\",\"2016-12-30T00:00:00+08:00\",\"2016-12-31T00:00:00+08:00\",\"2017-01-01T00:00:00+08:00\",\"2017-01-02T00:00:00+08:00\",\"2017-01-03T00:00:00+08:00\",\"2017-01-04T00:00:00+08:00\",\"2017-01-05T00:00:00+08:00\",\"2017-01-06T00:00:00+08:00\",\"2017-01-07T00:00:00+08:00\",\"2017-01-08T00:00:00+08:00\",\"2017-01-09T00:00:00+08:00\",\"2017-01-10T00:00:00+08:00\",\"2017-01-11T00:00:00+08:00\",\"2017-01-12T00:00:00+08:00\",\"2017-01-13T00:00:00+08:00\",\"2017-01-14T00:00:00+08:00\",\"2017-01-15T00:00:00+08:00\",\"2017-01-16T00:00:00+08:00\",\"2017-01-17T00:00:00+08:00\",\"2017-01-18T00:00:00+08:00\",\"2017-01-19T00:00:00+08:00\",\"2017-01-20T00:00:00+08:00\",\"2017-01-21T00:00:00+08:00\",\"2017-01-22T00:00:00+08:00\",\"2017-01-23T00:00:00+08:00\",\"2017-01-24T00:00:00+08:00\",\"2017-01-25T00:00:00+08:00\",\"2017-01-26T00:00:00+08:00\",\"2017-01-27T00:00:00+08:00\",\"2017-01-28T00:00:00+08:00\",\"2017-01-29T00:00:00+08:00\",\"2017-01-30T00:00:00+08:00\",\"2017-01-31T00:00:00+08:00\",\"2017-02-01T00:00:00+08:00\",\"2017-02-02T00:00:00+08:00\",\"2017-02-03T00:00:00+08:00\",\"2017-02-04T00:00:00+08:00\",\"2017-02-05T00:00:00+08:00\",\"2017-02-06T00:00:00+08:00\",\"2017-02-07T00:00:00+08:00\",\"2017-02-08T00:00:00+08:00\",\"2017-02-09T00:00:00+08:00\",\"2017-02-10T00:00:00+08:00\",\"2017-02-11T00:00:00+08:00\",\"2017-02-12T00:00:00+08:00\",\"2017-02-13T00:00:00+08:00\",\"2017-02-14T00:00:00+08:00\",\"2017-02-15T00:00:00+08:00\",\"2017-02-16T00:00:00+08:00\",\"2017-02-17T00:00:00+08:00\",\"2017-02-18T00:00:00+08:00\",\"2017-02-19T00:00:00+08:00\",\"2017-02-20T00:00:00+08:00\",\"2017-02-21T00:00:00+08:00\",\"2017-02-22T00:00:00+08:00\",\"2017-02-23T00:00:00+08:00\",\"2017-02-24T00:00:00+08:00\",\"2017-02-25T00:00:00+08:00\",\"2017-02-26T00:00:00+08:00\",\"2017-02-27T00:00:00+08:00\",\"2017-02-28T00:00:00+08:00\",\"2017-03-01T00:00:00+08:00\"],\"xaxis\":\"x\",\"y\":[215.704280155642,206.82926829268294,239.91954022988506,315.7536231884058,34.98757763975155,15.336879432624114,86.58333333333333,141.4607142857143,97.23239436619718,15.114285714285714,87.28521126760563,16.258064516129032,126.78571428571429,224.7344398340249,245.66666666666666,132.9225806451613,219.91176470588235,199.26829268292684,249.48510638297873,182.01754385964912,198.07986111111111,66.77003484320558,17.121951219512194,33.20701754385965,53.11805555555556,41.78472222222222,30.958333333333332,16.083333333333332,42.19444444444444,86.63541666666667,126.12937062937063,74.63541666666667,59.99652777777778,10.253472222222221,37.642361111111114,11.92361111111111,29.23611111111111,64.83333333333333,141.59420289855072,224.1338028169014,16.03472222222222,197.84,115.56597222222223,9.159722222222221,75.36458333333333,25.206293706293707,70.85106382978724,111.31468531468532,262.2899628252788,44.445692883895134,7.815972222222222,52.0,62.14930555555556,7.855072463768116,6.375,12.496527777777779,96.9578947368421,94.34375,128.00347222222223,223.2237762237762,187.6853146853147,7.947916666666667,66.48611111111111,128.07638888888889,7.604395604395604,46.03468208092485,88.05755395683454,16.329749103942653,30.285211267605632,11.294736842105262,18.964664310954063,60.34057971014493,29.116104868913858,14.166666666666666],\"yaxis\":\"y\",\"type\":\"scatter\"},{\"hovertemplate\":\"variable=y_pred_test_ar\\u003cbr\\u003eindex=%{x}\\u003cbr\\u003ePM2.5=%{y}\\u003cextra\\u003e\\u003c\\u002fextra\\u003e\",\"legendgroup\":\"y_pred_test_ar\",\"line\":{\"color\":\"#EF553B\",\"dash\":\"solid\"},\"marker\":{\"symbol\":\"circle\"},\"mode\":\"lines\",\"name\":\"y_pred_test_ar\",\"orientation\":\"v\",\"showlegend\":true,\"x\":[\"2016-12-18T00:00:00+08:00\",\"2016-12-19T00:00:00+08:00\",\"2016-12-20T00:00:00+08:00\",\"2016-12-21T00:00:00+08:00\",\"2016-12-22T00:00:00+08:00\",\"2016-12-23T00:00:00+08:00\",\"2016-12-24T00:00:00+08:00\",\"2016-12-25T00:00:00+08:00\",\"2016-12-26T00:00:00+08:00\",\"2016-12-27T00:00:00+08:00\",\"2016-12-28T00:00:00+08:00\",\"2016-12-29T00:00:00+08:00\",\"2016-12-30T00:00:00+08:00\",\"2016-12-31T00:00:00+08:00\",\"2017-01-01T00:00:00+08:00\",\"2017-01-02T00:00:00+08:00\",\"2017-01-03T00:00:00+08:00\",\"2017-01-04T00:00:00+08:00\",\"2017-01-05T00:00:00+08:00\",\"2017-01-06T00:00:00+08:00\",\"2017-01-07T00:00:00+08:00\",\"2017-01-08T00:00:00+08:00\",\"2017-01-09T00:00:00+08:00\",\"2017-01-10T00:00:00+08:00\",\"2017-01-11T00:00:00+08:00\",\"2017-01-12T00:00:00+08:00\",\"2017-01-13T00:00:00+08:00\",\"2017-01-14T00:00:00+08:00\",\"2017-01-15T00:00:00+08:00\",\"2017-01-16T00:00:00+08:00\",\"2017-01-17T00:00:00+08:00\",\"2017-01-18T00:00:00+08:00\",\"2017-01-19T00:00:00+08:00\",\"2017-01-20T00:00:00+08:00\",\"2017-01-21T00:00:00+08:00\",\"2017-01-22T00:00:00+08:00\",\"2017-01-23T00:00:00+08:00\",\"2017-01-24T00:00:00+08:00\",\"2017-01-25T00:00:00+08:00\",\"2017-01-26T00:00:00+08:00\",\"2017-01-27T00:00:00+08:00\",\"2017-01-28T00:00:00+08:00\",\"2017-01-29T00:00:00+08:00\",\"2017-01-30T00:00:00+08:00\",\"2017-01-31T00:00:00+08:00\",\"2017-02-01T00:00:00+08:00\",\"2017-02-02T00:00:00+08:00\",\"2017-02-03T00:00:00+08:00\",\"2017-02-04T00:00:00+08:00\",\"2017-02-05T00:00:00+08:00\",\"2017-02-06T00:00:00+08:00\",\"2017-02-07T00:00:00+08:00\",\"2017-02-08T00:00:00+08:00\",\"2017-02-09T00:00:00+08:00\",\"2017-02-10T00:00:00+08:00\",\"2017-02-11T00:00:00+08:00\",\"2017-02-12T00:00:00+08:00\",\"2017-02-13T00:00:00+08:00\",\"2017-02-14T00:00:00+08:00\",\"2017-02-15T00:00:00+08:00\",\"2017-02-16T00:00:00+08:00\",\"2017-02-17T00:00:00+08:00\",\"2017-02-18T00:00:00+08:00\",\"2017-02-19T00:00:00+08:00\",\"2017-02-20T00:00:00+08:00\",\"2017-02-21T00:00:00+08:00\",\"2017-02-22T00:00:00+08:00\",\"2017-02-23T00:00:00+08:00\",\"2017-02-24T00:00:00+08:00\",\"2017-02-25T00:00:00+08:00\",\"2017-02-26T00:00:00+08:00\",\"2017-02-27T00:00:00+08:00\",\"2017-02-28T00:00:00+08:00\",\"2017-03-01T00:00:00+08:00\"],\"xaxis\":\"x\",\"y\":[131.7588615463679,97.00612095530411,77.30462356945858,71.96789706431417,72.9649308608269,74.91970424055197,76.0311883473523,76.33365411860791,76.27836241153827,76.16841213210469,76.10570718329146,76.08856524163947,76.09163063132688,76.09781490626129,76.10135239385238,76.10232385730184,76.1021539614673,76.10180612610178,76.10160656192397,76.10155150958516,76.10156092298843,76.10158048669518,76.10159174478764,76.10159486445377,76.10159434305164,76.10159324272666,76.10159260762741,76.10159243085126,76.10159245972189,76.10159252160656,76.10159255743376,76.10159256745041,76.10159256585236,76.10159256237189,76.10159256035082,76.10159255978328,76.1015925598717,76.10159256006744,76.10159256018146,76.10159256021362,76.10159256020873,76.1015925601977,76.10159256019128,76.10159256018946,76.10159256018974,76.10159256019035,76.10159256019071,76.10159256019081,76.1015925601908,76.10159256019077,76.10159256019075,76.10159256019074,76.10159256019074,76.10159256019075,76.10159256019075,76.10159256019074,76.10159256019074,76.10159256019075,76.10159256019075,76.10159256019074,76.10159256019074,76.10159256019075,76.10159256019075,76.10159256019074,76.10159256019074,76.10159256019075,76.10159256019075,76.10159256019074,76.10159256019074,76.10159256019075,76.10159256019075,76.10159256019074,76.10159256019074,76.10159256019075],\"yaxis\":\"y\",\"type\":\"scatter\"}],                        {\"template\":{\"data\":{\"histogram2dcontour\":[{\"type\":\"histogram2dcontour\",\"colorbar\":{\"outlinewidth\":0,\"ticks\":\"\"},\"colorscale\":[[0.0,\"#0d0887\"],[0.1111111111111111,\"#46039f\"],[0.2222222222222222,\"#7201a8\"],[0.3333333333333333,\"#9c179e\"],[0.4444444444444444,\"#bd3786\"],[0.5555555555555556,\"#d8576b\"],[0.6666666666666666,\"#ed7953\"],[0.7777777777777778,\"#fb9f3a\"],[0.8888888888888888,\"#fdca26\"],[1.0,\"#f0f921\"]]}],\"choropleth\":[{\"type\":\"choropleth\",\"colorbar\":{\"outlinewidth\":0,\"ticks\":\"\"}}],\"histogram2d\":[{\"type\":\"histogram2d\",\"colorbar\":{\"outlinewidth\":0,\"ticks\":\"\"},\"colorscale\":[[0.0,\"#0d0887\"],[0.1111111111111111,\"#46039f\"],[0.2222222222222222,\"#7201a8\"],[0.3333333333333333,\"#9c179e\"],[0.4444444444444444,\"#bd3786\"],[0.5555555555555556,\"#d8576b\"],[0.6666666666666666,\"#ed7953\"],[0.7777777777777778,\"#fb9f3a\"],[0.8888888888888888,\"#fdca26\"],[1.0,\"#f0f921\"]]}],\"heatmap\":[{\"type\":\"heatmap\",\"colorbar\":{\"outlinewidth\":0,\"ticks\":\"\"},\"colorscale\":[[0.0,\"#0d0887\"],[0.1111111111111111,\"#46039f\"],[0.2222222222222222,\"#7201a8\"],[0.3333333333333333,\"#9c179e\"],[0.4444444444444444,\"#bd3786\"],[0.5555555555555556,\"#d8576b\"],[0.6666666666666666,\"#ed7953\"],[0.7777777777777778,\"#fb9f3a\"],[0.8888888888888888,\"#fdca26\"],[1.0,\"#f0f921\"]]}],\"heatmapgl\":[{\"type\":\"heatmapgl\",\"colorbar\":{\"outlinewidth\":0,\"ticks\":\"\"},\"colorscale\":[[0.0,\"#0d0887\"],[0.1111111111111111,\"#46039f\"],[0.2222222222222222,\"#7201a8\"],[0.3333333333333333,\"#9c179e\"],[0.4444444444444444,\"#bd3786\"],[0.5555555555555556,\"#d8576b\"],[0.6666666666666666,\"#ed7953\"],[0.7777777777777778,\"#fb9f3a\"],[0.8888888888888888,\"#fdca26\"],[1.0,\"#f0f921\"]]}],\"contourcarpet\":[{\"type\":\"contourcarpet\",\"colorbar\":{\"outlinewidth\":0,\"ticks\":\"\"}}],\"contour\":[{\"type\":\"contour\",\"colorbar\":{\"outlinewidth\":0,\"ticks\":\"\"},\"colorscale\":[[0.0,\"#0d0887\"],[0.1111111111111111,\"#46039f\"],[0.2222222222222222,\"#7201a8\"],[0.3333333333333333,\"#9c179e\"],[0.4444444444444444,\"#bd3786\"],[0.5555555555555556,\"#d8576b\"],[0.6666666666666666,\"#ed7953\"],[0.7777777777777778,\"#fb9f3a\"],[0.8888888888888888,\"#fdca26\"],[1.0,\"#f0f921\"]]}],\"surface\":[{\"type\":\"surface\",\"colorbar\":{\"outlinewidth\":0,\"ticks\":\"\"},\"colorscale\":[[0.0,\"#0d0887\"],[0.1111111111111111,\"#46039f\"],[0.2222222222222222,\"#7201a8\"],[0.3333333333333333,\"#9c179e\"],[0.4444444444444444,\"#bd3786\"],[0.5555555555555556,\"#d8576b\"],[0.6666666666666666,\"#ed7953\"],[0.7777777777777778,\"#fb9f3a\"],[0.8888888888888888,\"#fdca26\"],[1.0,\"#f0f921\"]]}],\"mesh3d\":[{\"type\":\"mesh3d\",\"colorbar\":{\"outlinewidth\":0,\"ticks\":\"\"}}],\"scatter\":[{\"fillpattern\":{\"fillmode\":\"overlay\",\"size\":10,\"solidity\":0.2},\"type\":\"scatter\"}],\"parcoords\":[{\"type\":\"parcoords\",\"line\":{\"colorbar\":{\"outlinewidth\":0,\"ticks\":\"\"}}}],\"scatterpolargl\":[{\"type\":\"scatterpolargl\",\"marker\":{\"colorbar\":{\"outlinewidth\":0,\"ticks\":\"\"}}}],\"bar\":[{\"error_x\":{\"color\":\"#2a3f5f\"},\"error_y\":{\"color\":\"#2a3f5f\"},\"marker\":{\"line\":{\"color\":\"#E5ECF6\",\"width\":0.5},\"pattern\":{\"fillmode\":\"overlay\",\"size\":10,\"solidity\":0.2}},\"type\":\"bar\"}],\"scattergeo\":[{\"type\":\"scattergeo\",\"marker\":{\"colorbar\":{\"outlinewidth\":0,\"ticks\":\"\"}}}],\"scatterpolar\":[{\"type\":\"scatterpolar\",\"marker\":{\"colorbar\":{\"outlinewidth\":0,\"ticks\":\"\"}}}],\"histogram\":[{\"marker\":{\"pattern\":{\"fillmode\":\"overlay\",\"size\":10,\"solidity\":0.2}},\"type\":\"histogram\"}],\"scattergl\":[{\"type\":\"scattergl\",\"marker\":{\"colorbar\":{\"outlinewidth\":0,\"ticks\":\"\"}}}],\"scatter3d\":[{\"type\":\"scatter3d\",\"line\":{\"colorbar\":{\"outlinewidth\":0,\"ticks\":\"\"}},\"marker\":{\"colorbar\":{\"outlinewidth\":0,\"ticks\":\"\"}}}],\"scattermapbox\":[{\"type\":\"scattermapbox\",\"marker\":{\"colorbar\":{\"outlinewidth\":0,\"ticks\":\"\"}}}],\"scatterternary\":[{\"type\":\"scatterternary\",\"marker\":{\"colorbar\":{\"outlinewidth\":0,\"ticks\":\"\"}}}],\"scattercarpet\":[{\"type\":\"scattercarpet\",\"marker\":{\"colorbar\":{\"outlinewidth\":0,\"ticks\":\"\"}}}],\"carpet\":[{\"aaxis\":{\"endlinecolor\":\"#2a3f5f\",\"gridcolor\":\"white\",\"linecolor\":\"white\",\"minorgridcolor\":\"white\",\"startlinecolor\":\"#2a3f5f\"},\"baxis\":{\"endlinecolor\":\"#2a3f5f\",\"gridcolor\":\"white\",\"linecolor\":\"white\",\"minorgridcolor\":\"white\",\"startlinecolor\":\"#2a3f5f\"},\"type\":\"carpet\"}],\"table\":[{\"cells\":{\"fill\":{\"color\":\"#EBF0F8\"},\"line\":{\"color\":\"white\"}},\"header\":{\"fill\":{\"color\":\"#C8D4E3\"},\"line\":{\"color\":\"white\"}},\"type\":\"table\"}],\"barpolar\":[{\"marker\":{\"line\":{\"color\":\"#E5ECF6\",\"width\":0.5},\"pattern\":{\"fillmode\":\"overlay\",\"size\":10,\"solidity\":0.2}},\"type\":\"barpolar\"}],\"pie\":[{\"automargin\":true,\"type\":\"pie\"}]},\"layout\":{\"autotypenumbers\":\"strict\",\"colorway\":[\"#636efa\",\"#EF553B\",\"#00cc96\",\"#ab63fa\",\"#FFA15A\",\"#19d3f3\",\"#FF6692\",\"#B6E880\",\"#FF97FF\",\"#FECB52\"],\"font\":{\"color\":\"#2a3f5f\"},\"hovermode\":\"closest\",\"hoverlabel\":{\"align\":\"left\"},\"paper_bgcolor\":\"white\",\"plot_bgcolor\":\"#E5ECF6\",\"polar\":{\"bgcolor\":\"#E5ECF6\",\"angularaxis\":{\"gridcolor\":\"white\",\"linecolor\":\"white\",\"ticks\":\"\"},\"radialaxis\":{\"gridcolor\":\"white\",\"linecolor\":\"white\",\"ticks\":\"\"}},\"ternary\":{\"bgcolor\":\"#E5ECF6\",\"aaxis\":{\"gridcolor\":\"white\",\"linecolor\":\"white\",\"ticks\":\"\"},\"baxis\":{\"gridcolor\":\"white\",\"linecolor\":\"white\",\"ticks\":\"\"},\"caxis\":{\"gridcolor\":\"white\",\"linecolor\":\"white\",\"ticks\":\"\"}},\"coloraxis\":{\"colorbar\":{\"outlinewidth\":0,\"ticks\":\"\"}},\"colorscale\":{\"sequential\":[[0.0,\"#0d0887\"],[0.1111111111111111,\"#46039f\"],[0.2222222222222222,\"#7201a8\"],[0.3333333333333333,\"#9c179e\"],[0.4444444444444444,\"#bd3786\"],[0.5555555555555556,\"#d8576b\"],[0.6666666666666666,\"#ed7953\"],[0.7777777777777778,\"#fb9f3a\"],[0.8888888888888888,\"#fdca26\"],[1.0,\"#f0f921\"]],\"sequentialminus\":[[0.0,\"#0d0887\"],[0.1111111111111111,\"#46039f\"],[0.2222222222222222,\"#7201a8\"],[0.3333333333333333,\"#9c179e\"],[0.4444444444444444,\"#bd3786\"],[0.5555555555555556,\"#d8576b\"],[0.6666666666666666,\"#ed7953\"],[0.7777777777777778,\"#fb9f3a\"],[0.8888888888888888,\"#fdca26\"],[1.0,\"#f0f921\"]],\"diverging\":[[0,\"#8e0152\"],[0.1,\"#c51b7d\"],[0.2,\"#de77ae\"],[0.3,\"#f1b6da\"],[0.4,\"#fde0ef\"],[0.5,\"#f7f7f7\"],[0.6,\"#e6f5d0\"],[0.7,\"#b8e186\"],[0.8,\"#7fbc41\"],[0.9,\"#4d9221\"],[1,\"#276419\"]]},\"xaxis\":{\"gridcolor\":\"white\",\"linecolor\":\"white\",\"ticks\":\"\",\"title\":{\"standoff\":15},\"zerolinecolor\":\"white\",\"automargin\":true,\"zerolinewidth\":2},\"yaxis\":{\"gridcolor\":\"white\",\"linecolor\":\"white\",\"ticks\":\"\",\"title\":{\"standoff\":15},\"zerolinecolor\":\"white\",\"automargin\":true,\"zerolinewidth\":2},\"scene\":{\"xaxis\":{\"backgroundcolor\":\"#E5ECF6\",\"gridcolor\":\"white\",\"linecolor\":\"white\",\"showbackground\":true,\"ticks\":\"\",\"zerolinecolor\":\"white\",\"gridwidth\":2},\"yaxis\":{\"backgroundcolor\":\"#E5ECF6\",\"gridcolor\":\"white\",\"linecolor\":\"white\",\"showbackground\":true,\"ticks\":\"\",\"zerolinecolor\":\"white\",\"gridwidth\":2},\"zaxis\":{\"backgroundcolor\":\"#E5ECF6\",\"gridcolor\":\"white\",\"linecolor\":\"white\",\"showbackground\":true,\"ticks\":\"\",\"zerolinecolor\":\"white\",\"gridwidth\":2}},\"shapedefaults\":{\"line\":{\"color\":\"#2a3f5f\"}},\"annotationdefaults\":{\"arrowcolor\":\"#2a3f5f\",\"arrowhead\":0,\"arrowwidth\":1},\"geo\":{\"bgcolor\":\"white\",\"landcolor\":\"#E5ECF6\",\"subunitcolor\":\"white\",\"showland\":true,\"showlakes\":true,\"lakecolor\":\"white\"},\"title\":{\"x\":0.05},\"mapbox\":{\"style\":\"light\"}}},\"xaxis\":{\"anchor\":\"y\",\"domain\":[0.0,1.0],\"title\":{\"text\":\"index\"}},\"yaxis\":{\"anchor\":\"x\",\"domain\":[0.0,1.0],\"title\":{\"text\":\"PM2.5\"}},\"legend\":{\"title\":{\"text\":\"variable\"},\"tracegroupgap\":0},\"margin\":{\"t\":60}},                        {\"responsive\": true}                    ).then(function(){\n",
              "                            \n",
              "var gd = document.getElementById('692ab709-99d0-4fe0-8555-817e991fe031');\n",
              "var x = new MutationObserver(function (mutations, observer) {{\n",
              "        var display = window.getComputedStyle(gd).display;\n",
              "        if (!display || display === 'none') {{\n",
              "            console.log([gd, 'removed!']);\n",
              "            Plotly.purge(gd);\n",
              "            observer.disconnect();\n",
              "        }}\n",
              "}});\n",
              "\n",
              "// Listen for the removal of the full notebook cells\n",
              "var notebookContainer = gd.closest('#notebook-container');\n",
              "if (notebookContainer) {{\n",
              "    x.observe(notebookContainer, {childList: true});\n",
              "}}\n",
              "\n",
              "// Listen for the clearing of the current output cell\n",
              "var outputEl = gd.closest('.output');\n",
              "if (outputEl) {{\n",
              "    x.observe(outputEl, {childList: true});\n",
              "}}\n",
              "\n",
              "                        })                };                            </script>        </div>\n",
              "</body>\n",
              "</html>"
            ]
          },
          "metadata": {}
        }
      ]
    },
    {
      "cell_type": "markdown",
      "source": [
        "This is not a good plot. Traditional test evaluation does not work when working with a Time Series Model"
      ],
      "metadata": {
        "id": "35jYs5d-QHN0"
      }
    },
    {
      "cell_type": "markdown",
      "source": [
        "Walk Forward Validation(wfv)"
      ],
      "metadata": {
        "id": "0HnEJmGpR0kN"
      }
    },
    {
      "cell_type": "markdown",
      "source": [
        "Validation is evaluating how well a model performs on unseen data, ensuring it can generalize beyond the data it was trained on.\n",
        "\n",
        "My predictions lose power over time because the model gets further and further away from its beginning. What if I could move that beginning forward with the model? ie. Retrain each model for each new observation in the dataset, dropping the data that is farthest in the plot.\n",
        "\n",
        "I want to look at the last prediction of the training data, the first row of the test data then an out of sample prediction of the next timestamp."
      ],
      "metadata": {
        "id": "J-f_h_KwSMFg"
      }
    },
    {
      "cell_type": "code",
      "source": [
        "#last prediction of the training data\n",
        "history = y_train_ar.copy()\n",
        "print(\"history:\", history.tail(1))\n",
        "#First row of test data\n",
        "model_ar = AutoReg(history, lags=2).fit()\n",
        "print(\"forecast:\", model_ar.forecast()) #out of sample prediction of the next timestamp"
      ],
      "metadata": {
        "colab": {
          "base_uri": "https://localhost:8080/"
        },
        "id": "0S2erjnhQDH3",
        "outputId": "e1387a5d-0743-48cd-bf27-e47ecb78109a"
      },
      "execution_count": 76,
      "outputs": [
        {
          "output_type": "stream",
          "name": "stdout",
          "text": [
            "history: 2016-12-17 00:00:00+08:00    149.732639\n",
            "Freq: D, Name: PM2.5, dtype: float64\n",
            "forecast: 2016-12-18 00:00:00+08:00    131.758862\n",
            "Freq: D, dtype: float64\n"
          ]
        }
      ]
    },
    {
      "cell_type": "markdown",
      "source": [
        "I want to create a Series of my wfv prediction. Then I will train my model on history data and generate a forecast(next timestamp). After that, I will append my forecasts to my pd.Series.\n",
        "\n",
        "I will also go into my test set, get the next data point at the next timestamp and append to my history, that is, find equivalent test data point that is at the same timestamp."
      ],
      "metadata": {
        "id": "EZB_TQwFVwUt"
      }
    },
    {
      "cell_type": "code",
      "source": [
        "# Initialize variables\n",
        "y_pred_wfv_ar = pd.Series(dtype='float64')\n",
        "history = y_train_ar.copy()\n",
        "\n",
        "# Walk-forward validation loop\n",
        "for i in range(len(y_test_ar)):\n",
        "    model_ar = AutoReg(history, lags=2).fit()\n",
        "    next_pred_ar = model_ar.forecast()\n",
        "    # Concatenate the new prediction to y_pred_wfv_ar\n",
        "    y_pred_wfv_ar = pd.concat([y_pred_wfv_ar, next_pred_ar])\n",
        "    # Concatenate the actual test data point to history\n",
        "    history = pd.concat([history, y_test_ar[next_pred_ar.index]])\n"
      ],
      "metadata": {
        "id": "kKaEVRV8Uhjz"
      },
      "execution_count": 81,
      "outputs": []
    },
    {
      "cell_type": "code",
      "source": [
        "#Test Evaluation\n",
        "mae_test_wfv = mean_absolute_error(y_test_ar, y_pred_wfv_ar)\n",
        "print(\"wfv_test_mae:\", mae_test_ar)\n",
        "print(model_ar.params)"
      ],
      "metadata": {
        "colab": {
          "base_uri": "https://localhost:8080/"
        },
        "id": "Sb8XCHTKZqGf",
        "outputId": "b0b17e4f-701d-4976-c8d9-a7f6f5223ca7"
      },
      "execution_count": 84,
      "outputs": [
        {
          "output_type": "stream",
          "name": "stdout",
          "text": [
            "wfv_test_mae: 63.439210930346505\n",
            "const       41.621008\n",
            "PM2.5.L1     0.669920\n",
            "PM2.5.L2    -0.211557\n",
            "dtype: float64\n"
          ]
        }
      ]
    },
    {
      "cell_type": "code",
      "source": [
        "df_pred_test_ar_wfv = pd.DataFrame(\n",
        "    {\n",
        "        \"y_test_ar\" : y_test_ar,\n",
        "        \"y_pred_wfv_ar\" : y_pred_wfv_ar\n",
        "    },\n",
        "        index = y_test_ar.index\n",
        ")\n",
        "df_pred_test_ar.head()\n",
        "#Plot wfv predictions\n",
        "fig = px.line(df_pred_test_ar_wfv, labels = {\"value\" : \"PM2.5\"})\n",
        "fig.show()\n"
      ],
      "metadata": {
        "colab": {
          "base_uri": "https://localhost:8080/",
          "height": 542
        },
        "id": "xOsGAeKWaIvh",
        "outputId": "d64498b8-5447-409c-d5c3-4faca2cbf5ce"
      },
      "execution_count": 85,
      "outputs": [
        {
          "output_type": "display_data",
          "data": {
            "text/html": [
              "<html>\n",
              "<head><meta charset=\"utf-8\" /></head>\n",
              "<body>\n",
              "    <div>            <script src=\"https://cdnjs.cloudflare.com/ajax/libs/mathjax/2.7.5/MathJax.js?config=TeX-AMS-MML_SVG\"></script><script type=\"text/javascript\">if (window.MathJax && window.MathJax.Hub && window.MathJax.Hub.Config) {window.MathJax.Hub.Config({SVG: {font: \"STIX-Web\"}});}</script>                <script type=\"text/javascript\">window.PlotlyConfig = {MathJaxConfig: 'local'};</script>\n",
              "        <script charset=\"utf-8\" src=\"https://cdn.plot.ly/plotly-2.35.2.min.js\"></script>                <div id=\"61f600de-2ec1-4373-932f-4dbf6daa4467\" class=\"plotly-graph-div\" style=\"height:525px; width:100%;\"></div>            <script type=\"text/javascript\">                                    window.PLOTLYENV=window.PLOTLYENV || {};                                    if (document.getElementById(\"61f600de-2ec1-4373-932f-4dbf6daa4467\")) {                    Plotly.newPlot(                        \"61f600de-2ec1-4373-932f-4dbf6daa4467\",                        [{\"hovertemplate\":\"variable=y_test_ar\\u003cbr\\u003eindex=%{x}\\u003cbr\\u003ePM2.5=%{y}\\u003cextra\\u003e\\u003c\\u002fextra\\u003e\",\"legendgroup\":\"y_test_ar\",\"line\":{\"color\":\"#636efa\",\"dash\":\"solid\"},\"marker\":{\"symbol\":\"circle\"},\"mode\":\"lines\",\"name\":\"y_test_ar\",\"orientation\":\"v\",\"showlegend\":true,\"x\":[\"2016-12-18T00:00:00+08:00\",\"2016-12-19T00:00:00+08:00\",\"2016-12-20T00:00:00+08:00\",\"2016-12-21T00:00:00+08:00\",\"2016-12-22T00:00:00+08:00\",\"2016-12-23T00:00:00+08:00\",\"2016-12-24T00:00:00+08:00\",\"2016-12-25T00:00:00+08:00\",\"2016-12-26T00:00:00+08:00\",\"2016-12-27T00:00:00+08:00\",\"2016-12-28T00:00:00+08:00\",\"2016-12-29T00:00:00+08:00\",\"2016-12-30T00:00:00+08:00\",\"2016-12-31T00:00:00+08:00\",\"2017-01-01T00:00:00+08:00\",\"2017-01-02T00:00:00+08:00\",\"2017-01-03T00:00:00+08:00\",\"2017-01-04T00:00:00+08:00\",\"2017-01-05T00:00:00+08:00\",\"2017-01-06T00:00:00+08:00\",\"2017-01-07T00:00:00+08:00\",\"2017-01-08T00:00:00+08:00\",\"2017-01-09T00:00:00+08:00\",\"2017-01-10T00:00:00+08:00\",\"2017-01-11T00:00:00+08:00\",\"2017-01-12T00:00:00+08:00\",\"2017-01-13T00:00:00+08:00\",\"2017-01-14T00:00:00+08:00\",\"2017-01-15T00:00:00+08:00\",\"2017-01-16T00:00:00+08:00\",\"2017-01-17T00:00:00+08:00\",\"2017-01-18T00:00:00+08:00\",\"2017-01-19T00:00:00+08:00\",\"2017-01-20T00:00:00+08:00\",\"2017-01-21T00:00:00+08:00\",\"2017-01-22T00:00:00+08:00\",\"2017-01-23T00:00:00+08:00\",\"2017-01-24T00:00:00+08:00\",\"2017-01-25T00:00:00+08:00\",\"2017-01-26T00:00:00+08:00\",\"2017-01-27T00:00:00+08:00\",\"2017-01-28T00:00:00+08:00\",\"2017-01-29T00:00:00+08:00\",\"2017-01-30T00:00:00+08:00\",\"2017-01-31T00:00:00+08:00\",\"2017-02-01T00:00:00+08:00\",\"2017-02-02T00:00:00+08:00\",\"2017-02-03T00:00:00+08:00\",\"2017-02-04T00:00:00+08:00\",\"2017-02-05T00:00:00+08:00\",\"2017-02-06T00:00:00+08:00\",\"2017-02-07T00:00:00+08:00\",\"2017-02-08T00:00:00+08:00\",\"2017-02-09T00:00:00+08:00\",\"2017-02-10T00:00:00+08:00\",\"2017-02-11T00:00:00+08:00\",\"2017-02-12T00:00:00+08:00\",\"2017-02-13T00:00:00+08:00\",\"2017-02-14T00:00:00+08:00\",\"2017-02-15T00:00:00+08:00\",\"2017-02-16T00:00:00+08:00\",\"2017-02-17T00:00:00+08:00\",\"2017-02-18T00:00:00+08:00\",\"2017-02-19T00:00:00+08:00\",\"2017-02-20T00:00:00+08:00\",\"2017-02-21T00:00:00+08:00\",\"2017-02-22T00:00:00+08:00\",\"2017-02-23T00:00:00+08:00\",\"2017-02-24T00:00:00+08:00\",\"2017-02-25T00:00:00+08:00\",\"2017-02-26T00:00:00+08:00\",\"2017-02-27T00:00:00+08:00\",\"2017-02-28T00:00:00+08:00\",\"2017-03-01T00:00:00+08:00\"],\"xaxis\":\"x\",\"y\":[215.704280155642,206.82926829268294,239.91954022988506,315.7536231884058,34.98757763975155,15.336879432624114,86.58333333333333,141.4607142857143,97.23239436619718,15.114285714285714,87.28521126760563,16.258064516129032,126.78571428571429,224.7344398340249,245.66666666666666,132.9225806451613,219.91176470588235,199.26829268292684,249.48510638297873,182.01754385964912,198.07986111111111,66.77003484320558,17.121951219512194,33.20701754385965,53.11805555555556,41.78472222222222,30.958333333333332,16.083333333333332,42.19444444444444,86.63541666666667,126.12937062937063,74.63541666666667,59.99652777777778,10.253472222222221,37.642361111111114,11.92361111111111,29.23611111111111,64.83333333333333,141.59420289855072,224.1338028169014,16.03472222222222,197.84,115.56597222222223,9.159722222222221,75.36458333333333,25.206293706293707,70.85106382978724,111.31468531468532,262.2899628252788,44.445692883895134,7.815972222222222,52.0,62.14930555555556,7.855072463768116,6.375,12.496527777777779,96.9578947368421,94.34375,128.00347222222223,223.2237762237762,187.6853146853147,7.947916666666667,66.48611111111111,128.07638888888889,7.604395604395604,46.03468208092485,88.05755395683454,16.329749103942653,30.285211267605632,11.294736842105262,18.964664310954063,60.34057971014493,29.116104868913858,14.166666666666666],\"yaxis\":\"y\",\"type\":\"scatter\"},{\"hovertemplate\":\"variable=y_pred_wfv_ar\\u003cbr\\u003eindex=%{x}\\u003cbr\\u003ePM2.5=%{y}\\u003cextra\\u003e\\u003c\\u002fextra\\u003e\",\"legendgroup\":\"y_pred_wfv_ar\",\"line\":{\"color\":\"#EF553B\",\"dash\":\"solid\"},\"marker\":{\"symbol\":\"circle\"},\"mode\":\"lines\",\"name\":\"y_pred_wfv_ar\",\"orientation\":\"v\",\"showlegend\":true,\"x\":[\"2016-12-18T00:00:00+08:00\",\"2016-12-19T00:00:00+08:00\",\"2016-12-20T00:00:00+08:00\",\"2016-12-21T00:00:00+08:00\",\"2016-12-22T00:00:00+08:00\",\"2016-12-23T00:00:00+08:00\",\"2016-12-24T00:00:00+08:00\",\"2016-12-25T00:00:00+08:00\",\"2016-12-26T00:00:00+08:00\",\"2016-12-27T00:00:00+08:00\",\"2016-12-28T00:00:00+08:00\",\"2016-12-29T00:00:00+08:00\",\"2016-12-30T00:00:00+08:00\",\"2016-12-31T00:00:00+08:00\",\"2017-01-01T00:00:00+08:00\",\"2017-01-02T00:00:00+08:00\",\"2017-01-03T00:00:00+08:00\",\"2017-01-04T00:00:00+08:00\",\"2017-01-05T00:00:00+08:00\",\"2017-01-06T00:00:00+08:00\",\"2017-01-07T00:00:00+08:00\",\"2017-01-08T00:00:00+08:00\",\"2017-01-09T00:00:00+08:00\",\"2017-01-10T00:00:00+08:00\",\"2017-01-11T00:00:00+08:00\",\"2017-01-12T00:00:00+08:00\",\"2017-01-13T00:00:00+08:00\",\"2017-01-14T00:00:00+08:00\",\"2017-01-15T00:00:00+08:00\",\"2017-01-16T00:00:00+08:00\",\"2017-01-17T00:00:00+08:00\",\"2017-01-18T00:00:00+08:00\",\"2017-01-19T00:00:00+08:00\",\"2017-01-20T00:00:00+08:00\",\"2017-01-21T00:00:00+08:00\",\"2017-01-22T00:00:00+08:00\",\"2017-01-23T00:00:00+08:00\",\"2017-01-24T00:00:00+08:00\",\"2017-01-25T00:00:00+08:00\",\"2017-01-26T00:00:00+08:00\",\"2017-01-27T00:00:00+08:00\",\"2017-01-28T00:00:00+08:00\",\"2017-01-29T00:00:00+08:00\",\"2017-01-30T00:00:00+08:00\",\"2017-01-31T00:00:00+08:00\",\"2017-02-01T00:00:00+08:00\",\"2017-02-02T00:00:00+08:00\",\"2017-02-03T00:00:00+08:00\",\"2017-02-04T00:00:00+08:00\",\"2017-02-05T00:00:00+08:00\",\"2017-02-06T00:00:00+08:00\",\"2017-02-07T00:00:00+08:00\",\"2017-02-08T00:00:00+08:00\",\"2017-02-09T00:00:00+08:00\",\"2017-02-10T00:00:00+08:00\",\"2017-02-11T00:00:00+08:00\",\"2017-02-12T00:00:00+08:00\",\"2017-02-13T00:00:00+08:00\",\"2017-02-14T00:00:00+08:00\",\"2017-02-15T00:00:00+08:00\",\"2017-02-16T00:00:00+08:00\",\"2017-02-17T00:00:00+08:00\",\"2017-02-18T00:00:00+08:00\",\"2017-02-19T00:00:00+08:00\",\"2017-02-20T00:00:00+08:00\",\"2017-02-21T00:00:00+08:00\",\"2017-02-22T00:00:00+08:00\",\"2017-02-23T00:00:00+08:00\",\"2017-02-24T00:00:00+08:00\",\"2017-02-25T00:00:00+08:00\",\"2017-02-26T00:00:00+08:00\",\"2017-02-27T00:00:00+08:00\",\"2017-02-28T00:00:00+08:00\",\"2017-03-01T00:00:00+08:00\"],\"xaxis\":\"x\",\"y\":[131.7588615463679,155.15090352982887,133.47299970602413,159.17295409757443,205.4782561960868,-8.872306108226695,43.9693563267783,97.81603338965081,119.02102558949578,75.52842244318404,29.175091149782485,98.40142884374104,32.46865311129097,125.05010213140874,166.87787010528518,158.67474794077162,75.63358153397054,162.5880146219479,128.437144164961,168.54405200243843,110.46444760544065,137.36282577065856,42.666155864797666,37.96426181459219,60.3537028510252,70.4743952632728,58.08837780078062,53.13551898401525,45.243323743974926,66.69015414932585,91.57725902433923,108.88961181300726,64.23043291702413,65.77485230452396,34.59933768842516,64.86967089510532,40.77134265088667,58.56981651508777,79.32074472244952,124.50892281862231,164.55684904802956,1.3391121423274157,172.80494845361426,77.21458364448385,22.44874783016239,90.59509898633888,42.20004625837589,83.96469988248492,101.61902467158394,195.6856419259394,15.57641064158934,37.41906184954948,75.01010902562314,72.37702397153717,33.623590324152296,44.17341150931597,48.55264128041055,104.2017931839453,84.3821884578634,107.63522083021702,164.81350522872793,120.55552002455414,6.47402994366535,84.77805593016163,113.70103545382355,19.53789085243851,71.07013983048618,91.06390091686437,34.01393612311189,58.60636384302994,42.85510367446575,51.98711603281633,78.10022840817535,48.360994829635686],\"yaxis\":\"y\",\"type\":\"scatter\"}],                        {\"template\":{\"data\":{\"histogram2dcontour\":[{\"type\":\"histogram2dcontour\",\"colorbar\":{\"outlinewidth\":0,\"ticks\":\"\"},\"colorscale\":[[0.0,\"#0d0887\"],[0.1111111111111111,\"#46039f\"],[0.2222222222222222,\"#7201a8\"],[0.3333333333333333,\"#9c179e\"],[0.4444444444444444,\"#bd3786\"],[0.5555555555555556,\"#d8576b\"],[0.6666666666666666,\"#ed7953\"],[0.7777777777777778,\"#fb9f3a\"],[0.8888888888888888,\"#fdca26\"],[1.0,\"#f0f921\"]]}],\"choropleth\":[{\"type\":\"choropleth\",\"colorbar\":{\"outlinewidth\":0,\"ticks\":\"\"}}],\"histogram2d\":[{\"type\":\"histogram2d\",\"colorbar\":{\"outlinewidth\":0,\"ticks\":\"\"},\"colorscale\":[[0.0,\"#0d0887\"],[0.1111111111111111,\"#46039f\"],[0.2222222222222222,\"#7201a8\"],[0.3333333333333333,\"#9c179e\"],[0.4444444444444444,\"#bd3786\"],[0.5555555555555556,\"#d8576b\"],[0.6666666666666666,\"#ed7953\"],[0.7777777777777778,\"#fb9f3a\"],[0.8888888888888888,\"#fdca26\"],[1.0,\"#f0f921\"]]}],\"heatmap\":[{\"type\":\"heatmap\",\"colorbar\":{\"outlinewidth\":0,\"ticks\":\"\"},\"colorscale\":[[0.0,\"#0d0887\"],[0.1111111111111111,\"#46039f\"],[0.2222222222222222,\"#7201a8\"],[0.3333333333333333,\"#9c179e\"],[0.4444444444444444,\"#bd3786\"],[0.5555555555555556,\"#d8576b\"],[0.6666666666666666,\"#ed7953\"],[0.7777777777777778,\"#fb9f3a\"],[0.8888888888888888,\"#fdca26\"],[1.0,\"#f0f921\"]]}],\"heatmapgl\":[{\"type\":\"heatmapgl\",\"colorbar\":{\"outlinewidth\":0,\"ticks\":\"\"},\"colorscale\":[[0.0,\"#0d0887\"],[0.1111111111111111,\"#46039f\"],[0.2222222222222222,\"#7201a8\"],[0.3333333333333333,\"#9c179e\"],[0.4444444444444444,\"#bd3786\"],[0.5555555555555556,\"#d8576b\"],[0.6666666666666666,\"#ed7953\"],[0.7777777777777778,\"#fb9f3a\"],[0.8888888888888888,\"#fdca26\"],[1.0,\"#f0f921\"]]}],\"contourcarpet\":[{\"type\":\"contourcarpet\",\"colorbar\":{\"outlinewidth\":0,\"ticks\":\"\"}}],\"contour\":[{\"type\":\"contour\",\"colorbar\":{\"outlinewidth\":0,\"ticks\":\"\"},\"colorscale\":[[0.0,\"#0d0887\"],[0.1111111111111111,\"#46039f\"],[0.2222222222222222,\"#7201a8\"],[0.3333333333333333,\"#9c179e\"],[0.4444444444444444,\"#bd3786\"],[0.5555555555555556,\"#d8576b\"],[0.6666666666666666,\"#ed7953\"],[0.7777777777777778,\"#fb9f3a\"],[0.8888888888888888,\"#fdca26\"],[1.0,\"#f0f921\"]]}],\"surface\":[{\"type\":\"surface\",\"colorbar\":{\"outlinewidth\":0,\"ticks\":\"\"},\"colorscale\":[[0.0,\"#0d0887\"],[0.1111111111111111,\"#46039f\"],[0.2222222222222222,\"#7201a8\"],[0.3333333333333333,\"#9c179e\"],[0.4444444444444444,\"#bd3786\"],[0.5555555555555556,\"#d8576b\"],[0.6666666666666666,\"#ed7953\"],[0.7777777777777778,\"#fb9f3a\"],[0.8888888888888888,\"#fdca26\"],[1.0,\"#f0f921\"]]}],\"mesh3d\":[{\"type\":\"mesh3d\",\"colorbar\":{\"outlinewidth\":0,\"ticks\":\"\"}}],\"scatter\":[{\"fillpattern\":{\"fillmode\":\"overlay\",\"size\":10,\"solidity\":0.2},\"type\":\"scatter\"}],\"parcoords\":[{\"type\":\"parcoords\",\"line\":{\"colorbar\":{\"outlinewidth\":0,\"ticks\":\"\"}}}],\"scatterpolargl\":[{\"type\":\"scatterpolargl\",\"marker\":{\"colorbar\":{\"outlinewidth\":0,\"ticks\":\"\"}}}],\"bar\":[{\"error_x\":{\"color\":\"#2a3f5f\"},\"error_y\":{\"color\":\"#2a3f5f\"},\"marker\":{\"line\":{\"color\":\"#E5ECF6\",\"width\":0.5},\"pattern\":{\"fillmode\":\"overlay\",\"size\":10,\"solidity\":0.2}},\"type\":\"bar\"}],\"scattergeo\":[{\"type\":\"scattergeo\",\"marker\":{\"colorbar\":{\"outlinewidth\":0,\"ticks\":\"\"}}}],\"scatterpolar\":[{\"type\":\"scatterpolar\",\"marker\":{\"colorbar\":{\"outlinewidth\":0,\"ticks\":\"\"}}}],\"histogram\":[{\"marker\":{\"pattern\":{\"fillmode\":\"overlay\",\"size\":10,\"solidity\":0.2}},\"type\":\"histogram\"}],\"scattergl\":[{\"type\":\"scattergl\",\"marker\":{\"colorbar\":{\"outlinewidth\":0,\"ticks\":\"\"}}}],\"scatter3d\":[{\"type\":\"scatter3d\",\"line\":{\"colorbar\":{\"outlinewidth\":0,\"ticks\":\"\"}},\"marker\":{\"colorbar\":{\"outlinewidth\":0,\"ticks\":\"\"}}}],\"scattermapbox\":[{\"type\":\"scattermapbox\",\"marker\":{\"colorbar\":{\"outlinewidth\":0,\"ticks\":\"\"}}}],\"scatterternary\":[{\"type\":\"scatterternary\",\"marker\":{\"colorbar\":{\"outlinewidth\":0,\"ticks\":\"\"}}}],\"scattercarpet\":[{\"type\":\"scattercarpet\",\"marker\":{\"colorbar\":{\"outlinewidth\":0,\"ticks\":\"\"}}}],\"carpet\":[{\"aaxis\":{\"endlinecolor\":\"#2a3f5f\",\"gridcolor\":\"white\",\"linecolor\":\"white\",\"minorgridcolor\":\"white\",\"startlinecolor\":\"#2a3f5f\"},\"baxis\":{\"endlinecolor\":\"#2a3f5f\",\"gridcolor\":\"white\",\"linecolor\":\"white\",\"minorgridcolor\":\"white\",\"startlinecolor\":\"#2a3f5f\"},\"type\":\"carpet\"}],\"table\":[{\"cells\":{\"fill\":{\"color\":\"#EBF0F8\"},\"line\":{\"color\":\"white\"}},\"header\":{\"fill\":{\"color\":\"#C8D4E3\"},\"line\":{\"color\":\"white\"}},\"type\":\"table\"}],\"barpolar\":[{\"marker\":{\"line\":{\"color\":\"#E5ECF6\",\"width\":0.5},\"pattern\":{\"fillmode\":\"overlay\",\"size\":10,\"solidity\":0.2}},\"type\":\"barpolar\"}],\"pie\":[{\"automargin\":true,\"type\":\"pie\"}]},\"layout\":{\"autotypenumbers\":\"strict\",\"colorway\":[\"#636efa\",\"#EF553B\",\"#00cc96\",\"#ab63fa\",\"#FFA15A\",\"#19d3f3\",\"#FF6692\",\"#B6E880\",\"#FF97FF\",\"#FECB52\"],\"font\":{\"color\":\"#2a3f5f\"},\"hovermode\":\"closest\",\"hoverlabel\":{\"align\":\"left\"},\"paper_bgcolor\":\"white\",\"plot_bgcolor\":\"#E5ECF6\",\"polar\":{\"bgcolor\":\"#E5ECF6\",\"angularaxis\":{\"gridcolor\":\"white\",\"linecolor\":\"white\",\"ticks\":\"\"},\"radialaxis\":{\"gridcolor\":\"white\",\"linecolor\":\"white\",\"ticks\":\"\"}},\"ternary\":{\"bgcolor\":\"#E5ECF6\",\"aaxis\":{\"gridcolor\":\"white\",\"linecolor\":\"white\",\"ticks\":\"\"},\"baxis\":{\"gridcolor\":\"white\",\"linecolor\":\"white\",\"ticks\":\"\"},\"caxis\":{\"gridcolor\":\"white\",\"linecolor\":\"white\",\"ticks\":\"\"}},\"coloraxis\":{\"colorbar\":{\"outlinewidth\":0,\"ticks\":\"\"}},\"colorscale\":{\"sequential\":[[0.0,\"#0d0887\"],[0.1111111111111111,\"#46039f\"],[0.2222222222222222,\"#7201a8\"],[0.3333333333333333,\"#9c179e\"],[0.4444444444444444,\"#bd3786\"],[0.5555555555555556,\"#d8576b\"],[0.6666666666666666,\"#ed7953\"],[0.7777777777777778,\"#fb9f3a\"],[0.8888888888888888,\"#fdca26\"],[1.0,\"#f0f921\"]],\"sequentialminus\":[[0.0,\"#0d0887\"],[0.1111111111111111,\"#46039f\"],[0.2222222222222222,\"#7201a8\"],[0.3333333333333333,\"#9c179e\"],[0.4444444444444444,\"#bd3786\"],[0.5555555555555556,\"#d8576b\"],[0.6666666666666666,\"#ed7953\"],[0.7777777777777778,\"#fb9f3a\"],[0.8888888888888888,\"#fdca26\"],[1.0,\"#f0f921\"]],\"diverging\":[[0,\"#8e0152\"],[0.1,\"#c51b7d\"],[0.2,\"#de77ae\"],[0.3,\"#f1b6da\"],[0.4,\"#fde0ef\"],[0.5,\"#f7f7f7\"],[0.6,\"#e6f5d0\"],[0.7,\"#b8e186\"],[0.8,\"#7fbc41\"],[0.9,\"#4d9221\"],[1,\"#276419\"]]},\"xaxis\":{\"gridcolor\":\"white\",\"linecolor\":\"white\",\"ticks\":\"\",\"title\":{\"standoff\":15},\"zerolinecolor\":\"white\",\"automargin\":true,\"zerolinewidth\":2},\"yaxis\":{\"gridcolor\":\"white\",\"linecolor\":\"white\",\"ticks\":\"\",\"title\":{\"standoff\":15},\"zerolinecolor\":\"white\",\"automargin\":true,\"zerolinewidth\":2},\"scene\":{\"xaxis\":{\"backgroundcolor\":\"#E5ECF6\",\"gridcolor\":\"white\",\"linecolor\":\"white\",\"showbackground\":true,\"ticks\":\"\",\"zerolinecolor\":\"white\",\"gridwidth\":2},\"yaxis\":{\"backgroundcolor\":\"#E5ECF6\",\"gridcolor\":\"white\",\"linecolor\":\"white\",\"showbackground\":true,\"ticks\":\"\",\"zerolinecolor\":\"white\",\"gridwidth\":2},\"zaxis\":{\"backgroundcolor\":\"#E5ECF6\",\"gridcolor\":\"white\",\"linecolor\":\"white\",\"showbackground\":true,\"ticks\":\"\",\"zerolinecolor\":\"white\",\"gridwidth\":2}},\"shapedefaults\":{\"line\":{\"color\":\"#2a3f5f\"}},\"annotationdefaults\":{\"arrowcolor\":\"#2a3f5f\",\"arrowhead\":0,\"arrowwidth\":1},\"geo\":{\"bgcolor\":\"white\",\"landcolor\":\"#E5ECF6\",\"subunitcolor\":\"white\",\"showland\":true,\"showlakes\":true,\"lakecolor\":\"white\"},\"title\":{\"x\":0.05},\"mapbox\":{\"style\":\"light\"}}},\"xaxis\":{\"anchor\":\"y\",\"domain\":[0.0,1.0],\"title\":{\"text\":\"index\"}},\"yaxis\":{\"anchor\":\"x\",\"domain\":[0.0,1.0],\"title\":{\"text\":\"PM2.5\"}},\"legend\":{\"title\":{\"text\":\"variable\"},\"tracegroupgap\":0},\"margin\":{\"t\":60}},                        {\"responsive\": true}                    ).then(function(){\n",
              "                            \n",
              "var gd = document.getElementById('61f600de-2ec1-4373-932f-4dbf6daa4467');\n",
              "var x = new MutationObserver(function (mutations, observer) {{\n",
              "        var display = window.getComputedStyle(gd).display;\n",
              "        if (!display || display === 'none') {{\n",
              "            console.log([gd, 'removed!']);\n",
              "            Plotly.purge(gd);\n",
              "            observer.disconnect();\n",
              "        }}\n",
              "}});\n",
              "\n",
              "// Listen for the removal of the full notebook cells\n",
              "var notebookContainer = gd.closest('#notebook-container');\n",
              "if (notebookContainer) {{\n",
              "    x.observe(notebookContainer, {childList: true});\n",
              "}}\n",
              "\n",
              "// Listen for the clearing of the current output cell\n",
              "var outputEl = gd.closest('.output');\n",
              "if (outputEl) {{\n",
              "    x.observe(outputEl, {childList: true});\n",
              "}}\n",
              "\n",
              "                        })                };                            </script>        </div>\n",
              "</body>\n",
              "</html>"
            ]
          },
          "metadata": {}
        }
      ]
    },
    {
      "cell_type": "code",
      "source": [],
      "metadata": {
        "id": "Y_sSBzr5azsZ"
      },
      "execution_count": null,
      "outputs": []
    }
  ]
}